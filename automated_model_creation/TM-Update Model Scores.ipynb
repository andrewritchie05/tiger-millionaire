{
 "cells": [
  {
   "cell_type": "code",
   "execution_count": 1,
   "metadata": {},
   "outputs": [],
   "source": [
    "import pandas as pd\n",
    "import numpy as np\n",
    "from functions import *\n",
    "import random\n",
    "import csv\n",
    "from sklearn.linear_model import LogisticRegression\n",
    "from sklearn.tree import DecisionTreeClassifier\n",
    "from sklearn.ensemble import GradientBoostingClassifier\n",
    "\n",
    "remove_fight_island = False"
   ]
  },
  {
   "cell_type": "code",
   "execution_count": 2,
   "metadata": {},
   "outputs": [
    {
     "name": "stdout",
     "output_type": "stream",
     "text": [
      "5\n"
     ]
    }
   ],
   "source": [
    "#Load models\n",
    "#REMINDER: We are going to need to use 'eval' to get the models usable\n",
    "with open('models.csv', newline='') as f:\n",
    "    reader = csv.reader(f)\n",
    "    models = list(reader)\n",
    "    \n",
    "print(len(models))\n"
   ]
  },
  {
   "cell_type": "code",
   "execution_count": 3,
   "metadata": {},
   "outputs": [
    {
     "data": {
      "text/plain": [
       "[['model_0',\n",
       "  'model_1',\n",
       "  'model_2',\n",
       "  'model_3',\n",
       "  'model_4',\n",
       "  'model_06_13_20',\n",
       "  'model_06_20_20',\n",
       "  'model_6_27_20',\n",
       "  'model_7_18_20',\n",
       "  'model_7_25_20',\n",
       "  'model_9_2_20',\n",
       "  'model_9_10_20',\n",
       "  'model_10_23_20',\n",
       "  'model_10_27_20',\n",
       "  'model_10_28_20'],\n",
       " ['LogisticRegression(max_iter=50000, random_state=75)',\n",
       "  \"DecisionTreeClassifier(max_depth=27, max_leaf_nodes=336, min_samples_leaf=0.1,\\n                       random_state=75, splitter='random')\",\n",
       "  \"RandomForestClassifier(criterion='entropy', max_depth=10,\\n                       min_samples_leaf=0.101, n_estimators=22, n_jobs=-1,\\n                       random_state=75)\",\n",
       "  \"GradientBoostingClassifier(max_depth=17, max_features='sqrt',\\n                           max_leaf_nodes=316, min_samples_leaf=0.1,\\n                           n_estimators=195, random_state=75)\",\n",
       "  'GaussianNB(var_smoothing=1e-08)',\n",
       "  'LogisticRegression(max_iter=50000, random_state=75, tol=5.993308915320019)',\n",
       "  'GaussianNB()',\n",
       "  'GaussianNB()',\n",
       "  'GradientBoostingClassifier(n_estimators=122, random_state=75)',\n",
       "  'GaussianNB()',\n",
       "  'GaussianNB(var_smoothing=1e-12)',\n",
       "  'GaussianNB(var_smoothing=1e-12)',\n",
       "  'GradientBoostingClassifier(max_depth=95, min_samples_leaf=6, n_estimators=195,\\n                           random_state=75)',\n",
       "  \"RandomForestClassifier(criterion='entropy', max_depth=10, n_estimators=197,\\n                       n_jobs=-1, random_state=75)\",\n",
       "  \"RandomForestClassifier(criterion='entropy', max_depth=10, n_estimators=22,\\n                       n_jobs=-1, random_state=75)\"],\n",
       " [\"['R_draw', 'R_Light Heavyweight_rank', 'R_win_by_Decision_Split', 'age_dif', 'B_ev']\",\n",
       "  \"['gender', 'R_ev', 'B_avg_SIG_STR_landed']\",\n",
       "  \"['R_Reach_cms', 'R_avg_TD_landed', 'age_dif', 'B_avg_TD_pct', 'R_ev']\",\n",
       "  \"['R_current_lose_streak', 'B_avg_SIG_STR_pct', 'R_Stance', 'R_win_by_Decision_Unanimous', 'B_age', 'B_avg_SUB_ATT', 'reach_dif', 'country', 'R_odds']\",\n",
       "  '[\\'R_win_by_Decision_Unanimous\\', \\'B_Weight_lbs\\', \\'avg_td_dif\\', \\'sub_dif\\', \\'lose_streak_dif\\', \"R_Women\\'s Strawweight_rank\", \\'R_Middleweight_rank\\', \\'B_Lightweight_rank\\', \\'R_ev\\', \\'B_Stance\\']',\n",
       "  \"['B_win_by_Decision_Majority', 'B_win_by_TKO_Doctor_Stoppage', 'R_win_by_Decision_Majority', 'R_odds', 'R_current_lose_streak', 'R_Reach_cms', 'B_draw', 'total_round_dif', 'R_ev', 'B_ev']\",\n",
       "  \"['R_win_by_Decision_Unanimous', 'B_win_by_Submission', 'R_Weight_lbs', 'sig_str_dif', 'B_Height_cms', 'B_avg_SUB_ATT', 'R_win_by_TKO_Doctor_Stoppage', 'height_dif', 'B_draw', 'avg_td_dif', 'R_win_by_Decision_Split', 'age_dif', 'B_current_win_streak', 'R_odds']\",\n",
       "  \"['R_longest_win_streak', 'longest_win_streak_dif', 'reach_dif', 'avg_sub_att_dif', 'R_win_by_Decision_Unanimous', 'B_win_by_Submission', 'R_Weight_lbs', 'sig_str_dif', 'B_Height_cms', 'B_avg_SUB_ATT', 'R_win_by_TKO_Doctor_Stoppage', 'height_dif', 'B_draw', 'avg_td_dif', 'R_win_by_Decision_Split', 'age_dif', 'B_current_win_streak', 'R_odds']\",\n",
       "  \"['B_current_win_streak', 'R_win_by_Submission', 'B_win_by_Decision_Unanimous', 'R_win_by_Decision_Unanimous', 'R_current_lose_streak', 'B_win_by_TKO_Doctor_Stoppage', 'win_dif', 'B_win_by_Decision_Split', 'B_wins', 'R_Stance', 'B_age', 'B_Weight_lbs', 'R_ev', 'B_total_rounds_fought', 'location', 'R_odds', 'R_Reach_cms', 'R_Weight_lbs', 'R_current_win_streak', 'R_age', 'empty_arena', 'R_win_by_Decision_Split', 'R_draw', 'lose_streak_dif', 'B_draw']\",\n",
       "  \"['R_Reach_cms', 'total_round_dif', 'R_Height_cms', 'R_avg_SIG_STR_pct', 'B_age', 'R_longest_win_streak', 'lose_streak_dif', 'ko_dif', 'R_win_by_Decision_Majority', 'longest_win_streak_dif', 'avg_sub_att_dif', 'R_Weight_lbs', 'sig_str_dif', 'B_Height_cms', 'B_avg_SUB_ATT', 'R_win_by_TKO_Doctor_Stoppage', 'B_draw', 'avg_td_dif', 'R_win_by_Decision_Split', 'age_dif', 'B_current_win_streak', 'R_odds']\",\n",
       "  \"['win_streak_dif', 'B_Light Heavyweight_rank', 'B_Lightweight_rank', 'R_avg_TD_landed', 'R_Middleweight_rank', 'total_round_dif', 'R_Height_cms', 'R_avg_SIG_STR_pct', 'B_age', 'R_longest_win_streak', 'lose_streak_dif', 'R_win_by_Decision_Majority', 'longest_win_streak_dif', 'avg_sub_att_dif', 'R_Weight_lbs', 'sig_str_dif', 'B_Height_cms', 'B_avg_SUB_ATT', 'R_win_by_TKO_Doctor_Stoppage', 'B_draw', 'avg_td_dif', 'R_win_by_Decision_Split', 'age_dif', 'R_odds']\",\n",
       "  \"['B_Weight_lbs', 'B_Flyweight_rank', 'B_avg_TD_landed', 'B_Light Heavyweight_rank', 'B_Lightweight_rank', 'R_avg_TD_landed', 'R_Middleweight_rank', 'R_Height_cms', 'R_avg_SIG_STR_pct', 'B_age', 'R_longest_win_streak', 'lose_streak_dif', 'R_win_by_Decision_Majority', 'longest_win_streak_dif', 'avg_sub_att_dif', 'sig_str_dif', 'B_avg_SUB_ATT', 'R_win_by_TKO_Doctor_Stoppage', 'B_draw', 'R_win_by_Decision_Split', 'age_dif', 'R_odds']\",\n",
       "  \"['weight_class', 'B_Reach_cms', 'B_Welterweight_rank', 'B_total_title_bouts', 'R_avg_TD_pct', 'B_Bantamweight_rank', 'R_Featherweight_rank', 'no_of_rounds', 'B_draw', 'B_Stance', 'R_win_by_TKO_Doctor_Stoppage', 'R_current_win_streak', 'B_avg_SIG_STR_landed', 'country']\",\n",
       "  '[\\'R_Height_cms\\', \\'R_Bantamweight_rank\\', \\'B_current_lose_streak\\', \\'avg_sub_att_dif\\', \\'B_Middleweight_rank\\', \\'R_current_win_streak\\', \\'total_round_dif\\', \\'B_avg_SUB_ATT\\', \\'B_avg_SIG_STR_landed\\', \\'age_dif\\', \\'B_Light Heavyweight_rank\\', \\'R_avg_TD_pct\\', \\'R_ev\\', \"B_Women\\'s Flyweight_rank\", \"B_Women\\'s Strawweight_rank\", \\'B_Bantamweight_rank\\', \\'R_Reach_cms\\', \\'B_win_by_Decision_Unanimous\\', \\'constant_1\\']',\n",
       "  '[\\'B_Stance\\', \\'R_current_lose_streak\\', \\'loss_dif\\', \\'B_win_by_Decision_Split\\', \\'R_Height_cms\\', \\'R_Bantamweight_rank\\', \\'B_current_lose_streak\\', \\'avg_sub_att_dif\\', \\'B_Middleweight_rank\\', \\'R_current_win_streak\\', \\'total_round_dif\\', \\'B_avg_SUB_ATT\\', \\'B_avg_SIG_STR_landed\\', \\'age_dif\\', \\'B_Light Heavyweight_rank\\', \\'R_avg_TD_pct\\', \\'R_ev\\', \"B_Women\\'s Flyweight_rank\", \"B_Women\\'s Strawweight_rank\", \\'B_Bantamweight_rank\\', \\'R_Reach_cms\\', \\'B_win_by_Decision_Unanimous\\', \\'constant_1\\']'],\n",
       " ['0', '4', '0', '0', '0', '0', '0', '0', '0', '1', '3', '2', '27', '1', '5'],\n",
       " ['173.1684847',\n",
       "  '-208.59182319063598',\n",
       "  '-827.0117854538566',\n",
       "  '662.3292884444202',\n",
       "  '-1162.4687784517437',\n",
       "  '1205.652357',\n",
       "  '385.0625139',\n",
       "  '990.0325213',\n",
       "  '-469.6786711',\n",
       "  '-372.6349433',\n",
       "  '-583.4522165',\n",
       "  '-11.15784433',\n",
       "  '233.6262205',\n",
       "  '-690.9821024',\n",
       "  '-16.7945354']]"
      ]
     },
     "execution_count": 3,
     "metadata": {},
     "output_type": "execute_result"
    }
   ],
   "source": [
    "models"
   ]
  },
  {
   "cell_type": "code",
   "execution_count": 4,
   "metadata": {},
   "outputs": [],
   "source": [
    "df = pd.read_csv(\"../data/ufc-master.csv\")"
   ]
  },
  {
   "cell_type": "code",
   "execution_count": 5,
   "metadata": {},
   "outputs": [
    {
     "name": "stdout",
     "output_type": "stream",
     "text": [
      "200\n",
      "200\n",
      "200\n",
      "4533\n",
      "4533\n",
      "4533\n"
     ]
    },
    {
     "name": "stderr",
     "output_type": "stream",
     "text": [
      "<ipython-input-5-e95d4bafa98e>:5: SettingWithCopyWarning: \n",
      "A value is trying to be set on a copy of a slice from a DataFrame\n",
      "\n",
      "See the caveats in the documentation: https://pandas.pydata.org/pandas-docs/stable/user_guide/indexing.html#returning-a-view-versus-a-copy\n",
      "  df['label'][mask] = 0\n",
      "<ipython-input-5-e95d4bafa98e>:7: SettingWithCopyWarning: \n",
      "A value is trying to be set on a copy of a slice from a DataFrame\n",
      "\n",
      "See the caveats in the documentation: https://pandas.pydata.org/pandas-docs/stable/user_guide/indexing.html#returning-a-view-versus-a-copy\n",
      "  df['label'][mask] = 1\n"
     ]
    }
   ],
   "source": [
    "#Let's put all the labels in a dataframe\n",
    "df['label'] = ''\n",
    "#If the winner is not Red or Blue we can remove it.\n",
    "mask = df['Winner'] == 'Red'\n",
    "df['label'][mask] = 0\n",
    "mask = df['Winner'] == 'Blue'\n",
    "df['label'][mask] = 1\n",
    "\n",
    "#df[\"Winner\"] = df[\"Winner\"].astype('category')\n",
    "df = df[(df['Winner'] == 'Blue') | (df['Winner'] == 'Red')]\n",
    "\n",
    "\n",
    "#Make sure lable is numeric\n",
    "df['label'] = pd.to_numeric(df['label'], errors='coerce')\n",
    "\n",
    "#Let's fix the date\n",
    "df['date'] = pd.to_datetime(df['date'])\n",
    "\n",
    "#Create a label df:\n",
    "label_df = df['label']\n",
    "\n",
    "#Let's create an odds df too:\n",
    "odds_df = df[['R_odds', 'B_odds']]\n",
    "\n",
    "#Split the test set.  We are always(?) going to use the last 200 matches as the test set, so we don't want those around\n",
    "#as we pick models\n",
    "\n",
    "df_train = df[200:]\n",
    "odds_train = odds_df[200:]\n",
    "label_train = label_df[200:]\n",
    "\n",
    "df_test = df[:200]\n",
    "odds_test = odds_df[:200]\n",
    "label_test = label_df[:200]\n",
    "\n",
    "print(len(df_test))\n",
    "print(len(odds_test))\n",
    "print(len(label_test))\n",
    "\n",
    "print(len(df_train))\n",
    "print(len(odds_train))\n",
    "print(len(label_train))"
   ]
  },
  {
   "cell_type": "code",
   "execution_count": 6,
   "metadata": {},
   "outputs": [
    {
     "name": "stdout",
     "output_type": "stream",
     "text": [
      "200\n",
      "4533\n"
     ]
    }
   ],
   "source": [
    "if remove_fight_island:\n",
    "    ##Let's remove the Fight island contests and see how that affects score\n",
    "    df_test_no_fight_island = df_test[(df_test['location'] != 'Abu Dhabi, Abu Dhabi, United Arab Emirates')]\n",
    "    df_train_no_fight_island = df_train[(df_train['location'] != 'Abu Dhabi, Abu Dhabi, United Arab Emirates')]\n",
    "    df_test = df_test_no_fight_island\n",
    "    df_train = df_train_no_fight_island\n",
    "\n",
    "\n",
    "\n",
    "print(len(df_test))\n",
    "print(len(df_train))\n"
   ]
  },
  {
   "cell_type": "code",
   "execution_count": 7,
   "metadata": {},
   "outputs": [
    {
     "name": "stderr",
     "output_type": "stream",
     "text": [
      "C:\\Users\\matth\\anaconda3\\lib\\site-packages\\pandas\\core\\frame.py:3191: SettingWithCopyWarning: \n",
      "A value is trying to be set on a copy of a slice from a DataFrame.\n",
      "Try using .loc[row_indexer,col_indexer] = value instead\n",
      "\n",
      "See the caveats in the documentation: https://pandas.pydata.org/pandas-docs/stable/user_guide/indexing.html#returning-a-view-versus-a-copy\n",
      "  self[k1] = value[k2]\n"
     ]
    }
   ],
   "source": [
    "#Set a value for the nulls in the ranks\n",
    "\n",
    "weightclass_list = ['B_match_weightclass_rank', 'R_match_weightclass_rank', \"R_Women's Flyweight_rank\", \"R_Women's Featherweight_rank\", \"R_Women's Strawweight_rank\", \"R_Women's Bantamweight_rank\", 'R_Heavyweight_rank', 'R_Light Heavyweight_rank', 'R_Middleweight_rank', 'R_Welterweight_rank', 'R_Lightweight_rank', 'R_Featherweight_rank', 'R_Bantamweight_rank', 'R_Flyweight_rank', 'R_Pound-for-Pound_rank', \"B_Women's Flyweight_rank\", \"B_Women's Featherweight_rank\", \"B_Women's Strawweight_rank\", \"B_Women's Bantamweight_rank\", 'B_Heavyweight_rank', 'B_Light Heavyweight_rank', 'B_Middleweight_rank', 'B_Welterweight_rank', 'B_Lightweight_rank', 'B_Featherweight_rank', 'B_Bantamweight_rank', 'B_Flyweight_rank', 'B_Pound-for-Pound_rank']\n",
    "df_train[weightclass_list] = df_train[weightclass_list].fillna(17)\n",
    "df_test[weightclass_list] = df_test[weightclass_list].fillna(17)"
   ]
  },
  {
   "cell_type": "code",
   "execution_count": 8,
   "metadata": {},
   "outputs": [
    {
     "data": {
      "text/plain": [
       "15"
      ]
     },
     "execution_count": 8,
     "metadata": {},
     "output_type": "execute_result"
    }
   ],
   "source": [
    "len(models[0])"
   ]
  },
  {
   "cell_type": "code",
   "execution_count": null,
   "metadata": {},
   "outputs": [],
   "source": []
  },
  {
   "cell_type": "code",
   "execution_count": 9,
   "metadata": {},
   "outputs": [
    {
     "data": {
      "text/plain": [
       "(4533, 5)"
      ]
     },
     "metadata": {},
     "output_type": "display_data"
    },
    {
     "data": {
      "text/plain": [
       "(4533,)"
      ]
     },
     "metadata": {},
     "output_type": "display_data"
    },
    {
     "data": {
      "text/plain": [
       "(4533, 2)"
      ]
     },
     "metadata": {},
     "output_type": "display_data"
    },
    {
     "data": {
      "text/plain": [
       "(200, 5)"
      ]
     },
     "metadata": {},
     "output_type": "display_data"
    },
    {
     "data": {
      "text/plain": [
       "(200,)"
      ]
     },
     "metadata": {},
     "output_type": "display_data"
    },
    {
     "data": {
      "text/plain": [
       "(200, 2)"
      ]
     },
     "metadata": {},
     "output_type": "display_data"
    },
    {
     "data": {
      "text/html": [
       "<div>\n",
       "<style scoped>\n",
       "    .dataframe tbody tr th:only-of-type {\n",
       "        vertical-align: middle;\n",
       "    }\n",
       "\n",
       "    .dataframe tbody tr th {\n",
       "        vertical-align: top;\n",
       "    }\n",
       "\n",
       "    .dataframe thead th {\n",
       "        text-align: right;\n",
       "    }\n",
       "</style>\n",
       "<table border=\"1\" class=\"dataframe\">\n",
       "  <thead>\n",
       "    <tr style=\"text-align: right;\">\n",
       "      <th></th>\n",
       "      <th>t1_odds</th>\n",
       "      <th>t2_odds</th>\n",
       "      <th>t1_prob</th>\n",
       "      <th>t2_prob</th>\n",
       "      <th>winner</th>\n",
       "    </tr>\n",
       "  </thead>\n",
       "  <tbody>\n",
       "    <tr>\n",
       "      <th>0</th>\n",
       "      <td>-118</td>\n",
       "      <td>-106</td>\n",
       "      <td>0.531385</td>\n",
       "      <td>0.468615</td>\n",
       "      <td>0</td>\n",
       "    </tr>\n",
       "    <tr>\n",
       "      <th>1</th>\n",
       "      <td>140</td>\n",
       "      <td>-177</td>\n",
       "      <td>0.465793</td>\n",
       "      <td>0.534207</td>\n",
       "      <td>1</td>\n",
       "    </tr>\n",
       "    <tr>\n",
       "      <th>2</th>\n",
       "      <td>-150</td>\n",
       "      <td>120</td>\n",
       "      <td>0.541859</td>\n",
       "      <td>0.458141</td>\n",
       "      <td>0</td>\n",
       "    </tr>\n",
       "    <tr>\n",
       "      <th>3</th>\n",
       "      <td>105</td>\n",
       "      <td>-134</td>\n",
       "      <td>0.521104</td>\n",
       "      <td>0.478896</td>\n",
       "      <td>0</td>\n",
       "    </tr>\n",
       "    <tr>\n",
       "      <th>4</th>\n",
       "      <td>-177</td>\n",
       "      <td>140</td>\n",
       "      <td>0.568112</td>\n",
       "      <td>0.431888</td>\n",
       "      <td>1</td>\n",
       "    </tr>\n",
       "    <tr>\n",
       "      <th>...</th>\n",
       "      <td>...</td>\n",
       "      <td>...</td>\n",
       "      <td>...</td>\n",
       "      <td>...</td>\n",
       "      <td>...</td>\n",
       "    </tr>\n",
       "    <tr>\n",
       "      <th>195</th>\n",
       "      <td>-155</td>\n",
       "      <td>125</td>\n",
       "      <td>0.598221</td>\n",
       "      <td>0.401779</td>\n",
       "      <td>0</td>\n",
       "    </tr>\n",
       "    <tr>\n",
       "      <th>196</th>\n",
       "      <td>-175</td>\n",
       "      <td>135</td>\n",
       "      <td>0.593591</td>\n",
       "      <td>0.406409</td>\n",
       "      <td>1</td>\n",
       "    </tr>\n",
       "    <tr>\n",
       "      <th>197</th>\n",
       "      <td>-530</td>\n",
       "      <td>375</td>\n",
       "      <td>0.832203</td>\n",
       "      <td>0.167797</td>\n",
       "      <td>0</td>\n",
       "    </tr>\n",
       "    <tr>\n",
       "      <th>198</th>\n",
       "      <td>170</td>\n",
       "      <td>-215</td>\n",
       "      <td>0.436955</td>\n",
       "      <td>0.563045</td>\n",
       "      <td>1</td>\n",
       "    </tr>\n",
       "    <tr>\n",
       "      <th>199</th>\n",
       "      <td>-162</td>\n",
       "      <td>138</td>\n",
       "      <td>0.522425</td>\n",
       "      <td>0.477575</td>\n",
       "      <td>0</td>\n",
       "    </tr>\n",
       "  </tbody>\n",
       "</table>\n",
       "<p>200 rows × 5 columns</p>\n",
       "</div>"
      ],
      "text/plain": [
       "     t1_odds  t2_odds   t1_prob   t2_prob  winner\n",
       "0       -118     -106  0.531385  0.468615       0\n",
       "1        140     -177  0.465793  0.534207       1\n",
       "2       -150      120  0.541859  0.458141       0\n",
       "3        105     -134  0.521104  0.478896       0\n",
       "4       -177      140  0.568112  0.431888       1\n",
       "..       ...      ...       ...       ...     ...\n",
       "195     -155      125  0.598221  0.401779       0\n",
       "196     -175      135  0.593591  0.406409       1\n",
       "197     -530      375  0.832203  0.167797       0\n",
       "198      170     -215  0.436955  0.563045       1\n",
       "199     -162      138  0.522425  0.477575       0\n",
       "\n",
       "[200 rows x 5 columns]"
      ]
     },
     "metadata": {},
     "output_type": "display_data"
    },
    {
     "name": "stdout",
     "output_type": "stream",
     "text": [
      "\n",
      "          Number of matches: 200\n",
      "          Number of bets: 155\n",
      "          Number of winning bets: 70\n",
      "          Number of losing bets: 85\n",
      "          Number of underdog bets: 118\n",
      "          Number of underdog wins: 47\n",
      "          Number of underdog losses: 71\n",
      "          Number of Favorite bets: 36\n",
      "          Number of favorite wins: 22\n",
      "          Number of favorite losses: 14\n",
      "          Number of even bets: 1\n",
      "          Number of even wins: 1\n",
      "          Number of even losses: 0\n",
      "          Profit: 179.2841997796204\n",
      "          Profit per bet: 1.1566722566427121\n",
      "          Profit per match: 0.896420998898102\n",
      "          \n",
      "          \n"
     ]
    },
    {
     "data": {
      "text/plain": [
       "(3603, 4)"
      ]
     },
     "metadata": {},
     "output_type": "display_data"
    },
    {
     "data": {
      "text/plain": [
       "(3603,)"
      ]
     },
     "metadata": {},
     "output_type": "display_data"
    },
    {
     "data": {
      "text/plain": [
       "(3603, 2)"
      ]
     },
     "metadata": {},
     "output_type": "display_data"
    },
    {
     "data": {
      "text/plain": [
       "(200, 4)"
      ]
     },
     "metadata": {},
     "output_type": "display_data"
    },
    {
     "data": {
      "text/plain": [
       "(200,)"
      ]
     },
     "metadata": {},
     "output_type": "display_data"
    },
    {
     "data": {
      "text/plain": [
       "(200, 2)"
      ]
     },
     "metadata": {},
     "output_type": "display_data"
    },
    {
     "data": {
      "text/html": [
       "<div>\n",
       "<style scoped>\n",
       "    .dataframe tbody tr th:only-of-type {\n",
       "        vertical-align: middle;\n",
       "    }\n",
       "\n",
       "    .dataframe tbody tr th {\n",
       "        vertical-align: top;\n",
       "    }\n",
       "\n",
       "    .dataframe thead th {\n",
       "        text-align: right;\n",
       "    }\n",
       "</style>\n",
       "<table border=\"1\" class=\"dataframe\">\n",
       "  <thead>\n",
       "    <tr style=\"text-align: right;\">\n",
       "      <th></th>\n",
       "      <th>t1_odds</th>\n",
       "      <th>t2_odds</th>\n",
       "      <th>t1_prob</th>\n",
       "      <th>t2_prob</th>\n",
       "      <th>winner</th>\n",
       "    </tr>\n",
       "  </thead>\n",
       "  <tbody>\n",
       "    <tr>\n",
       "      <th>0</th>\n",
       "      <td>-118</td>\n",
       "      <td>-106</td>\n",
       "      <td>0.523981</td>\n",
       "      <td>0.476019</td>\n",
       "      <td>0</td>\n",
       "    </tr>\n",
       "    <tr>\n",
       "      <th>1</th>\n",
       "      <td>140</td>\n",
       "      <td>-177</td>\n",
       "      <td>0.353093</td>\n",
       "      <td>0.646907</td>\n",
       "      <td>1</td>\n",
       "    </tr>\n",
       "    <tr>\n",
       "      <th>2</th>\n",
       "      <td>-150</td>\n",
       "      <td>120</td>\n",
       "      <td>0.523981</td>\n",
       "      <td>0.476019</td>\n",
       "      <td>0</td>\n",
       "    </tr>\n",
       "    <tr>\n",
       "      <th>3</th>\n",
       "      <td>105</td>\n",
       "      <td>-134</td>\n",
       "      <td>0.500000</td>\n",
       "      <td>0.500000</td>\n",
       "      <td>0</td>\n",
       "    </tr>\n",
       "    <tr>\n",
       "      <th>4</th>\n",
       "      <td>-177</td>\n",
       "      <td>140</td>\n",
       "      <td>0.652256</td>\n",
       "      <td>0.347744</td>\n",
       "      <td>1</td>\n",
       "    </tr>\n",
       "    <tr>\n",
       "      <th>...</th>\n",
       "      <td>...</td>\n",
       "      <td>...</td>\n",
       "      <td>...</td>\n",
       "      <td>...</td>\n",
       "      <td>...</td>\n",
       "    </tr>\n",
       "    <tr>\n",
       "      <th>195</th>\n",
       "      <td>-155</td>\n",
       "      <td>125</td>\n",
       "      <td>0.523981</td>\n",
       "      <td>0.476019</td>\n",
       "      <td>0</td>\n",
       "    </tr>\n",
       "    <tr>\n",
       "      <th>196</th>\n",
       "      <td>-175</td>\n",
       "      <td>135</td>\n",
       "      <td>0.652256</td>\n",
       "      <td>0.347744</td>\n",
       "      <td>1</td>\n",
       "    </tr>\n",
       "    <tr>\n",
       "      <th>197</th>\n",
       "      <td>-530</td>\n",
       "      <td>375</td>\n",
       "      <td>0.817323</td>\n",
       "      <td>0.182677</td>\n",
       "      <td>0</td>\n",
       "    </tr>\n",
       "    <tr>\n",
       "      <th>198</th>\n",
       "      <td>170</td>\n",
       "      <td>-215</td>\n",
       "      <td>0.353093</td>\n",
       "      <td>0.646907</td>\n",
       "      <td>1</td>\n",
       "    </tr>\n",
       "    <tr>\n",
       "      <th>199</th>\n",
       "      <td>-162</td>\n",
       "      <td>138</td>\n",
       "      <td>0.523981</td>\n",
       "      <td>0.476019</td>\n",
       "      <td>0</td>\n",
       "    </tr>\n",
       "  </tbody>\n",
       "</table>\n",
       "<p>200 rows × 5 columns</p>\n",
       "</div>"
      ],
      "text/plain": [
       "     t1_odds  t2_odds   t1_prob   t2_prob  winner\n",
       "0       -118     -106  0.523981  0.476019       0\n",
       "1        140     -177  0.353093  0.646907       1\n",
       "2       -150      120  0.523981  0.476019       0\n",
       "3        105     -134  0.500000  0.500000       0\n",
       "4       -177      140  0.652256  0.347744       1\n",
       "..       ...      ...       ...       ...     ...\n",
       "195     -155      125  0.523981  0.476019       0\n",
       "196     -175      135  0.652256  0.347744       1\n",
       "197     -530      375  0.817323  0.182677       0\n",
       "198      170     -215  0.353093  0.646907       1\n",
       "199     -162      138  0.523981  0.476019       0\n",
       "\n",
       "[200 rows x 5 columns]"
      ]
     },
     "metadata": {},
     "output_type": "display_data"
    },
    {
     "name": "stdout",
     "output_type": "stream",
     "text": [
      "\n",
      "          Number of matches: 200\n",
      "          Number of bets: 77\n",
      "          Number of winning bets: 35\n",
      "          Number of losing bets: 42\n",
      "          Number of underdog bets: 57\n",
      "          Number of underdog wins: 22\n",
      "          Number of underdog losses: 35\n",
      "          Number of Favorite bets: 20\n",
      "          Number of favorite wins: 13\n",
      "          Number of favorite losses: 7\n",
      "          Number of even bets: 0\n",
      "          Number of even wins: 0\n",
      "          Number of even losses: 0\n",
      "          Profit: -338.59182319063575\n",
      "          Profit per bet: -4.397296405073192\n",
      "          Profit per match: -1.6929591159531787\n",
      "          \n",
      "          \n"
     ]
    },
    {
     "data": {
      "text/plain": [
       "(3580, 5)"
      ]
     },
     "metadata": {},
     "output_type": "display_data"
    },
    {
     "data": {
      "text/plain": [
       "(3580,)"
      ]
     },
     "metadata": {},
     "output_type": "display_data"
    },
    {
     "data": {
      "text/plain": [
       "(3580, 2)"
      ]
     },
     "metadata": {},
     "output_type": "display_data"
    },
    {
     "data": {
      "text/plain": [
       "(200, 5)"
      ]
     },
     "metadata": {},
     "output_type": "display_data"
    },
    {
     "data": {
      "text/plain": [
       "(200,)"
      ]
     },
     "metadata": {},
     "output_type": "display_data"
    },
    {
     "data": {
      "text/plain": [
       "(200, 2)"
      ]
     },
     "metadata": {},
     "output_type": "display_data"
    },
    {
     "data": {
      "text/html": [
       "<div>\n",
       "<style scoped>\n",
       "    .dataframe tbody tr th:only-of-type {\n",
       "        vertical-align: middle;\n",
       "    }\n",
       "\n",
       "    .dataframe tbody tr th {\n",
       "        vertical-align: top;\n",
       "    }\n",
       "\n",
       "    .dataframe thead th {\n",
       "        text-align: right;\n",
       "    }\n",
       "</style>\n",
       "<table border=\"1\" class=\"dataframe\">\n",
       "  <thead>\n",
       "    <tr style=\"text-align: right;\">\n",
       "      <th></th>\n",
       "      <th>t1_odds</th>\n",
       "      <th>t2_odds</th>\n",
       "      <th>t1_prob</th>\n",
       "      <th>t2_prob</th>\n",
       "      <th>winner</th>\n",
       "    </tr>\n",
       "  </thead>\n",
       "  <tbody>\n",
       "    <tr>\n",
       "      <th>0</th>\n",
       "      <td>-118</td>\n",
       "      <td>-106</td>\n",
       "      <td>0.543740</td>\n",
       "      <td>0.456260</td>\n",
       "      <td>0</td>\n",
       "    </tr>\n",
       "    <tr>\n",
       "      <th>1</th>\n",
       "      <td>140</td>\n",
       "      <td>-177</td>\n",
       "      <td>0.483727</td>\n",
       "      <td>0.516273</td>\n",
       "      <td>1</td>\n",
       "    </tr>\n",
       "    <tr>\n",
       "      <th>2</th>\n",
       "      <td>-150</td>\n",
       "      <td>120</td>\n",
       "      <td>0.570151</td>\n",
       "      <td>0.429849</td>\n",
       "      <td>0</td>\n",
       "    </tr>\n",
       "    <tr>\n",
       "      <th>3</th>\n",
       "      <td>105</td>\n",
       "      <td>-134</td>\n",
       "      <td>0.506055</td>\n",
       "      <td>0.493945</td>\n",
       "      <td>0</td>\n",
       "    </tr>\n",
       "    <tr>\n",
       "      <th>4</th>\n",
       "      <td>-177</td>\n",
       "      <td>140</td>\n",
       "      <td>0.666739</td>\n",
       "      <td>0.333261</td>\n",
       "      <td>1</td>\n",
       "    </tr>\n",
       "    <tr>\n",
       "      <th>...</th>\n",
       "      <td>...</td>\n",
       "      <td>...</td>\n",
       "      <td>...</td>\n",
       "      <td>...</td>\n",
       "      <td>...</td>\n",
       "    </tr>\n",
       "    <tr>\n",
       "      <th>195</th>\n",
       "      <td>-155</td>\n",
       "      <td>125</td>\n",
       "      <td>0.541368</td>\n",
       "      <td>0.458632</td>\n",
       "      <td>0</td>\n",
       "    </tr>\n",
       "    <tr>\n",
       "      <th>196</th>\n",
       "      <td>-175</td>\n",
       "      <td>135</td>\n",
       "      <td>0.688016</td>\n",
       "      <td>0.311984</td>\n",
       "      <td>1</td>\n",
       "    </tr>\n",
       "    <tr>\n",
       "      <th>197</th>\n",
       "      <td>-530</td>\n",
       "      <td>375</td>\n",
       "      <td>0.632711</td>\n",
       "      <td>0.367289</td>\n",
       "      <td>0</td>\n",
       "    </tr>\n",
       "    <tr>\n",
       "      <th>198</th>\n",
       "      <td>170</td>\n",
       "      <td>-215</td>\n",
       "      <td>0.490220</td>\n",
       "      <td>0.509780</td>\n",
       "      <td>1</td>\n",
       "    </tr>\n",
       "    <tr>\n",
       "      <th>199</th>\n",
       "      <td>-162</td>\n",
       "      <td>138</td>\n",
       "      <td>0.482402</td>\n",
       "      <td>0.517598</td>\n",
       "      <td>0</td>\n",
       "    </tr>\n",
       "  </tbody>\n",
       "</table>\n",
       "<p>200 rows × 5 columns</p>\n",
       "</div>"
      ],
      "text/plain": [
       "     t1_odds  t2_odds   t1_prob   t2_prob  winner\n",
       "0       -118     -106  0.543740  0.456260       0\n",
       "1        140     -177  0.483727  0.516273       1\n",
       "2       -150      120  0.570151  0.429849       0\n",
       "3        105     -134  0.506055  0.493945       0\n",
       "4       -177      140  0.666739  0.333261       1\n",
       "..       ...      ...       ...       ...     ...\n",
       "195     -155      125  0.541368  0.458632       0\n",
       "196     -175      135  0.688016  0.311984       1\n",
       "197     -530      375  0.632711  0.367289       0\n",
       "198      170     -215  0.490220  0.509780       1\n",
       "199     -162      138  0.482402  0.517598       0\n",
       "\n",
       "[200 rows x 5 columns]"
      ]
     },
     "metadata": {},
     "output_type": "display_data"
    },
    {
     "name": "stdout",
     "output_type": "stream",
     "text": [
      "\n",
      "          Number of matches: 200\n",
      "          Number of bets: 168\n",
      "          Number of winning bets: 66\n",
      "          Number of losing bets: 103\n",
      "          Number of underdog bets: 136\n",
      "          Number of underdog wins: 48\n",
      "          Number of underdog losses: 88\n",
      "          Number of Favorite bets: 32\n",
      "          Number of favorite wins: 17\n",
      "          Number of favorite losses: 15\n",
      "          Number of even bets: 1\n",
      "          Number of even wins: 1\n",
      "          Number of even losses: 0\n",
      "          Profit: -1338.3073379483208\n",
      "          Profit per bet: -7.966115106835242\n",
      "          Profit per match: -6.6915366897416035\n",
      "          \n",
      "          \n"
     ]
    },
    {
     "data": {
      "text/plain": [
       "(3701, 39)"
      ]
     },
     "metadata": {},
     "output_type": "display_data"
    },
    {
     "data": {
      "text/plain": [
       "(3701,)"
      ]
     },
     "metadata": {},
     "output_type": "display_data"
    },
    {
     "data": {
      "text/plain": [
       "(3701, 2)"
      ]
     },
     "metadata": {},
     "output_type": "display_data"
    },
    {
     "data": {
      "text/plain": [
       "(200, 39)"
      ]
     },
     "metadata": {},
     "output_type": "display_data"
    },
    {
     "data": {
      "text/plain": [
       "(200,)"
      ]
     },
     "metadata": {},
     "output_type": "display_data"
    },
    {
     "data": {
      "text/plain": [
       "(200, 2)"
      ]
     },
     "metadata": {},
     "output_type": "display_data"
    },
    {
     "data": {
      "text/html": [
       "<div>\n",
       "<style scoped>\n",
       "    .dataframe tbody tr th:only-of-type {\n",
       "        vertical-align: middle;\n",
       "    }\n",
       "\n",
       "    .dataframe tbody tr th {\n",
       "        vertical-align: top;\n",
       "    }\n",
       "\n",
       "    .dataframe thead th {\n",
       "        text-align: right;\n",
       "    }\n",
       "</style>\n",
       "<table border=\"1\" class=\"dataframe\">\n",
       "  <thead>\n",
       "    <tr style=\"text-align: right;\">\n",
       "      <th></th>\n",
       "      <th>t1_odds</th>\n",
       "      <th>t2_odds</th>\n",
       "      <th>t1_prob</th>\n",
       "      <th>t2_prob</th>\n",
       "      <th>winner</th>\n",
       "    </tr>\n",
       "  </thead>\n",
       "  <tbody>\n",
       "    <tr>\n",
       "      <th>0</th>\n",
       "      <td>-118</td>\n",
       "      <td>-106</td>\n",
       "      <td>0.527496</td>\n",
       "      <td>0.472504</td>\n",
       "      <td>0</td>\n",
       "    </tr>\n",
       "    <tr>\n",
       "      <th>1</th>\n",
       "      <td>140</td>\n",
       "      <td>-177</td>\n",
       "      <td>0.480975</td>\n",
       "      <td>0.519025</td>\n",
       "      <td>1</td>\n",
       "    </tr>\n",
       "    <tr>\n",
       "      <th>2</th>\n",
       "      <td>-150</td>\n",
       "      <td>120</td>\n",
       "      <td>0.594422</td>\n",
       "      <td>0.405578</td>\n",
       "      <td>0</td>\n",
       "    </tr>\n",
       "    <tr>\n",
       "      <th>3</th>\n",
       "      <td>105</td>\n",
       "      <td>-134</td>\n",
       "      <td>0.412684</td>\n",
       "      <td>0.587316</td>\n",
       "      <td>0</td>\n",
       "    </tr>\n",
       "    <tr>\n",
       "      <th>4</th>\n",
       "      <td>-177</td>\n",
       "      <td>140</td>\n",
       "      <td>0.558221</td>\n",
       "      <td>0.441779</td>\n",
       "      <td>1</td>\n",
       "    </tr>\n",
       "    <tr>\n",
       "      <th>...</th>\n",
       "      <td>...</td>\n",
       "      <td>...</td>\n",
       "      <td>...</td>\n",
       "      <td>...</td>\n",
       "      <td>...</td>\n",
       "    </tr>\n",
       "    <tr>\n",
       "      <th>195</th>\n",
       "      <td>-155</td>\n",
       "      <td>125</td>\n",
       "      <td>0.612567</td>\n",
       "      <td>0.387433</td>\n",
       "      <td>0</td>\n",
       "    </tr>\n",
       "    <tr>\n",
       "      <th>196</th>\n",
       "      <td>-175</td>\n",
       "      <td>135</td>\n",
       "      <td>0.616008</td>\n",
       "      <td>0.383992</td>\n",
       "      <td>1</td>\n",
       "    </tr>\n",
       "    <tr>\n",
       "      <th>197</th>\n",
       "      <td>-530</td>\n",
       "      <td>375</td>\n",
       "      <td>0.825985</td>\n",
       "      <td>0.174015</td>\n",
       "      <td>0</td>\n",
       "    </tr>\n",
       "    <tr>\n",
       "      <th>198</th>\n",
       "      <td>170</td>\n",
       "      <td>-215</td>\n",
       "      <td>0.459713</td>\n",
       "      <td>0.540287</td>\n",
       "      <td>1</td>\n",
       "    </tr>\n",
       "    <tr>\n",
       "      <th>199</th>\n",
       "      <td>-162</td>\n",
       "      <td>138</td>\n",
       "      <td>0.577948</td>\n",
       "      <td>0.422052</td>\n",
       "      <td>0</td>\n",
       "    </tr>\n",
       "  </tbody>\n",
       "</table>\n",
       "<p>200 rows × 5 columns</p>\n",
       "</div>"
      ],
      "text/plain": [
       "     t1_odds  t2_odds   t1_prob   t2_prob  winner\n",
       "0       -118     -106  0.527496  0.472504       0\n",
       "1        140     -177  0.480975  0.519025       1\n",
       "2       -150      120  0.594422  0.405578       0\n",
       "3        105     -134  0.412684  0.587316       0\n",
       "4       -177      140  0.558221  0.441779       1\n",
       "..       ...      ...       ...       ...     ...\n",
       "195     -155      125  0.612567  0.387433       0\n",
       "196     -175      135  0.616008  0.383992       1\n",
       "197     -530      375  0.825985  0.174015       0\n",
       "198      170     -215  0.459713  0.540287       1\n",
       "199     -162      138  0.577948  0.422052       0\n",
       "\n",
       "[200 rows x 5 columns]"
      ]
     },
     "metadata": {},
     "output_type": "display_data"
    },
    {
     "name": "stdout",
     "output_type": "stream",
     "text": [
      "\n",
      "          Number of matches: 200\n",
      "          Number of bets: 158\n",
      "          Number of winning bets: 87\n",
      "          Number of losing bets: 71\n",
      "          Number of underdog bets: 82\n",
      "          Number of underdog wins: 36\n",
      "          Number of underdog losses: 46\n",
      "          Number of Favorite bets: 74\n",
      "          Number of favorite wins: 51\n",
      "          Number of favorite losses: 23\n",
      "          Number of even bets: 2\n",
      "          Number of even wins: 0\n",
      "          Number of even losses: 2\n",
      "          Profit: 755.499978736892\n",
      "          Profit per bet: 4.78164543504362\n",
      "          Profit per match: 3.77749989368446\n",
      "          \n",
      "          \n"
     ]
    },
    {
     "data": {
      "text/plain": [
       "(4533, 14)"
      ]
     },
     "metadata": {},
     "output_type": "display_data"
    },
    {
     "data": {
      "text/plain": [
       "(4533,)"
      ]
     },
     "metadata": {},
     "output_type": "display_data"
    },
    {
     "data": {
      "text/plain": [
       "(4533, 2)"
      ]
     },
     "metadata": {},
     "output_type": "display_data"
    },
    {
     "data": {
      "text/plain": [
       "(198, 14)"
      ]
     },
     "metadata": {},
     "output_type": "display_data"
    },
    {
     "data": {
      "text/plain": [
       "(198,)"
      ]
     },
     "metadata": {},
     "output_type": "display_data"
    },
    {
     "data": {
      "text/plain": [
       "(198, 2)"
      ]
     },
     "metadata": {},
     "output_type": "display_data"
    },
    {
     "data": {
      "text/html": [
       "<div>\n",
       "<style scoped>\n",
       "    .dataframe tbody tr th:only-of-type {\n",
       "        vertical-align: middle;\n",
       "    }\n",
       "\n",
       "    .dataframe tbody tr th {\n",
       "        vertical-align: top;\n",
       "    }\n",
       "\n",
       "    .dataframe thead th {\n",
       "        text-align: right;\n",
       "    }\n",
       "</style>\n",
       "<table border=\"1\" class=\"dataframe\">\n",
       "  <thead>\n",
       "    <tr style=\"text-align: right;\">\n",
       "      <th></th>\n",
       "      <th>t1_odds</th>\n",
       "      <th>t2_odds</th>\n",
       "      <th>t1_prob</th>\n",
       "      <th>t2_prob</th>\n",
       "      <th>winner</th>\n",
       "    </tr>\n",
       "  </thead>\n",
       "  <tbody>\n",
       "    <tr>\n",
       "      <th>0</th>\n",
       "      <td>-118</td>\n",
       "      <td>-106</td>\n",
       "      <td>0.957451</td>\n",
       "      <td>0.042549</td>\n",
       "      <td>0</td>\n",
       "    </tr>\n",
       "    <tr>\n",
       "      <th>1</th>\n",
       "      <td>140</td>\n",
       "      <td>-177</td>\n",
       "      <td>0.925350</td>\n",
       "      <td>0.074650</td>\n",
       "      <td>1</td>\n",
       "    </tr>\n",
       "    <tr>\n",
       "      <th>2</th>\n",
       "      <td>-150</td>\n",
       "      <td>120</td>\n",
       "      <td>0.965481</td>\n",
       "      <td>0.034519</td>\n",
       "      <td>0</td>\n",
       "    </tr>\n",
       "    <tr>\n",
       "      <th>3</th>\n",
       "      <td>105</td>\n",
       "      <td>-134</td>\n",
       "      <td>0.955968</td>\n",
       "      <td>0.044032</td>\n",
       "      <td>0</td>\n",
       "    </tr>\n",
       "    <tr>\n",
       "      <th>4</th>\n",
       "      <td>-177</td>\n",
       "      <td>140</td>\n",
       "      <td>0.955501</td>\n",
       "      <td>0.044499</td>\n",
       "      <td>1</td>\n",
       "    </tr>\n",
       "    <tr>\n",
       "      <th>...</th>\n",
       "      <td>...</td>\n",
       "      <td>...</td>\n",
       "      <td>...</td>\n",
       "      <td>...</td>\n",
       "      <td>...</td>\n",
       "    </tr>\n",
       "    <tr>\n",
       "      <th>193</th>\n",
       "      <td>-155</td>\n",
       "      <td>125</td>\n",
       "      <td>0.955523</td>\n",
       "      <td>0.044477</td>\n",
       "      <td>0</td>\n",
       "    </tr>\n",
       "    <tr>\n",
       "      <th>194</th>\n",
       "      <td>-175</td>\n",
       "      <td>135</td>\n",
       "      <td>0.968055</td>\n",
       "      <td>0.031945</td>\n",
       "      <td>1</td>\n",
       "    </tr>\n",
       "    <tr>\n",
       "      <th>195</th>\n",
       "      <td>-530</td>\n",
       "      <td>375</td>\n",
       "      <td>0.967185</td>\n",
       "      <td>0.032815</td>\n",
       "      <td>0</td>\n",
       "    </tr>\n",
       "    <tr>\n",
       "      <th>196</th>\n",
       "      <td>170</td>\n",
       "      <td>-215</td>\n",
       "      <td>0.925525</td>\n",
       "      <td>0.074475</td>\n",
       "      <td>1</td>\n",
       "    </tr>\n",
       "    <tr>\n",
       "      <th>197</th>\n",
       "      <td>-162</td>\n",
       "      <td>138</td>\n",
       "      <td>0.970159</td>\n",
       "      <td>0.029841</td>\n",
       "      <td>0</td>\n",
       "    </tr>\n",
       "  </tbody>\n",
       "</table>\n",
       "<p>198 rows × 5 columns</p>\n",
       "</div>"
      ],
      "text/plain": [
       "     t1_odds  t2_odds   t1_prob   t2_prob  winner\n",
       "0       -118     -106  0.957451  0.042549       0\n",
       "1        140     -177  0.925350  0.074650       1\n",
       "2       -150      120  0.965481  0.034519       0\n",
       "3        105     -134  0.955968  0.044032       0\n",
       "4       -177      140  0.955501  0.044499       1\n",
       "..       ...      ...       ...       ...     ...\n",
       "193     -155      125  0.955523  0.044477       0\n",
       "194     -175      135  0.968055  0.031945       1\n",
       "195     -530      375  0.967185  0.032815       0\n",
       "196      170     -215  0.925525  0.074475       1\n",
       "197     -162      138  0.970159  0.029841       0\n",
       "\n",
       "[198 rows x 5 columns]"
      ]
     },
     "metadata": {},
     "output_type": "display_data"
    },
    {
     "name": "stdout",
     "output_type": "stream",
     "text": [
      "\n",
      "          Number of matches: 198\n",
      "          Number of bets: 197\n",
      "          Number of winning bets: 105\n",
      "          Number of losing bets: 92\n",
      "          Number of underdog bets: 82\n",
      "          Number of underdog wins: 35\n",
      "          Number of underdog losses: 47\n",
      "          Number of Favorite bets: 113\n",
      "          Number of favorite wins: 70\n",
      "          Number of favorite losses: 43\n",
      "          Number of even bets: 2\n",
      "          Number of even wins: 0\n",
      "          Number of even losses: 2\n",
      "          Profit: -955.3756943794973\n",
      "          Profit per bet: -4.849622814109123\n",
      "          Profit per match: -4.8251297695934205\n",
      "          \n",
      "          \n"
     ]
    },
    {
     "data": {
      "text/plain": [
       "(4533, 10)"
      ]
     },
     "metadata": {},
     "output_type": "display_data"
    },
    {
     "data": {
      "text/plain": [
       "(4533,)"
      ]
     },
     "metadata": {},
     "output_type": "display_data"
    },
    {
     "data": {
      "text/plain": [
       "(4533, 2)"
      ]
     },
     "metadata": {},
     "output_type": "display_data"
    },
    {
     "data": {
      "text/plain": [
       "(200, 10)"
      ]
     },
     "metadata": {},
     "output_type": "display_data"
    },
    {
     "data": {
      "text/plain": [
       "(200,)"
      ]
     },
     "metadata": {},
     "output_type": "display_data"
    },
    {
     "data": {
      "text/plain": [
       "(200, 2)"
      ]
     },
     "metadata": {},
     "output_type": "display_data"
    },
    {
     "data": {
      "text/html": [
       "<div>\n",
       "<style scoped>\n",
       "    .dataframe tbody tr th:only-of-type {\n",
       "        vertical-align: middle;\n",
       "    }\n",
       "\n",
       "    .dataframe tbody tr th {\n",
       "        vertical-align: top;\n",
       "    }\n",
       "\n",
       "    .dataframe thead th {\n",
       "        text-align: right;\n",
       "    }\n",
       "</style>\n",
       "<table border=\"1\" class=\"dataframe\">\n",
       "  <thead>\n",
       "    <tr style=\"text-align: right;\">\n",
       "      <th></th>\n",
       "      <th>t1_odds</th>\n",
       "      <th>t2_odds</th>\n",
       "      <th>t1_prob</th>\n",
       "      <th>t2_prob</th>\n",
       "      <th>winner</th>\n",
       "    </tr>\n",
       "  </thead>\n",
       "  <tbody>\n",
       "    <tr>\n",
       "      <th>0</th>\n",
       "      <td>-118</td>\n",
       "      <td>-106</td>\n",
       "      <td>0.522131</td>\n",
       "      <td>0.477869</td>\n",
       "      <td>0</td>\n",
       "    </tr>\n",
       "    <tr>\n",
       "      <th>1</th>\n",
       "      <td>140</td>\n",
       "      <td>-177</td>\n",
       "      <td>0.448212</td>\n",
       "      <td>0.551788</td>\n",
       "      <td>1</td>\n",
       "    </tr>\n",
       "    <tr>\n",
       "      <th>2</th>\n",
       "      <td>-150</td>\n",
       "      <td>120</td>\n",
       "      <td>0.572864</td>\n",
       "      <td>0.427136</td>\n",
       "      <td>0</td>\n",
       "    </tr>\n",
       "    <tr>\n",
       "      <th>3</th>\n",
       "      <td>105</td>\n",
       "      <td>-134</td>\n",
       "      <td>0.504912</td>\n",
       "      <td>0.495088</td>\n",
       "      <td>0</td>\n",
       "    </tr>\n",
       "    <tr>\n",
       "      <th>4</th>\n",
       "      <td>-177</td>\n",
       "      <td>140</td>\n",
       "      <td>0.601694</td>\n",
       "      <td>0.398306</td>\n",
       "      <td>1</td>\n",
       "    </tr>\n",
       "    <tr>\n",
       "      <th>...</th>\n",
       "      <td>...</td>\n",
       "      <td>...</td>\n",
       "      <td>...</td>\n",
       "      <td>...</td>\n",
       "      <td>...</td>\n",
       "    </tr>\n",
       "    <tr>\n",
       "      <th>195</th>\n",
       "      <td>-155</td>\n",
       "      <td>125</td>\n",
       "      <td>0.582541</td>\n",
       "      <td>0.417459</td>\n",
       "      <td>0</td>\n",
       "    </tr>\n",
       "    <tr>\n",
       "      <th>196</th>\n",
       "      <td>-175</td>\n",
       "      <td>135</td>\n",
       "      <td>0.598072</td>\n",
       "      <td>0.401928</td>\n",
       "      <td>1</td>\n",
       "    </tr>\n",
       "    <tr>\n",
       "      <th>197</th>\n",
       "      <td>-530</td>\n",
       "      <td>375</td>\n",
       "      <td>0.827524</td>\n",
       "      <td>0.172476</td>\n",
       "      <td>0</td>\n",
       "    </tr>\n",
       "    <tr>\n",
       "      <th>198</th>\n",
       "      <td>170</td>\n",
       "      <td>-215</td>\n",
       "      <td>0.402799</td>\n",
       "      <td>0.597201</td>\n",
       "      <td>1</td>\n",
       "    </tr>\n",
       "    <tr>\n",
       "      <th>199</th>\n",
       "      <td>-162</td>\n",
       "      <td>138</td>\n",
       "      <td>0.574306</td>\n",
       "      <td>0.425694</td>\n",
       "      <td>0</td>\n",
       "    </tr>\n",
       "  </tbody>\n",
       "</table>\n",
       "<p>200 rows × 5 columns</p>\n",
       "</div>"
      ],
      "text/plain": [
       "     t1_odds  t2_odds   t1_prob   t2_prob  winner\n",
       "0       -118     -106  0.522131  0.477869       0\n",
       "1        140     -177  0.448212  0.551788       1\n",
       "2       -150      120  0.572864  0.427136       0\n",
       "3        105     -134  0.504912  0.495088       0\n",
       "4       -177      140  0.601694  0.398306       1\n",
       "..       ...      ...       ...       ...     ...\n",
       "195     -155      125  0.582541  0.417459       0\n",
       "196     -175      135  0.598072  0.401928       1\n",
       "197     -530      375  0.827524  0.172476       0\n",
       "198      170     -215  0.402799  0.597201       1\n",
       "199     -162      138  0.574306  0.425694       0\n",
       "\n",
       "[200 rows x 5 columns]"
      ]
     },
     "metadata": {},
     "output_type": "display_data"
    },
    {
     "name": "stdout",
     "output_type": "stream",
     "text": [
      "\n",
      "          Number of matches: 200\n",
      "          Number of bets: 93\n",
      "          Number of winning bets: 47\n",
      "          Number of losing bets: 47\n",
      "          Number of underdog bets: 84\n",
      "          Number of underdog wins: 37\n",
      "          Number of underdog losses: 47\n",
      "          Number of Favorite bets: 10\n",
      "          Number of favorite wins: 10\n",
      "          Number of favorite losses: 0\n",
      "          Number of even bets: 0\n",
      "          Number of even wins: 0\n",
      "          Number of even losses: 0\n",
      "          Profit: 1165.977715754501\n",
      "          Profit per bet: 12.537394793059152\n",
      "          Profit per match: 5.829888578772506\n",
      "          \n",
      "          \n"
     ]
    },
    {
     "data": {
      "text/plain": [
       "(3701, 14)"
      ]
     },
     "metadata": {},
     "output_type": "display_data"
    },
    {
     "data": {
      "text/plain": [
       "(3701,)"
      ]
     },
     "metadata": {},
     "output_type": "display_data"
    },
    {
     "data": {
      "text/plain": [
       "(3701, 2)"
      ]
     },
     "metadata": {},
     "output_type": "display_data"
    },
    {
     "data": {
      "text/plain": [
       "(200, 14)"
      ]
     },
     "metadata": {},
     "output_type": "display_data"
    },
    {
     "data": {
      "text/plain": [
       "(200,)"
      ]
     },
     "metadata": {},
     "output_type": "display_data"
    },
    {
     "data": {
      "text/plain": [
       "(200, 2)"
      ]
     },
     "metadata": {},
     "output_type": "display_data"
    },
    {
     "data": {
      "text/html": [
       "<div>\n",
       "<style scoped>\n",
       "    .dataframe tbody tr th:only-of-type {\n",
       "        vertical-align: middle;\n",
       "    }\n",
       "\n",
       "    .dataframe tbody tr th {\n",
       "        vertical-align: top;\n",
       "    }\n",
       "\n",
       "    .dataframe thead th {\n",
       "        text-align: right;\n",
       "    }\n",
       "</style>\n",
       "<table border=\"1\" class=\"dataframe\">\n",
       "  <thead>\n",
       "    <tr style=\"text-align: right;\">\n",
       "      <th></th>\n",
       "      <th>t1_odds</th>\n",
       "      <th>t2_odds</th>\n",
       "      <th>t1_prob</th>\n",
       "      <th>t2_prob</th>\n",
       "      <th>winner</th>\n",
       "    </tr>\n",
       "  </thead>\n",
       "  <tbody>\n",
       "    <tr>\n",
       "      <th>0</th>\n",
       "      <td>-118</td>\n",
       "      <td>-106</td>\n",
       "      <td>0.704861</td>\n",
       "      <td>0.295139</td>\n",
       "      <td>0</td>\n",
       "    </tr>\n",
       "    <tr>\n",
       "      <th>1</th>\n",
       "      <td>140</td>\n",
       "      <td>-177</td>\n",
       "      <td>0.394837</td>\n",
       "      <td>0.605163</td>\n",
       "      <td>1</td>\n",
       "    </tr>\n",
       "    <tr>\n",
       "      <th>2</th>\n",
       "      <td>-150</td>\n",
       "      <td>120</td>\n",
       "      <td>0.722754</td>\n",
       "      <td>0.277246</td>\n",
       "      <td>0</td>\n",
       "    </tr>\n",
       "    <tr>\n",
       "      <th>3</th>\n",
       "      <td>105</td>\n",
       "      <td>-134</td>\n",
       "      <td>0.439561</td>\n",
       "      <td>0.560439</td>\n",
       "      <td>0</td>\n",
       "    </tr>\n",
       "    <tr>\n",
       "      <th>4</th>\n",
       "      <td>-177</td>\n",
       "      <td>140</td>\n",
       "      <td>0.609570</td>\n",
       "      <td>0.390430</td>\n",
       "      <td>1</td>\n",
       "    </tr>\n",
       "    <tr>\n",
       "      <th>...</th>\n",
       "      <td>...</td>\n",
       "      <td>...</td>\n",
       "      <td>...</td>\n",
       "      <td>...</td>\n",
       "      <td>...</td>\n",
       "    </tr>\n",
       "    <tr>\n",
       "      <th>195</th>\n",
       "      <td>-155</td>\n",
       "      <td>125</td>\n",
       "      <td>0.793619</td>\n",
       "      <td>0.206381</td>\n",
       "      <td>0</td>\n",
       "    </tr>\n",
       "    <tr>\n",
       "      <th>196</th>\n",
       "      <td>-175</td>\n",
       "      <td>135</td>\n",
       "      <td>0.787652</td>\n",
       "      <td>0.212348</td>\n",
       "      <td>1</td>\n",
       "    </tr>\n",
       "    <tr>\n",
       "      <th>197</th>\n",
       "      <td>-530</td>\n",
       "      <td>375</td>\n",
       "      <td>0.880183</td>\n",
       "      <td>0.119817</td>\n",
       "      <td>0</td>\n",
       "    </tr>\n",
       "    <tr>\n",
       "      <th>198</th>\n",
       "      <td>170</td>\n",
       "      <td>-215</td>\n",
       "      <td>0.671353</td>\n",
       "      <td>0.328647</td>\n",
       "      <td>1</td>\n",
       "    </tr>\n",
       "    <tr>\n",
       "      <th>199</th>\n",
       "      <td>-162</td>\n",
       "      <td>138</td>\n",
       "      <td>0.554858</td>\n",
       "      <td>0.445142</td>\n",
       "      <td>0</td>\n",
       "    </tr>\n",
       "  </tbody>\n",
       "</table>\n",
       "<p>200 rows × 5 columns</p>\n",
       "</div>"
      ],
      "text/plain": [
       "     t1_odds  t2_odds   t1_prob   t2_prob  winner\n",
       "0       -118     -106  0.704861  0.295139       0\n",
       "1        140     -177  0.394837  0.605163       1\n",
       "2       -150      120  0.722754  0.277246       0\n",
       "3        105     -134  0.439561  0.560439       0\n",
       "4       -177      140  0.609570  0.390430       1\n",
       "..       ...      ...       ...       ...     ...\n",
       "195     -155      125  0.793619  0.206381       0\n",
       "196     -175      135  0.787652  0.212348       1\n",
       "197     -530      375  0.880183  0.119817       0\n",
       "198      170     -215  0.671353  0.328647       1\n",
       "199     -162      138  0.554858  0.445142       0\n",
       "\n",
       "[200 rows x 5 columns]"
      ]
     },
     "metadata": {},
     "output_type": "display_data"
    },
    {
     "name": "stdout",
     "output_type": "stream",
     "text": [
      "\n",
      "          Number of matches: 200\n",
      "          Number of bets: 185\n",
      "          Number of winning bets: 101\n",
      "          Number of losing bets: 84\n",
      "          Number of underdog bets: 82\n",
      "          Number of underdog wins: 36\n",
      "          Number of underdog losses: 46\n",
      "          Number of Favorite bets: 101\n",
      "          Number of favorite wins: 65\n",
      "          Number of favorite losses: 36\n",
      "          Number of even bets: 2\n",
      "          Number of even wins: 0\n",
      "          Number of even losses: 2\n",
      "          Profit: 528.6527731135301\n",
      "          Profit per bet: 2.8575825573704328\n",
      "          Profit per match: 2.6432638655676506\n",
      "          \n",
      "          \n"
     ]
    },
    {
     "data": {
      "text/plain": [
       "(3701, 18)"
      ]
     },
     "metadata": {},
     "output_type": "display_data"
    },
    {
     "data": {
      "text/plain": [
       "(3701,)"
      ]
     },
     "metadata": {},
     "output_type": "display_data"
    },
    {
     "data": {
      "text/plain": [
       "(3701, 2)"
      ]
     },
     "metadata": {},
     "output_type": "display_data"
    },
    {
     "data": {
      "text/plain": [
       "(200, 18)"
      ]
     },
     "metadata": {},
     "output_type": "display_data"
    },
    {
     "data": {
      "text/plain": [
       "(200,)"
      ]
     },
     "metadata": {},
     "output_type": "display_data"
    },
    {
     "data": {
      "text/plain": [
       "(200, 2)"
      ]
     },
     "metadata": {},
     "output_type": "display_data"
    },
    {
     "data": {
      "text/html": [
       "<div>\n",
       "<style scoped>\n",
       "    .dataframe tbody tr th:only-of-type {\n",
       "        vertical-align: middle;\n",
       "    }\n",
       "\n",
       "    .dataframe tbody tr th {\n",
       "        vertical-align: top;\n",
       "    }\n",
       "\n",
       "    .dataframe thead th {\n",
       "        text-align: right;\n",
       "    }\n",
       "</style>\n",
       "<table border=\"1\" class=\"dataframe\">\n",
       "  <thead>\n",
       "    <tr style=\"text-align: right;\">\n",
       "      <th></th>\n",
       "      <th>t1_odds</th>\n",
       "      <th>t2_odds</th>\n",
       "      <th>t1_prob</th>\n",
       "      <th>t2_prob</th>\n",
       "      <th>winner</th>\n",
       "    </tr>\n",
       "  </thead>\n",
       "  <tbody>\n",
       "    <tr>\n",
       "      <th>0</th>\n",
       "      <td>-118</td>\n",
       "      <td>-106</td>\n",
       "      <td>0.603644</td>\n",
       "      <td>0.396356</td>\n",
       "      <td>0</td>\n",
       "    </tr>\n",
       "    <tr>\n",
       "      <th>1</th>\n",
       "      <td>140</td>\n",
       "      <td>-177</td>\n",
       "      <td>0.265368</td>\n",
       "      <td>0.734632</td>\n",
       "      <td>1</td>\n",
       "    </tr>\n",
       "    <tr>\n",
       "      <th>2</th>\n",
       "      <td>-150</td>\n",
       "      <td>120</td>\n",
       "      <td>0.821525</td>\n",
       "      <td>0.178475</td>\n",
       "      <td>0</td>\n",
       "    </tr>\n",
       "    <tr>\n",
       "      <th>3</th>\n",
       "      <td>105</td>\n",
       "      <td>-134</td>\n",
       "      <td>0.478909</td>\n",
       "      <td>0.521091</td>\n",
       "      <td>0</td>\n",
       "    </tr>\n",
       "    <tr>\n",
       "      <th>4</th>\n",
       "      <td>-177</td>\n",
       "      <td>140</td>\n",
       "      <td>0.477988</td>\n",
       "      <td>0.522012</td>\n",
       "      <td>1</td>\n",
       "    </tr>\n",
       "    <tr>\n",
       "      <th>...</th>\n",
       "      <td>...</td>\n",
       "      <td>...</td>\n",
       "      <td>...</td>\n",
       "      <td>...</td>\n",
       "      <td>...</td>\n",
       "    </tr>\n",
       "    <tr>\n",
       "      <th>195</th>\n",
       "      <td>-155</td>\n",
       "      <td>125</td>\n",
       "      <td>0.698027</td>\n",
       "      <td>0.301973</td>\n",
       "      <td>0</td>\n",
       "    </tr>\n",
       "    <tr>\n",
       "      <th>196</th>\n",
       "      <td>-175</td>\n",
       "      <td>135</td>\n",
       "      <td>0.706956</td>\n",
       "      <td>0.293044</td>\n",
       "      <td>1</td>\n",
       "    </tr>\n",
       "    <tr>\n",
       "      <th>197</th>\n",
       "      <td>-530</td>\n",
       "      <td>375</td>\n",
       "      <td>0.827924</td>\n",
       "      <td>0.172076</td>\n",
       "      <td>0</td>\n",
       "    </tr>\n",
       "    <tr>\n",
       "      <th>198</th>\n",
       "      <td>170</td>\n",
       "      <td>-215</td>\n",
       "      <td>0.542011</td>\n",
       "      <td>0.457989</td>\n",
       "      <td>1</td>\n",
       "    </tr>\n",
       "    <tr>\n",
       "      <th>199</th>\n",
       "      <td>-162</td>\n",
       "      <td>138</td>\n",
       "      <td>0.994195</td>\n",
       "      <td>0.005805</td>\n",
       "      <td>0</td>\n",
       "    </tr>\n",
       "  </tbody>\n",
       "</table>\n",
       "<p>200 rows × 5 columns</p>\n",
       "</div>"
      ],
      "text/plain": [
       "     t1_odds  t2_odds   t1_prob   t2_prob  winner\n",
       "0       -118     -106  0.603644  0.396356       0\n",
       "1        140     -177  0.265368  0.734632       1\n",
       "2       -150      120  0.821525  0.178475       0\n",
       "3        105     -134  0.478909  0.521091       0\n",
       "4       -177      140  0.477988  0.522012       1\n",
       "..       ...      ...       ...       ...     ...\n",
       "195     -155      125  0.698027  0.301973       0\n",
       "196     -175      135  0.706956  0.293044       1\n",
       "197     -530      375  0.827924  0.172076       0\n",
       "198      170     -215  0.542011  0.457989       1\n",
       "199     -162      138  0.994195  0.005805       0\n",
       "\n",
       "[200 rows x 5 columns]"
      ]
     },
     "metadata": {},
     "output_type": "display_data"
    },
    {
     "name": "stdout",
     "output_type": "stream",
     "text": [
      "\n",
      "          Number of matches: 200\n",
      "          Number of bets: 181\n",
      "          Number of winning bets: 101\n",
      "          Number of losing bets: 81\n",
      "          Number of underdog bets: 85\n",
      "          Number of underdog wins: 37\n",
      "          Number of underdog losses: 48\n",
      "          Number of Favorite bets: 95\n",
      "          Number of favorite wins: 64\n",
      "          Number of favorite losses: 31\n",
      "          Number of even bets: 2\n",
      "          Number of even wins: 0\n",
      "          Number of even losses: 2\n",
      "          Profit: 1500.9399404095232\n",
      "          Profit per bet: 8.29248585861615\n",
      "          Profit per match: 7.504699702047616\n",
      "          \n",
      "          \n"
     ]
    },
    {
     "data": {
      "text/plain": [
       "(4533, 172)"
      ]
     },
     "metadata": {},
     "output_type": "display_data"
    },
    {
     "data": {
      "text/plain": [
       "(4533,)"
      ]
     },
     "metadata": {},
     "output_type": "display_data"
    },
    {
     "data": {
      "text/plain": [
       "(4533, 2)"
      ]
     },
     "metadata": {},
     "output_type": "display_data"
    },
    {
     "data": {
      "text/plain": [
       "(200, 172)"
      ]
     },
     "metadata": {},
     "output_type": "display_data"
    },
    {
     "data": {
      "text/plain": [
       "(200,)"
      ]
     },
     "metadata": {},
     "output_type": "display_data"
    },
    {
     "data": {
      "text/plain": [
       "(200, 2)"
      ]
     },
     "metadata": {},
     "output_type": "display_data"
    },
    {
     "data": {
      "text/html": [
       "<div>\n",
       "<style scoped>\n",
       "    .dataframe tbody tr th:only-of-type {\n",
       "        vertical-align: middle;\n",
       "    }\n",
       "\n",
       "    .dataframe tbody tr th {\n",
       "        vertical-align: top;\n",
       "    }\n",
       "\n",
       "    .dataframe thead th {\n",
       "        text-align: right;\n",
       "    }\n",
       "</style>\n",
       "<table border=\"1\" class=\"dataframe\">\n",
       "  <thead>\n",
       "    <tr style=\"text-align: right;\">\n",
       "      <th></th>\n",
       "      <th>t1_odds</th>\n",
       "      <th>t2_odds</th>\n",
       "      <th>t1_prob</th>\n",
       "      <th>t2_prob</th>\n",
       "      <th>winner</th>\n",
       "    </tr>\n",
       "  </thead>\n",
       "  <tbody>\n",
       "    <tr>\n",
       "      <th>0</th>\n",
       "      <td>-118</td>\n",
       "      <td>-106</td>\n",
       "      <td>0.560572</td>\n",
       "      <td>0.439428</td>\n",
       "      <td>0</td>\n",
       "    </tr>\n",
       "    <tr>\n",
       "      <th>1</th>\n",
       "      <td>140</td>\n",
       "      <td>-177</td>\n",
       "      <td>0.389525</td>\n",
       "      <td>0.610475</td>\n",
       "      <td>1</td>\n",
       "    </tr>\n",
       "    <tr>\n",
       "      <th>2</th>\n",
       "      <td>-150</td>\n",
       "      <td>120</td>\n",
       "      <td>0.475755</td>\n",
       "      <td>0.524245</td>\n",
       "      <td>0</td>\n",
       "    </tr>\n",
       "    <tr>\n",
       "      <th>3</th>\n",
       "      <td>105</td>\n",
       "      <td>-134</td>\n",
       "      <td>0.481588</td>\n",
       "      <td>0.518412</td>\n",
       "      <td>0</td>\n",
       "    </tr>\n",
       "    <tr>\n",
       "      <th>4</th>\n",
       "      <td>-177</td>\n",
       "      <td>140</td>\n",
       "      <td>0.622091</td>\n",
       "      <td>0.377909</td>\n",
       "      <td>1</td>\n",
       "    </tr>\n",
       "    <tr>\n",
       "      <th>...</th>\n",
       "      <td>...</td>\n",
       "      <td>...</td>\n",
       "      <td>...</td>\n",
       "      <td>...</td>\n",
       "      <td>...</td>\n",
       "    </tr>\n",
       "    <tr>\n",
       "      <th>195</th>\n",
       "      <td>-155</td>\n",
       "      <td>125</td>\n",
       "      <td>0.543092</td>\n",
       "      <td>0.456908</td>\n",
       "      <td>0</td>\n",
       "    </tr>\n",
       "    <tr>\n",
       "      <th>196</th>\n",
       "      <td>-175</td>\n",
       "      <td>135</td>\n",
       "      <td>0.557926</td>\n",
       "      <td>0.442074</td>\n",
       "      <td>1</td>\n",
       "    </tr>\n",
       "    <tr>\n",
       "      <th>197</th>\n",
       "      <td>-530</td>\n",
       "      <td>375</td>\n",
       "      <td>0.793835</td>\n",
       "      <td>0.206165</td>\n",
       "      <td>0</td>\n",
       "    </tr>\n",
       "    <tr>\n",
       "      <th>198</th>\n",
       "      <td>170</td>\n",
       "      <td>-215</td>\n",
       "      <td>0.431492</td>\n",
       "      <td>0.568508</td>\n",
       "      <td>1</td>\n",
       "    </tr>\n",
       "    <tr>\n",
       "      <th>199</th>\n",
       "      <td>-162</td>\n",
       "      <td>138</td>\n",
       "      <td>0.567207</td>\n",
       "      <td>0.432793</td>\n",
       "      <td>0</td>\n",
       "    </tr>\n",
       "  </tbody>\n",
       "</table>\n",
       "<p>200 rows × 5 columns</p>\n",
       "</div>"
      ],
      "text/plain": [
       "     t1_odds  t2_odds   t1_prob   t2_prob  winner\n",
       "0       -118     -106  0.560572  0.439428       0\n",
       "1        140     -177  0.389525  0.610475       1\n",
       "2       -150      120  0.475755  0.524245       0\n",
       "3        105     -134  0.481588  0.518412       0\n",
       "4       -177      140  0.622091  0.377909       1\n",
       "..       ...      ...       ...       ...     ...\n",
       "195     -155      125  0.543092  0.456908       0\n",
       "196     -175      135  0.557926  0.442074       1\n",
       "197     -530      375  0.793835  0.206165       0\n",
       "198      170     -215  0.431492  0.568508       1\n",
       "199     -162      138  0.567207  0.432793       0\n",
       "\n",
       "[200 rows x 5 columns]"
      ]
     },
     "metadata": {},
     "output_type": "display_data"
    },
    {
     "name": "stdout",
     "output_type": "stream",
     "text": [
      "\n",
      "          Number of matches: 200\n",
      "          Number of bets: 156\n",
      "          Number of winning bets: 84\n",
      "          Number of losing bets: 73\n",
      "          Number of underdog bets: 82\n",
      "          Number of underdog wins: 38\n",
      "          Number of underdog losses: 44\n",
      "          Number of Favorite bets: 73\n",
      "          Number of favorite wins: 46\n",
      "          Number of favorite losses: 27\n",
      "          Number of even bets: 2\n",
      "          Number of even wins: 0\n",
      "          Number of even losses: 2\n",
      "          Profit: 493.164776463737\n",
      "          Profit per bet: 3.1613126696393397\n",
      "          Profit per match: 2.465823882318685\n",
      "          \n",
      "          \n"
     ]
    },
    {
     "data": {
      "text/plain": [
       "(3590, 22)"
      ]
     },
     "metadata": {},
     "output_type": "display_data"
    },
    {
     "data": {
      "text/plain": [
       "(3590,)"
      ]
     },
     "metadata": {},
     "output_type": "display_data"
    },
    {
     "data": {
      "text/plain": [
       "(3590, 2)"
      ]
     },
     "metadata": {},
     "output_type": "display_data"
    },
    {
     "data": {
      "text/plain": [
       "(200, 22)"
      ]
     },
     "metadata": {},
     "output_type": "display_data"
    },
    {
     "data": {
      "text/plain": [
       "(200,)"
      ]
     },
     "metadata": {},
     "output_type": "display_data"
    },
    {
     "data": {
      "text/plain": [
       "(200, 2)"
      ]
     },
     "metadata": {},
     "output_type": "display_data"
    },
    {
     "data": {
      "text/html": [
       "<div>\n",
       "<style scoped>\n",
       "    .dataframe tbody tr th:only-of-type {\n",
       "        vertical-align: middle;\n",
       "    }\n",
       "\n",
       "    .dataframe tbody tr th {\n",
       "        vertical-align: top;\n",
       "    }\n",
       "\n",
       "    .dataframe thead th {\n",
       "        text-align: right;\n",
       "    }\n",
       "</style>\n",
       "<table border=\"1\" class=\"dataframe\">\n",
       "  <thead>\n",
       "    <tr style=\"text-align: right;\">\n",
       "      <th></th>\n",
       "      <th>t1_odds</th>\n",
       "      <th>t2_odds</th>\n",
       "      <th>t1_prob</th>\n",
       "      <th>t2_prob</th>\n",
       "      <th>winner</th>\n",
       "    </tr>\n",
       "  </thead>\n",
       "  <tbody>\n",
       "    <tr>\n",
       "      <th>0</th>\n",
       "      <td>-118</td>\n",
       "      <td>-106</td>\n",
       "      <td>0.721745</td>\n",
       "      <td>0.278255</td>\n",
       "      <td>0</td>\n",
       "    </tr>\n",
       "    <tr>\n",
       "      <th>1</th>\n",
       "      <td>140</td>\n",
       "      <td>-177</td>\n",
       "      <td>0.512037</td>\n",
       "      <td>0.487963</td>\n",
       "      <td>1</td>\n",
       "    </tr>\n",
       "    <tr>\n",
       "      <th>2</th>\n",
       "      <td>-150</td>\n",
       "      <td>120</td>\n",
       "      <td>0.752676</td>\n",
       "      <td>0.247324</td>\n",
       "      <td>0</td>\n",
       "    </tr>\n",
       "    <tr>\n",
       "      <th>3</th>\n",
       "      <td>105</td>\n",
       "      <td>-134</td>\n",
       "      <td>0.514641</td>\n",
       "      <td>0.485359</td>\n",
       "      <td>0</td>\n",
       "    </tr>\n",
       "    <tr>\n",
       "      <th>4</th>\n",
       "      <td>-177</td>\n",
       "      <td>140</td>\n",
       "      <td>0.573280</td>\n",
       "      <td>0.426720</td>\n",
       "      <td>1</td>\n",
       "    </tr>\n",
       "    <tr>\n",
       "      <th>...</th>\n",
       "      <td>...</td>\n",
       "      <td>...</td>\n",
       "      <td>...</td>\n",
       "      <td>...</td>\n",
       "      <td>...</td>\n",
       "    </tr>\n",
       "    <tr>\n",
       "      <th>195</th>\n",
       "      <td>-155</td>\n",
       "      <td>125</td>\n",
       "      <td>0.502060</td>\n",
       "      <td>0.497940</td>\n",
       "      <td>0</td>\n",
       "    </tr>\n",
       "    <tr>\n",
       "      <th>196</th>\n",
       "      <td>-175</td>\n",
       "      <td>135</td>\n",
       "      <td>0.661581</td>\n",
       "      <td>0.338419</td>\n",
       "      <td>1</td>\n",
       "    </tr>\n",
       "    <tr>\n",
       "      <th>197</th>\n",
       "      <td>-530</td>\n",
       "      <td>375</td>\n",
       "      <td>0.730050</td>\n",
       "      <td>0.269950</td>\n",
       "      <td>0</td>\n",
       "    </tr>\n",
       "    <tr>\n",
       "      <th>198</th>\n",
       "      <td>170</td>\n",
       "      <td>-215</td>\n",
       "      <td>0.698923</td>\n",
       "      <td>0.301077</td>\n",
       "      <td>1</td>\n",
       "    </tr>\n",
       "    <tr>\n",
       "      <th>199</th>\n",
       "      <td>-162</td>\n",
       "      <td>138</td>\n",
       "      <td>0.998357</td>\n",
       "      <td>0.001643</td>\n",
       "      <td>0</td>\n",
       "    </tr>\n",
       "  </tbody>\n",
       "</table>\n",
       "<p>200 rows × 5 columns</p>\n",
       "</div>"
      ],
      "text/plain": [
       "     t1_odds  t2_odds   t1_prob   t2_prob  winner\n",
       "0       -118     -106  0.721745  0.278255       0\n",
       "1        140     -177  0.512037  0.487963       1\n",
       "2       -150      120  0.752676  0.247324       0\n",
       "3        105     -134  0.514641  0.485359       0\n",
       "4       -177      140  0.573280  0.426720       1\n",
       "..       ...      ...       ...       ...     ...\n",
       "195     -155      125  0.502060  0.497940       0\n",
       "196     -175      135  0.661581  0.338419       1\n",
       "197     -530      375  0.730050  0.269950       0\n",
       "198      170     -215  0.698923  0.301077       1\n",
       "199     -162      138  0.998357  0.001643       0\n",
       "\n",
       "[200 rows x 5 columns]"
      ]
     },
     "metadata": {},
     "output_type": "display_data"
    },
    {
     "name": "stdout",
     "output_type": "stream",
     "text": [
      "\n",
      "          Number of matches: 200\n",
      "          Number of bets: 182\n",
      "          Number of winning bets: 96\n",
      "          Number of losing bets: 87\n",
      "          Number of underdog bets: 84\n",
      "          Number of underdog wins: 35\n",
      "          Number of underdog losses: 49\n",
      "          Number of Favorite bets: 97\n",
      "          Number of favorite wins: 61\n",
      "          Number of favorite losses: 36\n",
      "          Number of even bets: 2\n",
      "          Number of even wins: 0\n",
      "          Number of even losses: 2\n",
      "          Profit: -431.4817088774101\n",
      "          Profit per bet: -2.37077862020555\n",
      "          Profit per match: -2.1574085443870503\n",
      "          \n",
      "          \n"
     ]
    },
    {
     "data": {
      "text/plain": [
       "(3590, 24)"
      ]
     },
     "metadata": {},
     "output_type": "display_data"
    },
    {
     "data": {
      "text/plain": [
       "(3590,)"
      ]
     },
     "metadata": {},
     "output_type": "display_data"
    },
    {
     "data": {
      "text/plain": [
       "(3590, 2)"
      ]
     },
     "metadata": {},
     "output_type": "display_data"
    },
    {
     "data": {
      "text/plain": [
       "(200, 24)"
      ]
     },
     "metadata": {},
     "output_type": "display_data"
    },
    {
     "data": {
      "text/plain": [
       "(200,)"
      ]
     },
     "metadata": {},
     "output_type": "display_data"
    },
    {
     "data": {
      "text/plain": [
       "(200, 2)"
      ]
     },
     "metadata": {},
     "output_type": "display_data"
    },
    {
     "data": {
      "text/html": [
       "<div>\n",
       "<style scoped>\n",
       "    .dataframe tbody tr th:only-of-type {\n",
       "        vertical-align: middle;\n",
       "    }\n",
       "\n",
       "    .dataframe tbody tr th {\n",
       "        vertical-align: top;\n",
       "    }\n",
       "\n",
       "    .dataframe thead th {\n",
       "        text-align: right;\n",
       "    }\n",
       "</style>\n",
       "<table border=\"1\" class=\"dataframe\">\n",
       "  <thead>\n",
       "    <tr style=\"text-align: right;\">\n",
       "      <th></th>\n",
       "      <th>t1_odds</th>\n",
       "      <th>t2_odds</th>\n",
       "      <th>t1_prob</th>\n",
       "      <th>t2_prob</th>\n",
       "      <th>winner</th>\n",
       "    </tr>\n",
       "  </thead>\n",
       "  <tbody>\n",
       "    <tr>\n",
       "      <th>0</th>\n",
       "      <td>-118</td>\n",
       "      <td>-106</td>\n",
       "      <td>0.662488</td>\n",
       "      <td>0.337512</td>\n",
       "      <td>0</td>\n",
       "    </tr>\n",
       "    <tr>\n",
       "      <th>1</th>\n",
       "      <td>140</td>\n",
       "      <td>-177</td>\n",
       "      <td>0.606375</td>\n",
       "      <td>0.393625</td>\n",
       "      <td>1</td>\n",
       "    </tr>\n",
       "    <tr>\n",
       "      <th>2</th>\n",
       "      <td>-150</td>\n",
       "      <td>120</td>\n",
       "      <td>0.790540</td>\n",
       "      <td>0.209460</td>\n",
       "      <td>0</td>\n",
       "    </tr>\n",
       "    <tr>\n",
       "      <th>3</th>\n",
       "      <td>105</td>\n",
       "      <td>-134</td>\n",
       "      <td>0.635869</td>\n",
       "      <td>0.364131</td>\n",
       "      <td>0</td>\n",
       "    </tr>\n",
       "    <tr>\n",
       "      <th>4</th>\n",
       "      <td>-177</td>\n",
       "      <td>140</td>\n",
       "      <td>0.528770</td>\n",
       "      <td>0.471230</td>\n",
       "      <td>1</td>\n",
       "    </tr>\n",
       "    <tr>\n",
       "      <th>...</th>\n",
       "      <td>...</td>\n",
       "      <td>...</td>\n",
       "      <td>...</td>\n",
       "      <td>...</td>\n",
       "      <td>...</td>\n",
       "    </tr>\n",
       "    <tr>\n",
       "      <th>195</th>\n",
       "      <td>-155</td>\n",
       "      <td>125</td>\n",
       "      <td>0.462564</td>\n",
       "      <td>0.537436</td>\n",
       "      <td>0</td>\n",
       "    </tr>\n",
       "    <tr>\n",
       "      <th>196</th>\n",
       "      <td>-175</td>\n",
       "      <td>135</td>\n",
       "      <td>0.653698</td>\n",
       "      <td>0.346302</td>\n",
       "      <td>1</td>\n",
       "    </tr>\n",
       "    <tr>\n",
       "      <th>197</th>\n",
       "      <td>-530</td>\n",
       "      <td>375</td>\n",
       "      <td>0.693540</td>\n",
       "      <td>0.306460</td>\n",
       "      <td>0</td>\n",
       "    </tr>\n",
       "    <tr>\n",
       "      <th>198</th>\n",
       "      <td>170</td>\n",
       "      <td>-215</td>\n",
       "      <td>0.915743</td>\n",
       "      <td>0.084257</td>\n",
       "      <td>1</td>\n",
       "    </tr>\n",
       "    <tr>\n",
       "      <th>199</th>\n",
       "      <td>-162</td>\n",
       "      <td>138</td>\n",
       "      <td>0.998079</td>\n",
       "      <td>0.001921</td>\n",
       "      <td>0</td>\n",
       "    </tr>\n",
       "  </tbody>\n",
       "</table>\n",
       "<p>200 rows × 5 columns</p>\n",
       "</div>"
      ],
      "text/plain": [
       "     t1_odds  t2_odds   t1_prob   t2_prob  winner\n",
       "0       -118     -106  0.662488  0.337512       0\n",
       "1        140     -177  0.606375  0.393625       1\n",
       "2       -150      120  0.790540  0.209460       0\n",
       "3        105     -134  0.635869  0.364131       0\n",
       "4       -177      140  0.528770  0.471230       1\n",
       "..       ...      ...       ...       ...     ...\n",
       "195     -155      125  0.462564  0.537436       0\n",
       "196     -175      135  0.653698  0.346302       1\n",
       "197     -530      375  0.693540  0.306460       0\n",
       "198      170     -215  0.915743  0.084257       1\n",
       "199     -162      138  0.998079  0.001921       0\n",
       "\n",
       "[200 rows x 5 columns]"
      ]
     },
     "metadata": {},
     "output_type": "display_data"
    },
    {
     "name": "stdout",
     "output_type": "stream",
     "text": [
      "\n",
      "          Number of matches: 200\n",
      "          Number of bets: 172\n",
      "          Number of winning bets: 90\n",
      "          Number of losing bets: 83\n",
      "          Number of underdog bets: 87\n",
      "          Number of underdog wins: 36\n",
      "          Number of underdog losses: 51\n",
      "          Number of Favorite bets: 84\n",
      "          Number of favorite wins: 54\n",
      "          Number of favorite losses: 30\n",
      "          Number of even bets: 2\n",
      "          Number of even wins: 0\n",
      "          Number of even losses: 2\n",
      "          Profit: -35.230378360601506\n",
      "          Profit per bet: -0.20482778116628783\n",
      "          Profit per match: -0.17615189180300753\n",
      "          \n",
      "          \n"
     ]
    },
    {
     "data": {
      "text/plain": [
       "(3589, 22)"
      ]
     },
     "metadata": {},
     "output_type": "display_data"
    },
    {
     "data": {
      "text/plain": [
       "(3589,)"
      ]
     },
     "metadata": {},
     "output_type": "display_data"
    },
    {
     "data": {
      "text/plain": [
       "(3589, 2)"
      ]
     },
     "metadata": {},
     "output_type": "display_data"
    },
    {
     "data": {
      "text/plain": [
       "(200, 22)"
      ]
     },
     "metadata": {},
     "output_type": "display_data"
    },
    {
     "data": {
      "text/plain": [
       "(200,)"
      ]
     },
     "metadata": {},
     "output_type": "display_data"
    },
    {
     "data": {
      "text/plain": [
       "(200, 2)"
      ]
     },
     "metadata": {},
     "output_type": "display_data"
    },
    {
     "data": {
      "text/html": [
       "<div>\n",
       "<style scoped>\n",
       "    .dataframe tbody tr th:only-of-type {\n",
       "        vertical-align: middle;\n",
       "    }\n",
       "\n",
       "    .dataframe tbody tr th {\n",
       "        vertical-align: top;\n",
       "    }\n",
       "\n",
       "    .dataframe thead th {\n",
       "        text-align: right;\n",
       "    }\n",
       "</style>\n",
       "<table border=\"1\" class=\"dataframe\">\n",
       "  <thead>\n",
       "    <tr style=\"text-align: right;\">\n",
       "      <th></th>\n",
       "      <th>t1_odds</th>\n",
       "      <th>t2_odds</th>\n",
       "      <th>t1_prob</th>\n",
       "      <th>t2_prob</th>\n",
       "      <th>winner</th>\n",
       "    </tr>\n",
       "  </thead>\n",
       "  <tbody>\n",
       "    <tr>\n",
       "      <th>0</th>\n",
       "      <td>-118</td>\n",
       "      <td>-106</td>\n",
       "      <td>0.701626</td>\n",
       "      <td>0.298374</td>\n",
       "      <td>0</td>\n",
       "    </tr>\n",
       "    <tr>\n",
       "      <th>1</th>\n",
       "      <td>140</td>\n",
       "      <td>-177</td>\n",
       "      <td>0.641709</td>\n",
       "      <td>0.358291</td>\n",
       "      <td>1</td>\n",
       "    </tr>\n",
       "    <tr>\n",
       "      <th>2</th>\n",
       "      <td>-150</td>\n",
       "      <td>120</td>\n",
       "      <td>0.784295</td>\n",
       "      <td>0.215705</td>\n",
       "      <td>0</td>\n",
       "    </tr>\n",
       "    <tr>\n",
       "      <th>3</th>\n",
       "      <td>105</td>\n",
       "      <td>-134</td>\n",
       "      <td>0.722158</td>\n",
       "      <td>0.277842</td>\n",
       "      <td>0</td>\n",
       "    </tr>\n",
       "    <tr>\n",
       "      <th>4</th>\n",
       "      <td>-177</td>\n",
       "      <td>140</td>\n",
       "      <td>0.613492</td>\n",
       "      <td>0.386508</td>\n",
       "      <td>1</td>\n",
       "    </tr>\n",
       "    <tr>\n",
       "      <th>...</th>\n",
       "      <td>...</td>\n",
       "      <td>...</td>\n",
       "      <td>...</td>\n",
       "      <td>...</td>\n",
       "      <td>...</td>\n",
       "    </tr>\n",
       "    <tr>\n",
       "      <th>195</th>\n",
       "      <td>-155</td>\n",
       "      <td>125</td>\n",
       "      <td>0.503692</td>\n",
       "      <td>0.496308</td>\n",
       "      <td>0</td>\n",
       "    </tr>\n",
       "    <tr>\n",
       "      <th>196</th>\n",
       "      <td>-175</td>\n",
       "      <td>135</td>\n",
       "      <td>0.660821</td>\n",
       "      <td>0.339179</td>\n",
       "      <td>1</td>\n",
       "    </tr>\n",
       "    <tr>\n",
       "      <th>197</th>\n",
       "      <td>-530</td>\n",
       "      <td>375</td>\n",
       "      <td>0.721018</td>\n",
       "      <td>0.278982</td>\n",
       "      <td>0</td>\n",
       "    </tr>\n",
       "    <tr>\n",
       "      <th>198</th>\n",
       "      <td>170</td>\n",
       "      <td>-215</td>\n",
       "      <td>0.866878</td>\n",
       "      <td>0.133122</td>\n",
       "      <td>1</td>\n",
       "    </tr>\n",
       "    <tr>\n",
       "      <th>199</th>\n",
       "      <td>-162</td>\n",
       "      <td>138</td>\n",
       "      <td>0.997680</td>\n",
       "      <td>0.002320</td>\n",
       "      <td>0</td>\n",
       "    </tr>\n",
       "  </tbody>\n",
       "</table>\n",
       "<p>200 rows × 5 columns</p>\n",
       "</div>"
      ],
      "text/plain": [
       "     t1_odds  t2_odds   t1_prob   t2_prob  winner\n",
       "0       -118     -106  0.701626  0.298374       0\n",
       "1        140     -177  0.641709  0.358291       1\n",
       "2       -150      120  0.784295  0.215705       0\n",
       "3        105     -134  0.722158  0.277842       0\n",
       "4       -177      140  0.613492  0.386508       1\n",
       "..       ...      ...       ...       ...     ...\n",
       "195     -155      125  0.503692  0.496308       0\n",
       "196     -175      135  0.660821  0.339179       1\n",
       "197     -530      375  0.721018  0.278982       0\n",
       "198      170     -215  0.866878  0.133122       1\n",
       "199     -162      138  0.997680  0.002320       0\n",
       "\n",
       "[200 rows x 5 columns]"
      ]
     },
     "metadata": {},
     "output_type": "display_data"
    },
    {
     "name": "stdout",
     "output_type": "stream",
     "text": [
      "\n",
      "          Number of matches: 200\n",
      "          Number of bets: 180\n",
      "          Number of winning bets: 96\n",
      "          Number of losing bets: 86\n",
      "          Number of underdog bets: 88\n",
      "          Number of underdog wins: 36\n",
      "          Number of underdog losses: 52\n",
      "          Number of Favorite bets: 92\n",
      "          Number of favorite wins: 60\n",
      "          Number of favorite losses: 32\n",
      "          Number of even bets: 2\n",
      "          Number of even wins: 0\n",
      "          Number of even losses: 2\n",
      "          Profit: -19.43318130992982\n",
      "          Profit per bet: -0.107962118388499\n",
      "          Profit per match: -0.09716590654964911\n",
      "          \n",
      "          \n"
     ]
    },
    {
     "data": {
      "text/plain": [
       "(3492, 56)"
      ]
     },
     "metadata": {},
     "output_type": "display_data"
    },
    {
     "data": {
      "text/plain": [
       "(3492,)"
      ]
     },
     "metadata": {},
     "output_type": "display_data"
    },
    {
     "data": {
      "text/plain": [
       "(3492, 2)"
      ]
     },
     "metadata": {},
     "output_type": "display_data"
    },
    {
     "data": {
      "text/plain": [
       "(198, 56)"
      ]
     },
     "metadata": {},
     "output_type": "display_data"
    },
    {
     "data": {
      "text/plain": [
       "(198,)"
      ]
     },
     "metadata": {},
     "output_type": "display_data"
    },
    {
     "data": {
      "text/plain": [
       "(198, 2)"
      ]
     },
     "metadata": {},
     "output_type": "display_data"
    },
    {
     "data": {
      "text/html": [
       "<div>\n",
       "<style scoped>\n",
       "    .dataframe tbody tr th:only-of-type {\n",
       "        vertical-align: middle;\n",
       "    }\n",
       "\n",
       "    .dataframe tbody tr th {\n",
       "        vertical-align: top;\n",
       "    }\n",
       "\n",
       "    .dataframe thead th {\n",
       "        text-align: right;\n",
       "    }\n",
       "</style>\n",
       "<table border=\"1\" class=\"dataframe\">\n",
       "  <thead>\n",
       "    <tr style=\"text-align: right;\">\n",
       "      <th></th>\n",
       "      <th>t1_odds</th>\n",
       "      <th>t2_odds</th>\n",
       "      <th>t1_prob</th>\n",
       "      <th>t2_prob</th>\n",
       "      <th>winner</th>\n",
       "    </tr>\n",
       "  </thead>\n",
       "  <tbody>\n",
       "    <tr>\n",
       "      <th>0</th>\n",
       "      <td>-118</td>\n",
       "      <td>-106</td>\n",
       "      <td>0.892249</td>\n",
       "      <td>0.107751</td>\n",
       "      <td>0</td>\n",
       "    </tr>\n",
       "    <tr>\n",
       "      <th>1</th>\n",
       "      <td>140</td>\n",
       "      <td>-177</td>\n",
       "      <td>0.294613</td>\n",
       "      <td>0.705387</td>\n",
       "      <td>1</td>\n",
       "    </tr>\n",
       "    <tr>\n",
       "      <th>2</th>\n",
       "      <td>-150</td>\n",
       "      <td>120</td>\n",
       "      <td>0.997937</td>\n",
       "      <td>0.002063</td>\n",
       "      <td>0</td>\n",
       "    </tr>\n",
       "    <tr>\n",
       "      <th>3</th>\n",
       "      <td>105</td>\n",
       "      <td>-134</td>\n",
       "      <td>0.852404</td>\n",
       "      <td>0.147596</td>\n",
       "      <td>0</td>\n",
       "    </tr>\n",
       "    <tr>\n",
       "      <th>4</th>\n",
       "      <td>-177</td>\n",
       "      <td>140</td>\n",
       "      <td>0.063367</td>\n",
       "      <td>0.936633</td>\n",
       "      <td>1</td>\n",
       "    </tr>\n",
       "    <tr>\n",
       "      <th>...</th>\n",
       "      <td>...</td>\n",
       "      <td>...</td>\n",
       "      <td>...</td>\n",
       "      <td>...</td>\n",
       "      <td>...</td>\n",
       "    </tr>\n",
       "    <tr>\n",
       "      <th>193</th>\n",
       "      <td>-155</td>\n",
       "      <td>125</td>\n",
       "      <td>0.913463</td>\n",
       "      <td>0.086537</td>\n",
       "      <td>0</td>\n",
       "    </tr>\n",
       "    <tr>\n",
       "      <th>194</th>\n",
       "      <td>-175</td>\n",
       "      <td>135</td>\n",
       "      <td>0.931963</td>\n",
       "      <td>0.068037</td>\n",
       "      <td>1</td>\n",
       "    </tr>\n",
       "    <tr>\n",
       "      <th>195</th>\n",
       "      <td>-530</td>\n",
       "      <td>375</td>\n",
       "      <td>0.985759</td>\n",
       "      <td>0.014241</td>\n",
       "      <td>0</td>\n",
       "    </tr>\n",
       "    <tr>\n",
       "      <th>196</th>\n",
       "      <td>170</td>\n",
       "      <td>-215</td>\n",
       "      <td>0.997459</td>\n",
       "      <td>0.002541</td>\n",
       "      <td>1</td>\n",
       "    </tr>\n",
       "    <tr>\n",
       "      <th>197</th>\n",
       "      <td>-162</td>\n",
       "      <td>138</td>\n",
       "      <td>0.979413</td>\n",
       "      <td>0.020587</td>\n",
       "      <td>0</td>\n",
       "    </tr>\n",
       "  </tbody>\n",
       "</table>\n",
       "<p>198 rows × 5 columns</p>\n",
       "</div>"
      ],
      "text/plain": [
       "     t1_odds  t2_odds   t1_prob   t2_prob  winner\n",
       "0       -118     -106  0.892249  0.107751       0\n",
       "1        140     -177  0.294613  0.705387       1\n",
       "2       -150      120  0.997937  0.002063       0\n",
       "3        105     -134  0.852404  0.147596       0\n",
       "4       -177      140  0.063367  0.936633       1\n",
       "..       ...      ...       ...       ...     ...\n",
       "193     -155      125  0.913463  0.086537       0\n",
       "194     -175      135  0.931963  0.068037       1\n",
       "195     -530      375  0.985759  0.014241       0\n",
       "196      170     -215  0.997459  0.002541       1\n",
       "197     -162      138  0.979413  0.020587       0\n",
       "\n",
       "[198 rows x 5 columns]"
      ]
     },
     "metadata": {},
     "output_type": "display_data"
    },
    {
     "name": "stdout",
     "output_type": "stream",
     "text": [
      "\n",
      "          Number of matches: 198\n",
      "          Number of bets: 164\n",
      "          Number of winning bets: 81\n",
      "          Number of losing bets: 83\n",
      "          Number of underdog bets: 94\n",
      "          Number of underdog wins: 40\n",
      "          Number of underdog losses: 54\n",
      "          Number of Favorite bets: 70\n",
      "          Number of favorite wins: 41\n",
      "          Number of favorite losses: 29\n",
      "          Number of even bets: 0\n",
      "          Number of even wins: 0\n",
      "          Number of even losses: 0\n",
      "          Profit: 290.91041589744685\n",
      "          Profit per bet: 1.773843999374676\n",
      "          Profit per match: 1.46924452473458\n",
      "          \n",
      "          \n"
     ]
    },
    {
     "data": {
      "text/plain": [
       "(3492, 19)"
      ]
     },
     "metadata": {},
     "output_type": "display_data"
    },
    {
     "data": {
      "text/plain": [
       "(3492,)"
      ]
     },
     "metadata": {},
     "output_type": "display_data"
    },
    {
     "data": {
      "text/plain": [
       "(3492, 2)"
      ]
     },
     "metadata": {},
     "output_type": "display_data"
    },
    {
     "data": {
      "text/plain": [
       "(200, 19)"
      ]
     },
     "metadata": {},
     "output_type": "display_data"
    },
    {
     "data": {
      "text/plain": [
       "(200,)"
      ]
     },
     "metadata": {},
     "output_type": "display_data"
    },
    {
     "data": {
      "text/plain": [
       "(200, 2)"
      ]
     },
     "metadata": {},
     "output_type": "display_data"
    },
    {
     "data": {
      "text/html": [
       "<div>\n",
       "<style scoped>\n",
       "    .dataframe tbody tr th:only-of-type {\n",
       "        vertical-align: middle;\n",
       "    }\n",
       "\n",
       "    .dataframe tbody tr th {\n",
       "        vertical-align: top;\n",
       "    }\n",
       "\n",
       "    .dataframe thead th {\n",
       "        text-align: right;\n",
       "    }\n",
       "</style>\n",
       "<table border=\"1\" class=\"dataframe\">\n",
       "  <thead>\n",
       "    <tr style=\"text-align: right;\">\n",
       "      <th></th>\n",
       "      <th>t1_odds</th>\n",
       "      <th>t2_odds</th>\n",
       "      <th>t1_prob</th>\n",
       "      <th>t2_prob</th>\n",
       "      <th>winner</th>\n",
       "    </tr>\n",
       "  </thead>\n",
       "  <tbody>\n",
       "    <tr>\n",
       "      <th>0</th>\n",
       "      <td>-118</td>\n",
       "      <td>-106</td>\n",
       "      <td>0.571479</td>\n",
       "      <td>0.428521</td>\n",
       "      <td>0</td>\n",
       "    </tr>\n",
       "    <tr>\n",
       "      <th>1</th>\n",
       "      <td>140</td>\n",
       "      <td>-177</td>\n",
       "      <td>0.485219</td>\n",
       "      <td>0.514781</td>\n",
       "      <td>1</td>\n",
       "    </tr>\n",
       "    <tr>\n",
       "      <th>2</th>\n",
       "      <td>-150</td>\n",
       "      <td>120</td>\n",
       "      <td>0.622923</td>\n",
       "      <td>0.377077</td>\n",
       "      <td>0</td>\n",
       "    </tr>\n",
       "    <tr>\n",
       "      <th>3</th>\n",
       "      <td>105</td>\n",
       "      <td>-134</td>\n",
       "      <td>0.513551</td>\n",
       "      <td>0.486449</td>\n",
       "      <td>0</td>\n",
       "    </tr>\n",
       "    <tr>\n",
       "      <th>4</th>\n",
       "      <td>-177</td>\n",
       "      <td>140</td>\n",
       "      <td>0.582211</td>\n",
       "      <td>0.417789</td>\n",
       "      <td>1</td>\n",
       "    </tr>\n",
       "    <tr>\n",
       "      <th>...</th>\n",
       "      <td>...</td>\n",
       "      <td>...</td>\n",
       "      <td>...</td>\n",
       "      <td>...</td>\n",
       "      <td>...</td>\n",
       "    </tr>\n",
       "    <tr>\n",
       "      <th>195</th>\n",
       "      <td>-155</td>\n",
       "      <td>125</td>\n",
       "      <td>0.559900</td>\n",
       "      <td>0.440100</td>\n",
       "      <td>0</td>\n",
       "    </tr>\n",
       "    <tr>\n",
       "      <th>196</th>\n",
       "      <td>-175</td>\n",
       "      <td>135</td>\n",
       "      <td>0.632212</td>\n",
       "      <td>0.367788</td>\n",
       "      <td>1</td>\n",
       "    </tr>\n",
       "    <tr>\n",
       "      <th>197</th>\n",
       "      <td>-530</td>\n",
       "      <td>375</td>\n",
       "      <td>0.699298</td>\n",
       "      <td>0.300702</td>\n",
       "      <td>0</td>\n",
       "    </tr>\n",
       "    <tr>\n",
       "      <th>198</th>\n",
       "      <td>170</td>\n",
       "      <td>-215</td>\n",
       "      <td>0.477237</td>\n",
       "      <td>0.522763</td>\n",
       "      <td>1</td>\n",
       "    </tr>\n",
       "    <tr>\n",
       "      <th>199</th>\n",
       "      <td>-162</td>\n",
       "      <td>138</td>\n",
       "      <td>0.537151</td>\n",
       "      <td>0.462849</td>\n",
       "      <td>0</td>\n",
       "    </tr>\n",
       "  </tbody>\n",
       "</table>\n",
       "<p>200 rows × 5 columns</p>\n",
       "</div>"
      ],
      "text/plain": [
       "     t1_odds  t2_odds   t1_prob   t2_prob  winner\n",
       "0       -118     -106  0.571479  0.428521       0\n",
       "1        140     -177  0.485219  0.514781       1\n",
       "2       -150      120  0.622923  0.377077       0\n",
       "3        105     -134  0.513551  0.486449       0\n",
       "4       -177      140  0.582211  0.417789       1\n",
       "..       ...      ...       ...       ...     ...\n",
       "195     -155      125  0.559900  0.440100       0\n",
       "196     -175      135  0.632212  0.367788       1\n",
       "197     -530      375  0.699298  0.300702       0\n",
       "198      170     -215  0.477237  0.522763       1\n",
       "199     -162      138  0.537151  0.462849       0\n",
       "\n",
       "[200 rows x 5 columns]"
      ]
     },
     "metadata": {},
     "output_type": "display_data"
    },
    {
     "name": "stdout",
     "output_type": "stream",
     "text": [
      "\n",
      "          Number of matches: 200\n",
      "          Number of bets: 163\n",
      "          Number of winning bets: 78\n",
      "          Number of losing bets: 86\n",
      "          Number of underdog bets: 113\n",
      "          Number of underdog wins: 46\n",
      "          Number of underdog losses: 67\n",
      "          Number of Favorite bets: 49\n",
      "          Number of favorite wins: 31\n",
      "          Number of favorite losses: 18\n",
      "          Number of even bets: 2\n",
      "          Number of even wins: 1\n",
      "          Number of even losses: 1\n",
      "          Profit: -91.06290010127861\n",
      "          Profit per bet: -0.5586680987808504\n",
      "          Profit per match: -0.45531450050639305\n",
      "          \n",
      "          \n"
     ]
    },
    {
     "data": {
      "text/plain": [
       "(3492, 26)"
      ]
     },
     "metadata": {},
     "output_type": "display_data"
    },
    {
     "data": {
      "text/plain": [
       "(3492,)"
      ]
     },
     "metadata": {},
     "output_type": "display_data"
    },
    {
     "data": {
      "text/plain": [
       "(3492, 2)"
      ]
     },
     "metadata": {},
     "output_type": "display_data"
    },
    {
     "data": {
      "text/plain": [
       "(198, 26)"
      ]
     },
     "metadata": {},
     "output_type": "display_data"
    },
    {
     "data": {
      "text/plain": [
       "(198,)"
      ]
     },
     "metadata": {},
     "output_type": "display_data"
    },
    {
     "data": {
      "text/plain": [
       "(198, 2)"
      ]
     },
     "metadata": {},
     "output_type": "display_data"
    },
    {
     "data": {
      "text/html": [
       "<div>\n",
       "<style scoped>\n",
       "    .dataframe tbody tr th:only-of-type {\n",
       "        vertical-align: middle;\n",
       "    }\n",
       "\n",
       "    .dataframe tbody tr th {\n",
       "        vertical-align: top;\n",
       "    }\n",
       "\n",
       "    .dataframe thead th {\n",
       "        text-align: right;\n",
       "    }\n",
       "</style>\n",
       "<table border=\"1\" class=\"dataframe\">\n",
       "  <thead>\n",
       "    <tr style=\"text-align: right;\">\n",
       "      <th></th>\n",
       "      <th>t1_odds</th>\n",
       "      <th>t2_odds</th>\n",
       "      <th>t1_prob</th>\n",
       "      <th>t2_prob</th>\n",
       "      <th>winner</th>\n",
       "    </tr>\n",
       "  </thead>\n",
       "  <tbody>\n",
       "    <tr>\n",
       "      <th>0</th>\n",
       "      <td>-118</td>\n",
       "      <td>-106</td>\n",
       "      <td>0.598315</td>\n",
       "      <td>0.401685</td>\n",
       "      <td>0</td>\n",
       "    </tr>\n",
       "    <tr>\n",
       "      <th>1</th>\n",
       "      <td>140</td>\n",
       "      <td>-177</td>\n",
       "      <td>0.351949</td>\n",
       "      <td>0.648051</td>\n",
       "      <td>1</td>\n",
       "    </tr>\n",
       "    <tr>\n",
       "      <th>2</th>\n",
       "      <td>-150</td>\n",
       "      <td>120</td>\n",
       "      <td>0.592936</td>\n",
       "      <td>0.407064</td>\n",
       "      <td>0</td>\n",
       "    </tr>\n",
       "    <tr>\n",
       "      <th>3</th>\n",
       "      <td>105</td>\n",
       "      <td>-134</td>\n",
       "      <td>0.507419</td>\n",
       "      <td>0.492581</td>\n",
       "      <td>0</td>\n",
       "    </tr>\n",
       "    <tr>\n",
       "      <th>4</th>\n",
       "      <td>-177</td>\n",
       "      <td>140</td>\n",
       "      <td>0.580359</td>\n",
       "      <td>0.419641</td>\n",
       "      <td>1</td>\n",
       "    </tr>\n",
       "    <tr>\n",
       "      <th>...</th>\n",
       "      <td>...</td>\n",
       "      <td>...</td>\n",
       "      <td>...</td>\n",
       "      <td>...</td>\n",
       "      <td>...</td>\n",
       "    </tr>\n",
       "    <tr>\n",
       "      <th>193</th>\n",
       "      <td>-155</td>\n",
       "      <td>125</td>\n",
       "      <td>0.568679</td>\n",
       "      <td>0.431321</td>\n",
       "      <td>0</td>\n",
       "    </tr>\n",
       "    <tr>\n",
       "      <th>194</th>\n",
       "      <td>-175</td>\n",
       "      <td>135</td>\n",
       "      <td>0.640672</td>\n",
       "      <td>0.359328</td>\n",
       "      <td>1</td>\n",
       "    </tr>\n",
       "    <tr>\n",
       "      <th>195</th>\n",
       "      <td>-530</td>\n",
       "      <td>375</td>\n",
       "      <td>0.681813</td>\n",
       "      <td>0.318187</td>\n",
       "      <td>0</td>\n",
       "    </tr>\n",
       "    <tr>\n",
       "      <th>196</th>\n",
       "      <td>170</td>\n",
       "      <td>-215</td>\n",
       "      <td>0.400522</td>\n",
       "      <td>0.599478</td>\n",
       "      <td>1</td>\n",
       "    </tr>\n",
       "    <tr>\n",
       "      <th>197</th>\n",
       "      <td>-162</td>\n",
       "      <td>138</td>\n",
       "      <td>0.523603</td>\n",
       "      <td>0.476397</td>\n",
       "      <td>0</td>\n",
       "    </tr>\n",
       "  </tbody>\n",
       "</table>\n",
       "<p>198 rows × 5 columns</p>\n",
       "</div>"
      ],
      "text/plain": [
       "     t1_odds  t2_odds   t1_prob   t2_prob  winner\n",
       "0       -118     -106  0.598315  0.401685       0\n",
       "1        140     -177  0.351949  0.648051       1\n",
       "2       -150      120  0.592936  0.407064       0\n",
       "3        105     -134  0.507419  0.492581       0\n",
       "4       -177      140  0.580359  0.419641       1\n",
       "..       ...      ...       ...       ...     ...\n",
       "193     -155      125  0.568679  0.431321       0\n",
       "194     -175      135  0.640672  0.359328       1\n",
       "195     -530      375  0.681813  0.318187       0\n",
       "196      170     -215  0.400522  0.599478       1\n",
       "197     -162      138  0.523603  0.476397       0\n",
       "\n",
       "[198 rows x 5 columns]"
      ]
     },
     "metadata": {},
     "output_type": "display_data"
    },
    {
     "name": "stdout",
     "output_type": "stream",
     "text": [
      "\n",
      "          Number of matches: 198\n",
      "          Number of bets: 132\n",
      "          Number of winning bets: 56\n",
      "          Number of losing bets: 77\n",
      "          Number of underdog bets: 91\n",
      "          Number of underdog wins: 34\n",
      "          Number of underdog losses: 57\n",
      "          Number of Favorite bets: 41\n",
      "          Number of favorite wins: 21\n",
      "          Number of favorite losses: 20\n",
      "          Number of even bets: 1\n",
      "          Number of even wins: 1\n",
      "          Number of even losses: 0\n",
      "          Profit: -1129.8069204547003\n",
      "          Profit per bet: -8.559143336778032\n",
      "          Profit per match: -5.706095557852022\n",
      "          \n",
      "          \n"
     ]
    }
   ],
   "source": [
    "score_list = []\n",
    "for model_num in range(len(models[0])):\n",
    "    test_model_name = models[0][model_num]\n",
    "    test_model = eval(models[1][model_num])\n",
    "    test_model_features = eval(models[2][model_num])\n",
    "    test_model_ev = eval(models[3][model_num])\n",
    "    \n",
    "    score_list.append(evaluate_model(test_model, test_model_features, test_model_ev, df_train, label_train, odds_train, df_test, label_test,\n",
    "                         odds_test, verbose = True))"
   ]
  },
  {
   "cell_type": "code",
   "execution_count": 10,
   "metadata": {},
   "outputs": [
    {
     "name": "stdout",
     "output_type": "stream",
     "text": [
      "['173.1684847', '-208.59182319063598', '-827.0117854538566', '662.3292884444202', '-1162.4687784517437', '1205.652357', '385.0625139', '990.0325213', '-469.6786711', '-372.6349433', '-583.4522165', '-11.15784433', '233.6262205', '-690.9821024', '-16.7945354']\n"
     ]
    }
   ],
   "source": [
    "print(models[4])"
   ]
  },
  {
   "cell_type": "code",
   "execution_count": 11,
   "metadata": {},
   "outputs": [
    {
     "name": "stdout",
     "output_type": "stream",
     "text": [
      "[179.2841997796204, -338.59182319063575, -1338.3073379483208, 755.499978736892, -955.3756943794973, 1165.977715754501, 528.6527731135301, 1500.9399404095232, 493.164776463737, -431.4817088774101, -35.230378360601506, -19.43318130992982, 290.91041589744685, -91.06290010127861, -1129.8069204547003]\n"
     ]
    }
   ],
   "source": [
    "print(score_list)"
   ]
  },
  {
   "cell_type": "code",
   "execution_count": 12,
   "metadata": {},
   "outputs": [],
   "source": [
    "models[4] = score_list"
   ]
  },
  {
   "cell_type": "code",
   "execution_count": 13,
   "metadata": {},
   "outputs": [
    {
     "data": {
      "text/plain": [
       "[['model_0',\n",
       "  'model_1',\n",
       "  'model_2',\n",
       "  'model_3',\n",
       "  'model_4',\n",
       "  'model_06_13_20',\n",
       "  'model_06_20_20',\n",
       "  'model_6_27_20',\n",
       "  'model_7_18_20',\n",
       "  'model_7_25_20',\n",
       "  'model_9_2_20',\n",
       "  'model_9_10_20',\n",
       "  'model_10_23_20',\n",
       "  'model_10_27_20',\n",
       "  'model_10_28_20'],\n",
       " ['LogisticRegression(max_iter=50000, random_state=75)',\n",
       "  \"DecisionTreeClassifier(max_depth=27, max_leaf_nodes=336, min_samples_leaf=0.1,\\n                       random_state=75, splitter='random')\",\n",
       "  \"RandomForestClassifier(criterion='entropy', max_depth=10,\\n                       min_samples_leaf=0.101, n_estimators=22, n_jobs=-1,\\n                       random_state=75)\",\n",
       "  \"GradientBoostingClassifier(max_depth=17, max_features='sqrt',\\n                           max_leaf_nodes=316, min_samples_leaf=0.1,\\n                           n_estimators=195, random_state=75)\",\n",
       "  'GaussianNB(var_smoothing=1e-08)',\n",
       "  'LogisticRegression(max_iter=50000, random_state=75, tol=5.993308915320019)',\n",
       "  'GaussianNB()',\n",
       "  'GaussianNB()',\n",
       "  'GradientBoostingClassifier(n_estimators=122, random_state=75)',\n",
       "  'GaussianNB()',\n",
       "  'GaussianNB(var_smoothing=1e-12)',\n",
       "  'GaussianNB(var_smoothing=1e-12)',\n",
       "  'GradientBoostingClassifier(max_depth=95, min_samples_leaf=6, n_estimators=195,\\n                           random_state=75)',\n",
       "  \"RandomForestClassifier(criterion='entropy', max_depth=10, n_estimators=197,\\n                       n_jobs=-1, random_state=75)\",\n",
       "  \"RandomForestClassifier(criterion='entropy', max_depth=10, n_estimators=22,\\n                       n_jobs=-1, random_state=75)\"],\n",
       " [\"['R_draw', 'R_Light Heavyweight_rank', 'R_win_by_Decision_Split', 'age_dif', 'B_ev']\",\n",
       "  \"['gender', 'R_ev', 'B_avg_SIG_STR_landed']\",\n",
       "  \"['R_Reach_cms', 'R_avg_TD_landed', 'age_dif', 'B_avg_TD_pct', 'R_ev']\",\n",
       "  \"['R_current_lose_streak', 'B_avg_SIG_STR_pct', 'R_Stance', 'R_win_by_Decision_Unanimous', 'B_age', 'B_avg_SUB_ATT', 'reach_dif', 'country', 'R_odds']\",\n",
       "  '[\\'R_win_by_Decision_Unanimous\\', \\'B_Weight_lbs\\', \\'avg_td_dif\\', \\'sub_dif\\', \\'lose_streak_dif\\', \"R_Women\\'s Strawweight_rank\", \\'R_Middleweight_rank\\', \\'B_Lightweight_rank\\', \\'R_ev\\', \\'B_Stance\\']',\n",
       "  \"['B_win_by_Decision_Majority', 'B_win_by_TKO_Doctor_Stoppage', 'R_win_by_Decision_Majority', 'R_odds', 'R_current_lose_streak', 'R_Reach_cms', 'B_draw', 'total_round_dif', 'R_ev', 'B_ev']\",\n",
       "  \"['R_win_by_Decision_Unanimous', 'B_win_by_Submission', 'R_Weight_lbs', 'sig_str_dif', 'B_Height_cms', 'B_avg_SUB_ATT', 'R_win_by_TKO_Doctor_Stoppage', 'height_dif', 'B_draw', 'avg_td_dif', 'R_win_by_Decision_Split', 'age_dif', 'B_current_win_streak', 'R_odds']\",\n",
       "  \"['R_longest_win_streak', 'longest_win_streak_dif', 'reach_dif', 'avg_sub_att_dif', 'R_win_by_Decision_Unanimous', 'B_win_by_Submission', 'R_Weight_lbs', 'sig_str_dif', 'B_Height_cms', 'B_avg_SUB_ATT', 'R_win_by_TKO_Doctor_Stoppage', 'height_dif', 'B_draw', 'avg_td_dif', 'R_win_by_Decision_Split', 'age_dif', 'B_current_win_streak', 'R_odds']\",\n",
       "  \"['B_current_win_streak', 'R_win_by_Submission', 'B_win_by_Decision_Unanimous', 'R_win_by_Decision_Unanimous', 'R_current_lose_streak', 'B_win_by_TKO_Doctor_Stoppage', 'win_dif', 'B_win_by_Decision_Split', 'B_wins', 'R_Stance', 'B_age', 'B_Weight_lbs', 'R_ev', 'B_total_rounds_fought', 'location', 'R_odds', 'R_Reach_cms', 'R_Weight_lbs', 'R_current_win_streak', 'R_age', 'empty_arena', 'R_win_by_Decision_Split', 'R_draw', 'lose_streak_dif', 'B_draw']\",\n",
       "  \"['R_Reach_cms', 'total_round_dif', 'R_Height_cms', 'R_avg_SIG_STR_pct', 'B_age', 'R_longest_win_streak', 'lose_streak_dif', 'ko_dif', 'R_win_by_Decision_Majority', 'longest_win_streak_dif', 'avg_sub_att_dif', 'R_Weight_lbs', 'sig_str_dif', 'B_Height_cms', 'B_avg_SUB_ATT', 'R_win_by_TKO_Doctor_Stoppage', 'B_draw', 'avg_td_dif', 'R_win_by_Decision_Split', 'age_dif', 'B_current_win_streak', 'R_odds']\",\n",
       "  \"['win_streak_dif', 'B_Light Heavyweight_rank', 'B_Lightweight_rank', 'R_avg_TD_landed', 'R_Middleweight_rank', 'total_round_dif', 'R_Height_cms', 'R_avg_SIG_STR_pct', 'B_age', 'R_longest_win_streak', 'lose_streak_dif', 'R_win_by_Decision_Majority', 'longest_win_streak_dif', 'avg_sub_att_dif', 'R_Weight_lbs', 'sig_str_dif', 'B_Height_cms', 'B_avg_SUB_ATT', 'R_win_by_TKO_Doctor_Stoppage', 'B_draw', 'avg_td_dif', 'R_win_by_Decision_Split', 'age_dif', 'R_odds']\",\n",
       "  \"['B_Weight_lbs', 'B_Flyweight_rank', 'B_avg_TD_landed', 'B_Light Heavyweight_rank', 'B_Lightweight_rank', 'R_avg_TD_landed', 'R_Middleweight_rank', 'R_Height_cms', 'R_avg_SIG_STR_pct', 'B_age', 'R_longest_win_streak', 'lose_streak_dif', 'R_win_by_Decision_Majority', 'longest_win_streak_dif', 'avg_sub_att_dif', 'sig_str_dif', 'B_avg_SUB_ATT', 'R_win_by_TKO_Doctor_Stoppage', 'B_draw', 'R_win_by_Decision_Split', 'age_dif', 'R_odds']\",\n",
       "  \"['weight_class', 'B_Reach_cms', 'B_Welterweight_rank', 'B_total_title_bouts', 'R_avg_TD_pct', 'B_Bantamweight_rank', 'R_Featherweight_rank', 'no_of_rounds', 'B_draw', 'B_Stance', 'R_win_by_TKO_Doctor_Stoppage', 'R_current_win_streak', 'B_avg_SIG_STR_landed', 'country']\",\n",
       "  '[\\'R_Height_cms\\', \\'R_Bantamweight_rank\\', \\'B_current_lose_streak\\', \\'avg_sub_att_dif\\', \\'B_Middleweight_rank\\', \\'R_current_win_streak\\', \\'total_round_dif\\', \\'B_avg_SUB_ATT\\', \\'B_avg_SIG_STR_landed\\', \\'age_dif\\', \\'B_Light Heavyweight_rank\\', \\'R_avg_TD_pct\\', \\'R_ev\\', \"B_Women\\'s Flyweight_rank\", \"B_Women\\'s Strawweight_rank\", \\'B_Bantamweight_rank\\', \\'R_Reach_cms\\', \\'B_win_by_Decision_Unanimous\\', \\'constant_1\\']',\n",
       "  '[\\'B_Stance\\', \\'R_current_lose_streak\\', \\'loss_dif\\', \\'B_win_by_Decision_Split\\', \\'R_Height_cms\\', \\'R_Bantamweight_rank\\', \\'B_current_lose_streak\\', \\'avg_sub_att_dif\\', \\'B_Middleweight_rank\\', \\'R_current_win_streak\\', \\'total_round_dif\\', \\'B_avg_SUB_ATT\\', \\'B_avg_SIG_STR_landed\\', \\'age_dif\\', \\'B_Light Heavyweight_rank\\', \\'R_avg_TD_pct\\', \\'R_ev\\', \"B_Women\\'s Flyweight_rank\", \"B_Women\\'s Strawweight_rank\", \\'B_Bantamweight_rank\\', \\'R_Reach_cms\\', \\'B_win_by_Decision_Unanimous\\', \\'constant_1\\']'],\n",
       " ['0', '4', '0', '0', '0', '0', '0', '0', '0', '1', '3', '2', '27', '1', '5'],\n",
       " [179.2841997796204,\n",
       "  -338.59182319063575,\n",
       "  -1338.3073379483208,\n",
       "  755.499978736892,\n",
       "  -955.3756943794973,\n",
       "  1165.977715754501,\n",
       "  528.6527731135301,\n",
       "  1500.9399404095232,\n",
       "  493.164776463737,\n",
       "  -431.4817088774101,\n",
       "  -35.230378360601506,\n",
       "  -19.43318130992982,\n",
       "  290.91041589744685,\n",
       "  -91.06290010127861,\n",
       "  -1129.8069204547003]]"
      ]
     },
     "execution_count": 13,
     "metadata": {},
     "output_type": "execute_result"
    }
   ],
   "source": [
    "models"
   ]
  },
  {
   "cell_type": "code",
   "execution_count": 14,
   "metadata": {},
   "outputs": [
    {
     "name": "stdout",
     "output_type": "stream",
     "text": [
      "HI\n",
      "HI\n",
      "HI\n",
      "HI\n",
      "HI\n"
     ]
    }
   ],
   "source": [
    "with open('models.csv', 'w' , newline='') as outfile:\n",
    "    writer = csv.writer(outfile)\n",
    "    for row in models:\n",
    "        print(\"HI\")\n",
    "        writer.writerow(row)\n",
    "    \n",
    "outfile.close()"
   ]
  },
  {
   "cell_type": "code",
   "execution_count": null,
   "metadata": {},
   "outputs": [],
   "source": []
  }
 ],
 "metadata": {
  "kernelspec": {
   "display_name": "Python 3",
   "language": "python",
   "name": "python3"
  },
  "language_info": {
   "codemirror_mode": {
    "name": "ipython",
    "version": 3
   },
   "file_extension": ".py",
   "mimetype": "text/x-python",
   "name": "python",
   "nbconvert_exporter": "python",
   "pygments_lexer": "ipython3",
   "version": "3.8.8"
  }
 },
 "nbformat": 4,
 "nbformat_minor": 4
}
