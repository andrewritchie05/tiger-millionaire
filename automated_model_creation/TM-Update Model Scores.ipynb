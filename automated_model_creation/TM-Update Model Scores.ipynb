{
 "cells": [
  {
   "cell_type": "code",
   "execution_count": 1,
   "metadata": {},
   "outputs": [],
   "source": [
    "import pandas as pd\n",
    "import numpy as np\n",
    "from functions import *\n",
    "import random\n",
    "import csv\n",
    "from sklearn.linear_model import LogisticRegression\n",
    "from sklearn.tree import DecisionTreeClassifier\n",
    "from sklearn.ensemble import GradientBoostingClassifier\n",
    "\n",
    "remove_fight_island = False"
   ]
  },
  {
   "cell_type": "code",
   "execution_count": 2,
   "metadata": {},
   "outputs": [
    {
     "name": "stdout",
     "output_type": "stream",
     "text": [
      "5\n"
     ]
    }
   ],
   "source": [
    "#Load models\n",
    "#REMINDER: We are going to need to use 'eval' to get the models usable\n",
    "with open('models.csv', newline='') as f:\n",
    "    reader = csv.reader(f)\n",
    "    models = list(reader)\n",
    "    \n",
    "print(len(models))\n"
   ]
  },
  {
   "cell_type": "code",
   "execution_count": 3,
   "metadata": {},
   "outputs": [
    {
     "data": {
      "text/plain": [
       "[['model_0',\n",
       "  'model_1',\n",
       "  'model_2',\n",
       "  'model_3',\n",
       "  'model_4',\n",
       "  'model_06_13_20',\n",
       "  'model_06_20_20',\n",
       "  'model_6_27_20',\n",
       "  'model_7_18_20',\n",
       "  'model_7_25_20',\n",
       "  'model_9_2_20',\n",
       "  'model_9_10_20',\n",
       "  'model_10_23_20',\n",
       "  'model_10_27_20',\n",
       "  'model_10_28_20'],\n",
       " ['LogisticRegression(max_iter=50000, random_state=75)',\n",
       "  \"DecisionTreeClassifier(max_depth=3, max_leaf_nodes=336, min_samples_leaf=0.01,\\n                       random_state=75, splitter='random')\",\n",
       "  \"RandomForestClassifier(criterion='entropy', max_depth=83, max_leaf_nodes=20,\\n                       min_samples_leaf=0.009999000000000001, n_estimators=39,\\n                       n_jobs=-1, random_state=75)\",\n",
       "  \"GradientBoostingClassifier(max_depth=17, max_features='sqrt',\\n                           max_leaf_nodes=316, min_samples_leaf=0.1,\\n                           n_estimators=195, random_state=75)\",\n",
       "  'GaussianNB(var_smoothing=1e-08)',\n",
       "  'LogisticRegression(max_iter=50000, random_state=75, tol=5.993308915320019)',\n",
       "  'GaussianNB()',\n",
       "  'GaussianNB()',\n",
       "  'GradientBoostingClassifier(n_estimators=122, random_state=75)',\n",
       "  'GaussianNB()',\n",
       "  'GaussianNB(var_smoothing=1e-12)',\n",
       "  'GaussianNB(var_smoothing=1e-12)',\n",
       "  'GradientBoostingClassifier(max_depth=95, min_samples_leaf=6, n_estimators=195,\\n                           random_state=75)',\n",
       "  \"RandomForestClassifier(criterion='entropy', max_depth=10, n_estimators=197,\\n                       n_jobs=-1, random_state=75)\",\n",
       "  \"RandomForestClassifier(criterion='entropy', max_depth=10, n_estimators=22,\\n                       n_jobs=-1, random_state=75)\"],\n",
       " [\"['R_Stance', 'age_dif', 'B_ev']\",\n",
       "  \"['R_Stance', 'weight_class', 'B_avg_SIG_STR_landed', 'R_ev']\",\n",
       "  \"['R_Height_cms', 'B_odds', 'B_age', 'R_Reach_cms', 'B_avg_TD_pct', 'R_odds', 'B_avg_TD_landed']\",\n",
       "  \"['total_title_bout_dif', 'R_avg_SIG_STR_pct', 'B_ev']\",\n",
       "  \"['B_current_lose_streak', 'R_Reach_cms', 'B_win_by_Decision_Unanimous', 'B_Height_cms', 'reach_dif', 'B_Lightweight_rank', 'R_ev', 'B_Stance']\",\n",
       "  \"['B_win_by_Decision_Majority', 'B_win_by_TKO_Doctor_Stoppage', 'R_win_by_Decision_Majority', 'R_odds', 'R_current_lose_streak', 'R_Reach_cms', 'B_draw', 'total_round_dif', 'R_ev', 'B_ev']\",\n",
       "  \"['R_win_by_Decision_Unanimous', 'B_win_by_Submission', 'R_Weight_lbs', 'sig_str_dif', 'B_Height_cms', 'B_avg_SUB_ATT', 'R_win_by_TKO_Doctor_Stoppage', 'height_dif', 'B_draw', 'avg_td_dif', 'R_win_by_Decision_Split', 'age_dif', 'B_current_win_streak', 'R_odds']\",\n",
       "  \"['R_longest_win_streak', 'longest_win_streak_dif', 'reach_dif', 'avg_sub_att_dif', 'R_win_by_Decision_Unanimous', 'B_win_by_Submission', 'R_Weight_lbs', 'sig_str_dif', 'B_Height_cms', 'B_avg_SUB_ATT', 'R_win_by_TKO_Doctor_Stoppage', 'height_dif', 'B_draw', 'avg_td_dif', 'R_win_by_Decision_Split', 'age_dif', 'B_current_win_streak', 'R_odds']\",\n",
       "  \"['B_current_win_streak', 'R_win_by_Submission', 'B_win_by_Decision_Unanimous', 'R_win_by_Decision_Unanimous', 'R_current_lose_streak', 'B_win_by_TKO_Doctor_Stoppage', 'win_dif', 'B_win_by_Decision_Split', 'B_wins', 'R_Stance', 'B_age', 'B_Weight_lbs', 'R_ev', 'B_total_rounds_fought', 'location', 'R_odds', 'R_Reach_cms', 'R_Weight_lbs', 'R_current_win_streak', 'R_age', 'empty_arena', 'R_win_by_Decision_Split', 'R_draw', 'lose_streak_dif', 'B_draw']\",\n",
       "  \"['R_Reach_cms', 'total_round_dif', 'R_Height_cms', 'R_avg_SIG_STR_pct', 'B_age', 'R_longest_win_streak', 'lose_streak_dif', 'ko_dif', 'R_win_by_Decision_Majority', 'longest_win_streak_dif', 'avg_sub_att_dif', 'R_Weight_lbs', 'sig_str_dif', 'B_Height_cms', 'B_avg_SUB_ATT', 'R_win_by_TKO_Doctor_Stoppage', 'B_draw', 'avg_td_dif', 'R_win_by_Decision_Split', 'age_dif', 'B_current_win_streak', 'R_odds']\",\n",
       "  \"['win_streak_dif', 'B_Light Heavyweight_rank', 'B_Lightweight_rank', 'R_avg_TD_landed', 'R_Middleweight_rank', 'total_round_dif', 'R_Height_cms', 'R_avg_SIG_STR_pct', 'B_age', 'R_longest_win_streak', 'lose_streak_dif', 'R_win_by_Decision_Majority', 'longest_win_streak_dif', 'avg_sub_att_dif', 'R_Weight_lbs', 'sig_str_dif', 'B_Height_cms', 'B_avg_SUB_ATT', 'R_win_by_TKO_Doctor_Stoppage', 'B_draw', 'avg_td_dif', 'R_win_by_Decision_Split', 'age_dif', 'R_odds']\",\n",
       "  \"['B_Weight_lbs', 'B_Flyweight_rank', 'B_avg_TD_landed', 'B_Light Heavyweight_rank', 'B_Lightweight_rank', 'R_avg_TD_landed', 'R_Middleweight_rank', 'R_Height_cms', 'R_avg_SIG_STR_pct', 'B_age', 'R_longest_win_streak', 'lose_streak_dif', 'R_win_by_Decision_Majority', 'longest_win_streak_dif', 'avg_sub_att_dif', 'sig_str_dif', 'B_avg_SUB_ATT', 'R_win_by_TKO_Doctor_Stoppage', 'B_draw', 'R_win_by_Decision_Split', 'age_dif', 'R_odds']\",\n",
       "  \"['weight_class', 'B_Reach_cms', 'B_Welterweight_rank', 'B_total_title_bouts', 'R_avg_TD_pct', 'B_Bantamweight_rank', 'R_Featherweight_rank', 'no_of_rounds', 'B_draw', 'B_Stance', 'R_win_by_TKO_Doctor_Stoppage', 'R_current_win_streak', 'B_avg_SIG_STR_landed', 'country']\",\n",
       "  '[\\'R_Height_cms\\', \\'R_Bantamweight_rank\\', \\'B_current_lose_streak\\', \\'avg_sub_att_dif\\', \\'B_Middleweight_rank\\', \\'R_current_win_streak\\', \\'total_round_dif\\', \\'B_avg_SUB_ATT\\', \\'B_avg_SIG_STR_landed\\', \\'age_dif\\', \\'B_Light Heavyweight_rank\\', \\'R_avg_TD_pct\\', \\'R_ev\\', \"B_Women\\'s Flyweight_rank\", \"B_Women\\'s Strawweight_rank\", \\'B_Bantamweight_rank\\', \\'R_Reach_cms\\', \\'B_win_by_Decision_Unanimous\\', \\'constant_1\\']',\n",
       "  '[\\'B_Stance\\', \\'R_current_lose_streak\\', \\'loss_dif\\', \\'B_win_by_Decision_Split\\', \\'R_Height_cms\\', \\'R_Bantamweight_rank\\', \\'B_current_lose_streak\\', \\'avg_sub_att_dif\\', \\'B_Middleweight_rank\\', \\'R_current_win_streak\\', \\'total_round_dif\\', \\'B_avg_SUB_ATT\\', \\'B_avg_SIG_STR_landed\\', \\'age_dif\\', \\'B_Light Heavyweight_rank\\', \\'R_avg_TD_pct\\', \\'R_ev\\', \"B_Women\\'s Flyweight_rank\", \"B_Women\\'s Strawweight_rank\", \\'B_Bantamweight_rank\\', \\'R_Reach_cms\\', \\'B_win_by_Decision_Unanimous\\', \\'constant_1\\']'],\n",
       " ['0', '4', '2', '0', '0', '0', '0', '0', '0', '1', '3', '2', '27', '1', '5'],\n",
       " ['-908.2270374810071',\n",
       "  '-1583.8882911882702',\n",
       "  '863.5071918326112',\n",
       "  '-289.14301717372734',\n",
       "  '60.82113687354486',\n",
       "  '1650.158334',\n",
       "  '468.0115554',\n",
       "  '2570.446418',\n",
       "  '-513.9756548',\n",
       "  '140.333141',\n",
       "  '287.0186564',\n",
       "  '703.5510631',\n",
       "  '-126.6379278',\n",
       "  '622.5142487',\n",
       "  '-296.0965473']]"
      ]
     },
     "execution_count": 3,
     "metadata": {},
     "output_type": "execute_result"
    }
   ],
   "source": [
    "models"
   ]
  },
  {
   "cell_type": "code",
   "execution_count": 4,
   "metadata": {},
   "outputs": [],
   "source": [
    "df = pd.read_csv(\"../data/kaggle_data/ufc-master.csv\")"
   ]
  },
  {
   "cell_type": "code",
   "execution_count": 5,
   "metadata": {},
   "outputs": [
    {
     "name": "stdout",
     "output_type": "stream",
     "text": [
      "250\n",
      "250\n",
      "250\n",
      "4497\n",
      "4497\n",
      "4497\n"
     ]
    },
    {
     "name": "stderr",
     "output_type": "stream",
     "text": [
      "<ipython-input-5-d6c2a1ffdd58>:5: SettingWithCopyWarning: \n",
      "A value is trying to be set on a copy of a slice from a DataFrame\n",
      "\n",
      "See the caveats in the documentation: https://pandas.pydata.org/pandas-docs/stable/user_guide/indexing.html#returning-a-view-versus-a-copy\n",
      "  df['label'][mask] = 0\n",
      "<ipython-input-5-d6c2a1ffdd58>:7: SettingWithCopyWarning: \n",
      "A value is trying to be set on a copy of a slice from a DataFrame\n",
      "\n",
      "See the caveats in the documentation: https://pandas.pydata.org/pandas-docs/stable/user_guide/indexing.html#returning-a-view-versus-a-copy\n",
      "  df['label'][mask] = 1\n"
     ]
    }
   ],
   "source": [
    "#Let's put all the labels in a dataframe\n",
    "df['label'] = ''\n",
    "#If the winner is not Red or Blue we can remove it.\n",
    "mask = df['Winner'] == 'Red'\n",
    "df['label'][mask] = 0\n",
    "mask = df['Winner'] == 'Blue'\n",
    "df['label'][mask] = 1\n",
    "\n",
    "#df[\"Winner\"] = df[\"Winner\"].astype('category')\n",
    "df = df[(df['Winner'] == 'Blue') | (df['Winner'] == 'Red')]\n",
    "\n",
    "\n",
    "#Make sure lable is numeric\n",
    "df['label'] = pd.to_numeric(df['label'], errors='coerce')\n",
    "\n",
    "#Let's fix the date\n",
    "df['date'] = pd.to_datetime(df['date'])\n",
    "\n",
    "#Create a label df:\n",
    "label_df = df['label']\n",
    "\n",
    "#Let's create an odds df too:\n",
    "odds_df = df[['R_odds', 'B_odds']]\n",
    "\n",
    "#Split the test set.  We are always(?) going to use the last 200 matches as the test set, so we don't want those around\n",
    "#as we pick models\n",
    "\n",
    "df_train = df[250:]\n",
    "odds_train = odds_df[250:]\n",
    "label_train = label_df[250:]\n",
    "\n",
    "df_test = df[:250]\n",
    "odds_test = odds_df[:250]\n",
    "label_test = label_df[:250]\n",
    "\n",
    "print(len(df_test))\n",
    "print(len(odds_test))\n",
    "print(len(label_test))\n",
    "\n",
    "print(len(df_train))\n",
    "print(len(odds_train))\n",
    "print(len(label_train))"
   ]
  },
  {
   "cell_type": "code",
   "execution_count": 6,
   "metadata": {},
   "outputs": [
    {
     "name": "stdout",
     "output_type": "stream",
     "text": [
      "250\n",
      "4497\n"
     ]
    }
   ],
   "source": [
    "if remove_fight_island:\n",
    "    ##Let's remove the Fight island contests and see how that affects score\n",
    "    df_test_no_fight_island = df_test[(df_test['location'] != 'Abu Dhabi, Abu Dhabi, United Arab Emirates')]\n",
    "    df_train_no_fight_island = df_train[(df_train['location'] != 'Abu Dhabi, Abu Dhabi, United Arab Emirates')]\n",
    "    df_test = df_test_no_fight_island\n",
    "    df_train = df_train_no_fight_island\n",
    "\n",
    "\n",
    "\n",
    "print(len(df_test))\n",
    "print(len(df_train))\n"
   ]
  },
  {
   "cell_type": "code",
   "execution_count": 7,
   "metadata": {},
   "outputs": [
    {
     "name": "stderr",
     "output_type": "stream",
     "text": [
      "C:\\Users\\matth\\anaconda3\\lib\\site-packages\\pandas\\core\\frame.py:3191: SettingWithCopyWarning: \n",
      "A value is trying to be set on a copy of a slice from a DataFrame.\n",
      "Try using .loc[row_indexer,col_indexer] = value instead\n",
      "\n",
      "See the caveats in the documentation: https://pandas.pydata.org/pandas-docs/stable/user_guide/indexing.html#returning-a-view-versus-a-copy\n",
      "  self[k1] = value[k2]\n"
     ]
    }
   ],
   "source": [
    "#Set a value for the nulls in the ranks\n",
    "\n",
    "weightclass_list = ['B_match_weightclass_rank', 'R_match_weightclass_rank', \"R_Women's Flyweight_rank\", \"R_Women's Featherweight_rank\", \"R_Women's Strawweight_rank\", \"R_Women's Bantamweight_rank\", 'R_Heavyweight_rank', 'R_Light Heavyweight_rank', 'R_Middleweight_rank', 'R_Welterweight_rank', 'R_Lightweight_rank', 'R_Featherweight_rank', 'R_Bantamweight_rank', 'R_Flyweight_rank', 'R_Pound-for-Pound_rank', \"B_Women's Flyweight_rank\", \"B_Women's Featherweight_rank\", \"B_Women's Strawweight_rank\", \"B_Women's Bantamweight_rank\", 'B_Heavyweight_rank', 'B_Light Heavyweight_rank', 'B_Middleweight_rank', 'B_Welterweight_rank', 'B_Lightweight_rank', 'B_Featherweight_rank', 'B_Bantamweight_rank', 'B_Flyweight_rank', 'B_Pound-for-Pound_rank']\n",
    "df_train[weightclass_list] = df_train[weightclass_list].fillna(17)\n",
    "df_test[weightclass_list] = df_test[weightclass_list].fillna(17)"
   ]
  },
  {
   "cell_type": "code",
   "execution_count": 8,
   "metadata": {},
   "outputs": [
    {
     "data": {
      "text/plain": [
       "15"
      ]
     },
     "execution_count": 8,
     "metadata": {},
     "output_type": "execute_result"
    }
   ],
   "source": [
    "len(models[0])"
   ]
  },
  {
   "cell_type": "code",
   "execution_count": null,
   "metadata": {},
   "outputs": [],
   "source": []
  },
  {
   "cell_type": "code",
   "execution_count": 9,
   "metadata": {},
   "outputs": [
    {
     "data": {
      "text/plain": [
       "(4497, 6)"
      ]
     },
     "metadata": {},
     "output_type": "display_data"
    },
    {
     "data": {
      "text/plain": [
       "(4497,)"
      ]
     },
     "metadata": {},
     "output_type": "display_data"
    },
    {
     "data": {
      "text/plain": [
       "(4497, 2)"
      ]
     },
     "metadata": {},
     "output_type": "display_data"
    },
    {
     "data": {
      "text/plain": [
       "(250, 6)"
      ]
     },
     "metadata": {},
     "output_type": "display_data"
    },
    {
     "data": {
      "text/plain": [
       "(250,)"
      ]
     },
     "metadata": {},
     "output_type": "display_data"
    },
    {
     "data": {
      "text/plain": [
       "(250, 2)"
      ]
     },
     "metadata": {},
     "output_type": "display_data"
    },
    {
     "data": {
      "text/html": [
       "<div>\n",
       "<style scoped>\n",
       "    .dataframe tbody tr th:only-of-type {\n",
       "        vertical-align: middle;\n",
       "    }\n",
       "\n",
       "    .dataframe tbody tr th {\n",
       "        vertical-align: top;\n",
       "    }\n",
       "\n",
       "    .dataframe thead th {\n",
       "        text-align: right;\n",
       "    }\n",
       "</style>\n",
       "<table border=\"1\" class=\"dataframe\">\n",
       "  <thead>\n",
       "    <tr style=\"text-align: right;\">\n",
       "      <th></th>\n",
       "      <th>t1_odds</th>\n",
       "      <th>t2_odds</th>\n",
       "      <th>t1_prob</th>\n",
       "      <th>t2_prob</th>\n",
       "      <th>winner</th>\n",
       "    </tr>\n",
       "  </thead>\n",
       "  <tbody>\n",
       "    <tr>\n",
       "      <th>0</th>\n",
       "      <td>-235</td>\n",
       "      <td>185</td>\n",
       "      <td>0.706442</td>\n",
       "      <td>0.293558</td>\n",
       "      <td>0</td>\n",
       "    </tr>\n",
       "    <tr>\n",
       "      <th>1</th>\n",
       "      <td>-195</td>\n",
       "      <td>150</td>\n",
       "      <td>0.618122</td>\n",
       "      <td>0.381878</td>\n",
       "      <td>1</td>\n",
       "    </tr>\n",
       "    <tr>\n",
       "      <th>2</th>\n",
       "      <td>-500</td>\n",
       "      <td>355</td>\n",
       "      <td>0.819748</td>\n",
       "      <td>0.180252</td>\n",
       "      <td>0</td>\n",
       "    </tr>\n",
       "    <tr>\n",
       "      <th>3</th>\n",
       "      <td>170</td>\n",
       "      <td>-220</td>\n",
       "      <td>0.523882</td>\n",
       "      <td>0.476118</td>\n",
       "      <td>1</td>\n",
       "    </tr>\n",
       "    <tr>\n",
       "      <th>4</th>\n",
       "      <td>210</td>\n",
       "      <td>-275</td>\n",
       "      <td>0.422040</td>\n",
       "      <td>0.577960</td>\n",
       "      <td>0</td>\n",
       "    </tr>\n",
       "    <tr>\n",
       "      <th>...</th>\n",
       "      <td>...</td>\n",
       "      <td>...</td>\n",
       "      <td>...</td>\n",
       "      <td>...</td>\n",
       "      <td>...</td>\n",
       "    </tr>\n",
       "    <tr>\n",
       "      <th>245</th>\n",
       "      <td>140</td>\n",
       "      <td>-177</td>\n",
       "      <td>0.519671</td>\n",
       "      <td>0.480329</td>\n",
       "      <td>1</td>\n",
       "    </tr>\n",
       "    <tr>\n",
       "      <th>246</th>\n",
       "      <td>-215</td>\n",
       "      <td>170</td>\n",
       "      <td>0.642815</td>\n",
       "      <td>0.357185</td>\n",
       "      <td>0</td>\n",
       "    </tr>\n",
       "    <tr>\n",
       "      <th>247</th>\n",
       "      <td>-200</td>\n",
       "      <td>160</td>\n",
       "      <td>0.626083</td>\n",
       "      <td>0.373917</td>\n",
       "      <td>0</td>\n",
       "    </tr>\n",
       "    <tr>\n",
       "      <th>248</th>\n",
       "      <td>-139</td>\n",
       "      <td>112</td>\n",
       "      <td>0.510932</td>\n",
       "      <td>0.489068</td>\n",
       "      <td>0</td>\n",
       "    </tr>\n",
       "    <tr>\n",
       "      <th>249</th>\n",
       "      <td>310</td>\n",
       "      <td>-420</td>\n",
       "      <td>0.466250</td>\n",
       "      <td>0.533750</td>\n",
       "      <td>1</td>\n",
       "    </tr>\n",
       "  </tbody>\n",
       "</table>\n",
       "<p>250 rows × 5 columns</p>\n",
       "</div>"
      ],
      "text/plain": [
       "     t1_odds  t2_odds   t1_prob   t2_prob  winner\n",
       "0       -235      185  0.706442  0.293558       0\n",
       "1       -195      150  0.618122  0.381878       1\n",
       "2       -500      355  0.819748  0.180252       0\n",
       "3        170     -220  0.523882  0.476118       1\n",
       "4        210     -275  0.422040  0.577960       0\n",
       "..       ...      ...       ...       ...     ...\n",
       "245      140     -177  0.519671  0.480329       1\n",
       "246     -215      170  0.642815  0.357185       0\n",
       "247     -200      160  0.626083  0.373917       0\n",
       "248     -139      112  0.510932  0.489068       0\n",
       "249      310     -420  0.466250  0.533750       1\n",
       "\n",
       "[250 rows x 5 columns]"
      ]
     },
     "metadata": {},
     "output_type": "display_data"
    },
    {
     "name": "stdout",
     "output_type": "stream",
     "text": [
      "\n",
      "          Number of matches: 250\n",
      "          Number of bets: 189\n",
      "          Number of winning bets: 78\n",
      "          Number of losing bets: 112\n",
      "          Number of underdog bets: 153\n",
      "          Number of underdog wins: 57\n",
      "          Number of underdog losses: 96\n",
      "          Number of Favorite bets: 37\n",
      "          Number of favorite wins: 21\n",
      "          Number of favorite losses: 16\n",
      "          Number of even bets: 0\n",
      "          Number of even wins: 0\n",
      "          Number of even losses: 0\n",
      "          Profit: -908.2270374810071\n",
      "          Profit per bet: -4.8054340607460695\n",
      "          Profit per match: -3.6329081499240283\n",
      "          \n",
      "          \n"
     ]
    },
    {
     "data": {
      "text/plain": [
       "(3567, 19)"
      ]
     },
     "metadata": {},
     "output_type": "display_data"
    },
    {
     "data": {
      "text/plain": [
       "(3567,)"
      ]
     },
     "metadata": {},
     "output_type": "display_data"
    },
    {
     "data": {
      "text/plain": [
       "(3567, 2)"
      ]
     },
     "metadata": {},
     "output_type": "display_data"
    },
    {
     "data": {
      "text/plain": [
       "(250, 19)"
      ]
     },
     "metadata": {},
     "output_type": "display_data"
    },
    {
     "data": {
      "text/plain": [
       "(250,)"
      ]
     },
     "metadata": {},
     "output_type": "display_data"
    },
    {
     "data": {
      "text/plain": [
       "(250, 2)"
      ]
     },
     "metadata": {},
     "output_type": "display_data"
    },
    {
     "data": {
      "text/html": [
       "<div>\n",
       "<style scoped>\n",
       "    .dataframe tbody tr th:only-of-type {\n",
       "        vertical-align: middle;\n",
       "    }\n",
       "\n",
       "    .dataframe tbody tr th {\n",
       "        vertical-align: top;\n",
       "    }\n",
       "\n",
       "    .dataframe thead th {\n",
       "        text-align: right;\n",
       "    }\n",
       "</style>\n",
       "<table border=\"1\" class=\"dataframe\">\n",
       "  <thead>\n",
       "    <tr style=\"text-align: right;\">\n",
       "      <th></th>\n",
       "      <th>t1_odds</th>\n",
       "      <th>t2_odds</th>\n",
       "      <th>t1_prob</th>\n",
       "      <th>t2_prob</th>\n",
       "      <th>winner</th>\n",
       "    </tr>\n",
       "  </thead>\n",
       "  <tbody>\n",
       "    <tr>\n",
       "      <th>0</th>\n",
       "      <td>-235</td>\n",
       "      <td>185</td>\n",
       "      <td>0.756530</td>\n",
       "      <td>0.243470</td>\n",
       "      <td>0</td>\n",
       "    </tr>\n",
       "    <tr>\n",
       "      <th>1</th>\n",
       "      <td>-195</td>\n",
       "      <td>150</td>\n",
       "      <td>0.756530</td>\n",
       "      <td>0.243470</td>\n",
       "      <td>1</td>\n",
       "    </tr>\n",
       "    <tr>\n",
       "      <th>2</th>\n",
       "      <td>-500</td>\n",
       "      <td>355</td>\n",
       "      <td>0.756530</td>\n",
       "      <td>0.243470</td>\n",
       "      <td>0</td>\n",
       "    </tr>\n",
       "    <tr>\n",
       "      <th>3</th>\n",
       "      <td>170</td>\n",
       "      <td>-220</td>\n",
       "      <td>0.504726</td>\n",
       "      <td>0.495274</td>\n",
       "      <td>1</td>\n",
       "    </tr>\n",
       "    <tr>\n",
       "      <th>4</th>\n",
       "      <td>210</td>\n",
       "      <td>-275</td>\n",
       "      <td>0.463991</td>\n",
       "      <td>0.536009</td>\n",
       "      <td>0</td>\n",
       "    </tr>\n",
       "    <tr>\n",
       "      <th>...</th>\n",
       "      <td>...</td>\n",
       "      <td>...</td>\n",
       "      <td>...</td>\n",
       "      <td>...</td>\n",
       "      <td>...</td>\n",
       "    </tr>\n",
       "    <tr>\n",
       "      <th>245</th>\n",
       "      <td>140</td>\n",
       "      <td>-177</td>\n",
       "      <td>0.504726</td>\n",
       "      <td>0.495274</td>\n",
       "      <td>1</td>\n",
       "    </tr>\n",
       "    <tr>\n",
       "      <th>246</th>\n",
       "      <td>-215</td>\n",
       "      <td>170</td>\n",
       "      <td>0.756530</td>\n",
       "      <td>0.243470</td>\n",
       "      <td>0</td>\n",
       "    </tr>\n",
       "    <tr>\n",
       "      <th>247</th>\n",
       "      <td>-200</td>\n",
       "      <td>160</td>\n",
       "      <td>0.756530</td>\n",
       "      <td>0.243470</td>\n",
       "      <td>0</td>\n",
       "    </tr>\n",
       "    <tr>\n",
       "      <th>248</th>\n",
       "      <td>-139</td>\n",
       "      <td>112</td>\n",
       "      <td>0.463991</td>\n",
       "      <td>0.536009</td>\n",
       "      <td>0</td>\n",
       "    </tr>\n",
       "    <tr>\n",
       "      <th>249</th>\n",
       "      <td>310</td>\n",
       "      <td>-420</td>\n",
       "      <td>0.463991</td>\n",
       "      <td>0.536009</td>\n",
       "      <td>1</td>\n",
       "    </tr>\n",
       "  </tbody>\n",
       "</table>\n",
       "<p>250 rows × 5 columns</p>\n",
       "</div>"
      ],
      "text/plain": [
       "     t1_odds  t2_odds   t1_prob   t2_prob  winner\n",
       "0       -235      185  0.756530  0.243470       0\n",
       "1       -195      150  0.756530  0.243470       1\n",
       "2       -500      355  0.756530  0.243470       0\n",
       "3        170     -220  0.504726  0.495274       1\n",
       "4        210     -275  0.463991  0.536009       0\n",
       "..       ...      ...       ...       ...     ...\n",
       "245      140     -177  0.504726  0.495274       1\n",
       "246     -215      170  0.756530  0.243470       0\n",
       "247     -200      160  0.756530  0.243470       0\n",
       "248     -139      112  0.463991  0.536009       0\n",
       "249      310     -420  0.463991  0.536009       1\n",
       "\n",
       "[250 rows x 5 columns]"
      ]
     },
     "metadata": {},
     "output_type": "display_data"
    },
    {
     "name": "stdout",
     "output_type": "stream",
     "text": [
      "\n",
      "          Number of matches: 250\n",
      "          Number of bets: 189\n",
      "          Number of winning bets: 81\n",
      "          Number of losing bets: 108\n",
      "          Number of underdog bets: 142\n",
      "          Number of underdog wins: 51\n",
      "          Number of underdog losses: 91\n",
      "          Number of Favorite bets: 47\n",
      "          Number of favorite wins: 30\n",
      "          Number of favorite losses: 17\n",
      "          Number of even bets: 0\n",
      "          Number of even wins: 0\n",
      "          Number of even losses: 0\n",
      "          Profit: -1583.8882911882702\n",
      "          Profit per bet: -8.380361329038466\n",
      "          Profit per match: -6.3355531647530805\n",
      "          \n",
      "          \n"
     ]
    },
    {
     "data": {
      "text/plain": [
       "(3655, 7)"
      ]
     },
     "metadata": {},
     "output_type": "display_data"
    },
    {
     "data": {
      "text/plain": [
       "(3655,)"
      ]
     },
     "metadata": {},
     "output_type": "display_data"
    },
    {
     "data": {
      "text/plain": [
       "(3655, 2)"
      ]
     },
     "metadata": {},
     "output_type": "display_data"
    },
    {
     "data": {
      "text/plain": [
       "(250, 7)"
      ]
     },
     "metadata": {},
     "output_type": "display_data"
    },
    {
     "data": {
      "text/plain": [
       "(250,)"
      ]
     },
     "metadata": {},
     "output_type": "display_data"
    },
    {
     "data": {
      "text/plain": [
       "(250, 2)"
      ]
     },
     "metadata": {},
     "output_type": "display_data"
    },
    {
     "data": {
      "text/html": [
       "<div>\n",
       "<style scoped>\n",
       "    .dataframe tbody tr th:only-of-type {\n",
       "        vertical-align: middle;\n",
       "    }\n",
       "\n",
       "    .dataframe tbody tr th {\n",
       "        vertical-align: top;\n",
       "    }\n",
       "\n",
       "    .dataframe thead th {\n",
       "        text-align: right;\n",
       "    }\n",
       "</style>\n",
       "<table border=\"1\" class=\"dataframe\">\n",
       "  <thead>\n",
       "    <tr style=\"text-align: right;\">\n",
       "      <th></th>\n",
       "      <th>t1_odds</th>\n",
       "      <th>t2_odds</th>\n",
       "      <th>t1_prob</th>\n",
       "      <th>t2_prob</th>\n",
       "      <th>winner</th>\n",
       "    </tr>\n",
       "  </thead>\n",
       "  <tbody>\n",
       "    <tr>\n",
       "      <th>0</th>\n",
       "      <td>-235</td>\n",
       "      <td>185</td>\n",
       "      <td>0.726725</td>\n",
       "      <td>0.273275</td>\n",
       "      <td>0</td>\n",
       "    </tr>\n",
       "    <tr>\n",
       "      <th>1</th>\n",
       "      <td>-195</td>\n",
       "      <td>150</td>\n",
       "      <td>0.586916</td>\n",
       "      <td>0.413084</td>\n",
       "      <td>1</td>\n",
       "    </tr>\n",
       "    <tr>\n",
       "      <th>2</th>\n",
       "      <td>-500</td>\n",
       "      <td>355</td>\n",
       "      <td>0.761285</td>\n",
       "      <td>0.238715</td>\n",
       "      <td>0</td>\n",
       "    </tr>\n",
       "    <tr>\n",
       "      <th>3</th>\n",
       "      <td>170</td>\n",
       "      <td>-220</td>\n",
       "      <td>0.373052</td>\n",
       "      <td>0.626948</td>\n",
       "      <td>1</td>\n",
       "    </tr>\n",
       "    <tr>\n",
       "      <th>4</th>\n",
       "      <td>210</td>\n",
       "      <td>-275</td>\n",
       "      <td>0.375364</td>\n",
       "      <td>0.624636</td>\n",
       "      <td>0</td>\n",
       "    </tr>\n",
       "    <tr>\n",
       "      <th>...</th>\n",
       "      <td>...</td>\n",
       "      <td>...</td>\n",
       "      <td>...</td>\n",
       "      <td>...</td>\n",
       "      <td>...</td>\n",
       "    </tr>\n",
       "    <tr>\n",
       "      <th>245</th>\n",
       "      <td>140</td>\n",
       "      <td>-177</td>\n",
       "      <td>0.505699</td>\n",
       "      <td>0.494301</td>\n",
       "      <td>1</td>\n",
       "    </tr>\n",
       "    <tr>\n",
       "      <th>246</th>\n",
       "      <td>-215</td>\n",
       "      <td>170</td>\n",
       "      <td>0.723330</td>\n",
       "      <td>0.276670</td>\n",
       "      <td>0</td>\n",
       "    </tr>\n",
       "    <tr>\n",
       "      <th>247</th>\n",
       "      <td>-200</td>\n",
       "      <td>160</td>\n",
       "      <td>0.623582</td>\n",
       "      <td>0.376418</td>\n",
       "      <td>0</td>\n",
       "    </tr>\n",
       "    <tr>\n",
       "      <th>248</th>\n",
       "      <td>-139</td>\n",
       "      <td>112</td>\n",
       "      <td>0.481927</td>\n",
       "      <td>0.518073</td>\n",
       "      <td>0</td>\n",
       "    </tr>\n",
       "    <tr>\n",
       "      <th>249</th>\n",
       "      <td>310</td>\n",
       "      <td>-420</td>\n",
       "      <td>0.275034</td>\n",
       "      <td>0.724966</td>\n",
       "      <td>1</td>\n",
       "    </tr>\n",
       "  </tbody>\n",
       "</table>\n",
       "<p>250 rows × 5 columns</p>\n",
       "</div>"
      ],
      "text/plain": [
       "     t1_odds  t2_odds   t1_prob   t2_prob  winner\n",
       "0       -235      185  0.726725  0.273275       0\n",
       "1       -195      150  0.586916  0.413084       1\n",
       "2       -500      355  0.761285  0.238715       0\n",
       "3        170     -220  0.373052  0.626948       1\n",
       "4        210     -275  0.375364  0.624636       0\n",
       "..       ...      ...       ...       ...     ...\n",
       "245      140     -177  0.505699  0.494301       1\n",
       "246     -215      170  0.723330  0.276670       0\n",
       "247     -200      160  0.623582  0.376418       0\n",
       "248     -139      112  0.481927  0.518073       0\n",
       "249      310     -420  0.275034  0.724966       1\n",
       "\n",
       "[250 rows x 5 columns]"
      ]
     },
     "metadata": {},
     "output_type": "display_data"
    },
    {
     "name": "stdout",
     "output_type": "stream",
     "text": [
      "\n",
      "          Number of matches: 250\n",
      "          Number of bets: 166\n",
      "          Number of winning bets: 85\n",
      "          Number of losing bets: 83\n",
      "          Number of underdog bets: 123\n",
      "          Number of underdog wins: 52\n",
      "          Number of underdog losses: 71\n",
      "          Number of Favorite bets: 43\n",
      "          Number of favorite wins: 32\n",
      "          Number of favorite losses: 11\n",
      "          Number of even bets: 2\n",
      "          Number of even wins: 1\n",
      "          Number of even losses: 1\n",
      "          Profit: 863.5071918326112\n",
      "          Profit per bet: 5.201850553208501\n",
      "          Profit per match: 3.4540287673304446\n",
      "          \n",
      "          \n"
     ]
    },
    {
     "data": {
      "text/plain": [
       "(4140, 3)"
      ]
     },
     "metadata": {},
     "output_type": "display_data"
    },
    {
     "data": {
      "text/plain": [
       "(4140,)"
      ]
     },
     "metadata": {},
     "output_type": "display_data"
    },
    {
     "data": {
      "text/plain": [
       "(4140, 2)"
      ]
     },
     "metadata": {},
     "output_type": "display_data"
    },
    {
     "data": {
      "text/plain": [
       "(250, 3)"
      ]
     },
     "metadata": {},
     "output_type": "display_data"
    },
    {
     "data": {
      "text/plain": [
       "(250,)"
      ]
     },
     "metadata": {},
     "output_type": "display_data"
    },
    {
     "data": {
      "text/plain": [
       "(250, 2)"
      ]
     },
     "metadata": {},
     "output_type": "display_data"
    },
    {
     "data": {
      "text/html": [
       "<div>\n",
       "<style scoped>\n",
       "    .dataframe tbody tr th:only-of-type {\n",
       "        vertical-align: middle;\n",
       "    }\n",
       "\n",
       "    .dataframe tbody tr th {\n",
       "        vertical-align: top;\n",
       "    }\n",
       "\n",
       "    .dataframe thead th {\n",
       "        text-align: right;\n",
       "    }\n",
       "</style>\n",
       "<table border=\"1\" class=\"dataframe\">\n",
       "  <thead>\n",
       "    <tr style=\"text-align: right;\">\n",
       "      <th></th>\n",
       "      <th>t1_odds</th>\n",
       "      <th>t2_odds</th>\n",
       "      <th>t1_prob</th>\n",
       "      <th>t2_prob</th>\n",
       "      <th>winner</th>\n",
       "    </tr>\n",
       "  </thead>\n",
       "  <tbody>\n",
       "    <tr>\n",
       "      <th>0</th>\n",
       "      <td>-235</td>\n",
       "      <td>185</td>\n",
       "      <td>0.713456</td>\n",
       "      <td>0.286544</td>\n",
       "      <td>0</td>\n",
       "    </tr>\n",
       "    <tr>\n",
       "      <th>1</th>\n",
       "      <td>-195</td>\n",
       "      <td>150</td>\n",
       "      <td>0.550871</td>\n",
       "      <td>0.449129</td>\n",
       "      <td>1</td>\n",
       "    </tr>\n",
       "    <tr>\n",
       "      <th>2</th>\n",
       "      <td>-500</td>\n",
       "      <td>355</td>\n",
       "      <td>0.886410</td>\n",
       "      <td>0.113590</td>\n",
       "      <td>0</td>\n",
       "    </tr>\n",
       "    <tr>\n",
       "      <th>3</th>\n",
       "      <td>170</td>\n",
       "      <td>-220</td>\n",
       "      <td>0.411231</td>\n",
       "      <td>0.588769</td>\n",
       "      <td>1</td>\n",
       "    </tr>\n",
       "    <tr>\n",
       "      <th>4</th>\n",
       "      <td>210</td>\n",
       "      <td>-275</td>\n",
       "      <td>0.286660</td>\n",
       "      <td>0.713340</td>\n",
       "      <td>0</td>\n",
       "    </tr>\n",
       "    <tr>\n",
       "      <th>...</th>\n",
       "      <td>...</td>\n",
       "      <td>...</td>\n",
       "      <td>...</td>\n",
       "      <td>...</td>\n",
       "      <td>...</td>\n",
       "    </tr>\n",
       "    <tr>\n",
       "      <th>245</th>\n",
       "      <td>140</td>\n",
       "      <td>-177</td>\n",
       "      <td>0.317834</td>\n",
       "      <td>0.682166</td>\n",
       "      <td>1</td>\n",
       "    </tr>\n",
       "    <tr>\n",
       "      <th>246</th>\n",
       "      <td>-215</td>\n",
       "      <td>170</td>\n",
       "      <td>0.656719</td>\n",
       "      <td>0.343281</td>\n",
       "      <td>0</td>\n",
       "    </tr>\n",
       "    <tr>\n",
       "      <th>247</th>\n",
       "      <td>-200</td>\n",
       "      <td>160</td>\n",
       "      <td>0.566308</td>\n",
       "      <td>0.433692</td>\n",
       "      <td>0</td>\n",
       "    </tr>\n",
       "    <tr>\n",
       "      <th>248</th>\n",
       "      <td>-139</td>\n",
       "      <td>112</td>\n",
       "      <td>0.551483</td>\n",
       "      <td>0.448517</td>\n",
       "      <td>0</td>\n",
       "    </tr>\n",
       "    <tr>\n",
       "      <th>249</th>\n",
       "      <td>310</td>\n",
       "      <td>-420</td>\n",
       "      <td>0.292437</td>\n",
       "      <td>0.707563</td>\n",
       "      <td>1</td>\n",
       "    </tr>\n",
       "  </tbody>\n",
       "</table>\n",
       "<p>250 rows × 5 columns</p>\n",
       "</div>"
      ],
      "text/plain": [
       "     t1_odds  t2_odds   t1_prob   t2_prob  winner\n",
       "0       -235      185  0.713456  0.286544       0\n",
       "1       -195      150  0.550871  0.449129       1\n",
       "2       -500      355  0.886410  0.113590       0\n",
       "3        170     -220  0.411231  0.588769       1\n",
       "4        210     -275  0.286660  0.713340       0\n",
       "..       ...      ...       ...       ...     ...\n",
       "245      140     -177  0.317834  0.682166       1\n",
       "246     -215      170  0.656719  0.343281       0\n",
       "247     -200      160  0.566308  0.433692       0\n",
       "248     -139      112  0.551483  0.448517       0\n",
       "249      310     -420  0.292437  0.707563       1\n",
       "\n",
       "[250 rows x 5 columns]"
      ]
     },
     "metadata": {},
     "output_type": "display_data"
    },
    {
     "name": "stdout",
     "output_type": "stream",
     "text": [
      "\n",
      "          Number of matches: 250\n",
      "          Number of bets: 180\n",
      "          Number of winning bets: 94\n",
      "          Number of losing bets: 86\n",
      "          Number of underdog bets: 88\n",
      "          Number of underdog wins: 39\n",
      "          Number of underdog losses: 49\n",
      "          Number of Favorite bets: 88\n",
      "          Number of favorite wins: 54\n",
      "          Number of favorite losses: 34\n",
      "          Number of even bets: 4\n",
      "          Number of even wins: 1\n",
      "          Number of even losses: 3\n",
      "          Profit: -289.14301717372734\n",
      "          Profit per bet: -1.6063500954095964\n",
      "          Profit per match: -1.1565720686949095\n",
      "          \n",
      "          \n"
     ]
    },
    {
     "data": {
      "text/plain": [
       "(4497, 12)"
      ]
     },
     "metadata": {},
     "output_type": "display_data"
    },
    {
     "data": {
      "text/plain": [
       "(4497,)"
      ]
     },
     "metadata": {},
     "output_type": "display_data"
    },
    {
     "data": {
      "text/plain": [
       "(4497, 2)"
      ]
     },
     "metadata": {},
     "output_type": "display_data"
    },
    {
     "data": {
      "text/plain": [
       "(248, 12)"
      ]
     },
     "metadata": {},
     "output_type": "display_data"
    },
    {
     "data": {
      "text/plain": [
       "(248,)"
      ]
     },
     "metadata": {},
     "output_type": "display_data"
    },
    {
     "data": {
      "text/plain": [
       "(248, 2)"
      ]
     },
     "metadata": {},
     "output_type": "display_data"
    },
    {
     "data": {
      "text/html": [
       "<div>\n",
       "<style scoped>\n",
       "    .dataframe tbody tr th:only-of-type {\n",
       "        vertical-align: middle;\n",
       "    }\n",
       "\n",
       "    .dataframe tbody tr th {\n",
       "        vertical-align: top;\n",
       "    }\n",
       "\n",
       "    .dataframe thead th {\n",
       "        text-align: right;\n",
       "    }\n",
       "</style>\n",
       "<table border=\"1\" class=\"dataframe\">\n",
       "  <thead>\n",
       "    <tr style=\"text-align: right;\">\n",
       "      <th></th>\n",
       "      <th>t1_odds</th>\n",
       "      <th>t2_odds</th>\n",
       "      <th>t1_prob</th>\n",
       "      <th>t2_prob</th>\n",
       "      <th>winner</th>\n",
       "    </tr>\n",
       "  </thead>\n",
       "  <tbody>\n",
       "    <tr>\n",
       "      <th>0</th>\n",
       "      <td>-235</td>\n",
       "      <td>185</td>\n",
       "      <td>0.981722</td>\n",
       "      <td>0.018278</td>\n",
       "      <td>0</td>\n",
       "    </tr>\n",
       "    <tr>\n",
       "      <th>1</th>\n",
       "      <td>-195</td>\n",
       "      <td>150</td>\n",
       "      <td>0.957282</td>\n",
       "      <td>0.042718</td>\n",
       "      <td>1</td>\n",
       "    </tr>\n",
       "    <tr>\n",
       "      <th>2</th>\n",
       "      <td>-500</td>\n",
       "      <td>355</td>\n",
       "      <td>0.947903</td>\n",
       "      <td>0.052097</td>\n",
       "      <td>0</td>\n",
       "    </tr>\n",
       "    <tr>\n",
       "      <th>3</th>\n",
       "      <td>170</td>\n",
       "      <td>-220</td>\n",
       "      <td>0.837480</td>\n",
       "      <td>0.162520</td>\n",
       "      <td>1</td>\n",
       "    </tr>\n",
       "    <tr>\n",
       "      <th>4</th>\n",
       "      <td>210</td>\n",
       "      <td>-275</td>\n",
       "      <td>0.680651</td>\n",
       "      <td>0.319349</td>\n",
       "      <td>0</td>\n",
       "    </tr>\n",
       "    <tr>\n",
       "      <th>...</th>\n",
       "      <td>...</td>\n",
       "      <td>...</td>\n",
       "      <td>...</td>\n",
       "      <td>...</td>\n",
       "      <td>...</td>\n",
       "    </tr>\n",
       "    <tr>\n",
       "      <th>243</th>\n",
       "      <td>140</td>\n",
       "      <td>-177</td>\n",
       "      <td>0.919188</td>\n",
       "      <td>0.080812</td>\n",
       "      <td>1</td>\n",
       "    </tr>\n",
       "    <tr>\n",
       "      <th>244</th>\n",
       "      <td>-215</td>\n",
       "      <td>170</td>\n",
       "      <td>0.969932</td>\n",
       "      <td>0.030068</td>\n",
       "      <td>0</td>\n",
       "    </tr>\n",
       "    <tr>\n",
       "      <th>245</th>\n",
       "      <td>-200</td>\n",
       "      <td>160</td>\n",
       "      <td>0.962193</td>\n",
       "      <td>0.037807</td>\n",
       "      <td>0</td>\n",
       "    </tr>\n",
       "    <tr>\n",
       "      <th>246</th>\n",
       "      <td>-139</td>\n",
       "      <td>112</td>\n",
       "      <td>0.946278</td>\n",
       "      <td>0.053722</td>\n",
       "      <td>0</td>\n",
       "    </tr>\n",
       "    <tr>\n",
       "      <th>247</th>\n",
       "      <td>310</td>\n",
       "      <td>-420</td>\n",
       "      <td>0.082175</td>\n",
       "      <td>0.917825</td>\n",
       "      <td>1</td>\n",
       "    </tr>\n",
       "  </tbody>\n",
       "</table>\n",
       "<p>248 rows × 5 columns</p>\n",
       "</div>"
      ],
      "text/plain": [
       "     t1_odds  t2_odds   t1_prob   t2_prob  winner\n",
       "0       -235      185  0.981722  0.018278       0\n",
       "1       -195      150  0.957282  0.042718       1\n",
       "2       -500      355  0.947903  0.052097       0\n",
       "3        170     -220  0.837480  0.162520       1\n",
       "4        210     -275  0.680651  0.319349       0\n",
       "..       ...      ...       ...       ...     ...\n",
       "243      140     -177  0.919188  0.080812       1\n",
       "244     -215      170  0.969932  0.030068       0\n",
       "245     -200      160  0.962193  0.037807       0\n",
       "246     -139      112  0.946278  0.053722       0\n",
       "247      310     -420  0.082175  0.917825       1\n",
       "\n",
       "[248 rows x 5 columns]"
      ]
     },
     "metadata": {},
     "output_type": "display_data"
    },
    {
     "name": "stdout",
     "output_type": "stream",
     "text": [
      "\n",
      "          Number of matches: 248\n",
      "          Number of bets: 248\n",
      "          Number of winning bets: 140\n",
      "          Number of losing bets: 108\n",
      "          Number of underdog bets: 97\n",
      "          Number of underdog wins: 44\n",
      "          Number of underdog losses: 53\n",
      "          Number of Favorite bets: 147\n",
      "          Number of favorite wins: 95\n",
      "          Number of favorite losses: 52\n",
      "          Number of even bets: 4\n",
      "          Number of even wins: 1\n",
      "          Number of even losses: 3\n",
      "          Profit: 60.82113687354486\n",
      "          Profit per bet: 0.24524651965139055\n",
      "          Profit per match: 0.24524651965139055\n",
      "          \n",
      "          \n"
     ]
    },
    {
     "data": {
      "text/plain": [
       "(4497, 10)"
      ]
     },
     "metadata": {},
     "output_type": "display_data"
    },
    {
     "data": {
      "text/plain": [
       "(4497,)"
      ]
     },
     "metadata": {},
     "output_type": "display_data"
    },
    {
     "data": {
      "text/plain": [
       "(4497, 2)"
      ]
     },
     "metadata": {},
     "output_type": "display_data"
    },
    {
     "data": {
      "text/plain": [
       "(250, 10)"
      ]
     },
     "metadata": {},
     "output_type": "display_data"
    },
    {
     "data": {
      "text/plain": [
       "(250,)"
      ]
     },
     "metadata": {},
     "output_type": "display_data"
    },
    {
     "data": {
      "text/plain": [
       "(250, 2)"
      ]
     },
     "metadata": {},
     "output_type": "display_data"
    },
    {
     "data": {
      "text/html": [
       "<div>\n",
       "<style scoped>\n",
       "    .dataframe tbody tr th:only-of-type {\n",
       "        vertical-align: middle;\n",
       "    }\n",
       "\n",
       "    .dataframe tbody tr th {\n",
       "        vertical-align: top;\n",
       "    }\n",
       "\n",
       "    .dataframe thead th {\n",
       "        text-align: right;\n",
       "    }\n",
       "</style>\n",
       "<table border=\"1\" class=\"dataframe\">\n",
       "  <thead>\n",
       "    <tr style=\"text-align: right;\">\n",
       "      <th></th>\n",
       "      <th>t1_odds</th>\n",
       "      <th>t2_odds</th>\n",
       "      <th>t1_prob</th>\n",
       "      <th>t2_prob</th>\n",
       "      <th>winner</th>\n",
       "    </tr>\n",
       "  </thead>\n",
       "  <tbody>\n",
       "    <tr>\n",
       "      <th>0</th>\n",
       "      <td>-235</td>\n",
       "      <td>185</td>\n",
       "      <td>0.666505</td>\n",
       "      <td>0.333495</td>\n",
       "      <td>0</td>\n",
       "    </tr>\n",
       "    <tr>\n",
       "      <th>1</th>\n",
       "      <td>-195</td>\n",
       "      <td>150</td>\n",
       "      <td>0.619025</td>\n",
       "      <td>0.380975</td>\n",
       "      <td>1</td>\n",
       "    </tr>\n",
       "    <tr>\n",
       "      <th>2</th>\n",
       "      <td>-500</td>\n",
       "      <td>355</td>\n",
       "      <td>0.822097</td>\n",
       "      <td>0.177903</td>\n",
       "      <td>0</td>\n",
       "    </tr>\n",
       "    <tr>\n",
       "      <th>3</th>\n",
       "      <td>170</td>\n",
       "      <td>-220</td>\n",
       "      <td>0.385408</td>\n",
       "      <td>0.614592</td>\n",
       "      <td>1</td>\n",
       "    </tr>\n",
       "    <tr>\n",
       "      <th>4</th>\n",
       "      <td>210</td>\n",
       "      <td>-275</td>\n",
       "      <td>0.347287</td>\n",
       "      <td>0.652713</td>\n",
       "      <td>0</td>\n",
       "    </tr>\n",
       "    <tr>\n",
       "      <th>...</th>\n",
       "      <td>...</td>\n",
       "      <td>...</td>\n",
       "      <td>...</td>\n",
       "      <td>...</td>\n",
       "      <td>...</td>\n",
       "    </tr>\n",
       "    <tr>\n",
       "      <th>245</th>\n",
       "      <td>140</td>\n",
       "      <td>-177</td>\n",
       "      <td>0.430846</td>\n",
       "      <td>0.569154</td>\n",
       "      <td>1</td>\n",
       "    </tr>\n",
       "    <tr>\n",
       "      <th>246</th>\n",
       "      <td>-215</td>\n",
       "      <td>170</td>\n",
       "      <td>0.639931</td>\n",
       "      <td>0.360069</td>\n",
       "      <td>0</td>\n",
       "    </tr>\n",
       "    <tr>\n",
       "      <th>247</th>\n",
       "      <td>-200</td>\n",
       "      <td>160</td>\n",
       "      <td>0.635045</td>\n",
       "      <td>0.364955</td>\n",
       "      <td>0</td>\n",
       "    </tr>\n",
       "    <tr>\n",
       "      <th>248</th>\n",
       "      <td>-139</td>\n",
       "      <td>112</td>\n",
       "      <td>0.549909</td>\n",
       "      <td>0.450091</td>\n",
       "      <td>0</td>\n",
       "    </tr>\n",
       "    <tr>\n",
       "      <th>249</th>\n",
       "      <td>310</td>\n",
       "      <td>-420</td>\n",
       "      <td>0.233377</td>\n",
       "      <td>0.766623</td>\n",
       "      <td>1</td>\n",
       "    </tr>\n",
       "  </tbody>\n",
       "</table>\n",
       "<p>250 rows × 5 columns</p>\n",
       "</div>"
      ],
      "text/plain": [
       "     t1_odds  t2_odds   t1_prob   t2_prob  winner\n",
       "0       -235      185  0.666505  0.333495       0\n",
       "1       -195      150  0.619025  0.380975       1\n",
       "2       -500      355  0.822097  0.177903       0\n",
       "3        170     -220  0.385408  0.614592       1\n",
       "4        210     -275  0.347287  0.652713       0\n",
       "..       ...      ...       ...       ...     ...\n",
       "245      140     -177  0.430846  0.569154       1\n",
       "246     -215      170  0.639931  0.360069       0\n",
       "247     -200      160  0.635045  0.364955       0\n",
       "248     -139      112  0.549909  0.450091       0\n",
       "249      310     -420  0.233377  0.766623       1\n",
       "\n",
       "[250 rows x 5 columns]"
      ]
     },
     "metadata": {},
     "output_type": "display_data"
    },
    {
     "name": "stdout",
     "output_type": "stream",
     "text": [
      "\n",
      "          Number of matches: 250\n",
      "          Number of bets: 107\n",
      "          Number of winning bets: 54\n",
      "          Number of losing bets: 54\n",
      "          Number of underdog bets: 98\n",
      "          Number of underdog wins: 44\n",
      "          Number of underdog losses: 54\n",
      "          Number of Favorite bets: 10\n",
      "          Number of favorite wins: 10\n",
      "          Number of favorite losses: 0\n",
      "          Number of even bets: 0\n",
      "          Number of even wins: 0\n",
      "          Number of even losses: 0\n",
      "          Profit: 1479.903719982831\n",
      "          Profit per bet: 13.83087588769001\n",
      "          Profit per match: 5.919614879931324\n",
      "          \n",
      "          \n"
     ]
    },
    {
     "data": {
      "text/plain": [
       "(3665, 14)"
      ]
     },
     "metadata": {},
     "output_type": "display_data"
    },
    {
     "data": {
      "text/plain": [
       "(3665,)"
      ]
     },
     "metadata": {},
     "output_type": "display_data"
    },
    {
     "data": {
      "text/plain": [
       "(3665, 2)"
      ]
     },
     "metadata": {},
     "output_type": "display_data"
    },
    {
     "data": {
      "text/plain": [
       "(250, 14)"
      ]
     },
     "metadata": {},
     "output_type": "display_data"
    },
    {
     "data": {
      "text/plain": [
       "(250,)"
      ]
     },
     "metadata": {},
     "output_type": "display_data"
    },
    {
     "data": {
      "text/plain": [
       "(250, 2)"
      ]
     },
     "metadata": {},
     "output_type": "display_data"
    },
    {
     "data": {
      "text/html": [
       "<div>\n",
       "<style scoped>\n",
       "    .dataframe tbody tr th:only-of-type {\n",
       "        vertical-align: middle;\n",
       "    }\n",
       "\n",
       "    .dataframe tbody tr th {\n",
       "        vertical-align: top;\n",
       "    }\n",
       "\n",
       "    .dataframe thead th {\n",
       "        text-align: right;\n",
       "    }\n",
       "</style>\n",
       "<table border=\"1\" class=\"dataframe\">\n",
       "  <thead>\n",
       "    <tr style=\"text-align: right;\">\n",
       "      <th></th>\n",
       "      <th>t1_odds</th>\n",
       "      <th>t2_odds</th>\n",
       "      <th>t1_prob</th>\n",
       "      <th>t2_prob</th>\n",
       "      <th>winner</th>\n",
       "    </tr>\n",
       "  </thead>\n",
       "  <tbody>\n",
       "    <tr>\n",
       "      <th>0</th>\n",
       "      <td>-235</td>\n",
       "      <td>185</td>\n",
       "      <td>2.869344e-04</td>\n",
       "      <td>0.999713</td>\n",
       "      <td>0</td>\n",
       "    </tr>\n",
       "    <tr>\n",
       "      <th>1</th>\n",
       "      <td>-195</td>\n",
       "      <td>150</td>\n",
       "      <td>2.171600e-14</td>\n",
       "      <td>1.000000</td>\n",
       "      <td>1</td>\n",
       "    </tr>\n",
       "    <tr>\n",
       "      <th>2</th>\n",
       "      <td>-500</td>\n",
       "      <td>355</td>\n",
       "      <td>7.677409e-01</td>\n",
       "      <td>0.232259</td>\n",
       "      <td>0</td>\n",
       "    </tr>\n",
       "    <tr>\n",
       "      <th>3</th>\n",
       "      <td>170</td>\n",
       "      <td>-220</td>\n",
       "      <td>4.605271e-01</td>\n",
       "      <td>0.539473</td>\n",
       "      <td>1</td>\n",
       "    </tr>\n",
       "    <tr>\n",
       "      <th>4</th>\n",
       "      <td>210</td>\n",
       "      <td>-275</td>\n",
       "      <td>4.860667e-01</td>\n",
       "      <td>0.513933</td>\n",
       "      <td>0</td>\n",
       "    </tr>\n",
       "    <tr>\n",
       "      <th>...</th>\n",
       "      <td>...</td>\n",
       "      <td>...</td>\n",
       "      <td>...</td>\n",
       "      <td>...</td>\n",
       "      <td>...</td>\n",
       "    </tr>\n",
       "    <tr>\n",
       "      <th>245</th>\n",
       "      <td>140</td>\n",
       "      <td>-177</td>\n",
       "      <td>6.218733e-01</td>\n",
       "      <td>0.378127</td>\n",
       "      <td>1</td>\n",
       "    </tr>\n",
       "    <tr>\n",
       "      <th>246</th>\n",
       "      <td>-215</td>\n",
       "      <td>170</td>\n",
       "      <td>7.778767e-01</td>\n",
       "      <td>0.222123</td>\n",
       "      <td>0</td>\n",
       "    </tr>\n",
       "    <tr>\n",
       "      <th>247</th>\n",
       "      <td>-200</td>\n",
       "      <td>160</td>\n",
       "      <td>7.854124e-01</td>\n",
       "      <td>0.214588</td>\n",
       "      <td>0</td>\n",
       "    </tr>\n",
       "    <tr>\n",
       "      <th>248</th>\n",
       "      <td>-139</td>\n",
       "      <td>112</td>\n",
       "      <td>6.685457e-01</td>\n",
       "      <td>0.331454</td>\n",
       "      <td>0</td>\n",
       "    </tr>\n",
       "    <tr>\n",
       "      <th>249</th>\n",
       "      <td>310</td>\n",
       "      <td>-420</td>\n",
       "      <td>9.047000e-01</td>\n",
       "      <td>0.095300</td>\n",
       "      <td>1</td>\n",
       "    </tr>\n",
       "  </tbody>\n",
       "</table>\n",
       "<p>250 rows × 5 columns</p>\n",
       "</div>"
      ],
      "text/plain": [
       "     t1_odds  t2_odds       t1_prob   t2_prob  winner\n",
       "0       -235      185  2.869344e-04  0.999713       0\n",
       "1       -195      150  2.171600e-14  1.000000       1\n",
       "2       -500      355  7.677409e-01  0.232259       0\n",
       "3        170     -220  4.605271e-01  0.539473       1\n",
       "4        210     -275  4.860667e-01  0.513933       0\n",
       "..       ...      ...           ...       ...     ...\n",
       "245      140     -177  6.218733e-01  0.378127       1\n",
       "246     -215      170  7.778767e-01  0.222123       0\n",
       "247     -200      160  7.854124e-01  0.214588       0\n",
       "248     -139      112  6.685457e-01  0.331454       0\n",
       "249      310     -420  9.047000e-01  0.095300       1\n",
       "\n",
       "[250 rows x 5 columns]"
      ]
     },
     "metadata": {},
     "output_type": "display_data"
    },
    {
     "name": "stdout",
     "output_type": "stream",
     "text": [
      "\n",
      "          Number of matches: 250\n",
      "          Number of bets: 233\n",
      "          Number of winning bets: 123\n",
      "          Number of losing bets: 110\n",
      "          Number of underdog bets: 107\n",
      "          Number of underdog wins: 45\n",
      "          Number of underdog losses: 62\n",
      "          Number of Favorite bets: 122\n",
      "          Number of favorite wins: 77\n",
      "          Number of favorite losses: 45\n",
      "          Number of even bets: 4\n",
      "          Number of even wins: 1\n",
      "          Number of even losses: 3\n",
      "          Profit: 54.7433723750309\n",
      "          Profit per bet: 0.23495009603017555\n",
      "          Profit per match: 0.2189734895001236\n",
      "          \n",
      "          \n"
     ]
    },
    {
     "data": {
      "text/plain": [
       "(3665, 18)"
      ]
     },
     "metadata": {},
     "output_type": "display_data"
    },
    {
     "data": {
      "text/plain": [
       "(3665,)"
      ]
     },
     "metadata": {},
     "output_type": "display_data"
    },
    {
     "data": {
      "text/plain": [
       "(3665, 2)"
      ]
     },
     "metadata": {},
     "output_type": "display_data"
    },
    {
     "data": {
      "text/plain": [
       "(250, 18)"
      ]
     },
     "metadata": {},
     "output_type": "display_data"
    },
    {
     "data": {
      "text/plain": [
       "(250,)"
      ]
     },
     "metadata": {},
     "output_type": "display_data"
    },
    {
     "data": {
      "text/plain": [
       "(250, 2)"
      ]
     },
     "metadata": {},
     "output_type": "display_data"
    },
    {
     "data": {
      "text/html": [
       "<div>\n",
       "<style scoped>\n",
       "    .dataframe tbody tr th:only-of-type {\n",
       "        vertical-align: middle;\n",
       "    }\n",
       "\n",
       "    .dataframe tbody tr th {\n",
       "        vertical-align: top;\n",
       "    }\n",
       "\n",
       "    .dataframe thead th {\n",
       "        text-align: right;\n",
       "    }\n",
       "</style>\n",
       "<table border=\"1\" class=\"dataframe\">\n",
       "  <thead>\n",
       "    <tr style=\"text-align: right;\">\n",
       "      <th></th>\n",
       "      <th>t1_odds</th>\n",
       "      <th>t2_odds</th>\n",
       "      <th>t1_prob</th>\n",
       "      <th>t2_prob</th>\n",
       "      <th>winner</th>\n",
       "    </tr>\n",
       "  </thead>\n",
       "  <tbody>\n",
       "    <tr>\n",
       "      <th>0</th>\n",
       "      <td>-235</td>\n",
       "      <td>185</td>\n",
       "      <td>1.430885e-03</td>\n",
       "      <td>0.998569</td>\n",
       "      <td>0</td>\n",
       "    </tr>\n",
       "    <tr>\n",
       "      <th>1</th>\n",
       "      <td>-195</td>\n",
       "      <td>150</td>\n",
       "      <td>2.233703e-14</td>\n",
       "      <td>1.000000</td>\n",
       "      <td>1</td>\n",
       "    </tr>\n",
       "    <tr>\n",
       "      <th>2</th>\n",
       "      <td>-500</td>\n",
       "      <td>355</td>\n",
       "      <td>8.250218e-01</td>\n",
       "      <td>0.174978</td>\n",
       "      <td>0</td>\n",
       "    </tr>\n",
       "    <tr>\n",
       "      <th>3</th>\n",
       "      <td>170</td>\n",
       "      <td>-220</td>\n",
       "      <td>5.148227e-01</td>\n",
       "      <td>0.485177</td>\n",
       "      <td>1</td>\n",
       "    </tr>\n",
       "    <tr>\n",
       "      <th>4</th>\n",
       "      <td>210</td>\n",
       "      <td>-275</td>\n",
       "      <td>5.413794e-01</td>\n",
       "      <td>0.458621</td>\n",
       "      <td>0</td>\n",
       "    </tr>\n",
       "    <tr>\n",
       "      <th>...</th>\n",
       "      <td>...</td>\n",
       "      <td>...</td>\n",
       "      <td>...</td>\n",
       "      <td>...</td>\n",
       "      <td>...</td>\n",
       "    </tr>\n",
       "    <tr>\n",
       "      <th>245</th>\n",
       "      <td>140</td>\n",
       "      <td>-177</td>\n",
       "      <td>6.132885e-01</td>\n",
       "      <td>0.386711</td>\n",
       "      <td>1</td>\n",
       "    </tr>\n",
       "    <tr>\n",
       "      <th>246</th>\n",
       "      <td>-215</td>\n",
       "      <td>170</td>\n",
       "      <td>7.252013e-01</td>\n",
       "      <td>0.274799</td>\n",
       "      <td>0</td>\n",
       "    </tr>\n",
       "    <tr>\n",
       "      <th>247</th>\n",
       "      <td>-200</td>\n",
       "      <td>160</td>\n",
       "      <td>7.937382e-01</td>\n",
       "      <td>0.206262</td>\n",
       "      <td>0</td>\n",
       "    </tr>\n",
       "    <tr>\n",
       "      <th>248</th>\n",
       "      <td>-139</td>\n",
       "      <td>112</td>\n",
       "      <td>6.275582e-01</td>\n",
       "      <td>0.372442</td>\n",
       "      <td>0</td>\n",
       "    </tr>\n",
       "    <tr>\n",
       "      <th>249</th>\n",
       "      <td>310</td>\n",
       "      <td>-420</td>\n",
       "      <td>9.341116e-01</td>\n",
       "      <td>0.065888</td>\n",
       "      <td>1</td>\n",
       "    </tr>\n",
       "  </tbody>\n",
       "</table>\n",
       "<p>250 rows × 5 columns</p>\n",
       "</div>"
      ],
      "text/plain": [
       "     t1_odds  t2_odds       t1_prob   t2_prob  winner\n",
       "0       -235      185  1.430885e-03  0.998569       0\n",
       "1       -195      150  2.233703e-14  1.000000       1\n",
       "2       -500      355  8.250218e-01  0.174978       0\n",
       "3        170     -220  5.148227e-01  0.485177       1\n",
       "4        210     -275  5.413794e-01  0.458621       0\n",
       "..       ...      ...           ...       ...     ...\n",
       "245      140     -177  6.132885e-01  0.386711       1\n",
       "246     -215      170  7.252013e-01  0.274799       0\n",
       "247     -200      160  7.937382e-01  0.206262       0\n",
       "248     -139      112  6.275582e-01  0.372442       0\n",
       "249      310     -420  9.341116e-01  0.065888       1\n",
       "\n",
       "[250 rows x 5 columns]"
      ]
     },
     "metadata": {},
     "output_type": "display_data"
    },
    {
     "name": "stdout",
     "output_type": "stream",
     "text": [
      "\n",
      "          Number of matches: 250\n",
      "          Number of bets: 226\n",
      "          Number of winning bets: 124\n",
      "          Number of losing bets: 103\n",
      "          Number of underdog bets: 110\n",
      "          Number of underdog wins: 47\n",
      "          Number of underdog losses: 63\n",
      "          Number of Favorite bets: 113\n",
      "          Number of favorite wins: 76\n",
      "          Number of favorite losses: 37\n",
      "          Number of even bets: 4\n",
      "          Number of even wins: 1\n",
      "          Number of even losses: 3\n",
      "          Profit: 1544.2132004291993\n",
      "          Profit per bet: 6.832801771810616\n",
      "          Profit per match: 6.176852801716797\n",
      "          \n",
      "          \n"
     ]
    },
    {
     "data": {
      "text/plain": [
       "(4497, 172)"
      ]
     },
     "metadata": {},
     "output_type": "display_data"
    },
    {
     "data": {
      "text/plain": [
       "(4497,)"
      ]
     },
     "metadata": {},
     "output_type": "display_data"
    },
    {
     "data": {
      "text/plain": [
       "(4497, 2)"
      ]
     },
     "metadata": {},
     "output_type": "display_data"
    },
    {
     "data": {
      "text/plain": [
       "(250, 172)"
      ]
     },
     "metadata": {},
     "output_type": "display_data"
    },
    {
     "data": {
      "text/plain": [
       "(250,)"
      ]
     },
     "metadata": {},
     "output_type": "display_data"
    },
    {
     "data": {
      "text/plain": [
       "(250, 2)"
      ]
     },
     "metadata": {},
     "output_type": "display_data"
    },
    {
     "data": {
      "text/html": [
       "<div>\n",
       "<style scoped>\n",
       "    .dataframe tbody tr th:only-of-type {\n",
       "        vertical-align: middle;\n",
       "    }\n",
       "\n",
       "    .dataframe tbody tr th {\n",
       "        vertical-align: top;\n",
       "    }\n",
       "\n",
       "    .dataframe thead th {\n",
       "        text-align: right;\n",
       "    }\n",
       "</style>\n",
       "<table border=\"1\" class=\"dataframe\">\n",
       "  <thead>\n",
       "    <tr style=\"text-align: right;\">\n",
       "      <th></th>\n",
       "      <th>t1_odds</th>\n",
       "      <th>t2_odds</th>\n",
       "      <th>t1_prob</th>\n",
       "      <th>t2_prob</th>\n",
       "      <th>winner</th>\n",
       "    </tr>\n",
       "  </thead>\n",
       "  <tbody>\n",
       "    <tr>\n",
       "      <th>0</th>\n",
       "      <td>-235</td>\n",
       "      <td>185</td>\n",
       "      <td>0.517586</td>\n",
       "      <td>0.482414</td>\n",
       "      <td>0</td>\n",
       "    </tr>\n",
       "    <tr>\n",
       "      <th>1</th>\n",
       "      <td>-195</td>\n",
       "      <td>150</td>\n",
       "      <td>0.698840</td>\n",
       "      <td>0.301160</td>\n",
       "      <td>1</td>\n",
       "    </tr>\n",
       "    <tr>\n",
       "      <th>2</th>\n",
       "      <td>-500</td>\n",
       "      <td>355</td>\n",
       "      <td>0.844929</td>\n",
       "      <td>0.155071</td>\n",
       "      <td>0</td>\n",
       "    </tr>\n",
       "    <tr>\n",
       "      <th>3</th>\n",
       "      <td>170</td>\n",
       "      <td>-220</td>\n",
       "      <td>0.319050</td>\n",
       "      <td>0.680950</td>\n",
       "      <td>1</td>\n",
       "    </tr>\n",
       "    <tr>\n",
       "      <th>4</th>\n",
       "      <td>210</td>\n",
       "      <td>-275</td>\n",
       "      <td>0.256984</td>\n",
       "      <td>0.743016</td>\n",
       "      <td>0</td>\n",
       "    </tr>\n",
       "    <tr>\n",
       "      <th>...</th>\n",
       "      <td>...</td>\n",
       "      <td>...</td>\n",
       "      <td>...</td>\n",
       "      <td>...</td>\n",
       "      <td>...</td>\n",
       "    </tr>\n",
       "    <tr>\n",
       "      <th>245</th>\n",
       "      <td>140</td>\n",
       "      <td>-177</td>\n",
       "      <td>0.625505</td>\n",
       "      <td>0.374495</td>\n",
       "      <td>1</td>\n",
       "    </tr>\n",
       "    <tr>\n",
       "      <th>246</th>\n",
       "      <td>-215</td>\n",
       "      <td>170</td>\n",
       "      <td>0.739491</td>\n",
       "      <td>0.260509</td>\n",
       "      <td>0</td>\n",
       "    </tr>\n",
       "    <tr>\n",
       "      <th>247</th>\n",
       "      <td>-200</td>\n",
       "      <td>160</td>\n",
       "      <td>0.665326</td>\n",
       "      <td>0.334674</td>\n",
       "      <td>0</td>\n",
       "    </tr>\n",
       "    <tr>\n",
       "      <th>248</th>\n",
       "      <td>-139</td>\n",
       "      <td>112</td>\n",
       "      <td>0.525578</td>\n",
       "      <td>0.474422</td>\n",
       "      <td>0</td>\n",
       "    </tr>\n",
       "    <tr>\n",
       "      <th>249</th>\n",
       "      <td>310</td>\n",
       "      <td>-420</td>\n",
       "      <td>0.139707</td>\n",
       "      <td>0.860293</td>\n",
       "      <td>1</td>\n",
       "    </tr>\n",
       "  </tbody>\n",
       "</table>\n",
       "<p>250 rows × 5 columns</p>\n",
       "</div>"
      ],
      "text/plain": [
       "     t1_odds  t2_odds   t1_prob   t2_prob  winner\n",
       "0       -235      185  0.517586  0.482414       0\n",
       "1       -195      150  0.698840  0.301160       1\n",
       "2       -500      355  0.844929  0.155071       0\n",
       "3        170     -220  0.319050  0.680950       1\n",
       "4        210     -275  0.256984  0.743016       0\n",
       "..       ...      ...       ...       ...     ...\n",
       "245      140     -177  0.625505  0.374495       1\n",
       "246     -215      170  0.739491  0.260509       0\n",
       "247     -200      160  0.665326  0.334674       0\n",
       "248     -139      112  0.525578  0.474422       0\n",
       "249      310     -420  0.139707  0.860293       1\n",
       "\n",
       "[250 rows x 5 columns]"
      ]
     },
     "metadata": {},
     "output_type": "display_data"
    },
    {
     "name": "stdout",
     "output_type": "stream",
     "text": [
      "\n",
      "          Number of matches: 250\n",
      "          Number of bets: 198\n",
      "          Number of winning bets: 102\n",
      "          Number of losing bets: 96\n",
      "          Number of underdog bets: 103\n",
      "          Number of underdog wins: 43\n",
      "          Number of underdog losses: 60\n",
      "          Number of Favorite bets: 92\n",
      "          Number of favorite wins: 58\n",
      "          Number of favorite losses: 34\n",
      "          Number of even bets: 3\n",
      "          Number of even wins: 1\n",
      "          Number of even losses: 2\n",
      "          Profit: -525.5214992389119\n",
      "          Profit per bet: -2.6541489860551106\n",
      "          Profit per match: -2.1020859969556476\n",
      "          \n",
      "          \n"
     ]
    },
    {
     "data": {
      "text/plain": [
       "(3554, 22)"
      ]
     },
     "metadata": {},
     "output_type": "display_data"
    },
    {
     "data": {
      "text/plain": [
       "(3554,)"
      ]
     },
     "metadata": {},
     "output_type": "display_data"
    },
    {
     "data": {
      "text/plain": [
       "(3554, 2)"
      ]
     },
     "metadata": {},
     "output_type": "display_data"
    },
    {
     "data": {
      "text/plain": [
       "(250, 22)"
      ]
     },
     "metadata": {},
     "output_type": "display_data"
    },
    {
     "data": {
      "text/plain": [
       "(250,)"
      ]
     },
     "metadata": {},
     "output_type": "display_data"
    },
    {
     "data": {
      "text/plain": [
       "(250, 2)"
      ]
     },
     "metadata": {},
     "output_type": "display_data"
    },
    {
     "data": {
      "text/html": [
       "<div>\n",
       "<style scoped>\n",
       "    .dataframe tbody tr th:only-of-type {\n",
       "        vertical-align: middle;\n",
       "    }\n",
       "\n",
       "    .dataframe tbody tr th {\n",
       "        vertical-align: top;\n",
       "    }\n",
       "\n",
       "    .dataframe thead th {\n",
       "        text-align: right;\n",
       "    }\n",
       "</style>\n",
       "<table border=\"1\" class=\"dataframe\">\n",
       "  <thead>\n",
       "    <tr style=\"text-align: right;\">\n",
       "      <th></th>\n",
       "      <th>t1_odds</th>\n",
       "      <th>t2_odds</th>\n",
       "      <th>t1_prob</th>\n",
       "      <th>t2_prob</th>\n",
       "      <th>winner</th>\n",
       "    </tr>\n",
       "  </thead>\n",
       "  <tbody>\n",
       "    <tr>\n",
       "      <th>0</th>\n",
       "      <td>-235</td>\n",
       "      <td>185</td>\n",
       "      <td>8.504380e-04</td>\n",
       "      <td>0.999150</td>\n",
       "      <td>0</td>\n",
       "    </tr>\n",
       "    <tr>\n",
       "      <th>1</th>\n",
       "      <td>-195</td>\n",
       "      <td>150</td>\n",
       "      <td>7.499894e-14</td>\n",
       "      <td>1.000000</td>\n",
       "      <td>1</td>\n",
       "    </tr>\n",
       "    <tr>\n",
       "      <th>2</th>\n",
       "      <td>-500</td>\n",
       "      <td>355</td>\n",
       "      <td>9.672131e-01</td>\n",
       "      <td>0.032787</td>\n",
       "      <td>0</td>\n",
       "    </tr>\n",
       "    <tr>\n",
       "      <th>3</th>\n",
       "      <td>170</td>\n",
       "      <td>-220</td>\n",
       "      <td>3.269216e-02</td>\n",
       "      <td>0.967308</td>\n",
       "      <td>1</td>\n",
       "    </tr>\n",
       "    <tr>\n",
       "      <th>4</th>\n",
       "      <td>210</td>\n",
       "      <td>-275</td>\n",
       "      <td>6.662203e-01</td>\n",
       "      <td>0.333780</td>\n",
       "      <td>0</td>\n",
       "    </tr>\n",
       "    <tr>\n",
       "      <th>...</th>\n",
       "      <td>...</td>\n",
       "      <td>...</td>\n",
       "      <td>...</td>\n",
       "      <td>...</td>\n",
       "      <td>...</td>\n",
       "    </tr>\n",
       "    <tr>\n",
       "      <th>245</th>\n",
       "      <td>140</td>\n",
       "      <td>-177</td>\n",
       "      <td>1.016477e-01</td>\n",
       "      <td>0.898352</td>\n",
       "      <td>1</td>\n",
       "    </tr>\n",
       "    <tr>\n",
       "      <th>246</th>\n",
       "      <td>-215</td>\n",
       "      <td>170</td>\n",
       "      <td>7.218656e-01</td>\n",
       "      <td>0.278134</td>\n",
       "      <td>0</td>\n",
       "    </tr>\n",
       "    <tr>\n",
       "      <th>247</th>\n",
       "      <td>-200</td>\n",
       "      <td>160</td>\n",
       "      <td>8.562232e-01</td>\n",
       "      <td>0.143777</td>\n",
       "      <td>0</td>\n",
       "    </tr>\n",
       "    <tr>\n",
       "      <th>248</th>\n",
       "      <td>-139</td>\n",
       "      <td>112</td>\n",
       "      <td>6.750074e-01</td>\n",
       "      <td>0.324993</td>\n",
       "      <td>0</td>\n",
       "    </tr>\n",
       "    <tr>\n",
       "      <th>249</th>\n",
       "      <td>310</td>\n",
       "      <td>-420</td>\n",
       "      <td>9.561094e-01</td>\n",
       "      <td>0.043891</td>\n",
       "      <td>1</td>\n",
       "    </tr>\n",
       "  </tbody>\n",
       "</table>\n",
       "<p>250 rows × 5 columns</p>\n",
       "</div>"
      ],
      "text/plain": [
       "     t1_odds  t2_odds       t1_prob   t2_prob  winner\n",
       "0       -235      185  8.504380e-04  0.999150       0\n",
       "1       -195      150  7.499894e-14  1.000000       1\n",
       "2       -500      355  9.672131e-01  0.032787       0\n",
       "3        170     -220  3.269216e-02  0.967308       1\n",
       "4        210     -275  6.662203e-01  0.333780       0\n",
       "..       ...      ...           ...       ...     ...\n",
       "245      140     -177  1.016477e-01  0.898352       1\n",
       "246     -215      170  7.218656e-01  0.278134       0\n",
       "247     -200      160  8.562232e-01  0.143777       0\n",
       "248     -139      112  6.750074e-01  0.324993       0\n",
       "249      310     -420  9.561094e-01  0.043891       1\n",
       "\n",
       "[250 rows x 5 columns]"
      ]
     },
     "metadata": {},
     "output_type": "display_data"
    },
    {
     "name": "stdout",
     "output_type": "stream",
     "text": [
      "\n",
      "          Number of matches: 250\n",
      "          Number of bets: 224\n",
      "          Number of winning bets: 121\n",
      "          Number of losing bets: 104\n",
      "          Number of underdog bets: 104\n",
      "          Number of underdog wins: 44\n",
      "          Number of underdog losses: 60\n",
      "          Number of Favorite bets: 117\n",
      "          Number of favorite wins: 76\n",
      "          Number of favorite losses: 41\n",
      "          Number of even bets: 4\n",
      "          Number of even wins: 1\n",
      "          Number of even losses: 3\n",
      "          Profit: 218.4326440018466\n",
      "          Profit per bet: 0.9751457321511009\n",
      "          Profit per match: 0.8737305760073864\n",
      "          \n",
      "          \n"
     ]
    },
    {
     "data": {
      "text/plain": [
       "(3554, 24)"
      ]
     },
     "metadata": {},
     "output_type": "display_data"
    },
    {
     "data": {
      "text/plain": [
       "(3554,)"
      ]
     },
     "metadata": {},
     "output_type": "display_data"
    },
    {
     "data": {
      "text/plain": [
       "(3554, 2)"
      ]
     },
     "metadata": {},
     "output_type": "display_data"
    },
    {
     "data": {
      "text/plain": [
       "(250, 24)"
      ]
     },
     "metadata": {},
     "output_type": "display_data"
    },
    {
     "data": {
      "text/plain": [
       "(250,)"
      ]
     },
     "metadata": {},
     "output_type": "display_data"
    },
    {
     "data": {
      "text/plain": [
       "(250, 2)"
      ]
     },
     "metadata": {},
     "output_type": "display_data"
    },
    {
     "data": {
      "text/html": [
       "<div>\n",
       "<style scoped>\n",
       "    .dataframe tbody tr th:only-of-type {\n",
       "        vertical-align: middle;\n",
       "    }\n",
       "\n",
       "    .dataframe tbody tr th {\n",
       "        vertical-align: top;\n",
       "    }\n",
       "\n",
       "    .dataframe thead th {\n",
       "        text-align: right;\n",
       "    }\n",
       "</style>\n",
       "<table border=\"1\" class=\"dataframe\">\n",
       "  <thead>\n",
       "    <tr style=\"text-align: right;\">\n",
       "      <th></th>\n",
       "      <th>t1_odds</th>\n",
       "      <th>t2_odds</th>\n",
       "      <th>t1_prob</th>\n",
       "      <th>t2_prob</th>\n",
       "      <th>winner</th>\n",
       "    </tr>\n",
       "  </thead>\n",
       "  <tbody>\n",
       "    <tr>\n",
       "      <th>0</th>\n",
       "      <td>-235</td>\n",
       "      <td>185</td>\n",
       "      <td>2.164662e-06</td>\n",
       "      <td>0.999998</td>\n",
       "      <td>0</td>\n",
       "    </tr>\n",
       "    <tr>\n",
       "      <th>1</th>\n",
       "      <td>-195</td>\n",
       "      <td>150</td>\n",
       "      <td>8.762878e-14</td>\n",
       "      <td>1.000000</td>\n",
       "      <td>1</td>\n",
       "    </tr>\n",
       "    <tr>\n",
       "      <th>2</th>\n",
       "      <td>-500</td>\n",
       "      <td>355</td>\n",
       "      <td>9.965368e-01</td>\n",
       "      <td>0.003463</td>\n",
       "      <td>0</td>\n",
       "    </tr>\n",
       "    <tr>\n",
       "      <th>3</th>\n",
       "      <td>170</td>\n",
       "      <td>-220</td>\n",
       "      <td>7.120422e-02</td>\n",
       "      <td>0.928796</td>\n",
       "      <td>1</td>\n",
       "    </tr>\n",
       "    <tr>\n",
       "      <th>4</th>\n",
       "      <td>210</td>\n",
       "      <td>-275</td>\n",
       "      <td>7.659677e-01</td>\n",
       "      <td>0.234032</td>\n",
       "      <td>0</td>\n",
       "    </tr>\n",
       "    <tr>\n",
       "      <th>...</th>\n",
       "      <td>...</td>\n",
       "      <td>...</td>\n",
       "      <td>...</td>\n",
       "      <td>...</td>\n",
       "      <td>...</td>\n",
       "    </tr>\n",
       "    <tr>\n",
       "      <th>245</th>\n",
       "      <td>140</td>\n",
       "      <td>-177</td>\n",
       "      <td>5.490064e-02</td>\n",
       "      <td>0.945099</td>\n",
       "      <td>1</td>\n",
       "    </tr>\n",
       "    <tr>\n",
       "      <th>246</th>\n",
       "      <td>-215</td>\n",
       "      <td>170</td>\n",
       "      <td>6.837263e-01</td>\n",
       "      <td>0.316274</td>\n",
       "      <td>0</td>\n",
       "    </tr>\n",
       "    <tr>\n",
       "      <th>247</th>\n",
       "      <td>-200</td>\n",
       "      <td>160</td>\n",
       "      <td>8.443320e-01</td>\n",
       "      <td>0.155668</td>\n",
       "      <td>0</td>\n",
       "    </tr>\n",
       "    <tr>\n",
       "      <th>248</th>\n",
       "      <td>-139</td>\n",
       "      <td>112</td>\n",
       "      <td>6.522538e-01</td>\n",
       "      <td>0.347746</td>\n",
       "      <td>0</td>\n",
       "    </tr>\n",
       "    <tr>\n",
       "      <th>249</th>\n",
       "      <td>310</td>\n",
       "      <td>-420</td>\n",
       "      <td>9.542523e-01</td>\n",
       "      <td>0.045748</td>\n",
       "      <td>1</td>\n",
       "    </tr>\n",
       "  </tbody>\n",
       "</table>\n",
       "<p>250 rows × 5 columns</p>\n",
       "</div>"
      ],
      "text/plain": [
       "     t1_odds  t2_odds       t1_prob   t2_prob  winner\n",
       "0       -235      185  2.164662e-06  0.999998       0\n",
       "1       -195      150  8.762878e-14  1.000000       1\n",
       "2       -500      355  9.965368e-01  0.003463       0\n",
       "3        170     -220  7.120422e-02  0.928796       1\n",
       "4        210     -275  7.659677e-01  0.234032       0\n",
       "..       ...      ...           ...       ...     ...\n",
       "245      140     -177  5.490064e-02  0.945099       1\n",
       "246     -215      170  6.837263e-01  0.316274       0\n",
       "247     -200      160  8.443320e-01  0.155668       0\n",
       "248     -139      112  6.522538e-01  0.347746       0\n",
       "249      310     -420  9.542523e-01  0.045748       1\n",
       "\n",
       "[250 rows x 5 columns]"
      ]
     },
     "metadata": {},
     "output_type": "display_data"
    },
    {
     "name": "stdout",
     "output_type": "stream",
     "text": [
      "\n",
      "          Number of matches: 250\n",
      "          Number of bets: 213\n",
      "          Number of winning bets: 117\n",
      "          Number of losing bets: 97\n",
      "          Number of underdog bets: 108\n",
      "          Number of underdog wins: 47\n",
      "          Number of underdog losses: 61\n",
      "          Number of Favorite bets: 102\n",
      "          Number of favorite wins: 69\n",
      "          Number of favorite losses: 33\n",
      "          Number of even bets: 4\n",
      "          Number of even wins: 1\n",
      "          Number of even losses: 3\n",
      "          Profit: 1170.5532989926305\n",
      "          Profit per bet: 5.495555394331599\n",
      "          Profit per match: 4.682213195970522\n",
      "          \n",
      "          \n"
     ]
    },
    {
     "data": {
      "text/plain": [
       "(3553, 22)"
      ]
     },
     "metadata": {},
     "output_type": "display_data"
    },
    {
     "data": {
      "text/plain": [
       "(3553,)"
      ]
     },
     "metadata": {},
     "output_type": "display_data"
    },
    {
     "data": {
      "text/plain": [
       "(3553, 2)"
      ]
     },
     "metadata": {},
     "output_type": "display_data"
    },
    {
     "data": {
      "text/plain": [
       "(250, 22)"
      ]
     },
     "metadata": {},
     "output_type": "display_data"
    },
    {
     "data": {
      "text/plain": [
       "(250,)"
      ]
     },
     "metadata": {},
     "output_type": "display_data"
    },
    {
     "data": {
      "text/plain": [
       "(250, 2)"
      ]
     },
     "metadata": {},
     "output_type": "display_data"
    },
    {
     "data": {
      "text/html": [
       "<div>\n",
       "<style scoped>\n",
       "    .dataframe tbody tr th:only-of-type {\n",
       "        vertical-align: middle;\n",
       "    }\n",
       "\n",
       "    .dataframe tbody tr th {\n",
       "        vertical-align: top;\n",
       "    }\n",
       "\n",
       "    .dataframe thead th {\n",
       "        text-align: right;\n",
       "    }\n",
       "</style>\n",
       "<table border=\"1\" class=\"dataframe\">\n",
       "  <thead>\n",
       "    <tr style=\"text-align: right;\">\n",
       "      <th></th>\n",
       "      <th>t1_odds</th>\n",
       "      <th>t2_odds</th>\n",
       "      <th>t1_prob</th>\n",
       "      <th>t2_prob</th>\n",
       "      <th>winner</th>\n",
       "    </tr>\n",
       "  </thead>\n",
       "  <tbody>\n",
       "    <tr>\n",
       "      <th>0</th>\n",
       "      <td>-235</td>\n",
       "      <td>185</td>\n",
       "      <td>2.672111e-06</td>\n",
       "      <td>0.999997</td>\n",
       "      <td>0</td>\n",
       "    </tr>\n",
       "    <tr>\n",
       "      <th>1</th>\n",
       "      <td>-195</td>\n",
       "      <td>150</td>\n",
       "      <td>1.222026e-08</td>\n",
       "      <td>1.000000</td>\n",
       "      <td>1</td>\n",
       "    </tr>\n",
       "    <tr>\n",
       "      <th>2</th>\n",
       "      <td>-500</td>\n",
       "      <td>355</td>\n",
       "      <td>9.256567e-01</td>\n",
       "      <td>0.074343</td>\n",
       "      <td>0</td>\n",
       "    </tr>\n",
       "    <tr>\n",
       "      <th>3</th>\n",
       "      <td>170</td>\n",
       "      <td>-220</td>\n",
       "      <td>5.414844e-02</td>\n",
       "      <td>0.945852</td>\n",
       "      <td>1</td>\n",
       "    </tr>\n",
       "    <tr>\n",
       "      <th>4</th>\n",
       "      <td>210</td>\n",
       "      <td>-275</td>\n",
       "      <td>7.790936e-01</td>\n",
       "      <td>0.220906</td>\n",
       "      <td>0</td>\n",
       "    </tr>\n",
       "    <tr>\n",
       "      <th>...</th>\n",
       "      <td>...</td>\n",
       "      <td>...</td>\n",
       "      <td>...</td>\n",
       "      <td>...</td>\n",
       "      <td>...</td>\n",
       "    </tr>\n",
       "    <tr>\n",
       "      <th>245</th>\n",
       "      <td>140</td>\n",
       "      <td>-177</td>\n",
       "      <td>2.839454e-02</td>\n",
       "      <td>0.971605</td>\n",
       "      <td>1</td>\n",
       "    </tr>\n",
       "    <tr>\n",
       "      <th>246</th>\n",
       "      <td>-215</td>\n",
       "      <td>170</td>\n",
       "      <td>7.191265e-01</td>\n",
       "      <td>0.280873</td>\n",
       "      <td>0</td>\n",
       "    </tr>\n",
       "    <tr>\n",
       "      <th>247</th>\n",
       "      <td>-200</td>\n",
       "      <td>160</td>\n",
       "      <td>8.656028e-01</td>\n",
       "      <td>0.134397</td>\n",
       "      <td>0</td>\n",
       "    </tr>\n",
       "    <tr>\n",
       "      <th>248</th>\n",
       "      <td>-139</td>\n",
       "      <td>112</td>\n",
       "      <td>6.901777e-01</td>\n",
       "      <td>0.309822</td>\n",
       "      <td>0</td>\n",
       "    </tr>\n",
       "    <tr>\n",
       "      <th>249</th>\n",
       "      <td>310</td>\n",
       "      <td>-420</td>\n",
       "      <td>9.401021e-01</td>\n",
       "      <td>0.059898</td>\n",
       "      <td>1</td>\n",
       "    </tr>\n",
       "  </tbody>\n",
       "</table>\n",
       "<p>250 rows × 5 columns</p>\n",
       "</div>"
      ],
      "text/plain": [
       "     t1_odds  t2_odds       t1_prob   t2_prob  winner\n",
       "0       -235      185  2.672111e-06  0.999997       0\n",
       "1       -195      150  1.222026e-08  1.000000       1\n",
       "2       -500      355  9.256567e-01  0.074343       0\n",
       "3        170     -220  5.414844e-02  0.945852       1\n",
       "4        210     -275  7.790936e-01  0.220906       0\n",
       "..       ...      ...           ...       ...     ...\n",
       "245      140     -177  2.839454e-02  0.971605       1\n",
       "246     -215      170  7.191265e-01  0.280873       0\n",
       "247     -200      160  8.656028e-01  0.134397       0\n",
       "248     -139      112  6.901777e-01  0.309822       0\n",
       "249      310     -420  9.401021e-01  0.059898       1\n",
       "\n",
       "[250 rows x 5 columns]"
      ]
     },
     "metadata": {},
     "output_type": "display_data"
    },
    {
     "name": "stdout",
     "output_type": "stream",
     "text": [
      "\n",
      "          Number of matches: 250\n",
      "          Number of bets: 219\n",
      "          Number of winning bets: 121\n",
      "          Number of losing bets: 100\n",
      "          Number of underdog bets: 106\n",
      "          Number of underdog wins: 45\n",
      "          Number of underdog losses: 61\n",
      "          Number of Favorite bets: 111\n",
      "          Number of favorite wins: 75\n",
      "          Number of favorite losses: 36\n",
      "          Number of even bets: 4\n",
      "          Number of even wins: 1\n",
      "          Number of even losses: 3\n",
      "          Profit: 878.7154754819749\n",
      "          Profit per bet: 4.012399431424543\n",
      "          Profit per match: 3.5148619019278993\n",
      "          \n",
      "          \n"
     ]
    },
    {
     "data": {
      "text/plain": [
       "(3456, 56)"
      ]
     },
     "metadata": {},
     "output_type": "display_data"
    },
    {
     "data": {
      "text/plain": [
       "(3456,)"
      ]
     },
     "metadata": {},
     "output_type": "display_data"
    },
    {
     "data": {
      "text/plain": [
       "(3456, 2)"
      ]
     },
     "metadata": {},
     "output_type": "display_data"
    },
    {
     "data": {
      "text/plain": [
       "(248, 56)"
      ]
     },
     "metadata": {},
     "output_type": "display_data"
    },
    {
     "data": {
      "text/plain": [
       "(248,)"
      ]
     },
     "metadata": {},
     "output_type": "display_data"
    },
    {
     "data": {
      "text/plain": [
       "(248, 2)"
      ]
     },
     "metadata": {},
     "output_type": "display_data"
    },
    {
     "data": {
      "text/html": [
       "<div>\n",
       "<style scoped>\n",
       "    .dataframe tbody tr th:only-of-type {\n",
       "        vertical-align: middle;\n",
       "    }\n",
       "\n",
       "    .dataframe tbody tr th {\n",
       "        vertical-align: top;\n",
       "    }\n",
       "\n",
       "    .dataframe thead th {\n",
       "        text-align: right;\n",
       "    }\n",
       "</style>\n",
       "<table border=\"1\" class=\"dataframe\">\n",
       "  <thead>\n",
       "    <tr style=\"text-align: right;\">\n",
       "      <th></th>\n",
       "      <th>t1_odds</th>\n",
       "      <th>t2_odds</th>\n",
       "      <th>t1_prob</th>\n",
       "      <th>t2_prob</th>\n",
       "      <th>winner</th>\n",
       "    </tr>\n",
       "  </thead>\n",
       "  <tbody>\n",
       "    <tr>\n",
       "      <th>0</th>\n",
       "      <td>-235</td>\n",
       "      <td>185</td>\n",
       "      <td>0.367962</td>\n",
       "      <td>0.632038</td>\n",
       "      <td>0</td>\n",
       "    </tr>\n",
       "    <tr>\n",
       "      <th>1</th>\n",
       "      <td>-195</td>\n",
       "      <td>150</td>\n",
       "      <td>0.326732</td>\n",
       "      <td>0.673268</td>\n",
       "      <td>1</td>\n",
       "    </tr>\n",
       "    <tr>\n",
       "      <th>2</th>\n",
       "      <td>-500</td>\n",
       "      <td>355</td>\n",
       "      <td>0.994314</td>\n",
       "      <td>0.005686</td>\n",
       "      <td>0</td>\n",
       "    </tr>\n",
       "    <tr>\n",
       "      <th>3</th>\n",
       "      <td>170</td>\n",
       "      <td>-220</td>\n",
       "      <td>0.004546</td>\n",
       "      <td>0.995454</td>\n",
       "      <td>1</td>\n",
       "    </tr>\n",
       "    <tr>\n",
       "      <th>4</th>\n",
       "      <td>210</td>\n",
       "      <td>-275</td>\n",
       "      <td>0.471789</td>\n",
       "      <td>0.528211</td>\n",
       "      <td>0</td>\n",
       "    </tr>\n",
       "    <tr>\n",
       "      <th>...</th>\n",
       "      <td>...</td>\n",
       "      <td>...</td>\n",
       "      <td>...</td>\n",
       "      <td>...</td>\n",
       "      <td>...</td>\n",
       "    </tr>\n",
       "    <tr>\n",
       "      <th>243</th>\n",
       "      <td>140</td>\n",
       "      <td>-177</td>\n",
       "      <td>0.976161</td>\n",
       "      <td>0.023839</td>\n",
       "      <td>1</td>\n",
       "    </tr>\n",
       "    <tr>\n",
       "      <th>244</th>\n",
       "      <td>-215</td>\n",
       "      <td>170</td>\n",
       "      <td>0.946336</td>\n",
       "      <td>0.053664</td>\n",
       "      <td>0</td>\n",
       "    </tr>\n",
       "    <tr>\n",
       "      <th>245</th>\n",
       "      <td>-200</td>\n",
       "      <td>160</td>\n",
       "      <td>0.936548</td>\n",
       "      <td>0.063452</td>\n",
       "      <td>0</td>\n",
       "    </tr>\n",
       "    <tr>\n",
       "      <th>246</th>\n",
       "      <td>-139</td>\n",
       "      <td>112</td>\n",
       "      <td>0.044766</td>\n",
       "      <td>0.955234</td>\n",
       "      <td>0</td>\n",
       "    </tr>\n",
       "    <tr>\n",
       "      <th>247</th>\n",
       "      <td>310</td>\n",
       "      <td>-420</td>\n",
       "      <td>0.988665</td>\n",
       "      <td>0.011335</td>\n",
       "      <td>1</td>\n",
       "    </tr>\n",
       "  </tbody>\n",
       "</table>\n",
       "<p>248 rows × 5 columns</p>\n",
       "</div>"
      ],
      "text/plain": [
       "     t1_odds  t2_odds   t1_prob   t2_prob  winner\n",
       "0       -235      185  0.367962  0.632038       0\n",
       "1       -195      150  0.326732  0.673268       1\n",
       "2       -500      355  0.994314  0.005686       0\n",
       "3        170     -220  0.004546  0.995454       1\n",
       "4        210     -275  0.471789  0.528211       0\n",
       "..       ...      ...       ...       ...     ...\n",
       "243      140     -177  0.976161  0.023839       1\n",
       "244     -215      170  0.946336  0.053664       0\n",
       "245     -200      160  0.936548  0.063452       0\n",
       "246     -139      112  0.044766  0.955234       0\n",
       "247      310     -420  0.988665  0.011335       1\n",
       "\n",
       "[248 rows x 5 columns]"
      ]
     },
     "metadata": {},
     "output_type": "display_data"
    },
    {
     "name": "stdout",
     "output_type": "stream",
     "text": [
      "\n",
      "          Number of matches: 248\n",
      "          Number of bets: 197\n",
      "          Number of winning bets: 97\n",
      "          Number of losing bets: 100\n",
      "          Number of underdog bets: 109\n",
      "          Number of underdog wins: 44\n",
      "          Number of underdog losses: 65\n",
      "          Number of Favorite bets: 87\n",
      "          Number of favorite wins: 53\n",
      "          Number of favorite losses: 34\n",
      "          Number of even bets: 1\n",
      "          Number of even wins: 0\n",
      "          Number of even losses: 1\n",
      "          Profit: -84.0959191922784\n",
      "          Profit per bet: -0.4268828385394843\n",
      "          Profit per match: -0.3390964483559613\n",
      "          \n",
      "          \n"
     ]
    },
    {
     "data": {
      "text/plain": [
       "(3456, 19)"
      ]
     },
     "metadata": {},
     "output_type": "display_data"
    },
    {
     "data": {
      "text/plain": [
       "(3456,)"
      ]
     },
     "metadata": {},
     "output_type": "display_data"
    },
    {
     "data": {
      "text/plain": [
       "(3456, 2)"
      ]
     },
     "metadata": {},
     "output_type": "display_data"
    },
    {
     "data": {
      "text/plain": [
       "(250, 19)"
      ]
     },
     "metadata": {},
     "output_type": "display_data"
    },
    {
     "data": {
      "text/plain": [
       "(250,)"
      ]
     },
     "metadata": {},
     "output_type": "display_data"
    },
    {
     "data": {
      "text/plain": [
       "(250, 2)"
      ]
     },
     "metadata": {},
     "output_type": "display_data"
    },
    {
     "data": {
      "text/html": [
       "<div>\n",
       "<style scoped>\n",
       "    .dataframe tbody tr th:only-of-type {\n",
       "        vertical-align: middle;\n",
       "    }\n",
       "\n",
       "    .dataframe tbody tr th {\n",
       "        vertical-align: top;\n",
       "    }\n",
       "\n",
       "    .dataframe thead th {\n",
       "        text-align: right;\n",
       "    }\n",
       "</style>\n",
       "<table border=\"1\" class=\"dataframe\">\n",
       "  <thead>\n",
       "    <tr style=\"text-align: right;\">\n",
       "      <th></th>\n",
       "      <th>t1_odds</th>\n",
       "      <th>t2_odds</th>\n",
       "      <th>t1_prob</th>\n",
       "      <th>t2_prob</th>\n",
       "      <th>winner</th>\n",
       "    </tr>\n",
       "  </thead>\n",
       "  <tbody>\n",
       "    <tr>\n",
       "      <th>0</th>\n",
       "      <td>-235</td>\n",
       "      <td>185</td>\n",
       "      <td>0.722826</td>\n",
       "      <td>0.277174</td>\n",
       "      <td>0</td>\n",
       "    </tr>\n",
       "    <tr>\n",
       "      <th>1</th>\n",
       "      <td>-195</td>\n",
       "      <td>150</td>\n",
       "      <td>0.731181</td>\n",
       "      <td>0.268819</td>\n",
       "      <td>1</td>\n",
       "    </tr>\n",
       "    <tr>\n",
       "      <th>2</th>\n",
       "      <td>-500</td>\n",
       "      <td>355</td>\n",
       "      <td>0.716371</td>\n",
       "      <td>0.283629</td>\n",
       "      <td>0</td>\n",
       "    </tr>\n",
       "    <tr>\n",
       "      <th>3</th>\n",
       "      <td>170</td>\n",
       "      <td>-220</td>\n",
       "      <td>0.431526</td>\n",
       "      <td>0.568474</td>\n",
       "      <td>1</td>\n",
       "    </tr>\n",
       "    <tr>\n",
       "      <th>4</th>\n",
       "      <td>210</td>\n",
       "      <td>-275</td>\n",
       "      <td>0.447342</td>\n",
       "      <td>0.552658</td>\n",
       "      <td>0</td>\n",
       "    </tr>\n",
       "    <tr>\n",
       "      <th>...</th>\n",
       "      <td>...</td>\n",
       "      <td>...</td>\n",
       "      <td>...</td>\n",
       "      <td>...</td>\n",
       "      <td>...</td>\n",
       "    </tr>\n",
       "    <tr>\n",
       "      <th>245</th>\n",
       "      <td>140</td>\n",
       "      <td>-177</td>\n",
       "      <td>0.628565</td>\n",
       "      <td>0.371435</td>\n",
       "      <td>1</td>\n",
       "    </tr>\n",
       "    <tr>\n",
       "      <th>246</th>\n",
       "      <td>-215</td>\n",
       "      <td>170</td>\n",
       "      <td>0.763707</td>\n",
       "      <td>0.236293</td>\n",
       "      <td>0</td>\n",
       "    </tr>\n",
       "    <tr>\n",
       "      <th>247</th>\n",
       "      <td>-200</td>\n",
       "      <td>160</td>\n",
       "      <td>0.643313</td>\n",
       "      <td>0.356687</td>\n",
       "      <td>0</td>\n",
       "    </tr>\n",
       "    <tr>\n",
       "      <th>248</th>\n",
       "      <td>-139</td>\n",
       "      <td>112</td>\n",
       "      <td>0.588453</td>\n",
       "      <td>0.411547</td>\n",
       "      <td>0</td>\n",
       "    </tr>\n",
       "    <tr>\n",
       "      <th>249</th>\n",
       "      <td>310</td>\n",
       "      <td>-420</td>\n",
       "      <td>0.394263</td>\n",
       "      <td>0.605737</td>\n",
       "      <td>1</td>\n",
       "    </tr>\n",
       "  </tbody>\n",
       "</table>\n",
       "<p>250 rows × 5 columns</p>\n",
       "</div>"
      ],
      "text/plain": [
       "     t1_odds  t2_odds   t1_prob   t2_prob  winner\n",
       "0       -235      185  0.722826  0.277174       0\n",
       "1       -195      150  0.731181  0.268819       1\n",
       "2       -500      355  0.716371  0.283629       0\n",
       "3        170     -220  0.431526  0.568474       1\n",
       "4        210     -275  0.447342  0.552658       0\n",
       "..       ...      ...       ...       ...     ...\n",
       "245      140     -177  0.628565  0.371435       1\n",
       "246     -215      170  0.763707  0.236293       0\n",
       "247     -200      160  0.643313  0.356687       0\n",
       "248     -139      112  0.588453  0.411547       0\n",
       "249      310     -420  0.394263  0.605737       1\n",
       "\n",
       "[250 rows x 5 columns]"
      ]
     },
     "metadata": {},
     "output_type": "display_data"
    },
    {
     "name": "stdout",
     "output_type": "stream",
     "text": [
      "\n",
      "          Number of matches: 250\n",
      "          Number of bets: 202\n",
      "          Number of winning bets: 96\n",
      "          Number of losing bets: 107\n",
      "          Number of underdog bets: 140\n",
      "          Number of underdog wins: 55\n",
      "          Number of underdog losses: 85\n",
      "          Number of Favorite bets: 61\n",
      "          Number of favorite wins: 40\n",
      "          Number of favorite losses: 21\n",
      "          Number of even bets: 2\n",
      "          Number of even wins: 1\n",
      "          Number of even losses: 1\n",
      "          Profit: -424.7399613025217\n",
      "          Profit per bet: -2.102673075755058\n",
      "          Profit per match: -1.6989598452100867\n",
      "          \n",
      "          \n"
     ]
    },
    {
     "data": {
      "text/plain": [
       "(3456, 26)"
      ]
     },
     "metadata": {},
     "output_type": "display_data"
    },
    {
     "data": {
      "text/plain": [
       "(3456,)"
      ]
     },
     "metadata": {},
     "output_type": "display_data"
    },
    {
     "data": {
      "text/plain": [
       "(3456, 2)"
      ]
     },
     "metadata": {},
     "output_type": "display_data"
    },
    {
     "data": {
      "text/plain": [
       "(248, 26)"
      ]
     },
     "metadata": {},
     "output_type": "display_data"
    },
    {
     "data": {
      "text/plain": [
       "(248,)"
      ]
     },
     "metadata": {},
     "output_type": "display_data"
    },
    {
     "data": {
      "text/plain": [
       "(248, 2)"
      ]
     },
     "metadata": {},
     "output_type": "display_data"
    },
    {
     "data": {
      "text/html": [
       "<div>\n",
       "<style scoped>\n",
       "    .dataframe tbody tr th:only-of-type {\n",
       "        vertical-align: middle;\n",
       "    }\n",
       "\n",
       "    .dataframe tbody tr th {\n",
       "        vertical-align: top;\n",
       "    }\n",
       "\n",
       "    .dataframe thead th {\n",
       "        text-align: right;\n",
       "    }\n",
       "</style>\n",
       "<table border=\"1\" class=\"dataframe\">\n",
       "  <thead>\n",
       "    <tr style=\"text-align: right;\">\n",
       "      <th></th>\n",
       "      <th>t1_odds</th>\n",
       "      <th>t2_odds</th>\n",
       "      <th>t1_prob</th>\n",
       "      <th>t2_prob</th>\n",
       "      <th>winner</th>\n",
       "    </tr>\n",
       "  </thead>\n",
       "  <tbody>\n",
       "    <tr>\n",
       "      <th>0</th>\n",
       "      <td>-235</td>\n",
       "      <td>185</td>\n",
       "      <td>0.659700</td>\n",
       "      <td>0.340300</td>\n",
       "      <td>0</td>\n",
       "    </tr>\n",
       "    <tr>\n",
       "      <th>1</th>\n",
       "      <td>-195</td>\n",
       "      <td>150</td>\n",
       "      <td>0.836505</td>\n",
       "      <td>0.163495</td>\n",
       "      <td>1</td>\n",
       "    </tr>\n",
       "    <tr>\n",
       "      <th>2</th>\n",
       "      <td>-500</td>\n",
       "      <td>355</td>\n",
       "      <td>0.756976</td>\n",
       "      <td>0.243024</td>\n",
       "      <td>0</td>\n",
       "    </tr>\n",
       "    <tr>\n",
       "      <th>3</th>\n",
       "      <td>170</td>\n",
       "      <td>-220</td>\n",
       "      <td>0.293203</td>\n",
       "      <td>0.706797</td>\n",
       "      <td>1</td>\n",
       "    </tr>\n",
       "    <tr>\n",
       "      <th>4</th>\n",
       "      <td>210</td>\n",
       "      <td>-275</td>\n",
       "      <td>0.393759</td>\n",
       "      <td>0.606241</td>\n",
       "      <td>0</td>\n",
       "    </tr>\n",
       "    <tr>\n",
       "      <th>...</th>\n",
       "      <td>...</td>\n",
       "      <td>...</td>\n",
       "      <td>...</td>\n",
       "      <td>...</td>\n",
       "      <td>...</td>\n",
       "    </tr>\n",
       "    <tr>\n",
       "      <th>243</th>\n",
       "      <td>140</td>\n",
       "      <td>-177</td>\n",
       "      <td>0.723689</td>\n",
       "      <td>0.276311</td>\n",
       "      <td>1</td>\n",
       "    </tr>\n",
       "    <tr>\n",
       "      <th>244</th>\n",
       "      <td>-215</td>\n",
       "      <td>170</td>\n",
       "      <td>0.730394</td>\n",
       "      <td>0.269606</td>\n",
       "      <td>0</td>\n",
       "    </tr>\n",
       "    <tr>\n",
       "      <th>245</th>\n",
       "      <td>-200</td>\n",
       "      <td>160</td>\n",
       "      <td>0.692849</td>\n",
       "      <td>0.307151</td>\n",
       "      <td>0</td>\n",
       "    </tr>\n",
       "    <tr>\n",
       "      <th>246</th>\n",
       "      <td>-139</td>\n",
       "      <td>112</td>\n",
       "      <td>0.559178</td>\n",
       "      <td>0.440822</td>\n",
       "      <td>0</td>\n",
       "    </tr>\n",
       "    <tr>\n",
       "      <th>247</th>\n",
       "      <td>310</td>\n",
       "      <td>-420</td>\n",
       "      <td>0.335167</td>\n",
       "      <td>0.664833</td>\n",
       "      <td>1</td>\n",
       "    </tr>\n",
       "  </tbody>\n",
       "</table>\n",
       "<p>248 rows × 5 columns</p>\n",
       "</div>"
      ],
      "text/plain": [
       "     t1_odds  t2_odds   t1_prob   t2_prob  winner\n",
       "0       -235      185  0.659700  0.340300       0\n",
       "1       -195      150  0.836505  0.163495       1\n",
       "2       -500      355  0.756976  0.243024       0\n",
       "3        170     -220  0.293203  0.706797       1\n",
       "4        210     -275  0.393759  0.606241       0\n",
       "..       ...      ...       ...       ...     ...\n",
       "243      140     -177  0.723689  0.276311       1\n",
       "244     -215      170  0.730394  0.269606       0\n",
       "245     -200      160  0.692849  0.307151       0\n",
       "246     -139      112  0.559178  0.440822       0\n",
       "247      310     -420  0.335167  0.664833       1\n",
       "\n",
       "[248 rows x 5 columns]"
      ]
     },
     "metadata": {},
     "output_type": "display_data"
    },
    {
     "name": "stdout",
     "output_type": "stream",
     "text": [
      "\n",
      "          Number of matches: 248\n",
      "          Number of bets: 172\n",
      "          Number of winning bets: 78\n",
      "          Number of losing bets: 96\n",
      "          Number of underdog bets: 117\n",
      "          Number of underdog wins: 44\n",
      "          Number of underdog losses: 73\n",
      "          Number of Favorite bets: 55\n",
      "          Number of favorite wins: 32\n",
      "          Number of favorite losses: 23\n",
      "          Number of even bets: 2\n",
      "          Number of even wins: 2\n",
      "          Number of even losses: 0\n",
      "          Profit: -1072.0520831966664\n",
      "          Profit per bet: -6.232860948817828\n",
      "          Profit per match: -4.322790658051074\n",
      "          \n",
      "          \n"
     ]
    }
   ],
   "source": [
    "score_list = []\n",
    "for model_num in range(len(models[0])):\n",
    "    test_model_name = models[0][model_num]\n",
    "    test_model = eval(models[1][model_num])\n",
    "    test_model_features = eval(models[2][model_num])\n",
    "    test_model_ev = eval(models[3][model_num])\n",
    "    \n",
    "    score_list.append(evaluate_model(test_model, test_model_features, test_model_ev, df_train, label_train, odds_train, df_test, label_test,\n",
    "                         odds_test, verbose = True))"
   ]
  },
  {
   "cell_type": "code",
   "execution_count": 10,
   "metadata": {},
   "outputs": [
    {
     "name": "stdout",
     "output_type": "stream",
     "text": [
      "['-908.2270374810071', '-1583.8882911882702', '863.5071918326112', '-289.14301717372734', '60.82113687354486', '1650.158334', '468.0115554', '2570.446418', '-513.9756548', '140.333141', '287.0186564', '703.5510631', '-126.6379278', '622.5142487', '-296.0965473']\n"
     ]
    }
   ],
   "source": [
    "print(models[4])"
   ]
  },
  {
   "cell_type": "code",
   "execution_count": 11,
   "metadata": {},
   "outputs": [
    {
     "name": "stdout",
     "output_type": "stream",
     "text": [
      "[-908.2270374810071, -1583.8882911882702, 863.5071918326112, -289.14301717372734, 60.82113687354486, 1479.903719982831, 54.7433723750309, 1544.2132004291993, -525.5214992389119, 218.4326440018466, 1170.5532989926305, 878.7154754819749, -84.0959191922784, -424.7399613025217, -1072.0520831966664]\n"
     ]
    }
   ],
   "source": [
    "print(score_list)"
   ]
  },
  {
   "cell_type": "code",
   "execution_count": 12,
   "metadata": {},
   "outputs": [],
   "source": [
    "models[4] = score_list"
   ]
  },
  {
   "cell_type": "code",
   "execution_count": 13,
   "metadata": {},
   "outputs": [
    {
     "data": {
      "text/plain": [
       "[['model_0',\n",
       "  'model_1',\n",
       "  'model_2',\n",
       "  'model_3',\n",
       "  'model_4',\n",
       "  'model_06_13_20',\n",
       "  'model_06_20_20',\n",
       "  'model_6_27_20',\n",
       "  'model_7_18_20',\n",
       "  'model_7_25_20',\n",
       "  'model_9_2_20',\n",
       "  'model_9_10_20',\n",
       "  'model_10_23_20',\n",
       "  'model_10_27_20',\n",
       "  'model_10_28_20'],\n",
       " ['LogisticRegression(max_iter=50000, random_state=75)',\n",
       "  \"DecisionTreeClassifier(max_depth=3, max_leaf_nodes=336, min_samples_leaf=0.01,\\n                       random_state=75, splitter='random')\",\n",
       "  \"RandomForestClassifier(criterion='entropy', max_depth=83, max_leaf_nodes=20,\\n                       min_samples_leaf=0.009999000000000001, n_estimators=39,\\n                       n_jobs=-1, random_state=75)\",\n",
       "  \"GradientBoostingClassifier(max_depth=17, max_features='sqrt',\\n                           max_leaf_nodes=316, min_samples_leaf=0.1,\\n                           n_estimators=195, random_state=75)\",\n",
       "  'GaussianNB(var_smoothing=1e-08)',\n",
       "  'LogisticRegression(max_iter=50000, random_state=75, tol=5.993308915320019)',\n",
       "  'GaussianNB()',\n",
       "  'GaussianNB()',\n",
       "  'GradientBoostingClassifier(n_estimators=122, random_state=75)',\n",
       "  'GaussianNB()',\n",
       "  'GaussianNB(var_smoothing=1e-12)',\n",
       "  'GaussianNB(var_smoothing=1e-12)',\n",
       "  'GradientBoostingClassifier(max_depth=95, min_samples_leaf=6, n_estimators=195,\\n                           random_state=75)',\n",
       "  \"RandomForestClassifier(criterion='entropy', max_depth=10, n_estimators=197,\\n                       n_jobs=-1, random_state=75)\",\n",
       "  \"RandomForestClassifier(criterion='entropy', max_depth=10, n_estimators=22,\\n                       n_jobs=-1, random_state=75)\"],\n",
       " [\"['R_Stance', 'age_dif', 'B_ev']\",\n",
       "  \"['R_Stance', 'weight_class', 'B_avg_SIG_STR_landed', 'R_ev']\",\n",
       "  \"['R_Height_cms', 'B_odds', 'B_age', 'R_Reach_cms', 'B_avg_TD_pct', 'R_odds', 'B_avg_TD_landed']\",\n",
       "  \"['total_title_bout_dif', 'R_avg_SIG_STR_pct', 'B_ev']\",\n",
       "  \"['B_current_lose_streak', 'R_Reach_cms', 'B_win_by_Decision_Unanimous', 'B_Height_cms', 'reach_dif', 'B_Lightweight_rank', 'R_ev', 'B_Stance']\",\n",
       "  \"['B_win_by_Decision_Majority', 'B_win_by_TKO_Doctor_Stoppage', 'R_win_by_Decision_Majority', 'R_odds', 'R_current_lose_streak', 'R_Reach_cms', 'B_draw', 'total_round_dif', 'R_ev', 'B_ev']\",\n",
       "  \"['R_win_by_Decision_Unanimous', 'B_win_by_Submission', 'R_Weight_lbs', 'sig_str_dif', 'B_Height_cms', 'B_avg_SUB_ATT', 'R_win_by_TKO_Doctor_Stoppage', 'height_dif', 'B_draw', 'avg_td_dif', 'R_win_by_Decision_Split', 'age_dif', 'B_current_win_streak', 'R_odds']\",\n",
       "  \"['R_longest_win_streak', 'longest_win_streak_dif', 'reach_dif', 'avg_sub_att_dif', 'R_win_by_Decision_Unanimous', 'B_win_by_Submission', 'R_Weight_lbs', 'sig_str_dif', 'B_Height_cms', 'B_avg_SUB_ATT', 'R_win_by_TKO_Doctor_Stoppage', 'height_dif', 'B_draw', 'avg_td_dif', 'R_win_by_Decision_Split', 'age_dif', 'B_current_win_streak', 'R_odds']\",\n",
       "  \"['B_current_win_streak', 'R_win_by_Submission', 'B_win_by_Decision_Unanimous', 'R_win_by_Decision_Unanimous', 'R_current_lose_streak', 'B_win_by_TKO_Doctor_Stoppage', 'win_dif', 'B_win_by_Decision_Split', 'B_wins', 'R_Stance', 'B_age', 'B_Weight_lbs', 'R_ev', 'B_total_rounds_fought', 'location', 'R_odds', 'R_Reach_cms', 'R_Weight_lbs', 'R_current_win_streak', 'R_age', 'empty_arena', 'R_win_by_Decision_Split', 'R_draw', 'lose_streak_dif', 'B_draw']\",\n",
       "  \"['R_Reach_cms', 'total_round_dif', 'R_Height_cms', 'R_avg_SIG_STR_pct', 'B_age', 'R_longest_win_streak', 'lose_streak_dif', 'ko_dif', 'R_win_by_Decision_Majority', 'longest_win_streak_dif', 'avg_sub_att_dif', 'R_Weight_lbs', 'sig_str_dif', 'B_Height_cms', 'B_avg_SUB_ATT', 'R_win_by_TKO_Doctor_Stoppage', 'B_draw', 'avg_td_dif', 'R_win_by_Decision_Split', 'age_dif', 'B_current_win_streak', 'R_odds']\",\n",
       "  \"['win_streak_dif', 'B_Light Heavyweight_rank', 'B_Lightweight_rank', 'R_avg_TD_landed', 'R_Middleweight_rank', 'total_round_dif', 'R_Height_cms', 'R_avg_SIG_STR_pct', 'B_age', 'R_longest_win_streak', 'lose_streak_dif', 'R_win_by_Decision_Majority', 'longest_win_streak_dif', 'avg_sub_att_dif', 'R_Weight_lbs', 'sig_str_dif', 'B_Height_cms', 'B_avg_SUB_ATT', 'R_win_by_TKO_Doctor_Stoppage', 'B_draw', 'avg_td_dif', 'R_win_by_Decision_Split', 'age_dif', 'R_odds']\",\n",
       "  \"['B_Weight_lbs', 'B_Flyweight_rank', 'B_avg_TD_landed', 'B_Light Heavyweight_rank', 'B_Lightweight_rank', 'R_avg_TD_landed', 'R_Middleweight_rank', 'R_Height_cms', 'R_avg_SIG_STR_pct', 'B_age', 'R_longest_win_streak', 'lose_streak_dif', 'R_win_by_Decision_Majority', 'longest_win_streak_dif', 'avg_sub_att_dif', 'sig_str_dif', 'B_avg_SUB_ATT', 'R_win_by_TKO_Doctor_Stoppage', 'B_draw', 'R_win_by_Decision_Split', 'age_dif', 'R_odds']\",\n",
       "  \"['weight_class', 'B_Reach_cms', 'B_Welterweight_rank', 'B_total_title_bouts', 'R_avg_TD_pct', 'B_Bantamweight_rank', 'R_Featherweight_rank', 'no_of_rounds', 'B_draw', 'B_Stance', 'R_win_by_TKO_Doctor_Stoppage', 'R_current_win_streak', 'B_avg_SIG_STR_landed', 'country']\",\n",
       "  '[\\'R_Height_cms\\', \\'R_Bantamweight_rank\\', \\'B_current_lose_streak\\', \\'avg_sub_att_dif\\', \\'B_Middleweight_rank\\', \\'R_current_win_streak\\', \\'total_round_dif\\', \\'B_avg_SUB_ATT\\', \\'B_avg_SIG_STR_landed\\', \\'age_dif\\', \\'B_Light Heavyweight_rank\\', \\'R_avg_TD_pct\\', \\'R_ev\\', \"B_Women\\'s Flyweight_rank\", \"B_Women\\'s Strawweight_rank\", \\'B_Bantamweight_rank\\', \\'R_Reach_cms\\', \\'B_win_by_Decision_Unanimous\\', \\'constant_1\\']',\n",
       "  '[\\'B_Stance\\', \\'R_current_lose_streak\\', \\'loss_dif\\', \\'B_win_by_Decision_Split\\', \\'R_Height_cms\\', \\'R_Bantamweight_rank\\', \\'B_current_lose_streak\\', \\'avg_sub_att_dif\\', \\'B_Middleweight_rank\\', \\'R_current_win_streak\\', \\'total_round_dif\\', \\'B_avg_SUB_ATT\\', \\'B_avg_SIG_STR_landed\\', \\'age_dif\\', \\'B_Light Heavyweight_rank\\', \\'R_avg_TD_pct\\', \\'R_ev\\', \"B_Women\\'s Flyweight_rank\", \"B_Women\\'s Strawweight_rank\", \\'B_Bantamweight_rank\\', \\'R_Reach_cms\\', \\'B_win_by_Decision_Unanimous\\', \\'constant_1\\']'],\n",
       " ['0', '4', '2', '0', '0', '0', '0', '0', '0', '1', '3', '2', '27', '1', '5'],\n",
       " [-908.2270374810071,\n",
       "  -1583.8882911882702,\n",
       "  863.5071918326112,\n",
       "  -289.14301717372734,\n",
       "  60.82113687354486,\n",
       "  1479.903719982831,\n",
       "  54.7433723750309,\n",
       "  1544.2132004291993,\n",
       "  -525.5214992389119,\n",
       "  218.4326440018466,\n",
       "  1170.5532989926305,\n",
       "  878.7154754819749,\n",
       "  -84.0959191922784,\n",
       "  -424.7399613025217,\n",
       "  -1072.0520831966664]]"
      ]
     },
     "execution_count": 13,
     "metadata": {},
     "output_type": "execute_result"
    }
   ],
   "source": [
    "models"
   ]
  },
  {
   "cell_type": "code",
   "execution_count": 14,
   "metadata": {},
   "outputs": [
    {
     "name": "stdout",
     "output_type": "stream",
     "text": [
      "HI\n",
      "HI\n",
      "HI\n",
      "HI\n",
      "HI\n"
     ]
    }
   ],
   "source": [
    "with open('models.csv', 'w' , newline='') as outfile:\n",
    "    writer = csv.writer(outfile)\n",
    "    for row in models:\n",
    "        print(\"HI\")\n",
    "        writer.writerow(row)\n",
    "    \n",
    "outfile.close()"
   ]
  },
  {
   "cell_type": "code",
   "execution_count": null,
   "metadata": {},
   "outputs": [],
   "source": []
  }
 ],
 "metadata": {
  "kernelspec": {
   "display_name": "Python 3",
   "language": "python",
   "name": "python3"
  },
  "language_info": {
   "codemirror_mode": {
    "name": "ipython",
    "version": 3
   },
   "file_extension": ".py",
   "mimetype": "text/x-python",
   "name": "python",
   "nbconvert_exporter": "python",
   "pygments_lexer": "ipython3",
   "version": "3.8.8"
  }
 },
 "nbformat": 4,
 "nbformat_minor": 4
}
