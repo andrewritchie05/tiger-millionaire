{
 "cells": [
  {
   "cell_type": "code",
   "execution_count": 1,
   "metadata": {},
   "outputs": [],
   "source": [
    "import pandas as pd\n",
    "import numpy as np\n",
    "from functions import *\n",
    "import random\n",
    "import csv\n",
    "from sklearn.linear_model import LogisticRegression\n",
    "from sklearn.tree import DecisionTreeClassifier\n",
    "from sklearn.ensemble import GradientBoostingClassifier\n",
    "\n",
    "remove_fight_island = False"
   ]
  },
  {
   "cell_type": "code",
   "execution_count": 2,
   "metadata": {},
   "outputs": [
    {
     "name": "stdout",
     "output_type": "stream",
     "text": [
      "5\n"
     ]
    }
   ],
   "source": [
    "#Load models\n",
    "#REMINDER: We are going to need to use 'eval' to get the models usable\n",
    "with open('../data/production_models.csv', newline='') as f:\n",
    "    reader = csv.reader(f)\n",
    "    models = list(reader)\n",
    "    \n",
    "print(len(models))\n"
   ]
  },
  {
   "cell_type": "code",
   "execution_count": 3,
   "metadata": {},
   "outputs": [
    {
     "data": {
      "text/plain": [
       "[['model_06_13_20',\n",
       "  'model_06_20_20',\n",
       "  'model_6_27_20',\n",
       "  'model_7_18_20',\n",
       "  'model_7_25_20',\n",
       "  'model_9_2_20',\n",
       "  'model_9_10_20',\n",
       "  'model_10_23_20',\n",
       "  'model_10_27_20',\n",
       "  'model_10_28_20',\n",
       "  'model_2021_06_24'],\n",
       " ['LogisticRegression(max_iter=50000, random_state=75, tol=5.993308915320019)',\n",
       "  'GaussianNB()',\n",
       "  'GaussianNB()',\n",
       "  'GradientBoostingClassifier(n_estimators=122, random_state=75)',\n",
       "  'GaussianNB()',\n",
       "  'GaussianNB(var_smoothing=1e-12)',\n",
       "  'GaussianNB(var_smoothing=1e-12)',\n",
       "  'GradientBoostingClassifier(max_depth=95, min_samples_leaf=6, n_estimators=195,\\n                           random_state=75)',\n",
       "  \"RandomForestClassifier(criterion='entropy', max_depth=10, n_estimators=197,\\n                       n_jobs=-1, random_state=75)\",\n",
       "  \"RandomForestClassifier(criterion='entropy', max_depth=10, n_estimators=22,\\n                       n_jobs=-1, random_state=75)\",\n",
       "  'GradientBoostingClassifier(max_depth=95, min_samples_leaf=0.0015,\\n                           n_estimators=195, random_state=75)'],\n",
       " [\"['B_win_by_Decision_Majority', 'B_win_by_TKO_Doctor_Stoppage', 'R_win_by_Decision_Majority', 'R_odds', 'R_current_lose_streak', 'R_Reach_cms', 'B_draw', 'total_round_dif', 'R_ev', 'B_ev']\",\n",
       "  \"['R_win_by_Decision_Unanimous', 'B_win_by_Submission', 'R_Weight_lbs', 'sig_str_dif', 'B_Height_cms', 'B_avg_SUB_ATT', 'R_win_by_TKO_Doctor_Stoppage', 'height_dif', 'B_draw', 'avg_td_dif', 'R_win_by_Decision_Split', 'age_dif', 'B_current_win_streak', 'R_odds']\",\n",
       "  \"['R_longest_win_streak', 'longest_win_streak_dif', 'reach_dif', 'avg_sub_att_dif', 'R_win_by_Decision_Unanimous', 'B_win_by_Submission', 'R_Weight_lbs', 'sig_str_dif', 'B_Height_cms', 'B_avg_SUB_ATT', 'R_win_by_TKO_Doctor_Stoppage', 'height_dif', 'B_draw', 'avg_td_dif', 'R_win_by_Decision_Split', 'age_dif', 'B_current_win_streak', 'R_odds']\",\n",
       "  \"['B_current_win_streak', 'R_win_by_Submission', 'B_win_by_Decision_Unanimous', 'R_win_by_Decision_Unanimous', 'R_current_lose_streak', 'B_win_by_TKO_Doctor_Stoppage', 'win_dif', 'B_win_by_Decision_Split', 'B_wins', 'R_Stance', 'B_age', 'B_Weight_lbs', 'R_ev', 'B_total_rounds_fought', 'location', 'R_odds', 'R_Reach_cms', 'R_Weight_lbs', 'R_current_win_streak', 'R_age', 'empty_arena', 'R_win_by_Decision_Split', 'R_draw', 'lose_streak_dif', 'B_draw']\",\n",
       "  \"['R_Reach_cms', 'total_round_dif', 'R_Height_cms', 'R_avg_SIG_STR_pct', 'B_age', 'R_longest_win_streak', 'lose_streak_dif', 'ko_dif', 'R_win_by_Decision_Majority', 'longest_win_streak_dif', 'avg_sub_att_dif', 'R_Weight_lbs', 'sig_str_dif', 'B_Height_cms', 'B_avg_SUB_ATT', 'R_win_by_TKO_Doctor_Stoppage', 'B_draw', 'avg_td_dif', 'R_win_by_Decision_Split', 'age_dif', 'B_current_win_streak', 'R_odds']\",\n",
       "  \"['win_streak_dif', 'B_Light Heavyweight_rank', 'B_Lightweight_rank', 'R_avg_TD_landed', 'R_Middleweight_rank', 'total_round_dif', 'R_Height_cms', 'R_avg_SIG_STR_pct', 'B_age', 'R_longest_win_streak', 'lose_streak_dif', 'R_win_by_Decision_Majority', 'longest_win_streak_dif', 'avg_sub_att_dif', 'R_Weight_lbs', 'sig_str_dif', 'B_Height_cms', 'B_avg_SUB_ATT', 'R_win_by_TKO_Doctor_Stoppage', 'B_draw', 'avg_td_dif', 'R_win_by_Decision_Split', 'age_dif', 'R_odds']\",\n",
       "  \"['B_Weight_lbs', 'B_Flyweight_rank', 'B_avg_TD_landed', 'B_Light Heavyweight_rank', 'B_Lightweight_rank', 'R_avg_TD_landed', 'R_Middleweight_rank', 'R_Height_cms', 'R_avg_SIG_STR_pct', 'B_age', 'R_longest_win_streak', 'lose_streak_dif', 'R_win_by_Decision_Majority', 'longest_win_streak_dif', 'avg_sub_att_dif', 'sig_str_dif', 'B_avg_SUB_ATT', 'R_win_by_TKO_Doctor_Stoppage', 'B_draw', 'R_win_by_Decision_Split', 'age_dif', 'R_odds']\",\n",
       "  \"['weight_class', 'B_Reach_cms', 'B_Welterweight_rank', 'B_total_title_bouts', 'R_avg_TD_pct', 'B_Bantamweight_rank', 'R_Featherweight_rank', 'no_of_rounds', 'B_draw', 'B_Stance', 'R_win_by_TKO_Doctor_Stoppage', 'R_current_win_streak', 'B_avg_SIG_STR_landed', 'country']\",\n",
       "  '[\\'R_Height_cms\\', \\'R_Bantamweight_rank\\', \\'B_current_lose_streak\\', \\'avg_sub_att_dif\\', \\'B_Middleweight_rank\\', \\'R_current_win_streak\\', \\'total_round_dif\\', \\'B_avg_SUB_ATT\\', \\'B_avg_SIG_STR_landed\\', \\'age_dif\\', \\'B_Light Heavyweight_rank\\', \\'R_avg_TD_pct\\', \\'R_ev\\', \"B_Women\\'s Flyweight_rank\", \"B_Women\\'s Strawweight_rank\", \\'B_Bantamweight_rank\\', \\'R_Reach_cms\\', \\'B_win_by_Decision_Unanimous\\', \\'constant_1\\']',\n",
       "  '[\\'B_Stance\\', \\'R_current_lose_streak\\', \\'loss_dif\\', \\'B_win_by_Decision_Split\\', \\'R_Height_cms\\', \\'R_Bantamweight_rank\\', \\'B_current_lose_streak\\', \\'avg_sub_att_dif\\', \\'B_Middleweight_rank\\', \\'R_current_win_streak\\', \\'total_round_dif\\', \\'B_avg_SUB_ATT\\', \\'B_avg_SIG_STR_landed\\', \\'age_dif\\', \\'B_Light Heavyweight_rank\\', \\'R_avg_TD_pct\\', \\'R_ev\\', \"B_Women\\'s Flyweight_rank\", \"B_Women\\'s Strawweight_rank\", \\'B_Bantamweight_rank\\', \\'R_Reach_cms\\', \\'B_win_by_Decision_Unanimous\\', \\'constant_1\\']',\n",
       "  '[\"R_Women\\'s Featherweight_rank\", \\'B_Featherweight_rank\\', \\'B_win_by_KO/TKO\\', \\'R_Pound-for-Pound_rank\\', \\'reach_dif\\', \"R_Women\\'s Bantamweight_rank\", \\'age_dif\\', \\'weight_class\\', \\'B_Reach_cms\\', \\'B_Welterweight_rank\\', \\'B_total_title_bouts\\', \\'R_avg_TD_pct\\', \\'B_Bantamweight_rank\\', \\'R_Featherweight_rank\\', \\'no_of_rounds\\', \\'B_draw\\', \\'B_Stance\\', \\'R_win_by_TKO_Doctor_Stoppage\\', \\'R_current_win_streak\\', \\'B_avg_SIG_STR_landed\\', \\'country\\']'],\n",
       " ['0', '0', '0', '0', '1', '3', '2', '27', '1', '5', '33'],\n",
       " ['1652.4129006482722',\n",
       "  '-89.10560164031426',\n",
       "  '931.734340767839',\n",
       "  '-1665.2948509208275',\n",
       "  '22.11070203033951',\n",
       "  '-93.34709404134037',\n",
       "  '-23.27494407164788',\n",
       "  '549.7604013994487',\n",
       "  '-635.9246581945307',\n",
       "  '-678.809810969788',\n",
       "  '2001.216221439726']]"
      ]
     },
     "execution_count": 3,
     "metadata": {},
     "output_type": "execute_result"
    }
   ],
   "source": [
    "models"
   ]
  },
  {
   "cell_type": "code",
   "execution_count": 4,
   "metadata": {},
   "outputs": [],
   "source": [
    "df = pd.read_csv(\"../data/kaggle_data/ufc-master.csv\")"
   ]
  },
  {
   "cell_type": "code",
   "execution_count": 5,
   "metadata": {},
   "outputs": [
    {
     "name": "stdout",
     "output_type": "stream",
     "text": [
      "250\n",
      "250\n",
      "250\n",
      "4521\n",
      "4521\n",
      "4521\n"
     ]
    },
    {
     "name": "stderr",
     "output_type": "stream",
     "text": [
      "<ipython-input-5-d6c2a1ffdd58>:5: SettingWithCopyWarning: \n",
      "A value is trying to be set on a copy of a slice from a DataFrame\n",
      "\n",
      "See the caveats in the documentation: https://pandas.pydata.org/pandas-docs/stable/user_guide/indexing.html#returning-a-view-versus-a-copy\n",
      "  df['label'][mask] = 0\n",
      "<ipython-input-5-d6c2a1ffdd58>:7: SettingWithCopyWarning: \n",
      "A value is trying to be set on a copy of a slice from a DataFrame\n",
      "\n",
      "See the caveats in the documentation: https://pandas.pydata.org/pandas-docs/stable/user_guide/indexing.html#returning-a-view-versus-a-copy\n",
      "  df['label'][mask] = 1\n"
     ]
    }
   ],
   "source": [
    "#Let's put all the labels in a dataframe\n",
    "df['label'] = ''\n",
    "#If the winner is not Red or Blue we can remove it.\n",
    "mask = df['Winner'] == 'Red'\n",
    "df['label'][mask] = 0\n",
    "mask = df['Winner'] == 'Blue'\n",
    "df['label'][mask] = 1\n",
    "\n",
    "#df[\"Winner\"] = df[\"Winner\"].astype('category')\n",
    "df = df[(df['Winner'] == 'Blue') | (df['Winner'] == 'Red')]\n",
    "\n",
    "\n",
    "#Make sure lable is numeric\n",
    "df['label'] = pd.to_numeric(df['label'], errors='coerce')\n",
    "\n",
    "#Let's fix the date\n",
    "df['date'] = pd.to_datetime(df['date'])\n",
    "\n",
    "#Create a label df:\n",
    "label_df = df['label']\n",
    "\n",
    "#Let's create an odds df too:\n",
    "odds_df = df[['R_odds', 'B_odds']]\n",
    "\n",
    "#Split the test set.  We are always(?) going to use the last 200 matches as the test set, so we don't want those around\n",
    "#as we pick models\n",
    "\n",
    "df_train = df[250:]\n",
    "odds_train = odds_df[250:]\n",
    "label_train = label_df[250:]\n",
    "\n",
    "df_test = df[:250]\n",
    "odds_test = odds_df[:250]\n",
    "label_test = label_df[:250]\n",
    "\n",
    "print(len(df_test))\n",
    "print(len(odds_test))\n",
    "print(len(label_test))\n",
    "\n",
    "print(len(df_train))\n",
    "print(len(odds_train))\n",
    "print(len(label_train))"
   ]
  },
  {
   "cell_type": "code",
   "execution_count": 6,
   "metadata": {},
   "outputs": [
    {
     "name": "stdout",
     "output_type": "stream",
     "text": [
      "250\n",
      "4521\n"
     ]
    }
   ],
   "source": [
    "if remove_fight_island:\n",
    "    ##Let's remove the Fight island contests and see how that affects score\n",
    "    df_test_no_fight_island = df_test[(df_test['location'] != 'Abu Dhabi, Abu Dhabi, United Arab Emirates')]\n",
    "    df_train_no_fight_island = df_train[(df_train['location'] != 'Abu Dhabi, Abu Dhabi, United Arab Emirates')]\n",
    "    df_test = df_test_no_fight_island\n",
    "    df_train = df_train_no_fight_island\n",
    "\n",
    "\n",
    "\n",
    "print(len(df_test))\n",
    "print(len(df_train))\n"
   ]
  },
  {
   "cell_type": "code",
   "execution_count": 7,
   "metadata": {},
   "outputs": [
    {
     "name": "stderr",
     "output_type": "stream",
     "text": [
      "C:\\Users\\matth\\anaconda3\\lib\\site-packages\\pandas\\core\\frame.py:3191: SettingWithCopyWarning: \n",
      "A value is trying to be set on a copy of a slice from a DataFrame.\n",
      "Try using .loc[row_indexer,col_indexer] = value instead\n",
      "\n",
      "See the caveats in the documentation: https://pandas.pydata.org/pandas-docs/stable/user_guide/indexing.html#returning-a-view-versus-a-copy\n",
      "  self[k1] = value[k2]\n"
     ]
    }
   ],
   "source": [
    "#Set a value for the nulls in the ranks\n",
    "\n",
    "weightclass_list = ['B_match_weightclass_rank', 'R_match_weightclass_rank', \"R_Women's Flyweight_rank\", \"R_Women's Featherweight_rank\", \"R_Women's Strawweight_rank\", \"R_Women's Bantamweight_rank\", 'R_Heavyweight_rank', 'R_Light Heavyweight_rank', 'R_Middleweight_rank', 'R_Welterweight_rank', 'R_Lightweight_rank', 'R_Featherweight_rank', 'R_Bantamweight_rank', 'R_Flyweight_rank', 'R_Pound-for-Pound_rank', \"B_Women's Flyweight_rank\", \"B_Women's Featherweight_rank\", \"B_Women's Strawweight_rank\", \"B_Women's Bantamweight_rank\", 'B_Heavyweight_rank', 'B_Light Heavyweight_rank', 'B_Middleweight_rank', 'B_Welterweight_rank', 'B_Lightweight_rank', 'B_Featherweight_rank', 'B_Bantamweight_rank', 'B_Flyweight_rank', 'B_Pound-for-Pound_rank']\n",
    "df_train[weightclass_list] = df_train[weightclass_list].fillna(17)\n",
    "df_test[weightclass_list] = df_test[weightclass_list].fillna(17)"
   ]
  },
  {
   "cell_type": "code",
   "execution_count": 8,
   "metadata": {},
   "outputs": [
    {
     "data": {
      "text/plain": [
       "11"
      ]
     },
     "execution_count": 8,
     "metadata": {},
     "output_type": "execute_result"
    }
   ],
   "source": [
    "len(models[0])"
   ]
  },
  {
   "cell_type": "code",
   "execution_count": null,
   "metadata": {},
   "outputs": [],
   "source": []
  },
  {
   "cell_type": "code",
   "execution_count": 9,
   "metadata": {},
   "outputs": [
    {
     "data": {
      "text/plain": [
       "(4521, 10)"
      ]
     },
     "metadata": {},
     "output_type": "display_data"
    },
    {
     "data": {
      "text/plain": [
       "(4521,)"
      ]
     },
     "metadata": {},
     "output_type": "display_data"
    },
    {
     "data": {
      "text/plain": [
       "(4521, 2)"
      ]
     },
     "metadata": {},
     "output_type": "display_data"
    },
    {
     "data": {
      "text/plain": [
       "(250, 10)"
      ]
     },
     "metadata": {},
     "output_type": "display_data"
    },
    {
     "data": {
      "text/plain": [
       "(250,)"
      ]
     },
     "metadata": {},
     "output_type": "display_data"
    },
    {
     "data": {
      "text/plain": [
       "(250, 2)"
      ]
     },
     "metadata": {},
     "output_type": "display_data"
    },
    {
     "data": {
      "text/html": [
       "<div>\n",
       "<style scoped>\n",
       "    .dataframe tbody tr th:only-of-type {\n",
       "        vertical-align: middle;\n",
       "    }\n",
       "\n",
       "    .dataframe tbody tr th {\n",
       "        vertical-align: top;\n",
       "    }\n",
       "\n",
       "    .dataframe thead th {\n",
       "        text-align: right;\n",
       "    }\n",
       "</style>\n",
       "<table border=\"1\" class=\"dataframe\">\n",
       "  <thead>\n",
       "    <tr style=\"text-align: right;\">\n",
       "      <th></th>\n",
       "      <th>t1_odds</th>\n",
       "      <th>t2_odds</th>\n",
       "      <th>t1_prob</th>\n",
       "      <th>t2_prob</th>\n",
       "      <th>winner</th>\n",
       "    </tr>\n",
       "  </thead>\n",
       "  <tbody>\n",
       "    <tr>\n",
       "      <th>0</th>\n",
       "      <td>-155</td>\n",
       "      <td>125</td>\n",
       "      <td>0.595914</td>\n",
       "      <td>0.404086</td>\n",
       "      <td>0</td>\n",
       "    </tr>\n",
       "    <tr>\n",
       "      <th>1</th>\n",
       "      <td>-195</td>\n",
       "      <td>153</td>\n",
       "      <td>0.675991</td>\n",
       "      <td>0.324009</td>\n",
       "      <td>0</td>\n",
       "    </tr>\n",
       "    <tr>\n",
       "      <th>2</th>\n",
       "      <td>-230</td>\n",
       "      <td>180</td>\n",
       "      <td>0.654198</td>\n",
       "      <td>0.345802</td>\n",
       "      <td>1</td>\n",
       "    </tr>\n",
       "    <tr>\n",
       "      <th>3</th>\n",
       "      <td>-143</td>\n",
       "      <td>113</td>\n",
       "      <td>0.471125</td>\n",
       "      <td>0.528875</td>\n",
       "      <td>0</td>\n",
       "    </tr>\n",
       "    <tr>\n",
       "      <th>4</th>\n",
       "      <td>-250</td>\n",
       "      <td>195</td>\n",
       "      <td>0.672408</td>\n",
       "      <td>0.327592</td>\n",
       "      <td>0</td>\n",
       "    </tr>\n",
       "    <tr>\n",
       "      <th>...</th>\n",
       "      <td>...</td>\n",
       "      <td>...</td>\n",
       "      <td>...</td>\n",
       "      <td>...</td>\n",
       "      <td>...</td>\n",
       "    </tr>\n",
       "    <tr>\n",
       "      <th>245</th>\n",
       "      <td>-230</td>\n",
       "      <td>180</td>\n",
       "      <td>0.650449</td>\n",
       "      <td>0.349551</td>\n",
       "      <td>1</td>\n",
       "    </tr>\n",
       "    <tr>\n",
       "      <th>246</th>\n",
       "      <td>180</td>\n",
       "      <td>-230</td>\n",
       "      <td>0.386375</td>\n",
       "      <td>0.613625</td>\n",
       "      <td>1</td>\n",
       "    </tr>\n",
       "    <tr>\n",
       "      <th>247</th>\n",
       "      <td>-103</td>\n",
       "      <td>-117</td>\n",
       "      <td>0.503044</td>\n",
       "      <td>0.496956</td>\n",
       "      <td>0</td>\n",
       "    </tr>\n",
       "    <tr>\n",
       "      <th>248</th>\n",
       "      <td>-140</td>\n",
       "      <td>120</td>\n",
       "      <td>0.566789</td>\n",
       "      <td>0.433211</td>\n",
       "      <td>0</td>\n",
       "    </tr>\n",
       "    <tr>\n",
       "      <th>249</th>\n",
       "      <td>105</td>\n",
       "      <td>-125</td>\n",
       "      <td>0.516449</td>\n",
       "      <td>0.483551</td>\n",
       "      <td>0</td>\n",
       "    </tr>\n",
       "  </tbody>\n",
       "</table>\n",
       "<p>250 rows × 5 columns</p>\n",
       "</div>"
      ],
      "text/plain": [
       "     t1_odds  t2_odds   t1_prob   t2_prob  winner\n",
       "0       -155      125  0.595914  0.404086       0\n",
       "1       -195      153  0.675991  0.324009       0\n",
       "2       -230      180  0.654198  0.345802       1\n",
       "3       -143      113  0.471125  0.528875       0\n",
       "4       -250      195  0.672408  0.327592       0\n",
       "..       ...      ...       ...       ...     ...\n",
       "245     -230      180  0.650449  0.349551       1\n",
       "246      180     -230  0.386375  0.613625       1\n",
       "247     -103     -117  0.503044  0.496956       0\n",
       "248     -140      120  0.566789  0.433211       0\n",
       "249      105     -125  0.516449  0.483551       0\n",
       "\n",
       "[250 rows x 5 columns]"
      ]
     },
     "metadata": {},
     "output_type": "display_data"
    },
    {
     "name": "stdout",
     "output_type": "stream",
     "text": [
      "\n",
      "          Number of matches: 250\n",
      "          Number of bets: 115\n",
      "          Number of winning bets: 60\n",
      "          Number of losing bets: 56\n",
      "          Number of underdog bets: 98\n",
      "          Number of underdog wins: 45\n",
      "          Number of underdog losses: 53\n",
      "          Number of Favorite bets: 18\n",
      "          Number of favorite wins: 15\n",
      "          Number of favorite losses: 3\n",
      "          Number of even bets: 0\n",
      "          Number of even wins: 0\n",
      "          Number of even losses: 0\n",
      "          Profit: 1652.4129006482722\n",
      "          Profit per bet: 14.368807831724105\n",
      "          Profit per match: 6.609651602593089\n",
      "          \n",
      "          \n"
     ]
    },
    {
     "data": {
      "text/plain": [
       "(3689, 14)"
      ]
     },
     "metadata": {},
     "output_type": "display_data"
    },
    {
     "data": {
      "text/plain": [
       "(3689,)"
      ]
     },
     "metadata": {},
     "output_type": "display_data"
    },
    {
     "data": {
      "text/plain": [
       "(3689, 2)"
      ]
     },
     "metadata": {},
     "output_type": "display_data"
    },
    {
     "data": {
      "text/plain": [
       "(250, 14)"
      ]
     },
     "metadata": {},
     "output_type": "display_data"
    },
    {
     "data": {
      "text/plain": [
       "(250,)"
      ]
     },
     "metadata": {},
     "output_type": "display_data"
    },
    {
     "data": {
      "text/plain": [
       "(250, 2)"
      ]
     },
     "metadata": {},
     "output_type": "display_data"
    },
    {
     "data": {
      "text/html": [
       "<div>\n",
       "<style scoped>\n",
       "    .dataframe tbody tr th:only-of-type {\n",
       "        vertical-align: middle;\n",
       "    }\n",
       "\n",
       "    .dataframe tbody tr th {\n",
       "        vertical-align: top;\n",
       "    }\n",
       "\n",
       "    .dataframe thead th {\n",
       "        text-align: right;\n",
       "    }\n",
       "</style>\n",
       "<table border=\"1\" class=\"dataframe\">\n",
       "  <thead>\n",
       "    <tr style=\"text-align: right;\">\n",
       "      <th></th>\n",
       "      <th>t1_odds</th>\n",
       "      <th>t2_odds</th>\n",
       "      <th>t1_prob</th>\n",
       "      <th>t2_prob</th>\n",
       "      <th>winner</th>\n",
       "    </tr>\n",
       "  </thead>\n",
       "  <tbody>\n",
       "    <tr>\n",
       "      <th>0</th>\n",
       "      <td>-155</td>\n",
       "      <td>125</td>\n",
       "      <td>0.682522</td>\n",
       "      <td>0.317478</td>\n",
       "      <td>0</td>\n",
       "    </tr>\n",
       "    <tr>\n",
       "      <th>1</th>\n",
       "      <td>-195</td>\n",
       "      <td>153</td>\n",
       "      <td>0.538502</td>\n",
       "      <td>0.461498</td>\n",
       "      <td>0</td>\n",
       "    </tr>\n",
       "    <tr>\n",
       "      <th>2</th>\n",
       "      <td>-230</td>\n",
       "      <td>180</td>\n",
       "      <td>0.798667</td>\n",
       "      <td>0.201333</td>\n",
       "      <td>1</td>\n",
       "    </tr>\n",
       "    <tr>\n",
       "      <th>3</th>\n",
       "      <td>-143</td>\n",
       "      <td>113</td>\n",
       "      <td>0.000481</td>\n",
       "      <td>0.999519</td>\n",
       "      <td>0</td>\n",
       "    </tr>\n",
       "    <tr>\n",
       "      <th>4</th>\n",
       "      <td>-250</td>\n",
       "      <td>195</td>\n",
       "      <td>0.495499</td>\n",
       "      <td>0.504501</td>\n",
       "      <td>0</td>\n",
       "    </tr>\n",
       "    <tr>\n",
       "      <th>...</th>\n",
       "      <td>...</td>\n",
       "      <td>...</td>\n",
       "      <td>...</td>\n",
       "      <td>...</td>\n",
       "      <td>...</td>\n",
       "    </tr>\n",
       "    <tr>\n",
       "      <th>245</th>\n",
       "      <td>-230</td>\n",
       "      <td>180</td>\n",
       "      <td>0.809419</td>\n",
       "      <td>0.190581</td>\n",
       "      <td>1</td>\n",
       "    </tr>\n",
       "    <tr>\n",
       "      <th>246</th>\n",
       "      <td>180</td>\n",
       "      <td>-230</td>\n",
       "      <td>0.474225</td>\n",
       "      <td>0.525775</td>\n",
       "      <td>1</td>\n",
       "    </tr>\n",
       "    <tr>\n",
       "      <th>247</th>\n",
       "      <td>-103</td>\n",
       "      <td>-117</td>\n",
       "      <td>0.736754</td>\n",
       "      <td>0.263246</td>\n",
       "      <td>0</td>\n",
       "    </tr>\n",
       "    <tr>\n",
       "      <th>248</th>\n",
       "      <td>-140</td>\n",
       "      <td>120</td>\n",
       "      <td>0.764902</td>\n",
       "      <td>0.235098</td>\n",
       "      <td>0</td>\n",
       "    </tr>\n",
       "    <tr>\n",
       "      <th>249</th>\n",
       "      <td>105</td>\n",
       "      <td>-125</td>\n",
       "      <td>0.606453</td>\n",
       "      <td>0.393547</td>\n",
       "      <td>0</td>\n",
       "    </tr>\n",
       "  </tbody>\n",
       "</table>\n",
       "<p>250 rows × 5 columns</p>\n",
       "</div>"
      ],
      "text/plain": [
       "     t1_odds  t2_odds   t1_prob   t2_prob  winner\n",
       "0       -155      125  0.682522  0.317478       0\n",
       "1       -195      153  0.538502  0.461498       0\n",
       "2       -230      180  0.798667  0.201333       1\n",
       "3       -143      113  0.000481  0.999519       0\n",
       "4       -250      195  0.495499  0.504501       0\n",
       "..       ...      ...       ...       ...     ...\n",
       "245     -230      180  0.809419  0.190581       1\n",
       "246      180     -230  0.474225  0.525775       1\n",
       "247     -103     -117  0.736754  0.263246       0\n",
       "248     -140      120  0.764902  0.235098       0\n",
       "249      105     -125  0.606453  0.393547       0\n",
       "\n",
       "[250 rows x 5 columns]"
      ]
     },
     "metadata": {},
     "output_type": "display_data"
    },
    {
     "name": "stdout",
     "output_type": "stream",
     "text": [
      "\n",
      "          Number of matches: 250\n",
      "          Number of bets: 231\n",
      "          Number of winning bets: 121\n",
      "          Number of losing bets: 110\n",
      "          Number of underdog bets: 109\n",
      "          Number of underdog wins: 46\n",
      "          Number of underdog losses: 63\n",
      "          Number of Favorite bets: 119\n",
      "          Number of favorite wins: 75\n",
      "          Number of favorite losses: 44\n",
      "          Number of even bets: 3\n",
      "          Number of even wins: 0\n",
      "          Number of even losses: 3\n",
      "          Profit: -89.10560164031426\n",
      "          Profit per bet: -0.38573853523945567\n",
      "          Profit per match: -0.35642240656125707\n",
      "          \n",
      "          \n"
     ]
    },
    {
     "data": {
      "text/plain": [
       "(3689, 18)"
      ]
     },
     "metadata": {},
     "output_type": "display_data"
    },
    {
     "data": {
      "text/plain": [
       "(3689,)"
      ]
     },
     "metadata": {},
     "output_type": "display_data"
    },
    {
     "data": {
      "text/plain": [
       "(3689, 2)"
      ]
     },
     "metadata": {},
     "output_type": "display_data"
    },
    {
     "data": {
      "text/plain": [
       "(250, 18)"
      ]
     },
     "metadata": {},
     "output_type": "display_data"
    },
    {
     "data": {
      "text/plain": [
       "(250,)"
      ]
     },
     "metadata": {},
     "output_type": "display_data"
    },
    {
     "data": {
      "text/plain": [
       "(250, 2)"
      ]
     },
     "metadata": {},
     "output_type": "display_data"
    },
    {
     "data": {
      "text/html": [
       "<div>\n",
       "<style scoped>\n",
       "    .dataframe tbody tr th:only-of-type {\n",
       "        vertical-align: middle;\n",
       "    }\n",
       "\n",
       "    .dataframe tbody tr th {\n",
       "        vertical-align: top;\n",
       "    }\n",
       "\n",
       "    .dataframe thead th {\n",
       "        text-align: right;\n",
       "    }\n",
       "</style>\n",
       "<table border=\"1\" class=\"dataframe\">\n",
       "  <thead>\n",
       "    <tr style=\"text-align: right;\">\n",
       "      <th></th>\n",
       "      <th>t1_odds</th>\n",
       "      <th>t2_odds</th>\n",
       "      <th>t1_prob</th>\n",
       "      <th>t2_prob</th>\n",
       "      <th>winner</th>\n",
       "    </tr>\n",
       "  </thead>\n",
       "  <tbody>\n",
       "    <tr>\n",
       "      <th>0</th>\n",
       "      <td>-155</td>\n",
       "      <td>125</td>\n",
       "      <td>0.606031</td>\n",
       "      <td>0.393969</td>\n",
       "      <td>0</td>\n",
       "    </tr>\n",
       "    <tr>\n",
       "      <th>1</th>\n",
       "      <td>-195</td>\n",
       "      <td>153</td>\n",
       "      <td>0.524186</td>\n",
       "      <td>0.475814</td>\n",
       "      <td>0</td>\n",
       "    </tr>\n",
       "    <tr>\n",
       "      <th>2</th>\n",
       "      <td>-230</td>\n",
       "      <td>180</td>\n",
       "      <td>0.817569</td>\n",
       "      <td>0.182431</td>\n",
       "      <td>1</td>\n",
       "    </tr>\n",
       "    <tr>\n",
       "      <th>3</th>\n",
       "      <td>-143</td>\n",
       "      <td>113</td>\n",
       "      <td>0.000340</td>\n",
       "      <td>0.999660</td>\n",
       "      <td>0</td>\n",
       "    </tr>\n",
       "    <tr>\n",
       "      <th>4</th>\n",
       "      <td>-250</td>\n",
       "      <td>195</td>\n",
       "      <td>0.502288</td>\n",
       "      <td>0.497712</td>\n",
       "      <td>0</td>\n",
       "    </tr>\n",
       "    <tr>\n",
       "      <th>...</th>\n",
       "      <td>...</td>\n",
       "      <td>...</td>\n",
       "      <td>...</td>\n",
       "      <td>...</td>\n",
       "      <td>...</td>\n",
       "    </tr>\n",
       "    <tr>\n",
       "      <th>245</th>\n",
       "      <td>-230</td>\n",
       "      <td>180</td>\n",
       "      <td>0.773378</td>\n",
       "      <td>0.226622</td>\n",
       "      <td>1</td>\n",
       "    </tr>\n",
       "    <tr>\n",
       "      <th>246</th>\n",
       "      <td>180</td>\n",
       "      <td>-230</td>\n",
       "      <td>0.372097</td>\n",
       "      <td>0.627903</td>\n",
       "      <td>1</td>\n",
       "    </tr>\n",
       "    <tr>\n",
       "      <th>247</th>\n",
       "      <td>-103</td>\n",
       "      <td>-117</td>\n",
       "      <td>0.699345</td>\n",
       "      <td>0.300655</td>\n",
       "      <td>0</td>\n",
       "    </tr>\n",
       "    <tr>\n",
       "      <th>248</th>\n",
       "      <td>-140</td>\n",
       "      <td>120</td>\n",
       "      <td>0.997603</td>\n",
       "      <td>0.002397</td>\n",
       "      <td>0</td>\n",
       "    </tr>\n",
       "    <tr>\n",
       "      <th>249</th>\n",
       "      <td>105</td>\n",
       "      <td>-125</td>\n",
       "      <td>0.506608</td>\n",
       "      <td>0.493392</td>\n",
       "      <td>0</td>\n",
       "    </tr>\n",
       "  </tbody>\n",
       "</table>\n",
       "<p>250 rows × 5 columns</p>\n",
       "</div>"
      ],
      "text/plain": [
       "     t1_odds  t2_odds   t1_prob   t2_prob  winner\n",
       "0       -155      125  0.606031  0.393969       0\n",
       "1       -195      153  0.524186  0.475814       0\n",
       "2       -230      180  0.817569  0.182431       1\n",
       "3       -143      113  0.000340  0.999660       0\n",
       "4       -250      195  0.502288  0.497712       0\n",
       "..       ...      ...       ...       ...     ...\n",
       "245     -230      180  0.773378  0.226622       1\n",
       "246      180     -230  0.372097  0.627903       1\n",
       "247     -103     -117  0.699345  0.300655       0\n",
       "248     -140      120  0.997603  0.002397       0\n",
       "249      105     -125  0.506608  0.493392       0\n",
       "\n",
       "[250 rows x 5 columns]"
      ]
     },
     "metadata": {},
     "output_type": "display_data"
    },
    {
     "name": "stdout",
     "output_type": "stream",
     "text": [
      "\n",
      "          Number of matches: 250\n",
      "          Number of bets: 224\n",
      "          Number of winning bets: 119\n",
      "          Number of losing bets: 106\n",
      "          Number of underdog bets: 115\n",
      "          Number of underdog wins: 48\n",
      "          Number of underdog losses: 67\n",
      "          Number of Favorite bets: 107\n",
      "          Number of favorite wins: 71\n",
      "          Number of favorite losses: 36\n",
      "          Number of even bets: 3\n",
      "          Number of even wins: 0\n",
      "          Number of even losses: 3\n",
      "          Profit: 931.734340767839\n",
      "          Profit per bet: 4.159528306999281\n",
      "          Profit per match: 3.7269373630713556\n",
      "          \n",
      "          \n"
     ]
    },
    {
     "data": {
      "text/plain": [
       "(4521, 172)"
      ]
     },
     "metadata": {},
     "output_type": "display_data"
    },
    {
     "data": {
      "text/plain": [
       "(4521,)"
      ]
     },
     "metadata": {},
     "output_type": "display_data"
    },
    {
     "data": {
      "text/plain": [
       "(4521, 2)"
      ]
     },
     "metadata": {},
     "output_type": "display_data"
    },
    {
     "data": {
      "text/plain": [
       "(250, 172)"
      ]
     },
     "metadata": {},
     "output_type": "display_data"
    },
    {
     "data": {
      "text/plain": [
       "(250,)"
      ]
     },
     "metadata": {},
     "output_type": "display_data"
    },
    {
     "data": {
      "text/plain": [
       "(250, 2)"
      ]
     },
     "metadata": {},
     "output_type": "display_data"
    },
    {
     "data": {
      "text/html": [
       "<div>\n",
       "<style scoped>\n",
       "    .dataframe tbody tr th:only-of-type {\n",
       "        vertical-align: middle;\n",
       "    }\n",
       "\n",
       "    .dataframe tbody tr th {\n",
       "        vertical-align: top;\n",
       "    }\n",
       "\n",
       "    .dataframe thead th {\n",
       "        text-align: right;\n",
       "    }\n",
       "</style>\n",
       "<table border=\"1\" class=\"dataframe\">\n",
       "  <thead>\n",
       "    <tr style=\"text-align: right;\">\n",
       "      <th></th>\n",
       "      <th>t1_odds</th>\n",
       "      <th>t2_odds</th>\n",
       "      <th>t1_prob</th>\n",
       "      <th>t2_prob</th>\n",
       "      <th>winner</th>\n",
       "    </tr>\n",
       "  </thead>\n",
       "  <tbody>\n",
       "    <tr>\n",
       "      <th>0</th>\n",
       "      <td>-155</td>\n",
       "      <td>125</td>\n",
       "      <td>0.653984</td>\n",
       "      <td>0.346016</td>\n",
       "      <td>0</td>\n",
       "    </tr>\n",
       "    <tr>\n",
       "      <th>1</th>\n",
       "      <td>-195</td>\n",
       "      <td>153</td>\n",
       "      <td>0.776861</td>\n",
       "      <td>0.223139</td>\n",
       "      <td>0</td>\n",
       "    </tr>\n",
       "    <tr>\n",
       "      <th>2</th>\n",
       "      <td>-230</td>\n",
       "      <td>180</td>\n",
       "      <td>0.718134</td>\n",
       "      <td>0.281866</td>\n",
       "      <td>1</td>\n",
       "    </tr>\n",
       "    <tr>\n",
       "      <th>3</th>\n",
       "      <td>-143</td>\n",
       "      <td>113</td>\n",
       "      <td>0.400785</td>\n",
       "      <td>0.599215</td>\n",
       "      <td>0</td>\n",
       "    </tr>\n",
       "    <tr>\n",
       "      <th>4</th>\n",
       "      <td>-250</td>\n",
       "      <td>195</td>\n",
       "      <td>0.760376</td>\n",
       "      <td>0.239624</td>\n",
       "      <td>0</td>\n",
       "    </tr>\n",
       "    <tr>\n",
       "      <th>...</th>\n",
       "      <td>...</td>\n",
       "      <td>...</td>\n",
       "      <td>...</td>\n",
       "      <td>...</td>\n",
       "      <td>...</td>\n",
       "    </tr>\n",
       "    <tr>\n",
       "      <th>245</th>\n",
       "      <td>-230</td>\n",
       "      <td>180</td>\n",
       "      <td>0.759077</td>\n",
       "      <td>0.240923</td>\n",
       "      <td>1</td>\n",
       "    </tr>\n",
       "    <tr>\n",
       "      <th>246</th>\n",
       "      <td>180</td>\n",
       "      <td>-230</td>\n",
       "      <td>0.358944</td>\n",
       "      <td>0.641056</td>\n",
       "      <td>1</td>\n",
       "    </tr>\n",
       "    <tr>\n",
       "      <th>247</th>\n",
       "      <td>-103</td>\n",
       "      <td>-117</td>\n",
       "      <td>0.564181</td>\n",
       "      <td>0.435819</td>\n",
       "      <td>0</td>\n",
       "    </tr>\n",
       "    <tr>\n",
       "      <th>248</th>\n",
       "      <td>-140</td>\n",
       "      <td>120</td>\n",
       "      <td>0.536870</td>\n",
       "      <td>0.463130</td>\n",
       "      <td>0</td>\n",
       "    </tr>\n",
       "    <tr>\n",
       "      <th>249</th>\n",
       "      <td>105</td>\n",
       "      <td>-125</td>\n",
       "      <td>0.489670</td>\n",
       "      <td>0.510330</td>\n",
       "      <td>0</td>\n",
       "    </tr>\n",
       "  </tbody>\n",
       "</table>\n",
       "<p>250 rows × 5 columns</p>\n",
       "</div>"
      ],
      "text/plain": [
       "     t1_odds  t2_odds   t1_prob   t2_prob  winner\n",
       "0       -155      125  0.653984  0.346016       0\n",
       "1       -195      153  0.776861  0.223139       0\n",
       "2       -230      180  0.718134  0.281866       1\n",
       "3       -143      113  0.400785  0.599215       0\n",
       "4       -250      195  0.760376  0.239624       0\n",
       "..       ...      ...       ...       ...     ...\n",
       "245     -230      180  0.759077  0.240923       1\n",
       "246      180     -230  0.358944  0.641056       1\n",
       "247     -103     -117  0.564181  0.435819       0\n",
       "248     -140      120  0.536870  0.463130       0\n",
       "249      105     -125  0.489670  0.510330       0\n",
       "\n",
       "[250 rows x 5 columns]"
      ]
     },
     "metadata": {},
     "output_type": "display_data"
    },
    {
     "name": "stdout",
     "output_type": "stream",
     "text": [
      "\n",
      "          Number of matches: 250\n",
      "          Number of bets: 194\n",
      "          Number of winning bets: 96\n",
      "          Number of losing bets: 98\n",
      "          Number of underdog bets: 98\n",
      "          Number of underdog wins: 39\n",
      "          Number of underdog losses: 59\n",
      "          Number of Favorite bets: 93\n",
      "          Number of favorite wins: 57\n",
      "          Number of favorite losses: 36\n",
      "          Number of even bets: 3\n",
      "          Number of even wins: 0\n",
      "          Number of even losses: 3\n",
      "          Profit: -1665.2948509208275\n",
      "          Profit per bet: -8.583994076911482\n",
      "          Profit per match: -6.66117940368331\n",
      "          \n",
      "          \n"
     ]
    },
    {
     "data": {
      "text/plain": [
       "(3578, 22)"
      ]
     },
     "metadata": {},
     "output_type": "display_data"
    },
    {
     "data": {
      "text/plain": [
       "(3578,)"
      ]
     },
     "metadata": {},
     "output_type": "display_data"
    },
    {
     "data": {
      "text/plain": [
       "(3578, 2)"
      ]
     },
     "metadata": {},
     "output_type": "display_data"
    },
    {
     "data": {
      "text/plain": [
       "(250, 22)"
      ]
     },
     "metadata": {},
     "output_type": "display_data"
    },
    {
     "data": {
      "text/plain": [
       "(250,)"
      ]
     },
     "metadata": {},
     "output_type": "display_data"
    },
    {
     "data": {
      "text/plain": [
       "(250, 2)"
      ]
     },
     "metadata": {},
     "output_type": "display_data"
    },
    {
     "data": {
      "text/html": [
       "<div>\n",
       "<style scoped>\n",
       "    .dataframe tbody tr th:only-of-type {\n",
       "        vertical-align: middle;\n",
       "    }\n",
       "\n",
       "    .dataframe tbody tr th {\n",
       "        vertical-align: top;\n",
       "    }\n",
       "\n",
       "    .dataframe thead th {\n",
       "        text-align: right;\n",
       "    }\n",
       "</style>\n",
       "<table border=\"1\" class=\"dataframe\">\n",
       "  <thead>\n",
       "    <tr style=\"text-align: right;\">\n",
       "      <th></th>\n",
       "      <th>t1_odds</th>\n",
       "      <th>t2_odds</th>\n",
       "      <th>t1_prob</th>\n",
       "      <th>t2_prob</th>\n",
       "      <th>winner</th>\n",
       "    </tr>\n",
       "  </thead>\n",
       "  <tbody>\n",
       "    <tr>\n",
       "      <th>0</th>\n",
       "      <td>-155</td>\n",
       "      <td>125</td>\n",
       "      <td>0.853957</td>\n",
       "      <td>0.146043</td>\n",
       "      <td>0</td>\n",
       "    </tr>\n",
       "    <tr>\n",
       "      <th>1</th>\n",
       "      <td>-195</td>\n",
       "      <td>153</td>\n",
       "      <td>0.973585</td>\n",
       "      <td>0.026415</td>\n",
       "      <td>0</td>\n",
       "    </tr>\n",
       "    <tr>\n",
       "      <th>2</th>\n",
       "      <td>-230</td>\n",
       "      <td>180</td>\n",
       "      <td>0.870353</td>\n",
       "      <td>0.129647</td>\n",
       "      <td>1</td>\n",
       "    </tr>\n",
       "    <tr>\n",
       "      <th>3</th>\n",
       "      <td>-143</td>\n",
       "      <td>113</td>\n",
       "      <td>0.000822</td>\n",
       "      <td>0.999178</td>\n",
       "      <td>0</td>\n",
       "    </tr>\n",
       "    <tr>\n",
       "      <th>4</th>\n",
       "      <td>-250</td>\n",
       "      <td>195</td>\n",
       "      <td>0.563947</td>\n",
       "      <td>0.436053</td>\n",
       "      <td>0</td>\n",
       "    </tr>\n",
       "    <tr>\n",
       "      <th>...</th>\n",
       "      <td>...</td>\n",
       "      <td>...</td>\n",
       "      <td>...</td>\n",
       "      <td>...</td>\n",
       "      <td>...</td>\n",
       "    </tr>\n",
       "    <tr>\n",
       "      <th>245</th>\n",
       "      <td>-230</td>\n",
       "      <td>180</td>\n",
       "      <td>0.745318</td>\n",
       "      <td>0.254682</td>\n",
       "      <td>1</td>\n",
       "    </tr>\n",
       "    <tr>\n",
       "      <th>246</th>\n",
       "      <td>180</td>\n",
       "      <td>-230</td>\n",
       "      <td>0.417604</td>\n",
       "      <td>0.582396</td>\n",
       "      <td>1</td>\n",
       "    </tr>\n",
       "    <tr>\n",
       "      <th>247</th>\n",
       "      <td>-103</td>\n",
       "      <td>-117</td>\n",
       "      <td>0.735582</td>\n",
       "      <td>0.264418</td>\n",
       "      <td>0</td>\n",
       "    </tr>\n",
       "    <tr>\n",
       "      <th>248</th>\n",
       "      <td>-140</td>\n",
       "      <td>120</td>\n",
       "      <td>0.998084</td>\n",
       "      <td>0.001916</td>\n",
       "      <td>0</td>\n",
       "    </tr>\n",
       "    <tr>\n",
       "      <th>249</th>\n",
       "      <td>105</td>\n",
       "      <td>-125</td>\n",
       "      <td>0.497484</td>\n",
       "      <td>0.502516</td>\n",
       "      <td>0</td>\n",
       "    </tr>\n",
       "  </tbody>\n",
       "</table>\n",
       "<p>250 rows × 5 columns</p>\n",
       "</div>"
      ],
      "text/plain": [
       "     t1_odds  t2_odds   t1_prob   t2_prob  winner\n",
       "0       -155      125  0.853957  0.146043       0\n",
       "1       -195      153  0.973585  0.026415       0\n",
       "2       -230      180  0.870353  0.129647       1\n",
       "3       -143      113  0.000822  0.999178       0\n",
       "4       -250      195  0.563947  0.436053       0\n",
       "..       ...      ...       ...       ...     ...\n",
       "245     -230      180  0.745318  0.254682       1\n",
       "246      180     -230  0.417604  0.582396       1\n",
       "247     -103     -117  0.735582  0.264418       0\n",
       "248     -140      120  0.998084  0.001916       0\n",
       "249      105     -125  0.497484  0.502516       0\n",
       "\n",
       "[250 rows x 5 columns]"
      ]
     },
     "metadata": {},
     "output_type": "display_data"
    },
    {
     "name": "stdout",
     "output_type": "stream",
     "text": [
      "\n",
      "          Number of matches: 250\n",
      "          Number of bets: 221\n",
      "          Number of winning bets: 119\n",
      "          Number of losing bets: 103\n",
      "          Number of underdog bets: 104\n",
      "          Number of underdog wins: 45\n",
      "          Number of underdog losses: 59\n",
      "          Number of Favorite bets: 115\n",
      "          Number of favorite wins: 74\n",
      "          Number of favorite losses: 41\n",
      "          Number of even bets: 3\n",
      "          Number of even wins: 0\n",
      "          Number of even losses: 3\n",
      "          Profit: 22.11070203033951\n",
      "          Profit per bet: 0.10004842547664937\n",
      "          Profit per match: 0.08844280812135805\n",
      "          \n",
      "          \n"
     ]
    },
    {
     "data": {
      "text/plain": [
       "(3578, 24)"
      ]
     },
     "metadata": {},
     "output_type": "display_data"
    },
    {
     "data": {
      "text/plain": [
       "(3578,)"
      ]
     },
     "metadata": {},
     "output_type": "display_data"
    },
    {
     "data": {
      "text/plain": [
       "(3578, 2)"
      ]
     },
     "metadata": {},
     "output_type": "display_data"
    },
    {
     "data": {
      "text/plain": [
       "(250, 24)"
      ]
     },
     "metadata": {},
     "output_type": "display_data"
    },
    {
     "data": {
      "text/plain": [
       "(250,)"
      ]
     },
     "metadata": {},
     "output_type": "display_data"
    },
    {
     "data": {
      "text/plain": [
       "(250, 2)"
      ]
     },
     "metadata": {},
     "output_type": "display_data"
    },
    {
     "data": {
      "text/html": [
       "<div>\n",
       "<style scoped>\n",
       "    .dataframe tbody tr th:only-of-type {\n",
       "        vertical-align: middle;\n",
       "    }\n",
       "\n",
       "    .dataframe tbody tr th {\n",
       "        vertical-align: top;\n",
       "    }\n",
       "\n",
       "    .dataframe thead th {\n",
       "        text-align: right;\n",
       "    }\n",
       "</style>\n",
       "<table border=\"1\" class=\"dataframe\">\n",
       "  <thead>\n",
       "    <tr style=\"text-align: right;\">\n",
       "      <th></th>\n",
       "      <th>t1_odds</th>\n",
       "      <th>t2_odds</th>\n",
       "      <th>t1_prob</th>\n",
       "      <th>t2_prob</th>\n",
       "      <th>winner</th>\n",
       "    </tr>\n",
       "  </thead>\n",
       "  <tbody>\n",
       "    <tr>\n",
       "      <th>0</th>\n",
       "      <td>-155</td>\n",
       "      <td>125</td>\n",
       "      <td>0.840778</td>\n",
       "      <td>0.159222</td>\n",
       "      <td>0</td>\n",
       "    </tr>\n",
       "    <tr>\n",
       "      <th>1</th>\n",
       "      <td>-195</td>\n",
       "      <td>153</td>\n",
       "      <td>0.942606</td>\n",
       "      <td>0.057394</td>\n",
       "      <td>0</td>\n",
       "    </tr>\n",
       "    <tr>\n",
       "      <th>2</th>\n",
       "      <td>-230</td>\n",
       "      <td>180</td>\n",
       "      <td>0.940415</td>\n",
       "      <td>0.059585</td>\n",
       "      <td>1</td>\n",
       "    </tr>\n",
       "    <tr>\n",
       "      <th>3</th>\n",
       "      <td>-143</td>\n",
       "      <td>113</td>\n",
       "      <td>0.000743</td>\n",
       "      <td>0.999257</td>\n",
       "      <td>0</td>\n",
       "    </tr>\n",
       "    <tr>\n",
       "      <th>4</th>\n",
       "      <td>-250</td>\n",
       "      <td>195</td>\n",
       "      <td>0.523577</td>\n",
       "      <td>0.476423</td>\n",
       "      <td>0</td>\n",
       "    </tr>\n",
       "    <tr>\n",
       "      <th>...</th>\n",
       "      <td>...</td>\n",
       "      <td>...</td>\n",
       "      <td>...</td>\n",
       "      <td>...</td>\n",
       "      <td>...</td>\n",
       "    </tr>\n",
       "    <tr>\n",
       "      <th>245</th>\n",
       "      <td>-230</td>\n",
       "      <td>180</td>\n",
       "      <td>0.699421</td>\n",
       "      <td>0.300579</td>\n",
       "      <td>1</td>\n",
       "    </tr>\n",
       "    <tr>\n",
       "      <th>246</th>\n",
       "      <td>180</td>\n",
       "      <td>-230</td>\n",
       "      <td>0.382721</td>\n",
       "      <td>0.617279</td>\n",
       "      <td>1</td>\n",
       "    </tr>\n",
       "    <tr>\n",
       "      <th>247</th>\n",
       "      <td>-103</td>\n",
       "      <td>-117</td>\n",
       "      <td>0.747512</td>\n",
       "      <td>0.252488</td>\n",
       "      <td>0</td>\n",
       "    </tr>\n",
       "    <tr>\n",
       "      <th>248</th>\n",
       "      <td>-140</td>\n",
       "      <td>120</td>\n",
       "      <td>0.997945</td>\n",
       "      <td>0.002055</td>\n",
       "      <td>0</td>\n",
       "    </tr>\n",
       "    <tr>\n",
       "      <th>249</th>\n",
       "      <td>105</td>\n",
       "      <td>-125</td>\n",
       "      <td>0.552218</td>\n",
       "      <td>0.447782</td>\n",
       "      <td>0</td>\n",
       "    </tr>\n",
       "  </tbody>\n",
       "</table>\n",
       "<p>250 rows × 5 columns</p>\n",
       "</div>"
      ],
      "text/plain": [
       "     t1_odds  t2_odds   t1_prob   t2_prob  winner\n",
       "0       -155      125  0.840778  0.159222       0\n",
       "1       -195      153  0.942606  0.057394       0\n",
       "2       -230      180  0.940415  0.059585       1\n",
       "3       -143      113  0.000743  0.999257       0\n",
       "4       -250      195  0.523577  0.476423       0\n",
       "..       ...      ...       ...       ...     ...\n",
       "245     -230      180  0.699421  0.300579       1\n",
       "246      180     -230  0.382721  0.617279       1\n",
       "247     -103     -117  0.747512  0.252488       0\n",
       "248     -140      120  0.997945  0.002055       0\n",
       "249      105     -125  0.552218  0.447782       0\n",
       "\n",
       "[250 rows x 5 columns]"
      ]
     },
     "metadata": {},
     "output_type": "display_data"
    },
    {
     "name": "stdout",
     "output_type": "stream",
     "text": [
      "\n",
      "          Number of matches: 250\n",
      "          Number of bets: 210\n",
      "          Number of winning bets: 110\n",
      "          Number of losing bets: 101\n",
      "          Number of underdog bets: 109\n",
      "          Number of underdog wins: 45\n",
      "          Number of underdog losses: 64\n",
      "          Number of Favorite bets: 99\n",
      "          Number of favorite wins: 65\n",
      "          Number of favorite losses: 34\n",
      "          Number of even bets: 3\n",
      "          Number of even wins: 0\n",
      "          Number of even losses: 3\n",
      "          Profit: -93.34709404134037\n",
      "          Profit per bet: -0.4445099716254303\n",
      "          Profit per match: -0.37338837616536147\n",
      "          \n",
      "          \n"
     ]
    },
    {
     "data": {
      "text/plain": [
       "(3577, 22)"
      ]
     },
     "metadata": {},
     "output_type": "display_data"
    },
    {
     "data": {
      "text/plain": [
       "(3577,)"
      ]
     },
     "metadata": {},
     "output_type": "display_data"
    },
    {
     "data": {
      "text/plain": [
       "(3577, 2)"
      ]
     },
     "metadata": {},
     "output_type": "display_data"
    },
    {
     "data": {
      "text/plain": [
       "(250, 22)"
      ]
     },
     "metadata": {},
     "output_type": "display_data"
    },
    {
     "data": {
      "text/plain": [
       "(250,)"
      ]
     },
     "metadata": {},
     "output_type": "display_data"
    },
    {
     "data": {
      "text/plain": [
       "(250, 2)"
      ]
     },
     "metadata": {},
     "output_type": "display_data"
    },
    {
     "data": {
      "text/html": [
       "<div>\n",
       "<style scoped>\n",
       "    .dataframe tbody tr th:only-of-type {\n",
       "        vertical-align: middle;\n",
       "    }\n",
       "\n",
       "    .dataframe tbody tr th {\n",
       "        vertical-align: top;\n",
       "    }\n",
       "\n",
       "    .dataframe thead th {\n",
       "        text-align: right;\n",
       "    }\n",
       "</style>\n",
       "<table border=\"1\" class=\"dataframe\">\n",
       "  <thead>\n",
       "    <tr style=\"text-align: right;\">\n",
       "      <th></th>\n",
       "      <th>t1_odds</th>\n",
       "      <th>t2_odds</th>\n",
       "      <th>t1_prob</th>\n",
       "      <th>t2_prob</th>\n",
       "      <th>winner</th>\n",
       "    </tr>\n",
       "  </thead>\n",
       "  <tbody>\n",
       "    <tr>\n",
       "      <th>0</th>\n",
       "      <td>-155</td>\n",
       "      <td>125</td>\n",
       "      <td>0.737421</td>\n",
       "      <td>0.262579</td>\n",
       "      <td>0</td>\n",
       "    </tr>\n",
       "    <tr>\n",
       "      <th>1</th>\n",
       "      <td>-195</td>\n",
       "      <td>153</td>\n",
       "      <td>0.763289</td>\n",
       "      <td>0.236711</td>\n",
       "      <td>0</td>\n",
       "    </tr>\n",
       "    <tr>\n",
       "      <th>2</th>\n",
       "      <td>-230</td>\n",
       "      <td>180</td>\n",
       "      <td>0.878641</td>\n",
       "      <td>0.121359</td>\n",
       "      <td>1</td>\n",
       "    </tr>\n",
       "    <tr>\n",
       "      <th>3</th>\n",
       "      <td>-143</td>\n",
       "      <td>113</td>\n",
       "      <td>0.000839</td>\n",
       "      <td>0.999161</td>\n",
       "      <td>0</td>\n",
       "    </tr>\n",
       "    <tr>\n",
       "      <th>4</th>\n",
       "      <td>-250</td>\n",
       "      <td>195</td>\n",
       "      <td>0.563091</td>\n",
       "      <td>0.436909</td>\n",
       "      <td>0</td>\n",
       "    </tr>\n",
       "    <tr>\n",
       "      <th>...</th>\n",
       "      <td>...</td>\n",
       "      <td>...</td>\n",
       "      <td>...</td>\n",
       "      <td>...</td>\n",
       "      <td>...</td>\n",
       "    </tr>\n",
       "    <tr>\n",
       "      <th>245</th>\n",
       "      <td>-230</td>\n",
       "      <td>180</td>\n",
       "      <td>0.710083</td>\n",
       "      <td>0.289917</td>\n",
       "      <td>1</td>\n",
       "    </tr>\n",
       "    <tr>\n",
       "      <th>246</th>\n",
       "      <td>180</td>\n",
       "      <td>-230</td>\n",
       "      <td>0.468314</td>\n",
       "      <td>0.531686</td>\n",
       "      <td>1</td>\n",
       "    </tr>\n",
       "    <tr>\n",
       "      <th>247</th>\n",
       "      <td>-103</td>\n",
       "      <td>-117</td>\n",
       "      <td>0.745444</td>\n",
       "      <td>0.254556</td>\n",
       "      <td>0</td>\n",
       "    </tr>\n",
       "    <tr>\n",
       "      <th>248</th>\n",
       "      <td>-140</td>\n",
       "      <td>120</td>\n",
       "      <td>0.998138</td>\n",
       "      <td>0.001862</td>\n",
       "      <td>0</td>\n",
       "    </tr>\n",
       "    <tr>\n",
       "      <th>249</th>\n",
       "      <td>105</td>\n",
       "      <td>-125</td>\n",
       "      <td>0.486975</td>\n",
       "      <td>0.513025</td>\n",
       "      <td>0</td>\n",
       "    </tr>\n",
       "  </tbody>\n",
       "</table>\n",
       "<p>250 rows × 5 columns</p>\n",
       "</div>"
      ],
      "text/plain": [
       "     t1_odds  t2_odds   t1_prob   t2_prob  winner\n",
       "0       -155      125  0.737421  0.262579       0\n",
       "1       -195      153  0.763289  0.236711       0\n",
       "2       -230      180  0.878641  0.121359       1\n",
       "3       -143      113  0.000839  0.999161       0\n",
       "4       -250      195  0.563091  0.436909       0\n",
       "..       ...      ...       ...       ...     ...\n",
       "245     -230      180  0.710083  0.289917       1\n",
       "246      180     -230  0.468314  0.531686       1\n",
       "247     -103     -117  0.745444  0.254556       0\n",
       "248     -140      120  0.998138  0.001862       0\n",
       "249      105     -125  0.486975  0.513025       0\n",
       "\n",
       "[250 rows x 5 columns]"
      ]
     },
     "metadata": {},
     "output_type": "display_data"
    },
    {
     "name": "stdout",
     "output_type": "stream",
     "text": [
      "\n",
      "          Number of matches: 250\n",
      "          Number of bets: 223\n",
      "          Number of winning bets: 119\n",
      "          Number of losing bets: 106\n",
      "          Number of underdog bets: 111\n",
      "          Number of underdog wins: 45\n",
      "          Number of underdog losses: 66\n",
      "          Number of Favorite bets: 111\n",
      "          Number of favorite wins: 74\n",
      "          Number of favorite losses: 37\n",
      "          Number of even bets: 3\n",
      "          Number of even wins: 0\n",
      "          Number of even losses: 3\n",
      "          Profit: -23.27494407164788\n",
      "          Profit per bet: -0.10437194650963175\n",
      "          Profit per match: -0.09309977628659152\n",
      "          \n",
      "          \n"
     ]
    },
    {
     "data": {
      "text/plain": [
       "(3480, 56)"
      ]
     },
     "metadata": {},
     "output_type": "display_data"
    },
    {
     "data": {
      "text/plain": [
       "(3480,)"
      ]
     },
     "metadata": {},
     "output_type": "display_data"
    },
    {
     "data": {
      "text/plain": [
       "(3480, 2)"
      ]
     },
     "metadata": {},
     "output_type": "display_data"
    },
    {
     "data": {
      "text/plain": [
       "(248, 56)"
      ]
     },
     "metadata": {},
     "output_type": "display_data"
    },
    {
     "data": {
      "text/plain": [
       "(248,)"
      ]
     },
     "metadata": {},
     "output_type": "display_data"
    },
    {
     "data": {
      "text/plain": [
       "(248, 2)"
      ]
     },
     "metadata": {},
     "output_type": "display_data"
    },
    {
     "data": {
      "text/html": [
       "<div>\n",
       "<style scoped>\n",
       "    .dataframe tbody tr th:only-of-type {\n",
       "        vertical-align: middle;\n",
       "    }\n",
       "\n",
       "    .dataframe tbody tr th {\n",
       "        vertical-align: top;\n",
       "    }\n",
       "\n",
       "    .dataframe thead th {\n",
       "        text-align: right;\n",
       "    }\n",
       "</style>\n",
       "<table border=\"1\" class=\"dataframe\">\n",
       "  <thead>\n",
       "    <tr style=\"text-align: right;\">\n",
       "      <th></th>\n",
       "      <th>t1_odds</th>\n",
       "      <th>t2_odds</th>\n",
       "      <th>t1_prob</th>\n",
       "      <th>t2_prob</th>\n",
       "      <th>winner</th>\n",
       "    </tr>\n",
       "  </thead>\n",
       "  <tbody>\n",
       "    <tr>\n",
       "      <th>0</th>\n",
       "      <td>-155</td>\n",
       "      <td>125</td>\n",
       "      <td>0.983277</td>\n",
       "      <td>0.016723</td>\n",
       "      <td>0</td>\n",
       "    </tr>\n",
       "    <tr>\n",
       "      <th>1</th>\n",
       "      <td>-195</td>\n",
       "      <td>153</td>\n",
       "      <td>0.171212</td>\n",
       "      <td>0.828788</td>\n",
       "      <td>0</td>\n",
       "    </tr>\n",
       "    <tr>\n",
       "      <th>2</th>\n",
       "      <td>-230</td>\n",
       "      <td>180</td>\n",
       "      <td>0.983830</td>\n",
       "      <td>0.016170</td>\n",
       "      <td>1</td>\n",
       "    </tr>\n",
       "    <tr>\n",
       "      <th>3</th>\n",
       "      <td>-143</td>\n",
       "      <td>113</td>\n",
       "      <td>0.010531</td>\n",
       "      <td>0.989469</td>\n",
       "      <td>0</td>\n",
       "    </tr>\n",
       "    <tr>\n",
       "      <th>4</th>\n",
       "      <td>-250</td>\n",
       "      <td>195</td>\n",
       "      <td>0.864497</td>\n",
       "      <td>0.135503</td>\n",
       "      <td>0</td>\n",
       "    </tr>\n",
       "    <tr>\n",
       "      <th>...</th>\n",
       "      <td>...</td>\n",
       "      <td>...</td>\n",
       "      <td>...</td>\n",
       "      <td>...</td>\n",
       "      <td>...</td>\n",
       "    </tr>\n",
       "    <tr>\n",
       "      <th>243</th>\n",
       "      <td>-230</td>\n",
       "      <td>180</td>\n",
       "      <td>0.905095</td>\n",
       "      <td>0.094905</td>\n",
       "      <td>1</td>\n",
       "    </tr>\n",
       "    <tr>\n",
       "      <th>244</th>\n",
       "      <td>180</td>\n",
       "      <td>-230</td>\n",
       "      <td>0.139774</td>\n",
       "      <td>0.860226</td>\n",
       "      <td>1</td>\n",
       "    </tr>\n",
       "    <tr>\n",
       "      <th>245</th>\n",
       "      <td>-103</td>\n",
       "      <td>-117</td>\n",
       "      <td>0.794056</td>\n",
       "      <td>0.205944</td>\n",
       "      <td>0</td>\n",
       "    </tr>\n",
       "    <tr>\n",
       "      <th>246</th>\n",
       "      <td>-140</td>\n",
       "      <td>120</td>\n",
       "      <td>0.004885</td>\n",
       "      <td>0.995115</td>\n",
       "      <td>0</td>\n",
       "    </tr>\n",
       "    <tr>\n",
       "      <th>247</th>\n",
       "      <td>105</td>\n",
       "      <td>-125</td>\n",
       "      <td>0.999089</td>\n",
       "      <td>0.000911</td>\n",
       "      <td>0</td>\n",
       "    </tr>\n",
       "  </tbody>\n",
       "</table>\n",
       "<p>248 rows × 5 columns</p>\n",
       "</div>"
      ],
      "text/plain": [
       "     t1_odds  t2_odds   t1_prob   t2_prob  winner\n",
       "0       -155      125  0.983277  0.016723       0\n",
       "1       -195      153  0.171212  0.828788       0\n",
       "2       -230      180  0.983830  0.016170       1\n",
       "3       -143      113  0.010531  0.989469       0\n",
       "4       -250      195  0.864497  0.135503       0\n",
       "..       ...      ...       ...       ...     ...\n",
       "243     -230      180  0.905095  0.094905       1\n",
       "244      180     -230  0.139774  0.860226       1\n",
       "245     -103     -117  0.794056  0.205944       0\n",
       "246     -140      120  0.004885  0.995115       0\n",
       "247      105     -125  0.999089  0.000911       0\n",
       "\n",
       "[248 rows x 5 columns]"
      ]
     },
     "metadata": {},
     "output_type": "display_data"
    },
    {
     "name": "stdout",
     "output_type": "stream",
     "text": [
      "\n",
      "          Number of matches: 248\n",
      "          Number of bets: 205\n",
      "          Number of winning bets: 103\n",
      "          Number of losing bets: 102\n",
      "          Number of underdog bets: 111\n",
      "          Number of underdog wins: 49\n",
      "          Number of underdog losses: 62\n",
      "          Number of Favorite bets: 92\n",
      "          Number of favorite wins: 54\n",
      "          Number of favorite losses: 38\n",
      "          Number of even bets: 2\n",
      "          Number of even wins: 0\n",
      "          Number of even losses: 2\n",
      "          Profit: 549.7604013994487\n",
      "          Profit per bet: 2.681758055607067\n",
      "          Profit per match: 2.2167758120945513\n",
      "          \n",
      "          \n"
     ]
    },
    {
     "data": {
      "text/plain": [
       "(3480, 19)"
      ]
     },
     "metadata": {},
     "output_type": "display_data"
    },
    {
     "data": {
      "text/plain": [
       "(3480,)"
      ]
     },
     "metadata": {},
     "output_type": "display_data"
    },
    {
     "data": {
      "text/plain": [
       "(3480, 2)"
      ]
     },
     "metadata": {},
     "output_type": "display_data"
    },
    {
     "data": {
      "text/plain": [
       "(250, 19)"
      ]
     },
     "metadata": {},
     "output_type": "display_data"
    },
    {
     "data": {
      "text/plain": [
       "(250,)"
      ]
     },
     "metadata": {},
     "output_type": "display_data"
    },
    {
     "data": {
      "text/plain": [
       "(250, 2)"
      ]
     },
     "metadata": {},
     "output_type": "display_data"
    },
    {
     "data": {
      "text/html": [
       "<div>\n",
       "<style scoped>\n",
       "    .dataframe tbody tr th:only-of-type {\n",
       "        vertical-align: middle;\n",
       "    }\n",
       "\n",
       "    .dataframe tbody tr th {\n",
       "        vertical-align: top;\n",
       "    }\n",
       "\n",
       "    .dataframe thead th {\n",
       "        text-align: right;\n",
       "    }\n",
       "</style>\n",
       "<table border=\"1\" class=\"dataframe\">\n",
       "  <thead>\n",
       "    <tr style=\"text-align: right;\">\n",
       "      <th></th>\n",
       "      <th>t1_odds</th>\n",
       "      <th>t2_odds</th>\n",
       "      <th>t1_prob</th>\n",
       "      <th>t2_prob</th>\n",
       "      <th>winner</th>\n",
       "    </tr>\n",
       "  </thead>\n",
       "  <tbody>\n",
       "    <tr>\n",
       "      <th>0</th>\n",
       "      <td>-155</td>\n",
       "      <td>125</td>\n",
       "      <td>0.642779</td>\n",
       "      <td>0.357221</td>\n",
       "      <td>0</td>\n",
       "    </tr>\n",
       "    <tr>\n",
       "      <th>1</th>\n",
       "      <td>-195</td>\n",
       "      <td>153</td>\n",
       "      <td>0.660132</td>\n",
       "      <td>0.339868</td>\n",
       "      <td>0</td>\n",
       "    </tr>\n",
       "    <tr>\n",
       "      <th>2</th>\n",
       "      <td>-230</td>\n",
       "      <td>180</td>\n",
       "      <td>0.775570</td>\n",
       "      <td>0.224430</td>\n",
       "      <td>1</td>\n",
       "    </tr>\n",
       "    <tr>\n",
       "      <th>3</th>\n",
       "      <td>-143</td>\n",
       "      <td>113</td>\n",
       "      <td>0.522935</td>\n",
       "      <td>0.477065</td>\n",
       "      <td>0</td>\n",
       "    </tr>\n",
       "    <tr>\n",
       "      <th>4</th>\n",
       "      <td>-250</td>\n",
       "      <td>195</td>\n",
       "      <td>0.807813</td>\n",
       "      <td>0.192187</td>\n",
       "      <td>0</td>\n",
       "    </tr>\n",
       "    <tr>\n",
       "      <th>...</th>\n",
       "      <td>...</td>\n",
       "      <td>...</td>\n",
       "      <td>...</td>\n",
       "      <td>...</td>\n",
       "      <td>...</td>\n",
       "    </tr>\n",
       "    <tr>\n",
       "      <th>245</th>\n",
       "      <td>-230</td>\n",
       "      <td>180</td>\n",
       "      <td>0.738116</td>\n",
       "      <td>0.261884</td>\n",
       "      <td>1</td>\n",
       "    </tr>\n",
       "    <tr>\n",
       "      <th>246</th>\n",
       "      <td>180</td>\n",
       "      <td>-230</td>\n",
       "      <td>0.439702</td>\n",
       "      <td>0.560298</td>\n",
       "      <td>1</td>\n",
       "    </tr>\n",
       "    <tr>\n",
       "      <th>247</th>\n",
       "      <td>-103</td>\n",
       "      <td>-117</td>\n",
       "      <td>0.553138</td>\n",
       "      <td>0.446862</td>\n",
       "      <td>0</td>\n",
       "    </tr>\n",
       "    <tr>\n",
       "      <th>248</th>\n",
       "      <td>-140</td>\n",
       "      <td>120</td>\n",
       "      <td>0.552473</td>\n",
       "      <td>0.447527</td>\n",
       "      <td>0</td>\n",
       "    </tr>\n",
       "    <tr>\n",
       "      <th>249</th>\n",
       "      <td>105</td>\n",
       "      <td>-125</td>\n",
       "      <td>0.583170</td>\n",
       "      <td>0.416830</td>\n",
       "      <td>0</td>\n",
       "    </tr>\n",
       "  </tbody>\n",
       "</table>\n",
       "<p>250 rows × 5 columns</p>\n",
       "</div>"
      ],
      "text/plain": [
       "     t1_odds  t2_odds   t1_prob   t2_prob  winner\n",
       "0       -155      125  0.642779  0.357221       0\n",
       "1       -195      153  0.660132  0.339868       0\n",
       "2       -230      180  0.775570  0.224430       1\n",
       "3       -143      113  0.522935  0.477065       0\n",
       "4       -250      195  0.807813  0.192187       0\n",
       "..       ...      ...       ...       ...     ...\n",
       "245     -230      180  0.738116  0.261884       1\n",
       "246      180     -230  0.439702  0.560298       1\n",
       "247     -103     -117  0.553138  0.446862       0\n",
       "248     -140      120  0.552473  0.447527       0\n",
       "249      105     -125  0.583170  0.416830       0\n",
       "\n",
       "[250 rows x 5 columns]"
      ]
     },
     "metadata": {},
     "output_type": "display_data"
    },
    {
     "name": "stdout",
     "output_type": "stream",
     "text": [
      "\n",
      "          Number of matches: 250\n",
      "          Number of bets: 197\n",
      "          Number of winning bets: 96\n",
      "          Number of losing bets: 102\n",
      "          Number of underdog bets: 126\n",
      "          Number of underdog wins: 49\n",
      "          Number of underdog losses: 77\n",
      "          Number of Favorite bets: 71\n",
      "          Number of favorite wins: 47\n",
      "          Number of favorite losses: 24\n",
      "          Number of even bets: 1\n",
      "          Number of even wins: 0\n",
      "          Number of even losses: 1\n",
      "          Profit: -635.9246581945307\n",
      "          Profit per bet: -3.228043950226044\n",
      "          Profit per match: -2.543698632778123\n",
      "          \n",
      "          \n"
     ]
    },
    {
     "data": {
      "text/plain": [
       "(3480, 26)"
      ]
     },
     "metadata": {},
     "output_type": "display_data"
    },
    {
     "data": {
      "text/plain": [
       "(3480,)"
      ]
     },
     "metadata": {},
     "output_type": "display_data"
    },
    {
     "data": {
      "text/plain": [
       "(3480, 2)"
      ]
     },
     "metadata": {},
     "output_type": "display_data"
    },
    {
     "data": {
      "text/plain": [
       "(248, 26)"
      ]
     },
     "metadata": {},
     "output_type": "display_data"
    },
    {
     "data": {
      "text/plain": [
       "(248,)"
      ]
     },
     "metadata": {},
     "output_type": "display_data"
    },
    {
     "data": {
      "text/plain": [
       "(248, 2)"
      ]
     },
     "metadata": {},
     "output_type": "display_data"
    },
    {
     "data": {
      "text/html": [
       "<div>\n",
       "<style scoped>\n",
       "    .dataframe tbody tr th:only-of-type {\n",
       "        vertical-align: middle;\n",
       "    }\n",
       "\n",
       "    .dataframe tbody tr th {\n",
       "        vertical-align: top;\n",
       "    }\n",
       "\n",
       "    .dataframe thead th {\n",
       "        text-align: right;\n",
       "    }\n",
       "</style>\n",
       "<table border=\"1\" class=\"dataframe\">\n",
       "  <thead>\n",
       "    <tr style=\"text-align: right;\">\n",
       "      <th></th>\n",
       "      <th>t1_odds</th>\n",
       "      <th>t2_odds</th>\n",
       "      <th>t1_prob</th>\n",
       "      <th>t2_prob</th>\n",
       "      <th>winner</th>\n",
       "    </tr>\n",
       "  </thead>\n",
       "  <tbody>\n",
       "    <tr>\n",
       "      <th>0</th>\n",
       "      <td>-155</td>\n",
       "      <td>125</td>\n",
       "      <td>0.561514</td>\n",
       "      <td>0.438486</td>\n",
       "      <td>0</td>\n",
       "    </tr>\n",
       "    <tr>\n",
       "      <th>1</th>\n",
       "      <td>-195</td>\n",
       "      <td>153</td>\n",
       "      <td>0.551119</td>\n",
       "      <td>0.448881</td>\n",
       "      <td>0</td>\n",
       "    </tr>\n",
       "    <tr>\n",
       "      <th>2</th>\n",
       "      <td>-230</td>\n",
       "      <td>180</td>\n",
       "      <td>0.796271</td>\n",
       "      <td>0.203729</td>\n",
       "      <td>1</td>\n",
       "    </tr>\n",
       "    <tr>\n",
       "      <th>3</th>\n",
       "      <td>-143</td>\n",
       "      <td>113</td>\n",
       "      <td>0.620845</td>\n",
       "      <td>0.379155</td>\n",
       "      <td>0</td>\n",
       "    </tr>\n",
       "    <tr>\n",
       "      <th>4</th>\n",
       "      <td>-250</td>\n",
       "      <td>195</td>\n",
       "      <td>0.827208</td>\n",
       "      <td>0.172792</td>\n",
       "      <td>0</td>\n",
       "    </tr>\n",
       "    <tr>\n",
       "      <th>...</th>\n",
       "      <td>...</td>\n",
       "      <td>...</td>\n",
       "      <td>...</td>\n",
       "      <td>...</td>\n",
       "      <td>...</td>\n",
       "    </tr>\n",
       "    <tr>\n",
       "      <th>243</th>\n",
       "      <td>-230</td>\n",
       "      <td>180</td>\n",
       "      <td>0.648092</td>\n",
       "      <td>0.351908</td>\n",
       "      <td>1</td>\n",
       "    </tr>\n",
       "    <tr>\n",
       "      <th>244</th>\n",
       "      <td>180</td>\n",
       "      <td>-230</td>\n",
       "      <td>0.433746</td>\n",
       "      <td>0.566254</td>\n",
       "      <td>1</td>\n",
       "    </tr>\n",
       "    <tr>\n",
       "      <th>245</th>\n",
       "      <td>-103</td>\n",
       "      <td>-117</td>\n",
       "      <td>0.538621</td>\n",
       "      <td>0.461379</td>\n",
       "      <td>0</td>\n",
       "    </tr>\n",
       "    <tr>\n",
       "      <th>246</th>\n",
       "      <td>-140</td>\n",
       "      <td>120</td>\n",
       "      <td>0.425760</td>\n",
       "      <td>0.574240</td>\n",
       "      <td>0</td>\n",
       "    </tr>\n",
       "    <tr>\n",
       "      <th>247</th>\n",
       "      <td>105</td>\n",
       "      <td>-125</td>\n",
       "      <td>0.513779</td>\n",
       "      <td>0.486221</td>\n",
       "      <td>0</td>\n",
       "    </tr>\n",
       "  </tbody>\n",
       "</table>\n",
       "<p>248 rows × 5 columns</p>\n",
       "</div>"
      ],
      "text/plain": [
       "     t1_odds  t2_odds   t1_prob   t2_prob  winner\n",
       "0       -155      125  0.561514  0.438486       0\n",
       "1       -195      153  0.551119  0.448881       0\n",
       "2       -230      180  0.796271  0.203729       1\n",
       "3       -143      113  0.620845  0.379155       0\n",
       "4       -250      195  0.827208  0.172792       0\n",
       "..       ...      ...       ...       ...     ...\n",
       "243     -230      180  0.648092  0.351908       1\n",
       "244      180     -230  0.433746  0.566254       1\n",
       "245     -103     -117  0.538621  0.461379       0\n",
       "246     -140      120  0.425760  0.574240       0\n",
       "247      105     -125  0.513779  0.486221       0\n",
       "\n",
       "[248 rows x 5 columns]"
      ]
     },
     "metadata": {},
     "output_type": "display_data"
    },
    {
     "name": "stdout",
     "output_type": "stream",
     "text": [
      "\n",
      "          Number of matches: 248\n",
      "          Number of bets: 167\n",
      "          Number of winning bets: 77\n",
      "          Number of losing bets: 91\n",
      "          Number of underdog bets: 114\n",
      "          Number of underdog wins: 45\n",
      "          Number of underdog losses: 69\n",
      "          Number of Favorite bets: 54\n",
      "          Number of favorite wins: 32\n",
      "          Number of favorite losses: 22\n",
      "          Number of even bets: 0\n",
      "          Number of even wins: 0\n",
      "          Number of even losses: 0\n",
      "          Profit: -678.809810969788\n",
      "          Profit per bet: -4.064729407004719\n",
      "          Profit per match: -2.737136334555597\n",
      "          \n",
      "          \n"
     ]
    },
    {
     "data": {
      "text/plain": [
       "(3480, 63)"
      ]
     },
     "metadata": {},
     "output_type": "display_data"
    },
    {
     "data": {
      "text/plain": [
       "(3480,)"
      ]
     },
     "metadata": {},
     "output_type": "display_data"
    },
    {
     "data": {
      "text/plain": [
       "(3480, 2)"
      ]
     },
     "metadata": {},
     "output_type": "display_data"
    },
    {
     "data": {
      "text/plain": [
       "(248, 63)"
      ]
     },
     "metadata": {},
     "output_type": "display_data"
    },
    {
     "data": {
      "text/plain": [
       "(248,)"
      ]
     },
     "metadata": {},
     "output_type": "display_data"
    },
    {
     "data": {
      "text/plain": [
       "(248, 2)"
      ]
     },
     "metadata": {},
     "output_type": "display_data"
    },
    {
     "data": {
      "text/html": [
       "<div>\n",
       "<style scoped>\n",
       "    .dataframe tbody tr th:only-of-type {\n",
       "        vertical-align: middle;\n",
       "    }\n",
       "\n",
       "    .dataframe tbody tr th {\n",
       "        vertical-align: top;\n",
       "    }\n",
       "\n",
       "    .dataframe thead th {\n",
       "        text-align: right;\n",
       "    }\n",
       "</style>\n",
       "<table border=\"1\" class=\"dataframe\">\n",
       "  <thead>\n",
       "    <tr style=\"text-align: right;\">\n",
       "      <th></th>\n",
       "      <th>t1_odds</th>\n",
       "      <th>t2_odds</th>\n",
       "      <th>t1_prob</th>\n",
       "      <th>t2_prob</th>\n",
       "      <th>winner</th>\n",
       "    </tr>\n",
       "  </thead>\n",
       "  <tbody>\n",
       "    <tr>\n",
       "      <th>0</th>\n",
       "      <td>-155</td>\n",
       "      <td>125</td>\n",
       "      <td>0.967472</td>\n",
       "      <td>0.032528</td>\n",
       "      <td>0</td>\n",
       "    </tr>\n",
       "    <tr>\n",
       "      <th>1</th>\n",
       "      <td>-195</td>\n",
       "      <td>153</td>\n",
       "      <td>0.006245</td>\n",
       "      <td>0.993755</td>\n",
       "      <td>0</td>\n",
       "    </tr>\n",
       "    <tr>\n",
       "      <th>2</th>\n",
       "      <td>-230</td>\n",
       "      <td>180</td>\n",
       "      <td>0.739203</td>\n",
       "      <td>0.260797</td>\n",
       "      <td>1</td>\n",
       "    </tr>\n",
       "    <tr>\n",
       "      <th>3</th>\n",
       "      <td>-143</td>\n",
       "      <td>113</td>\n",
       "      <td>0.518328</td>\n",
       "      <td>0.481672</td>\n",
       "      <td>0</td>\n",
       "    </tr>\n",
       "    <tr>\n",
       "      <th>4</th>\n",
       "      <td>-250</td>\n",
       "      <td>195</td>\n",
       "      <td>0.998250</td>\n",
       "      <td>0.001750</td>\n",
       "      <td>0</td>\n",
       "    </tr>\n",
       "    <tr>\n",
       "      <th>...</th>\n",
       "      <td>...</td>\n",
       "      <td>...</td>\n",
       "      <td>...</td>\n",
       "      <td>...</td>\n",
       "      <td>...</td>\n",
       "    </tr>\n",
       "    <tr>\n",
       "      <th>243</th>\n",
       "      <td>-230</td>\n",
       "      <td>180</td>\n",
       "      <td>0.895380</td>\n",
       "      <td>0.104620</td>\n",
       "      <td>1</td>\n",
       "    </tr>\n",
       "    <tr>\n",
       "      <th>244</th>\n",
       "      <td>180</td>\n",
       "      <td>-230</td>\n",
       "      <td>0.330034</td>\n",
       "      <td>0.669966</td>\n",
       "      <td>1</td>\n",
       "    </tr>\n",
       "    <tr>\n",
       "      <th>245</th>\n",
       "      <td>-103</td>\n",
       "      <td>-117</td>\n",
       "      <td>0.975918</td>\n",
       "      <td>0.024082</td>\n",
       "      <td>0</td>\n",
       "    </tr>\n",
       "    <tr>\n",
       "      <th>246</th>\n",
       "      <td>-140</td>\n",
       "      <td>120</td>\n",
       "      <td>0.067185</td>\n",
       "      <td>0.932815</td>\n",
       "      <td>0</td>\n",
       "    </tr>\n",
       "    <tr>\n",
       "      <th>247</th>\n",
       "      <td>105</td>\n",
       "      <td>-125</td>\n",
       "      <td>0.994090</td>\n",
       "      <td>0.005910</td>\n",
       "      <td>0</td>\n",
       "    </tr>\n",
       "  </tbody>\n",
       "</table>\n",
       "<p>248 rows × 5 columns</p>\n",
       "</div>"
      ],
      "text/plain": [
       "     t1_odds  t2_odds   t1_prob   t2_prob  winner\n",
       "0       -155      125  0.967472  0.032528       0\n",
       "1       -195      153  0.006245  0.993755       0\n",
       "2       -230      180  0.739203  0.260797       1\n",
       "3       -143      113  0.518328  0.481672       0\n",
       "4       -250      195  0.998250  0.001750       0\n",
       "..       ...      ...       ...       ...     ...\n",
       "243     -230      180  0.895380  0.104620       1\n",
       "244      180     -230  0.330034  0.669966       1\n",
       "245     -103     -117  0.975918  0.024082       0\n",
       "246     -140      120  0.067185  0.932815       0\n",
       "247      105     -125  0.994090  0.005910       0\n",
       "\n",
       "[248 rows x 5 columns]"
      ]
     },
     "metadata": {},
     "output_type": "display_data"
    },
    {
     "name": "stdout",
     "output_type": "stream",
     "text": [
      "\n",
      "          Number of matches: 248\n",
      "          Number of bets: 178\n",
      "          Number of winning bets: 94\n",
      "          Number of losing bets: 84\n",
      "          Number of underdog bets: 104\n",
      "          Number of underdog wins: 49\n",
      "          Number of underdog losses: 55\n",
      "          Number of Favorite bets: 72\n",
      "          Number of favorite wins: 44\n",
      "          Number of favorite losses: 28\n",
      "          Number of even bets: 2\n",
      "          Number of even wins: 1\n",
      "          Number of even losses: 1\n",
      "          Profit: 2001.216221439726\n",
      "          Profit per bet: 11.242787760897338\n",
      "          Profit per match: 8.069420247740831\n",
      "          \n",
      "          \n"
     ]
    }
   ],
   "source": [
    "score_list = []\n",
    "for model_num in range(len(models[0])):\n",
    "    test_model_name = models[0][model_num]\n",
    "    test_model = eval(models[1][model_num])\n",
    "    test_model_features = eval(models[2][model_num])\n",
    "    test_model_ev = eval(models[3][model_num])\n",
    "    \n",
    "    score_list.append(evaluate_model(test_model, test_model_features, test_model_ev, df_train, label_train, odds_train, df_test, label_test,\n",
    "                         odds_test, verbose = True))"
   ]
  },
  {
   "cell_type": "code",
   "execution_count": 10,
   "metadata": {},
   "outputs": [
    {
     "name": "stdout",
     "output_type": "stream",
     "text": [
      "['1652.4129006482722', '-89.10560164031426', '931.734340767839', '-1665.2948509208275', '22.11070203033951', '-93.34709404134037', '-23.27494407164788', '549.7604013994487', '-635.9246581945307', '-678.809810969788', '2001.216221439726']\n"
     ]
    }
   ],
   "source": [
    "print(models[4])"
   ]
  },
  {
   "cell_type": "code",
   "execution_count": 11,
   "metadata": {},
   "outputs": [
    {
     "name": "stdout",
     "output_type": "stream",
     "text": [
      "[1652.4129006482722, -89.10560164031426, 931.734340767839, -1665.2948509208275, 22.11070203033951, -93.34709404134037, -23.27494407164788, 549.7604013994487, -635.9246581945307, -678.809810969788, 2001.216221439726]\n"
     ]
    }
   ],
   "source": [
    "print(score_list)"
   ]
  },
  {
   "cell_type": "code",
   "execution_count": 12,
   "metadata": {},
   "outputs": [],
   "source": [
    "models[4] = score_list"
   ]
  },
  {
   "cell_type": "code",
   "execution_count": 13,
   "metadata": {},
   "outputs": [
    {
     "data": {
      "text/plain": [
       "[['model_06_13_20',\n",
       "  'model_06_20_20',\n",
       "  'model_6_27_20',\n",
       "  'model_7_18_20',\n",
       "  'model_7_25_20',\n",
       "  'model_9_2_20',\n",
       "  'model_9_10_20',\n",
       "  'model_10_23_20',\n",
       "  'model_10_27_20',\n",
       "  'model_10_28_20',\n",
       "  'model_2021_06_24'],\n",
       " ['LogisticRegression(max_iter=50000, random_state=75, tol=5.993308915320019)',\n",
       "  'GaussianNB()',\n",
       "  'GaussianNB()',\n",
       "  'GradientBoostingClassifier(n_estimators=122, random_state=75)',\n",
       "  'GaussianNB()',\n",
       "  'GaussianNB(var_smoothing=1e-12)',\n",
       "  'GaussianNB(var_smoothing=1e-12)',\n",
       "  'GradientBoostingClassifier(max_depth=95, min_samples_leaf=6, n_estimators=195,\\n                           random_state=75)',\n",
       "  \"RandomForestClassifier(criterion='entropy', max_depth=10, n_estimators=197,\\n                       n_jobs=-1, random_state=75)\",\n",
       "  \"RandomForestClassifier(criterion='entropy', max_depth=10, n_estimators=22,\\n                       n_jobs=-1, random_state=75)\",\n",
       "  'GradientBoostingClassifier(max_depth=95, min_samples_leaf=0.0015,\\n                           n_estimators=195, random_state=75)'],\n",
       " [\"['B_win_by_Decision_Majority', 'B_win_by_TKO_Doctor_Stoppage', 'R_win_by_Decision_Majority', 'R_odds', 'R_current_lose_streak', 'R_Reach_cms', 'B_draw', 'total_round_dif', 'R_ev', 'B_ev']\",\n",
       "  \"['R_win_by_Decision_Unanimous', 'B_win_by_Submission', 'R_Weight_lbs', 'sig_str_dif', 'B_Height_cms', 'B_avg_SUB_ATT', 'R_win_by_TKO_Doctor_Stoppage', 'height_dif', 'B_draw', 'avg_td_dif', 'R_win_by_Decision_Split', 'age_dif', 'B_current_win_streak', 'R_odds']\",\n",
       "  \"['R_longest_win_streak', 'longest_win_streak_dif', 'reach_dif', 'avg_sub_att_dif', 'R_win_by_Decision_Unanimous', 'B_win_by_Submission', 'R_Weight_lbs', 'sig_str_dif', 'B_Height_cms', 'B_avg_SUB_ATT', 'R_win_by_TKO_Doctor_Stoppage', 'height_dif', 'B_draw', 'avg_td_dif', 'R_win_by_Decision_Split', 'age_dif', 'B_current_win_streak', 'R_odds']\",\n",
       "  \"['B_current_win_streak', 'R_win_by_Submission', 'B_win_by_Decision_Unanimous', 'R_win_by_Decision_Unanimous', 'R_current_lose_streak', 'B_win_by_TKO_Doctor_Stoppage', 'win_dif', 'B_win_by_Decision_Split', 'B_wins', 'R_Stance', 'B_age', 'B_Weight_lbs', 'R_ev', 'B_total_rounds_fought', 'location', 'R_odds', 'R_Reach_cms', 'R_Weight_lbs', 'R_current_win_streak', 'R_age', 'empty_arena', 'R_win_by_Decision_Split', 'R_draw', 'lose_streak_dif', 'B_draw']\",\n",
       "  \"['R_Reach_cms', 'total_round_dif', 'R_Height_cms', 'R_avg_SIG_STR_pct', 'B_age', 'R_longest_win_streak', 'lose_streak_dif', 'ko_dif', 'R_win_by_Decision_Majority', 'longest_win_streak_dif', 'avg_sub_att_dif', 'R_Weight_lbs', 'sig_str_dif', 'B_Height_cms', 'B_avg_SUB_ATT', 'R_win_by_TKO_Doctor_Stoppage', 'B_draw', 'avg_td_dif', 'R_win_by_Decision_Split', 'age_dif', 'B_current_win_streak', 'R_odds']\",\n",
       "  \"['win_streak_dif', 'B_Light Heavyweight_rank', 'B_Lightweight_rank', 'R_avg_TD_landed', 'R_Middleweight_rank', 'total_round_dif', 'R_Height_cms', 'R_avg_SIG_STR_pct', 'B_age', 'R_longest_win_streak', 'lose_streak_dif', 'R_win_by_Decision_Majority', 'longest_win_streak_dif', 'avg_sub_att_dif', 'R_Weight_lbs', 'sig_str_dif', 'B_Height_cms', 'B_avg_SUB_ATT', 'R_win_by_TKO_Doctor_Stoppage', 'B_draw', 'avg_td_dif', 'R_win_by_Decision_Split', 'age_dif', 'R_odds']\",\n",
       "  \"['B_Weight_lbs', 'B_Flyweight_rank', 'B_avg_TD_landed', 'B_Light Heavyweight_rank', 'B_Lightweight_rank', 'R_avg_TD_landed', 'R_Middleweight_rank', 'R_Height_cms', 'R_avg_SIG_STR_pct', 'B_age', 'R_longest_win_streak', 'lose_streak_dif', 'R_win_by_Decision_Majority', 'longest_win_streak_dif', 'avg_sub_att_dif', 'sig_str_dif', 'B_avg_SUB_ATT', 'R_win_by_TKO_Doctor_Stoppage', 'B_draw', 'R_win_by_Decision_Split', 'age_dif', 'R_odds']\",\n",
       "  \"['weight_class', 'B_Reach_cms', 'B_Welterweight_rank', 'B_total_title_bouts', 'R_avg_TD_pct', 'B_Bantamweight_rank', 'R_Featherweight_rank', 'no_of_rounds', 'B_draw', 'B_Stance', 'R_win_by_TKO_Doctor_Stoppage', 'R_current_win_streak', 'B_avg_SIG_STR_landed', 'country']\",\n",
       "  '[\\'R_Height_cms\\', \\'R_Bantamweight_rank\\', \\'B_current_lose_streak\\', \\'avg_sub_att_dif\\', \\'B_Middleweight_rank\\', \\'R_current_win_streak\\', \\'total_round_dif\\', \\'B_avg_SUB_ATT\\', \\'B_avg_SIG_STR_landed\\', \\'age_dif\\', \\'B_Light Heavyweight_rank\\', \\'R_avg_TD_pct\\', \\'R_ev\\', \"B_Women\\'s Flyweight_rank\", \"B_Women\\'s Strawweight_rank\", \\'B_Bantamweight_rank\\', \\'R_Reach_cms\\', \\'B_win_by_Decision_Unanimous\\', \\'constant_1\\']',\n",
       "  '[\\'B_Stance\\', \\'R_current_lose_streak\\', \\'loss_dif\\', \\'B_win_by_Decision_Split\\', \\'R_Height_cms\\', \\'R_Bantamweight_rank\\', \\'B_current_lose_streak\\', \\'avg_sub_att_dif\\', \\'B_Middleweight_rank\\', \\'R_current_win_streak\\', \\'total_round_dif\\', \\'B_avg_SUB_ATT\\', \\'B_avg_SIG_STR_landed\\', \\'age_dif\\', \\'B_Light Heavyweight_rank\\', \\'R_avg_TD_pct\\', \\'R_ev\\', \"B_Women\\'s Flyweight_rank\", \"B_Women\\'s Strawweight_rank\", \\'B_Bantamweight_rank\\', \\'R_Reach_cms\\', \\'B_win_by_Decision_Unanimous\\', \\'constant_1\\']',\n",
       "  '[\"R_Women\\'s Featherweight_rank\", \\'B_Featherweight_rank\\', \\'B_win_by_KO/TKO\\', \\'R_Pound-for-Pound_rank\\', \\'reach_dif\\', \"R_Women\\'s Bantamweight_rank\", \\'age_dif\\', \\'weight_class\\', \\'B_Reach_cms\\', \\'B_Welterweight_rank\\', \\'B_total_title_bouts\\', \\'R_avg_TD_pct\\', \\'B_Bantamweight_rank\\', \\'R_Featherweight_rank\\', \\'no_of_rounds\\', \\'B_draw\\', \\'B_Stance\\', \\'R_win_by_TKO_Doctor_Stoppage\\', \\'R_current_win_streak\\', \\'B_avg_SIG_STR_landed\\', \\'country\\']'],\n",
       " ['0', '0', '0', '0', '1', '3', '2', '27', '1', '5', '33'],\n",
       " [1652.4129006482722,\n",
       "  -89.10560164031426,\n",
       "  931.734340767839,\n",
       "  -1665.2948509208275,\n",
       "  22.11070203033951,\n",
       "  -93.34709404134037,\n",
       "  -23.27494407164788,\n",
       "  549.7604013994487,\n",
       "  -635.9246581945307,\n",
       "  -678.809810969788,\n",
       "  2001.216221439726]]"
      ]
     },
     "execution_count": 13,
     "metadata": {},
     "output_type": "execute_result"
    }
   ],
   "source": [
    "models"
   ]
  },
  {
   "cell_type": "code",
   "execution_count": 14,
   "metadata": {},
   "outputs": [
    {
     "name": "stdout",
     "output_type": "stream",
     "text": [
      "HI\n",
      "HI\n",
      "HI\n",
      "HI\n",
      "HI\n"
     ]
    }
   ],
   "source": [
    "with open('../data/production_models.csv', 'w' , newline='') as outfile:\n",
    "    writer = csv.writer(outfile)\n",
    "    for row in models:\n",
    "        print(\"HI\")\n",
    "        writer.writerow(row)\n",
    "    \n",
    "outfile.close()"
   ]
  },
  {
   "cell_type": "code",
   "execution_count": null,
   "metadata": {},
   "outputs": [],
   "source": []
  }
 ],
 "metadata": {
  "kernelspec": {
   "display_name": "Python 3",
   "language": "python",
   "name": "python3"
  },
  "language_info": {
   "codemirror_mode": {
    "name": "ipython",
    "version": 3
   },
   "file_extension": ".py",
   "mimetype": "text/x-python",
   "name": "python",
   "nbconvert_exporter": "python",
   "pygments_lexer": "ipython3",
   "version": "3.8.8"
  }
 },
 "nbformat": 4,
 "nbformat_minor": 4
}
