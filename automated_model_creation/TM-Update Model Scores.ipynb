{
 "cells": [
  {
   "cell_type": "code",
   "execution_count": 1,
   "metadata": {},
   "outputs": [],
   "source": [
    "import pandas as pd\n",
    "import numpy as np\n",
    "from functions import *\n",
    "import random\n",
    "import csv\n",
    "from sklearn.linear_model import LogisticRegression\n",
    "from sklearn.tree import DecisionTreeClassifier\n",
    "from sklearn.ensemble import GradientBoostingClassifier\n",
    "\n",
    "remove_fight_island = False"
   ]
  },
  {
   "cell_type": "code",
   "execution_count": 2,
   "metadata": {},
   "outputs": [
    {
     "name": "stdout",
     "output_type": "stream",
     "text": [
      "5\n"
     ]
    }
   ],
   "source": [
    "#Load models\n",
    "#REMINDER: We are going to need to use 'eval' to get the models usable\n",
    "with open('models.csv', newline='') as f:\n",
    "    reader = csv.reader(f)\n",
    "    models = list(reader)\n",
    "    \n",
    "print(len(models))\n"
   ]
  },
  {
   "cell_type": "code",
   "execution_count": 3,
   "metadata": {},
   "outputs": [
    {
     "data": {
      "text/plain": [
       "[['model_0',\n",
       "  'model_1',\n",
       "  'model_2',\n",
       "  'model_3',\n",
       "  'model_4',\n",
       "  'model_06_13_20',\n",
       "  'model_06_20_20',\n",
       "  'model_6_27_20',\n",
       "  'model_7_18_20',\n",
       "  'model_7_25_20',\n",
       "  'model_9_2_20',\n",
       "  'model_9_10_20',\n",
       "  'model_10_23_20',\n",
       "  'model_10_27_20',\n",
       "  'model_10_28_20'],\n",
       " ['LogisticRegression(max_iter=50000, random_state=75)',\n",
       "  \"DecisionTreeClassifier(max_depth=3, max_leaf_nodes=336, min_samples_leaf=0.01,\\n                       random_state=75, splitter='random')\",\n",
       "  'RandomForestClassifier(max_depth=10, min_samples_leaf=0.0099, n_jobs=-1,\\n                       random_state=75)',\n",
       "  \"GradientBoostingClassifier(max_depth=17, max_features='sqrt',\\n                           max_leaf_nodes=316, min_samples_leaf=0.1,\\n                           n_estimators=195, random_state=75)\",\n",
       "  'GaussianNB(var_smoothing=1e-08)',\n",
       "  'LogisticRegression(max_iter=50000, random_state=75, tol=5.993308915320019)',\n",
       "  'GaussianNB()',\n",
       "  'GaussianNB()',\n",
       "  'GradientBoostingClassifier(n_estimators=122, random_state=75)',\n",
       "  'GaussianNB()',\n",
       "  'GaussianNB(var_smoothing=1e-12)',\n",
       "  'GaussianNB(var_smoothing=1e-12)',\n",
       "  'GradientBoostingClassifier(max_depth=95, min_samples_leaf=6, n_estimators=195,\\n                           random_state=75)',\n",
       "  \"RandomForestClassifier(criterion='entropy', max_depth=10, n_estimators=197,\\n                       n_jobs=-1, random_state=75)\",\n",
       "  \"RandomForestClassifier(criterion='entropy', max_depth=10, n_estimators=22,\\n                       n_jobs=-1, random_state=75)\"],\n",
       " [\"['sig_str_dif', 'R_Weight_lbs', 'B_Weight_lbs', 'R_Lightweight_rank', 'R_draw', 'R_Light Heavyweight_rank', 'R_win_by_Decision_Split', 'age_dif', 'B_ev']\",\n",
       "  '[\"B_Women\\'s Featherweight_rank\", \\'B_avg_SIG_STR_landed\\', \\'R_odds\\', \\'gender\\', \\'R_ev\\', \\'total_round_dif\\']',\n",
       "  \"['R_Reach_cms', 'B_avg_SIG_STR_pct', 'R_win_by_TKO_Doctor_Stoppage', 'B_ev', 'total_round_dif']\",\n",
       "  \"['B_total_title_bouts', 'B_Weight_lbs', 'B_avg_TD_pct', 'R_current_lose_streak', 'B_avg_SIG_STR_pct', 'R_Stance', 'R_win_by_Decision_Unanimous', 'B_age', 'B_avg_SUB_ATT', 'reach_dif', 'country', 'R_odds']\",\n",
       "  \"['B_win_by_Decision_Majority', 'B_current_win_streak', 'avg_sub_att_dif', 'B_wins', 'empty_arena', 'B_win_by_Submission', 'B_Pound-for-Pound_rank', 'B_win_by_Decision_Unanimous', 'sig_str_dif', 'B_draw', 'R_avg_TD_landed', 'B_Lightweight_rank', 'B_Stance', 'total_round_dif']\",\n",
       "  \"['B_win_by_Decision_Majority', 'B_win_by_TKO_Doctor_Stoppage', 'R_win_by_Decision_Majority', 'R_odds', 'R_current_lose_streak', 'R_Reach_cms', 'B_draw', 'total_round_dif', 'R_ev', 'B_ev']\",\n",
       "  \"['R_win_by_Decision_Unanimous', 'B_win_by_Submission', 'R_Weight_lbs', 'sig_str_dif', 'B_Height_cms', 'B_avg_SUB_ATT', 'R_win_by_TKO_Doctor_Stoppage', 'height_dif', 'B_draw', 'avg_td_dif', 'R_win_by_Decision_Split', 'age_dif', 'B_current_win_streak', 'R_odds']\",\n",
       "  \"['R_longest_win_streak', 'longest_win_streak_dif', 'reach_dif', 'avg_sub_att_dif', 'R_win_by_Decision_Unanimous', 'B_win_by_Submission', 'R_Weight_lbs', 'sig_str_dif', 'B_Height_cms', 'B_avg_SUB_ATT', 'R_win_by_TKO_Doctor_Stoppage', 'height_dif', 'B_draw', 'avg_td_dif', 'R_win_by_Decision_Split', 'age_dif', 'B_current_win_streak', 'R_odds']\",\n",
       "  \"['B_current_win_streak', 'R_win_by_Submission', 'B_win_by_Decision_Unanimous', 'R_win_by_Decision_Unanimous', 'R_current_lose_streak', 'B_win_by_TKO_Doctor_Stoppage', 'win_dif', 'B_win_by_Decision_Split', 'B_wins', 'R_Stance', 'B_age', 'B_Weight_lbs', 'R_ev', 'B_total_rounds_fought', 'location', 'R_odds', 'R_Reach_cms', 'R_Weight_lbs', 'R_current_win_streak', 'R_age', 'empty_arena', 'R_win_by_Decision_Split', 'R_draw', 'lose_streak_dif', 'B_draw']\",\n",
       "  \"['R_Reach_cms', 'total_round_dif', 'R_Height_cms', 'R_avg_SIG_STR_pct', 'B_age', 'R_longest_win_streak', 'lose_streak_dif', 'ko_dif', 'R_win_by_Decision_Majority', 'longest_win_streak_dif', 'avg_sub_att_dif', 'R_Weight_lbs', 'sig_str_dif', 'B_Height_cms', 'B_avg_SUB_ATT', 'R_win_by_TKO_Doctor_Stoppage', 'B_draw', 'avg_td_dif', 'R_win_by_Decision_Split', 'age_dif', 'B_current_win_streak', 'R_odds']\",\n",
       "  \"['win_streak_dif', 'B_Light Heavyweight_rank', 'B_Lightweight_rank', 'R_avg_TD_landed', 'R_Middleweight_rank', 'total_round_dif', 'R_Height_cms', 'R_avg_SIG_STR_pct', 'B_age', 'R_longest_win_streak', 'lose_streak_dif', 'R_win_by_Decision_Majority', 'longest_win_streak_dif', 'avg_sub_att_dif', 'R_Weight_lbs', 'sig_str_dif', 'B_Height_cms', 'B_avg_SUB_ATT', 'R_win_by_TKO_Doctor_Stoppage', 'B_draw', 'avg_td_dif', 'R_win_by_Decision_Split', 'age_dif', 'R_odds']\",\n",
       "  \"['B_Weight_lbs', 'B_Flyweight_rank', 'B_avg_TD_landed', 'B_Light Heavyweight_rank', 'B_Lightweight_rank', 'R_avg_TD_landed', 'R_Middleweight_rank', 'R_Height_cms', 'R_avg_SIG_STR_pct', 'B_age', 'R_longest_win_streak', 'lose_streak_dif', 'R_win_by_Decision_Majority', 'longest_win_streak_dif', 'avg_sub_att_dif', 'sig_str_dif', 'B_avg_SUB_ATT', 'R_win_by_TKO_Doctor_Stoppage', 'B_draw', 'R_win_by_Decision_Split', 'age_dif', 'R_odds']\",\n",
       "  \"['weight_class', 'B_Reach_cms', 'B_Welterweight_rank', 'B_total_title_bouts', 'R_avg_TD_pct', 'B_Bantamweight_rank', 'R_Featherweight_rank', 'no_of_rounds', 'B_draw', 'B_Stance', 'R_win_by_TKO_Doctor_Stoppage', 'R_current_win_streak', 'B_avg_SIG_STR_landed', 'country']\",\n",
       "  '[\\'R_Height_cms\\', \\'R_Bantamweight_rank\\', \\'B_current_lose_streak\\', \\'avg_sub_att_dif\\', \\'B_Middleweight_rank\\', \\'R_current_win_streak\\', \\'total_round_dif\\', \\'B_avg_SUB_ATT\\', \\'B_avg_SIG_STR_landed\\', \\'age_dif\\', \\'B_Light Heavyweight_rank\\', \\'R_avg_TD_pct\\', \\'R_ev\\', \"B_Women\\'s Flyweight_rank\", \"B_Women\\'s Strawweight_rank\", \\'B_Bantamweight_rank\\', \\'R_Reach_cms\\', \\'B_win_by_Decision_Unanimous\\', \\'constant_1\\']',\n",
       "  '[\\'B_Stance\\', \\'R_current_lose_streak\\', \\'loss_dif\\', \\'B_win_by_Decision_Split\\', \\'R_Height_cms\\', \\'R_Bantamweight_rank\\', \\'B_current_lose_streak\\', \\'avg_sub_att_dif\\', \\'B_Middleweight_rank\\', \\'R_current_win_streak\\', \\'total_round_dif\\', \\'B_avg_SUB_ATT\\', \\'B_avg_SIG_STR_landed\\', \\'age_dif\\', \\'B_Light Heavyweight_rank\\', \\'R_avg_TD_pct\\', \\'R_ev\\', \"B_Women\\'s Flyweight_rank\", \"B_Women\\'s Strawweight_rank\", \\'B_Bantamweight_rank\\', \\'R_Reach_cms\\', \\'B_win_by_Decision_Unanimous\\', \\'constant_1\\']'],\n",
       " ['0', '1', '0', '0', '0', '0', '0', '0', '0', '1', '3', '2', '27', '1', '5'],\n",
       " ['538.4166865',\n",
       "  '-324.7349695106435',\n",
       "  '-949.3347427574704',\n",
       "  '1205.0828045280437',\n",
       "  '79.82596213788835',\n",
       "  '1165.977716',\n",
       "  '528.6527731',\n",
       "  '1500.93994',\n",
       "  '493.1647765',\n",
       "  '-431.4817089',\n",
       "  '-35.23037836',\n",
       "  '-19.43318131',\n",
       "  '290.9104159',\n",
       "  '-91.0629001',\n",
       "  '-1129.80692']]"
      ]
     },
     "execution_count": 3,
     "metadata": {},
     "output_type": "execute_result"
    }
   ],
   "source": [
    "models"
   ]
  },
  {
   "cell_type": "code",
   "execution_count": 4,
   "metadata": {},
   "outputs": [],
   "source": [
    "df = pd.read_csv(\"../data/ufc-master.csv\")"
   ]
  },
  {
   "cell_type": "code",
   "execution_count": 5,
   "metadata": {},
   "outputs": [
    {
     "name": "stdout",
     "output_type": "stream",
     "text": [
      "250\n",
      "250\n",
      "250\n",
      "4483\n",
      "4483\n",
      "4483\n"
     ]
    },
    {
     "name": "stderr",
     "output_type": "stream",
     "text": [
      "<ipython-input-5-d6c2a1ffdd58>:5: SettingWithCopyWarning: \n",
      "A value is trying to be set on a copy of a slice from a DataFrame\n",
      "\n",
      "See the caveats in the documentation: https://pandas.pydata.org/pandas-docs/stable/user_guide/indexing.html#returning-a-view-versus-a-copy\n",
      "  df['label'][mask] = 0\n",
      "<ipython-input-5-d6c2a1ffdd58>:7: SettingWithCopyWarning: \n",
      "A value is trying to be set on a copy of a slice from a DataFrame\n",
      "\n",
      "See the caveats in the documentation: https://pandas.pydata.org/pandas-docs/stable/user_guide/indexing.html#returning-a-view-versus-a-copy\n",
      "  df['label'][mask] = 1\n"
     ]
    }
   ],
   "source": [
    "#Let's put all the labels in a dataframe\n",
    "df['label'] = ''\n",
    "#If the winner is not Red or Blue we can remove it.\n",
    "mask = df['Winner'] == 'Red'\n",
    "df['label'][mask] = 0\n",
    "mask = df['Winner'] == 'Blue'\n",
    "df['label'][mask] = 1\n",
    "\n",
    "#df[\"Winner\"] = df[\"Winner\"].astype('category')\n",
    "df = df[(df['Winner'] == 'Blue') | (df['Winner'] == 'Red')]\n",
    "\n",
    "\n",
    "#Make sure lable is numeric\n",
    "df['label'] = pd.to_numeric(df['label'], errors='coerce')\n",
    "\n",
    "#Let's fix the date\n",
    "df['date'] = pd.to_datetime(df['date'])\n",
    "\n",
    "#Create a label df:\n",
    "label_df = df['label']\n",
    "\n",
    "#Let's create an odds df too:\n",
    "odds_df = df[['R_odds', 'B_odds']]\n",
    "\n",
    "#Split the test set.  We are always(?) going to use the last 200 matches as the test set, so we don't want those around\n",
    "#as we pick models\n",
    "\n",
    "df_train = df[250:]\n",
    "odds_train = odds_df[250:]\n",
    "label_train = label_df[250:]\n",
    "\n",
    "df_test = df[:250]\n",
    "odds_test = odds_df[:250]\n",
    "label_test = label_df[:250]\n",
    "\n",
    "print(len(df_test))\n",
    "print(len(odds_test))\n",
    "print(len(label_test))\n",
    "\n",
    "print(len(df_train))\n",
    "print(len(odds_train))\n",
    "print(len(label_train))"
   ]
  },
  {
   "cell_type": "code",
   "execution_count": 6,
   "metadata": {},
   "outputs": [
    {
     "name": "stdout",
     "output_type": "stream",
     "text": [
      "250\n",
      "4483\n"
     ]
    }
   ],
   "source": [
    "if remove_fight_island:\n",
    "    ##Let's remove the Fight island contests and see how that affects score\n",
    "    df_test_no_fight_island = df_test[(df_test['location'] != 'Abu Dhabi, Abu Dhabi, United Arab Emirates')]\n",
    "    df_train_no_fight_island = df_train[(df_train['location'] != 'Abu Dhabi, Abu Dhabi, United Arab Emirates')]\n",
    "    df_test = df_test_no_fight_island\n",
    "    df_train = df_train_no_fight_island\n",
    "\n",
    "\n",
    "\n",
    "print(len(df_test))\n",
    "print(len(df_train))\n"
   ]
  },
  {
   "cell_type": "code",
   "execution_count": 7,
   "metadata": {},
   "outputs": [
    {
     "name": "stderr",
     "output_type": "stream",
     "text": [
      "C:\\Users\\matth\\anaconda3\\lib\\site-packages\\pandas\\core\\frame.py:3191: SettingWithCopyWarning: \n",
      "A value is trying to be set on a copy of a slice from a DataFrame.\n",
      "Try using .loc[row_indexer,col_indexer] = value instead\n",
      "\n",
      "See the caveats in the documentation: https://pandas.pydata.org/pandas-docs/stable/user_guide/indexing.html#returning-a-view-versus-a-copy\n",
      "  self[k1] = value[k2]\n"
     ]
    }
   ],
   "source": [
    "#Set a value for the nulls in the ranks\n",
    "\n",
    "weightclass_list = ['B_match_weightclass_rank', 'R_match_weightclass_rank', \"R_Women's Flyweight_rank\", \"R_Women's Featherweight_rank\", \"R_Women's Strawweight_rank\", \"R_Women's Bantamweight_rank\", 'R_Heavyweight_rank', 'R_Light Heavyweight_rank', 'R_Middleweight_rank', 'R_Welterweight_rank', 'R_Lightweight_rank', 'R_Featherweight_rank', 'R_Bantamweight_rank', 'R_Flyweight_rank', 'R_Pound-for-Pound_rank', \"B_Women's Flyweight_rank\", \"B_Women's Featherweight_rank\", \"B_Women's Strawweight_rank\", \"B_Women's Bantamweight_rank\", 'B_Heavyweight_rank', 'B_Light Heavyweight_rank', 'B_Middleweight_rank', 'B_Welterweight_rank', 'B_Lightweight_rank', 'B_Featherweight_rank', 'B_Bantamweight_rank', 'B_Flyweight_rank', 'B_Pound-for-Pound_rank']\n",
    "df_train[weightclass_list] = df_train[weightclass_list].fillna(17)\n",
    "df_test[weightclass_list] = df_test[weightclass_list].fillna(17)"
   ]
  },
  {
   "cell_type": "code",
   "execution_count": 8,
   "metadata": {},
   "outputs": [
    {
     "data": {
      "text/plain": [
       "15"
      ]
     },
     "execution_count": 8,
     "metadata": {},
     "output_type": "execute_result"
    }
   ],
   "source": [
    "len(models[0])"
   ]
  },
  {
   "cell_type": "code",
   "execution_count": null,
   "metadata": {},
   "outputs": [],
   "source": []
  },
  {
   "cell_type": "code",
   "execution_count": 9,
   "metadata": {},
   "outputs": [
    {
     "data": {
      "text/plain": [
       "(4483, 9)"
      ]
     },
     "metadata": {},
     "output_type": "display_data"
    },
    {
     "data": {
      "text/plain": [
       "(4483,)"
      ]
     },
     "metadata": {},
     "output_type": "display_data"
    },
    {
     "data": {
      "text/plain": [
       "(4483, 2)"
      ]
     },
     "metadata": {},
     "output_type": "display_data"
    },
    {
     "data": {
      "text/plain": [
       "(250, 9)"
      ]
     },
     "metadata": {},
     "output_type": "display_data"
    },
    {
     "data": {
      "text/plain": [
       "(250,)"
      ]
     },
     "metadata": {},
     "output_type": "display_data"
    },
    {
     "data": {
      "text/plain": [
       "(250, 2)"
      ]
     },
     "metadata": {},
     "output_type": "display_data"
    },
    {
     "data": {
      "text/html": [
       "<div>\n",
       "<style scoped>\n",
       "    .dataframe tbody tr th:only-of-type {\n",
       "        vertical-align: middle;\n",
       "    }\n",
       "\n",
       "    .dataframe tbody tr th {\n",
       "        vertical-align: top;\n",
       "    }\n",
       "\n",
       "    .dataframe thead th {\n",
       "        text-align: right;\n",
       "    }\n",
       "</style>\n",
       "<table border=\"1\" class=\"dataframe\">\n",
       "  <thead>\n",
       "    <tr style=\"text-align: right;\">\n",
       "      <th></th>\n",
       "      <th>t1_odds</th>\n",
       "      <th>t2_odds</th>\n",
       "      <th>t1_prob</th>\n",
       "      <th>t2_prob</th>\n",
       "      <th>winner</th>\n",
       "    </tr>\n",
       "  </thead>\n",
       "  <tbody>\n",
       "    <tr>\n",
       "      <th>0</th>\n",
       "      <td>-118</td>\n",
       "      <td>-106</td>\n",
       "      <td>0.470229</td>\n",
       "      <td>0.529771</td>\n",
       "      <td>0</td>\n",
       "    </tr>\n",
       "    <tr>\n",
       "      <th>1</th>\n",
       "      <td>140</td>\n",
       "      <td>-177</td>\n",
       "      <td>0.455726</td>\n",
       "      <td>0.544274</td>\n",
       "      <td>1</td>\n",
       "    </tr>\n",
       "    <tr>\n",
       "      <th>2</th>\n",
       "      <td>-150</td>\n",
       "      <td>120</td>\n",
       "      <td>0.576973</td>\n",
       "      <td>0.423027</td>\n",
       "      <td>0</td>\n",
       "    </tr>\n",
       "    <tr>\n",
       "      <th>3</th>\n",
       "      <td>105</td>\n",
       "      <td>-134</td>\n",
       "      <td>0.520534</td>\n",
       "      <td>0.479466</td>\n",
       "      <td>0</td>\n",
       "    </tr>\n",
       "    <tr>\n",
       "      <th>4</th>\n",
       "      <td>-177</td>\n",
       "      <td>140</td>\n",
       "      <td>0.565079</td>\n",
       "      <td>0.434921</td>\n",
       "      <td>1</td>\n",
       "    </tr>\n",
       "    <tr>\n",
       "      <th>...</th>\n",
       "      <td>...</td>\n",
       "      <td>...</td>\n",
       "      <td>...</td>\n",
       "      <td>...</td>\n",
       "      <td>...</td>\n",
       "    </tr>\n",
       "    <tr>\n",
       "      <th>245</th>\n",
       "      <td>-200</td>\n",
       "      <td>160</td>\n",
       "      <td>0.635440</td>\n",
       "      <td>0.364560</td>\n",
       "      <td>0</td>\n",
       "    </tr>\n",
       "    <tr>\n",
       "      <th>246</th>\n",
       "      <td>-335</td>\n",
       "      <td>250</td>\n",
       "      <td>0.705171</td>\n",
       "      <td>0.294829</td>\n",
       "      <td>0</td>\n",
       "    </tr>\n",
       "    <tr>\n",
       "      <th>247</th>\n",
       "      <td>-155</td>\n",
       "      <td>125</td>\n",
       "      <td>0.596977</td>\n",
       "      <td>0.403023</td>\n",
       "      <td>1</td>\n",
       "    </tr>\n",
       "    <tr>\n",
       "      <th>248</th>\n",
       "      <td>-286</td>\n",
       "      <td>225</td>\n",
       "      <td>0.697258</td>\n",
       "      <td>0.302742</td>\n",
       "      <td>0</td>\n",
       "    </tr>\n",
       "    <tr>\n",
       "      <th>249</th>\n",
       "      <td>-1667</td>\n",
       "      <td>850</td>\n",
       "      <td>0.989744</td>\n",
       "      <td>0.010256</td>\n",
       "      <td>0</td>\n",
       "    </tr>\n",
       "  </tbody>\n",
       "</table>\n",
       "<p>250 rows × 5 columns</p>\n",
       "</div>"
      ],
      "text/plain": [
       "     t1_odds  t2_odds   t1_prob   t2_prob  winner\n",
       "0       -118     -106  0.470229  0.529771       0\n",
       "1        140     -177  0.455726  0.544274       1\n",
       "2       -150      120  0.576973  0.423027       0\n",
       "3        105     -134  0.520534  0.479466       0\n",
       "4       -177      140  0.565079  0.434921       1\n",
       "..       ...      ...       ...       ...     ...\n",
       "245     -200      160  0.635440  0.364560       0\n",
       "246     -335      250  0.705171  0.294829       0\n",
       "247     -155      125  0.596977  0.403023       1\n",
       "248     -286      225  0.697258  0.302742       0\n",
       "249    -1667      850  0.989744  0.010256       0\n",
       "\n",
       "[250 rows x 5 columns]"
      ]
     },
     "metadata": {},
     "output_type": "display_data"
    },
    {
     "name": "stdout",
     "output_type": "stream",
     "text": [
      "\n",
      "          Number of matches: 250\n",
      "          Number of bets: 193\n",
      "          Number of winning bets: 94\n",
      "          Number of losing bets: 99\n",
      "          Number of underdog bets: 149\n",
      "          Number of underdog wins: 63\n",
      "          Number of underdog losses: 86\n",
      "          Number of Favorite bets: 43\n",
      "          Number of favorite wins: 30\n",
      "          Number of favorite losses: 13\n",
      "          Number of even bets: 1\n",
      "          Number of even wins: 1\n",
      "          Number of even losses: 0\n",
      "          Profit: 1751.8798456314714\n",
      "          Profit per bet: 9.077097645758919\n",
      "          Profit per match: 7.007519382525886\n",
      "          \n",
      "          \n"
     ]
    },
    {
     "data": {
      "text/plain": [
       "(3553, 7)"
      ]
     },
     "metadata": {},
     "output_type": "display_data"
    },
    {
     "data": {
      "text/plain": [
       "(3553,)"
      ]
     },
     "metadata": {},
     "output_type": "display_data"
    },
    {
     "data": {
      "text/plain": [
       "(3553, 2)"
      ]
     },
     "metadata": {},
     "output_type": "display_data"
    },
    {
     "data": {
      "text/plain": [
       "(250, 7)"
      ]
     },
     "metadata": {},
     "output_type": "display_data"
    },
    {
     "data": {
      "text/plain": [
       "(250,)"
      ]
     },
     "metadata": {},
     "output_type": "display_data"
    },
    {
     "data": {
      "text/plain": [
       "(250, 2)"
      ]
     },
     "metadata": {},
     "output_type": "display_data"
    },
    {
     "data": {
      "text/html": [
       "<div>\n",
       "<style scoped>\n",
       "    .dataframe tbody tr th:only-of-type {\n",
       "        vertical-align: middle;\n",
       "    }\n",
       "\n",
       "    .dataframe tbody tr th {\n",
       "        vertical-align: top;\n",
       "    }\n",
       "\n",
       "    .dataframe thead th {\n",
       "        text-align: right;\n",
       "    }\n",
       "</style>\n",
       "<table border=\"1\" class=\"dataframe\">\n",
       "  <thead>\n",
       "    <tr style=\"text-align: right;\">\n",
       "      <th></th>\n",
       "      <th>t1_odds</th>\n",
       "      <th>t2_odds</th>\n",
       "      <th>t1_prob</th>\n",
       "      <th>t2_prob</th>\n",
       "      <th>winner</th>\n",
       "    </tr>\n",
       "  </thead>\n",
       "  <tbody>\n",
       "    <tr>\n",
       "      <th>0</th>\n",
       "      <td>-118</td>\n",
       "      <td>-106</td>\n",
       "      <td>0.540154</td>\n",
       "      <td>0.459846</td>\n",
       "      <td>0</td>\n",
       "    </tr>\n",
       "    <tr>\n",
       "      <th>1</th>\n",
       "      <td>140</td>\n",
       "      <td>-177</td>\n",
       "      <td>0.462850</td>\n",
       "      <td>0.537150</td>\n",
       "      <td>1</td>\n",
       "    </tr>\n",
       "    <tr>\n",
       "      <th>2</th>\n",
       "      <td>-150</td>\n",
       "      <td>120</td>\n",
       "      <td>0.636364</td>\n",
       "      <td>0.363636</td>\n",
       "      <td>0</td>\n",
       "    </tr>\n",
       "    <tr>\n",
       "      <th>3</th>\n",
       "      <td>105</td>\n",
       "      <td>-134</td>\n",
       "      <td>0.462850</td>\n",
       "      <td>0.537150</td>\n",
       "      <td>0</td>\n",
       "    </tr>\n",
       "    <tr>\n",
       "      <th>4</th>\n",
       "      <td>-177</td>\n",
       "      <td>140</td>\n",
       "      <td>0.540154</td>\n",
       "      <td>0.459846</td>\n",
       "      <td>1</td>\n",
       "    </tr>\n",
       "    <tr>\n",
       "      <th>...</th>\n",
       "      <td>...</td>\n",
       "      <td>...</td>\n",
       "      <td>...</td>\n",
       "      <td>...</td>\n",
       "      <td>...</td>\n",
       "    </tr>\n",
       "    <tr>\n",
       "      <th>245</th>\n",
       "      <td>-200</td>\n",
       "      <td>160</td>\n",
       "      <td>0.636364</td>\n",
       "      <td>0.363636</td>\n",
       "      <td>0</td>\n",
       "    </tr>\n",
       "    <tr>\n",
       "      <th>246</th>\n",
       "      <td>-335</td>\n",
       "      <td>250</td>\n",
       "      <td>0.757114</td>\n",
       "      <td>0.242886</td>\n",
       "      <td>0</td>\n",
       "    </tr>\n",
       "    <tr>\n",
       "      <th>247</th>\n",
       "      <td>-155</td>\n",
       "      <td>125</td>\n",
       "      <td>0.636364</td>\n",
       "      <td>0.363636</td>\n",
       "      <td>1</td>\n",
       "    </tr>\n",
       "    <tr>\n",
       "      <th>248</th>\n",
       "      <td>-286</td>\n",
       "      <td>225</td>\n",
       "      <td>0.757114</td>\n",
       "      <td>0.242886</td>\n",
       "      <td>0</td>\n",
       "    </tr>\n",
       "    <tr>\n",
       "      <th>249</th>\n",
       "      <td>-1667</td>\n",
       "      <td>850</td>\n",
       "      <td>0.861925</td>\n",
       "      <td>0.138075</td>\n",
       "      <td>0</td>\n",
       "    </tr>\n",
       "  </tbody>\n",
       "</table>\n",
       "<p>250 rows × 5 columns</p>\n",
       "</div>"
      ],
      "text/plain": [
       "     t1_odds  t2_odds   t1_prob   t2_prob  winner\n",
       "0       -118     -106  0.540154  0.459846       0\n",
       "1        140     -177  0.462850  0.537150       1\n",
       "2       -150      120  0.636364  0.363636       0\n",
       "3        105     -134  0.462850  0.537150       0\n",
       "4       -177      140  0.540154  0.459846       1\n",
       "..       ...      ...       ...       ...     ...\n",
       "245     -200      160  0.636364  0.363636       0\n",
       "246     -335      250  0.757114  0.242886       0\n",
       "247     -155      125  0.636364  0.363636       1\n",
       "248     -286      225  0.757114  0.242886       0\n",
       "249    -1667      850  0.861925  0.138075       0\n",
       "\n",
       "[250 rows x 5 columns]"
      ]
     },
     "metadata": {},
     "output_type": "display_data"
    },
    {
     "name": "stdout",
     "output_type": "stream",
     "text": [
      "\n",
      "          Number of matches: 250\n",
      "          Number of bets: 174\n",
      "          Number of winning bets: 91\n",
      "          Number of losing bets: 85\n",
      "          Number of underdog bets: 87\n",
      "          Number of underdog wins: 36\n",
      "          Number of underdog losses: 51\n",
      "          Number of Favorite bets: 85\n",
      "          Number of favorite wins: 54\n",
      "          Number of favorite losses: 31\n",
      "          Number of even bets: 4\n",
      "          Number of even wins: 1\n",
      "          Number of even losses: 3\n",
      "          Profit: 32.397091539861236\n",
      "          Profit per bet: 0.18619018126357031\n",
      "          Profit per match: 0.12958836615944494\n",
      "          \n",
      "          \n"
     ]
    },
    {
     "data": {
      "text/plain": [
       "(3718, 5)"
      ]
     },
     "metadata": {},
     "output_type": "display_data"
    },
    {
     "data": {
      "text/plain": [
       "(3718,)"
      ]
     },
     "metadata": {},
     "output_type": "display_data"
    },
    {
     "data": {
      "text/plain": [
       "(3718, 2)"
      ]
     },
     "metadata": {},
     "output_type": "display_data"
    },
    {
     "data": {
      "text/plain": [
       "(250, 5)"
      ]
     },
     "metadata": {},
     "output_type": "display_data"
    },
    {
     "data": {
      "text/plain": [
       "(250,)"
      ]
     },
     "metadata": {},
     "output_type": "display_data"
    },
    {
     "data": {
      "text/plain": [
       "(250, 2)"
      ]
     },
     "metadata": {},
     "output_type": "display_data"
    },
    {
     "data": {
      "text/html": [
       "<div>\n",
       "<style scoped>\n",
       "    .dataframe tbody tr th:only-of-type {\n",
       "        vertical-align: middle;\n",
       "    }\n",
       "\n",
       "    .dataframe tbody tr th {\n",
       "        vertical-align: top;\n",
       "    }\n",
       "\n",
       "    .dataframe thead th {\n",
       "        text-align: right;\n",
       "    }\n",
       "</style>\n",
       "<table border=\"1\" class=\"dataframe\">\n",
       "  <thead>\n",
       "    <tr style=\"text-align: right;\">\n",
       "      <th></th>\n",
       "      <th>t1_odds</th>\n",
       "      <th>t2_odds</th>\n",
       "      <th>t1_prob</th>\n",
       "      <th>t2_prob</th>\n",
       "      <th>winner</th>\n",
       "    </tr>\n",
       "  </thead>\n",
       "  <tbody>\n",
       "    <tr>\n",
       "      <th>0</th>\n",
       "      <td>-118</td>\n",
       "      <td>-106</td>\n",
       "      <td>0.514088</td>\n",
       "      <td>0.485912</td>\n",
       "      <td>0</td>\n",
       "    </tr>\n",
       "    <tr>\n",
       "      <th>1</th>\n",
       "      <td>140</td>\n",
       "      <td>-177</td>\n",
       "      <td>0.408693</td>\n",
       "      <td>0.591307</td>\n",
       "      <td>1</td>\n",
       "    </tr>\n",
       "    <tr>\n",
       "      <th>2</th>\n",
       "      <td>-150</td>\n",
       "      <td>120</td>\n",
       "      <td>0.477201</td>\n",
       "      <td>0.522799</td>\n",
       "      <td>0</td>\n",
       "    </tr>\n",
       "    <tr>\n",
       "      <th>3</th>\n",
       "      <td>105</td>\n",
       "      <td>-134</td>\n",
       "      <td>0.471013</td>\n",
       "      <td>0.528987</td>\n",
       "      <td>0</td>\n",
       "    </tr>\n",
       "    <tr>\n",
       "      <th>4</th>\n",
       "      <td>-177</td>\n",
       "      <td>140</td>\n",
       "      <td>0.472904</td>\n",
       "      <td>0.527096</td>\n",
       "      <td>1</td>\n",
       "    </tr>\n",
       "    <tr>\n",
       "      <th>...</th>\n",
       "      <td>...</td>\n",
       "      <td>...</td>\n",
       "      <td>...</td>\n",
       "      <td>...</td>\n",
       "      <td>...</td>\n",
       "    </tr>\n",
       "    <tr>\n",
       "      <th>245</th>\n",
       "      <td>-200</td>\n",
       "      <td>160</td>\n",
       "      <td>0.615943</td>\n",
       "      <td>0.384057</td>\n",
       "      <td>0</td>\n",
       "    </tr>\n",
       "    <tr>\n",
       "      <th>246</th>\n",
       "      <td>-335</td>\n",
       "      <td>250</td>\n",
       "      <td>0.728487</td>\n",
       "      <td>0.271513</td>\n",
       "      <td>0</td>\n",
       "    </tr>\n",
       "    <tr>\n",
       "      <th>247</th>\n",
       "      <td>-155</td>\n",
       "      <td>125</td>\n",
       "      <td>0.594698</td>\n",
       "      <td>0.405302</td>\n",
       "      <td>1</td>\n",
       "    </tr>\n",
       "    <tr>\n",
       "      <th>248</th>\n",
       "      <td>-286</td>\n",
       "      <td>225</td>\n",
       "      <td>0.722851</td>\n",
       "      <td>0.277149</td>\n",
       "      <td>0</td>\n",
       "    </tr>\n",
       "    <tr>\n",
       "      <th>249</th>\n",
       "      <td>-1667</td>\n",
       "      <td>850</td>\n",
       "      <td>0.857699</td>\n",
       "      <td>0.142301</td>\n",
       "      <td>0</td>\n",
       "    </tr>\n",
       "  </tbody>\n",
       "</table>\n",
       "<p>250 rows × 5 columns</p>\n",
       "</div>"
      ],
      "text/plain": [
       "     t1_odds  t2_odds   t1_prob   t2_prob  winner\n",
       "0       -118     -106  0.514088  0.485912       0\n",
       "1        140     -177  0.408693  0.591307       1\n",
       "2       -150      120  0.477201  0.522799       0\n",
       "3        105     -134  0.471013  0.528987       0\n",
       "4       -177      140  0.472904  0.527096       1\n",
       "..       ...      ...       ...       ...     ...\n",
       "245     -200      160  0.615943  0.384057       0\n",
       "246     -335      250  0.728487  0.271513       0\n",
       "247     -155      125  0.594698  0.405302       1\n",
       "248     -286      225  0.722851  0.277149       0\n",
       "249    -1667      850  0.857699  0.142301       0\n",
       "\n",
       "[250 rows x 5 columns]"
      ]
     },
     "metadata": {},
     "output_type": "display_data"
    },
    {
     "name": "stdout",
     "output_type": "stream",
     "text": [
      "\n",
      "          Number of matches: 250\n",
      "          Number of bets: 185\n",
      "          Number of winning bets: 87\n",
      "          Number of losing bets: 98\n",
      "          Number of underdog bets: 130\n",
      "          Number of underdog wins: 51\n",
      "          Number of underdog losses: 79\n",
      "          Number of Favorite bets: 52\n",
      "          Number of favorite wins: 36\n",
      "          Number of favorite losses: 16\n",
      "          Number of even bets: 3\n",
      "          Number of even wins: 0\n",
      "          Number of even losses: 3\n",
      "          Profit: -580.852509498543\n",
      "          Profit per bet: -3.1397432945867187\n",
      "          Profit per match: -2.323410037994172\n",
      "          \n",
      "          \n"
     ]
    },
    {
     "data": {
      "text/plain": [
       "(3641, 42)"
      ]
     },
     "metadata": {},
     "output_type": "display_data"
    },
    {
     "data": {
      "text/plain": [
       "(3641,)"
      ]
     },
     "metadata": {},
     "output_type": "display_data"
    },
    {
     "data": {
      "text/plain": [
       "(3641, 2)"
      ]
     },
     "metadata": {},
     "output_type": "display_data"
    },
    {
     "data": {
      "text/plain": [
       "(250, 42)"
      ]
     },
     "metadata": {},
     "output_type": "display_data"
    },
    {
     "data": {
      "text/plain": [
       "(250,)"
      ]
     },
     "metadata": {},
     "output_type": "display_data"
    },
    {
     "data": {
      "text/plain": [
       "(250, 2)"
      ]
     },
     "metadata": {},
     "output_type": "display_data"
    },
    {
     "data": {
      "text/html": [
       "<div>\n",
       "<style scoped>\n",
       "    .dataframe tbody tr th:only-of-type {\n",
       "        vertical-align: middle;\n",
       "    }\n",
       "\n",
       "    .dataframe tbody tr th {\n",
       "        vertical-align: top;\n",
       "    }\n",
       "\n",
       "    .dataframe thead th {\n",
       "        text-align: right;\n",
       "    }\n",
       "</style>\n",
       "<table border=\"1\" class=\"dataframe\">\n",
       "  <thead>\n",
       "    <tr style=\"text-align: right;\">\n",
       "      <th></th>\n",
       "      <th>t1_odds</th>\n",
       "      <th>t2_odds</th>\n",
       "      <th>t1_prob</th>\n",
       "      <th>t2_prob</th>\n",
       "      <th>winner</th>\n",
       "    </tr>\n",
       "  </thead>\n",
       "  <tbody>\n",
       "    <tr>\n",
       "      <th>0</th>\n",
       "      <td>-118</td>\n",
       "      <td>-106</td>\n",
       "      <td>0.554183</td>\n",
       "      <td>0.445817</td>\n",
       "      <td>0</td>\n",
       "    </tr>\n",
       "    <tr>\n",
       "      <th>1</th>\n",
       "      <td>140</td>\n",
       "      <td>-177</td>\n",
       "      <td>0.457327</td>\n",
       "      <td>0.542673</td>\n",
       "      <td>1</td>\n",
       "    </tr>\n",
       "    <tr>\n",
       "      <th>2</th>\n",
       "      <td>-150</td>\n",
       "      <td>120</td>\n",
       "      <td>0.572788</td>\n",
       "      <td>0.427212</td>\n",
       "      <td>0</td>\n",
       "    </tr>\n",
       "    <tr>\n",
       "      <th>3</th>\n",
       "      <td>105</td>\n",
       "      <td>-134</td>\n",
       "      <td>0.385875</td>\n",
       "      <td>0.614125</td>\n",
       "      <td>0</td>\n",
       "    </tr>\n",
       "    <tr>\n",
       "      <th>4</th>\n",
       "      <td>-177</td>\n",
       "      <td>140</td>\n",
       "      <td>0.584745</td>\n",
       "      <td>0.415255</td>\n",
       "      <td>1</td>\n",
       "    </tr>\n",
       "    <tr>\n",
       "      <th>...</th>\n",
       "      <td>...</td>\n",
       "      <td>...</td>\n",
       "      <td>...</td>\n",
       "      <td>...</td>\n",
       "      <td>...</td>\n",
       "    </tr>\n",
       "    <tr>\n",
       "      <th>245</th>\n",
       "      <td>-200</td>\n",
       "      <td>160</td>\n",
       "      <td>0.757590</td>\n",
       "      <td>0.242410</td>\n",
       "      <td>0</td>\n",
       "    </tr>\n",
       "    <tr>\n",
       "      <th>246</th>\n",
       "      <td>-335</td>\n",
       "      <td>250</td>\n",
       "      <td>0.829059</td>\n",
       "      <td>0.170941</td>\n",
       "      <td>0</td>\n",
       "    </tr>\n",
       "    <tr>\n",
       "      <th>247</th>\n",
       "      <td>-155</td>\n",
       "      <td>125</td>\n",
       "      <td>0.614304</td>\n",
       "      <td>0.385696</td>\n",
       "      <td>1</td>\n",
       "    </tr>\n",
       "    <tr>\n",
       "      <th>248</th>\n",
       "      <td>-286</td>\n",
       "      <td>225</td>\n",
       "      <td>0.764764</td>\n",
       "      <td>0.235236</td>\n",
       "      <td>0</td>\n",
       "    </tr>\n",
       "    <tr>\n",
       "      <th>249</th>\n",
       "      <td>-1667</td>\n",
       "      <td>850</td>\n",
       "      <td>0.892225</td>\n",
       "      <td>0.107775</td>\n",
       "      <td>0</td>\n",
       "    </tr>\n",
       "  </tbody>\n",
       "</table>\n",
       "<p>250 rows × 5 columns</p>\n",
       "</div>"
      ],
      "text/plain": [
       "     t1_odds  t2_odds   t1_prob   t2_prob  winner\n",
       "0       -118     -106  0.554183  0.445817       0\n",
       "1        140     -177  0.457327  0.542673       1\n",
       "2       -150      120  0.572788  0.427212       0\n",
       "3        105     -134  0.385875  0.614125       0\n",
       "4       -177      140  0.584745  0.415255       1\n",
       "..       ...      ...       ...       ...     ...\n",
       "245     -200      160  0.757590  0.242410       0\n",
       "246     -335      250  0.829059  0.170941       0\n",
       "247     -155      125  0.614304  0.385696       1\n",
       "248     -286      225  0.764764  0.235236       0\n",
       "249    -1667      850  0.892225  0.107775       0\n",
       "\n",
       "[250 rows x 5 columns]"
      ]
     },
     "metadata": {},
     "output_type": "display_data"
    },
    {
     "name": "stdout",
     "output_type": "stream",
     "text": [
      "\n",
      "          Number of matches: 250\n",
      "          Number of bets: 212\n",
      "          Number of winning bets: 111\n",
      "          Number of losing bets: 101\n",
      "          Number of underdog bets: 107\n",
      "          Number of underdog wins: 45\n",
      "          Number of underdog losses: 62\n",
      "          Number of Favorite bets: 101\n",
      "          Number of favorite wins: 64\n",
      "          Number of favorite losses: 37\n",
      "          Number of even bets: 4\n",
      "          Number of even wins: 2\n",
      "          Number of even losses: 2\n",
      "          Profit: -364.5488554206099\n",
      "          Profit per bet: -1.719570072738726\n",
      "          Profit per match: -1.4581954216824398\n",
      "          \n",
      "          \n"
     ]
    },
    {
     "data": {
      "text/plain": [
       "(4126, 17)"
      ]
     },
     "metadata": {},
     "output_type": "display_data"
    },
    {
     "data": {
      "text/plain": [
       "(4126,)"
      ]
     },
     "metadata": {},
     "output_type": "display_data"
    },
    {
     "data": {
      "text/plain": [
       "(4126, 2)"
      ]
     },
     "metadata": {},
     "output_type": "display_data"
    },
    {
     "data": {
      "text/plain": [
       "(248, 17)"
      ]
     },
     "metadata": {},
     "output_type": "display_data"
    },
    {
     "data": {
      "text/plain": [
       "(248,)"
      ]
     },
     "metadata": {},
     "output_type": "display_data"
    },
    {
     "data": {
      "text/plain": [
       "(248, 2)"
      ]
     },
     "metadata": {},
     "output_type": "display_data"
    },
    {
     "data": {
      "text/html": [
       "<div>\n",
       "<style scoped>\n",
       "    .dataframe tbody tr th:only-of-type {\n",
       "        vertical-align: middle;\n",
       "    }\n",
       "\n",
       "    .dataframe tbody tr th {\n",
       "        vertical-align: top;\n",
       "    }\n",
       "\n",
       "    .dataframe thead th {\n",
       "        text-align: right;\n",
       "    }\n",
       "</style>\n",
       "<table border=\"1\" class=\"dataframe\">\n",
       "  <thead>\n",
       "    <tr style=\"text-align: right;\">\n",
       "      <th></th>\n",
       "      <th>t1_odds</th>\n",
       "      <th>t2_odds</th>\n",
       "      <th>t1_prob</th>\n",
       "      <th>t2_prob</th>\n",
       "      <th>winner</th>\n",
       "    </tr>\n",
       "  </thead>\n",
       "  <tbody>\n",
       "    <tr>\n",
       "      <th>0</th>\n",
       "      <td>-118</td>\n",
       "      <td>-106</td>\n",
       "      <td>0.955894</td>\n",
       "      <td>0.044106</td>\n",
       "      <td>0</td>\n",
       "    </tr>\n",
       "    <tr>\n",
       "      <th>1</th>\n",
       "      <td>140</td>\n",
       "      <td>-177</td>\n",
       "      <td>0.922696</td>\n",
       "      <td>0.077304</td>\n",
       "      <td>1</td>\n",
       "    </tr>\n",
       "    <tr>\n",
       "      <th>2</th>\n",
       "      <td>-150</td>\n",
       "      <td>120</td>\n",
       "      <td>0.980497</td>\n",
       "      <td>0.019503</td>\n",
       "      <td>0</td>\n",
       "    </tr>\n",
       "    <tr>\n",
       "      <th>3</th>\n",
       "      <td>105</td>\n",
       "      <td>-134</td>\n",
       "      <td>0.903876</td>\n",
       "      <td>0.096124</td>\n",
       "      <td>0</td>\n",
       "    </tr>\n",
       "    <tr>\n",
       "      <th>4</th>\n",
       "      <td>-177</td>\n",
       "      <td>140</td>\n",
       "      <td>0.953236</td>\n",
       "      <td>0.046764</td>\n",
       "      <td>1</td>\n",
       "    </tr>\n",
       "    <tr>\n",
       "      <th>...</th>\n",
       "      <td>...</td>\n",
       "      <td>...</td>\n",
       "      <td>...</td>\n",
       "      <td>...</td>\n",
       "      <td>...</td>\n",
       "    </tr>\n",
       "    <tr>\n",
       "      <th>243</th>\n",
       "      <td>-200</td>\n",
       "      <td>160</td>\n",
       "      <td>0.979490</td>\n",
       "      <td>0.020510</td>\n",
       "      <td>0</td>\n",
       "    </tr>\n",
       "    <tr>\n",
       "      <th>244</th>\n",
       "      <td>-335</td>\n",
       "      <td>250</td>\n",
       "      <td>0.865450</td>\n",
       "      <td>0.134550</td>\n",
       "      <td>0</td>\n",
       "    </tr>\n",
       "    <tr>\n",
       "      <th>245</th>\n",
       "      <td>-155</td>\n",
       "      <td>125</td>\n",
       "      <td>0.952365</td>\n",
       "      <td>0.047635</td>\n",
       "      <td>1</td>\n",
       "    </tr>\n",
       "    <tr>\n",
       "      <th>246</th>\n",
       "      <td>-286</td>\n",
       "      <td>225</td>\n",
       "      <td>0.959248</td>\n",
       "      <td>0.040752</td>\n",
       "      <td>0</td>\n",
       "    </tr>\n",
       "    <tr>\n",
       "      <th>247</th>\n",
       "      <td>-1667</td>\n",
       "      <td>850</td>\n",
       "      <td>0.958977</td>\n",
       "      <td>0.041023</td>\n",
       "      <td>0</td>\n",
       "    </tr>\n",
       "  </tbody>\n",
       "</table>\n",
       "<p>248 rows × 5 columns</p>\n",
       "</div>"
      ],
      "text/plain": [
       "     t1_odds  t2_odds   t1_prob   t2_prob  winner\n",
       "0       -118     -106  0.955894  0.044106       0\n",
       "1        140     -177  0.922696  0.077304       1\n",
       "2       -150      120  0.980497  0.019503       0\n",
       "3        105     -134  0.903876  0.096124       0\n",
       "4       -177      140  0.953236  0.046764       1\n",
       "..       ...      ...       ...       ...     ...\n",
       "243     -200      160  0.979490  0.020510       0\n",
       "244     -335      250  0.865450  0.134550       0\n",
       "245     -155      125  0.952365  0.047635       1\n",
       "246     -286      225  0.959248  0.040752       0\n",
       "247    -1667      850  0.958977  0.041023       0\n",
       "\n",
       "[248 rows x 5 columns]"
      ]
     },
     "metadata": {},
     "output_type": "display_data"
    },
    {
     "name": "stdout",
     "output_type": "stream",
     "text": [
      "\n",
      "          Number of matches: 248\n",
      "          Number of bets: 248\n",
      "          Number of winning bets: 137\n",
      "          Number of losing bets: 111\n",
      "          Number of underdog bets: 100\n",
      "          Number of underdog wins: 45\n",
      "          Number of underdog losses: 55\n",
      "          Number of Favorite bets: 144\n",
      "          Number of favorite wins: 91\n",
      "          Number of favorite losses: 53\n",
      "          Number of even bets: 4\n",
      "          Number of even wins: 1\n",
      "          Number of even losses: 3\n",
      "          Profit: -28.17016060750852\n",
      "          Profit per bet: -0.11358935728834081\n",
      "          Profit per match: -0.11358935728834081\n",
      "          \n",
      "          \n"
     ]
    },
    {
     "data": {
      "text/plain": [
       "(4483, 10)"
      ]
     },
     "metadata": {},
     "output_type": "display_data"
    },
    {
     "data": {
      "text/plain": [
       "(4483,)"
      ]
     },
     "metadata": {},
     "output_type": "display_data"
    },
    {
     "data": {
      "text/plain": [
       "(4483, 2)"
      ]
     },
     "metadata": {},
     "output_type": "display_data"
    },
    {
     "data": {
      "text/plain": [
       "(250, 10)"
      ]
     },
     "metadata": {},
     "output_type": "display_data"
    },
    {
     "data": {
      "text/plain": [
       "(250,)"
      ]
     },
     "metadata": {},
     "output_type": "display_data"
    },
    {
     "data": {
      "text/plain": [
       "(250, 2)"
      ]
     },
     "metadata": {},
     "output_type": "display_data"
    },
    {
     "data": {
      "text/html": [
       "<div>\n",
       "<style scoped>\n",
       "    .dataframe tbody tr th:only-of-type {\n",
       "        vertical-align: middle;\n",
       "    }\n",
       "\n",
       "    .dataframe tbody tr th {\n",
       "        vertical-align: top;\n",
       "    }\n",
       "\n",
       "    .dataframe thead th {\n",
       "        text-align: right;\n",
       "    }\n",
       "</style>\n",
       "<table border=\"1\" class=\"dataframe\">\n",
       "  <thead>\n",
       "    <tr style=\"text-align: right;\">\n",
       "      <th></th>\n",
       "      <th>t1_odds</th>\n",
       "      <th>t2_odds</th>\n",
       "      <th>t1_prob</th>\n",
       "      <th>t2_prob</th>\n",
       "      <th>winner</th>\n",
       "    </tr>\n",
       "  </thead>\n",
       "  <tbody>\n",
       "    <tr>\n",
       "      <th>0</th>\n",
       "      <td>-118</td>\n",
       "      <td>-106</td>\n",
       "      <td>0.526097</td>\n",
       "      <td>0.473903</td>\n",
       "      <td>0</td>\n",
       "    </tr>\n",
       "    <tr>\n",
       "      <th>1</th>\n",
       "      <td>140</td>\n",
       "      <td>-177</td>\n",
       "      <td>0.451930</td>\n",
       "      <td>0.548070</td>\n",
       "      <td>1</td>\n",
       "    </tr>\n",
       "    <tr>\n",
       "      <th>2</th>\n",
       "      <td>-150</td>\n",
       "      <td>120</td>\n",
       "      <td>0.575928</td>\n",
       "      <td>0.424072</td>\n",
       "      <td>0</td>\n",
       "    </tr>\n",
       "    <tr>\n",
       "      <th>3</th>\n",
       "      <td>105</td>\n",
       "      <td>-134</td>\n",
       "      <td>0.507521</td>\n",
       "      <td>0.492479</td>\n",
       "      <td>0</td>\n",
       "    </tr>\n",
       "    <tr>\n",
       "      <th>4</th>\n",
       "      <td>-177</td>\n",
       "      <td>140</td>\n",
       "      <td>0.605105</td>\n",
       "      <td>0.394895</td>\n",
       "      <td>1</td>\n",
       "    </tr>\n",
       "    <tr>\n",
       "      <th>...</th>\n",
       "      <td>...</td>\n",
       "      <td>...</td>\n",
       "      <td>...</td>\n",
       "      <td>...</td>\n",
       "      <td>...</td>\n",
       "    </tr>\n",
       "    <tr>\n",
       "      <th>245</th>\n",
       "      <td>-200</td>\n",
       "      <td>160</td>\n",
       "      <td>0.625847</td>\n",
       "      <td>0.374153</td>\n",
       "      <td>0</td>\n",
       "    </tr>\n",
       "    <tr>\n",
       "      <th>246</th>\n",
       "      <td>-335</td>\n",
       "      <td>250</td>\n",
       "      <td>0.734210</td>\n",
       "      <td>0.265790</td>\n",
       "      <td>0</td>\n",
       "    </tr>\n",
       "    <tr>\n",
       "      <th>247</th>\n",
       "      <td>-155</td>\n",
       "      <td>125</td>\n",
       "      <td>0.577270</td>\n",
       "      <td>0.422730</td>\n",
       "      <td>1</td>\n",
       "    </tr>\n",
       "    <tr>\n",
       "      <th>248</th>\n",
       "      <td>-286</td>\n",
       "      <td>225</td>\n",
       "      <td>0.707944</td>\n",
       "      <td>0.292056</td>\n",
       "      <td>0</td>\n",
       "    </tr>\n",
       "    <tr>\n",
       "      <th>249</th>\n",
       "      <td>-1667</td>\n",
       "      <td>850</td>\n",
       "      <td>0.960712</td>\n",
       "      <td>0.039288</td>\n",
       "      <td>0</td>\n",
       "    </tr>\n",
       "  </tbody>\n",
       "</table>\n",
       "<p>250 rows × 5 columns</p>\n",
       "</div>"
      ],
      "text/plain": [
       "     t1_odds  t2_odds   t1_prob   t2_prob  winner\n",
       "0       -118     -106  0.526097  0.473903       0\n",
       "1        140     -177  0.451930  0.548070       1\n",
       "2       -150      120  0.575928  0.424072       0\n",
       "3        105     -134  0.507521  0.492479       0\n",
       "4       -177      140  0.605105  0.394895       1\n",
       "..       ...      ...       ...       ...     ...\n",
       "245     -200      160  0.625847  0.374153       0\n",
       "246     -335      250  0.734210  0.265790       0\n",
       "247     -155      125  0.577270  0.422730       1\n",
       "248     -286      225  0.707944  0.292056       0\n",
       "249    -1667      850  0.960712  0.039288       0\n",
       "\n",
       "[250 rows x 5 columns]"
      ]
     },
     "metadata": {},
     "output_type": "display_data"
    },
    {
     "name": "stdout",
     "output_type": "stream",
     "text": [
      "\n",
      "          Number of matches: 250\n",
      "          Number of bets: 102\n",
      "          Number of winning bets: 54\n",
      "          Number of losing bets: 49\n",
      "          Number of underdog bets: 89\n",
      "          Number of underdog wins: 42\n",
      "          Number of underdog losses: 47\n",
      "          Number of Favorite bets: 14\n",
      "          Number of favorite wins: 12\n",
      "          Number of favorite losses: 2\n",
      "          Number of even bets: 0\n",
      "          Number of even wins: 0\n",
      "          Number of even losses: 0\n",
      "          Profit: 1650.1583341762712\n",
      "          Profit per bet: 16.17802288408109\n",
      "          Profit per match: 6.6006333367050845\n",
      "          \n",
      "          \n"
     ]
    },
    {
     "data": {
      "text/plain": [
       "(3651, 14)"
      ]
     },
     "metadata": {},
     "output_type": "display_data"
    },
    {
     "data": {
      "text/plain": [
       "(3651,)"
      ]
     },
     "metadata": {},
     "output_type": "display_data"
    },
    {
     "data": {
      "text/plain": [
       "(3651, 2)"
      ]
     },
     "metadata": {},
     "output_type": "display_data"
    },
    {
     "data": {
      "text/plain": [
       "(250, 14)"
      ]
     },
     "metadata": {},
     "output_type": "display_data"
    },
    {
     "data": {
      "text/plain": [
       "(250,)"
      ]
     },
     "metadata": {},
     "output_type": "display_data"
    },
    {
     "data": {
      "text/plain": [
       "(250, 2)"
      ]
     },
     "metadata": {},
     "output_type": "display_data"
    },
    {
     "data": {
      "text/html": [
       "<div>\n",
       "<style scoped>\n",
       "    .dataframe tbody tr th:only-of-type {\n",
       "        vertical-align: middle;\n",
       "    }\n",
       "\n",
       "    .dataframe tbody tr th {\n",
       "        vertical-align: top;\n",
       "    }\n",
       "\n",
       "    .dataframe thead th {\n",
       "        text-align: right;\n",
       "    }\n",
       "</style>\n",
       "<table border=\"1\" class=\"dataframe\">\n",
       "  <thead>\n",
       "    <tr style=\"text-align: right;\">\n",
       "      <th></th>\n",
       "      <th>t1_odds</th>\n",
       "      <th>t2_odds</th>\n",
       "      <th>t1_prob</th>\n",
       "      <th>t2_prob</th>\n",
       "      <th>winner</th>\n",
       "    </tr>\n",
       "  </thead>\n",
       "  <tbody>\n",
       "    <tr>\n",
       "      <th>0</th>\n",
       "      <td>-118</td>\n",
       "      <td>-106</td>\n",
       "      <td>0.714485</td>\n",
       "      <td>0.285515</td>\n",
       "      <td>0</td>\n",
       "    </tr>\n",
       "    <tr>\n",
       "      <th>1</th>\n",
       "      <td>140</td>\n",
       "      <td>-177</td>\n",
       "      <td>0.405378</td>\n",
       "      <td>0.594622</td>\n",
       "      <td>1</td>\n",
       "    </tr>\n",
       "    <tr>\n",
       "      <th>2</th>\n",
       "      <td>-150</td>\n",
       "      <td>120</td>\n",
       "      <td>0.730358</td>\n",
       "      <td>0.269642</td>\n",
       "      <td>0</td>\n",
       "    </tr>\n",
       "    <tr>\n",
       "      <th>3</th>\n",
       "      <td>105</td>\n",
       "      <td>-134</td>\n",
       "      <td>0.447249</td>\n",
       "      <td>0.552751</td>\n",
       "      <td>0</td>\n",
       "    </tr>\n",
       "    <tr>\n",
       "      <th>4</th>\n",
       "      <td>-177</td>\n",
       "      <td>140</td>\n",
       "      <td>0.615058</td>\n",
       "      <td>0.384942</td>\n",
       "      <td>1</td>\n",
       "    </tr>\n",
       "    <tr>\n",
       "      <th>...</th>\n",
       "      <td>...</td>\n",
       "      <td>...</td>\n",
       "      <td>...</td>\n",
       "      <td>...</td>\n",
       "      <td>...</td>\n",
       "    </tr>\n",
       "    <tr>\n",
       "      <th>245</th>\n",
       "      <td>-200</td>\n",
       "      <td>160</td>\n",
       "      <td>0.854031</td>\n",
       "      <td>0.145969</td>\n",
       "      <td>0</td>\n",
       "    </tr>\n",
       "    <tr>\n",
       "      <th>246</th>\n",
       "      <td>-335</td>\n",
       "      <td>250</td>\n",
       "      <td>0.787112</td>\n",
       "      <td>0.212888</td>\n",
       "      <td>0</td>\n",
       "    </tr>\n",
       "    <tr>\n",
       "      <th>247</th>\n",
       "      <td>-155</td>\n",
       "      <td>125</td>\n",
       "      <td>0.787331</td>\n",
       "      <td>0.212669</td>\n",
       "      <td>1</td>\n",
       "    </tr>\n",
       "    <tr>\n",
       "      <th>248</th>\n",
       "      <td>-286</td>\n",
       "      <td>225</td>\n",
       "      <td>0.724869</td>\n",
       "      <td>0.275131</td>\n",
       "      <td>0</td>\n",
       "    </tr>\n",
       "    <tr>\n",
       "      <th>249</th>\n",
       "      <td>-1667</td>\n",
       "      <td>850</td>\n",
       "      <td>0.999951</td>\n",
       "      <td>0.000049</td>\n",
       "      <td>0</td>\n",
       "    </tr>\n",
       "  </tbody>\n",
       "</table>\n",
       "<p>250 rows × 5 columns</p>\n",
       "</div>"
      ],
      "text/plain": [
       "     t1_odds  t2_odds   t1_prob   t2_prob  winner\n",
       "0       -118     -106  0.714485  0.285515       0\n",
       "1        140     -177  0.405378  0.594622       1\n",
       "2       -150      120  0.730358  0.269642       0\n",
       "3        105     -134  0.447249  0.552751       0\n",
       "4       -177      140  0.615058  0.384942       1\n",
       "..       ...      ...       ...       ...     ...\n",
       "245     -200      160  0.854031  0.145969       0\n",
       "246     -335      250  0.787112  0.212888       0\n",
       "247     -155      125  0.787331  0.212669       1\n",
       "248     -286      225  0.724869  0.275131       0\n",
       "249    -1667      850  0.999951  0.000049       0\n",
       "\n",
       "[250 rows x 5 columns]"
      ]
     },
     "metadata": {},
     "output_type": "display_data"
    },
    {
     "name": "stdout",
     "output_type": "stream",
     "text": [
      "\n",
      "          Number of matches: 250\n",
      "          Number of bets: 233\n",
      "          Number of winning bets: 126\n",
      "          Number of losing bets: 107\n",
      "          Number of underdog bets: 102\n",
      "          Number of underdog wins: 45\n",
      "          Number of underdog losses: 57\n",
      "          Number of Favorite bets: 127\n",
      "          Number of favorite wins: 80\n",
      "          Number of favorite losses: 47\n",
      "          Number of even bets: 4\n",
      "          Number of even wins: 1\n",
      "          Number of even losses: 3\n",
      "          Profit: 468.0115554029955\n",
      "          Profit per bet: 2.008633284991397\n",
      "          Profit per match: 1.872046221611982\n",
      "          \n",
      "          \n"
     ]
    },
    {
     "data": {
      "text/plain": [
       "(3651, 18)"
      ]
     },
     "metadata": {},
     "output_type": "display_data"
    },
    {
     "data": {
      "text/plain": [
       "(3651,)"
      ]
     },
     "metadata": {},
     "output_type": "display_data"
    },
    {
     "data": {
      "text/plain": [
       "(3651, 2)"
      ]
     },
     "metadata": {},
     "output_type": "display_data"
    },
    {
     "data": {
      "text/plain": [
       "(250, 18)"
      ]
     },
     "metadata": {},
     "output_type": "display_data"
    },
    {
     "data": {
      "text/plain": [
       "(250,)"
      ]
     },
     "metadata": {},
     "output_type": "display_data"
    },
    {
     "data": {
      "text/plain": [
       "(250, 2)"
      ]
     },
     "metadata": {},
     "output_type": "display_data"
    },
    {
     "data": {
      "text/html": [
       "<div>\n",
       "<style scoped>\n",
       "    .dataframe tbody tr th:only-of-type {\n",
       "        vertical-align: middle;\n",
       "    }\n",
       "\n",
       "    .dataframe tbody tr th {\n",
       "        vertical-align: top;\n",
       "    }\n",
       "\n",
       "    .dataframe thead th {\n",
       "        text-align: right;\n",
       "    }\n",
       "</style>\n",
       "<table border=\"1\" class=\"dataframe\">\n",
       "  <thead>\n",
       "    <tr style=\"text-align: right;\">\n",
       "      <th></th>\n",
       "      <th>t1_odds</th>\n",
       "      <th>t2_odds</th>\n",
       "      <th>t1_prob</th>\n",
       "      <th>t2_prob</th>\n",
       "      <th>winner</th>\n",
       "    </tr>\n",
       "  </thead>\n",
       "  <tbody>\n",
       "    <tr>\n",
       "      <th>0</th>\n",
       "      <td>-118</td>\n",
       "      <td>-106</td>\n",
       "      <td>0.617577</td>\n",
       "      <td>0.382423</td>\n",
       "      <td>0</td>\n",
       "    </tr>\n",
       "    <tr>\n",
       "      <th>1</th>\n",
       "      <td>140</td>\n",
       "      <td>-177</td>\n",
       "      <td>0.276416</td>\n",
       "      <td>0.723584</td>\n",
       "      <td>1</td>\n",
       "    </tr>\n",
       "    <tr>\n",
       "      <th>2</th>\n",
       "      <td>-150</td>\n",
       "      <td>120</td>\n",
       "      <td>0.827368</td>\n",
       "      <td>0.172632</td>\n",
       "      <td>0</td>\n",
       "    </tr>\n",
       "    <tr>\n",
       "      <th>3</th>\n",
       "      <td>105</td>\n",
       "      <td>-134</td>\n",
       "      <td>0.481499</td>\n",
       "      <td>0.518501</td>\n",
       "      <td>0</td>\n",
       "    </tr>\n",
       "    <tr>\n",
       "      <th>4</th>\n",
       "      <td>-177</td>\n",
       "      <td>140</td>\n",
       "      <td>0.485781</td>\n",
       "      <td>0.514219</td>\n",
       "      <td>1</td>\n",
       "    </tr>\n",
       "    <tr>\n",
       "      <th>...</th>\n",
       "      <td>...</td>\n",
       "      <td>...</td>\n",
       "      <td>...</td>\n",
       "      <td>...</td>\n",
       "      <td>...</td>\n",
       "    </tr>\n",
       "    <tr>\n",
       "      <th>245</th>\n",
       "      <td>-200</td>\n",
       "      <td>160</td>\n",
       "      <td>0.913541</td>\n",
       "      <td>0.086459</td>\n",
       "      <td>0</td>\n",
       "    </tr>\n",
       "    <tr>\n",
       "      <th>246</th>\n",
       "      <td>-335</td>\n",
       "      <td>250</td>\n",
       "      <td>0.770906</td>\n",
       "      <td>0.229094</td>\n",
       "      <td>0</td>\n",
       "    </tr>\n",
       "    <tr>\n",
       "      <th>247</th>\n",
       "      <td>-155</td>\n",
       "      <td>125</td>\n",
       "      <td>0.738343</td>\n",
       "      <td>0.261657</td>\n",
       "      <td>1</td>\n",
       "    </tr>\n",
       "    <tr>\n",
       "      <th>248</th>\n",
       "      <td>-286</td>\n",
       "      <td>225</td>\n",
       "      <td>0.772763</td>\n",
       "      <td>0.227237</td>\n",
       "      <td>0</td>\n",
       "    </tr>\n",
       "    <tr>\n",
       "      <th>249</th>\n",
       "      <td>-1667</td>\n",
       "      <td>850</td>\n",
       "      <td>0.999950</td>\n",
       "      <td>0.000050</td>\n",
       "      <td>0</td>\n",
       "    </tr>\n",
       "  </tbody>\n",
       "</table>\n",
       "<p>250 rows × 5 columns</p>\n",
       "</div>"
      ],
      "text/plain": [
       "     t1_odds  t2_odds   t1_prob   t2_prob  winner\n",
       "0       -118     -106  0.617577  0.382423       0\n",
       "1        140     -177  0.276416  0.723584       1\n",
       "2       -150      120  0.827368  0.172632       0\n",
       "3        105     -134  0.481499  0.518501       0\n",
       "4       -177      140  0.485781  0.514219       1\n",
       "..       ...      ...       ...       ...     ...\n",
       "245     -200      160  0.913541  0.086459       0\n",
       "246     -335      250  0.770906  0.229094       0\n",
       "247     -155      125  0.738343  0.261657       1\n",
       "248     -286      225  0.772763  0.227237       0\n",
       "249    -1667      850  0.999950  0.000050       0\n",
       "\n",
       "[250 rows x 5 columns]"
      ]
     },
     "metadata": {},
     "output_type": "display_data"
    },
    {
     "name": "stdout",
     "output_type": "stream",
     "text": [
      "\n",
      "          Number of matches: 250\n",
      "          Number of bets: 228\n",
      "          Number of winning bets: 131\n",
      "          Number of losing bets: 98\n",
      "          Number of underdog bets: 107\n",
      "          Number of underdog wins: 50\n",
      "          Number of underdog losses: 57\n",
      "          Number of Favorite bets: 118\n",
      "          Number of favorite wins: 80\n",
      "          Number of favorite losses: 38\n",
      "          Number of even bets: 4\n",
      "          Number of even wins: 1\n",
      "          Number of even losses: 3\n",
      "          Profit: 2570.446418422199\n",
      "          Profit per bet: 11.273887800097363\n",
      "          Profit per match: 10.281785673688795\n",
      "          \n",
      "          \n"
     ]
    },
    {
     "data": {
      "text/plain": [
       "(4483, 172)"
      ]
     },
     "metadata": {},
     "output_type": "display_data"
    },
    {
     "data": {
      "text/plain": [
       "(4483,)"
      ]
     },
     "metadata": {},
     "output_type": "display_data"
    },
    {
     "data": {
      "text/plain": [
       "(4483, 2)"
      ]
     },
     "metadata": {},
     "output_type": "display_data"
    },
    {
     "data": {
      "text/plain": [
       "(250, 172)"
      ]
     },
     "metadata": {},
     "output_type": "display_data"
    },
    {
     "data": {
      "text/plain": [
       "(250,)"
      ]
     },
     "metadata": {},
     "output_type": "display_data"
    },
    {
     "data": {
      "text/plain": [
       "(250, 2)"
      ]
     },
     "metadata": {},
     "output_type": "display_data"
    },
    {
     "data": {
      "text/html": [
       "<div>\n",
       "<style scoped>\n",
       "    .dataframe tbody tr th:only-of-type {\n",
       "        vertical-align: middle;\n",
       "    }\n",
       "\n",
       "    .dataframe tbody tr th {\n",
       "        vertical-align: top;\n",
       "    }\n",
       "\n",
       "    .dataframe thead th {\n",
       "        text-align: right;\n",
       "    }\n",
       "</style>\n",
       "<table border=\"1\" class=\"dataframe\">\n",
       "  <thead>\n",
       "    <tr style=\"text-align: right;\">\n",
       "      <th></th>\n",
       "      <th>t1_odds</th>\n",
       "      <th>t2_odds</th>\n",
       "      <th>t1_prob</th>\n",
       "      <th>t2_prob</th>\n",
       "      <th>winner</th>\n",
       "    </tr>\n",
       "  </thead>\n",
       "  <tbody>\n",
       "    <tr>\n",
       "      <th>0</th>\n",
       "      <td>-118</td>\n",
       "      <td>-106</td>\n",
       "      <td>0.508159</td>\n",
       "      <td>0.491841</td>\n",
       "      <td>0</td>\n",
       "    </tr>\n",
       "    <tr>\n",
       "      <th>1</th>\n",
       "      <td>140</td>\n",
       "      <td>-177</td>\n",
       "      <td>0.391985</td>\n",
       "      <td>0.608015</td>\n",
       "      <td>1</td>\n",
       "    </tr>\n",
       "    <tr>\n",
       "      <th>2</th>\n",
       "      <td>-150</td>\n",
       "      <td>120</td>\n",
       "      <td>0.473919</td>\n",
       "      <td>0.526081</td>\n",
       "      <td>0</td>\n",
       "    </tr>\n",
       "    <tr>\n",
       "      <th>3</th>\n",
       "      <td>105</td>\n",
       "      <td>-134</td>\n",
       "      <td>0.484070</td>\n",
       "      <td>0.515930</td>\n",
       "      <td>0</td>\n",
       "    </tr>\n",
       "    <tr>\n",
       "      <th>4</th>\n",
       "      <td>-177</td>\n",
       "      <td>140</td>\n",
       "      <td>0.617944</td>\n",
       "      <td>0.382056</td>\n",
       "      <td>1</td>\n",
       "    </tr>\n",
       "    <tr>\n",
       "      <th>...</th>\n",
       "      <td>...</td>\n",
       "      <td>...</td>\n",
       "      <td>...</td>\n",
       "      <td>...</td>\n",
       "      <td>...</td>\n",
       "    </tr>\n",
       "    <tr>\n",
       "      <th>245</th>\n",
       "      <td>-200</td>\n",
       "      <td>160</td>\n",
       "      <td>0.711195</td>\n",
       "      <td>0.288805</td>\n",
       "      <td>0</td>\n",
       "    </tr>\n",
       "    <tr>\n",
       "      <th>246</th>\n",
       "      <td>-335</td>\n",
       "      <td>250</td>\n",
       "      <td>0.831159</td>\n",
       "      <td>0.168841</td>\n",
       "      <td>0</td>\n",
       "    </tr>\n",
       "    <tr>\n",
       "      <th>247</th>\n",
       "      <td>-155</td>\n",
       "      <td>125</td>\n",
       "      <td>0.564640</td>\n",
       "      <td>0.435360</td>\n",
       "      <td>1</td>\n",
       "    </tr>\n",
       "    <tr>\n",
       "      <th>248</th>\n",
       "      <td>-286</td>\n",
       "      <td>225</td>\n",
       "      <td>0.718092</td>\n",
       "      <td>0.281908</td>\n",
       "      <td>0</td>\n",
       "    </tr>\n",
       "    <tr>\n",
       "      <th>249</th>\n",
       "      <td>-1667</td>\n",
       "      <td>850</td>\n",
       "      <td>0.886705</td>\n",
       "      <td>0.113295</td>\n",
       "      <td>0</td>\n",
       "    </tr>\n",
       "  </tbody>\n",
       "</table>\n",
       "<p>250 rows × 5 columns</p>\n",
       "</div>"
      ],
      "text/plain": [
       "     t1_odds  t2_odds   t1_prob   t2_prob  winner\n",
       "0       -118     -106  0.508159  0.491841       0\n",
       "1        140     -177  0.391985  0.608015       1\n",
       "2       -150      120  0.473919  0.526081       0\n",
       "3        105     -134  0.484070  0.515930       0\n",
       "4       -177      140  0.617944  0.382056       1\n",
       "..       ...      ...       ...       ...     ...\n",
       "245     -200      160  0.711195  0.288805       0\n",
       "246     -335      250  0.831159  0.168841       0\n",
       "247     -155      125  0.564640  0.435360       1\n",
       "248     -286      225  0.718092  0.281908       0\n",
       "249    -1667      850  0.886705  0.113295       0\n",
       "\n",
       "[250 rows x 5 columns]"
      ]
     },
     "metadata": {},
     "output_type": "display_data"
    },
    {
     "name": "stdout",
     "output_type": "stream",
     "text": [
      "\n",
      "          Number of matches: 250\n",
      "          Number of bets: 189\n",
      "          Number of winning bets: 97\n",
      "          Number of losing bets: 92\n",
      "          Number of underdog bets: 97\n",
      "          Number of underdog wins: 42\n",
      "          Number of underdog losses: 55\n",
      "          Number of Favorite bets: 88\n",
      "          Number of favorite wins: 54\n",
      "          Number of favorite losses: 34\n",
      "          Number of even bets: 4\n",
      "          Number of even wins: 1\n",
      "          Number of even losses: 3\n",
      "          Profit: -513.9756547885817\n",
      "          Profit per bet: -2.7194479089342947\n",
      "          Profit per match: -2.0559026191543266\n",
      "          \n",
      "          \n"
     ]
    },
    {
     "data": {
      "text/plain": [
       "(3540, 22)"
      ]
     },
     "metadata": {},
     "output_type": "display_data"
    },
    {
     "data": {
      "text/plain": [
       "(3540,)"
      ]
     },
     "metadata": {},
     "output_type": "display_data"
    },
    {
     "data": {
      "text/plain": [
       "(3540, 2)"
      ]
     },
     "metadata": {},
     "output_type": "display_data"
    },
    {
     "data": {
      "text/plain": [
       "(250, 22)"
      ]
     },
     "metadata": {},
     "output_type": "display_data"
    },
    {
     "data": {
      "text/plain": [
       "(250,)"
      ]
     },
     "metadata": {},
     "output_type": "display_data"
    },
    {
     "data": {
      "text/plain": [
       "(250, 2)"
      ]
     },
     "metadata": {},
     "output_type": "display_data"
    },
    {
     "data": {
      "text/html": [
       "<div>\n",
       "<style scoped>\n",
       "    .dataframe tbody tr th:only-of-type {\n",
       "        vertical-align: middle;\n",
       "    }\n",
       "\n",
       "    .dataframe tbody tr th {\n",
       "        vertical-align: top;\n",
       "    }\n",
       "\n",
       "    .dataframe thead th {\n",
       "        text-align: right;\n",
       "    }\n",
       "</style>\n",
       "<table border=\"1\" class=\"dataframe\">\n",
       "  <thead>\n",
       "    <tr style=\"text-align: right;\">\n",
       "      <th></th>\n",
       "      <th>t1_odds</th>\n",
       "      <th>t2_odds</th>\n",
       "      <th>t1_prob</th>\n",
       "      <th>t2_prob</th>\n",
       "      <th>winner</th>\n",
       "    </tr>\n",
       "  </thead>\n",
       "  <tbody>\n",
       "    <tr>\n",
       "      <th>0</th>\n",
       "      <td>-118</td>\n",
       "      <td>-106</td>\n",
       "      <td>0.732204</td>\n",
       "      <td>0.267796</td>\n",
       "      <td>0</td>\n",
       "    </tr>\n",
       "    <tr>\n",
       "      <th>1</th>\n",
       "      <td>140</td>\n",
       "      <td>-177</td>\n",
       "      <td>0.535665</td>\n",
       "      <td>0.464335</td>\n",
       "      <td>1</td>\n",
       "    </tr>\n",
       "    <tr>\n",
       "      <th>2</th>\n",
       "      <td>-150</td>\n",
       "      <td>120</td>\n",
       "      <td>0.756886</td>\n",
       "      <td>0.243114</td>\n",
       "      <td>0</td>\n",
       "    </tr>\n",
       "    <tr>\n",
       "      <th>3</th>\n",
       "      <td>105</td>\n",
       "      <td>-134</td>\n",
       "      <td>0.517167</td>\n",
       "      <td>0.482833</td>\n",
       "      <td>0</td>\n",
       "    </tr>\n",
       "    <tr>\n",
       "      <th>4</th>\n",
       "      <td>-177</td>\n",
       "      <td>140</td>\n",
       "      <td>0.576957</td>\n",
       "      <td>0.423043</td>\n",
       "      <td>1</td>\n",
       "    </tr>\n",
       "    <tr>\n",
       "      <th>...</th>\n",
       "      <td>...</td>\n",
       "      <td>...</td>\n",
       "      <td>...</td>\n",
       "      <td>...</td>\n",
       "      <td>...</td>\n",
       "    </tr>\n",
       "    <tr>\n",
       "      <th>245</th>\n",
       "      <td>-200</td>\n",
       "      <td>160</td>\n",
       "      <td>0.827841</td>\n",
       "      <td>0.172159</td>\n",
       "      <td>0</td>\n",
       "    </tr>\n",
       "    <tr>\n",
       "      <th>246</th>\n",
       "      <td>-335</td>\n",
       "      <td>250</td>\n",
       "      <td>0.807071</td>\n",
       "      <td>0.192929</td>\n",
       "      <td>0</td>\n",
       "    </tr>\n",
       "    <tr>\n",
       "      <th>247</th>\n",
       "      <td>-155</td>\n",
       "      <td>125</td>\n",
       "      <td>0.716972</td>\n",
       "      <td>0.283028</td>\n",
       "      <td>1</td>\n",
       "    </tr>\n",
       "    <tr>\n",
       "      <th>248</th>\n",
       "      <td>-286</td>\n",
       "      <td>225</td>\n",
       "      <td>0.779257</td>\n",
       "      <td>0.220743</td>\n",
       "      <td>0</td>\n",
       "    </tr>\n",
       "    <tr>\n",
       "      <th>249</th>\n",
       "      <td>-1667</td>\n",
       "      <td>850</td>\n",
       "      <td>0.999952</td>\n",
       "      <td>0.000048</td>\n",
       "      <td>0</td>\n",
       "    </tr>\n",
       "  </tbody>\n",
       "</table>\n",
       "<p>250 rows × 5 columns</p>\n",
       "</div>"
      ],
      "text/plain": [
       "     t1_odds  t2_odds   t1_prob   t2_prob  winner\n",
       "0       -118     -106  0.732204  0.267796       0\n",
       "1        140     -177  0.535665  0.464335       1\n",
       "2       -150      120  0.756886  0.243114       0\n",
       "3        105     -134  0.517167  0.482833       0\n",
       "4       -177      140  0.576957  0.423043       1\n",
       "..       ...      ...       ...       ...     ...\n",
       "245     -200      160  0.827841  0.172159       0\n",
       "246     -335      250  0.807071  0.192929       0\n",
       "247     -155      125  0.716972  0.283028       1\n",
       "248     -286      225  0.779257  0.220743       0\n",
       "249    -1667      850  0.999952  0.000048       0\n",
       "\n",
       "[250 rows x 5 columns]"
      ]
     },
     "metadata": {},
     "output_type": "display_data"
    },
    {
     "name": "stdout",
     "output_type": "stream",
     "text": [
      "\n",
      "          Number of matches: 250\n",
      "          Number of bets: 228\n",
      "          Number of winning bets: 124\n",
      "          Number of losing bets: 105\n",
      "          Number of underdog bets: 101\n",
      "          Number of underdog wins: 44\n",
      "          Number of underdog losses: 57\n",
      "          Number of Favorite bets: 124\n",
      "          Number of favorite wins: 79\n",
      "          Number of favorite losses: 45\n",
      "          Number of even bets: 4\n",
      "          Number of even wins: 1\n",
      "          Number of even losses: 3\n",
      "          Profit: 140.33314097840008\n",
      "          Profit per bet: 0.6154962323614038\n",
      "          Profit per match: 0.5613325639136003\n",
      "          \n",
      "          \n"
     ]
    },
    {
     "data": {
      "text/plain": [
       "(3540, 24)"
      ]
     },
     "metadata": {},
     "output_type": "display_data"
    },
    {
     "data": {
      "text/plain": [
       "(3540,)"
      ]
     },
     "metadata": {},
     "output_type": "display_data"
    },
    {
     "data": {
      "text/plain": [
       "(3540, 2)"
      ]
     },
     "metadata": {},
     "output_type": "display_data"
    },
    {
     "data": {
      "text/plain": [
       "(250, 24)"
      ]
     },
     "metadata": {},
     "output_type": "display_data"
    },
    {
     "data": {
      "text/plain": [
       "(250,)"
      ]
     },
     "metadata": {},
     "output_type": "display_data"
    },
    {
     "data": {
      "text/plain": [
       "(250, 2)"
      ]
     },
     "metadata": {},
     "output_type": "display_data"
    },
    {
     "data": {
      "text/html": [
       "<div>\n",
       "<style scoped>\n",
       "    .dataframe tbody tr th:only-of-type {\n",
       "        vertical-align: middle;\n",
       "    }\n",
       "\n",
       "    .dataframe tbody tr th {\n",
       "        vertical-align: top;\n",
       "    }\n",
       "\n",
       "    .dataframe thead th {\n",
       "        text-align: right;\n",
       "    }\n",
       "</style>\n",
       "<table border=\"1\" class=\"dataframe\">\n",
       "  <thead>\n",
       "    <tr style=\"text-align: right;\">\n",
       "      <th></th>\n",
       "      <th>t1_odds</th>\n",
       "      <th>t2_odds</th>\n",
       "      <th>t1_prob</th>\n",
       "      <th>t2_prob</th>\n",
       "      <th>winner</th>\n",
       "    </tr>\n",
       "  </thead>\n",
       "  <tbody>\n",
       "    <tr>\n",
       "      <th>0</th>\n",
       "      <td>-118</td>\n",
       "      <td>-106</td>\n",
       "      <td>0.667121</td>\n",
       "      <td>0.332879</td>\n",
       "      <td>0</td>\n",
       "    </tr>\n",
       "    <tr>\n",
       "      <th>1</th>\n",
       "      <td>140</td>\n",
       "      <td>-177</td>\n",
       "      <td>0.632712</td>\n",
       "      <td>0.367288</td>\n",
       "      <td>1</td>\n",
       "    </tr>\n",
       "    <tr>\n",
       "      <th>2</th>\n",
       "      <td>-150</td>\n",
       "      <td>120</td>\n",
       "      <td>0.788596</td>\n",
       "      <td>0.211404</td>\n",
       "      <td>0</td>\n",
       "    </tr>\n",
       "    <tr>\n",
       "      <th>3</th>\n",
       "      <td>105</td>\n",
       "      <td>-134</td>\n",
       "      <td>0.643571</td>\n",
       "      <td>0.356429</td>\n",
       "      <td>0</td>\n",
       "    </tr>\n",
       "    <tr>\n",
       "      <th>4</th>\n",
       "      <td>-177</td>\n",
       "      <td>140</td>\n",
       "      <td>0.527362</td>\n",
       "      <td>0.472638</td>\n",
       "      <td>1</td>\n",
       "    </tr>\n",
       "    <tr>\n",
       "      <th>...</th>\n",
       "      <td>...</td>\n",
       "      <td>...</td>\n",
       "      <td>...</td>\n",
       "      <td>...</td>\n",
       "      <td>...</td>\n",
       "    </tr>\n",
       "    <tr>\n",
       "      <th>245</th>\n",
       "      <td>-200</td>\n",
       "      <td>160</td>\n",
       "      <td>0.879506</td>\n",
       "      <td>0.120494</td>\n",
       "      <td>0</td>\n",
       "    </tr>\n",
       "    <tr>\n",
       "      <th>246</th>\n",
       "      <td>-335</td>\n",
       "      <td>250</td>\n",
       "      <td>0.794856</td>\n",
       "      <td>0.205144</td>\n",
       "      <td>0</td>\n",
       "    </tr>\n",
       "    <tr>\n",
       "      <th>247</th>\n",
       "      <td>-155</td>\n",
       "      <td>125</td>\n",
       "      <td>0.672856</td>\n",
       "      <td>0.327144</td>\n",
       "      <td>1</td>\n",
       "    </tr>\n",
       "    <tr>\n",
       "      <th>248</th>\n",
       "      <td>-286</td>\n",
       "      <td>225</td>\n",
       "      <td>0.841535</td>\n",
       "      <td>0.158465</td>\n",
       "      <td>0</td>\n",
       "    </tr>\n",
       "    <tr>\n",
       "      <th>249</th>\n",
       "      <td>-1667</td>\n",
       "      <td>850</td>\n",
       "      <td>0.999979</td>\n",
       "      <td>0.000021</td>\n",
       "      <td>0</td>\n",
       "    </tr>\n",
       "  </tbody>\n",
       "</table>\n",
       "<p>250 rows × 5 columns</p>\n",
       "</div>"
      ],
      "text/plain": [
       "     t1_odds  t2_odds   t1_prob   t2_prob  winner\n",
       "0       -118     -106  0.667121  0.332879       0\n",
       "1        140     -177  0.632712  0.367288       1\n",
       "2       -150      120  0.788596  0.211404       0\n",
       "3        105     -134  0.643571  0.356429       0\n",
       "4       -177      140  0.527362  0.472638       1\n",
       "..       ...      ...       ...       ...     ...\n",
       "245     -200      160  0.879506  0.120494       0\n",
       "246     -335      250  0.794856  0.205144       0\n",
       "247     -155      125  0.672856  0.327144       1\n",
       "248     -286      225  0.841535  0.158465       0\n",
       "249    -1667      850  0.999979  0.000021       0\n",
       "\n",
       "[250 rows x 5 columns]"
      ]
     },
     "metadata": {},
     "output_type": "display_data"
    },
    {
     "name": "stdout",
     "output_type": "stream",
     "text": [
      "\n",
      "          Number of matches: 250\n",
      "          Number of bets: 218\n",
      "          Number of winning bets: 117\n",
      "          Number of losing bets: 102\n",
      "          Number of underdog bets: 105\n",
      "          Number of underdog wins: 45\n",
      "          Number of underdog losses: 60\n",
      "          Number of Favorite bets: 110\n",
      "          Number of favorite wins: 71\n",
      "          Number of favorite losses: 39\n",
      "          Number of even bets: 4\n",
      "          Number of even wins: 1\n",
      "          Number of even losses: 3\n",
      "          Profit: 287.0186563961137\n",
      "          Profit per bet: 1.3165993412665766\n",
      "          Profit per match: 1.148074625584455\n",
      "          \n",
      "          \n"
     ]
    },
    {
     "data": {
      "text/plain": [
       "(3539, 22)"
      ]
     },
     "metadata": {},
     "output_type": "display_data"
    },
    {
     "data": {
      "text/plain": [
       "(3539,)"
      ]
     },
     "metadata": {},
     "output_type": "display_data"
    },
    {
     "data": {
      "text/plain": [
       "(3539, 2)"
      ]
     },
     "metadata": {},
     "output_type": "display_data"
    },
    {
     "data": {
      "text/plain": [
       "(250, 22)"
      ]
     },
     "metadata": {},
     "output_type": "display_data"
    },
    {
     "data": {
      "text/plain": [
       "(250,)"
      ]
     },
     "metadata": {},
     "output_type": "display_data"
    },
    {
     "data": {
      "text/plain": [
       "(250, 2)"
      ]
     },
     "metadata": {},
     "output_type": "display_data"
    },
    {
     "data": {
      "text/html": [
       "<div>\n",
       "<style scoped>\n",
       "    .dataframe tbody tr th:only-of-type {\n",
       "        vertical-align: middle;\n",
       "    }\n",
       "\n",
       "    .dataframe tbody tr th {\n",
       "        vertical-align: top;\n",
       "    }\n",
       "\n",
       "    .dataframe thead th {\n",
       "        text-align: right;\n",
       "    }\n",
       "</style>\n",
       "<table border=\"1\" class=\"dataframe\">\n",
       "  <thead>\n",
       "    <tr style=\"text-align: right;\">\n",
       "      <th></th>\n",
       "      <th>t1_odds</th>\n",
       "      <th>t2_odds</th>\n",
       "      <th>t1_prob</th>\n",
       "      <th>t2_prob</th>\n",
       "      <th>winner</th>\n",
       "    </tr>\n",
       "  </thead>\n",
       "  <tbody>\n",
       "    <tr>\n",
       "      <th>0</th>\n",
       "      <td>-118</td>\n",
       "      <td>-106</td>\n",
       "      <td>0.711730</td>\n",
       "      <td>0.288270</td>\n",
       "      <td>0</td>\n",
       "    </tr>\n",
       "    <tr>\n",
       "      <th>1</th>\n",
       "      <td>140</td>\n",
       "      <td>-177</td>\n",
       "      <td>0.659878</td>\n",
       "      <td>0.340122</td>\n",
       "      <td>1</td>\n",
       "    </tr>\n",
       "    <tr>\n",
       "      <th>2</th>\n",
       "      <td>-150</td>\n",
       "      <td>120</td>\n",
       "      <td>0.788656</td>\n",
       "      <td>0.211344</td>\n",
       "      <td>0</td>\n",
       "    </tr>\n",
       "    <tr>\n",
       "      <th>3</th>\n",
       "      <td>105</td>\n",
       "      <td>-134</td>\n",
       "      <td>0.724722</td>\n",
       "      <td>0.275278</td>\n",
       "      <td>0</td>\n",
       "    </tr>\n",
       "    <tr>\n",
       "      <th>4</th>\n",
       "      <td>-177</td>\n",
       "      <td>140</td>\n",
       "      <td>0.620342</td>\n",
       "      <td>0.379658</td>\n",
       "      <td>1</td>\n",
       "    </tr>\n",
       "    <tr>\n",
       "      <th>...</th>\n",
       "      <td>...</td>\n",
       "      <td>...</td>\n",
       "      <td>...</td>\n",
       "      <td>...</td>\n",
       "      <td>...</td>\n",
       "    </tr>\n",
       "    <tr>\n",
       "      <th>245</th>\n",
       "      <td>-200</td>\n",
       "      <td>160</td>\n",
       "      <td>0.847246</td>\n",
       "      <td>0.152754</td>\n",
       "      <td>0</td>\n",
       "    </tr>\n",
       "    <tr>\n",
       "      <th>246</th>\n",
       "      <td>-335</td>\n",
       "      <td>250</td>\n",
       "      <td>0.794794</td>\n",
       "      <td>0.205206</td>\n",
       "      <td>0</td>\n",
       "    </tr>\n",
       "    <tr>\n",
       "      <th>247</th>\n",
       "      <td>-155</td>\n",
       "      <td>125</td>\n",
       "      <td>0.752286</td>\n",
       "      <td>0.247714</td>\n",
       "      <td>1</td>\n",
       "    </tr>\n",
       "    <tr>\n",
       "      <th>248</th>\n",
       "      <td>-286</td>\n",
       "      <td>225</td>\n",
       "      <td>0.999764</td>\n",
       "      <td>0.000236</td>\n",
       "      <td>0</td>\n",
       "    </tr>\n",
       "    <tr>\n",
       "      <th>249</th>\n",
       "      <td>-1667</td>\n",
       "      <td>850</td>\n",
       "      <td>0.999944</td>\n",
       "      <td>0.000056</td>\n",
       "      <td>0</td>\n",
       "    </tr>\n",
       "  </tbody>\n",
       "</table>\n",
       "<p>250 rows × 5 columns</p>\n",
       "</div>"
      ],
      "text/plain": [
       "     t1_odds  t2_odds   t1_prob   t2_prob  winner\n",
       "0       -118     -106  0.711730  0.288270       0\n",
       "1        140     -177  0.659878  0.340122       1\n",
       "2       -150      120  0.788656  0.211344       0\n",
       "3        105     -134  0.724722  0.275278       0\n",
       "4       -177      140  0.620342  0.379658       1\n",
       "..       ...      ...       ...       ...     ...\n",
       "245     -200      160  0.847246  0.152754       0\n",
       "246     -335      250  0.794794  0.205206       0\n",
       "247     -155      125  0.752286  0.247714       1\n",
       "248     -286      225  0.999764  0.000236       0\n",
       "249    -1667      850  0.999944  0.000056       0\n",
       "\n",
       "[250 rows x 5 columns]"
      ]
     },
     "metadata": {},
     "output_type": "display_data"
    },
    {
     "name": "stdout",
     "output_type": "stream",
     "text": [
      "\n",
      "          Number of matches: 250\n",
      "          Number of bets: 228\n",
      "          Number of winning bets: 126\n",
      "          Number of losing bets: 104\n",
      "          Number of underdog bets: 104\n",
      "          Number of underdog wins: 45\n",
      "          Number of underdog losses: 59\n",
      "          Number of Favorite bets: 122\n",
      "          Number of favorite wins: 80\n",
      "          Number of favorite losses: 42\n",
      "          Number of even bets: 4\n",
      "          Number of even wins: 1\n",
      "          Number of even losses: 3\n",
      "          Profit: 703.5510631112703\n",
      "          Profit per bet: 3.085750276803817\n",
      "          Profit per match: 2.8142042524450814\n",
      "          \n",
      "          \n"
     ]
    },
    {
     "data": {
      "text/plain": [
       "(3442, 56)"
      ]
     },
     "metadata": {},
     "output_type": "display_data"
    },
    {
     "data": {
      "text/plain": [
       "(3442,)"
      ]
     },
     "metadata": {},
     "output_type": "display_data"
    },
    {
     "data": {
      "text/plain": [
       "(3442, 2)"
      ]
     },
     "metadata": {},
     "output_type": "display_data"
    },
    {
     "data": {
      "text/plain": [
       "(248, 56)"
      ]
     },
     "metadata": {},
     "output_type": "display_data"
    },
    {
     "data": {
      "text/plain": [
       "(248,)"
      ]
     },
     "metadata": {},
     "output_type": "display_data"
    },
    {
     "data": {
      "text/plain": [
       "(248, 2)"
      ]
     },
     "metadata": {},
     "output_type": "display_data"
    },
    {
     "data": {
      "text/html": [
       "<div>\n",
       "<style scoped>\n",
       "    .dataframe tbody tr th:only-of-type {\n",
       "        vertical-align: middle;\n",
       "    }\n",
       "\n",
       "    .dataframe tbody tr th {\n",
       "        vertical-align: top;\n",
       "    }\n",
       "\n",
       "    .dataframe thead th {\n",
       "        text-align: right;\n",
       "    }\n",
       "</style>\n",
       "<table border=\"1\" class=\"dataframe\">\n",
       "  <thead>\n",
       "    <tr style=\"text-align: right;\">\n",
       "      <th></th>\n",
       "      <th>t1_odds</th>\n",
       "      <th>t2_odds</th>\n",
       "      <th>t1_prob</th>\n",
       "      <th>t2_prob</th>\n",
       "      <th>winner</th>\n",
       "    </tr>\n",
       "  </thead>\n",
       "  <tbody>\n",
       "    <tr>\n",
       "      <th>0</th>\n",
       "      <td>-118</td>\n",
       "      <td>-106</td>\n",
       "      <td>0.990345</td>\n",
       "      <td>0.009655</td>\n",
       "      <td>0</td>\n",
       "    </tr>\n",
       "    <tr>\n",
       "      <th>1</th>\n",
       "      <td>140</td>\n",
       "      <td>-177</td>\n",
       "      <td>0.066052</td>\n",
       "      <td>0.933948</td>\n",
       "      <td>1</td>\n",
       "    </tr>\n",
       "    <tr>\n",
       "      <th>2</th>\n",
       "      <td>-150</td>\n",
       "      <td>120</td>\n",
       "      <td>0.992985</td>\n",
       "      <td>0.007015</td>\n",
       "      <td>0</td>\n",
       "    </tr>\n",
       "    <tr>\n",
       "      <th>3</th>\n",
       "      <td>105</td>\n",
       "      <td>-134</td>\n",
       "      <td>0.949249</td>\n",
       "      <td>0.050751</td>\n",
       "      <td>0</td>\n",
       "    </tr>\n",
       "    <tr>\n",
       "      <th>4</th>\n",
       "      <td>-177</td>\n",
       "      <td>140</td>\n",
       "      <td>0.106424</td>\n",
       "      <td>0.893576</td>\n",
       "      <td>1</td>\n",
       "    </tr>\n",
       "    <tr>\n",
       "      <th>...</th>\n",
       "      <td>...</td>\n",
       "      <td>...</td>\n",
       "      <td>...</td>\n",
       "      <td>...</td>\n",
       "      <td>...</td>\n",
       "    </tr>\n",
       "    <tr>\n",
       "      <th>243</th>\n",
       "      <td>-200</td>\n",
       "      <td>160</td>\n",
       "      <td>0.122881</td>\n",
       "      <td>0.877119</td>\n",
       "      <td>0</td>\n",
       "    </tr>\n",
       "    <tr>\n",
       "      <th>244</th>\n",
       "      <td>-335</td>\n",
       "      <td>250</td>\n",
       "      <td>0.999241</td>\n",
       "      <td>0.000759</td>\n",
       "      <td>0</td>\n",
       "    </tr>\n",
       "    <tr>\n",
       "      <th>245</th>\n",
       "      <td>-155</td>\n",
       "      <td>125</td>\n",
       "      <td>0.985951</td>\n",
       "      <td>0.014049</td>\n",
       "      <td>1</td>\n",
       "    </tr>\n",
       "    <tr>\n",
       "      <th>246</th>\n",
       "      <td>-286</td>\n",
       "      <td>225</td>\n",
       "      <td>0.996558</td>\n",
       "      <td>0.003442</td>\n",
       "      <td>0</td>\n",
       "    </tr>\n",
       "    <tr>\n",
       "      <th>247</th>\n",
       "      <td>-1667</td>\n",
       "      <td>850</td>\n",
       "      <td>0.759720</td>\n",
       "      <td>0.240280</td>\n",
       "      <td>0</td>\n",
       "    </tr>\n",
       "  </tbody>\n",
       "</table>\n",
       "<p>248 rows × 5 columns</p>\n",
       "</div>"
      ],
      "text/plain": [
       "     t1_odds  t2_odds   t1_prob   t2_prob  winner\n",
       "0       -118     -106  0.990345  0.009655       0\n",
       "1        140     -177  0.066052  0.933948       1\n",
       "2       -150      120  0.992985  0.007015       0\n",
       "3        105     -134  0.949249  0.050751       0\n",
       "4       -177      140  0.106424  0.893576       1\n",
       "..       ...      ...       ...       ...     ...\n",
       "243     -200      160  0.122881  0.877119       0\n",
       "244     -335      250  0.999241  0.000759       0\n",
       "245     -155      125  0.985951  0.014049       1\n",
       "246     -286      225  0.996558  0.003442       0\n",
       "247    -1667      850  0.759720  0.240280       0\n",
       "\n",
       "[248 rows x 5 columns]"
      ]
     },
     "metadata": {},
     "output_type": "display_data"
    },
    {
     "name": "stdout",
     "output_type": "stream",
     "text": [
      "\n",
      "          Number of matches: 248\n",
      "          Number of bets: 209\n",
      "          Number of winning bets: 101\n",
      "          Number of losing bets: 108\n",
      "          Number of underdog bets: 115\n",
      "          Number of underdog wins: 49\n",
      "          Number of underdog losses: 66\n",
      "          Number of Favorite bets: 91\n",
      "          Number of favorite wins: 51\n",
      "          Number of favorite losses: 40\n",
      "          Number of even bets: 3\n",
      "          Number of even wins: 1\n",
      "          Number of even losses: 2\n",
      "          Profit: -126.63792775981362\n",
      "          Profit per bet: -0.6059230993292518\n",
      "          Profit per match: -0.5106368054831194\n",
      "          \n",
      "          \n"
     ]
    },
    {
     "data": {
      "text/plain": [
       "(3442, 19)"
      ]
     },
     "metadata": {},
     "output_type": "display_data"
    },
    {
     "data": {
      "text/plain": [
       "(3442,)"
      ]
     },
     "metadata": {},
     "output_type": "display_data"
    },
    {
     "data": {
      "text/plain": [
       "(3442, 2)"
      ]
     },
     "metadata": {},
     "output_type": "display_data"
    },
    {
     "data": {
      "text/plain": [
       "(250, 19)"
      ]
     },
     "metadata": {},
     "output_type": "display_data"
    },
    {
     "data": {
      "text/plain": [
       "(250,)"
      ]
     },
     "metadata": {},
     "output_type": "display_data"
    },
    {
     "data": {
      "text/plain": [
       "(250, 2)"
      ]
     },
     "metadata": {},
     "output_type": "display_data"
    },
    {
     "data": {
      "text/html": [
       "<div>\n",
       "<style scoped>\n",
       "    .dataframe tbody tr th:only-of-type {\n",
       "        vertical-align: middle;\n",
       "    }\n",
       "\n",
       "    .dataframe tbody tr th {\n",
       "        vertical-align: top;\n",
       "    }\n",
       "\n",
       "    .dataframe thead th {\n",
       "        text-align: right;\n",
       "    }\n",
       "</style>\n",
       "<table border=\"1\" class=\"dataframe\">\n",
       "  <thead>\n",
       "    <tr style=\"text-align: right;\">\n",
       "      <th></th>\n",
       "      <th>t1_odds</th>\n",
       "      <th>t2_odds</th>\n",
       "      <th>t1_prob</th>\n",
       "      <th>t2_prob</th>\n",
       "      <th>winner</th>\n",
       "    </tr>\n",
       "  </thead>\n",
       "  <tbody>\n",
       "    <tr>\n",
       "      <th>0</th>\n",
       "      <td>-118</td>\n",
       "      <td>-106</td>\n",
       "      <td>0.540680</td>\n",
       "      <td>0.459320</td>\n",
       "      <td>0</td>\n",
       "    </tr>\n",
       "    <tr>\n",
       "      <th>1</th>\n",
       "      <td>140</td>\n",
       "      <td>-177</td>\n",
       "      <td>0.474600</td>\n",
       "      <td>0.525400</td>\n",
       "      <td>1</td>\n",
       "    </tr>\n",
       "    <tr>\n",
       "      <th>2</th>\n",
       "      <td>-150</td>\n",
       "      <td>120</td>\n",
       "      <td>0.621343</td>\n",
       "      <td>0.378657</td>\n",
       "      <td>0</td>\n",
       "    </tr>\n",
       "    <tr>\n",
       "      <th>3</th>\n",
       "      <td>105</td>\n",
       "      <td>-134</td>\n",
       "      <td>0.519798</td>\n",
       "      <td>0.480202</td>\n",
       "      <td>0</td>\n",
       "    </tr>\n",
       "    <tr>\n",
       "      <th>4</th>\n",
       "      <td>-177</td>\n",
       "      <td>140</td>\n",
       "      <td>0.575350</td>\n",
       "      <td>0.424650</td>\n",
       "      <td>1</td>\n",
       "    </tr>\n",
       "    <tr>\n",
       "      <th>...</th>\n",
       "      <td>...</td>\n",
       "      <td>...</td>\n",
       "      <td>...</td>\n",
       "      <td>...</td>\n",
       "      <td>...</td>\n",
       "    </tr>\n",
       "    <tr>\n",
       "      <th>245</th>\n",
       "      <td>-200</td>\n",
       "      <td>160</td>\n",
       "      <td>0.710511</td>\n",
       "      <td>0.289489</td>\n",
       "      <td>0</td>\n",
       "    </tr>\n",
       "    <tr>\n",
       "      <th>246</th>\n",
       "      <td>-335</td>\n",
       "      <td>250</td>\n",
       "      <td>0.793691</td>\n",
       "      <td>0.206309</td>\n",
       "      <td>0</td>\n",
       "    </tr>\n",
       "    <tr>\n",
       "      <th>247</th>\n",
       "      <td>-155</td>\n",
       "      <td>125</td>\n",
       "      <td>0.574844</td>\n",
       "      <td>0.425156</td>\n",
       "      <td>1</td>\n",
       "    </tr>\n",
       "    <tr>\n",
       "      <th>248</th>\n",
       "      <td>-286</td>\n",
       "      <td>225</td>\n",
       "      <td>0.772566</td>\n",
       "      <td>0.227434</td>\n",
       "      <td>0</td>\n",
       "    </tr>\n",
       "    <tr>\n",
       "      <th>249</th>\n",
       "      <td>-1667</td>\n",
       "      <td>850</td>\n",
       "      <td>0.835969</td>\n",
       "      <td>0.164031</td>\n",
       "      <td>0</td>\n",
       "    </tr>\n",
       "  </tbody>\n",
       "</table>\n",
       "<p>250 rows × 5 columns</p>\n",
       "</div>"
      ],
      "text/plain": [
       "     t1_odds  t2_odds   t1_prob   t2_prob  winner\n",
       "0       -118     -106  0.540680  0.459320       0\n",
       "1        140     -177  0.474600  0.525400       1\n",
       "2       -150      120  0.621343  0.378657       0\n",
       "3        105     -134  0.519798  0.480202       0\n",
       "4       -177      140  0.575350  0.424650       1\n",
       "..       ...      ...       ...       ...     ...\n",
       "245     -200      160  0.710511  0.289489       0\n",
       "246     -335      250  0.793691  0.206309       0\n",
       "247     -155      125  0.574844  0.425156       1\n",
       "248     -286      225  0.772566  0.227434       0\n",
       "249    -1667      850  0.835969  0.164031       0\n",
       "\n",
       "[250 rows x 5 columns]"
      ]
     },
     "metadata": {},
     "output_type": "display_data"
    },
    {
     "name": "stdout",
     "output_type": "stream",
     "text": [
      "\n",
      "          Number of matches: 250\n",
      "          Number of bets: 199\n",
      "          Number of winning bets: 100\n",
      "          Number of losing bets: 101\n",
      "          Number of underdog bets: 132\n",
      "          Number of underdog wins: 54\n",
      "          Number of underdog losses: 78\n",
      "          Number of Favorite bets: 67\n",
      "          Number of favorite wins: 45\n",
      "          Number of favorite losses: 22\n",
      "          Number of even bets: 2\n",
      "          Number of even wins: 1\n",
      "          Number of even losses: 1\n",
      "          Profit: 622.5142487140188\n",
      "          Profit per bet: 3.128212305095572\n",
      "          Profit per match: 2.490056994856075\n",
      "          \n",
      "          \n"
     ]
    },
    {
     "data": {
      "text/plain": [
       "(3442, 26)"
      ]
     },
     "metadata": {},
     "output_type": "display_data"
    },
    {
     "data": {
      "text/plain": [
       "(3442,)"
      ]
     },
     "metadata": {},
     "output_type": "display_data"
    },
    {
     "data": {
      "text/plain": [
       "(3442, 2)"
      ]
     },
     "metadata": {},
     "output_type": "display_data"
    },
    {
     "data": {
      "text/plain": [
       "(248, 26)"
      ]
     },
     "metadata": {},
     "output_type": "display_data"
    },
    {
     "data": {
      "text/plain": [
       "(248,)"
      ]
     },
     "metadata": {},
     "output_type": "display_data"
    },
    {
     "data": {
      "text/plain": [
       "(248, 2)"
      ]
     },
     "metadata": {},
     "output_type": "display_data"
    },
    {
     "data": {
      "text/html": [
       "<div>\n",
       "<style scoped>\n",
       "    .dataframe tbody tr th:only-of-type {\n",
       "        vertical-align: middle;\n",
       "    }\n",
       "\n",
       "    .dataframe tbody tr th {\n",
       "        vertical-align: top;\n",
       "    }\n",
       "\n",
       "    .dataframe thead th {\n",
       "        text-align: right;\n",
       "    }\n",
       "</style>\n",
       "<table border=\"1\" class=\"dataframe\">\n",
       "  <thead>\n",
       "    <tr style=\"text-align: right;\">\n",
       "      <th></th>\n",
       "      <th>t1_odds</th>\n",
       "      <th>t2_odds</th>\n",
       "      <th>t1_prob</th>\n",
       "      <th>t2_prob</th>\n",
       "      <th>winner</th>\n",
       "    </tr>\n",
       "  </thead>\n",
       "  <tbody>\n",
       "    <tr>\n",
       "      <th>0</th>\n",
       "      <td>-118</td>\n",
       "      <td>-106</td>\n",
       "      <td>0.546551</td>\n",
       "      <td>0.453449</td>\n",
       "      <td>0</td>\n",
       "    </tr>\n",
       "    <tr>\n",
       "      <th>1</th>\n",
       "      <td>140</td>\n",
       "      <td>-177</td>\n",
       "      <td>0.460358</td>\n",
       "      <td>0.539642</td>\n",
       "      <td>1</td>\n",
       "    </tr>\n",
       "    <tr>\n",
       "      <th>2</th>\n",
       "      <td>-150</td>\n",
       "      <td>120</td>\n",
       "      <td>0.637225</td>\n",
       "      <td>0.362775</td>\n",
       "      <td>0</td>\n",
       "    </tr>\n",
       "    <tr>\n",
       "      <th>3</th>\n",
       "      <td>105</td>\n",
       "      <td>-134</td>\n",
       "      <td>0.455550</td>\n",
       "      <td>0.544450</td>\n",
       "      <td>0</td>\n",
       "    </tr>\n",
       "    <tr>\n",
       "      <th>4</th>\n",
       "      <td>-177</td>\n",
       "      <td>140</td>\n",
       "      <td>0.600822</td>\n",
       "      <td>0.399178</td>\n",
       "      <td>1</td>\n",
       "    </tr>\n",
       "    <tr>\n",
       "      <th>...</th>\n",
       "      <td>...</td>\n",
       "      <td>...</td>\n",
       "      <td>...</td>\n",
       "      <td>...</td>\n",
       "      <td>...</td>\n",
       "    </tr>\n",
       "    <tr>\n",
       "      <th>243</th>\n",
       "      <td>-200</td>\n",
       "      <td>160</td>\n",
       "      <td>0.753626</td>\n",
       "      <td>0.246374</td>\n",
       "      <td>0</td>\n",
       "    </tr>\n",
       "    <tr>\n",
       "      <th>244</th>\n",
       "      <td>-335</td>\n",
       "      <td>250</td>\n",
       "      <td>0.769302</td>\n",
       "      <td>0.230698</td>\n",
       "      <td>0</td>\n",
       "    </tr>\n",
       "    <tr>\n",
       "      <th>245</th>\n",
       "      <td>-155</td>\n",
       "      <td>125</td>\n",
       "      <td>0.595036</td>\n",
       "      <td>0.404964</td>\n",
       "      <td>1</td>\n",
       "    </tr>\n",
       "    <tr>\n",
       "      <th>246</th>\n",
       "      <td>-286</td>\n",
       "      <td>225</td>\n",
       "      <td>0.712245</td>\n",
       "      <td>0.287755</td>\n",
       "      <td>0</td>\n",
       "    </tr>\n",
       "    <tr>\n",
       "      <th>247</th>\n",
       "      <td>-1667</td>\n",
       "      <td>850</td>\n",
       "      <td>0.932654</td>\n",
       "      <td>0.067346</td>\n",
       "      <td>0</td>\n",
       "    </tr>\n",
       "  </tbody>\n",
       "</table>\n",
       "<p>248 rows × 5 columns</p>\n",
       "</div>"
      ],
      "text/plain": [
       "     t1_odds  t2_odds   t1_prob   t2_prob  winner\n",
       "0       -118     -106  0.546551  0.453449       0\n",
       "1        140     -177  0.460358  0.539642       1\n",
       "2       -150      120  0.637225  0.362775       0\n",
       "3        105     -134  0.455550  0.544450       0\n",
       "4       -177      140  0.600822  0.399178       1\n",
       "..       ...      ...       ...       ...     ...\n",
       "243     -200      160  0.753626  0.246374       0\n",
       "244     -335      250  0.769302  0.230698       0\n",
       "245     -155      125  0.595036  0.404964       1\n",
       "246     -286      225  0.712245  0.287755       0\n",
       "247    -1667      850  0.932654  0.067346       0\n",
       "\n",
       "[248 rows x 5 columns]"
      ]
     },
     "metadata": {},
     "output_type": "display_data"
    },
    {
     "name": "stdout",
     "output_type": "stream",
     "text": [
      "\n",
      "          Number of matches: 248\n",
      "          Number of bets: 152\n",
      "          Number of winning bets: 69\n",
      "          Number of losing bets: 83\n",
      "          Number of underdog bets: 106\n",
      "          Number of underdog wins: 39\n",
      "          Number of underdog losses: 67\n",
      "          Number of Favorite bets: 45\n",
      "          Number of favorite wins: 29\n",
      "          Number of favorite losses: 16\n",
      "          Number of even bets: 1\n",
      "          Number of even wins: 1\n",
      "          Number of even losses: 0\n",
      "          Profit: -296.0965472590791\n",
      "          Profit per bet: -1.9480036003886783\n",
      "          Profit per match: -1.1939376905608028\n",
      "          \n",
      "          \n"
     ]
    }
   ],
   "source": [
    "score_list = []\n",
    "for model_num in range(len(models[0])):\n",
    "    test_model_name = models[0][model_num]\n",
    "    test_model = eval(models[1][model_num])\n",
    "    test_model_features = eval(models[2][model_num])\n",
    "    test_model_ev = eval(models[3][model_num])\n",
    "    \n",
    "    score_list.append(evaluate_model(test_model, test_model_features, test_model_ev, df_train, label_train, odds_train, df_test, label_test,\n",
    "                         odds_test, verbose = True))"
   ]
  },
  {
   "cell_type": "code",
   "execution_count": 10,
   "metadata": {},
   "outputs": [
    {
     "name": "stdout",
     "output_type": "stream",
     "text": [
      "['538.4166865', '-324.7349695106435', '-949.3347427574704', '1205.0828045280437', '79.82596213788835', '1165.977716', '528.6527731', '1500.93994', '493.1647765', '-431.4817089', '-35.23037836', '-19.43318131', '290.9104159', '-91.0629001', '-1129.80692']\n"
     ]
    }
   ],
   "source": [
    "print(models[4])"
   ]
  },
  {
   "cell_type": "code",
   "execution_count": 11,
   "metadata": {},
   "outputs": [
    {
     "name": "stdout",
     "output_type": "stream",
     "text": [
      "[1751.8798456314714, 32.397091539861236, -580.852509498543, -364.5488554206099, -28.17016060750852, 1650.1583341762712, 468.0115554029955, 2570.446418422199, -513.9756547885817, 140.33314097840008, 287.0186563961137, 703.5510631112703, -126.63792775981362, 622.5142487140188, -296.0965472590791]\n"
     ]
    }
   ],
   "source": [
    "print(score_list)"
   ]
  },
  {
   "cell_type": "code",
   "execution_count": 12,
   "metadata": {},
   "outputs": [],
   "source": [
    "models[4] = score_list"
   ]
  },
  {
   "cell_type": "code",
   "execution_count": 13,
   "metadata": {},
   "outputs": [
    {
     "data": {
      "text/plain": [
       "[['model_0',\n",
       "  'model_1',\n",
       "  'model_2',\n",
       "  'model_3',\n",
       "  'model_4',\n",
       "  'model_06_13_20',\n",
       "  'model_06_20_20',\n",
       "  'model_6_27_20',\n",
       "  'model_7_18_20',\n",
       "  'model_7_25_20',\n",
       "  'model_9_2_20',\n",
       "  'model_9_10_20',\n",
       "  'model_10_23_20',\n",
       "  'model_10_27_20',\n",
       "  'model_10_28_20'],\n",
       " ['LogisticRegression(max_iter=50000, random_state=75)',\n",
       "  \"DecisionTreeClassifier(max_depth=3, max_leaf_nodes=336, min_samples_leaf=0.01,\\n                       random_state=75, splitter='random')\",\n",
       "  'RandomForestClassifier(max_depth=10, min_samples_leaf=0.0099, n_jobs=-1,\\n                       random_state=75)',\n",
       "  \"GradientBoostingClassifier(max_depth=17, max_features='sqrt',\\n                           max_leaf_nodes=316, min_samples_leaf=0.1,\\n                           n_estimators=195, random_state=75)\",\n",
       "  'GaussianNB(var_smoothing=1e-08)',\n",
       "  'LogisticRegression(max_iter=50000, random_state=75, tol=5.993308915320019)',\n",
       "  'GaussianNB()',\n",
       "  'GaussianNB()',\n",
       "  'GradientBoostingClassifier(n_estimators=122, random_state=75)',\n",
       "  'GaussianNB()',\n",
       "  'GaussianNB(var_smoothing=1e-12)',\n",
       "  'GaussianNB(var_smoothing=1e-12)',\n",
       "  'GradientBoostingClassifier(max_depth=95, min_samples_leaf=6, n_estimators=195,\\n                           random_state=75)',\n",
       "  \"RandomForestClassifier(criterion='entropy', max_depth=10, n_estimators=197,\\n                       n_jobs=-1, random_state=75)\",\n",
       "  \"RandomForestClassifier(criterion='entropy', max_depth=10, n_estimators=22,\\n                       n_jobs=-1, random_state=75)\"],\n",
       " [\"['sig_str_dif', 'R_Weight_lbs', 'B_Weight_lbs', 'R_Lightweight_rank', 'R_draw', 'R_Light Heavyweight_rank', 'R_win_by_Decision_Split', 'age_dif', 'B_ev']\",\n",
       "  '[\"B_Women\\'s Featherweight_rank\", \\'B_avg_SIG_STR_landed\\', \\'R_odds\\', \\'gender\\', \\'R_ev\\', \\'total_round_dif\\']',\n",
       "  \"['R_Reach_cms', 'B_avg_SIG_STR_pct', 'R_win_by_TKO_Doctor_Stoppage', 'B_ev', 'total_round_dif']\",\n",
       "  \"['B_total_title_bouts', 'B_Weight_lbs', 'B_avg_TD_pct', 'R_current_lose_streak', 'B_avg_SIG_STR_pct', 'R_Stance', 'R_win_by_Decision_Unanimous', 'B_age', 'B_avg_SUB_ATT', 'reach_dif', 'country', 'R_odds']\",\n",
       "  \"['B_win_by_Decision_Majority', 'B_current_win_streak', 'avg_sub_att_dif', 'B_wins', 'empty_arena', 'B_win_by_Submission', 'B_Pound-for-Pound_rank', 'B_win_by_Decision_Unanimous', 'sig_str_dif', 'B_draw', 'R_avg_TD_landed', 'B_Lightweight_rank', 'B_Stance', 'total_round_dif']\",\n",
       "  \"['B_win_by_Decision_Majority', 'B_win_by_TKO_Doctor_Stoppage', 'R_win_by_Decision_Majority', 'R_odds', 'R_current_lose_streak', 'R_Reach_cms', 'B_draw', 'total_round_dif', 'R_ev', 'B_ev']\",\n",
       "  \"['R_win_by_Decision_Unanimous', 'B_win_by_Submission', 'R_Weight_lbs', 'sig_str_dif', 'B_Height_cms', 'B_avg_SUB_ATT', 'R_win_by_TKO_Doctor_Stoppage', 'height_dif', 'B_draw', 'avg_td_dif', 'R_win_by_Decision_Split', 'age_dif', 'B_current_win_streak', 'R_odds']\",\n",
       "  \"['R_longest_win_streak', 'longest_win_streak_dif', 'reach_dif', 'avg_sub_att_dif', 'R_win_by_Decision_Unanimous', 'B_win_by_Submission', 'R_Weight_lbs', 'sig_str_dif', 'B_Height_cms', 'B_avg_SUB_ATT', 'R_win_by_TKO_Doctor_Stoppage', 'height_dif', 'B_draw', 'avg_td_dif', 'R_win_by_Decision_Split', 'age_dif', 'B_current_win_streak', 'R_odds']\",\n",
       "  \"['B_current_win_streak', 'R_win_by_Submission', 'B_win_by_Decision_Unanimous', 'R_win_by_Decision_Unanimous', 'R_current_lose_streak', 'B_win_by_TKO_Doctor_Stoppage', 'win_dif', 'B_win_by_Decision_Split', 'B_wins', 'R_Stance', 'B_age', 'B_Weight_lbs', 'R_ev', 'B_total_rounds_fought', 'location', 'R_odds', 'R_Reach_cms', 'R_Weight_lbs', 'R_current_win_streak', 'R_age', 'empty_arena', 'R_win_by_Decision_Split', 'R_draw', 'lose_streak_dif', 'B_draw']\",\n",
       "  \"['R_Reach_cms', 'total_round_dif', 'R_Height_cms', 'R_avg_SIG_STR_pct', 'B_age', 'R_longest_win_streak', 'lose_streak_dif', 'ko_dif', 'R_win_by_Decision_Majority', 'longest_win_streak_dif', 'avg_sub_att_dif', 'R_Weight_lbs', 'sig_str_dif', 'B_Height_cms', 'B_avg_SUB_ATT', 'R_win_by_TKO_Doctor_Stoppage', 'B_draw', 'avg_td_dif', 'R_win_by_Decision_Split', 'age_dif', 'B_current_win_streak', 'R_odds']\",\n",
       "  \"['win_streak_dif', 'B_Light Heavyweight_rank', 'B_Lightweight_rank', 'R_avg_TD_landed', 'R_Middleweight_rank', 'total_round_dif', 'R_Height_cms', 'R_avg_SIG_STR_pct', 'B_age', 'R_longest_win_streak', 'lose_streak_dif', 'R_win_by_Decision_Majority', 'longest_win_streak_dif', 'avg_sub_att_dif', 'R_Weight_lbs', 'sig_str_dif', 'B_Height_cms', 'B_avg_SUB_ATT', 'R_win_by_TKO_Doctor_Stoppage', 'B_draw', 'avg_td_dif', 'R_win_by_Decision_Split', 'age_dif', 'R_odds']\",\n",
       "  \"['B_Weight_lbs', 'B_Flyweight_rank', 'B_avg_TD_landed', 'B_Light Heavyweight_rank', 'B_Lightweight_rank', 'R_avg_TD_landed', 'R_Middleweight_rank', 'R_Height_cms', 'R_avg_SIG_STR_pct', 'B_age', 'R_longest_win_streak', 'lose_streak_dif', 'R_win_by_Decision_Majority', 'longest_win_streak_dif', 'avg_sub_att_dif', 'sig_str_dif', 'B_avg_SUB_ATT', 'R_win_by_TKO_Doctor_Stoppage', 'B_draw', 'R_win_by_Decision_Split', 'age_dif', 'R_odds']\",\n",
       "  \"['weight_class', 'B_Reach_cms', 'B_Welterweight_rank', 'B_total_title_bouts', 'R_avg_TD_pct', 'B_Bantamweight_rank', 'R_Featherweight_rank', 'no_of_rounds', 'B_draw', 'B_Stance', 'R_win_by_TKO_Doctor_Stoppage', 'R_current_win_streak', 'B_avg_SIG_STR_landed', 'country']\",\n",
       "  '[\\'R_Height_cms\\', \\'R_Bantamweight_rank\\', \\'B_current_lose_streak\\', \\'avg_sub_att_dif\\', \\'B_Middleweight_rank\\', \\'R_current_win_streak\\', \\'total_round_dif\\', \\'B_avg_SUB_ATT\\', \\'B_avg_SIG_STR_landed\\', \\'age_dif\\', \\'B_Light Heavyweight_rank\\', \\'R_avg_TD_pct\\', \\'R_ev\\', \"B_Women\\'s Flyweight_rank\", \"B_Women\\'s Strawweight_rank\", \\'B_Bantamweight_rank\\', \\'R_Reach_cms\\', \\'B_win_by_Decision_Unanimous\\', \\'constant_1\\']',\n",
       "  '[\\'B_Stance\\', \\'R_current_lose_streak\\', \\'loss_dif\\', \\'B_win_by_Decision_Split\\', \\'R_Height_cms\\', \\'R_Bantamweight_rank\\', \\'B_current_lose_streak\\', \\'avg_sub_att_dif\\', \\'B_Middleweight_rank\\', \\'R_current_win_streak\\', \\'total_round_dif\\', \\'B_avg_SUB_ATT\\', \\'B_avg_SIG_STR_landed\\', \\'age_dif\\', \\'B_Light Heavyweight_rank\\', \\'R_avg_TD_pct\\', \\'R_ev\\', \"B_Women\\'s Flyweight_rank\", \"B_Women\\'s Strawweight_rank\", \\'B_Bantamweight_rank\\', \\'R_Reach_cms\\', \\'B_win_by_Decision_Unanimous\\', \\'constant_1\\']'],\n",
       " ['0', '1', '0', '0', '0', '0', '0', '0', '0', '1', '3', '2', '27', '1', '5'],\n",
       " [1751.8798456314714,\n",
       "  32.397091539861236,\n",
       "  -580.852509498543,\n",
       "  -364.5488554206099,\n",
       "  -28.17016060750852,\n",
       "  1650.1583341762712,\n",
       "  468.0115554029955,\n",
       "  2570.446418422199,\n",
       "  -513.9756547885817,\n",
       "  140.33314097840008,\n",
       "  287.0186563961137,\n",
       "  703.5510631112703,\n",
       "  -126.63792775981362,\n",
       "  622.5142487140188,\n",
       "  -296.0965472590791]]"
      ]
     },
     "execution_count": 13,
     "metadata": {},
     "output_type": "execute_result"
    }
   ],
   "source": [
    "models"
   ]
  },
  {
   "cell_type": "code",
   "execution_count": 14,
   "metadata": {},
   "outputs": [
    {
     "name": "stdout",
     "output_type": "stream",
     "text": [
      "HI\n",
      "HI\n",
      "HI\n",
      "HI\n",
      "HI\n"
     ]
    }
   ],
   "source": [
    "with open('models.csv', 'w' , newline='') as outfile:\n",
    "    writer = csv.writer(outfile)\n",
    "    for row in models:\n",
    "        print(\"HI\")\n",
    "        writer.writerow(row)\n",
    "    \n",
    "outfile.close()"
   ]
  },
  {
   "cell_type": "code",
   "execution_count": null,
   "metadata": {},
   "outputs": [],
   "source": []
  }
 ],
 "metadata": {
  "kernelspec": {
   "display_name": "Python 3",
   "language": "python",
   "name": "python3"
  },
  "language_info": {
   "codemirror_mode": {
    "name": "ipython",
    "version": 3
   },
   "file_extension": ".py",
   "mimetype": "text/x-python",
   "name": "python",
   "nbconvert_exporter": "python",
   "pygments_lexer": "ipython3",
   "version": "3.8.8"
  }
 },
 "nbformat": 4,
 "nbformat_minor": 4
}
