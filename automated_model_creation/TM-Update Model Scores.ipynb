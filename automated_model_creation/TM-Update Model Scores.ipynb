{
 "cells": [
  {
   "cell_type": "code",
   "execution_count": 1,
   "metadata": {},
   "outputs": [],
   "source": [
    "import pandas as pd\n",
    "import numpy as np\n",
    "from functions import *\n",
    "import random\n",
    "import csv\n",
    "from sklearn.linear_model import LogisticRegression\n",
    "from sklearn.tree import DecisionTreeClassifier\n",
    "from sklearn.ensemble import GradientBoostingClassifier\n",
    "\n",
    "remove_fight_island = False"
   ]
  },
  {
   "cell_type": "code",
   "execution_count": 2,
   "metadata": {},
   "outputs": [
    {
     "name": "stdout",
     "output_type": "stream",
     "text": [
      "5\n"
     ]
    }
   ],
   "source": [
    "#Load models\n",
    "#REMINDER: We are going to need to use 'eval' to get the models usable\n",
    "with open('../data/production_models.csv', newline='') as f:\n",
    "    reader = csv.reader(f)\n",
    "    models = list(reader)\n",
    "    \n",
    "print(len(models))\n"
   ]
  },
  {
   "cell_type": "code",
   "execution_count": 3,
   "metadata": {},
   "outputs": [
    {
     "data": {
      "text/plain": [
       "[['model_06_13_20',\n",
       "  'model_06_20_20',\n",
       "  'model_6_27_20',\n",
       "  'model_7_18_20',\n",
       "  'model_7_25_20',\n",
       "  'model_9_2_20',\n",
       "  'model_9_10_20',\n",
       "  'model_10_23_20',\n",
       "  'model_10_27_20',\n",
       "  'model_10_28_20',\n",
       "  'model_2021_06_24',\n",
       "  'model_2021_06_30'],\n",
       " ['LogisticRegression(max_iter=50000, random_state=75, tol=5.993308915320019)',\n",
       "  'GaussianNB()',\n",
       "  'GaussianNB()',\n",
       "  'GradientBoostingClassifier(n_estimators=122, random_state=75)',\n",
       "  'GaussianNB()',\n",
       "  'GaussianNB(var_smoothing=1e-12)',\n",
       "  'GaussianNB(var_smoothing=1e-12)',\n",
       "  'GradientBoostingClassifier(max_depth=95, min_samples_leaf=6, n_estimators=195,\\n                           random_state=75)',\n",
       "  \"RandomForestClassifier(criterion='entropy', max_depth=10, n_estimators=197,\\n                       n_jobs=-1, random_state=75)\",\n",
       "  \"RandomForestClassifier(criterion='entropy', max_depth=10, n_estimators=22,\\n                       n_jobs=-1, random_state=75)\",\n",
       "  'GradientBoostingClassifier(max_depth=95, min_samples_leaf=0.0015,\\n                           n_estimators=195, random_state=75)',\n",
       "  'GradientBoostingClassifier(max_depth=95, min_samples_leaf=0.0015,\\n                           n_estimators=195, random_state=75)'],\n",
       " [\"['B_win_by_Decision_Majority', 'B_win_by_TKO_Doctor_Stoppage', 'R_win_by_Decision_Majority', 'R_odds', 'R_current_lose_streak', 'R_Reach_cms', 'B_draw', 'total_round_dif', 'R_ev', 'B_ev']\",\n",
       "  \"['R_win_by_Decision_Unanimous', 'B_win_by_Submission', 'R_Weight_lbs', 'sig_str_dif', 'B_Height_cms', 'B_avg_SUB_ATT', 'R_win_by_TKO_Doctor_Stoppage', 'height_dif', 'B_draw', 'avg_td_dif', 'R_win_by_Decision_Split', 'age_dif', 'B_current_win_streak', 'R_odds']\",\n",
       "  \"['R_longest_win_streak', 'longest_win_streak_dif', 'reach_dif', 'avg_sub_att_dif', 'R_win_by_Decision_Unanimous', 'B_win_by_Submission', 'R_Weight_lbs', 'sig_str_dif', 'B_Height_cms', 'B_avg_SUB_ATT', 'R_win_by_TKO_Doctor_Stoppage', 'height_dif', 'B_draw', 'avg_td_dif', 'R_win_by_Decision_Split', 'age_dif', 'B_current_win_streak', 'R_odds']\",\n",
       "  \"['B_current_win_streak', 'R_win_by_Submission', 'B_win_by_Decision_Unanimous', 'R_win_by_Decision_Unanimous', 'R_current_lose_streak', 'B_win_by_TKO_Doctor_Stoppage', 'win_dif', 'B_win_by_Decision_Split', 'B_wins', 'R_Stance', 'B_age', 'B_Weight_lbs', 'R_ev', 'B_total_rounds_fought', 'location', 'R_odds', 'R_Reach_cms', 'R_Weight_lbs', 'R_current_win_streak', 'R_age', 'empty_arena', 'R_win_by_Decision_Split', 'R_draw', 'lose_streak_dif', 'B_draw']\",\n",
       "  \"['R_Reach_cms', 'total_round_dif', 'R_Height_cms', 'R_avg_SIG_STR_pct', 'B_age', 'R_longest_win_streak', 'lose_streak_dif', 'ko_dif', 'R_win_by_Decision_Majority', 'longest_win_streak_dif', 'avg_sub_att_dif', 'R_Weight_lbs', 'sig_str_dif', 'B_Height_cms', 'B_avg_SUB_ATT', 'R_win_by_TKO_Doctor_Stoppage', 'B_draw', 'avg_td_dif', 'R_win_by_Decision_Split', 'age_dif', 'B_current_win_streak', 'R_odds']\",\n",
       "  \"['win_streak_dif', 'B_Light Heavyweight_rank', 'B_Lightweight_rank', 'R_avg_TD_landed', 'R_Middleweight_rank', 'total_round_dif', 'R_Height_cms', 'R_avg_SIG_STR_pct', 'B_age', 'R_longest_win_streak', 'lose_streak_dif', 'R_win_by_Decision_Majority', 'longest_win_streak_dif', 'avg_sub_att_dif', 'R_Weight_lbs', 'sig_str_dif', 'B_Height_cms', 'B_avg_SUB_ATT', 'R_win_by_TKO_Doctor_Stoppage', 'B_draw', 'avg_td_dif', 'R_win_by_Decision_Split', 'age_dif', 'R_odds']\",\n",
       "  \"['B_Weight_lbs', 'B_Flyweight_rank', 'B_avg_TD_landed', 'B_Light Heavyweight_rank', 'B_Lightweight_rank', 'R_avg_TD_landed', 'R_Middleweight_rank', 'R_Height_cms', 'R_avg_SIG_STR_pct', 'B_age', 'R_longest_win_streak', 'lose_streak_dif', 'R_win_by_Decision_Majority', 'longest_win_streak_dif', 'avg_sub_att_dif', 'sig_str_dif', 'B_avg_SUB_ATT', 'R_win_by_TKO_Doctor_Stoppage', 'B_draw', 'R_win_by_Decision_Split', 'age_dif', 'R_odds']\",\n",
       "  \"['weight_class', 'B_Reach_cms', 'B_Welterweight_rank', 'B_total_title_bouts', 'R_avg_TD_pct', 'B_Bantamweight_rank', 'R_Featherweight_rank', 'no_of_rounds', 'B_draw', 'B_Stance', 'R_win_by_TKO_Doctor_Stoppage', 'R_current_win_streak', 'B_avg_SIG_STR_landed', 'country']\",\n",
       "  '[\\'R_Height_cms\\', \\'R_Bantamweight_rank\\', \\'B_current_lose_streak\\', \\'avg_sub_att_dif\\', \\'B_Middleweight_rank\\', \\'R_current_win_streak\\', \\'total_round_dif\\', \\'B_avg_SUB_ATT\\', \\'B_avg_SIG_STR_landed\\', \\'age_dif\\', \\'B_Light Heavyweight_rank\\', \\'R_avg_TD_pct\\', \\'R_ev\\', \"B_Women\\'s Flyweight_rank\", \"B_Women\\'s Strawweight_rank\", \\'B_Bantamweight_rank\\', \\'R_Reach_cms\\', \\'B_win_by_Decision_Unanimous\\', \\'constant_1\\']',\n",
       "  '[\\'B_Stance\\', \\'R_current_lose_streak\\', \\'loss_dif\\', \\'B_win_by_Decision_Split\\', \\'R_Height_cms\\', \\'R_Bantamweight_rank\\', \\'B_current_lose_streak\\', \\'avg_sub_att_dif\\', \\'B_Middleweight_rank\\', \\'R_current_win_streak\\', \\'total_round_dif\\', \\'B_avg_SUB_ATT\\', \\'B_avg_SIG_STR_landed\\', \\'age_dif\\', \\'B_Light Heavyweight_rank\\', \\'R_avg_TD_pct\\', \\'R_ev\\', \"B_Women\\'s Flyweight_rank\", \"B_Women\\'s Strawweight_rank\", \\'B_Bantamweight_rank\\', \\'R_Reach_cms\\', \\'B_win_by_Decision_Unanimous\\', \\'constant_1\\']',\n",
       "  '[\"R_Women\\'s Featherweight_rank\", \\'B_Featherweight_rank\\', \\'B_win_by_KO/TKO\\', \\'R_Pound-for-Pound_rank\\', \\'reach_dif\\', \"R_Women\\'s Bantamweight_rank\", \\'age_dif\\', \\'weight_class\\', \\'B_Reach_cms\\', \\'B_Welterweight_rank\\', \\'B_total_title_bouts\\', \\'R_avg_TD_pct\\', \\'B_Bantamweight_rank\\', \\'R_Featherweight_rank\\', \\'no_of_rounds\\', \\'B_draw\\', \\'B_Stance\\', \\'R_win_by_TKO_Doctor_Stoppage\\', \\'R_current_win_streak\\', \\'B_avg_SIG_STR_landed\\', \\'country\\']',\n",
       "  '[\"R_Women\\'s Strawweight_rank\", \\'B_Lightweight_rank\\', \\'B_Pound-for-Pound_rank\\', \"R_Women\\'s Featherweight_rank\", \\'B_Featherweight_rank\\', \\'B_win_by_KO/TKO\\', \\'R_Pound-for-Pound_rank\\', \\'reach_dif\\', \"R_Women\\'s Bantamweight_rank\", \\'age_dif\\', \\'weight_class\\', \\'B_Reach_cms\\', \\'B_Welterweight_rank\\', \\'B_total_title_bouts\\', \\'R_avg_TD_pct\\', \\'B_Bantamweight_rank\\', \\'R_Featherweight_rank\\', \\'no_of_rounds\\', \\'B_draw\\', \\'B_Stance\\', \\'R_win_by_TKO_Doctor_Stoppage\\', \\'R_current_win_streak\\', \\'B_avg_SIG_STR_landed\\', \\'country\\']'],\n",
       " ['0', '0', '0', '0', '1', '3', '2', '27', '1', '5', '33', '0'],\n",
       " ['1652.412901',\n",
       "  '-89.10560164',\n",
       "  '931.7343408',\n",
       "  '-1665.294851',\n",
       "  '22.11070203',\n",
       "  '-93.34709404',\n",
       "  '-23.27494407',\n",
       "  '549.7604014',\n",
       "  '-635.9246582',\n",
       "  '-678.809811',\n",
       "  '2001.216221',\n",
       "  '2634.183443']]"
      ]
     },
     "execution_count": 3,
     "metadata": {},
     "output_type": "execute_result"
    }
   ],
   "source": [
    "models"
   ]
  },
  {
   "cell_type": "code",
   "execution_count": 4,
   "metadata": {},
   "outputs": [],
   "source": [
    "df = pd.read_csv(\"../data/kaggle_data/ufc-master.csv\")"
   ]
  },
  {
   "cell_type": "code",
   "execution_count": 5,
   "metadata": {},
   "outputs": [
    {
     "name": "stdout",
     "output_type": "stream",
     "text": [
      "250\n",
      "250\n",
      "250\n",
      "4533\n",
      "4533\n",
      "4533\n"
     ]
    },
    {
     "name": "stderr",
     "output_type": "stream",
     "text": [
      "<ipython-input-5-d6c2a1ffdd58>:5: SettingWithCopyWarning: \n",
      "A value is trying to be set on a copy of a slice from a DataFrame\n",
      "\n",
      "See the caveats in the documentation: https://pandas.pydata.org/pandas-docs/stable/user_guide/indexing.html#returning-a-view-versus-a-copy\n",
      "  df['label'][mask] = 0\n",
      "<ipython-input-5-d6c2a1ffdd58>:7: SettingWithCopyWarning: \n",
      "A value is trying to be set on a copy of a slice from a DataFrame\n",
      "\n",
      "See the caveats in the documentation: https://pandas.pydata.org/pandas-docs/stable/user_guide/indexing.html#returning-a-view-versus-a-copy\n",
      "  df['label'][mask] = 1\n"
     ]
    }
   ],
   "source": [
    "#Let's put all the labels in a dataframe\n",
    "df['label'] = ''\n",
    "#If the winner is not Red or Blue we can remove it.\n",
    "mask = df['Winner'] == 'Red'\n",
    "df['label'][mask] = 0\n",
    "mask = df['Winner'] == 'Blue'\n",
    "df['label'][mask] = 1\n",
    "\n",
    "#df[\"Winner\"] = df[\"Winner\"].astype('category')\n",
    "df = df[(df['Winner'] == 'Blue') | (df['Winner'] == 'Red')]\n",
    "\n",
    "\n",
    "#Make sure lable is numeric\n",
    "df['label'] = pd.to_numeric(df['label'], errors='coerce')\n",
    "\n",
    "#Let's fix the date\n",
    "df['date'] = pd.to_datetime(df['date'])\n",
    "\n",
    "#Create a label df:\n",
    "label_df = df['label']\n",
    "\n",
    "#Let's create an odds df too:\n",
    "odds_df = df[['R_odds', 'B_odds']]\n",
    "\n",
    "#Split the test set.  We are always(?) going to use the last 200 matches as the test set, so we don't want those around\n",
    "#as we pick models\n",
    "\n",
    "df_train = df[250:]\n",
    "odds_train = odds_df[250:]\n",
    "label_train = label_df[250:]\n",
    "\n",
    "df_test = df[:250]\n",
    "odds_test = odds_df[:250]\n",
    "label_test = label_df[:250]\n",
    "\n",
    "print(len(df_test))\n",
    "print(len(odds_test))\n",
    "print(len(label_test))\n",
    "\n",
    "print(len(df_train))\n",
    "print(len(odds_train))\n",
    "print(len(label_train))"
   ]
  },
  {
   "cell_type": "code",
   "execution_count": 6,
   "metadata": {},
   "outputs": [
    {
     "name": "stdout",
     "output_type": "stream",
     "text": [
      "250\n",
      "4533\n"
     ]
    }
   ],
   "source": [
    "if remove_fight_island:\n",
    "    ##Let's remove the Fight island contests and see how that affects score\n",
    "    df_test_no_fight_island = df_test[(df_test['location'] != 'Abu Dhabi, Abu Dhabi, United Arab Emirates')]\n",
    "    df_train_no_fight_island = df_train[(df_train['location'] != 'Abu Dhabi, Abu Dhabi, United Arab Emirates')]\n",
    "    df_test = df_test_no_fight_island\n",
    "    df_train = df_train_no_fight_island\n",
    "\n",
    "\n",
    "\n",
    "print(len(df_test))\n",
    "print(len(df_train))\n"
   ]
  },
  {
   "cell_type": "code",
   "execution_count": 7,
   "metadata": {},
   "outputs": [
    {
     "name": "stderr",
     "output_type": "stream",
     "text": [
      "C:\\Users\\matth\\anaconda3\\lib\\site-packages\\pandas\\core\\frame.py:3191: SettingWithCopyWarning: \n",
      "A value is trying to be set on a copy of a slice from a DataFrame.\n",
      "Try using .loc[row_indexer,col_indexer] = value instead\n",
      "\n",
      "See the caveats in the documentation: https://pandas.pydata.org/pandas-docs/stable/user_guide/indexing.html#returning-a-view-versus-a-copy\n",
      "  self[k1] = value[k2]\n"
     ]
    }
   ],
   "source": [
    "#Set a value for the nulls in the ranks\n",
    "\n",
    "weightclass_list = ['B_match_weightclass_rank', 'R_match_weightclass_rank', \"R_Women's Flyweight_rank\", \"R_Women's Featherweight_rank\", \"R_Women's Strawweight_rank\", \"R_Women's Bantamweight_rank\", 'R_Heavyweight_rank', 'R_Light Heavyweight_rank', 'R_Middleweight_rank', 'R_Welterweight_rank', 'R_Lightweight_rank', 'R_Featherweight_rank', 'R_Bantamweight_rank', 'R_Flyweight_rank', 'R_Pound-for-Pound_rank', \"B_Women's Flyweight_rank\", \"B_Women's Featherweight_rank\", \"B_Women's Strawweight_rank\", \"B_Women's Bantamweight_rank\", 'B_Heavyweight_rank', 'B_Light Heavyweight_rank', 'B_Middleweight_rank', 'B_Welterweight_rank', 'B_Lightweight_rank', 'B_Featherweight_rank', 'B_Bantamweight_rank', 'B_Flyweight_rank', 'B_Pound-for-Pound_rank']\n",
    "df_train[weightclass_list] = df_train[weightclass_list].fillna(17)\n",
    "df_test[weightclass_list] = df_test[weightclass_list].fillna(17)"
   ]
  },
  {
   "cell_type": "code",
   "execution_count": 8,
   "metadata": {},
   "outputs": [
    {
     "data": {
      "text/plain": [
       "12"
      ]
     },
     "execution_count": 8,
     "metadata": {},
     "output_type": "execute_result"
    }
   ],
   "source": [
    "len(models[0])"
   ]
  },
  {
   "cell_type": "code",
   "execution_count": null,
   "metadata": {},
   "outputs": [],
   "source": []
  },
  {
   "cell_type": "code",
   "execution_count": 9,
   "metadata": {},
   "outputs": [
    {
     "data": {
      "text/plain": [
       "(4533, 10)"
      ]
     },
     "metadata": {},
     "output_type": "display_data"
    },
    {
     "data": {
      "text/plain": [
       "(4533,)"
      ]
     },
     "metadata": {},
     "output_type": "display_data"
    },
    {
     "data": {
      "text/plain": [
       "(4533, 2)"
      ]
     },
     "metadata": {},
     "output_type": "display_data"
    },
    {
     "data": {
      "text/plain": [
       "(250, 10)"
      ]
     },
     "metadata": {},
     "output_type": "display_data"
    },
    {
     "data": {
      "text/plain": [
       "(250,)"
      ]
     },
     "metadata": {},
     "output_type": "display_data"
    },
    {
     "data": {
      "text/plain": [
       "(250, 2)"
      ]
     },
     "metadata": {},
     "output_type": "display_data"
    },
    {
     "data": {
      "text/html": [
       "<div>\n",
       "<style scoped>\n",
       "    .dataframe tbody tr th:only-of-type {\n",
       "        vertical-align: middle;\n",
       "    }\n",
       "\n",
       "    .dataframe tbody tr th {\n",
       "        vertical-align: top;\n",
       "    }\n",
       "\n",
       "    .dataframe thead th {\n",
       "        text-align: right;\n",
       "    }\n",
       "</style>\n",
       "<table border=\"1\" class=\"dataframe\">\n",
       "  <thead>\n",
       "    <tr style=\"text-align: right;\">\n",
       "      <th></th>\n",
       "      <th>t1_odds</th>\n",
       "      <th>t2_odds</th>\n",
       "      <th>t1_prob</th>\n",
       "      <th>t2_prob</th>\n",
       "      <th>winner</th>\n",
       "    </tr>\n",
       "  </thead>\n",
       "  <tbody>\n",
       "    <tr>\n",
       "      <th>0</th>\n",
       "      <td>-129</td>\n",
       "      <td>100</td>\n",
       "      <td>0.517066</td>\n",
       "      <td>0.482934</td>\n",
       "      <td>0</td>\n",
       "    </tr>\n",
       "    <tr>\n",
       "      <th>1</th>\n",
       "      <td>130</td>\n",
       "      <td>-162</td>\n",
       "      <td>0.382325</td>\n",
       "      <td>0.617675</td>\n",
       "      <td>0</td>\n",
       "    </tr>\n",
       "    <tr>\n",
       "      <th>2</th>\n",
       "      <td>-130</td>\n",
       "      <td>105</td>\n",
       "      <td>0.550945</td>\n",
       "      <td>0.449055</td>\n",
       "      <td>0</td>\n",
       "    </tr>\n",
       "    <tr>\n",
       "      <th>3</th>\n",
       "      <td>-107</td>\n",
       "      <td>-115</td>\n",
       "      <td>0.495141</td>\n",
       "      <td>0.504859</td>\n",
       "      <td>0</td>\n",
       "    </tr>\n",
       "    <tr>\n",
       "      <th>4</th>\n",
       "      <td>-1000</td>\n",
       "      <td>580</td>\n",
       "      <td>0.916873</td>\n",
       "      <td>0.083127</td>\n",
       "      <td>0</td>\n",
       "    </tr>\n",
       "    <tr>\n",
       "      <th>...</th>\n",
       "      <td>...</td>\n",
       "      <td>...</td>\n",
       "      <td>...</td>\n",
       "      <td>...</td>\n",
       "      <td>...</td>\n",
       "    </tr>\n",
       "    <tr>\n",
       "      <th>245</th>\n",
       "      <td>-155</td>\n",
       "      <td>125</td>\n",
       "      <td>0.580050</td>\n",
       "      <td>0.419950</td>\n",
       "      <td>0</td>\n",
       "    </tr>\n",
       "    <tr>\n",
       "      <th>246</th>\n",
       "      <td>-175</td>\n",
       "      <td>135</td>\n",
       "      <td>0.597944</td>\n",
       "      <td>0.402056</td>\n",
       "      <td>1</td>\n",
       "    </tr>\n",
       "    <tr>\n",
       "      <th>247</th>\n",
       "      <td>-530</td>\n",
       "      <td>375</td>\n",
       "      <td>0.830347</td>\n",
       "      <td>0.169653</td>\n",
       "      <td>0</td>\n",
       "    </tr>\n",
       "    <tr>\n",
       "      <th>248</th>\n",
       "      <td>170</td>\n",
       "      <td>-215</td>\n",
       "      <td>0.396891</td>\n",
       "      <td>0.603109</td>\n",
       "      <td>1</td>\n",
       "    </tr>\n",
       "    <tr>\n",
       "      <th>249</th>\n",
       "      <td>-162</td>\n",
       "      <td>138</td>\n",
       "      <td>0.576636</td>\n",
       "      <td>0.423364</td>\n",
       "      <td>0</td>\n",
       "    </tr>\n",
       "  </tbody>\n",
       "</table>\n",
       "<p>250 rows × 5 columns</p>\n",
       "</div>"
      ],
      "text/plain": [
       "     t1_odds  t2_odds   t1_prob   t2_prob  winner\n",
       "0       -129      100  0.517066  0.482934       0\n",
       "1        130     -162  0.382325  0.617675       0\n",
       "2       -130      105  0.550945  0.449055       0\n",
       "3       -107     -115  0.495141  0.504859       0\n",
       "4      -1000      580  0.916873  0.083127       0\n",
       "..       ...      ...       ...       ...     ...\n",
       "245     -155      125  0.580050  0.419950       0\n",
       "246     -175      135  0.597944  0.402056       1\n",
       "247     -530      375  0.830347  0.169653       0\n",
       "248      170     -215  0.396891  0.603109       1\n",
       "249     -162      138  0.576636  0.423364       0\n",
       "\n",
       "[250 rows x 5 columns]"
      ]
     },
     "metadata": {},
     "output_type": "display_data"
    },
    {
     "name": "stdout",
     "output_type": "stream",
     "text": [
      "\n",
      "          Number of matches: 250\n",
      "          Number of bets: 115\n",
      "          Number of winning bets: 59\n",
      "          Number of losing bets: 57\n",
      "          Number of underdog bets: 98\n",
      "          Number of underdog wins: 43\n",
      "          Number of underdog losses: 55\n",
      "          Number of Favorite bets: 18\n",
      "          Number of favorite wins: 16\n",
      "          Number of favorite losses: 2\n",
      "          Number of even bets: 0\n",
      "          Number of even wins: 0\n",
      "          Number of even losses: 0\n",
      "          Profit: 1327.4129006482722\n",
      "          Profit per bet: 11.542720875202367\n",
      "          Profit per match: 5.309651602593089\n",
      "          \n",
      "          \n"
     ]
    },
    {
     "data": {
      "text/plain": [
       "(3701, 14)"
      ]
     },
     "metadata": {},
     "output_type": "display_data"
    },
    {
     "data": {
      "text/plain": [
       "(3701,)"
      ]
     },
     "metadata": {},
     "output_type": "display_data"
    },
    {
     "data": {
      "text/plain": [
       "(3701, 2)"
      ]
     },
     "metadata": {},
     "output_type": "display_data"
    },
    {
     "data": {
      "text/plain": [
       "(250, 14)"
      ]
     },
     "metadata": {},
     "output_type": "display_data"
    },
    {
     "data": {
      "text/plain": [
       "(250,)"
      ]
     },
     "metadata": {},
     "output_type": "display_data"
    },
    {
     "data": {
      "text/plain": [
       "(250, 2)"
      ]
     },
     "metadata": {},
     "output_type": "display_data"
    },
    {
     "data": {
      "text/html": [
       "<div>\n",
       "<style scoped>\n",
       "    .dataframe tbody tr th:only-of-type {\n",
       "        vertical-align: middle;\n",
       "    }\n",
       "\n",
       "    .dataframe tbody tr th {\n",
       "        vertical-align: top;\n",
       "    }\n",
       "\n",
       "    .dataframe thead th {\n",
       "        text-align: right;\n",
       "    }\n",
       "</style>\n",
       "<table border=\"1\" class=\"dataframe\">\n",
       "  <thead>\n",
       "    <tr style=\"text-align: right;\">\n",
       "      <th></th>\n",
       "      <th>t1_odds</th>\n",
       "      <th>t2_odds</th>\n",
       "      <th>t1_prob</th>\n",
       "      <th>t2_prob</th>\n",
       "      <th>winner</th>\n",
       "    </tr>\n",
       "  </thead>\n",
       "  <tbody>\n",
       "    <tr>\n",
       "      <th>0</th>\n",
       "      <td>-129</td>\n",
       "      <td>100</td>\n",
       "      <td>0.693488</td>\n",
       "      <td>0.306512</td>\n",
       "      <td>0</td>\n",
       "    </tr>\n",
       "    <tr>\n",
       "      <th>1</th>\n",
       "      <td>130</td>\n",
       "      <td>-162</td>\n",
       "      <td>0.000238</td>\n",
       "      <td>0.999762</td>\n",
       "      <td>0</td>\n",
       "    </tr>\n",
       "    <tr>\n",
       "      <th>2</th>\n",
       "      <td>-130</td>\n",
       "      <td>105</td>\n",
       "      <td>0.656852</td>\n",
       "      <td>0.343148</td>\n",
       "      <td>0</td>\n",
       "    </tr>\n",
       "    <tr>\n",
       "      <th>3</th>\n",
       "      <td>-107</td>\n",
       "      <td>-115</td>\n",
       "      <td>0.659017</td>\n",
       "      <td>0.340983</td>\n",
       "      <td>0</td>\n",
       "    </tr>\n",
       "    <tr>\n",
       "      <th>4</th>\n",
       "      <td>-1000</td>\n",
       "      <td>580</td>\n",
       "      <td>0.994817</td>\n",
       "      <td>0.005183</td>\n",
       "      <td>0</td>\n",
       "    </tr>\n",
       "    <tr>\n",
       "      <th>...</th>\n",
       "      <td>...</td>\n",
       "      <td>...</td>\n",
       "      <td>...</td>\n",
       "      <td>...</td>\n",
       "      <td>...</td>\n",
       "    </tr>\n",
       "    <tr>\n",
       "      <th>245</th>\n",
       "      <td>-155</td>\n",
       "      <td>125</td>\n",
       "      <td>0.793762</td>\n",
       "      <td>0.206238</td>\n",
       "      <td>0</td>\n",
       "    </tr>\n",
       "    <tr>\n",
       "      <th>246</th>\n",
       "      <td>-175</td>\n",
       "      <td>135</td>\n",
       "      <td>0.787798</td>\n",
       "      <td>0.212202</td>\n",
       "      <td>1</td>\n",
       "    </tr>\n",
       "    <tr>\n",
       "      <th>247</th>\n",
       "      <td>-530</td>\n",
       "      <td>375</td>\n",
       "      <td>0.880274</td>\n",
       "      <td>0.119726</td>\n",
       "      <td>0</td>\n",
       "    </tr>\n",
       "    <tr>\n",
       "      <th>248</th>\n",
       "      <td>170</td>\n",
       "      <td>-215</td>\n",
       "      <td>0.671548</td>\n",
       "      <td>0.328452</td>\n",
       "      <td>1</td>\n",
       "    </tr>\n",
       "    <tr>\n",
       "      <th>249</th>\n",
       "      <td>-162</td>\n",
       "      <td>138</td>\n",
       "      <td>0.555059</td>\n",
       "      <td>0.444941</td>\n",
       "      <td>0</td>\n",
       "    </tr>\n",
       "  </tbody>\n",
       "</table>\n",
       "<p>250 rows × 5 columns</p>\n",
       "</div>"
      ],
      "text/plain": [
       "     t1_odds  t2_odds   t1_prob   t2_prob  winner\n",
       "0       -129      100  0.693488  0.306512       0\n",
       "1        130     -162  0.000238  0.999762       0\n",
       "2       -130      105  0.656852  0.343148       0\n",
       "3       -107     -115  0.659017  0.340983       0\n",
       "4      -1000      580  0.994817  0.005183       0\n",
       "..       ...      ...       ...       ...     ...\n",
       "245     -155      125  0.793762  0.206238       0\n",
       "246     -175      135  0.787798  0.212202       1\n",
       "247     -530      375  0.880274  0.119726       0\n",
       "248      170     -215  0.671548  0.328452       1\n",
       "249     -162      138  0.555059  0.444941       0\n",
       "\n",
       "[250 rows x 5 columns]"
      ]
     },
     "metadata": {},
     "output_type": "display_data"
    },
    {
     "name": "stdout",
     "output_type": "stream",
     "text": [
      "\n",
      "          Number of matches: 250\n",
      "          Number of bets: 231\n",
      "          Number of winning bets: 120\n",
      "          Number of losing bets: 111\n",
      "          Number of underdog bets: 109\n",
      "          Number of underdog wins: 43\n",
      "          Number of underdog losses: 66\n",
      "          Number of Favorite bets: 120\n",
      "          Number of favorite wins: 77\n",
      "          Number of favorite losses: 43\n",
      "          Number of even bets: 2\n",
      "          Number of even wins: 0\n",
      "          Number of even losses: 2\n",
      "          Profit: -565.0511426621727\n",
      "          Profit per bet: -2.446108842693388\n",
      "          Profit per match: -2.2602045706486904\n",
      "          \n",
      "          \n"
     ]
    },
    {
     "data": {
      "text/plain": [
       "(3701, 18)"
      ]
     },
     "metadata": {},
     "output_type": "display_data"
    },
    {
     "data": {
      "text/plain": [
       "(3701,)"
      ]
     },
     "metadata": {},
     "output_type": "display_data"
    },
    {
     "data": {
      "text/plain": [
       "(3701, 2)"
      ]
     },
     "metadata": {},
     "output_type": "display_data"
    },
    {
     "data": {
      "text/plain": [
       "(250, 18)"
      ]
     },
     "metadata": {},
     "output_type": "display_data"
    },
    {
     "data": {
      "text/plain": [
       "(250,)"
      ]
     },
     "metadata": {},
     "output_type": "display_data"
    },
    {
     "data": {
      "text/plain": [
       "(250, 2)"
      ]
     },
     "metadata": {},
     "output_type": "display_data"
    },
    {
     "data": {
      "text/html": [
       "<div>\n",
       "<style scoped>\n",
       "    .dataframe tbody tr th:only-of-type {\n",
       "        vertical-align: middle;\n",
       "    }\n",
       "\n",
       "    .dataframe tbody tr th {\n",
       "        vertical-align: top;\n",
       "    }\n",
       "\n",
       "    .dataframe thead th {\n",
       "        text-align: right;\n",
       "    }\n",
       "</style>\n",
       "<table border=\"1\" class=\"dataframe\">\n",
       "  <thead>\n",
       "    <tr style=\"text-align: right;\">\n",
       "      <th></th>\n",
       "      <th>t1_odds</th>\n",
       "      <th>t2_odds</th>\n",
       "      <th>t1_prob</th>\n",
       "      <th>t2_prob</th>\n",
       "      <th>winner</th>\n",
       "    </tr>\n",
       "  </thead>\n",
       "  <tbody>\n",
       "    <tr>\n",
       "      <th>0</th>\n",
       "      <td>-129</td>\n",
       "      <td>100</td>\n",
       "      <td>0.680232</td>\n",
       "      <td>0.319768</td>\n",
       "      <td>0</td>\n",
       "    </tr>\n",
       "    <tr>\n",
       "      <th>1</th>\n",
       "      <td>130</td>\n",
       "      <td>-162</td>\n",
       "      <td>0.000221</td>\n",
       "      <td>0.999779</td>\n",
       "      <td>0</td>\n",
       "    </tr>\n",
       "    <tr>\n",
       "      <th>2</th>\n",
       "      <td>-130</td>\n",
       "      <td>105</td>\n",
       "      <td>0.586115</td>\n",
       "      <td>0.413885</td>\n",
       "      <td>0</td>\n",
       "    </tr>\n",
       "    <tr>\n",
       "      <th>3</th>\n",
       "      <td>-107</td>\n",
       "      <td>-115</td>\n",
       "      <td>0.521503</td>\n",
       "      <td>0.478497</td>\n",
       "      <td>0</td>\n",
       "    </tr>\n",
       "    <tr>\n",
       "      <th>4</th>\n",
       "      <td>-1000</td>\n",
       "      <td>580</td>\n",
       "      <td>0.997750</td>\n",
       "      <td>0.002250</td>\n",
       "      <td>0</td>\n",
       "    </tr>\n",
       "    <tr>\n",
       "      <th>...</th>\n",
       "      <td>...</td>\n",
       "      <td>...</td>\n",
       "      <td>...</td>\n",
       "      <td>...</td>\n",
       "      <td>...</td>\n",
       "    </tr>\n",
       "    <tr>\n",
       "      <th>245</th>\n",
       "      <td>-155</td>\n",
       "      <td>125</td>\n",
       "      <td>0.698208</td>\n",
       "      <td>0.301792</td>\n",
       "      <td>0</td>\n",
       "    </tr>\n",
       "    <tr>\n",
       "      <th>246</th>\n",
       "      <td>-175</td>\n",
       "      <td>135</td>\n",
       "      <td>0.707133</td>\n",
       "      <td>0.292867</td>\n",
       "      <td>1</td>\n",
       "    </tr>\n",
       "    <tr>\n",
       "      <th>247</th>\n",
       "      <td>-530</td>\n",
       "      <td>375</td>\n",
       "      <td>0.828046</td>\n",
       "      <td>0.171954</td>\n",
       "      <td>0</td>\n",
       "    </tr>\n",
       "    <tr>\n",
       "      <th>248</th>\n",
       "      <td>170</td>\n",
       "      <td>-215</td>\n",
       "      <td>0.542226</td>\n",
       "      <td>0.457774</td>\n",
       "      <td>1</td>\n",
       "    </tr>\n",
       "    <tr>\n",
       "      <th>249</th>\n",
       "      <td>-162</td>\n",
       "      <td>138</td>\n",
       "      <td>0.994201</td>\n",
       "      <td>0.005799</td>\n",
       "      <td>0</td>\n",
       "    </tr>\n",
       "  </tbody>\n",
       "</table>\n",
       "<p>250 rows × 5 columns</p>\n",
       "</div>"
      ],
      "text/plain": [
       "     t1_odds  t2_odds   t1_prob   t2_prob  winner\n",
       "0       -129      100  0.680232  0.319768       0\n",
       "1        130     -162  0.000221  0.999779       0\n",
       "2       -130      105  0.586115  0.413885       0\n",
       "3       -107     -115  0.521503  0.478497       0\n",
       "4      -1000      580  0.997750  0.002250       0\n",
       "..       ...      ...       ...       ...     ...\n",
       "245     -155      125  0.698208  0.301792       0\n",
       "246     -175      135  0.707133  0.292867       1\n",
       "247     -530      375  0.828046  0.171954       0\n",
       "248      170     -215  0.542226  0.457774       1\n",
       "249     -162      138  0.994201  0.005799       0\n",
       "\n",
       "[250 rows x 5 columns]"
      ]
     },
     "metadata": {},
     "output_type": "display_data"
    },
    {
     "name": "stdout",
     "output_type": "stream",
     "text": [
      "\n",
      "          Number of matches: 250\n",
      "          Number of bets: 227\n",
      "          Number of winning bets: 124\n",
      "          Number of losing bets: 104\n",
      "          Number of underdog bets: 113\n",
      "          Number of underdog wins: 46\n",
      "          Number of underdog losses: 67\n",
      "          Number of Favorite bets: 113\n",
      "          Number of favorite wins: 78\n",
      "          Number of favorite losses: 35\n",
      "          Number of even bets: 2\n",
      "          Number of even wins: 0\n",
      "          Number of even losses: 2\n",
      "          Profit: 1208.7101824074134\n",
      "          Profit per bet: 5.324714459944553\n",
      "          Profit per match: 4.834840729629653\n",
      "          \n",
      "          \n"
     ]
    },
    {
     "data": {
      "text/plain": [
       "(4533, 172)"
      ]
     },
     "metadata": {},
     "output_type": "display_data"
    },
    {
     "data": {
      "text/plain": [
       "(4533,)"
      ]
     },
     "metadata": {},
     "output_type": "display_data"
    },
    {
     "data": {
      "text/plain": [
       "(4533, 2)"
      ]
     },
     "metadata": {},
     "output_type": "display_data"
    },
    {
     "data": {
      "text/plain": [
       "(250, 172)"
      ]
     },
     "metadata": {},
     "output_type": "display_data"
    },
    {
     "data": {
      "text/plain": [
       "(250,)"
      ]
     },
     "metadata": {},
     "output_type": "display_data"
    },
    {
     "data": {
      "text/plain": [
       "(250, 2)"
      ]
     },
     "metadata": {},
     "output_type": "display_data"
    },
    {
     "data": {
      "text/html": [
       "<div>\n",
       "<style scoped>\n",
       "    .dataframe tbody tr th:only-of-type {\n",
       "        vertical-align: middle;\n",
       "    }\n",
       "\n",
       "    .dataframe tbody tr th {\n",
       "        vertical-align: top;\n",
       "    }\n",
       "\n",
       "    .dataframe thead th {\n",
       "        text-align: right;\n",
       "    }\n",
       "</style>\n",
       "<table border=\"1\" class=\"dataframe\">\n",
       "  <thead>\n",
       "    <tr style=\"text-align: right;\">\n",
       "      <th></th>\n",
       "      <th>t1_odds</th>\n",
       "      <th>t2_odds</th>\n",
       "      <th>t1_prob</th>\n",
       "      <th>t2_prob</th>\n",
       "      <th>winner</th>\n",
       "    </tr>\n",
       "  </thead>\n",
       "  <tbody>\n",
       "    <tr>\n",
       "      <th>0</th>\n",
       "      <td>-129</td>\n",
       "      <td>100</td>\n",
       "      <td>0.606069</td>\n",
       "      <td>0.393931</td>\n",
       "      <td>0</td>\n",
       "    </tr>\n",
       "    <tr>\n",
       "      <th>1</th>\n",
       "      <td>130</td>\n",
       "      <td>-162</td>\n",
       "      <td>0.342619</td>\n",
       "      <td>0.657381</td>\n",
       "      <td>0</td>\n",
       "    </tr>\n",
       "    <tr>\n",
       "      <th>2</th>\n",
       "      <td>-130</td>\n",
       "      <td>105</td>\n",
       "      <td>0.576866</td>\n",
       "      <td>0.423134</td>\n",
       "      <td>0</td>\n",
       "    </tr>\n",
       "    <tr>\n",
       "      <th>3</th>\n",
       "      <td>-107</td>\n",
       "      <td>-115</td>\n",
       "      <td>0.519576</td>\n",
       "      <td>0.480424</td>\n",
       "      <td>0</td>\n",
       "    </tr>\n",
       "    <tr>\n",
       "      <th>4</th>\n",
       "      <td>-1000</td>\n",
       "      <td>580</td>\n",
       "      <td>0.890615</td>\n",
       "      <td>0.109385</td>\n",
       "      <td>0</td>\n",
       "    </tr>\n",
       "    <tr>\n",
       "      <th>...</th>\n",
       "      <td>...</td>\n",
       "      <td>...</td>\n",
       "      <td>...</td>\n",
       "      <td>...</td>\n",
       "      <td>...</td>\n",
       "    </tr>\n",
       "    <tr>\n",
       "      <th>245</th>\n",
       "      <td>-155</td>\n",
       "      <td>125</td>\n",
       "      <td>0.543092</td>\n",
       "      <td>0.456908</td>\n",
       "      <td>0</td>\n",
       "    </tr>\n",
       "    <tr>\n",
       "      <th>246</th>\n",
       "      <td>-175</td>\n",
       "      <td>135</td>\n",
       "      <td>0.557926</td>\n",
       "      <td>0.442074</td>\n",
       "      <td>1</td>\n",
       "    </tr>\n",
       "    <tr>\n",
       "      <th>247</th>\n",
       "      <td>-530</td>\n",
       "      <td>375</td>\n",
       "      <td>0.793835</td>\n",
       "      <td>0.206165</td>\n",
       "      <td>0</td>\n",
       "    </tr>\n",
       "    <tr>\n",
       "      <th>248</th>\n",
       "      <td>170</td>\n",
       "      <td>-215</td>\n",
       "      <td>0.431492</td>\n",
       "      <td>0.568508</td>\n",
       "      <td>1</td>\n",
       "    </tr>\n",
       "    <tr>\n",
       "      <th>249</th>\n",
       "      <td>-162</td>\n",
       "      <td>138</td>\n",
       "      <td>0.567207</td>\n",
       "      <td>0.432793</td>\n",
       "      <td>0</td>\n",
       "    </tr>\n",
       "  </tbody>\n",
       "</table>\n",
       "<p>250 rows × 5 columns</p>\n",
       "</div>"
      ],
      "text/plain": [
       "     t1_odds  t2_odds   t1_prob   t2_prob  winner\n",
       "0       -129      100  0.606069  0.393931       0\n",
       "1        130     -162  0.342619  0.657381       0\n",
       "2       -130      105  0.576866  0.423134       0\n",
       "3       -107     -115  0.519576  0.480424       0\n",
       "4      -1000      580  0.890615  0.109385       0\n",
       "..       ...      ...       ...       ...     ...\n",
       "245     -155      125  0.543092  0.456908       0\n",
       "246     -175      135  0.557926  0.442074       1\n",
       "247     -530      375  0.793835  0.206165       0\n",
       "248      170     -215  0.431492  0.568508       1\n",
       "249     -162      138  0.567207  0.432793       0\n",
       "\n",
       "[250 rows x 5 columns]"
      ]
     },
     "metadata": {},
     "output_type": "display_data"
    },
    {
     "name": "stdout",
     "output_type": "stream",
     "text": [
      "\n",
      "          Number of matches: 250\n",
      "          Number of bets: 199\n",
      "          Number of winning bets: 108\n",
      "          Number of losing bets: 92\n",
      "          Number of underdog bets: 100\n",
      "          Number of underdog wins: 43\n",
      "          Number of underdog losses: 57\n",
      "          Number of Favorite bets: 98\n",
      "          Number of favorite wins: 65\n",
      "          Number of favorite losses: 33\n",
      "          Number of even bets: 2\n",
      "          Number of even wins: 0\n",
      "          Number of even losses: 2\n",
      "          Profit: 172.0095485124437\n",
      "          Profit per bet: 0.8643695905147925\n",
      "          Profit per match: 0.6880381940497748\n",
      "          \n",
      "          \n"
     ]
    },
    {
     "data": {
      "text/plain": [
       "(3590, 22)"
      ]
     },
     "metadata": {},
     "output_type": "display_data"
    },
    {
     "data": {
      "text/plain": [
       "(3590,)"
      ]
     },
     "metadata": {},
     "output_type": "display_data"
    },
    {
     "data": {
      "text/plain": [
       "(3590, 2)"
      ]
     },
     "metadata": {},
     "output_type": "display_data"
    },
    {
     "data": {
      "text/plain": [
       "(250, 22)"
      ]
     },
     "metadata": {},
     "output_type": "display_data"
    },
    {
     "data": {
      "text/plain": [
       "(250,)"
      ]
     },
     "metadata": {},
     "output_type": "display_data"
    },
    {
     "data": {
      "text/plain": [
       "(250, 2)"
      ]
     },
     "metadata": {},
     "output_type": "display_data"
    },
    {
     "data": {
      "text/html": [
       "<div>\n",
       "<style scoped>\n",
       "    .dataframe tbody tr th:only-of-type {\n",
       "        vertical-align: middle;\n",
       "    }\n",
       "\n",
       "    .dataframe tbody tr th {\n",
       "        vertical-align: top;\n",
       "    }\n",
       "\n",
       "    .dataframe thead th {\n",
       "        text-align: right;\n",
       "    }\n",
       "</style>\n",
       "<table border=\"1\" class=\"dataframe\">\n",
       "  <thead>\n",
       "    <tr style=\"text-align: right;\">\n",
       "      <th></th>\n",
       "      <th>t1_odds</th>\n",
       "      <th>t2_odds</th>\n",
       "      <th>t1_prob</th>\n",
       "      <th>t2_prob</th>\n",
       "      <th>winner</th>\n",
       "    </tr>\n",
       "  </thead>\n",
       "  <tbody>\n",
       "    <tr>\n",
       "      <th>0</th>\n",
       "      <td>-129</td>\n",
       "      <td>100</td>\n",
       "      <td>0.032625</td>\n",
       "      <td>0.967375</td>\n",
       "      <td>0</td>\n",
       "    </tr>\n",
       "    <tr>\n",
       "      <th>1</th>\n",
       "      <td>130</td>\n",
       "      <td>-162</td>\n",
       "      <td>0.000865</td>\n",
       "      <td>0.999135</td>\n",
       "      <td>0</td>\n",
       "    </tr>\n",
       "    <tr>\n",
       "      <th>2</th>\n",
       "      <td>-130</td>\n",
       "      <td>105</td>\n",
       "      <td>0.653374</td>\n",
       "      <td>0.346626</td>\n",
       "      <td>0</td>\n",
       "    </tr>\n",
       "    <tr>\n",
       "      <th>3</th>\n",
       "      <td>-107</td>\n",
       "      <td>-115</td>\n",
       "      <td>0.542878</td>\n",
       "      <td>0.457122</td>\n",
       "      <td>0</td>\n",
       "    </tr>\n",
       "    <tr>\n",
       "      <th>4</th>\n",
       "      <td>-1000</td>\n",
       "      <td>580</td>\n",
       "      <td>0.995246</td>\n",
       "      <td>0.004754</td>\n",
       "      <td>0</td>\n",
       "    </tr>\n",
       "    <tr>\n",
       "      <th>...</th>\n",
       "      <td>...</td>\n",
       "      <td>...</td>\n",
       "      <td>...</td>\n",
       "      <td>...</td>\n",
       "      <td>...</td>\n",
       "    </tr>\n",
       "    <tr>\n",
       "      <th>245</th>\n",
       "      <td>-155</td>\n",
       "      <td>125</td>\n",
       "      <td>0.501009</td>\n",
       "      <td>0.498991</td>\n",
       "      <td>0</td>\n",
       "    </tr>\n",
       "    <tr>\n",
       "      <th>246</th>\n",
       "      <td>-175</td>\n",
       "      <td>135</td>\n",
       "      <td>0.661992</td>\n",
       "      <td>0.338008</td>\n",
       "      <td>1</td>\n",
       "    </tr>\n",
       "    <tr>\n",
       "      <th>247</th>\n",
       "      <td>-530</td>\n",
       "      <td>375</td>\n",
       "      <td>0.729221</td>\n",
       "      <td>0.270779</td>\n",
       "      <td>0</td>\n",
       "    </tr>\n",
       "    <tr>\n",
       "      <th>248</th>\n",
       "      <td>170</td>\n",
       "      <td>-215</td>\n",
       "      <td>0.699298</td>\n",
       "      <td>0.300702</td>\n",
       "      <td>1</td>\n",
       "    </tr>\n",
       "    <tr>\n",
       "      <th>249</th>\n",
       "      <td>-162</td>\n",
       "      <td>138</td>\n",
       "      <td>0.998359</td>\n",
       "      <td>0.001641</td>\n",
       "      <td>0</td>\n",
       "    </tr>\n",
       "  </tbody>\n",
       "</table>\n",
       "<p>250 rows × 5 columns</p>\n",
       "</div>"
      ],
      "text/plain": [
       "     t1_odds  t2_odds   t1_prob   t2_prob  winner\n",
       "0       -129      100  0.032625  0.967375       0\n",
       "1        130     -162  0.000865  0.999135       0\n",
       "2       -130      105  0.653374  0.346626       0\n",
       "3       -107     -115  0.542878  0.457122       0\n",
       "4      -1000      580  0.995246  0.004754       0\n",
       "..       ...      ...       ...       ...     ...\n",
       "245     -155      125  0.501009  0.498991       0\n",
       "246     -175      135  0.661992  0.338008       1\n",
       "247     -530      375  0.729221  0.270779       0\n",
       "248      170     -215  0.699298  0.300702       1\n",
       "249     -162      138  0.998359  0.001641       0\n",
       "\n",
       "[250 rows x 5 columns]"
      ]
     },
     "metadata": {},
     "output_type": "display_data"
    },
    {
     "name": "stdout",
     "output_type": "stream",
     "text": [
      "\n",
      "          Number of matches: 250\n",
      "          Number of bets: 220\n",
      "          Number of winning bets: 118\n",
      "          Number of losing bets: 103\n",
      "          Number of underdog bets: 103\n",
      "          Number of underdog wins: 42\n",
      "          Number of underdog losses: 61\n",
      "          Number of Favorite bets: 116\n",
      "          Number of favorite wins: 76\n",
      "          Number of favorite losses: 40\n",
      "          Number of even bets: 2\n",
      "          Number of even wins: 0\n",
      "          Number of even losses: 2\n",
      "          Profit: -362.8250600269029\n",
      "          Profit per bet: -1.6492048183041041\n",
      "          Profit per match: -1.4513002401076116\n",
      "          \n",
      "          \n"
     ]
    },
    {
     "data": {
      "text/plain": [
       "(3590, 24)"
      ]
     },
     "metadata": {},
     "output_type": "display_data"
    },
    {
     "data": {
      "text/plain": [
       "(3590,)"
      ]
     },
     "metadata": {},
     "output_type": "display_data"
    },
    {
     "data": {
      "text/plain": [
       "(3590, 2)"
      ]
     },
     "metadata": {},
     "output_type": "display_data"
    },
    {
     "data": {
      "text/plain": [
       "(250, 24)"
      ]
     },
     "metadata": {},
     "output_type": "display_data"
    },
    {
     "data": {
      "text/plain": [
       "(250,)"
      ]
     },
     "metadata": {},
     "output_type": "display_data"
    },
    {
     "data": {
      "text/plain": [
       "(250, 2)"
      ]
     },
     "metadata": {},
     "output_type": "display_data"
    },
    {
     "data": {
      "text/html": [
       "<div>\n",
       "<style scoped>\n",
       "    .dataframe tbody tr th:only-of-type {\n",
       "        vertical-align: middle;\n",
       "    }\n",
       "\n",
       "    .dataframe tbody tr th {\n",
       "        vertical-align: top;\n",
       "    }\n",
       "\n",
       "    .dataframe thead th {\n",
       "        text-align: right;\n",
       "    }\n",
       "</style>\n",
       "<table border=\"1\" class=\"dataframe\">\n",
       "  <thead>\n",
       "    <tr style=\"text-align: right;\">\n",
       "      <th></th>\n",
       "      <th>t1_odds</th>\n",
       "      <th>t2_odds</th>\n",
       "      <th>t1_prob</th>\n",
       "      <th>t2_prob</th>\n",
       "      <th>winner</th>\n",
       "    </tr>\n",
       "  </thead>\n",
       "  <tbody>\n",
       "    <tr>\n",
       "      <th>0</th>\n",
       "      <td>-129</td>\n",
       "      <td>100</td>\n",
       "      <td>4.441443e-07</td>\n",
       "      <td>1.000000</td>\n",
       "      <td>0</td>\n",
       "    </tr>\n",
       "    <tr>\n",
       "      <th>1</th>\n",
       "      <td>130</td>\n",
       "      <td>-162</td>\n",
       "      <td>8.143993e-04</td>\n",
       "      <td>0.999186</td>\n",
       "      <td>0</td>\n",
       "    </tr>\n",
       "    <tr>\n",
       "      <th>2</th>\n",
       "      <td>-130</td>\n",
       "      <td>105</td>\n",
       "      <td>6.639957e-01</td>\n",
       "      <td>0.336004</td>\n",
       "      <td>0</td>\n",
       "    </tr>\n",
       "    <tr>\n",
       "      <th>3</th>\n",
       "      <td>-107</td>\n",
       "      <td>-115</td>\n",
       "      <td>5.003949e-01</td>\n",
       "      <td>0.499605</td>\n",
       "      <td>0</td>\n",
       "    </tr>\n",
       "    <tr>\n",
       "      <th>4</th>\n",
       "      <td>-1000</td>\n",
       "      <td>580</td>\n",
       "      <td>9.951443e-01</td>\n",
       "      <td>0.004856</td>\n",
       "      <td>0</td>\n",
       "    </tr>\n",
       "    <tr>\n",
       "      <th>...</th>\n",
       "      <td>...</td>\n",
       "      <td>...</td>\n",
       "      <td>...</td>\n",
       "      <td>...</td>\n",
       "      <td>...</td>\n",
       "    </tr>\n",
       "    <tr>\n",
       "      <th>245</th>\n",
       "      <td>-155</td>\n",
       "      <td>125</td>\n",
       "      <td>4.625632e-01</td>\n",
       "      <td>0.537437</td>\n",
       "      <td>0</td>\n",
       "    </tr>\n",
       "    <tr>\n",
       "      <th>246</th>\n",
       "      <td>-175</td>\n",
       "      <td>135</td>\n",
       "      <td>6.536987e-01</td>\n",
       "      <td>0.346301</td>\n",
       "      <td>1</td>\n",
       "    </tr>\n",
       "    <tr>\n",
       "      <th>247</th>\n",
       "      <td>-530</td>\n",
       "      <td>375</td>\n",
       "      <td>6.935395e-01</td>\n",
       "      <td>0.306460</td>\n",
       "      <td>0</td>\n",
       "    </tr>\n",
       "    <tr>\n",
       "      <th>248</th>\n",
       "      <td>170</td>\n",
       "      <td>-215</td>\n",
       "      <td>9.157435e-01</td>\n",
       "      <td>0.084257</td>\n",
       "      <td>1</td>\n",
       "    </tr>\n",
       "    <tr>\n",
       "      <th>249</th>\n",
       "      <td>-162</td>\n",
       "      <td>138</td>\n",
       "      <td>9.980791e-01</td>\n",
       "      <td>0.001921</td>\n",
       "      <td>0</td>\n",
       "    </tr>\n",
       "  </tbody>\n",
       "</table>\n",
       "<p>250 rows × 5 columns</p>\n",
       "</div>"
      ],
      "text/plain": [
       "     t1_odds  t2_odds       t1_prob   t2_prob  winner\n",
       "0       -129      100  4.441443e-07  1.000000       0\n",
       "1        130     -162  8.143993e-04  0.999186       0\n",
       "2       -130      105  6.639957e-01  0.336004       0\n",
       "3       -107     -115  5.003949e-01  0.499605       0\n",
       "4      -1000      580  9.951443e-01  0.004856       0\n",
       "..       ...      ...           ...       ...     ...\n",
       "245     -155      125  4.625632e-01  0.537437       0\n",
       "246     -175      135  6.536987e-01  0.346301       1\n",
       "247     -530      375  6.935395e-01  0.306460       0\n",
       "248      170     -215  9.157435e-01  0.084257       1\n",
       "249     -162      138  9.980791e-01  0.001921       0\n",
       "\n",
       "[250 rows x 5 columns]"
      ]
     },
     "metadata": {},
     "output_type": "display_data"
    },
    {
     "name": "stdout",
     "output_type": "stream",
     "text": [
      "\n",
      "          Number of matches: 250\n",
      "          Number of bets: 209\n",
      "          Number of winning bets: 110\n",
      "          Number of losing bets: 100\n",
      "          Number of underdog bets: 108\n",
      "          Number of underdog wins: 43\n",
      "          Number of underdog losses: 65\n",
      "          Number of Favorite bets: 100\n",
      "          Number of favorite wins: 67\n",
      "          Number of favorite losses: 33\n",
      "          Number of even bets: 2\n",
      "          Number of even wins: 0\n",
      "          Number of even losses: 2\n",
      "          Profit: -86.19393544157977\n",
      "          Profit per bet: -0.41241117436162567\n",
      "          Profit per match: -0.3447757417663191\n",
      "          \n",
      "          \n"
     ]
    },
    {
     "data": {
      "text/plain": [
       "(3589, 22)"
      ]
     },
     "metadata": {},
     "output_type": "display_data"
    },
    {
     "data": {
      "text/plain": [
       "(3589,)"
      ]
     },
     "metadata": {},
     "output_type": "display_data"
    },
    {
     "data": {
      "text/plain": [
       "(3589, 2)"
      ]
     },
     "metadata": {},
     "output_type": "display_data"
    },
    {
     "data": {
      "text/plain": [
       "(250, 22)"
      ]
     },
     "metadata": {},
     "output_type": "display_data"
    },
    {
     "data": {
      "text/plain": [
       "(250,)"
      ]
     },
     "metadata": {},
     "output_type": "display_data"
    },
    {
     "data": {
      "text/plain": [
       "(250, 2)"
      ]
     },
     "metadata": {},
     "output_type": "display_data"
    },
    {
     "data": {
      "text/html": [
       "<div>\n",
       "<style scoped>\n",
       "    .dataframe tbody tr th:only-of-type {\n",
       "        vertical-align: middle;\n",
       "    }\n",
       "\n",
       "    .dataframe tbody tr th {\n",
       "        vertical-align: top;\n",
       "    }\n",
       "\n",
       "    .dataframe thead th {\n",
       "        text-align: right;\n",
       "    }\n",
       "</style>\n",
       "<table border=\"1\" class=\"dataframe\">\n",
       "  <thead>\n",
       "    <tr style=\"text-align: right;\">\n",
       "      <th></th>\n",
       "      <th>t1_odds</th>\n",
       "      <th>t2_odds</th>\n",
       "      <th>t1_prob</th>\n",
       "      <th>t2_prob</th>\n",
       "      <th>winner</th>\n",
       "    </tr>\n",
       "  </thead>\n",
       "  <tbody>\n",
       "    <tr>\n",
       "      <th>0</th>\n",
       "      <td>-129</td>\n",
       "      <td>100</td>\n",
       "      <td>3.627893e-07</td>\n",
       "      <td>1.000000</td>\n",
       "      <td>0</td>\n",
       "    </tr>\n",
       "    <tr>\n",
       "      <th>1</th>\n",
       "      <td>130</td>\n",
       "      <td>-162</td>\n",
       "      <td>8.216799e-04</td>\n",
       "      <td>0.999178</td>\n",
       "      <td>0</td>\n",
       "    </tr>\n",
       "    <tr>\n",
       "      <th>2</th>\n",
       "      <td>-130</td>\n",
       "      <td>105</td>\n",
       "      <td>6.066126e-01</td>\n",
       "      <td>0.393387</td>\n",
       "      <td>0</td>\n",
       "    </tr>\n",
       "    <tr>\n",
       "      <th>3</th>\n",
       "      <td>-107</td>\n",
       "      <td>-115</td>\n",
       "      <td>6.026565e-01</td>\n",
       "      <td>0.397343</td>\n",
       "      <td>0</td>\n",
       "    </tr>\n",
       "    <tr>\n",
       "      <th>4</th>\n",
       "      <td>-1000</td>\n",
       "      <td>580</td>\n",
       "      <td>9.951407e-01</td>\n",
       "      <td>0.004859</td>\n",
       "      <td>0</td>\n",
       "    </tr>\n",
       "    <tr>\n",
       "      <th>...</th>\n",
       "      <td>...</td>\n",
       "      <td>...</td>\n",
       "      <td>...</td>\n",
       "      <td>...</td>\n",
       "      <td>...</td>\n",
       "    </tr>\n",
       "    <tr>\n",
       "      <th>245</th>\n",
       "      <td>-155</td>\n",
       "      <td>125</td>\n",
       "      <td>5.036907e-01</td>\n",
       "      <td>0.496309</td>\n",
       "      <td>0</td>\n",
       "    </tr>\n",
       "    <tr>\n",
       "      <th>246</th>\n",
       "      <td>-175</td>\n",
       "      <td>135</td>\n",
       "      <td>6.608216e-01</td>\n",
       "      <td>0.339178</td>\n",
       "      <td>1</td>\n",
       "    </tr>\n",
       "    <tr>\n",
       "      <th>247</th>\n",
       "      <td>-530</td>\n",
       "      <td>375</td>\n",
       "      <td>7.210175e-01</td>\n",
       "      <td>0.278983</td>\n",
       "      <td>0</td>\n",
       "    </tr>\n",
       "    <tr>\n",
       "      <th>248</th>\n",
       "      <td>170</td>\n",
       "      <td>-215</td>\n",
       "      <td>8.668782e-01</td>\n",
       "      <td>0.133122</td>\n",
       "      <td>1</td>\n",
       "    </tr>\n",
       "    <tr>\n",
       "      <th>249</th>\n",
       "      <td>-162</td>\n",
       "      <td>138</td>\n",
       "      <td>9.976797e-01</td>\n",
       "      <td>0.002320</td>\n",
       "      <td>0</td>\n",
       "    </tr>\n",
       "  </tbody>\n",
       "</table>\n",
       "<p>250 rows × 5 columns</p>\n",
       "</div>"
      ],
      "text/plain": [
       "     t1_odds  t2_odds       t1_prob   t2_prob  winner\n",
       "0       -129      100  3.627893e-07  1.000000       0\n",
       "1        130     -162  8.216799e-04  0.999178       0\n",
       "2       -130      105  6.066126e-01  0.393387       0\n",
       "3       -107     -115  6.026565e-01  0.397343       0\n",
       "4      -1000      580  9.951407e-01  0.004859       0\n",
       "..       ...      ...           ...       ...     ...\n",
       "245     -155      125  5.036907e-01  0.496309       0\n",
       "246     -175      135  6.608216e-01  0.339178       1\n",
       "247     -530      375  7.210175e-01  0.278983       0\n",
       "248      170     -215  8.668782e-01  0.133122       1\n",
       "249     -162      138  9.976797e-01  0.002320       0\n",
       "\n",
       "[250 rows x 5 columns]"
      ]
     },
     "metadata": {},
     "output_type": "display_data"
    },
    {
     "name": "stdout",
     "output_type": "stream",
     "text": [
      "\n",
      "          Number of matches: 250\n",
      "          Number of bets: 221\n",
      "          Number of winning bets: 118\n",
      "          Number of losing bets: 105\n",
      "          Number of underdog bets: 109\n",
      "          Number of underdog wins: 43\n",
      "          Number of underdog losses: 66\n",
      "          Number of Favorite bets: 112\n",
      "          Number of favorite wins: 75\n",
      "          Number of favorite losses: 37\n",
      "          Number of even bets: 2\n",
      "          Number of even wins: 0\n",
      "          Number of even losses: 2\n",
      "          Profit: -280.82768335456325\n",
      "          Profit per bet: -1.2707134993419151\n",
      "          Profit per match: -1.123310733418253\n",
      "          \n",
      "          \n"
     ]
    },
    {
     "data": {
      "text/plain": [
       "(3492, 56)"
      ]
     },
     "metadata": {},
     "output_type": "display_data"
    },
    {
     "data": {
      "text/plain": [
       "(3492,)"
      ]
     },
     "metadata": {},
     "output_type": "display_data"
    },
    {
     "data": {
      "text/plain": [
       "(3492, 2)"
      ]
     },
     "metadata": {},
     "output_type": "display_data"
    },
    {
     "data": {
      "text/plain": [
       "(248, 56)"
      ]
     },
     "metadata": {},
     "output_type": "display_data"
    },
    {
     "data": {
      "text/plain": [
       "(248,)"
      ]
     },
     "metadata": {},
     "output_type": "display_data"
    },
    {
     "data": {
      "text/plain": [
       "(248, 2)"
      ]
     },
     "metadata": {},
     "output_type": "display_data"
    },
    {
     "data": {
      "text/html": [
       "<div>\n",
       "<style scoped>\n",
       "    .dataframe tbody tr th:only-of-type {\n",
       "        vertical-align: middle;\n",
       "    }\n",
       "\n",
       "    .dataframe tbody tr th {\n",
       "        vertical-align: top;\n",
       "    }\n",
       "\n",
       "    .dataframe thead th {\n",
       "        text-align: right;\n",
       "    }\n",
       "</style>\n",
       "<table border=\"1\" class=\"dataframe\">\n",
       "  <thead>\n",
       "    <tr style=\"text-align: right;\">\n",
       "      <th></th>\n",
       "      <th>t1_odds</th>\n",
       "      <th>t2_odds</th>\n",
       "      <th>t1_prob</th>\n",
       "      <th>t2_prob</th>\n",
       "      <th>winner</th>\n",
       "    </tr>\n",
       "  </thead>\n",
       "  <tbody>\n",
       "    <tr>\n",
       "      <th>0</th>\n",
       "      <td>-129</td>\n",
       "      <td>100</td>\n",
       "      <td>0.996505</td>\n",
       "      <td>0.003495</td>\n",
       "      <td>0</td>\n",
       "    </tr>\n",
       "    <tr>\n",
       "      <th>1</th>\n",
       "      <td>130</td>\n",
       "      <td>-162</td>\n",
       "      <td>0.005117</td>\n",
       "      <td>0.994883</td>\n",
       "      <td>0</td>\n",
       "    </tr>\n",
       "    <tr>\n",
       "      <th>2</th>\n",
       "      <td>-130</td>\n",
       "      <td>105</td>\n",
       "      <td>0.552160</td>\n",
       "      <td>0.447840</td>\n",
       "      <td>0</td>\n",
       "    </tr>\n",
       "    <tr>\n",
       "      <th>3</th>\n",
       "      <td>-107</td>\n",
       "      <td>-115</td>\n",
       "      <td>0.913739</td>\n",
       "      <td>0.086261</td>\n",
       "      <td>0</td>\n",
       "    </tr>\n",
       "    <tr>\n",
       "      <th>4</th>\n",
       "      <td>-1000</td>\n",
       "      <td>580</td>\n",
       "      <td>0.990431</td>\n",
       "      <td>0.009569</td>\n",
       "      <td>0</td>\n",
       "    </tr>\n",
       "    <tr>\n",
       "      <th>...</th>\n",
       "      <td>...</td>\n",
       "      <td>...</td>\n",
       "      <td>...</td>\n",
       "      <td>...</td>\n",
       "      <td>...</td>\n",
       "    </tr>\n",
       "    <tr>\n",
       "      <th>243</th>\n",
       "      <td>-155</td>\n",
       "      <td>125</td>\n",
       "      <td>0.913463</td>\n",
       "      <td>0.086537</td>\n",
       "      <td>0</td>\n",
       "    </tr>\n",
       "    <tr>\n",
       "      <th>244</th>\n",
       "      <td>-175</td>\n",
       "      <td>135</td>\n",
       "      <td>0.928957</td>\n",
       "      <td>0.071043</td>\n",
       "      <td>1</td>\n",
       "    </tr>\n",
       "    <tr>\n",
       "      <th>245</th>\n",
       "      <td>-530</td>\n",
       "      <td>375</td>\n",
       "      <td>0.985759</td>\n",
       "      <td>0.014241</td>\n",
       "      <td>0</td>\n",
       "    </tr>\n",
       "    <tr>\n",
       "      <th>246</th>\n",
       "      <td>170</td>\n",
       "      <td>-215</td>\n",
       "      <td>0.997459</td>\n",
       "      <td>0.002541</td>\n",
       "      <td>1</td>\n",
       "    </tr>\n",
       "    <tr>\n",
       "      <th>247</th>\n",
       "      <td>-162</td>\n",
       "      <td>138</td>\n",
       "      <td>0.979413</td>\n",
       "      <td>0.020587</td>\n",
       "      <td>0</td>\n",
       "    </tr>\n",
       "  </tbody>\n",
       "</table>\n",
       "<p>248 rows × 5 columns</p>\n",
       "</div>"
      ],
      "text/plain": [
       "     t1_odds  t2_odds   t1_prob   t2_prob  winner\n",
       "0       -129      100  0.996505  0.003495       0\n",
       "1        130     -162  0.005117  0.994883       0\n",
       "2       -130      105  0.552160  0.447840       0\n",
       "3       -107     -115  0.913739  0.086261       0\n",
       "4      -1000      580  0.990431  0.009569       0\n",
       "..       ...      ...       ...       ...     ...\n",
       "243     -155      125  0.913463  0.086537       0\n",
       "244     -175      135  0.928957  0.071043       1\n",
       "245     -530      375  0.985759  0.014241       0\n",
       "246      170     -215  0.997459  0.002541       1\n",
       "247     -162      138  0.979413  0.020587       0\n",
       "\n",
       "[248 rows x 5 columns]"
      ]
     },
     "metadata": {},
     "output_type": "display_data"
    },
    {
     "name": "stdout",
     "output_type": "stream",
     "text": [
      "\n",
      "          Number of matches: 248\n",
      "          Number of bets: 206\n",
      "          Number of winning bets: 102\n",
      "          Number of losing bets: 104\n",
      "          Number of underdog bets: 115\n",
      "          Number of underdog wins: 47\n",
      "          Number of underdog losses: 68\n",
      "          Number of Favorite bets: 91\n",
      "          Number of favorite wins: 55\n",
      "          Number of favorite losses: 36\n",
      "          Number of even bets: 0\n",
      "          Number of even wins: 0\n",
      "          Number of even losses: 0\n",
      "          Profit: 35.660788673065625\n",
      "          Profit per bet: 0.17311062462653215\n",
      "          Profit per match: 0.14379350271397429\n",
      "          \n",
      "          \n"
     ]
    },
    {
     "data": {
      "text/plain": [
       "(3492, 19)"
      ]
     },
     "metadata": {},
     "output_type": "display_data"
    },
    {
     "data": {
      "text/plain": [
       "(3492,)"
      ]
     },
     "metadata": {},
     "output_type": "display_data"
    },
    {
     "data": {
      "text/plain": [
       "(3492, 2)"
      ]
     },
     "metadata": {},
     "output_type": "display_data"
    },
    {
     "data": {
      "text/plain": [
       "(250, 19)"
      ]
     },
     "metadata": {},
     "output_type": "display_data"
    },
    {
     "data": {
      "text/plain": [
       "(250,)"
      ]
     },
     "metadata": {},
     "output_type": "display_data"
    },
    {
     "data": {
      "text/plain": [
       "(250, 2)"
      ]
     },
     "metadata": {},
     "output_type": "display_data"
    },
    {
     "data": {
      "text/html": [
       "<div>\n",
       "<style scoped>\n",
       "    .dataframe tbody tr th:only-of-type {\n",
       "        vertical-align: middle;\n",
       "    }\n",
       "\n",
       "    .dataframe tbody tr th {\n",
       "        vertical-align: top;\n",
       "    }\n",
       "\n",
       "    .dataframe thead th {\n",
       "        text-align: right;\n",
       "    }\n",
       "</style>\n",
       "<table border=\"1\" class=\"dataframe\">\n",
       "  <thead>\n",
       "    <tr style=\"text-align: right;\">\n",
       "      <th></th>\n",
       "      <th>t1_odds</th>\n",
       "      <th>t2_odds</th>\n",
       "      <th>t1_prob</th>\n",
       "      <th>t2_prob</th>\n",
       "      <th>winner</th>\n",
       "    </tr>\n",
       "  </thead>\n",
       "  <tbody>\n",
       "    <tr>\n",
       "      <th>0</th>\n",
       "      <td>-129</td>\n",
       "      <td>100</td>\n",
       "      <td>0.586980</td>\n",
       "      <td>0.413020</td>\n",
       "      <td>0</td>\n",
       "    </tr>\n",
       "    <tr>\n",
       "      <th>1</th>\n",
       "      <td>130</td>\n",
       "      <td>-162</td>\n",
       "      <td>0.466922</td>\n",
       "      <td>0.533078</td>\n",
       "      <td>0</td>\n",
       "    </tr>\n",
       "    <tr>\n",
       "      <th>2</th>\n",
       "      <td>-130</td>\n",
       "      <td>105</td>\n",
       "      <td>0.539979</td>\n",
       "      <td>0.460021</td>\n",
       "      <td>0</td>\n",
       "    </tr>\n",
       "    <tr>\n",
       "      <th>3</th>\n",
       "      <td>-107</td>\n",
       "      <td>-115</td>\n",
       "      <td>0.532797</td>\n",
       "      <td>0.467203</td>\n",
       "      <td>0</td>\n",
       "    </tr>\n",
       "    <tr>\n",
       "      <th>4</th>\n",
       "      <td>-1000</td>\n",
       "      <td>580</td>\n",
       "      <td>0.867868</td>\n",
       "      <td>0.132132</td>\n",
       "      <td>0</td>\n",
       "    </tr>\n",
       "    <tr>\n",
       "      <th>...</th>\n",
       "      <td>...</td>\n",
       "      <td>...</td>\n",
       "      <td>...</td>\n",
       "      <td>...</td>\n",
       "      <td>...</td>\n",
       "    </tr>\n",
       "    <tr>\n",
       "      <th>245</th>\n",
       "      <td>-155</td>\n",
       "      <td>125</td>\n",
       "      <td>0.559900</td>\n",
       "      <td>0.440100</td>\n",
       "      <td>0</td>\n",
       "    </tr>\n",
       "    <tr>\n",
       "      <th>246</th>\n",
       "      <td>-175</td>\n",
       "      <td>135</td>\n",
       "      <td>0.632212</td>\n",
       "      <td>0.367788</td>\n",
       "      <td>1</td>\n",
       "    </tr>\n",
       "    <tr>\n",
       "      <th>247</th>\n",
       "      <td>-530</td>\n",
       "      <td>375</td>\n",
       "      <td>0.695999</td>\n",
       "      <td>0.304001</td>\n",
       "      <td>0</td>\n",
       "    </tr>\n",
       "    <tr>\n",
       "      <th>248</th>\n",
       "      <td>170</td>\n",
       "      <td>-215</td>\n",
       "      <td>0.477237</td>\n",
       "      <td>0.522763</td>\n",
       "      <td>1</td>\n",
       "    </tr>\n",
       "    <tr>\n",
       "      <th>249</th>\n",
       "      <td>-162</td>\n",
       "      <td>138</td>\n",
       "      <td>0.532075</td>\n",
       "      <td>0.467925</td>\n",
       "      <td>0</td>\n",
       "    </tr>\n",
       "  </tbody>\n",
       "</table>\n",
       "<p>250 rows × 5 columns</p>\n",
       "</div>"
      ],
      "text/plain": [
       "     t1_odds  t2_odds   t1_prob   t2_prob  winner\n",
       "0       -129      100  0.586980  0.413020       0\n",
       "1        130     -162  0.466922  0.533078       0\n",
       "2       -130      105  0.539979  0.460021       0\n",
       "3       -107     -115  0.532797  0.467203       0\n",
       "4      -1000      580  0.867868  0.132132       0\n",
       "..       ...      ...       ...       ...     ...\n",
       "245     -155      125  0.559900  0.440100       0\n",
       "246     -175      135  0.632212  0.367788       1\n",
       "247     -530      375  0.695999  0.304001       0\n",
       "248      170     -215  0.477237  0.522763       1\n",
       "249     -162      138  0.532075  0.467925       0\n",
       "\n",
       "[250 rows x 5 columns]"
      ]
     },
     "metadata": {},
     "output_type": "display_data"
    },
    {
     "name": "stdout",
     "output_type": "stream",
     "text": [
      "\n",
      "          Number of matches: 250\n",
      "          Number of bets: 196\n",
      "          Number of winning bets: 94\n",
      "          Number of losing bets: 103\n",
      "          Number of underdog bets: 133\n",
      "          Number of underdog wins: 53\n",
      "          Number of underdog losses: 80\n",
      "          Number of Favorite bets: 62\n",
      "          Number of favorite wins: 40\n",
      "          Number of favorite losses: 22\n",
      "          Number of even bets: 2\n",
      "          Number of even wins: 1\n",
      "          Number of even losses: 1\n",
      "          Profit: -386.9997999990313\n",
      "          Profit per bet: -1.9744887755052618\n",
      "          Profit per match: -1.5479991999961253\n",
      "          \n",
      "          \n"
     ]
    },
    {
     "data": {
      "text/plain": [
       "(3492, 26)"
      ]
     },
     "metadata": {},
     "output_type": "display_data"
    },
    {
     "data": {
      "text/plain": [
       "(3492,)"
      ]
     },
     "metadata": {},
     "output_type": "display_data"
    },
    {
     "data": {
      "text/plain": [
       "(3492, 2)"
      ]
     },
     "metadata": {},
     "output_type": "display_data"
    },
    {
     "data": {
      "text/plain": [
       "(248, 26)"
      ]
     },
     "metadata": {},
     "output_type": "display_data"
    },
    {
     "data": {
      "text/plain": [
       "(248,)"
      ]
     },
     "metadata": {},
     "output_type": "display_data"
    },
    {
     "data": {
      "text/plain": [
       "(248, 2)"
      ]
     },
     "metadata": {},
     "output_type": "display_data"
    },
    {
     "data": {
      "text/html": [
       "<div>\n",
       "<style scoped>\n",
       "    .dataframe tbody tr th:only-of-type {\n",
       "        vertical-align: middle;\n",
       "    }\n",
       "\n",
       "    .dataframe tbody tr th {\n",
       "        vertical-align: top;\n",
       "    }\n",
       "\n",
       "    .dataframe thead th {\n",
       "        text-align: right;\n",
       "    }\n",
       "</style>\n",
       "<table border=\"1\" class=\"dataframe\">\n",
       "  <thead>\n",
       "    <tr style=\"text-align: right;\">\n",
       "      <th></th>\n",
       "      <th>t1_odds</th>\n",
       "      <th>t2_odds</th>\n",
       "      <th>t1_prob</th>\n",
       "      <th>t2_prob</th>\n",
       "      <th>winner</th>\n",
       "    </tr>\n",
       "  </thead>\n",
       "  <tbody>\n",
       "    <tr>\n",
       "      <th>0</th>\n",
       "      <td>-129</td>\n",
       "      <td>100</td>\n",
       "      <td>0.636922</td>\n",
       "      <td>0.363078</td>\n",
       "      <td>0</td>\n",
       "    </tr>\n",
       "    <tr>\n",
       "      <th>1</th>\n",
       "      <td>130</td>\n",
       "      <td>-162</td>\n",
       "      <td>0.491551</td>\n",
       "      <td>0.508449</td>\n",
       "      <td>0</td>\n",
       "    </tr>\n",
       "    <tr>\n",
       "      <th>2</th>\n",
       "      <td>-130</td>\n",
       "      <td>105</td>\n",
       "      <td>0.505441</td>\n",
       "      <td>0.494559</td>\n",
       "      <td>0</td>\n",
       "    </tr>\n",
       "    <tr>\n",
       "      <th>3</th>\n",
       "      <td>-107</td>\n",
       "      <td>-115</td>\n",
       "      <td>0.535570</td>\n",
       "      <td>0.464430</td>\n",
       "      <td>0</td>\n",
       "    </tr>\n",
       "    <tr>\n",
       "      <th>4</th>\n",
       "      <td>-1000</td>\n",
       "      <td>580</td>\n",
       "      <td>0.872524</td>\n",
       "      <td>0.127476</td>\n",
       "      <td>0</td>\n",
       "    </tr>\n",
       "    <tr>\n",
       "      <th>...</th>\n",
       "      <td>...</td>\n",
       "      <td>...</td>\n",
       "      <td>...</td>\n",
       "      <td>...</td>\n",
       "      <td>...</td>\n",
       "    </tr>\n",
       "    <tr>\n",
       "      <th>243</th>\n",
       "      <td>-155</td>\n",
       "      <td>125</td>\n",
       "      <td>0.568679</td>\n",
       "      <td>0.431321</td>\n",
       "      <td>0</td>\n",
       "    </tr>\n",
       "    <tr>\n",
       "      <th>244</th>\n",
       "      <td>-175</td>\n",
       "      <td>135</td>\n",
       "      <td>0.640672</td>\n",
       "      <td>0.359328</td>\n",
       "      <td>1</td>\n",
       "    </tr>\n",
       "    <tr>\n",
       "      <th>245</th>\n",
       "      <td>-530</td>\n",
       "      <td>375</td>\n",
       "      <td>0.681813</td>\n",
       "      <td>0.318187</td>\n",
       "      <td>0</td>\n",
       "    </tr>\n",
       "    <tr>\n",
       "      <th>246</th>\n",
       "      <td>170</td>\n",
       "      <td>-215</td>\n",
       "      <td>0.400522</td>\n",
       "      <td>0.599478</td>\n",
       "      <td>1</td>\n",
       "    </tr>\n",
       "    <tr>\n",
       "      <th>247</th>\n",
       "      <td>-162</td>\n",
       "      <td>138</td>\n",
       "      <td>0.523603</td>\n",
       "      <td>0.476397</td>\n",
       "      <td>0</td>\n",
       "    </tr>\n",
       "  </tbody>\n",
       "</table>\n",
       "<p>248 rows × 5 columns</p>\n",
       "</div>"
      ],
      "text/plain": [
       "     t1_odds  t2_odds   t1_prob   t2_prob  winner\n",
       "0       -129      100  0.636922  0.363078       0\n",
       "1        130     -162  0.491551  0.508449       0\n",
       "2       -130      105  0.505441  0.494559       0\n",
       "3       -107     -115  0.535570  0.464430       0\n",
       "4      -1000      580  0.872524  0.127476       0\n",
       "..       ...      ...       ...       ...     ...\n",
       "243     -155      125  0.568679  0.431321       0\n",
       "244     -175      135  0.640672  0.359328       1\n",
       "245     -530      375  0.681813  0.318187       0\n",
       "246      170     -215  0.400522  0.599478       1\n",
       "247     -162      138  0.523603  0.476397       0\n",
       "\n",
       "[248 rows x 5 columns]"
      ]
     },
     "metadata": {},
     "output_type": "display_data"
    },
    {
     "name": "stdout",
     "output_type": "stream",
     "text": [
      "\n",
      "          Number of matches: 248\n",
      "          Number of bets: 166\n",
      "          Number of winning bets: 73\n",
      "          Number of losing bets: 94\n",
      "          Number of underdog bets: 111\n",
      "          Number of underdog wins: 40\n",
      "          Number of underdog losses: 71\n",
      "          Number of Favorite bets: 55\n",
      "          Number of favorite wins: 32\n",
      "          Number of favorite losses: 23\n",
      "          Number of even bets: 1\n",
      "          Number of even wins: 1\n",
      "          Number of even losses: 0\n",
      "          Profit: -1351.1773840392746\n",
      "          Profit per bet: -8.139622795417317\n",
      "          Profit per match: -5.448295903384172\n",
      "          \n",
      "          \n"
     ]
    },
    {
     "data": {
      "text/plain": [
       "(3492, 63)"
      ]
     },
     "metadata": {},
     "output_type": "display_data"
    },
    {
     "data": {
      "text/plain": [
       "(3492,)"
      ]
     },
     "metadata": {},
     "output_type": "display_data"
    },
    {
     "data": {
      "text/plain": [
       "(3492, 2)"
      ]
     },
     "metadata": {},
     "output_type": "display_data"
    },
    {
     "data": {
      "text/plain": [
       "(248, 63)"
      ]
     },
     "metadata": {},
     "output_type": "display_data"
    },
    {
     "data": {
      "text/plain": [
       "(248,)"
      ]
     },
     "metadata": {},
     "output_type": "display_data"
    },
    {
     "data": {
      "text/plain": [
       "(248, 2)"
      ]
     },
     "metadata": {},
     "output_type": "display_data"
    },
    {
     "data": {
      "text/html": [
       "<div>\n",
       "<style scoped>\n",
       "    .dataframe tbody tr th:only-of-type {\n",
       "        vertical-align: middle;\n",
       "    }\n",
       "\n",
       "    .dataframe tbody tr th {\n",
       "        vertical-align: top;\n",
       "    }\n",
       "\n",
       "    .dataframe thead th {\n",
       "        text-align: right;\n",
       "    }\n",
       "</style>\n",
       "<table border=\"1\" class=\"dataframe\">\n",
       "  <thead>\n",
       "    <tr style=\"text-align: right;\">\n",
       "      <th></th>\n",
       "      <th>t1_odds</th>\n",
       "      <th>t2_odds</th>\n",
       "      <th>t1_prob</th>\n",
       "      <th>t2_prob</th>\n",
       "      <th>winner</th>\n",
       "    </tr>\n",
       "  </thead>\n",
       "  <tbody>\n",
       "    <tr>\n",
       "      <th>0</th>\n",
       "      <td>-129</td>\n",
       "      <td>100</td>\n",
       "      <td>0.999904</td>\n",
       "      <td>0.000096</td>\n",
       "      <td>0</td>\n",
       "    </tr>\n",
       "    <tr>\n",
       "      <th>1</th>\n",
       "      <td>130</td>\n",
       "      <td>-162</td>\n",
       "      <td>0.589540</td>\n",
       "      <td>0.410460</td>\n",
       "      <td>0</td>\n",
       "    </tr>\n",
       "    <tr>\n",
       "      <th>2</th>\n",
       "      <td>-130</td>\n",
       "      <td>105</td>\n",
       "      <td>0.869778</td>\n",
       "      <td>0.130222</td>\n",
       "      <td>0</td>\n",
       "    </tr>\n",
       "    <tr>\n",
       "      <th>3</th>\n",
       "      <td>-107</td>\n",
       "      <td>-115</td>\n",
       "      <td>0.991146</td>\n",
       "      <td>0.008854</td>\n",
       "      <td>0</td>\n",
       "    </tr>\n",
       "    <tr>\n",
       "      <th>4</th>\n",
       "      <td>-1000</td>\n",
       "      <td>580</td>\n",
       "      <td>0.964789</td>\n",
       "      <td>0.035211</td>\n",
       "      <td>0</td>\n",
       "    </tr>\n",
       "    <tr>\n",
       "      <th>...</th>\n",
       "      <td>...</td>\n",
       "      <td>...</td>\n",
       "      <td>...</td>\n",
       "      <td>...</td>\n",
       "      <td>...</td>\n",
       "    </tr>\n",
       "    <tr>\n",
       "      <th>243</th>\n",
       "      <td>-155</td>\n",
       "      <td>125</td>\n",
       "      <td>0.007213</td>\n",
       "      <td>0.992787</td>\n",
       "      <td>0</td>\n",
       "    </tr>\n",
       "    <tr>\n",
       "      <th>244</th>\n",
       "      <td>-175</td>\n",
       "      <td>135</td>\n",
       "      <td>0.328388</td>\n",
       "      <td>0.671612</td>\n",
       "      <td>1</td>\n",
       "    </tr>\n",
       "    <tr>\n",
       "      <th>245</th>\n",
       "      <td>-530</td>\n",
       "      <td>375</td>\n",
       "      <td>0.999842</td>\n",
       "      <td>0.000158</td>\n",
       "      <td>0</td>\n",
       "    </tr>\n",
       "    <tr>\n",
       "      <th>246</th>\n",
       "      <td>170</td>\n",
       "      <td>-215</td>\n",
       "      <td>0.695346</td>\n",
       "      <td>0.304654</td>\n",
       "      <td>1</td>\n",
       "    </tr>\n",
       "    <tr>\n",
       "      <th>247</th>\n",
       "      <td>-162</td>\n",
       "      <td>138</td>\n",
       "      <td>0.986042</td>\n",
       "      <td>0.013958</td>\n",
       "      <td>0</td>\n",
       "    </tr>\n",
       "  </tbody>\n",
       "</table>\n",
       "<p>248 rows × 5 columns</p>\n",
       "</div>"
      ],
      "text/plain": [
       "     t1_odds  t2_odds   t1_prob   t2_prob  winner\n",
       "0       -129      100  0.999904  0.000096       0\n",
       "1        130     -162  0.589540  0.410460       0\n",
       "2       -130      105  0.869778  0.130222       0\n",
       "3       -107     -115  0.991146  0.008854       0\n",
       "4      -1000      580  0.964789  0.035211       0\n",
       "..       ...      ...       ...       ...     ...\n",
       "243     -155      125  0.007213  0.992787       0\n",
       "244     -175      135  0.328388  0.671612       1\n",
       "245     -530      375  0.999842  0.000158       0\n",
       "246      170     -215  0.695346  0.304654       1\n",
       "247     -162      138  0.986042  0.013958       0\n",
       "\n",
       "[248 rows x 5 columns]"
      ]
     },
     "metadata": {},
     "output_type": "display_data"
    },
    {
     "name": "stdout",
     "output_type": "stream",
     "text": [
      "\n",
      "          Number of matches: 248\n",
      "          Number of bets: 182\n",
      "          Number of winning bets: 98\n",
      "          Number of losing bets: 84\n",
      "          Number of underdog bets: 110\n",
      "          Number of underdog wins: 52\n",
      "          Number of underdog losses: 58\n",
      "          Number of Favorite bets: 71\n",
      "          Number of favorite wins: 46\n",
      "          Number of favorite losses: 25\n",
      "          Number of even bets: 1\n",
      "          Number of even wins: 0\n",
      "          Number of even losses: 1\n",
      "          Profit: 2498.742198278269\n",
      "          Profit per bet: 13.729352737792686\n",
      "          Profit per match: 10.07557338015431\n",
      "          \n",
      "          \n"
     ]
    },
    {
     "data": {
      "text/plain": [
       "(3492, 66)"
      ]
     },
     "metadata": {},
     "output_type": "display_data"
    },
    {
     "data": {
      "text/plain": [
       "(3492,)"
      ]
     },
     "metadata": {},
     "output_type": "display_data"
    },
    {
     "data": {
      "text/plain": [
       "(3492, 2)"
      ]
     },
     "metadata": {},
     "output_type": "display_data"
    },
    {
     "data": {
      "text/plain": [
       "(248, 66)"
      ]
     },
     "metadata": {},
     "output_type": "display_data"
    },
    {
     "data": {
      "text/plain": [
       "(248,)"
      ]
     },
     "metadata": {},
     "output_type": "display_data"
    },
    {
     "data": {
      "text/plain": [
       "(248, 2)"
      ]
     },
     "metadata": {},
     "output_type": "display_data"
    },
    {
     "data": {
      "text/html": [
       "<div>\n",
       "<style scoped>\n",
       "    .dataframe tbody tr th:only-of-type {\n",
       "        vertical-align: middle;\n",
       "    }\n",
       "\n",
       "    .dataframe tbody tr th {\n",
       "        vertical-align: top;\n",
       "    }\n",
       "\n",
       "    .dataframe thead th {\n",
       "        text-align: right;\n",
       "    }\n",
       "</style>\n",
       "<table border=\"1\" class=\"dataframe\">\n",
       "  <thead>\n",
       "    <tr style=\"text-align: right;\">\n",
       "      <th></th>\n",
       "      <th>t1_odds</th>\n",
       "      <th>t2_odds</th>\n",
       "      <th>t1_prob</th>\n",
       "      <th>t2_prob</th>\n",
       "      <th>winner</th>\n",
       "    </tr>\n",
       "  </thead>\n",
       "  <tbody>\n",
       "    <tr>\n",
       "      <th>0</th>\n",
       "      <td>-129</td>\n",
       "      <td>100</td>\n",
       "      <td>0.999483</td>\n",
       "      <td>0.000517</td>\n",
       "      <td>0</td>\n",
       "    </tr>\n",
       "    <tr>\n",
       "      <th>1</th>\n",
       "      <td>130</td>\n",
       "      <td>-162</td>\n",
       "      <td>0.182313</td>\n",
       "      <td>0.817687</td>\n",
       "      <td>0</td>\n",
       "    </tr>\n",
       "    <tr>\n",
       "      <th>2</th>\n",
       "      <td>-130</td>\n",
       "      <td>105</td>\n",
       "      <td>0.807094</td>\n",
       "      <td>0.192906</td>\n",
       "      <td>0</td>\n",
       "    </tr>\n",
       "    <tr>\n",
       "      <th>3</th>\n",
       "      <td>-107</td>\n",
       "      <td>-115</td>\n",
       "      <td>0.995839</td>\n",
       "      <td>0.004161</td>\n",
       "      <td>0</td>\n",
       "    </tr>\n",
       "    <tr>\n",
       "      <th>4</th>\n",
       "      <td>-1000</td>\n",
       "      <td>580</td>\n",
       "      <td>0.991412</td>\n",
       "      <td>0.008588</td>\n",
       "      <td>0</td>\n",
       "    </tr>\n",
       "    <tr>\n",
       "      <th>...</th>\n",
       "      <td>...</td>\n",
       "      <td>...</td>\n",
       "      <td>...</td>\n",
       "      <td>...</td>\n",
       "      <td>...</td>\n",
       "    </tr>\n",
       "    <tr>\n",
       "      <th>243</th>\n",
       "      <td>-155</td>\n",
       "      <td>125</td>\n",
       "      <td>0.008983</td>\n",
       "      <td>0.991017</td>\n",
       "      <td>0</td>\n",
       "    </tr>\n",
       "    <tr>\n",
       "      <th>244</th>\n",
       "      <td>-175</td>\n",
       "      <td>135</td>\n",
       "      <td>0.584293</td>\n",
       "      <td>0.415707</td>\n",
       "      <td>1</td>\n",
       "    </tr>\n",
       "    <tr>\n",
       "      <th>245</th>\n",
       "      <td>-530</td>\n",
       "      <td>375</td>\n",
       "      <td>0.999928</td>\n",
       "      <td>0.000072</td>\n",
       "      <td>0</td>\n",
       "    </tr>\n",
       "    <tr>\n",
       "      <th>246</th>\n",
       "      <td>170</td>\n",
       "      <td>-215</td>\n",
       "      <td>0.578699</td>\n",
       "      <td>0.421301</td>\n",
       "      <td>1</td>\n",
       "    </tr>\n",
       "    <tr>\n",
       "      <th>247</th>\n",
       "      <td>-162</td>\n",
       "      <td>138</td>\n",
       "      <td>0.989725</td>\n",
       "      <td>0.010275</td>\n",
       "      <td>0</td>\n",
       "    </tr>\n",
       "  </tbody>\n",
       "</table>\n",
       "<p>248 rows × 5 columns</p>\n",
       "</div>"
      ],
      "text/plain": [
       "     t1_odds  t2_odds   t1_prob   t2_prob  winner\n",
       "0       -129      100  0.999483  0.000517       0\n",
       "1        130     -162  0.182313  0.817687       0\n",
       "2       -130      105  0.807094  0.192906       0\n",
       "3       -107     -115  0.995839  0.004161       0\n",
       "4      -1000      580  0.991412  0.008588       0\n",
       "..       ...      ...       ...       ...     ...\n",
       "243     -155      125  0.008983  0.991017       0\n",
       "244     -175      135  0.584293  0.415707       1\n",
       "245     -530      375  0.999928  0.000072       0\n",
       "246      170     -215  0.578699  0.421301       1\n",
       "247     -162      138  0.989725  0.010275       0\n",
       "\n",
       "[248 rows x 5 columns]"
      ]
     },
     "metadata": {},
     "output_type": "display_data"
    },
    {
     "name": "stdout",
     "output_type": "stream",
     "text": [
      "\n",
      "          Number of matches: 248\n",
      "          Number of bets: 245\n",
      "          Number of winning bets: 142\n",
      "          Number of losing bets: 103\n",
      "          Number of underdog bets: 124\n",
      "          Number of underdog wins: 57\n",
      "          Number of underdog losses: 67\n",
      "          Number of Favorite bets: 119\n",
      "          Number of favorite wins: 85\n",
      "          Number of favorite losses: 34\n",
      "          Number of even bets: 2\n",
      "          Number of even wins: 0\n",
      "          Number of even losses: 2\n",
      "          Profit: 2902.534478765207\n",
      "          Profit per bet: 11.84707950516411\n",
      "          Profit per match: 11.703768059537126\n",
      "          \n",
      "          \n"
     ]
    }
   ],
   "source": [
    "score_list = []\n",
    "for model_num in range(len(models[0])):\n",
    "    test_model_name = models[0][model_num]\n",
    "    test_model = eval(models[1][model_num])\n",
    "    test_model_features = eval(models[2][model_num])\n",
    "    test_model_ev = eval(models[3][model_num])\n",
    "    \n",
    "    score_list.append(evaluate_model(test_model, test_model_features, test_model_ev, df_train, label_train, odds_train, df_test, label_test,\n",
    "                         odds_test, verbose = True))"
   ]
  },
  {
   "cell_type": "code",
   "execution_count": 10,
   "metadata": {},
   "outputs": [
    {
     "name": "stdout",
     "output_type": "stream",
     "text": [
      "['1652.412901', '-89.10560164', '931.7343408', '-1665.294851', '22.11070203', '-93.34709404', '-23.27494407', '549.7604014', '-635.9246582', '-678.809811', '2001.216221', '2634.183443']\n"
     ]
    }
   ],
   "source": [
    "print(models[4])"
   ]
  },
  {
   "cell_type": "code",
   "execution_count": 11,
   "metadata": {},
   "outputs": [
    {
     "name": "stdout",
     "output_type": "stream",
     "text": [
      "[1327.4129006482722, -565.0511426621727, 1208.7101824074134, 172.0095485124437, -362.8250600269029, -86.19393544157977, -280.82768335456325, 35.660788673065625, -386.9997999990313, -1351.1773840392746, 2498.742198278269, 2902.534478765207]\n"
     ]
    }
   ],
   "source": [
    "print(score_list)"
   ]
  },
  {
   "cell_type": "code",
   "execution_count": 12,
   "metadata": {},
   "outputs": [],
   "source": [
    "models[4] = score_list"
   ]
  },
  {
   "cell_type": "code",
   "execution_count": 13,
   "metadata": {},
   "outputs": [
    {
     "data": {
      "text/plain": [
       "[['model_06_13_20',\n",
       "  'model_06_20_20',\n",
       "  'model_6_27_20',\n",
       "  'model_7_18_20',\n",
       "  'model_7_25_20',\n",
       "  'model_9_2_20',\n",
       "  'model_9_10_20',\n",
       "  'model_10_23_20',\n",
       "  'model_10_27_20',\n",
       "  'model_10_28_20',\n",
       "  'model_2021_06_24',\n",
       "  'model_2021_06_30'],\n",
       " ['LogisticRegression(max_iter=50000, random_state=75, tol=5.993308915320019)',\n",
       "  'GaussianNB()',\n",
       "  'GaussianNB()',\n",
       "  'GradientBoostingClassifier(n_estimators=122, random_state=75)',\n",
       "  'GaussianNB()',\n",
       "  'GaussianNB(var_smoothing=1e-12)',\n",
       "  'GaussianNB(var_smoothing=1e-12)',\n",
       "  'GradientBoostingClassifier(max_depth=95, min_samples_leaf=6, n_estimators=195,\\n                           random_state=75)',\n",
       "  \"RandomForestClassifier(criterion='entropy', max_depth=10, n_estimators=197,\\n                       n_jobs=-1, random_state=75)\",\n",
       "  \"RandomForestClassifier(criterion='entropy', max_depth=10, n_estimators=22,\\n                       n_jobs=-1, random_state=75)\",\n",
       "  'GradientBoostingClassifier(max_depth=95, min_samples_leaf=0.0015,\\n                           n_estimators=195, random_state=75)',\n",
       "  'GradientBoostingClassifier(max_depth=95, min_samples_leaf=0.0015,\\n                           n_estimators=195, random_state=75)'],\n",
       " [\"['B_win_by_Decision_Majority', 'B_win_by_TKO_Doctor_Stoppage', 'R_win_by_Decision_Majority', 'R_odds', 'R_current_lose_streak', 'R_Reach_cms', 'B_draw', 'total_round_dif', 'R_ev', 'B_ev']\",\n",
       "  \"['R_win_by_Decision_Unanimous', 'B_win_by_Submission', 'R_Weight_lbs', 'sig_str_dif', 'B_Height_cms', 'B_avg_SUB_ATT', 'R_win_by_TKO_Doctor_Stoppage', 'height_dif', 'B_draw', 'avg_td_dif', 'R_win_by_Decision_Split', 'age_dif', 'B_current_win_streak', 'R_odds']\",\n",
       "  \"['R_longest_win_streak', 'longest_win_streak_dif', 'reach_dif', 'avg_sub_att_dif', 'R_win_by_Decision_Unanimous', 'B_win_by_Submission', 'R_Weight_lbs', 'sig_str_dif', 'B_Height_cms', 'B_avg_SUB_ATT', 'R_win_by_TKO_Doctor_Stoppage', 'height_dif', 'B_draw', 'avg_td_dif', 'R_win_by_Decision_Split', 'age_dif', 'B_current_win_streak', 'R_odds']\",\n",
       "  \"['B_current_win_streak', 'R_win_by_Submission', 'B_win_by_Decision_Unanimous', 'R_win_by_Decision_Unanimous', 'R_current_lose_streak', 'B_win_by_TKO_Doctor_Stoppage', 'win_dif', 'B_win_by_Decision_Split', 'B_wins', 'R_Stance', 'B_age', 'B_Weight_lbs', 'R_ev', 'B_total_rounds_fought', 'location', 'R_odds', 'R_Reach_cms', 'R_Weight_lbs', 'R_current_win_streak', 'R_age', 'empty_arena', 'R_win_by_Decision_Split', 'R_draw', 'lose_streak_dif', 'B_draw']\",\n",
       "  \"['R_Reach_cms', 'total_round_dif', 'R_Height_cms', 'R_avg_SIG_STR_pct', 'B_age', 'R_longest_win_streak', 'lose_streak_dif', 'ko_dif', 'R_win_by_Decision_Majority', 'longest_win_streak_dif', 'avg_sub_att_dif', 'R_Weight_lbs', 'sig_str_dif', 'B_Height_cms', 'B_avg_SUB_ATT', 'R_win_by_TKO_Doctor_Stoppage', 'B_draw', 'avg_td_dif', 'R_win_by_Decision_Split', 'age_dif', 'B_current_win_streak', 'R_odds']\",\n",
       "  \"['win_streak_dif', 'B_Light Heavyweight_rank', 'B_Lightweight_rank', 'R_avg_TD_landed', 'R_Middleweight_rank', 'total_round_dif', 'R_Height_cms', 'R_avg_SIG_STR_pct', 'B_age', 'R_longest_win_streak', 'lose_streak_dif', 'R_win_by_Decision_Majority', 'longest_win_streak_dif', 'avg_sub_att_dif', 'R_Weight_lbs', 'sig_str_dif', 'B_Height_cms', 'B_avg_SUB_ATT', 'R_win_by_TKO_Doctor_Stoppage', 'B_draw', 'avg_td_dif', 'R_win_by_Decision_Split', 'age_dif', 'R_odds']\",\n",
       "  \"['B_Weight_lbs', 'B_Flyweight_rank', 'B_avg_TD_landed', 'B_Light Heavyweight_rank', 'B_Lightweight_rank', 'R_avg_TD_landed', 'R_Middleweight_rank', 'R_Height_cms', 'R_avg_SIG_STR_pct', 'B_age', 'R_longest_win_streak', 'lose_streak_dif', 'R_win_by_Decision_Majority', 'longest_win_streak_dif', 'avg_sub_att_dif', 'sig_str_dif', 'B_avg_SUB_ATT', 'R_win_by_TKO_Doctor_Stoppage', 'B_draw', 'R_win_by_Decision_Split', 'age_dif', 'R_odds']\",\n",
       "  \"['weight_class', 'B_Reach_cms', 'B_Welterweight_rank', 'B_total_title_bouts', 'R_avg_TD_pct', 'B_Bantamweight_rank', 'R_Featherweight_rank', 'no_of_rounds', 'B_draw', 'B_Stance', 'R_win_by_TKO_Doctor_Stoppage', 'R_current_win_streak', 'B_avg_SIG_STR_landed', 'country']\",\n",
       "  '[\\'R_Height_cms\\', \\'R_Bantamweight_rank\\', \\'B_current_lose_streak\\', \\'avg_sub_att_dif\\', \\'B_Middleweight_rank\\', \\'R_current_win_streak\\', \\'total_round_dif\\', \\'B_avg_SUB_ATT\\', \\'B_avg_SIG_STR_landed\\', \\'age_dif\\', \\'B_Light Heavyweight_rank\\', \\'R_avg_TD_pct\\', \\'R_ev\\', \"B_Women\\'s Flyweight_rank\", \"B_Women\\'s Strawweight_rank\", \\'B_Bantamweight_rank\\', \\'R_Reach_cms\\', \\'B_win_by_Decision_Unanimous\\', \\'constant_1\\']',\n",
       "  '[\\'B_Stance\\', \\'R_current_lose_streak\\', \\'loss_dif\\', \\'B_win_by_Decision_Split\\', \\'R_Height_cms\\', \\'R_Bantamweight_rank\\', \\'B_current_lose_streak\\', \\'avg_sub_att_dif\\', \\'B_Middleweight_rank\\', \\'R_current_win_streak\\', \\'total_round_dif\\', \\'B_avg_SUB_ATT\\', \\'B_avg_SIG_STR_landed\\', \\'age_dif\\', \\'B_Light Heavyweight_rank\\', \\'R_avg_TD_pct\\', \\'R_ev\\', \"B_Women\\'s Flyweight_rank\", \"B_Women\\'s Strawweight_rank\", \\'B_Bantamweight_rank\\', \\'R_Reach_cms\\', \\'B_win_by_Decision_Unanimous\\', \\'constant_1\\']',\n",
       "  '[\"R_Women\\'s Featherweight_rank\", \\'B_Featherweight_rank\\', \\'B_win_by_KO/TKO\\', \\'R_Pound-for-Pound_rank\\', \\'reach_dif\\', \"R_Women\\'s Bantamweight_rank\", \\'age_dif\\', \\'weight_class\\', \\'B_Reach_cms\\', \\'B_Welterweight_rank\\', \\'B_total_title_bouts\\', \\'R_avg_TD_pct\\', \\'B_Bantamweight_rank\\', \\'R_Featherweight_rank\\', \\'no_of_rounds\\', \\'B_draw\\', \\'B_Stance\\', \\'R_win_by_TKO_Doctor_Stoppage\\', \\'R_current_win_streak\\', \\'B_avg_SIG_STR_landed\\', \\'country\\']',\n",
       "  '[\"R_Women\\'s Strawweight_rank\", \\'B_Lightweight_rank\\', \\'B_Pound-for-Pound_rank\\', \"R_Women\\'s Featherweight_rank\", \\'B_Featherweight_rank\\', \\'B_win_by_KO/TKO\\', \\'R_Pound-for-Pound_rank\\', \\'reach_dif\\', \"R_Women\\'s Bantamweight_rank\", \\'age_dif\\', \\'weight_class\\', \\'B_Reach_cms\\', \\'B_Welterweight_rank\\', \\'B_total_title_bouts\\', \\'R_avg_TD_pct\\', \\'B_Bantamweight_rank\\', \\'R_Featherweight_rank\\', \\'no_of_rounds\\', \\'B_draw\\', \\'B_Stance\\', \\'R_win_by_TKO_Doctor_Stoppage\\', \\'R_current_win_streak\\', \\'B_avg_SIG_STR_landed\\', \\'country\\']'],\n",
       " ['0', '0', '0', '0', '1', '3', '2', '27', '1', '5', '33', '0'],\n",
       " [1327.4129006482722,\n",
       "  -565.0511426621727,\n",
       "  1208.7101824074134,\n",
       "  172.0095485124437,\n",
       "  -362.8250600269029,\n",
       "  -86.19393544157977,\n",
       "  -280.82768335456325,\n",
       "  35.660788673065625,\n",
       "  -386.9997999990313,\n",
       "  -1351.1773840392746,\n",
       "  2498.742198278269,\n",
       "  2902.534478765207]]"
      ]
     },
     "execution_count": 13,
     "metadata": {},
     "output_type": "execute_result"
    }
   ],
   "source": [
    "models"
   ]
  },
  {
   "cell_type": "code",
   "execution_count": 14,
   "metadata": {},
   "outputs": [
    {
     "name": "stdout",
     "output_type": "stream",
     "text": [
      "HI\n",
      "HI\n",
      "HI\n",
      "HI\n",
      "HI\n"
     ]
    }
   ],
   "source": [
    "with open('../data/production_models.csv', 'w' , newline='') as outfile:\n",
    "    writer = csv.writer(outfile)\n",
    "    for row in models:\n",
    "        print(\"HI\")\n",
    "        writer.writerow(row)\n",
    "    \n",
    "outfile.close()"
   ]
  },
  {
   "cell_type": "code",
   "execution_count": null,
   "metadata": {},
   "outputs": [],
   "source": []
  }
 ],
 "metadata": {
  "kernelspec": {
   "display_name": "Python 3",
   "language": "python",
   "name": "python3"
  },
  "language_info": {
   "codemirror_mode": {
    "name": "ipython",
    "version": 3
   },
   "file_extension": ".py",
   "mimetype": "text/x-python",
   "name": "python",
   "nbconvert_exporter": "python",
   "pygments_lexer": "ipython3",
   "version": "3.8.8"
  }
 },
 "nbformat": 4,
 "nbformat_minor": 4
}
