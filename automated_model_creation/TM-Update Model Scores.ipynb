{
 "cells": [
  {
   "cell_type": "code",
   "execution_count": 1,
   "metadata": {},
   "outputs": [],
   "source": [
    "import pandas as pd\n",
    "import numpy as np\n",
    "from functions import *\n",
    "import random\n",
    "import csv\n",
    "from sklearn.linear_model import LogisticRegression\n",
    "from sklearn.tree import DecisionTreeClassifier\n",
    "from sklearn.ensemble import GradientBoostingClassifier\n",
    "\n",
    "remove_fight_island = False"
   ]
  },
  {
   "cell_type": "code",
   "execution_count": 2,
   "metadata": {},
   "outputs": [
    {
     "name": "stdout",
     "output_type": "stream",
     "text": [
      "5\n"
     ]
    }
   ],
   "source": [
    "#Load models\n",
    "#REMINDER: We are going to need to use 'eval' to get the models usable\n",
    "with open('../data/production_models.csv', newline='') as f:\n",
    "    reader = csv.reader(f)\n",
    "    models = list(reader)\n",
    "    \n",
    "print(len(models))\n"
   ]
  },
  {
   "cell_type": "code",
   "execution_count": 3,
   "metadata": {},
   "outputs": [
    {
     "data": {
      "text/plain": [
       "[['model_06_13_20',\n",
       "  'model_06_20_20',\n",
       "  'model_6_27_20',\n",
       "  'model_7_18_20',\n",
       "  'model_7_25_20',\n",
       "  'model_9_2_20',\n",
       "  'model_9_10_20',\n",
       "  'model_10_23_20',\n",
       "  'model_10_27_20',\n",
       "  'model_10_28_20',\n",
       "  'model_2021_06_24',\n",
       "  'model_2021_06_30',\n",
       "  'model_2021_07_21'],\n",
       " ['LogisticRegression(max_iter=50000, random_state=75, tol=5.993308915320019)',\n",
       "  'GaussianNB()',\n",
       "  'GaussianNB()',\n",
       "  'GradientBoostingClassifier(n_estimators=122, random_state=75)',\n",
       "  'GaussianNB()',\n",
       "  'GaussianNB(var_smoothing=1e-12)',\n",
       "  'GaussianNB(var_smoothing=1e-12)',\n",
       "  'GradientBoostingClassifier(max_depth=95, min_samples_leaf=6, n_estimators=195,\\n                           random_state=75)',\n",
       "  \"RandomForestClassifier(criterion='entropy', max_depth=10, n_estimators=197,\\n                       n_jobs=-1, random_state=75)\",\n",
       "  \"RandomForestClassifier(criterion='entropy', max_depth=10, n_estimators=22,\\n                       n_jobs=-1, random_state=75)\",\n",
       "  'GradientBoostingClassifier(max_depth=95, min_samples_leaf=0.0015,\\n                           n_estimators=195, random_state=75)',\n",
       "  'GradientBoostingClassifier(max_depth=95, min_samples_leaf=0.0015,\\n                           n_estimators=195, random_state=75)',\n",
       "  \"RadiusNeighborsClassifier(outlier_label='most_frequent')\"],\n",
       " [\"['B_win_by_Decision_Majority', 'B_win_by_TKO_Doctor_Stoppage', 'R_win_by_Decision_Majority', 'R_odds', 'R_current_lose_streak', 'R_Reach_cms', 'B_draw', 'total_round_dif', 'R_ev', 'B_ev']\",\n",
       "  \"['R_win_by_Decision_Unanimous', 'B_win_by_Submission', 'R_Weight_lbs', 'sig_str_dif', 'B_Height_cms', 'B_avg_SUB_ATT', 'R_win_by_TKO_Doctor_Stoppage', 'height_dif', 'B_draw', 'avg_td_dif', 'R_win_by_Decision_Split', 'age_dif', 'B_current_win_streak', 'R_odds']\",\n",
       "  \"['R_longest_win_streak', 'longest_win_streak_dif', 'reach_dif', 'avg_sub_att_dif', 'R_win_by_Decision_Unanimous', 'B_win_by_Submission', 'R_Weight_lbs', 'sig_str_dif', 'B_Height_cms', 'B_avg_SUB_ATT', 'R_win_by_TKO_Doctor_Stoppage', 'height_dif', 'B_draw', 'avg_td_dif', 'R_win_by_Decision_Split', 'age_dif', 'B_current_win_streak', 'R_odds']\",\n",
       "  \"['B_current_win_streak', 'R_win_by_Submission', 'B_win_by_Decision_Unanimous', 'R_win_by_Decision_Unanimous', 'R_current_lose_streak', 'B_win_by_TKO_Doctor_Stoppage', 'win_dif', 'B_win_by_Decision_Split', 'B_wins', 'R_Stance', 'B_age', 'B_Weight_lbs', 'R_ev', 'B_total_rounds_fought', 'location', 'R_odds', 'R_Reach_cms', 'R_Weight_lbs', 'R_current_win_streak', 'R_age', 'empty_arena', 'R_win_by_Decision_Split', 'R_draw', 'lose_streak_dif', 'B_draw']\",\n",
       "  \"['R_Reach_cms', 'total_round_dif', 'R_Height_cms', 'R_avg_SIG_STR_pct', 'B_age', 'R_longest_win_streak', 'lose_streak_dif', 'ko_dif', 'R_win_by_Decision_Majority', 'longest_win_streak_dif', 'avg_sub_att_dif', 'R_Weight_lbs', 'sig_str_dif', 'B_Height_cms', 'B_avg_SUB_ATT', 'R_win_by_TKO_Doctor_Stoppage', 'B_draw', 'avg_td_dif', 'R_win_by_Decision_Split', 'age_dif', 'B_current_win_streak', 'R_odds']\",\n",
       "  \"['win_streak_dif', 'B_Light Heavyweight_rank', 'B_Lightweight_rank', 'R_avg_TD_landed', 'R_Middleweight_rank', 'total_round_dif', 'R_Height_cms', 'R_avg_SIG_STR_pct', 'B_age', 'R_longest_win_streak', 'lose_streak_dif', 'R_win_by_Decision_Majority', 'longest_win_streak_dif', 'avg_sub_att_dif', 'R_Weight_lbs', 'sig_str_dif', 'B_Height_cms', 'B_avg_SUB_ATT', 'R_win_by_TKO_Doctor_Stoppage', 'B_draw', 'avg_td_dif', 'R_win_by_Decision_Split', 'age_dif', 'R_odds']\",\n",
       "  \"['B_Weight_lbs', 'B_Flyweight_rank', 'B_avg_TD_landed', 'B_Light Heavyweight_rank', 'B_Lightweight_rank', 'R_avg_TD_landed', 'R_Middleweight_rank', 'R_Height_cms', 'R_avg_SIG_STR_pct', 'B_age', 'R_longest_win_streak', 'lose_streak_dif', 'R_win_by_Decision_Majority', 'longest_win_streak_dif', 'avg_sub_att_dif', 'sig_str_dif', 'B_avg_SUB_ATT', 'R_win_by_TKO_Doctor_Stoppage', 'B_draw', 'R_win_by_Decision_Split', 'age_dif', 'R_odds']\",\n",
       "  \"['weight_class', 'B_Reach_cms', 'B_Welterweight_rank', 'B_total_title_bouts', 'R_avg_TD_pct', 'B_Bantamweight_rank', 'R_Featherweight_rank', 'no_of_rounds', 'B_draw', 'B_Stance', 'R_win_by_TKO_Doctor_Stoppage', 'R_current_win_streak', 'B_avg_SIG_STR_landed', 'country']\",\n",
       "  '[\\'R_Height_cms\\', \\'R_Bantamweight_rank\\', \\'B_current_lose_streak\\', \\'avg_sub_att_dif\\', \\'B_Middleweight_rank\\', \\'R_current_win_streak\\', \\'total_round_dif\\', \\'B_avg_SUB_ATT\\', \\'B_avg_SIG_STR_landed\\', \\'age_dif\\', \\'B_Light Heavyweight_rank\\', \\'R_avg_TD_pct\\', \\'R_ev\\', \"B_Women\\'s Flyweight_rank\", \"B_Women\\'s Strawweight_rank\", \\'B_Bantamweight_rank\\', \\'R_Reach_cms\\', \\'B_win_by_Decision_Unanimous\\', \\'constant_1\\']',\n",
       "  '[\\'B_Stance\\', \\'R_current_lose_streak\\', \\'loss_dif\\', \\'B_win_by_Decision_Split\\', \\'R_Height_cms\\', \\'R_Bantamweight_rank\\', \\'B_current_lose_streak\\', \\'avg_sub_att_dif\\', \\'B_Middleweight_rank\\', \\'R_current_win_streak\\', \\'total_round_dif\\', \\'B_avg_SUB_ATT\\', \\'B_avg_SIG_STR_landed\\', \\'age_dif\\', \\'B_Light Heavyweight_rank\\', \\'R_avg_TD_pct\\', \\'R_ev\\', \"B_Women\\'s Flyweight_rank\", \"B_Women\\'s Strawweight_rank\", \\'B_Bantamweight_rank\\', \\'R_Reach_cms\\', \\'B_win_by_Decision_Unanimous\\', \\'constant_1\\']',\n",
       "  '[\"R_Women\\'s Featherweight_rank\", \\'B_Featherweight_rank\\', \\'B_win_by_KO/TKO\\', \\'R_Pound-for-Pound_rank\\', \\'reach_dif\\', \"R_Women\\'s Bantamweight_rank\", \\'age_dif\\', \\'weight_class\\', \\'B_Reach_cms\\', \\'B_Welterweight_rank\\', \\'B_total_title_bouts\\', \\'R_avg_TD_pct\\', \\'B_Bantamweight_rank\\', \\'R_Featherweight_rank\\', \\'no_of_rounds\\', \\'B_draw\\', \\'B_Stance\\', \\'R_win_by_TKO_Doctor_Stoppage\\', \\'R_current_win_streak\\', \\'B_avg_SIG_STR_landed\\', \\'country\\']',\n",
       "  '[\"R_Women\\'s Strawweight_rank\", \\'B_Lightweight_rank\\', \\'B_Pound-for-Pound_rank\\', \"R_Women\\'s Featherweight_rank\", \\'B_Featherweight_rank\\', \\'B_win_by_KO/TKO\\', \\'R_Pound-for-Pound_rank\\', \\'reach_dif\\', \"R_Women\\'s Bantamweight_rank\", \\'age_dif\\', \\'weight_class\\', \\'B_Reach_cms\\', \\'B_Welterweight_rank\\', \\'B_total_title_bouts\\', \\'R_avg_TD_pct\\', \\'B_Bantamweight_rank\\', \\'R_Featherweight_rank\\', \\'no_of_rounds\\', \\'B_draw\\', \\'B_Stance\\', \\'R_win_by_TKO_Doctor_Stoppage\\', \\'R_current_win_streak\\', \\'B_avg_SIG_STR_landed\\', \\'country\\']',\n",
       "  '[\"R_Women\\'s Flyweight_rank\", \\'R_draw\\', \"B_Women\\'s Strawweight_rank\", \\'B_Heavyweight_rank\\', \\'R_Light Heavyweight_rank\\', \\'B_win_by_TKO_Doctor_Stoppage\\', \\'R_Pound-for-Pound_rank\\', \\'R_avg_SUB_ATT\\', \\'R_win_by_Decision_Split\\', \\'R_wins\\', \\'empty_arena\\', \\'sub_dif\\', \\'R_Flyweight_rank\\', \\'height_dif\\', \\'B_total_title_bouts\\', \\'B_Bantamweight_rank\\', \\'R_longest_win_streak\\', \\'R_avg_TD_landed\\', \\'B_avg_SIG_STR_landed\\']'],\n",
       " ['0', '0', '0', '0', '1', '3', '2', '27', '1', '5', '33', '0', '5'],\n",
       " ['1127.19067842605',\n",
       "  '-950.9775482241005',\n",
       "  '1083.4788618676141',\n",
       "  '407.0778237930258',\n",
       "  '-676.5402515344442',\n",
       "  '-528.4063020903642',\n",
       "  '-230.17923849846807',\n",
       "  '-1678.1779331752696',\n",
       "  '-120.80773041188252',\n",
       "  '-1853.1849933783474',\n",
       "  '1360.7010445967346',\n",
       "  '66.33685543598621',\n",
       "  '2208.3026702916454']]"
      ]
     },
     "execution_count": 3,
     "metadata": {},
     "output_type": "execute_result"
    }
   ],
   "source": [
    "models"
   ]
  },
  {
   "cell_type": "code",
   "execution_count": 4,
   "metadata": {},
   "outputs": [],
   "source": [
    "df = pd.read_csv(\"../data/kaggle_data/ufc-master.csv\")"
   ]
  },
  {
   "cell_type": "code",
   "execution_count": 5,
   "metadata": {},
   "outputs": [
    {
     "name": "stdout",
     "output_type": "stream",
     "text": [
      "250\n",
      "250\n",
      "250\n",
      "4554\n",
      "4554\n",
      "4554\n"
     ]
    },
    {
     "name": "stderr",
     "output_type": "stream",
     "text": [
      "<ipython-input-5-d6c2a1ffdd58>:5: SettingWithCopyWarning: \n",
      "A value is trying to be set on a copy of a slice from a DataFrame\n",
      "\n",
      "See the caveats in the documentation: https://pandas.pydata.org/pandas-docs/stable/user_guide/indexing.html#returning-a-view-versus-a-copy\n",
      "  df['label'][mask] = 0\n",
      "<ipython-input-5-d6c2a1ffdd58>:7: SettingWithCopyWarning: \n",
      "A value is trying to be set on a copy of a slice from a DataFrame\n",
      "\n",
      "See the caveats in the documentation: https://pandas.pydata.org/pandas-docs/stable/user_guide/indexing.html#returning-a-view-versus-a-copy\n",
      "  df['label'][mask] = 1\n"
     ]
    }
   ],
   "source": [
    "#Let's put all the labels in a dataframe\n",
    "df['label'] = ''\n",
    "#If the winner is not Red or Blue we can remove it.\n",
    "mask = df['Winner'] == 'Red'\n",
    "df['label'][mask] = 0\n",
    "mask = df['Winner'] == 'Blue'\n",
    "df['label'][mask] = 1\n",
    "\n",
    "#df[\"Winner\"] = df[\"Winner\"].astype('category')\n",
    "df = df[(df['Winner'] == 'Blue') | (df['Winner'] == 'Red')]\n",
    "\n",
    "\n",
    "#Make sure lable is numeric\n",
    "df['label'] = pd.to_numeric(df['label'], errors='coerce')\n",
    "\n",
    "#Let's fix the date\n",
    "df['date'] = pd.to_datetime(df['date'])\n",
    "\n",
    "#Create a label df:\n",
    "label_df = df['label']\n",
    "\n",
    "#Let's create an odds df too:\n",
    "odds_df = df[['R_odds', 'B_odds']]\n",
    "\n",
    "#Split the test set.  We are always(?) going to use the last 200 matches as the test set, so we don't want those around\n",
    "#as we pick models\n",
    "\n",
    "df_train = df[250:]\n",
    "odds_train = odds_df[250:]\n",
    "label_train = label_df[250:]\n",
    "\n",
    "df_test = df[:250]\n",
    "odds_test = odds_df[:250]\n",
    "label_test = label_df[:250]\n",
    "\n",
    "print(len(df_test))\n",
    "print(len(odds_test))\n",
    "print(len(label_test))\n",
    "\n",
    "print(len(df_train))\n",
    "print(len(odds_train))\n",
    "print(len(label_train))"
   ]
  },
  {
   "cell_type": "code",
   "execution_count": 6,
   "metadata": {},
   "outputs": [
    {
     "name": "stdout",
     "output_type": "stream",
     "text": [
      "250\n",
      "4554\n"
     ]
    }
   ],
   "source": [
    "if remove_fight_island:\n",
    "    ##Let's remove the Fight island contests and see how that affects score\n",
    "    df_test_no_fight_island = df_test[(df_test['location'] != 'Abu Dhabi, Abu Dhabi, United Arab Emirates')]\n",
    "    df_train_no_fight_island = df_train[(df_train['location'] != 'Abu Dhabi, Abu Dhabi, United Arab Emirates')]\n",
    "    df_test = df_test_no_fight_island\n",
    "    df_train = df_train_no_fight_island\n",
    "\n",
    "\n",
    "\n",
    "print(len(df_test))\n",
    "print(len(df_train))\n"
   ]
  },
  {
   "cell_type": "code",
   "execution_count": 7,
   "metadata": {},
   "outputs": [
    {
     "name": "stderr",
     "output_type": "stream",
     "text": [
      "C:\\Users\\matth\\anaconda3\\lib\\site-packages\\pandas\\core\\frame.py:3191: SettingWithCopyWarning: \n",
      "A value is trying to be set on a copy of a slice from a DataFrame.\n",
      "Try using .loc[row_indexer,col_indexer] = value instead\n",
      "\n",
      "See the caveats in the documentation: https://pandas.pydata.org/pandas-docs/stable/user_guide/indexing.html#returning-a-view-versus-a-copy\n",
      "  self[k1] = value[k2]\n"
     ]
    }
   ],
   "source": [
    "#Set a value for the nulls in the ranks\n",
    "\n",
    "weightclass_list = ['B_match_weightclass_rank', 'R_match_weightclass_rank', \"R_Women's Flyweight_rank\", \"R_Women's Featherweight_rank\", \"R_Women's Strawweight_rank\", \"R_Women's Bantamweight_rank\", 'R_Heavyweight_rank', 'R_Light Heavyweight_rank', 'R_Middleweight_rank', 'R_Welterweight_rank', 'R_Lightweight_rank', 'R_Featherweight_rank', 'R_Bantamweight_rank', 'R_Flyweight_rank', 'R_Pound-for-Pound_rank', \"B_Women's Flyweight_rank\", \"B_Women's Featherweight_rank\", \"B_Women's Strawweight_rank\", \"B_Women's Bantamweight_rank\", 'B_Heavyweight_rank', 'B_Light Heavyweight_rank', 'B_Middleweight_rank', 'B_Welterweight_rank', 'B_Lightweight_rank', 'B_Featherweight_rank', 'B_Bantamweight_rank', 'B_Flyweight_rank', 'B_Pound-for-Pound_rank']\n",
    "df_train[weightclass_list] = df_train[weightclass_list].fillna(17)\n",
    "df_test[weightclass_list] = df_test[weightclass_list].fillna(17)"
   ]
  },
  {
   "cell_type": "code",
   "execution_count": 8,
   "metadata": {},
   "outputs": [
    {
     "data": {
      "text/plain": [
       "13"
      ]
     },
     "execution_count": 8,
     "metadata": {},
     "output_type": "execute_result"
    }
   ],
   "source": [
    "len(models[0])"
   ]
  },
  {
   "cell_type": "code",
   "execution_count": null,
   "metadata": {},
   "outputs": [],
   "source": []
  },
  {
   "cell_type": "code",
   "execution_count": 9,
   "metadata": {},
   "outputs": [
    {
     "data": {
      "text/plain": [
       "(4554, 10)"
      ]
     },
     "metadata": {},
     "output_type": "display_data"
    },
    {
     "data": {
      "text/plain": [
       "(4554,)"
      ]
     },
     "metadata": {},
     "output_type": "display_data"
    },
    {
     "data": {
      "text/plain": [
       "(4554, 2)"
      ]
     },
     "metadata": {},
     "output_type": "display_data"
    },
    {
     "data": {
      "text/plain": [
       "(250, 10)"
      ]
     },
     "metadata": {},
     "output_type": "display_data"
    },
    {
     "data": {
      "text/plain": [
       "(250,)"
      ]
     },
     "metadata": {},
     "output_type": "display_data"
    },
    {
     "data": {
      "text/plain": [
       "(250, 2)"
      ]
     },
     "metadata": {},
     "output_type": "display_data"
    },
    {
     "data": {
      "text/html": [
       "<div>\n",
       "<style scoped>\n",
       "    .dataframe tbody tr th:only-of-type {\n",
       "        vertical-align: middle;\n",
       "    }\n",
       "\n",
       "    .dataframe tbody tr th {\n",
       "        vertical-align: top;\n",
       "    }\n",
       "\n",
       "    .dataframe thead th {\n",
       "        text-align: right;\n",
       "    }\n",
       "</style>\n",
       "<table border=\"1\" class=\"dataframe\">\n",
       "  <thead>\n",
       "    <tr style=\"text-align: right;\">\n",
       "      <th></th>\n",
       "      <th>t1_odds</th>\n",
       "      <th>t2_odds</th>\n",
       "      <th>t1_prob</th>\n",
       "      <th>t2_prob</th>\n",
       "      <th>winner</th>\n",
       "    </tr>\n",
       "  </thead>\n",
       "  <tbody>\n",
       "    <tr>\n",
       "      <th>0</th>\n",
       "      <td>-210</td>\n",
       "      <td>175</td>\n",
       "      <td>0.660721</td>\n",
       "      <td>0.339279</td>\n",
       "      <td>1</td>\n",
       "    </tr>\n",
       "    <tr>\n",
       "      <th>1</th>\n",
       "      <td>-320</td>\n",
       "      <td>250</td>\n",
       "      <td>0.738645</td>\n",
       "      <td>0.261355</td>\n",
       "      <td>1</td>\n",
       "    </tr>\n",
       "    <tr>\n",
       "      <th>2</th>\n",
       "      <td>130</td>\n",
       "      <td>-155</td>\n",
       "      <td>0.454943</td>\n",
       "      <td>0.545057</td>\n",
       "      <td>0</td>\n",
       "    </tr>\n",
       "    <tr>\n",
       "      <th>3</th>\n",
       "      <td>-155</td>\n",
       "      <td>135</td>\n",
       "      <td>0.591225</td>\n",
       "      <td>0.408775</td>\n",
       "      <td>1</td>\n",
       "    </tr>\n",
       "    <tr>\n",
       "      <th>4</th>\n",
       "      <td>-240</td>\n",
       "      <td>195</td>\n",
       "      <td>0.677644</td>\n",
       "      <td>0.322356</td>\n",
       "      <td>0</td>\n",
       "    </tr>\n",
       "    <tr>\n",
       "      <th>...</th>\n",
       "      <td>...</td>\n",
       "      <td>...</td>\n",
       "      <td>...</td>\n",
       "      <td>...</td>\n",
       "      <td>...</td>\n",
       "    </tr>\n",
       "    <tr>\n",
       "      <th>245</th>\n",
       "      <td>175</td>\n",
       "      <td>-230</td>\n",
       "      <td>0.402476</td>\n",
       "      <td>0.597524</td>\n",
       "      <td>0</td>\n",
       "    </tr>\n",
       "    <tr>\n",
       "      <th>246</th>\n",
       "      <td>250</td>\n",
       "      <td>-305</td>\n",
       "      <td>0.293370</td>\n",
       "      <td>0.706630</td>\n",
       "      <td>0</td>\n",
       "    </tr>\n",
       "    <tr>\n",
       "      <th>247</th>\n",
       "      <td>-134</td>\n",
       "      <td>105</td>\n",
       "      <td>0.539957</td>\n",
       "      <td>0.460043</td>\n",
       "      <td>1</td>\n",
       "    </tr>\n",
       "    <tr>\n",
       "      <th>248</th>\n",
       "      <td>-105</td>\n",
       "      <td>-117</td>\n",
       "      <td>0.490456</td>\n",
       "      <td>0.509544</td>\n",
       "      <td>1</td>\n",
       "    </tr>\n",
       "    <tr>\n",
       "      <th>249</th>\n",
       "      <td>115</td>\n",
       "      <td>-143</td>\n",
       "      <td>0.492496</td>\n",
       "      <td>0.507504</td>\n",
       "      <td>1</td>\n",
       "    </tr>\n",
       "  </tbody>\n",
       "</table>\n",
       "<p>250 rows × 5 columns</p>\n",
       "</div>"
      ],
      "text/plain": [
       "     t1_odds  t2_odds   t1_prob   t2_prob  winner\n",
       "0       -210      175  0.660721  0.339279       1\n",
       "1       -320      250  0.738645  0.261355       1\n",
       "2        130     -155  0.454943  0.545057       0\n",
       "3       -155      135  0.591225  0.408775       1\n",
       "4       -240      195  0.677644  0.322356       0\n",
       "..       ...      ...       ...       ...     ...\n",
       "245      175     -230  0.402476  0.597524       0\n",
       "246      250     -305  0.293370  0.706630       0\n",
       "247     -134      105  0.539957  0.460043       1\n",
       "248     -105     -117  0.490456  0.509544       1\n",
       "249      115     -143  0.492496  0.507504       1\n",
       "\n",
       "[250 rows x 5 columns]"
      ]
     },
     "metadata": {},
     "output_type": "display_data"
    },
    {
     "name": "stdout",
     "output_type": "stream",
     "text": [
      "\n",
      "          Number of matches: 250\n",
      "          Number of bets: 112\n",
      "          Number of winning bets: 57\n",
      "          Number of losing bets: 56\n",
      "          Number of underdog bets: 94\n",
      "          Number of underdog wins: 40\n",
      "          Number of underdog losses: 54\n",
      "          Number of Favorite bets: 19\n",
      "          Number of favorite wins: 17\n",
      "          Number of favorite losses: 2\n",
      "          Number of even bets: 0\n",
      "          Number of even wins: 0\n",
      "          Number of even losses: 0\n",
      "          Profit: 951.5496527850246\n",
      "          Profit per bet: 8.495979042723434\n",
      "          Profit per match: 3.8061986111400983\n",
      "          \n",
      "          \n"
     ]
    },
    {
     "data": {
      "text/plain": [
       "(3722, 14)"
      ]
     },
     "metadata": {},
     "output_type": "display_data"
    },
    {
     "data": {
      "text/plain": [
       "(3722,)"
      ]
     },
     "metadata": {},
     "output_type": "display_data"
    },
    {
     "data": {
      "text/plain": [
       "(3722, 2)"
      ]
     },
     "metadata": {},
     "output_type": "display_data"
    },
    {
     "data": {
      "text/plain": [
       "(250, 14)"
      ]
     },
     "metadata": {},
     "output_type": "display_data"
    },
    {
     "data": {
      "text/plain": [
       "(250,)"
      ]
     },
     "metadata": {},
     "output_type": "display_data"
    },
    {
     "data": {
      "text/plain": [
       "(250, 2)"
      ]
     },
     "metadata": {},
     "output_type": "display_data"
    },
    {
     "data": {
      "text/html": [
       "<div>\n",
       "<style scoped>\n",
       "    .dataframe tbody tr th:only-of-type {\n",
       "        vertical-align: middle;\n",
       "    }\n",
       "\n",
       "    .dataframe tbody tr th {\n",
       "        vertical-align: top;\n",
       "    }\n",
       "\n",
       "    .dataframe thead th {\n",
       "        text-align: right;\n",
       "    }\n",
       "</style>\n",
       "<table border=\"1\" class=\"dataframe\">\n",
       "  <thead>\n",
       "    <tr style=\"text-align: right;\">\n",
       "      <th></th>\n",
       "      <th>t1_odds</th>\n",
       "      <th>t2_odds</th>\n",
       "      <th>t1_prob</th>\n",
       "      <th>t2_prob</th>\n",
       "      <th>winner</th>\n",
       "    </tr>\n",
       "  </thead>\n",
       "  <tbody>\n",
       "    <tr>\n",
       "      <th>0</th>\n",
       "      <td>-210</td>\n",
       "      <td>175</td>\n",
       "      <td>0.729193</td>\n",
       "      <td>0.270807</td>\n",
       "      <td>1</td>\n",
       "    </tr>\n",
       "    <tr>\n",
       "      <th>1</th>\n",
       "      <td>-320</td>\n",
       "      <td>250</td>\n",
       "      <td>0.835290</td>\n",
       "      <td>0.164710</td>\n",
       "      <td>1</td>\n",
       "    </tr>\n",
       "    <tr>\n",
       "      <th>2</th>\n",
       "      <td>130</td>\n",
       "      <td>-155</td>\n",
       "      <td>0.857982</td>\n",
       "      <td>0.142018</td>\n",
       "      <td>0</td>\n",
       "    </tr>\n",
       "    <tr>\n",
       "      <th>3</th>\n",
       "      <td>-155</td>\n",
       "      <td>135</td>\n",
       "      <td>0.750183</td>\n",
       "      <td>0.249817</td>\n",
       "      <td>1</td>\n",
       "    </tr>\n",
       "    <tr>\n",
       "      <th>4</th>\n",
       "      <td>-240</td>\n",
       "      <td>195</td>\n",
       "      <td>0.732645</td>\n",
       "      <td>0.267355</td>\n",
       "      <td>0</td>\n",
       "    </tr>\n",
       "    <tr>\n",
       "      <th>...</th>\n",
       "      <td>...</td>\n",
       "      <td>...</td>\n",
       "      <td>...</td>\n",
       "      <td>...</td>\n",
       "      <td>...</td>\n",
       "    </tr>\n",
       "    <tr>\n",
       "      <th>245</th>\n",
       "      <td>175</td>\n",
       "      <td>-230</td>\n",
       "      <td>0.611909</td>\n",
       "      <td>0.388091</td>\n",
       "      <td>0</td>\n",
       "    </tr>\n",
       "    <tr>\n",
       "      <th>246</th>\n",
       "      <td>250</td>\n",
       "      <td>-305</td>\n",
       "      <td>0.513994</td>\n",
       "      <td>0.486006</td>\n",
       "      <td>0</td>\n",
       "    </tr>\n",
       "    <tr>\n",
       "      <th>247</th>\n",
       "      <td>-134</td>\n",
       "      <td>105</td>\n",
       "      <td>0.636933</td>\n",
       "      <td>0.363067</td>\n",
       "      <td>1</td>\n",
       "    </tr>\n",
       "    <tr>\n",
       "      <th>248</th>\n",
       "      <td>-105</td>\n",
       "      <td>-117</td>\n",
       "      <td>0.352748</td>\n",
       "      <td>0.647252</td>\n",
       "      <td>1</td>\n",
       "    </tr>\n",
       "    <tr>\n",
       "      <th>249</th>\n",
       "      <td>115</td>\n",
       "      <td>-143</td>\n",
       "      <td>0.556372</td>\n",
       "      <td>0.443628</td>\n",
       "      <td>1</td>\n",
       "    </tr>\n",
       "  </tbody>\n",
       "</table>\n",
       "<p>250 rows × 5 columns</p>\n",
       "</div>"
      ],
      "text/plain": [
       "     t1_odds  t2_odds   t1_prob   t2_prob  winner\n",
       "0       -210      175  0.729193  0.270807       1\n",
       "1       -320      250  0.835290  0.164710       1\n",
       "2        130     -155  0.857982  0.142018       0\n",
       "3       -155      135  0.750183  0.249817       1\n",
       "4       -240      195  0.732645  0.267355       0\n",
       "..       ...      ...       ...       ...     ...\n",
       "245      175     -230  0.611909  0.388091       0\n",
       "246      250     -305  0.513994  0.486006       0\n",
       "247     -134      105  0.636933  0.363067       1\n",
       "248     -105     -117  0.352748  0.647252       1\n",
       "249      115     -143  0.556372  0.443628       1\n",
       "\n",
       "[250 rows x 5 columns]"
      ]
     },
     "metadata": {},
     "output_type": "display_data"
    },
    {
     "name": "stdout",
     "output_type": "stream",
     "text": [
      "\n",
      "          Number of matches: 250\n",
      "          Number of bets: 229\n",
      "          Number of winning bets: 121\n",
      "          Number of losing bets: 108\n",
      "          Number of underdog bets: 103\n",
      "          Number of underdog wins: 41\n",
      "          Number of underdog losses: 62\n",
      "          Number of Favorite bets: 123\n",
      "          Number of favorite wins: 80\n",
      "          Number of favorite losses: 43\n",
      "          Number of even bets: 3\n",
      "          Number of even wins: 0\n",
      "          Number of even losses: 3\n",
      "          Profit: -565.0992471802674\n",
      "          Profit per bet: -2.467682302097238\n",
      "          Profit per match: -2.2603969887210695\n",
      "          \n",
      "          \n"
     ]
    },
    {
     "data": {
      "text/plain": [
       "(3722, 18)"
      ]
     },
     "metadata": {},
     "output_type": "display_data"
    },
    {
     "data": {
      "text/plain": [
       "(3722,)"
      ]
     },
     "metadata": {},
     "output_type": "display_data"
    },
    {
     "data": {
      "text/plain": [
       "(3722, 2)"
      ]
     },
     "metadata": {},
     "output_type": "display_data"
    },
    {
     "data": {
      "text/plain": [
       "(250, 18)"
      ]
     },
     "metadata": {},
     "output_type": "display_data"
    },
    {
     "data": {
      "text/plain": [
       "(250,)"
      ]
     },
     "metadata": {},
     "output_type": "display_data"
    },
    {
     "data": {
      "text/plain": [
       "(250, 2)"
      ]
     },
     "metadata": {},
     "output_type": "display_data"
    },
    {
     "data": {
      "text/html": [
       "<div>\n",
       "<style scoped>\n",
       "    .dataframe tbody tr th:only-of-type {\n",
       "        vertical-align: middle;\n",
       "    }\n",
       "\n",
       "    .dataframe tbody tr th {\n",
       "        vertical-align: top;\n",
       "    }\n",
       "\n",
       "    .dataframe thead th {\n",
       "        text-align: right;\n",
       "    }\n",
       "</style>\n",
       "<table border=\"1\" class=\"dataframe\">\n",
       "  <thead>\n",
       "    <tr style=\"text-align: right;\">\n",
       "      <th></th>\n",
       "      <th>t1_odds</th>\n",
       "      <th>t2_odds</th>\n",
       "      <th>t1_prob</th>\n",
       "      <th>t2_prob</th>\n",
       "      <th>winner</th>\n",
       "    </tr>\n",
       "  </thead>\n",
       "  <tbody>\n",
       "    <tr>\n",
       "      <th>0</th>\n",
       "      <td>-210</td>\n",
       "      <td>175</td>\n",
       "      <td>0.701654</td>\n",
       "      <td>0.298346</td>\n",
       "      <td>1</td>\n",
       "    </tr>\n",
       "    <tr>\n",
       "      <th>1</th>\n",
       "      <td>-320</td>\n",
       "      <td>250</td>\n",
       "      <td>0.816573</td>\n",
       "      <td>0.183427</td>\n",
       "      <td>1</td>\n",
       "    </tr>\n",
       "    <tr>\n",
       "      <th>2</th>\n",
       "      <td>130</td>\n",
       "      <td>-155</td>\n",
       "      <td>0.973562</td>\n",
       "      <td>0.026438</td>\n",
       "      <td>0</td>\n",
       "    </tr>\n",
       "    <tr>\n",
       "      <th>3</th>\n",
       "      <td>-155</td>\n",
       "      <td>135</td>\n",
       "      <td>0.642725</td>\n",
       "      <td>0.357275</td>\n",
       "      <td>1</td>\n",
       "    </tr>\n",
       "    <tr>\n",
       "      <th>4</th>\n",
       "      <td>-240</td>\n",
       "      <td>195</td>\n",
       "      <td>0.615661</td>\n",
       "      <td>0.384339</td>\n",
       "      <td>0</td>\n",
       "    </tr>\n",
       "    <tr>\n",
       "      <th>...</th>\n",
       "      <td>...</td>\n",
       "      <td>...</td>\n",
       "      <td>...</td>\n",
       "      <td>...</td>\n",
       "      <td>...</td>\n",
       "    </tr>\n",
       "    <tr>\n",
       "      <th>245</th>\n",
       "      <td>175</td>\n",
       "      <td>-230</td>\n",
       "      <td>0.618525</td>\n",
       "      <td>0.381475</td>\n",
       "      <td>0</td>\n",
       "    </tr>\n",
       "    <tr>\n",
       "      <th>246</th>\n",
       "      <td>250</td>\n",
       "      <td>-305</td>\n",
       "      <td>0.526448</td>\n",
       "      <td>0.473552</td>\n",
       "      <td>0</td>\n",
       "    </tr>\n",
       "    <tr>\n",
       "      <th>247</th>\n",
       "      <td>-134</td>\n",
       "      <td>105</td>\n",
       "      <td>0.695989</td>\n",
       "      <td>0.304011</td>\n",
       "      <td>1</td>\n",
       "    </tr>\n",
       "    <tr>\n",
       "      <th>248</th>\n",
       "      <td>-105</td>\n",
       "      <td>-117</td>\n",
       "      <td>0.245752</td>\n",
       "      <td>0.754248</td>\n",
       "      <td>1</td>\n",
       "    </tr>\n",
       "    <tr>\n",
       "      <th>249</th>\n",
       "      <td>115</td>\n",
       "      <td>-143</td>\n",
       "      <td>0.399525</td>\n",
       "      <td>0.600475</td>\n",
       "      <td>1</td>\n",
       "    </tr>\n",
       "  </tbody>\n",
       "</table>\n",
       "<p>250 rows × 5 columns</p>\n",
       "</div>"
      ],
      "text/plain": [
       "     t1_odds  t2_odds   t1_prob   t2_prob  winner\n",
       "0       -210      175  0.701654  0.298346       1\n",
       "1       -320      250  0.816573  0.183427       1\n",
       "2        130     -155  0.973562  0.026438       0\n",
       "3       -155      135  0.642725  0.357275       1\n",
       "4       -240      195  0.615661  0.384339       0\n",
       "..       ...      ...       ...       ...     ...\n",
       "245      175     -230  0.618525  0.381475       0\n",
       "246      250     -305  0.526448  0.473552       0\n",
       "247     -134      105  0.695989  0.304011       1\n",
       "248     -105     -117  0.245752  0.754248       1\n",
       "249      115     -143  0.399525  0.600475       1\n",
       "\n",
       "[250 rows x 5 columns]"
      ]
     },
     "metadata": {},
     "output_type": "display_data"
    },
    {
     "name": "stdout",
     "output_type": "stream",
     "text": [
      "\n",
      "          Number of matches: 250\n",
      "          Number of bets: 231\n",
      "          Number of winning bets: 124\n",
      "          Number of losing bets: 108\n",
      "          Number of underdog bets: 113\n",
      "          Number of underdog wins: 45\n",
      "          Number of underdog losses: 68\n",
      "          Number of Favorite bets: 116\n",
      "          Number of favorite wins: 79\n",
      "          Number of favorite losses: 37\n",
      "          Number of even bets: 3\n",
      "          Number of even wins: 0\n",
      "          Number of even losses: 3\n",
      "          Profit: 497.235950790235\n",
      "          Profit per bet: 2.1525365835075108\n",
      "          Profit per match: 1.9889438031609399\n",
      "          \n",
      "          \n"
     ]
    },
    {
     "data": {
      "text/plain": [
       "(4554, 172)"
      ]
     },
     "metadata": {},
     "output_type": "display_data"
    },
    {
     "data": {
      "text/plain": [
       "(4554,)"
      ]
     },
     "metadata": {},
     "output_type": "display_data"
    },
    {
     "data": {
      "text/plain": [
       "(4554, 2)"
      ]
     },
     "metadata": {},
     "output_type": "display_data"
    },
    {
     "data": {
      "text/plain": [
       "(250, 172)"
      ]
     },
     "metadata": {},
     "output_type": "display_data"
    },
    {
     "data": {
      "text/plain": [
       "(250,)"
      ]
     },
     "metadata": {},
     "output_type": "display_data"
    },
    {
     "data": {
      "text/plain": [
       "(250, 2)"
      ]
     },
     "metadata": {},
     "output_type": "display_data"
    },
    {
     "data": {
      "text/html": [
       "<div>\n",
       "<style scoped>\n",
       "    .dataframe tbody tr th:only-of-type {\n",
       "        vertical-align: middle;\n",
       "    }\n",
       "\n",
       "    .dataframe tbody tr th {\n",
       "        vertical-align: top;\n",
       "    }\n",
       "\n",
       "    .dataframe thead th {\n",
       "        text-align: right;\n",
       "    }\n",
       "</style>\n",
       "<table border=\"1\" class=\"dataframe\">\n",
       "  <thead>\n",
       "    <tr style=\"text-align: right;\">\n",
       "      <th></th>\n",
       "      <th>t1_odds</th>\n",
       "      <th>t2_odds</th>\n",
       "      <th>t1_prob</th>\n",
       "      <th>t2_prob</th>\n",
       "      <th>winner</th>\n",
       "    </tr>\n",
       "  </thead>\n",
       "  <tbody>\n",
       "    <tr>\n",
       "      <th>0</th>\n",
       "      <td>-210</td>\n",
       "      <td>175</td>\n",
       "      <td>0.695792</td>\n",
       "      <td>0.304208</td>\n",
       "      <td>1</td>\n",
       "    </tr>\n",
       "    <tr>\n",
       "      <th>1</th>\n",
       "      <td>-320</td>\n",
       "      <td>250</td>\n",
       "      <td>0.795654</td>\n",
       "      <td>0.204346</td>\n",
       "      <td>1</td>\n",
       "    </tr>\n",
       "    <tr>\n",
       "      <th>2</th>\n",
       "      <td>130</td>\n",
       "      <td>-155</td>\n",
       "      <td>0.387469</td>\n",
       "      <td>0.612531</td>\n",
       "      <td>0</td>\n",
       "    </tr>\n",
       "    <tr>\n",
       "      <th>3</th>\n",
       "      <td>-155</td>\n",
       "      <td>135</td>\n",
       "      <td>0.550042</td>\n",
       "      <td>0.449958</td>\n",
       "      <td>1</td>\n",
       "    </tr>\n",
       "    <tr>\n",
       "      <th>4</th>\n",
       "      <td>-240</td>\n",
       "      <td>195</td>\n",
       "      <td>0.737111</td>\n",
       "      <td>0.262889</td>\n",
       "      <td>0</td>\n",
       "    </tr>\n",
       "    <tr>\n",
       "      <th>...</th>\n",
       "      <td>...</td>\n",
       "      <td>...</td>\n",
       "      <td>...</td>\n",
       "      <td>...</td>\n",
       "      <td>...</td>\n",
       "    </tr>\n",
       "    <tr>\n",
       "      <th>245</th>\n",
       "      <td>175</td>\n",
       "      <td>-230</td>\n",
       "      <td>0.379642</td>\n",
       "      <td>0.620358</td>\n",
       "      <td>0</td>\n",
       "    </tr>\n",
       "    <tr>\n",
       "      <th>246</th>\n",
       "      <td>250</td>\n",
       "      <td>-305</td>\n",
       "      <td>0.429993</td>\n",
       "      <td>0.570007</td>\n",
       "      <td>0</td>\n",
       "    </tr>\n",
       "    <tr>\n",
       "      <th>247</th>\n",
       "      <td>-134</td>\n",
       "      <td>105</td>\n",
       "      <td>0.613838</td>\n",
       "      <td>0.386162</td>\n",
       "      <td>1</td>\n",
       "    </tr>\n",
       "    <tr>\n",
       "      <th>248</th>\n",
       "      <td>-105</td>\n",
       "      <td>-117</td>\n",
       "      <td>0.554330</td>\n",
       "      <td>0.445670</td>\n",
       "      <td>1</td>\n",
       "    </tr>\n",
       "    <tr>\n",
       "      <th>249</th>\n",
       "      <td>115</td>\n",
       "      <td>-143</td>\n",
       "      <td>0.488095</td>\n",
       "      <td>0.511905</td>\n",
       "      <td>1</td>\n",
       "    </tr>\n",
       "  </tbody>\n",
       "</table>\n",
       "<p>250 rows × 5 columns</p>\n",
       "</div>"
      ],
      "text/plain": [
       "     t1_odds  t2_odds   t1_prob   t2_prob  winner\n",
       "0       -210      175  0.695792  0.304208       1\n",
       "1       -320      250  0.795654  0.204346       1\n",
       "2        130     -155  0.387469  0.612531       0\n",
       "3       -155      135  0.550042  0.449958       1\n",
       "4       -240      195  0.737111  0.262889       0\n",
       "..       ...      ...       ...       ...     ...\n",
       "245      175     -230  0.379642  0.620358       0\n",
       "246      250     -305  0.429993  0.570007       0\n",
       "247     -134      105  0.613838  0.386162       1\n",
       "248     -105     -117  0.554330  0.445670       1\n",
       "249      115     -143  0.488095  0.511905       1\n",
       "\n",
       "[250 rows x 5 columns]"
      ]
     },
     "metadata": {},
     "output_type": "display_data"
    },
    {
     "name": "stdout",
     "output_type": "stream",
     "text": [
      "\n",
      "          Number of matches: 250\n",
      "          Number of bets: 197\n",
      "          Number of winning bets: 104\n",
      "          Number of losing bets: 94\n",
      "          Number of underdog bets: 97\n",
      "          Number of underdog wins: 41\n",
      "          Number of underdog losses: 56\n",
      "          Number of Favorite bets: 98\n",
      "          Number of favorite wins: 63\n",
      "          Number of favorite losses: 35\n",
      "          Number of even bets: 3\n",
      "          Number of even wins: 0\n",
      "          Number of even losses: 3\n",
      "          Profit: -364.28056393596614\n",
      "          Profit per bet: -1.849139918456681\n",
      "          Profit per match: -1.4571222557438646\n",
      "          \n",
      "          \n"
     ]
    },
    {
     "data": {
      "text/plain": [
       "(3611, 22)"
      ]
     },
     "metadata": {},
     "output_type": "display_data"
    },
    {
     "data": {
      "text/plain": [
       "(3611,)"
      ]
     },
     "metadata": {},
     "output_type": "display_data"
    },
    {
     "data": {
      "text/plain": [
       "(3611, 2)"
      ]
     },
     "metadata": {},
     "output_type": "display_data"
    },
    {
     "data": {
      "text/plain": [
       "(250, 22)"
      ]
     },
     "metadata": {},
     "output_type": "display_data"
    },
    {
     "data": {
      "text/plain": [
       "(250,)"
      ]
     },
     "metadata": {},
     "output_type": "display_data"
    },
    {
     "data": {
      "text/plain": [
       "(250, 2)"
      ]
     },
     "metadata": {},
     "output_type": "display_data"
    },
    {
     "data": {
      "text/html": [
       "<div>\n",
       "<style scoped>\n",
       "    .dataframe tbody tr th:only-of-type {\n",
       "        vertical-align: middle;\n",
       "    }\n",
       "\n",
       "    .dataframe tbody tr th {\n",
       "        vertical-align: top;\n",
       "    }\n",
       "\n",
       "    .dataframe thead th {\n",
       "        text-align: right;\n",
       "    }\n",
       "</style>\n",
       "<table border=\"1\" class=\"dataframe\">\n",
       "  <thead>\n",
       "    <tr style=\"text-align: right;\">\n",
       "      <th></th>\n",
       "      <th>t1_odds</th>\n",
       "      <th>t2_odds</th>\n",
       "      <th>t1_prob</th>\n",
       "      <th>t2_prob</th>\n",
       "      <th>winner</th>\n",
       "    </tr>\n",
       "  </thead>\n",
       "  <tbody>\n",
       "    <tr>\n",
       "      <th>0</th>\n",
       "      <td>-210</td>\n",
       "      <td>175</td>\n",
       "      <td>0.789159</td>\n",
       "      <td>0.210841</td>\n",
       "      <td>1</td>\n",
       "    </tr>\n",
       "    <tr>\n",
       "      <th>1</th>\n",
       "      <td>-320</td>\n",
       "      <td>250</td>\n",
       "      <td>0.787655</td>\n",
       "      <td>0.212345</td>\n",
       "      <td>1</td>\n",
       "    </tr>\n",
       "    <tr>\n",
       "      <th>2</th>\n",
       "      <td>130</td>\n",
       "      <td>-155</td>\n",
       "      <td>0.984554</td>\n",
       "      <td>0.015446</td>\n",
       "      <td>0</td>\n",
       "    </tr>\n",
       "    <tr>\n",
       "      <th>3</th>\n",
       "      <td>-155</td>\n",
       "      <td>135</td>\n",
       "      <td>0.718410</td>\n",
       "      <td>0.281590</td>\n",
       "      <td>1</td>\n",
       "    </tr>\n",
       "    <tr>\n",
       "      <th>4</th>\n",
       "      <td>-240</td>\n",
       "      <td>195</td>\n",
       "      <td>0.618816</td>\n",
       "      <td>0.381184</td>\n",
       "      <td>0</td>\n",
       "    </tr>\n",
       "    <tr>\n",
       "      <th>...</th>\n",
       "      <td>...</td>\n",
       "      <td>...</td>\n",
       "      <td>...</td>\n",
       "      <td>...</td>\n",
       "      <td>...</td>\n",
       "    </tr>\n",
       "    <tr>\n",
       "      <th>245</th>\n",
       "      <td>175</td>\n",
       "      <td>-230</td>\n",
       "      <td>0.530267</td>\n",
       "      <td>0.469733</td>\n",
       "      <td>0</td>\n",
       "    </tr>\n",
       "    <tr>\n",
       "      <th>246</th>\n",
       "      <td>250</td>\n",
       "      <td>-305</td>\n",
       "      <td>0.017551</td>\n",
       "      <td>0.982449</td>\n",
       "      <td>0</td>\n",
       "    </tr>\n",
       "    <tr>\n",
       "      <th>247</th>\n",
       "      <td>-134</td>\n",
       "      <td>105</td>\n",
       "      <td>0.701483</td>\n",
       "      <td>0.298517</td>\n",
       "      <td>1</td>\n",
       "    </tr>\n",
       "    <tr>\n",
       "      <th>248</th>\n",
       "      <td>-105</td>\n",
       "      <td>-117</td>\n",
       "      <td>0.380151</td>\n",
       "      <td>0.619849</td>\n",
       "      <td>1</td>\n",
       "    </tr>\n",
       "    <tr>\n",
       "      <th>249</th>\n",
       "      <td>115</td>\n",
       "      <td>-143</td>\n",
       "      <td>0.486978</td>\n",
       "      <td>0.513022</td>\n",
       "      <td>1</td>\n",
       "    </tr>\n",
       "  </tbody>\n",
       "</table>\n",
       "<p>250 rows × 5 columns</p>\n",
       "</div>"
      ],
      "text/plain": [
       "     t1_odds  t2_odds   t1_prob   t2_prob  winner\n",
       "0       -210      175  0.789159  0.210841       1\n",
       "1       -320      250  0.787655  0.212345       1\n",
       "2        130     -155  0.984554  0.015446       0\n",
       "3       -155      135  0.718410  0.281590       1\n",
       "4       -240      195  0.618816  0.381184       0\n",
       "..       ...      ...       ...       ...     ...\n",
       "245      175     -230  0.530267  0.469733       0\n",
       "246      250     -305  0.017551  0.982449       0\n",
       "247     -134      105  0.701483  0.298517       1\n",
       "248     -105     -117  0.380151  0.619849       1\n",
       "249      115     -143  0.486978  0.513022       1\n",
       "\n",
       "[250 rows x 5 columns]"
      ]
     },
     "metadata": {},
     "output_type": "display_data"
    },
    {
     "name": "stdout",
     "output_type": "stream",
     "text": [
      "\n",
      "          Number of matches: 250\n",
      "          Number of bets: 222\n",
      "          Number of winning bets: 117\n",
      "          Number of losing bets: 106\n",
      "          Number of underdog bets: 98\n",
      "          Number of underdog wins: 39\n",
      "          Number of underdog losses: 59\n",
      "          Number of Favorite bets: 122\n",
      "          Number of favorite wins: 78\n",
      "          Number of favorite losses: 44\n",
      "          Number of even bets: 3\n",
      "          Number of even wins: 0\n",
      "          Number of even losses: 3\n",
      "          Profit: -1098.8503562877127\n",
      "          Profit per bet: -4.949776379674382\n",
      "          Profit per match: -4.39540142515085\n",
      "          \n",
      "          \n"
     ]
    },
    {
     "data": {
      "text/plain": [
       "(3611, 24)"
      ]
     },
     "metadata": {},
     "output_type": "display_data"
    },
    {
     "data": {
      "text/plain": [
       "(3611,)"
      ]
     },
     "metadata": {},
     "output_type": "display_data"
    },
    {
     "data": {
      "text/plain": [
       "(3611, 2)"
      ]
     },
     "metadata": {},
     "output_type": "display_data"
    },
    {
     "data": {
      "text/plain": [
       "(250, 24)"
      ]
     },
     "metadata": {},
     "output_type": "display_data"
    },
    {
     "data": {
      "text/plain": [
       "(250,)"
      ]
     },
     "metadata": {},
     "output_type": "display_data"
    },
    {
     "data": {
      "text/plain": [
       "(250, 2)"
      ]
     },
     "metadata": {},
     "output_type": "display_data"
    },
    {
     "data": {
      "text/html": [
       "<div>\n",
       "<style scoped>\n",
       "    .dataframe tbody tr th:only-of-type {\n",
       "        vertical-align: middle;\n",
       "    }\n",
       "\n",
       "    .dataframe tbody tr th {\n",
       "        vertical-align: top;\n",
       "    }\n",
       "\n",
       "    .dataframe thead th {\n",
       "        text-align: right;\n",
       "    }\n",
       "</style>\n",
       "<table border=\"1\" class=\"dataframe\">\n",
       "  <thead>\n",
       "    <tr style=\"text-align: right;\">\n",
       "      <th></th>\n",
       "      <th>t1_odds</th>\n",
       "      <th>t2_odds</th>\n",
       "      <th>t1_prob</th>\n",
       "      <th>t2_prob</th>\n",
       "      <th>winner</th>\n",
       "    </tr>\n",
       "  </thead>\n",
       "  <tbody>\n",
       "    <tr>\n",
       "      <th>0</th>\n",
       "      <td>-210</td>\n",
       "      <td>175</td>\n",
       "      <td>7.742554e-01</td>\n",
       "      <td>0.225745</td>\n",
       "      <td>1</td>\n",
       "    </tr>\n",
       "    <tr>\n",
       "      <th>1</th>\n",
       "      <td>-320</td>\n",
       "      <td>250</td>\n",
       "      <td>9.061437e-01</td>\n",
       "      <td>0.093856</td>\n",
       "      <td>1</td>\n",
       "    </tr>\n",
       "    <tr>\n",
       "      <th>2</th>\n",
       "      <td>130</td>\n",
       "      <td>-155</td>\n",
       "      <td>9.890182e-01</td>\n",
       "      <td>0.010982</td>\n",
       "      <td>0</td>\n",
       "    </tr>\n",
       "    <tr>\n",
       "      <th>3</th>\n",
       "      <td>-155</td>\n",
       "      <td>135</td>\n",
       "      <td>6.962597e-01</td>\n",
       "      <td>0.303740</td>\n",
       "      <td>1</td>\n",
       "    </tr>\n",
       "    <tr>\n",
       "      <th>4</th>\n",
       "      <td>-240</td>\n",
       "      <td>195</td>\n",
       "      <td>6.516261e-01</td>\n",
       "      <td>0.348374</td>\n",
       "      <td>0</td>\n",
       "    </tr>\n",
       "    <tr>\n",
       "      <th>...</th>\n",
       "      <td>...</td>\n",
       "      <td>...</td>\n",
       "      <td>...</td>\n",
       "      <td>...</td>\n",
       "      <td>...</td>\n",
       "    </tr>\n",
       "    <tr>\n",
       "      <th>245</th>\n",
       "      <td>175</td>\n",
       "      <td>-230</td>\n",
       "      <td>5.054699e-01</td>\n",
       "      <td>0.494530</td>\n",
       "      <td>0</td>\n",
       "    </tr>\n",
       "    <tr>\n",
       "      <th>246</th>\n",
       "      <td>250</td>\n",
       "      <td>-305</td>\n",
       "      <td>1.415828e-09</td>\n",
       "      <td>1.000000</td>\n",
       "      <td>0</td>\n",
       "    </tr>\n",
       "    <tr>\n",
       "      <th>247</th>\n",
       "      <td>-134</td>\n",
       "      <td>105</td>\n",
       "      <td>6.532008e-01</td>\n",
       "      <td>0.346799</td>\n",
       "      <td>1</td>\n",
       "    </tr>\n",
       "    <tr>\n",
       "      <th>248</th>\n",
       "      <td>-105</td>\n",
       "      <td>-117</td>\n",
       "      <td>3.180294e-01</td>\n",
       "      <td>0.681971</td>\n",
       "      <td>1</td>\n",
       "    </tr>\n",
       "    <tr>\n",
       "      <th>249</th>\n",
       "      <td>115</td>\n",
       "      <td>-143</td>\n",
       "      <td>5.003073e-01</td>\n",
       "      <td>0.499693</td>\n",
       "      <td>1</td>\n",
       "    </tr>\n",
       "  </tbody>\n",
       "</table>\n",
       "<p>250 rows × 5 columns</p>\n",
       "</div>"
      ],
      "text/plain": [
       "     t1_odds  t2_odds       t1_prob   t2_prob  winner\n",
       "0       -210      175  7.742554e-01  0.225745       1\n",
       "1       -320      250  9.061437e-01  0.093856       1\n",
       "2        130     -155  9.890182e-01  0.010982       0\n",
       "3       -155      135  6.962597e-01  0.303740       1\n",
       "4       -240      195  6.516261e-01  0.348374       0\n",
       "..       ...      ...           ...       ...     ...\n",
       "245      175     -230  5.054699e-01  0.494530       0\n",
       "246      250     -305  1.415828e-09  1.000000       0\n",
       "247     -134      105  6.532008e-01  0.346799       1\n",
       "248     -105     -117  3.180294e-01  0.681971       1\n",
       "249      115     -143  5.003073e-01  0.499693       1\n",
       "\n",
       "[250 rows x 5 columns]"
      ]
     },
     "metadata": {},
     "output_type": "display_data"
    },
    {
     "name": "stdout",
     "output_type": "stream",
     "text": [
      "\n",
      "          Number of matches: 250\n",
      "          Number of bets: 210\n",
      "          Number of winning bets: 107\n",
      "          Number of losing bets: 104\n",
      "          Number of underdog bets: 103\n",
      "          Number of underdog wins: 40\n",
      "          Number of underdog losses: 63\n",
      "          Number of Favorite bets: 105\n",
      "          Number of favorite wins: 67\n",
      "          Number of favorite losses: 38\n",
      "          Number of even bets: 3\n",
      "          Number of even wins: 0\n",
      "          Number of even losses: 3\n",
      "          Profit: -1139.6492131677433\n",
      "          Profit per bet: -5.426901015084492\n",
      "          Profit per match: -4.558596852670973\n",
      "          \n",
      "          \n"
     ]
    },
    {
     "data": {
      "text/plain": [
       "(3610, 22)"
      ]
     },
     "metadata": {},
     "output_type": "display_data"
    },
    {
     "data": {
      "text/plain": [
       "(3610,)"
      ]
     },
     "metadata": {},
     "output_type": "display_data"
    },
    {
     "data": {
      "text/plain": [
       "(3610, 2)"
      ]
     },
     "metadata": {},
     "output_type": "display_data"
    },
    {
     "data": {
      "text/plain": [
       "(250, 22)"
      ]
     },
     "metadata": {},
     "output_type": "display_data"
    },
    {
     "data": {
      "text/plain": [
       "(250,)"
      ]
     },
     "metadata": {},
     "output_type": "display_data"
    },
    {
     "data": {
      "text/plain": [
       "(250, 2)"
      ]
     },
     "metadata": {},
     "output_type": "display_data"
    },
    {
     "data": {
      "text/html": [
       "<div>\n",
       "<style scoped>\n",
       "    .dataframe tbody tr th:only-of-type {\n",
       "        vertical-align: middle;\n",
       "    }\n",
       "\n",
       "    .dataframe tbody tr th {\n",
       "        vertical-align: top;\n",
       "    }\n",
       "\n",
       "    .dataframe thead th {\n",
       "        text-align: right;\n",
       "    }\n",
       "</style>\n",
       "<table border=\"1\" class=\"dataframe\">\n",
       "  <thead>\n",
       "    <tr style=\"text-align: right;\">\n",
       "      <th></th>\n",
       "      <th>t1_odds</th>\n",
       "      <th>t2_odds</th>\n",
       "      <th>t1_prob</th>\n",
       "      <th>t2_prob</th>\n",
       "      <th>winner</th>\n",
       "    </tr>\n",
       "  </thead>\n",
       "  <tbody>\n",
       "    <tr>\n",
       "      <th>0</th>\n",
       "      <td>-210</td>\n",
       "      <td>175</td>\n",
       "      <td>6.198752e-01</td>\n",
       "      <td>0.380125</td>\n",
       "      <td>1</td>\n",
       "    </tr>\n",
       "    <tr>\n",
       "      <th>1</th>\n",
       "      <td>-320</td>\n",
       "      <td>250</td>\n",
       "      <td>9.542406e-01</td>\n",
       "      <td>0.045759</td>\n",
       "      <td>1</td>\n",
       "    </tr>\n",
       "    <tr>\n",
       "      <th>2</th>\n",
       "      <td>130</td>\n",
       "      <td>-155</td>\n",
       "      <td>9.775635e-01</td>\n",
       "      <td>0.022437</td>\n",
       "      <td>0</td>\n",
       "    </tr>\n",
       "    <tr>\n",
       "      <th>3</th>\n",
       "      <td>-155</td>\n",
       "      <td>135</td>\n",
       "      <td>6.059182e-01</td>\n",
       "      <td>0.394082</td>\n",
       "      <td>1</td>\n",
       "    </tr>\n",
       "    <tr>\n",
       "      <th>4</th>\n",
       "      <td>-240</td>\n",
       "      <td>195</td>\n",
       "      <td>6.653021e-01</td>\n",
       "      <td>0.334698</td>\n",
       "      <td>0</td>\n",
       "    </tr>\n",
       "    <tr>\n",
       "      <th>...</th>\n",
       "      <td>...</td>\n",
       "      <td>...</td>\n",
       "      <td>...</td>\n",
       "      <td>...</td>\n",
       "      <td>...</td>\n",
       "    </tr>\n",
       "    <tr>\n",
       "      <th>245</th>\n",
       "      <td>175</td>\n",
       "      <td>-230</td>\n",
       "      <td>5.296377e-01</td>\n",
       "      <td>0.470362</td>\n",
       "      <td>0</td>\n",
       "    </tr>\n",
       "    <tr>\n",
       "      <th>246</th>\n",
       "      <td>250</td>\n",
       "      <td>-305</td>\n",
       "      <td>1.586428e-09</td>\n",
       "      <td>1.000000</td>\n",
       "      <td>0</td>\n",
       "    </tr>\n",
       "    <tr>\n",
       "      <th>247</th>\n",
       "      <td>-134</td>\n",
       "      <td>105</td>\n",
       "      <td>6.840562e-01</td>\n",
       "      <td>0.315944</td>\n",
       "      <td>1</td>\n",
       "    </tr>\n",
       "    <tr>\n",
       "      <th>248</th>\n",
       "      <td>-105</td>\n",
       "      <td>-117</td>\n",
       "      <td>3.773682e-01</td>\n",
       "      <td>0.622632</td>\n",
       "      <td>1</td>\n",
       "    </tr>\n",
       "    <tr>\n",
       "      <th>249</th>\n",
       "      <td>115</td>\n",
       "      <td>-143</td>\n",
       "      <td>5.535102e-01</td>\n",
       "      <td>0.446490</td>\n",
       "      <td>1</td>\n",
       "    </tr>\n",
       "  </tbody>\n",
       "</table>\n",
       "<p>250 rows × 5 columns</p>\n",
       "</div>"
      ],
      "text/plain": [
       "     t1_odds  t2_odds       t1_prob   t2_prob  winner\n",
       "0       -210      175  6.198752e-01  0.380125       1\n",
       "1       -320      250  9.542406e-01  0.045759       1\n",
       "2        130     -155  9.775635e-01  0.022437       0\n",
       "3       -155      135  6.059182e-01  0.394082       1\n",
       "4       -240      195  6.653021e-01  0.334698       0\n",
       "..       ...      ...           ...       ...     ...\n",
       "245      175     -230  5.296377e-01  0.470362       0\n",
       "246      250     -305  1.586428e-09  1.000000       0\n",
       "247     -134      105  6.840562e-01  0.315944       1\n",
       "248     -105     -117  3.773682e-01  0.622632       1\n",
       "249      115     -143  5.535102e-01  0.446490       1\n",
       "\n",
       "[250 rows x 5 columns]"
      ]
     },
     "metadata": {},
     "output_type": "display_data"
    },
    {
     "name": "stdout",
     "output_type": "stream",
     "text": [
      "\n",
      "          Number of matches: 250\n",
      "          Number of bets: 220\n",
      "          Number of winning bets: 118\n",
      "          Number of losing bets: 104\n",
      "          Number of underdog bets: 104\n",
      "          Number of underdog wins: 42\n",
      "          Number of underdog losses: 62\n",
      "          Number of Favorite bets: 115\n",
      "          Number of favorite wins: 76\n",
      "          Number of favorite losses: 39\n",
      "          Number of even bets: 3\n",
      "          Number of even wins: 0\n",
      "          Number of even losses: 3\n",
      "          Profit: -342.33124048493767\n",
      "          Profit per bet: -1.556051093113353\n",
      "          Profit per match: -1.3693249619397507\n",
      "          \n",
      "          \n"
     ]
    },
    {
     "data": {
      "text/plain": [
       "(3513, 56)"
      ]
     },
     "metadata": {},
     "output_type": "display_data"
    },
    {
     "data": {
      "text/plain": [
       "(3513,)"
      ]
     },
     "metadata": {},
     "output_type": "display_data"
    },
    {
     "data": {
      "text/plain": [
       "(3513, 2)"
      ]
     },
     "metadata": {},
     "output_type": "display_data"
    },
    {
     "data": {
      "text/plain": [
       "(248, 56)"
      ]
     },
     "metadata": {},
     "output_type": "display_data"
    },
    {
     "data": {
      "text/plain": [
       "(248,)"
      ]
     },
     "metadata": {},
     "output_type": "display_data"
    },
    {
     "data": {
      "text/plain": [
       "(248, 2)"
      ]
     },
     "metadata": {},
     "output_type": "display_data"
    },
    {
     "data": {
      "text/html": [
       "<div>\n",
       "<style scoped>\n",
       "    .dataframe tbody tr th:only-of-type {\n",
       "        vertical-align: middle;\n",
       "    }\n",
       "\n",
       "    .dataframe tbody tr th {\n",
       "        vertical-align: top;\n",
       "    }\n",
       "\n",
       "    .dataframe thead th {\n",
       "        text-align: right;\n",
       "    }\n",
       "</style>\n",
       "<table border=\"1\" class=\"dataframe\">\n",
       "  <thead>\n",
       "    <tr style=\"text-align: right;\">\n",
       "      <th></th>\n",
       "      <th>t1_odds</th>\n",
       "      <th>t2_odds</th>\n",
       "      <th>t1_prob</th>\n",
       "      <th>t2_prob</th>\n",
       "      <th>winner</th>\n",
       "    </tr>\n",
       "  </thead>\n",
       "  <tbody>\n",
       "    <tr>\n",
       "      <th>0</th>\n",
       "      <td>-210</td>\n",
       "      <td>175</td>\n",
       "      <td>0.999514</td>\n",
       "      <td>0.000486</td>\n",
       "      <td>1</td>\n",
       "    </tr>\n",
       "    <tr>\n",
       "      <th>1</th>\n",
       "      <td>-320</td>\n",
       "      <td>250</td>\n",
       "      <td>0.980869</td>\n",
       "      <td>0.019131</td>\n",
       "      <td>1</td>\n",
       "    </tr>\n",
       "    <tr>\n",
       "      <th>2</th>\n",
       "      <td>130</td>\n",
       "      <td>-155</td>\n",
       "      <td>0.909055</td>\n",
       "      <td>0.090945</td>\n",
       "      <td>0</td>\n",
       "    </tr>\n",
       "    <tr>\n",
       "      <th>3</th>\n",
       "      <td>-155</td>\n",
       "      <td>135</td>\n",
       "      <td>0.996479</td>\n",
       "      <td>0.003521</td>\n",
       "      <td>1</td>\n",
       "    </tr>\n",
       "    <tr>\n",
       "      <th>4</th>\n",
       "      <td>-240</td>\n",
       "      <td>195</td>\n",
       "      <td>0.028544</td>\n",
       "      <td>0.971456</td>\n",
       "      <td>0</td>\n",
       "    </tr>\n",
       "    <tr>\n",
       "      <th>...</th>\n",
       "      <td>...</td>\n",
       "      <td>...</td>\n",
       "      <td>...</td>\n",
       "      <td>...</td>\n",
       "      <td>...</td>\n",
       "    </tr>\n",
       "    <tr>\n",
       "      <th>243</th>\n",
       "      <td>175</td>\n",
       "      <td>-230</td>\n",
       "      <td>0.997878</td>\n",
       "      <td>0.002122</td>\n",
       "      <td>0</td>\n",
       "    </tr>\n",
       "    <tr>\n",
       "      <th>244</th>\n",
       "      <td>250</td>\n",
       "      <td>-305</td>\n",
       "      <td>0.939003</td>\n",
       "      <td>0.060997</td>\n",
       "      <td>0</td>\n",
       "    </tr>\n",
       "    <tr>\n",
       "      <th>245</th>\n",
       "      <td>-134</td>\n",
       "      <td>105</td>\n",
       "      <td>0.610620</td>\n",
       "      <td>0.389380</td>\n",
       "      <td>1</td>\n",
       "    </tr>\n",
       "    <tr>\n",
       "      <th>246</th>\n",
       "      <td>-105</td>\n",
       "      <td>-117</td>\n",
       "      <td>0.978245</td>\n",
       "      <td>0.021755</td>\n",
       "      <td>1</td>\n",
       "    </tr>\n",
       "    <tr>\n",
       "      <th>247</th>\n",
       "      <td>115</td>\n",
       "      <td>-143</td>\n",
       "      <td>0.962016</td>\n",
       "      <td>0.037984</td>\n",
       "      <td>1</td>\n",
       "    </tr>\n",
       "  </tbody>\n",
       "</table>\n",
       "<p>248 rows × 5 columns</p>\n",
       "</div>"
      ],
      "text/plain": [
       "     t1_odds  t2_odds   t1_prob   t2_prob  winner\n",
       "0       -210      175  0.999514  0.000486       1\n",
       "1       -320      250  0.980869  0.019131       1\n",
       "2        130     -155  0.909055  0.090945       0\n",
       "3       -155      135  0.996479  0.003521       1\n",
       "4       -240      195  0.028544  0.971456       0\n",
       "..       ...      ...       ...       ...     ...\n",
       "243      175     -230  0.997878  0.002122       0\n",
       "244      250     -305  0.939003  0.060997       0\n",
       "245     -134      105  0.610620  0.389380       1\n",
       "246     -105     -117  0.978245  0.021755       1\n",
       "247      115     -143  0.962016  0.037984       1\n",
       "\n",
       "[248 rows x 5 columns]"
      ]
     },
     "metadata": {},
     "output_type": "display_data"
    },
    {
     "name": "stdout",
     "output_type": "stream",
     "text": [
      "\n",
      "          Number of matches: 248\n",
      "          Number of bets: 203\n",
      "          Number of winning bets: 98\n",
      "          Number of losing bets: 105\n",
      "          Number of underdog bets: 104\n",
      "          Number of underdog wins: 40\n",
      "          Number of underdog losses: 64\n",
      "          Number of Favorite bets: 98\n",
      "          Number of favorite wins: 57\n",
      "          Number of favorite losses: 41\n",
      "          Number of even bets: 1\n",
      "          Number of even wins: 1\n",
      "          Number of even losses: 0\n",
      "          Profit: -1027.165161820317\n",
      "          Profit per bet: -5.059926905518803\n",
      "          Profit per match: -4.141795007339988\n",
      "          \n",
      "          \n"
     ]
    },
    {
     "data": {
      "text/plain": [
       "(3513, 19)"
      ]
     },
     "metadata": {},
     "output_type": "display_data"
    },
    {
     "data": {
      "text/plain": [
       "(3513,)"
      ]
     },
     "metadata": {},
     "output_type": "display_data"
    },
    {
     "data": {
      "text/plain": [
       "(3513, 2)"
      ]
     },
     "metadata": {},
     "output_type": "display_data"
    },
    {
     "data": {
      "text/plain": [
       "(250, 19)"
      ]
     },
     "metadata": {},
     "output_type": "display_data"
    },
    {
     "data": {
      "text/plain": [
       "(250,)"
      ]
     },
     "metadata": {},
     "output_type": "display_data"
    },
    {
     "data": {
      "text/plain": [
       "(250, 2)"
      ]
     },
     "metadata": {},
     "output_type": "display_data"
    },
    {
     "data": {
      "text/html": [
       "<div>\n",
       "<style scoped>\n",
       "    .dataframe tbody tr th:only-of-type {\n",
       "        vertical-align: middle;\n",
       "    }\n",
       "\n",
       "    .dataframe tbody tr th {\n",
       "        vertical-align: top;\n",
       "    }\n",
       "\n",
       "    .dataframe thead th {\n",
       "        text-align: right;\n",
       "    }\n",
       "</style>\n",
       "<table border=\"1\" class=\"dataframe\">\n",
       "  <thead>\n",
       "    <tr style=\"text-align: right;\">\n",
       "      <th></th>\n",
       "      <th>t1_odds</th>\n",
       "      <th>t2_odds</th>\n",
       "      <th>t1_prob</th>\n",
       "      <th>t2_prob</th>\n",
       "      <th>winner</th>\n",
       "    </tr>\n",
       "  </thead>\n",
       "  <tbody>\n",
       "    <tr>\n",
       "      <th>0</th>\n",
       "      <td>-210</td>\n",
       "      <td>175</td>\n",
       "      <td>0.730973</td>\n",
       "      <td>0.269027</td>\n",
       "      <td>1</td>\n",
       "    </tr>\n",
       "    <tr>\n",
       "      <th>1</th>\n",
       "      <td>-320</td>\n",
       "      <td>250</td>\n",
       "      <td>0.753368</td>\n",
       "      <td>0.246632</td>\n",
       "      <td>1</td>\n",
       "    </tr>\n",
       "    <tr>\n",
       "      <th>2</th>\n",
       "      <td>130</td>\n",
       "      <td>-155</td>\n",
       "      <td>0.372925</td>\n",
       "      <td>0.627075</td>\n",
       "      <td>0</td>\n",
       "    </tr>\n",
       "    <tr>\n",
       "      <th>3</th>\n",
       "      <td>-155</td>\n",
       "      <td>135</td>\n",
       "      <td>0.621935</td>\n",
       "      <td>0.378065</td>\n",
       "      <td>1</td>\n",
       "    </tr>\n",
       "    <tr>\n",
       "      <th>4</th>\n",
       "      <td>-240</td>\n",
       "      <td>195</td>\n",
       "      <td>0.710521</td>\n",
       "      <td>0.289479</td>\n",
       "      <td>0</td>\n",
       "    </tr>\n",
       "    <tr>\n",
       "      <th>...</th>\n",
       "      <td>...</td>\n",
       "      <td>...</td>\n",
       "      <td>...</td>\n",
       "      <td>...</td>\n",
       "      <td>...</td>\n",
       "    </tr>\n",
       "    <tr>\n",
       "      <th>245</th>\n",
       "      <td>175</td>\n",
       "      <td>-230</td>\n",
       "      <td>0.471795</td>\n",
       "      <td>0.528205</td>\n",
       "      <td>0</td>\n",
       "    </tr>\n",
       "    <tr>\n",
       "      <th>246</th>\n",
       "      <td>250</td>\n",
       "      <td>-305</td>\n",
       "      <td>0.414068</td>\n",
       "      <td>0.585932</td>\n",
       "      <td>0</td>\n",
       "    </tr>\n",
       "    <tr>\n",
       "      <th>247</th>\n",
       "      <td>-134</td>\n",
       "      <td>105</td>\n",
       "      <td>0.522023</td>\n",
       "      <td>0.477977</td>\n",
       "      <td>1</td>\n",
       "    </tr>\n",
       "    <tr>\n",
       "      <th>248</th>\n",
       "      <td>-105</td>\n",
       "      <td>-117</td>\n",
       "      <td>0.540834</td>\n",
       "      <td>0.459166</td>\n",
       "      <td>1</td>\n",
       "    </tr>\n",
       "    <tr>\n",
       "      <th>249</th>\n",
       "      <td>115</td>\n",
       "      <td>-143</td>\n",
       "      <td>0.535412</td>\n",
       "      <td>0.464588</td>\n",
       "      <td>1</td>\n",
       "    </tr>\n",
       "  </tbody>\n",
       "</table>\n",
       "<p>250 rows × 5 columns</p>\n",
       "</div>"
      ],
      "text/plain": [
       "     t1_odds  t2_odds   t1_prob   t2_prob  winner\n",
       "0       -210      175  0.730973  0.269027       1\n",
       "1       -320      250  0.753368  0.246632       1\n",
       "2        130     -155  0.372925  0.627075       0\n",
       "3       -155      135  0.621935  0.378065       1\n",
       "4       -240      195  0.710521  0.289479       0\n",
       "..       ...      ...       ...       ...     ...\n",
       "245      175     -230  0.471795  0.528205       0\n",
       "246      250     -305  0.414068  0.585932       0\n",
       "247     -134      105  0.522023  0.477977       1\n",
       "248     -105     -117  0.540834  0.459166       1\n",
       "249      115     -143  0.535412  0.464588       1\n",
       "\n",
       "[250 rows x 5 columns]"
      ]
     },
     "metadata": {},
     "output_type": "display_data"
    },
    {
     "name": "stdout",
     "output_type": "stream",
     "text": [
      "\n",
      "          Number of matches: 250\n",
      "          Number of bets: 205\n",
      "          Number of winning bets: 96\n",
      "          Number of losing bets: 110\n",
      "          Number of underdog bets: 127\n",
      "          Number of underdog wins: 46\n",
      "          Number of underdog losses: 81\n",
      "          Number of Favorite bets: 77\n",
      "          Number of favorite wins: 50\n",
      "          Number of favorite losses: 27\n",
      "          Number of even bets: 2\n",
      "          Number of even wins: 0\n",
      "          Number of even losses: 2\n",
      "          Profit: -1639.5499674873943\n",
      "          Profit per bet: -7.997804719450704\n",
      "          Profit per match: -6.558199869949577\n",
      "          \n",
      "          \n"
     ]
    },
    {
     "data": {
      "text/plain": [
       "(3513, 26)"
      ]
     },
     "metadata": {},
     "output_type": "display_data"
    },
    {
     "data": {
      "text/plain": [
       "(3513,)"
      ]
     },
     "metadata": {},
     "output_type": "display_data"
    },
    {
     "data": {
      "text/plain": [
       "(3513, 2)"
      ]
     },
     "metadata": {},
     "output_type": "display_data"
    },
    {
     "data": {
      "text/plain": [
       "(248, 26)"
      ]
     },
     "metadata": {},
     "output_type": "display_data"
    },
    {
     "data": {
      "text/plain": [
       "(248,)"
      ]
     },
     "metadata": {},
     "output_type": "display_data"
    },
    {
     "data": {
      "text/plain": [
       "(248, 2)"
      ]
     },
     "metadata": {},
     "output_type": "display_data"
    },
    {
     "data": {
      "text/html": [
       "<div>\n",
       "<style scoped>\n",
       "    .dataframe tbody tr th:only-of-type {\n",
       "        vertical-align: middle;\n",
       "    }\n",
       "\n",
       "    .dataframe tbody tr th {\n",
       "        vertical-align: top;\n",
       "    }\n",
       "\n",
       "    .dataframe thead th {\n",
       "        text-align: right;\n",
       "    }\n",
       "</style>\n",
       "<table border=\"1\" class=\"dataframe\">\n",
       "  <thead>\n",
       "    <tr style=\"text-align: right;\">\n",
       "      <th></th>\n",
       "      <th>t1_odds</th>\n",
       "      <th>t2_odds</th>\n",
       "      <th>t1_prob</th>\n",
       "      <th>t2_prob</th>\n",
       "      <th>winner</th>\n",
       "    </tr>\n",
       "  </thead>\n",
       "  <tbody>\n",
       "    <tr>\n",
       "      <th>0</th>\n",
       "      <td>-210</td>\n",
       "      <td>175</td>\n",
       "      <td>0.807185</td>\n",
       "      <td>0.192815</td>\n",
       "      <td>1</td>\n",
       "    </tr>\n",
       "    <tr>\n",
       "      <th>1</th>\n",
       "      <td>-320</td>\n",
       "      <td>250</td>\n",
       "      <td>0.772258</td>\n",
       "      <td>0.227742</td>\n",
       "      <td>1</td>\n",
       "    </tr>\n",
       "    <tr>\n",
       "      <th>2</th>\n",
       "      <td>130</td>\n",
       "      <td>-155</td>\n",
       "      <td>0.468599</td>\n",
       "      <td>0.531401</td>\n",
       "      <td>0</td>\n",
       "    </tr>\n",
       "    <tr>\n",
       "      <th>3</th>\n",
       "      <td>-155</td>\n",
       "      <td>135</td>\n",
       "      <td>0.507976</td>\n",
       "      <td>0.492024</td>\n",
       "      <td>1</td>\n",
       "    </tr>\n",
       "    <tr>\n",
       "      <th>4</th>\n",
       "      <td>-240</td>\n",
       "      <td>195</td>\n",
       "      <td>0.782051</td>\n",
       "      <td>0.217949</td>\n",
       "      <td>0</td>\n",
       "    </tr>\n",
       "    <tr>\n",
       "      <th>...</th>\n",
       "      <td>...</td>\n",
       "      <td>...</td>\n",
       "      <td>...</td>\n",
       "      <td>...</td>\n",
       "      <td>...</td>\n",
       "    </tr>\n",
       "    <tr>\n",
       "      <th>243</th>\n",
       "      <td>175</td>\n",
       "      <td>-230</td>\n",
       "      <td>0.488056</td>\n",
       "      <td>0.511944</td>\n",
       "      <td>0</td>\n",
       "    </tr>\n",
       "    <tr>\n",
       "      <th>244</th>\n",
       "      <td>250</td>\n",
       "      <td>-305</td>\n",
       "      <td>0.471315</td>\n",
       "      <td>0.528685</td>\n",
       "      <td>0</td>\n",
       "    </tr>\n",
       "    <tr>\n",
       "      <th>245</th>\n",
       "      <td>-134</td>\n",
       "      <td>105</td>\n",
       "      <td>0.560381</td>\n",
       "      <td>0.439619</td>\n",
       "      <td>1</td>\n",
       "    </tr>\n",
       "    <tr>\n",
       "      <th>246</th>\n",
       "      <td>-105</td>\n",
       "      <td>-117</td>\n",
       "      <td>0.481767</td>\n",
       "      <td>0.518233</td>\n",
       "      <td>1</td>\n",
       "    </tr>\n",
       "    <tr>\n",
       "      <th>247</th>\n",
       "      <td>115</td>\n",
       "      <td>-143</td>\n",
       "      <td>0.578891</td>\n",
       "      <td>0.421109</td>\n",
       "      <td>1</td>\n",
       "    </tr>\n",
       "  </tbody>\n",
       "</table>\n",
       "<p>248 rows × 5 columns</p>\n",
       "</div>"
      ],
      "text/plain": [
       "     t1_odds  t2_odds   t1_prob   t2_prob  winner\n",
       "0       -210      175  0.807185  0.192815       1\n",
       "1       -320      250  0.772258  0.227742       1\n",
       "2        130     -155  0.468599  0.531401       0\n",
       "3       -155      135  0.507976  0.492024       1\n",
       "4       -240      195  0.782051  0.217949       0\n",
       "..       ...      ...       ...       ...     ...\n",
       "243      175     -230  0.488056  0.511944       0\n",
       "244      250     -305  0.471315  0.528685       0\n",
       "245     -134      105  0.560381  0.439619       1\n",
       "246     -105     -117  0.481767  0.518233       1\n",
       "247      115     -143  0.578891  0.421109       1\n",
       "\n",
       "[248 rows x 5 columns]"
      ]
     },
     "metadata": {},
     "output_type": "display_data"
    },
    {
     "name": "stdout",
     "output_type": "stream",
     "text": [
      "\n",
      "          Number of matches: 248\n",
      "          Number of bets: 168\n",
      "          Number of winning bets: 87\n",
      "          Number of losing bets: 82\n",
      "          Number of underdog bets: 118\n",
      "          Number of underdog wins: 52\n",
      "          Number of underdog losses: 66\n",
      "          Number of Favorite bets: 51\n",
      "          Number of favorite wins: 35\n",
      "          Number of favorite losses: 16\n",
      "          Number of even bets: 0\n",
      "          Number of even wins: 0\n",
      "          Number of even losses: 0\n",
      "          Profit: 1497.0601934872413\n",
      "          Profit per bet: 8.911072580281198\n",
      "          Profit per match: 6.036533038255006\n",
      "          \n",
      "          \n"
     ]
    },
    {
     "data": {
      "text/plain": [
       "(3513, 63)"
      ]
     },
     "metadata": {},
     "output_type": "display_data"
    },
    {
     "data": {
      "text/plain": [
       "(3513,)"
      ]
     },
     "metadata": {},
     "output_type": "display_data"
    },
    {
     "data": {
      "text/plain": [
       "(3513, 2)"
      ]
     },
     "metadata": {},
     "output_type": "display_data"
    },
    {
     "data": {
      "text/plain": [
       "(248, 63)"
      ]
     },
     "metadata": {},
     "output_type": "display_data"
    },
    {
     "data": {
      "text/plain": [
       "(248,)"
      ]
     },
     "metadata": {},
     "output_type": "display_data"
    },
    {
     "data": {
      "text/plain": [
       "(248, 2)"
      ]
     },
     "metadata": {},
     "output_type": "display_data"
    },
    {
     "data": {
      "text/html": [
       "<div>\n",
       "<style scoped>\n",
       "    .dataframe tbody tr th:only-of-type {\n",
       "        vertical-align: middle;\n",
       "    }\n",
       "\n",
       "    .dataframe tbody tr th {\n",
       "        vertical-align: top;\n",
       "    }\n",
       "\n",
       "    .dataframe thead th {\n",
       "        text-align: right;\n",
       "    }\n",
       "</style>\n",
       "<table border=\"1\" class=\"dataframe\">\n",
       "  <thead>\n",
       "    <tr style=\"text-align: right;\">\n",
       "      <th></th>\n",
       "      <th>t1_odds</th>\n",
       "      <th>t2_odds</th>\n",
       "      <th>t1_prob</th>\n",
       "      <th>t2_prob</th>\n",
       "      <th>winner</th>\n",
       "    </tr>\n",
       "  </thead>\n",
       "  <tbody>\n",
       "    <tr>\n",
       "      <th>0</th>\n",
       "      <td>-210</td>\n",
       "      <td>175</td>\n",
       "      <td>0.926111</td>\n",
       "      <td>0.073889</td>\n",
       "      <td>1</td>\n",
       "    </tr>\n",
       "    <tr>\n",
       "      <th>1</th>\n",
       "      <td>-320</td>\n",
       "      <td>250</td>\n",
       "      <td>0.517009</td>\n",
       "      <td>0.482991</td>\n",
       "      <td>1</td>\n",
       "    </tr>\n",
       "    <tr>\n",
       "      <th>2</th>\n",
       "      <td>130</td>\n",
       "      <td>-155</td>\n",
       "      <td>0.999814</td>\n",
       "      <td>0.000186</td>\n",
       "      <td>0</td>\n",
       "    </tr>\n",
       "    <tr>\n",
       "      <th>3</th>\n",
       "      <td>-155</td>\n",
       "      <td>135</td>\n",
       "      <td>0.903485</td>\n",
       "      <td>0.096515</td>\n",
       "      <td>1</td>\n",
       "    </tr>\n",
       "    <tr>\n",
       "      <th>4</th>\n",
       "      <td>-240</td>\n",
       "      <td>195</td>\n",
       "      <td>0.522083</td>\n",
       "      <td>0.477917</td>\n",
       "      <td>0</td>\n",
       "    </tr>\n",
       "    <tr>\n",
       "      <th>...</th>\n",
       "      <td>...</td>\n",
       "      <td>...</td>\n",
       "      <td>...</td>\n",
       "      <td>...</td>\n",
       "      <td>...</td>\n",
       "    </tr>\n",
       "    <tr>\n",
       "      <th>243</th>\n",
       "      <td>175</td>\n",
       "      <td>-230</td>\n",
       "      <td>0.999865</td>\n",
       "      <td>0.000135</td>\n",
       "      <td>0</td>\n",
       "    </tr>\n",
       "    <tr>\n",
       "      <th>244</th>\n",
       "      <td>250</td>\n",
       "      <td>-305</td>\n",
       "      <td>0.998740</td>\n",
       "      <td>0.001260</td>\n",
       "      <td>0</td>\n",
       "    </tr>\n",
       "    <tr>\n",
       "      <th>245</th>\n",
       "      <td>-134</td>\n",
       "      <td>105</td>\n",
       "      <td>0.763024</td>\n",
       "      <td>0.236976</td>\n",
       "      <td>1</td>\n",
       "    </tr>\n",
       "    <tr>\n",
       "      <th>246</th>\n",
       "      <td>-105</td>\n",
       "      <td>-117</td>\n",
       "      <td>0.929780</td>\n",
       "      <td>0.070220</td>\n",
       "      <td>1</td>\n",
       "    </tr>\n",
       "    <tr>\n",
       "      <th>247</th>\n",
       "      <td>115</td>\n",
       "      <td>-143</td>\n",
       "      <td>0.993602</td>\n",
       "      <td>0.006398</td>\n",
       "      <td>1</td>\n",
       "    </tr>\n",
       "  </tbody>\n",
       "</table>\n",
       "<p>248 rows × 5 columns</p>\n",
       "</div>"
      ],
      "text/plain": [
       "     t1_odds  t2_odds   t1_prob   t2_prob  winner\n",
       "0       -210      175  0.926111  0.073889       1\n",
       "1       -320      250  0.517009  0.482991       1\n",
       "2        130     -155  0.999814  0.000186       0\n",
       "3       -155      135  0.903485  0.096515       1\n",
       "4       -240      195  0.522083  0.477917       0\n",
       "..       ...      ...       ...       ...     ...\n",
       "243      175     -230  0.999865  0.000135       0\n",
       "244      250     -305  0.998740  0.001260       0\n",
       "245     -134      105  0.763024  0.236976       1\n",
       "246     -105     -117  0.929780  0.070220       1\n",
       "247      115     -143  0.993602  0.006398       1\n",
       "\n",
       "[248 rows x 5 columns]"
      ]
     },
     "metadata": {},
     "output_type": "display_data"
    },
    {
     "name": "stdout",
     "output_type": "stream",
     "text": [
      "\n",
      "          Number of matches: 248\n",
      "          Number of bets: 185\n",
      "          Number of winning bets: 97\n",
      "          Number of losing bets: 88\n",
      "          Number of underdog bets: 100\n",
      "          Number of underdog wins: 41\n",
      "          Number of underdog losses: 59\n",
      "          Number of Favorite bets: 83\n",
      "          Number of favorite wins: 55\n",
      "          Number of favorite losses: 28\n",
      "          Number of even bets: 2\n",
      "          Number of even wins: 1\n",
      "          Number of even losses: 1\n",
      "          Profit: 900.3856353060073\n",
      "          Profit per bet: 4.866949380032472\n",
      "          Profit per match: 3.6305872391371263\n",
      "          \n",
      "          \n"
     ]
    },
    {
     "data": {
      "text/plain": [
       "(3513, 66)"
      ]
     },
     "metadata": {},
     "output_type": "display_data"
    },
    {
     "data": {
      "text/plain": [
       "(3513,)"
      ]
     },
     "metadata": {},
     "output_type": "display_data"
    },
    {
     "data": {
      "text/plain": [
       "(3513, 2)"
      ]
     },
     "metadata": {},
     "output_type": "display_data"
    },
    {
     "data": {
      "text/plain": [
       "(248, 66)"
      ]
     },
     "metadata": {},
     "output_type": "display_data"
    },
    {
     "data": {
      "text/plain": [
       "(248,)"
      ]
     },
     "metadata": {},
     "output_type": "display_data"
    },
    {
     "data": {
      "text/plain": [
       "(248, 2)"
      ]
     },
     "metadata": {},
     "output_type": "display_data"
    },
    {
     "data": {
      "text/html": [
       "<div>\n",
       "<style scoped>\n",
       "    .dataframe tbody tr th:only-of-type {\n",
       "        vertical-align: middle;\n",
       "    }\n",
       "\n",
       "    .dataframe tbody tr th {\n",
       "        vertical-align: top;\n",
       "    }\n",
       "\n",
       "    .dataframe thead th {\n",
       "        text-align: right;\n",
       "    }\n",
       "</style>\n",
       "<table border=\"1\" class=\"dataframe\">\n",
       "  <thead>\n",
       "    <tr style=\"text-align: right;\">\n",
       "      <th></th>\n",
       "      <th>t1_odds</th>\n",
       "      <th>t2_odds</th>\n",
       "      <th>t1_prob</th>\n",
       "      <th>t2_prob</th>\n",
       "      <th>winner</th>\n",
       "    </tr>\n",
       "  </thead>\n",
       "  <tbody>\n",
       "    <tr>\n",
       "      <th>0</th>\n",
       "      <td>-210</td>\n",
       "      <td>175</td>\n",
       "      <td>0.912345</td>\n",
       "      <td>0.087655</td>\n",
       "      <td>1</td>\n",
       "    </tr>\n",
       "    <tr>\n",
       "      <th>1</th>\n",
       "      <td>-320</td>\n",
       "      <td>250</td>\n",
       "      <td>0.860451</td>\n",
       "      <td>0.139549</td>\n",
       "      <td>1</td>\n",
       "    </tr>\n",
       "    <tr>\n",
       "      <th>2</th>\n",
       "      <td>130</td>\n",
       "      <td>-155</td>\n",
       "      <td>0.999311</td>\n",
       "      <td>0.000689</td>\n",
       "      <td>0</td>\n",
       "    </tr>\n",
       "    <tr>\n",
       "      <th>3</th>\n",
       "      <td>-155</td>\n",
       "      <td>135</td>\n",
       "      <td>0.789495</td>\n",
       "      <td>0.210505</td>\n",
       "      <td>1</td>\n",
       "    </tr>\n",
       "    <tr>\n",
       "      <th>4</th>\n",
       "      <td>-240</td>\n",
       "      <td>195</td>\n",
       "      <td>0.112305</td>\n",
       "      <td>0.887695</td>\n",
       "      <td>0</td>\n",
       "    </tr>\n",
       "    <tr>\n",
       "      <th>...</th>\n",
       "      <td>...</td>\n",
       "      <td>...</td>\n",
       "      <td>...</td>\n",
       "      <td>...</td>\n",
       "      <td>...</td>\n",
       "    </tr>\n",
       "    <tr>\n",
       "      <th>243</th>\n",
       "      <td>175</td>\n",
       "      <td>-230</td>\n",
       "      <td>0.999961</td>\n",
       "      <td>0.000039</td>\n",
       "      <td>0</td>\n",
       "    </tr>\n",
       "    <tr>\n",
       "      <th>244</th>\n",
       "      <td>250</td>\n",
       "      <td>-305</td>\n",
       "      <td>0.970046</td>\n",
       "      <td>0.029954</td>\n",
       "      <td>0</td>\n",
       "    </tr>\n",
       "    <tr>\n",
       "      <th>245</th>\n",
       "      <td>-134</td>\n",
       "      <td>105</td>\n",
       "      <td>0.991044</td>\n",
       "      <td>0.008956</td>\n",
       "      <td>1</td>\n",
       "    </tr>\n",
       "    <tr>\n",
       "      <th>246</th>\n",
       "      <td>-105</td>\n",
       "      <td>-117</td>\n",
       "      <td>0.755543</td>\n",
       "      <td>0.244457</td>\n",
       "      <td>1</td>\n",
       "    </tr>\n",
       "    <tr>\n",
       "      <th>247</th>\n",
       "      <td>115</td>\n",
       "      <td>-143</td>\n",
       "      <td>0.804904</td>\n",
       "      <td>0.195096</td>\n",
       "      <td>1</td>\n",
       "    </tr>\n",
       "  </tbody>\n",
       "</table>\n",
       "<p>248 rows × 5 columns</p>\n",
       "</div>"
      ],
      "text/plain": [
       "     t1_odds  t2_odds   t1_prob   t2_prob  winner\n",
       "0       -210      175  0.912345  0.087655       1\n",
       "1       -320      250  0.860451  0.139549       1\n",
       "2        130     -155  0.999311  0.000689       0\n",
       "3       -155      135  0.789495  0.210505       1\n",
       "4       -240      195  0.112305  0.887695       0\n",
       "..       ...      ...       ...       ...     ...\n",
       "243      175     -230  0.999961  0.000039       0\n",
       "244      250     -305  0.970046  0.029954       0\n",
       "245     -134      105  0.991044  0.008956       1\n",
       "246     -105     -117  0.755543  0.244457       1\n",
       "247      115     -143  0.804904  0.195096       1\n",
       "\n",
       "[248 rows x 5 columns]"
      ]
     },
     "metadata": {},
     "output_type": "display_data"
    },
    {
     "name": "stdout",
     "output_type": "stream",
     "text": [
      "\n",
      "          Number of matches: 248\n",
      "          Number of bets: 247\n",
      "          Number of winning bets: 132\n",
      "          Number of losing bets: 116\n",
      "          Number of underdog bets: 116\n",
      "          Number of underdog wins: 46\n",
      "          Number of underdog losses: 70\n",
      "          Number of Favorite bets: 129\n",
      "          Number of favorite wins: 84\n",
      "          Number of favorite losses: 45\n",
      "          Number of even bets: 3\n",
      "          Number of even wins: 2\n",
      "          Number of even losses: 1\n",
      "          Profit: -80.32868471321603\n",
      "          Profit per bet: -0.32521734701706895\n",
      "          Profit per match: -0.32390598674683885\n",
      "          \n",
      "          \n"
     ]
    },
    {
     "data": {
      "text/plain": [
       "(3513, 19)"
      ]
     },
     "metadata": {},
     "output_type": "display_data"
    },
    {
     "data": {
      "text/plain": [
       "(3513,)"
      ]
     },
     "metadata": {},
     "output_type": "display_data"
    },
    {
     "data": {
      "text/plain": [
       "(3513, 2)"
      ]
     },
     "metadata": {},
     "output_type": "display_data"
    },
    {
     "data": {
      "text/plain": [
       "(250, 19)"
      ]
     },
     "metadata": {},
     "output_type": "display_data"
    },
    {
     "data": {
      "text/plain": [
       "(250,)"
      ]
     },
     "metadata": {},
     "output_type": "display_data"
    },
    {
     "data": {
      "text/plain": [
       "(250, 2)"
      ]
     },
     "metadata": {},
     "output_type": "display_data"
    },
    {
     "data": {
      "text/html": [
       "<div>\n",
       "<style scoped>\n",
       "    .dataframe tbody tr th:only-of-type {\n",
       "        vertical-align: middle;\n",
       "    }\n",
       "\n",
       "    .dataframe tbody tr th {\n",
       "        vertical-align: top;\n",
       "    }\n",
       "\n",
       "    .dataframe thead th {\n",
       "        text-align: right;\n",
       "    }\n",
       "</style>\n",
       "<table border=\"1\" class=\"dataframe\">\n",
       "  <thead>\n",
       "    <tr style=\"text-align: right;\">\n",
       "      <th></th>\n",
       "      <th>t1_odds</th>\n",
       "      <th>t2_odds</th>\n",
       "      <th>t1_prob</th>\n",
       "      <th>t2_prob</th>\n",
       "      <th>winner</th>\n",
       "    </tr>\n",
       "  </thead>\n",
       "  <tbody>\n",
       "    <tr>\n",
       "      <th>0</th>\n",
       "      <td>-210</td>\n",
       "      <td>175</td>\n",
       "      <td>1.000000</td>\n",
       "      <td>0.000000</td>\n",
       "      <td>1</td>\n",
       "    </tr>\n",
       "    <tr>\n",
       "      <th>1</th>\n",
       "      <td>-320</td>\n",
       "      <td>250</td>\n",
       "      <td>1.000000</td>\n",
       "      <td>0.000000</td>\n",
       "      <td>1</td>\n",
       "    </tr>\n",
       "    <tr>\n",
       "      <th>2</th>\n",
       "      <td>130</td>\n",
       "      <td>-155</td>\n",
       "      <td>1.000000</td>\n",
       "      <td>0.000000</td>\n",
       "      <td>0</td>\n",
       "    </tr>\n",
       "    <tr>\n",
       "      <th>3</th>\n",
       "      <td>-155</td>\n",
       "      <td>135</td>\n",
       "      <td>1.000000</td>\n",
       "      <td>0.000000</td>\n",
       "      <td>1</td>\n",
       "    </tr>\n",
       "    <tr>\n",
       "      <th>4</th>\n",
       "      <td>-240</td>\n",
       "      <td>195</td>\n",
       "      <td>0.222222</td>\n",
       "      <td>0.777778</td>\n",
       "      <td>0</td>\n",
       "    </tr>\n",
       "    <tr>\n",
       "      <th>...</th>\n",
       "      <td>...</td>\n",
       "      <td>...</td>\n",
       "      <td>...</td>\n",
       "      <td>...</td>\n",
       "      <td>...</td>\n",
       "    </tr>\n",
       "    <tr>\n",
       "      <th>245</th>\n",
       "      <td>175</td>\n",
       "      <td>-230</td>\n",
       "      <td>0.592593</td>\n",
       "      <td>0.407407</td>\n",
       "      <td>0</td>\n",
       "    </tr>\n",
       "    <tr>\n",
       "      <th>246</th>\n",
       "      <td>250</td>\n",
       "      <td>-305</td>\n",
       "      <td>1.000000</td>\n",
       "      <td>0.000000</td>\n",
       "      <td>0</td>\n",
       "    </tr>\n",
       "    <tr>\n",
       "      <th>247</th>\n",
       "      <td>-134</td>\n",
       "      <td>105</td>\n",
       "      <td>1.000000</td>\n",
       "      <td>0.000000</td>\n",
       "      <td>1</td>\n",
       "    </tr>\n",
       "    <tr>\n",
       "      <th>248</th>\n",
       "      <td>-105</td>\n",
       "      <td>-117</td>\n",
       "      <td>1.000000</td>\n",
       "      <td>0.000000</td>\n",
       "      <td>1</td>\n",
       "    </tr>\n",
       "    <tr>\n",
       "      <th>249</th>\n",
       "      <td>115</td>\n",
       "      <td>-143</td>\n",
       "      <td>0.777778</td>\n",
       "      <td>0.222222</td>\n",
       "      <td>1</td>\n",
       "    </tr>\n",
       "  </tbody>\n",
       "</table>\n",
       "<p>250 rows × 5 columns</p>\n",
       "</div>"
      ],
      "text/plain": [
       "     t1_odds  t2_odds   t1_prob   t2_prob  winner\n",
       "0       -210      175  1.000000  0.000000       1\n",
       "1       -320      250  1.000000  0.000000       1\n",
       "2        130     -155  1.000000  0.000000       0\n",
       "3       -155      135  1.000000  0.000000       1\n",
       "4       -240      195  0.222222  0.777778       0\n",
       "..       ...      ...       ...       ...     ...\n",
       "245      175     -230  0.592593  0.407407       0\n",
       "246      250     -305  1.000000  0.000000       0\n",
       "247     -134      105  1.000000  0.000000       1\n",
       "248     -105     -117  1.000000  0.000000       1\n",
       "249      115     -143  0.777778  0.222222       1\n",
       "\n",
       "[250 rows x 5 columns]"
      ]
     },
     "metadata": {},
     "output_type": "display_data"
    },
    {
     "name": "stdout",
     "output_type": "stream",
     "text": [
      "\n",
      "          Number of matches: 250\n",
      "          Number of bets: 232\n",
      "          Number of winning bets: 125\n",
      "          Number of losing bets: 107\n",
      "          Number of underdog bets: 127\n",
      "          Number of underdog wins: 55\n",
      "          Number of underdog losses: 72\n",
      "          Number of Favorite bets: 102\n",
      "          Number of favorite wins: 70\n",
      "          Number of favorite losses: 32\n",
      "          Number of even bets: 3\n",
      "          Number of even wins: 0\n",
      "          Number of even losses: 3\n",
      "          Profit: 1302.4175931046816\n",
      "          Profit per bet: 5.613868935796042\n",
      "          Profit per match: 5.209670372418726\n",
      "          \n",
      "          \n"
     ]
    }
   ],
   "source": [
    "score_list = []\n",
    "for model_num in range(len(models[0])):\n",
    "    test_model_name = models[0][model_num]\n",
    "    test_model = eval(models[1][model_num])\n",
    "    test_model_features = eval(models[2][model_num])\n",
    "    test_model_ev = eval(models[3][model_num])\n",
    "    \n",
    "    score_list.append(evaluate_model(test_model, test_model_features, test_model_ev, df_train, label_train, odds_train, df_test, label_test,\n",
    "                         odds_test, verbose = True))"
   ]
  },
  {
   "cell_type": "code",
   "execution_count": 10,
   "metadata": {},
   "outputs": [
    {
     "name": "stdout",
     "output_type": "stream",
     "text": [
      "['1127.19067842605', '-950.9775482241005', '1083.4788618676141', '407.0778237930258', '-676.5402515344442', '-528.4063020903642', '-230.17923849846807', '-1678.1779331752696', '-120.80773041188252', '-1853.1849933783474', '1360.7010445967346', '66.33685543598621', '2208.3026702916454']\n"
     ]
    }
   ],
   "source": [
    "print(models[4])"
   ]
  },
  {
   "cell_type": "code",
   "execution_count": 11,
   "metadata": {},
   "outputs": [
    {
     "name": "stdout",
     "output_type": "stream",
     "text": [
      "[951.5496527850246, -565.0992471802674, 497.235950790235, -364.28056393596614, -1098.8503562877127, -1139.6492131677433, -342.33124048493767, -1027.165161820317, -1639.5499674873943, 1497.0601934872413, 900.3856353060073, -80.32868471321603, 1302.4175931046816]\n"
     ]
    }
   ],
   "source": [
    "print(score_list)"
   ]
  },
  {
   "cell_type": "code",
   "execution_count": 12,
   "metadata": {},
   "outputs": [],
   "source": [
    "models[4] = score_list"
   ]
  },
  {
   "cell_type": "code",
   "execution_count": 13,
   "metadata": {},
   "outputs": [
    {
     "data": {
      "text/plain": [
       "[['model_06_13_20',\n",
       "  'model_06_20_20',\n",
       "  'model_6_27_20',\n",
       "  'model_7_18_20',\n",
       "  'model_7_25_20',\n",
       "  'model_9_2_20',\n",
       "  'model_9_10_20',\n",
       "  'model_10_23_20',\n",
       "  'model_10_27_20',\n",
       "  'model_10_28_20',\n",
       "  'model_2021_06_24',\n",
       "  'model_2021_06_30',\n",
       "  'model_2021_07_21'],\n",
       " ['LogisticRegression(max_iter=50000, random_state=75, tol=5.993308915320019)',\n",
       "  'GaussianNB()',\n",
       "  'GaussianNB()',\n",
       "  'GradientBoostingClassifier(n_estimators=122, random_state=75)',\n",
       "  'GaussianNB()',\n",
       "  'GaussianNB(var_smoothing=1e-12)',\n",
       "  'GaussianNB(var_smoothing=1e-12)',\n",
       "  'GradientBoostingClassifier(max_depth=95, min_samples_leaf=6, n_estimators=195,\\n                           random_state=75)',\n",
       "  \"RandomForestClassifier(criterion='entropy', max_depth=10, n_estimators=197,\\n                       n_jobs=-1, random_state=75)\",\n",
       "  \"RandomForestClassifier(criterion='entropy', max_depth=10, n_estimators=22,\\n                       n_jobs=-1, random_state=75)\",\n",
       "  'GradientBoostingClassifier(max_depth=95, min_samples_leaf=0.0015,\\n                           n_estimators=195, random_state=75)',\n",
       "  'GradientBoostingClassifier(max_depth=95, min_samples_leaf=0.0015,\\n                           n_estimators=195, random_state=75)',\n",
       "  \"RadiusNeighborsClassifier(outlier_label='most_frequent')\"],\n",
       " [\"['B_win_by_Decision_Majority', 'B_win_by_TKO_Doctor_Stoppage', 'R_win_by_Decision_Majority', 'R_odds', 'R_current_lose_streak', 'R_Reach_cms', 'B_draw', 'total_round_dif', 'R_ev', 'B_ev']\",\n",
       "  \"['R_win_by_Decision_Unanimous', 'B_win_by_Submission', 'R_Weight_lbs', 'sig_str_dif', 'B_Height_cms', 'B_avg_SUB_ATT', 'R_win_by_TKO_Doctor_Stoppage', 'height_dif', 'B_draw', 'avg_td_dif', 'R_win_by_Decision_Split', 'age_dif', 'B_current_win_streak', 'R_odds']\",\n",
       "  \"['R_longest_win_streak', 'longest_win_streak_dif', 'reach_dif', 'avg_sub_att_dif', 'R_win_by_Decision_Unanimous', 'B_win_by_Submission', 'R_Weight_lbs', 'sig_str_dif', 'B_Height_cms', 'B_avg_SUB_ATT', 'R_win_by_TKO_Doctor_Stoppage', 'height_dif', 'B_draw', 'avg_td_dif', 'R_win_by_Decision_Split', 'age_dif', 'B_current_win_streak', 'R_odds']\",\n",
       "  \"['B_current_win_streak', 'R_win_by_Submission', 'B_win_by_Decision_Unanimous', 'R_win_by_Decision_Unanimous', 'R_current_lose_streak', 'B_win_by_TKO_Doctor_Stoppage', 'win_dif', 'B_win_by_Decision_Split', 'B_wins', 'R_Stance', 'B_age', 'B_Weight_lbs', 'R_ev', 'B_total_rounds_fought', 'location', 'R_odds', 'R_Reach_cms', 'R_Weight_lbs', 'R_current_win_streak', 'R_age', 'empty_arena', 'R_win_by_Decision_Split', 'R_draw', 'lose_streak_dif', 'B_draw']\",\n",
       "  \"['R_Reach_cms', 'total_round_dif', 'R_Height_cms', 'R_avg_SIG_STR_pct', 'B_age', 'R_longest_win_streak', 'lose_streak_dif', 'ko_dif', 'R_win_by_Decision_Majority', 'longest_win_streak_dif', 'avg_sub_att_dif', 'R_Weight_lbs', 'sig_str_dif', 'B_Height_cms', 'B_avg_SUB_ATT', 'R_win_by_TKO_Doctor_Stoppage', 'B_draw', 'avg_td_dif', 'R_win_by_Decision_Split', 'age_dif', 'B_current_win_streak', 'R_odds']\",\n",
       "  \"['win_streak_dif', 'B_Light Heavyweight_rank', 'B_Lightweight_rank', 'R_avg_TD_landed', 'R_Middleweight_rank', 'total_round_dif', 'R_Height_cms', 'R_avg_SIG_STR_pct', 'B_age', 'R_longest_win_streak', 'lose_streak_dif', 'R_win_by_Decision_Majority', 'longest_win_streak_dif', 'avg_sub_att_dif', 'R_Weight_lbs', 'sig_str_dif', 'B_Height_cms', 'B_avg_SUB_ATT', 'R_win_by_TKO_Doctor_Stoppage', 'B_draw', 'avg_td_dif', 'R_win_by_Decision_Split', 'age_dif', 'R_odds']\",\n",
       "  \"['B_Weight_lbs', 'B_Flyweight_rank', 'B_avg_TD_landed', 'B_Light Heavyweight_rank', 'B_Lightweight_rank', 'R_avg_TD_landed', 'R_Middleweight_rank', 'R_Height_cms', 'R_avg_SIG_STR_pct', 'B_age', 'R_longest_win_streak', 'lose_streak_dif', 'R_win_by_Decision_Majority', 'longest_win_streak_dif', 'avg_sub_att_dif', 'sig_str_dif', 'B_avg_SUB_ATT', 'R_win_by_TKO_Doctor_Stoppage', 'B_draw', 'R_win_by_Decision_Split', 'age_dif', 'R_odds']\",\n",
       "  \"['weight_class', 'B_Reach_cms', 'B_Welterweight_rank', 'B_total_title_bouts', 'R_avg_TD_pct', 'B_Bantamweight_rank', 'R_Featherweight_rank', 'no_of_rounds', 'B_draw', 'B_Stance', 'R_win_by_TKO_Doctor_Stoppage', 'R_current_win_streak', 'B_avg_SIG_STR_landed', 'country']\",\n",
       "  '[\\'R_Height_cms\\', \\'R_Bantamweight_rank\\', \\'B_current_lose_streak\\', \\'avg_sub_att_dif\\', \\'B_Middleweight_rank\\', \\'R_current_win_streak\\', \\'total_round_dif\\', \\'B_avg_SUB_ATT\\', \\'B_avg_SIG_STR_landed\\', \\'age_dif\\', \\'B_Light Heavyweight_rank\\', \\'R_avg_TD_pct\\', \\'R_ev\\', \"B_Women\\'s Flyweight_rank\", \"B_Women\\'s Strawweight_rank\", \\'B_Bantamweight_rank\\', \\'R_Reach_cms\\', \\'B_win_by_Decision_Unanimous\\', \\'constant_1\\']',\n",
       "  '[\\'B_Stance\\', \\'R_current_lose_streak\\', \\'loss_dif\\', \\'B_win_by_Decision_Split\\', \\'R_Height_cms\\', \\'R_Bantamweight_rank\\', \\'B_current_lose_streak\\', \\'avg_sub_att_dif\\', \\'B_Middleweight_rank\\', \\'R_current_win_streak\\', \\'total_round_dif\\', \\'B_avg_SUB_ATT\\', \\'B_avg_SIG_STR_landed\\', \\'age_dif\\', \\'B_Light Heavyweight_rank\\', \\'R_avg_TD_pct\\', \\'R_ev\\', \"B_Women\\'s Flyweight_rank\", \"B_Women\\'s Strawweight_rank\", \\'B_Bantamweight_rank\\', \\'R_Reach_cms\\', \\'B_win_by_Decision_Unanimous\\', \\'constant_1\\']',\n",
       "  '[\"R_Women\\'s Featherweight_rank\", \\'B_Featherweight_rank\\', \\'B_win_by_KO/TKO\\', \\'R_Pound-for-Pound_rank\\', \\'reach_dif\\', \"R_Women\\'s Bantamweight_rank\", \\'age_dif\\', \\'weight_class\\', \\'B_Reach_cms\\', \\'B_Welterweight_rank\\', \\'B_total_title_bouts\\', \\'R_avg_TD_pct\\', \\'B_Bantamweight_rank\\', \\'R_Featherweight_rank\\', \\'no_of_rounds\\', \\'B_draw\\', \\'B_Stance\\', \\'R_win_by_TKO_Doctor_Stoppage\\', \\'R_current_win_streak\\', \\'B_avg_SIG_STR_landed\\', \\'country\\']',\n",
       "  '[\"R_Women\\'s Strawweight_rank\", \\'B_Lightweight_rank\\', \\'B_Pound-for-Pound_rank\\', \"R_Women\\'s Featherweight_rank\", \\'B_Featherweight_rank\\', \\'B_win_by_KO/TKO\\', \\'R_Pound-for-Pound_rank\\', \\'reach_dif\\', \"R_Women\\'s Bantamweight_rank\", \\'age_dif\\', \\'weight_class\\', \\'B_Reach_cms\\', \\'B_Welterweight_rank\\', \\'B_total_title_bouts\\', \\'R_avg_TD_pct\\', \\'B_Bantamweight_rank\\', \\'R_Featherweight_rank\\', \\'no_of_rounds\\', \\'B_draw\\', \\'B_Stance\\', \\'R_win_by_TKO_Doctor_Stoppage\\', \\'R_current_win_streak\\', \\'B_avg_SIG_STR_landed\\', \\'country\\']',\n",
       "  '[\"R_Women\\'s Flyweight_rank\", \\'R_draw\\', \"B_Women\\'s Strawweight_rank\", \\'B_Heavyweight_rank\\', \\'R_Light Heavyweight_rank\\', \\'B_win_by_TKO_Doctor_Stoppage\\', \\'R_Pound-for-Pound_rank\\', \\'R_avg_SUB_ATT\\', \\'R_win_by_Decision_Split\\', \\'R_wins\\', \\'empty_arena\\', \\'sub_dif\\', \\'R_Flyweight_rank\\', \\'height_dif\\', \\'B_total_title_bouts\\', \\'B_Bantamweight_rank\\', \\'R_longest_win_streak\\', \\'R_avg_TD_landed\\', \\'B_avg_SIG_STR_landed\\']'],\n",
       " ['0', '0', '0', '0', '1', '3', '2', '27', '1', '5', '33', '0', '5'],\n",
       " [951.5496527850246,\n",
       "  -565.0992471802674,\n",
       "  497.235950790235,\n",
       "  -364.28056393596614,\n",
       "  -1098.8503562877127,\n",
       "  -1139.6492131677433,\n",
       "  -342.33124048493767,\n",
       "  -1027.165161820317,\n",
       "  -1639.5499674873943,\n",
       "  1497.0601934872413,\n",
       "  900.3856353060073,\n",
       "  -80.32868471321603,\n",
       "  1302.4175931046816]]"
      ]
     },
     "execution_count": 13,
     "metadata": {},
     "output_type": "execute_result"
    }
   ],
   "source": [
    "models"
   ]
  },
  {
   "cell_type": "code",
   "execution_count": 14,
   "metadata": {},
   "outputs": [
    {
     "name": "stdout",
     "output_type": "stream",
     "text": [
      "HI\n",
      "HI\n",
      "HI\n",
      "HI\n",
      "HI\n"
     ]
    }
   ],
   "source": [
    "with open('../data/production_models.csv', 'w' , newline='') as outfile:\n",
    "    writer = csv.writer(outfile)\n",
    "    for row in models:\n",
    "        print(\"HI\")\n",
    "        writer.writerow(row)\n",
    "    \n",
    "outfile.close()"
   ]
  },
  {
   "cell_type": "code",
   "execution_count": null,
   "metadata": {},
   "outputs": [],
   "source": []
  }
 ],
 "metadata": {
  "kernelspec": {
   "display_name": "Python 3",
   "language": "python",
   "name": "python3"
  },
  "language_info": {
   "codemirror_mode": {
    "name": "ipython",
    "version": 3
   },
   "file_extension": ".py",
   "mimetype": "text/x-python",
   "name": "python",
   "nbconvert_exporter": "python",
   "pygments_lexer": "ipython3",
   "version": "3.8.8"
  }
 },
 "nbformat": 4,
 "nbformat_minor": 4
}
