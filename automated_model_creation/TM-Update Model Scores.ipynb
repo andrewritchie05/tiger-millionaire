{
 "cells": [
  {
   "cell_type": "code",
   "execution_count": 6,
   "metadata": {},
   "outputs": [],
   "source": [
    "import pandas as pd\n",
    "import numpy as np\n",
    "from functions import *\n",
    "import random\n",
    "import csv\n",
    "from sklearn.linear_model import LogisticRegression\n",
    "from sklearn.tree import DecisionTreeClassifier\n",
    "from sklearn.ensemble import GradientBoostingClassifier\n",
    "\n",
    "remove_fight_island = False"
   ]
  },
  {
   "cell_type": "code",
   "execution_count": 7,
   "metadata": {},
   "outputs": [
    {
     "name": "stdout",
     "output_type": "stream",
     "text": [
      "5\n"
     ]
    }
   ],
   "source": [
    "#Load models\n",
    "#REMINDER: We are going to need to use 'eval' to get the models usable\n",
    "with open('models.csv', newline='') as f:\n",
    "    reader = csv.reader(f)\n",
    "    models = list(reader)\n",
    "    \n",
    "print(len(models))\n"
   ]
  },
  {
   "cell_type": "code",
   "execution_count": 8,
   "metadata": {},
   "outputs": [
    {
     "data": {
      "text/plain": [
       "[['model_0',\n",
       "  'model_1',\n",
       "  'model_2',\n",
       "  'model_3',\n",
       "  'model_4',\n",
       "  'model_06_13_20',\n",
       "  'model_06_20_20',\n",
       "  'model_6_27_20',\n",
       "  'model_7_18_20',\n",
       "  'model_7_25_20',\n",
       "  'model_9_2_20',\n",
       "  'model_9_10_20',\n",
       "  'model_10_23_20',\n",
       "  'model_10_27_20',\n",
       "  'model_10_28_20'],\n",
       " ['LogisticRegression(max_iter=50000, random_state=75)',\n",
       "  \"DecisionTreeClassifier(max_depth=27, max_leaf_nodes=336, min_samples_leaf=3,\\n                       random_state=75, splitter='random')\",\n",
       "  \"RandomForestClassifier(criterion='entropy', max_depth=10, n_estimators=22,\\n                       n_jobs=-1, random_state=75)\",\n",
       "  \"GradientBoostingClassifier(max_depth=17, max_features='sqrt',\\n                           max_leaf_nodes=316, min_samples_leaf=6,\\n                           n_estimators=195, random_state=75)\",\n",
       "  'GaussianNB(var_smoothing=1e-08)',\n",
       "  'LogisticRegression(max_iter=50000, random_state=75, tol=5.993308915320019)',\n",
       "  'GaussianNB()',\n",
       "  'GaussianNB()',\n",
       "  'GradientBoostingClassifier(n_estimators=122, random_state=75)',\n",
       "  'GaussianNB()',\n",
       "  'GaussianNB(var_smoothing=1e-12)',\n",
       "  'GaussianNB(var_smoothing=1e-12)',\n",
       "  'GradientBoostingClassifier(max_depth=95, min_samples_leaf=6, n_estimators=195,\\n                           random_state=75)',\n",
       "  \"RandomForestClassifier(criterion='entropy', max_depth=10, n_estimators=197,\\n                       n_jobs=-1, random_state=75)\",\n",
       "  \"RandomForestClassifier(criterion='entropy', max_depth=10, n_estimators=22,\\n                       n_jobs=-1, random_state=75)\"],\n",
       " ['[\\'R_Welterweight_rank\\', \\'R_Middleweight_rank\\', \\'B_Light Heavyweight_rank\\', \\'R_draw\\', \\'R_win_by_Decision_Majority\\', \\'sig_str_dif\\', \\'B_Featherweight_rank\\', \\'R_Lightweight_rank\\', \\'B_odds\\', \\'R_avg_TD_landed\\', \\'B_ev\\', \\'R_Bantamweight_rank\\', \\'B_current_lose_streak\\', \\'avg_sub_att_dif\\', \\'B_Middleweight_rank\\', \\'R_current_win_streak\\', \\'B_avg_SUB_ATT\\', \\'B_avg_SIG_STR_landed\\', \\'age_dif\\', \\'R_avg_TD_pct\\', \\'R_ev\\', \"B_Women\\'s Strawweight_rank\", \\'B_Bantamweight_rank\\', \\'R_Reach_cms\\', \\'B_win_by_Decision_Unanimous\\']',\n",
       "  '[\\'longest_win_streak_dif\\', \\'avg_td_dif\\', \\'R_Height_cms\\', \\'R_Bantamweight_rank\\', \\'B_current_lose_streak\\', \\'avg_sub_att_dif\\', \\'B_Middleweight_rank\\', \\'R_current_win_streak\\', \\'total_round_dif\\', \\'B_avg_SUB_ATT\\', \\'B_avg_SIG_STR_landed\\', \\'age_dif\\', \\'B_Light Heavyweight_rank\\', \\'R_avg_TD_pct\\', \\'R_ev\\', \"B_Women\\'s Flyweight_rank\", \"B_Women\\'s Strawweight_rank\", \\'B_Bantamweight_rank\\', \\'R_Reach_cms\\', \\'B_win_by_Decision_Unanimous\\', \\'constant_1\\']',\n",
       "  '[\\'R_Stance\\', \\'R_avg_SUB_ATT\\', \\'B_Stance\\', \\'R_current_lose_streak\\', \\'loss_dif\\', \\'B_win_by_Decision_Split\\', \\'R_Height_cms\\', \\'R_Bantamweight_rank\\', \\'B_current_lose_streak\\', \\'avg_sub_att_dif\\', \\'B_Middleweight_rank\\', \\'R_current_win_streak\\', \\'total_round_dif\\', \\'B_avg_SUB_ATT\\', \\'B_avg_SIG_STR_landed\\', \\'age_dif\\', \\'B_Light Heavyweight_rank\\', \\'R_avg_TD_pct\\', \\'R_ev\\', \"B_Women\\'s Flyweight_rank\", \"B_Women\\'s Strawweight_rank\", \\'B_Bantamweight_rank\\', \\'R_Reach_cms\\', \\'B_win_by_Decision_Unanimous\\', \\'constant_1\\']',\n",
       "  '[\"B_Women\\'s Bantamweight_rank\", \"R_Women\\'s Flyweight_rank\", \\'R_Height_cms\\', \\'R_Bantamweight_rank\\', \\'B_current_lose_streak\\', \\'avg_sub_att_dif\\', \\'B_Middleweight_rank\\', \\'R_current_win_streak\\', \\'total_round_dif\\', \\'B_avg_SUB_ATT\\', \\'B_avg_SIG_STR_landed\\', \\'age_dif\\', \\'B_Light Heavyweight_rank\\', \\'R_avg_TD_pct\\', \"B_Women\\'s Flyweight_rank\", \"B_Women\\'s Strawweight_rank\", \\'B_Bantamweight_rank\\', \\'R_Reach_cms\\', \\'B_win_by_Decision_Unanimous\\']',\n",
       "  \"['R_Height_cms', 'reach_dif', 'age_dif', 'lose_streak_dif', 'B_draw', 'B_odds', 'B_avg_TD_pct', 'R_Reach_cms', 'B_win_by_Decision_Unanimous', 'R_win_by_Submission', 'height_dif', 'R_avg_TD_pct', 'R_avg_SIG_STR_pct', 'win_streak_dif', 'B_avg_TD_landed', 'B_current_lose_streak', 'B_age', 'R_win_by_Decision_Split', 'avg_td_dif', 'R_Middleweight_rank', 'better_rank', 'B_Flyweight_rank', 'B_win_by_KO/TKO', 'B_win_by_Decision_Split', 'R_win_by_Decision_Majority', 'R_Lightweight_rank', 'R_Flyweight_rank', 'R_win_by_TKO_Doctor_Stoppage', 'B_Stance', 'R_avg_TD_landed', 'B_avg_SIG_STR_landed', 'empty_arena']\",\n",
       "  \"['B_win_by_Decision_Majority', 'B_win_by_TKO_Doctor_Stoppage', 'R_win_by_Decision_Majority', 'R_odds', 'R_current_lose_streak', 'R_Reach_cms', 'B_draw', 'total_round_dif', 'R_ev', 'B_ev']\",\n",
       "  \"['R_win_by_Decision_Unanimous', 'B_win_by_Submission', 'R_Weight_lbs', 'sig_str_dif', 'B_Height_cms', 'B_avg_SUB_ATT', 'R_win_by_TKO_Doctor_Stoppage', 'height_dif', 'B_draw', 'avg_td_dif', 'R_win_by_Decision_Split', 'age_dif', 'B_current_win_streak', 'R_odds']\",\n",
       "  \"['R_longest_win_streak', 'longest_win_streak_dif', 'reach_dif', 'avg_sub_att_dif', 'R_win_by_Decision_Unanimous', 'B_win_by_Submission', 'R_Weight_lbs', 'sig_str_dif', 'B_Height_cms', 'B_avg_SUB_ATT', 'R_win_by_TKO_Doctor_Stoppage', 'height_dif', 'B_draw', 'avg_td_dif', 'R_win_by_Decision_Split', 'age_dif', 'B_current_win_streak', 'R_odds']\",\n",
       "  \"['B_current_win_streak', 'R_win_by_Submission', 'B_win_by_Decision_Unanimous', 'R_win_by_Decision_Unanimous', 'R_current_lose_streak', 'B_win_by_TKO_Doctor_Stoppage', 'win_dif', 'B_win_by_Decision_Split', 'B_wins', 'R_Stance', 'B_age', 'B_Weight_lbs', 'R_ev', 'B_total_rounds_fought', 'location', 'R_odds', 'R_Reach_cms', 'R_Weight_lbs', 'R_current_win_streak', 'R_age', 'empty_arena', 'R_win_by_Decision_Split', 'R_draw', 'lose_streak_dif', 'B_draw']\",\n",
       "  \"['R_Reach_cms', 'total_round_dif', 'R_Height_cms', 'R_avg_SIG_STR_pct', 'B_age', 'R_longest_win_streak', 'lose_streak_dif', 'ko_dif', 'R_win_by_Decision_Majority', 'longest_win_streak_dif', 'avg_sub_att_dif', 'R_Weight_lbs', 'sig_str_dif', 'B_Height_cms', 'B_avg_SUB_ATT', 'R_win_by_TKO_Doctor_Stoppage', 'B_draw', 'avg_td_dif', 'R_win_by_Decision_Split', 'age_dif', 'B_current_win_streak', 'R_odds']\",\n",
       "  \"['win_streak_dif', 'B_Light Heavyweight_rank', 'B_Lightweight_rank', 'R_avg_TD_landed', 'R_Middleweight_rank', 'total_round_dif', 'R_Height_cms', 'R_avg_SIG_STR_pct', 'B_age', 'R_longest_win_streak', 'lose_streak_dif', 'R_win_by_Decision_Majority', 'longest_win_streak_dif', 'avg_sub_att_dif', 'R_Weight_lbs', 'sig_str_dif', 'B_Height_cms', 'B_avg_SUB_ATT', 'R_win_by_TKO_Doctor_Stoppage', 'B_draw', 'avg_td_dif', 'R_win_by_Decision_Split', 'age_dif', 'R_odds']\",\n",
       "  \"['B_Weight_lbs', 'B_Flyweight_rank', 'B_avg_TD_landed', 'B_Light Heavyweight_rank', 'B_Lightweight_rank', 'R_avg_TD_landed', 'R_Middleweight_rank', 'R_Height_cms', 'R_avg_SIG_STR_pct', 'B_age', 'R_longest_win_streak', 'lose_streak_dif', 'R_win_by_Decision_Majority', 'longest_win_streak_dif', 'avg_sub_att_dif', 'sig_str_dif', 'B_avg_SUB_ATT', 'R_win_by_TKO_Doctor_Stoppage', 'B_draw', 'R_win_by_Decision_Split', 'age_dif', 'R_odds']\",\n",
       "  \"['weight_class', 'B_Reach_cms', 'B_Welterweight_rank', 'B_total_title_bouts', 'R_avg_TD_pct', 'B_Bantamweight_rank', 'R_Featherweight_rank', 'no_of_rounds', 'B_draw', 'B_Stance', 'R_win_by_TKO_Doctor_Stoppage', 'R_current_win_streak', 'B_avg_SIG_STR_landed', 'country']\",\n",
       "  '[\\'R_Height_cms\\', \\'R_Bantamweight_rank\\', \\'B_current_lose_streak\\', \\'avg_sub_att_dif\\', \\'B_Middleweight_rank\\', \\'R_current_win_streak\\', \\'total_round_dif\\', \\'B_avg_SUB_ATT\\', \\'B_avg_SIG_STR_landed\\', \\'age_dif\\', \\'B_Light Heavyweight_rank\\', \\'R_avg_TD_pct\\', \\'R_ev\\', \"B_Women\\'s Flyweight_rank\", \"B_Women\\'s Strawweight_rank\", \\'B_Bantamweight_rank\\', \\'R_Reach_cms\\', \\'B_win_by_Decision_Unanimous\\', \\'constant_1\\']',\n",
       "  '[\\'B_Stance\\', \\'R_current_lose_streak\\', \\'loss_dif\\', \\'B_win_by_Decision_Split\\', \\'R_Height_cms\\', \\'R_Bantamweight_rank\\', \\'B_current_lose_streak\\', \\'avg_sub_att_dif\\', \\'B_Middleweight_rank\\', \\'R_current_win_streak\\', \\'total_round_dif\\', \\'B_avg_SUB_ATT\\', \\'B_avg_SIG_STR_landed\\', \\'age_dif\\', \\'B_Light Heavyweight_rank\\', \\'R_avg_TD_pct\\', \\'R_ev\\', \"B_Women\\'s Flyweight_rank\", \"B_Women\\'s Strawweight_rank\", \\'B_Bantamweight_rank\\', \\'R_Reach_cms\\', \\'B_win_by_Decision_Unanimous\\', \\'constant_1\\']'],\n",
       " ['0', '0', '4', '35', '1', '0', '0', '0', '0', '1', '3', '2', '27', '1', '5'],\n",
       " ['-177.3976305032445',\n",
       "  '-517.5586724157288',\n",
       "  '51.485661931175315',\n",
       "  '-273.34880970516065',\n",
       "  '1182.7971751988935',\n",
       "  '-708.2060686',\n",
       "  '509.4118744',\n",
       "  '1122.644041',\n",
       "  '-12.87052008',\n",
       "  '642.8135906',\n",
       "  '203.2974615',\n",
       "  '179.6331948',\n",
       "  '601.1884794',\n",
       "  '1255.868899',\n",
       "  '214.6801635']]"
      ]
     },
     "execution_count": 8,
     "metadata": {},
     "output_type": "execute_result"
    }
   ],
   "source": [
    "models"
   ]
  },
  {
   "cell_type": "code",
   "execution_count": 11,
   "metadata": {},
   "outputs": [],
   "source": [
    "df = pd.read_csv(\"../data/ufc-master.csv\")"
   ]
  },
  {
   "cell_type": "code",
   "execution_count": 12,
   "metadata": {},
   "outputs": [
    {
     "name": "stdout",
     "output_type": "stream",
     "text": [
      "200\n",
      "200\n",
      "200\n",
      "4521\n",
      "4521\n",
      "4521\n"
     ]
    },
    {
     "name": "stderr",
     "output_type": "stream",
     "text": [
      "C:\\Users\\Matt-Predator\\Anaconda3\\lib\\site-packages\\ipykernel_launcher.py:5: SettingWithCopyWarning: \n",
      "A value is trying to be set on a copy of a slice from a DataFrame\n",
      "\n",
      "See the caveats in the documentation: https://pandas.pydata.org/pandas-docs/stable/user_guide/indexing.html#returning-a-view-versus-a-copy\n",
      "  \"\"\"\n",
      "C:\\Users\\Matt-Predator\\Anaconda3\\lib\\site-packages\\ipykernel_launcher.py:7: SettingWithCopyWarning: \n",
      "A value is trying to be set on a copy of a slice from a DataFrame\n",
      "\n",
      "See the caveats in the documentation: https://pandas.pydata.org/pandas-docs/stable/user_guide/indexing.html#returning-a-view-versus-a-copy\n",
      "  import sys\n"
     ]
    }
   ],
   "source": [
    "#Let's put all the labels in a dataframe\n",
    "df['label'] = ''\n",
    "#If the winner is not Red or Blue we can remove it.\n",
    "mask = df['Winner'] == 'Red'\n",
    "df['label'][mask] = 0\n",
    "mask = df['Winner'] == 'Blue'\n",
    "df['label'][mask] = 1\n",
    "\n",
    "#df[\"Winner\"] = df[\"Winner\"].astype('category')\n",
    "df = df[(df['Winner'] == 'Blue') | (df['Winner'] == 'Red')]\n",
    "\n",
    "\n",
    "#Make sure lable is numeric\n",
    "df['label'] = pd.to_numeric(df['label'], errors='coerce')\n",
    "\n",
    "#Let's fix the date\n",
    "df['date'] = pd.to_datetime(df['date'])\n",
    "\n",
    "#Create a label df:\n",
    "label_df = df['label']\n",
    "\n",
    "#Let's create an odds df too:\n",
    "odds_df = df[['R_odds', 'B_odds']]\n",
    "\n",
    "#Split the test set.  We are always(?) going to use the last 200 matches as the test set, so we don't want those around\n",
    "#as we pick models\n",
    "\n",
    "df_train = df[200:]\n",
    "odds_train = odds_df[200:]\n",
    "label_train = label_df[200:]\n",
    "\n",
    "df_test = df[:200]\n",
    "odds_test = odds_df[:200]\n",
    "label_test = label_df[:200]\n",
    "\n",
    "print(len(df_test))\n",
    "print(len(odds_test))\n",
    "print(len(label_test))\n",
    "\n",
    "print(len(df_train))\n",
    "print(len(odds_train))\n",
    "print(len(label_train))"
   ]
  },
  {
   "cell_type": "code",
   "execution_count": 13,
   "metadata": {},
   "outputs": [
    {
     "name": "stdout",
     "output_type": "stream",
     "text": [
      "200\n",
      "4521\n"
     ]
    }
   ],
   "source": [
    "if remove_fight_island:\n",
    "    ##Let's remove the Fight island contests and see how that affects score\n",
    "    df_test_no_fight_island = df_test[(df_test['location'] != 'Abu Dhabi, Abu Dhabi, United Arab Emirates')]\n",
    "    df_train_no_fight_island = df_train[(df_train['location'] != 'Abu Dhabi, Abu Dhabi, United Arab Emirates')]\n",
    "    df_test = df_test_no_fight_island\n",
    "    df_train = df_train_no_fight_island\n",
    "\n",
    "\n",
    "\n",
    "print(len(df_test))\n",
    "print(len(df_train))\n"
   ]
  },
  {
   "cell_type": "code",
   "execution_count": 15,
   "metadata": {},
   "outputs": [
    {
     "name": "stderr",
     "output_type": "stream",
     "text": [
      "C:\\Users\\Matt-Predator\\Anaconda3\\lib\\site-packages\\pandas\\core\\frame.py:3188: SettingWithCopyWarning: \n",
      "A value is trying to be set on a copy of a slice from a DataFrame.\n",
      "Try using .loc[row_indexer,col_indexer] = value instead\n",
      "\n",
      "See the caveats in the documentation: https://pandas.pydata.org/pandas-docs/stable/user_guide/indexing.html#returning-a-view-versus-a-copy\n",
      "  self[k1] = value[k2]\n"
     ]
    }
   ],
   "source": [
    "#Set a value for the nulls in the ranks\n",
    "\n",
    "weightclass_list = ['B_match_weightclass_rank', 'R_match_weightclass_rank', \"R_Women's Flyweight_rank\", \"R_Women's Featherweight_rank\", \"R_Women's Strawweight_rank\", \"R_Women's Bantamweight_rank\", 'R_Heavyweight_rank', 'R_Light Heavyweight_rank', 'R_Middleweight_rank', 'R_Welterweight_rank', 'R_Lightweight_rank', 'R_Featherweight_rank', 'R_Bantamweight_rank', 'R_Flyweight_rank', 'R_Pound-for-Pound_rank', \"B_Women's Flyweight_rank\", \"B_Women's Featherweight_rank\", \"B_Women's Strawweight_rank\", \"B_Women's Bantamweight_rank\", 'B_Heavyweight_rank', 'B_Light Heavyweight_rank', 'B_Middleweight_rank', 'B_Welterweight_rank', 'B_Lightweight_rank', 'B_Featherweight_rank', 'B_Bantamweight_rank', 'B_Flyweight_rank', 'B_Pound-for-Pound_rank']\n",
    "df_train[weightclass_list] = df_train[weightclass_list].fillna(17)\n",
    "df_test[weightclass_list] = df_test[weightclass_list].fillna(17)"
   ]
  },
  {
   "cell_type": "code",
   "execution_count": 19,
   "metadata": {},
   "outputs": [
    {
     "data": {
      "text/plain": [
       "15"
      ]
     },
     "execution_count": 19,
     "metadata": {},
     "output_type": "execute_result"
    }
   ],
   "source": [
    "len(models[0])"
   ]
  },
  {
   "cell_type": "code",
   "execution_count": null,
   "metadata": {},
   "outputs": [],
   "source": []
  },
  {
   "cell_type": "code",
   "execution_count": 21,
   "metadata": {},
   "outputs": [
    {
     "data": {
      "text/plain": [
       "(3480, 25)"
      ]
     },
     "metadata": {},
     "output_type": "display_data"
    },
    {
     "data": {
      "text/plain": [
       "(3480,)"
      ]
     },
     "metadata": {},
     "output_type": "display_data"
    },
    {
     "data": {
      "text/plain": [
       "(3480, 2)"
      ]
     },
     "metadata": {},
     "output_type": "display_data"
    },
    {
     "data": {
      "text/plain": [
       "(200, 25)"
      ]
     },
     "metadata": {},
     "output_type": "display_data"
    },
    {
     "data": {
      "text/plain": [
       "(200,)"
      ]
     },
     "metadata": {},
     "output_type": "display_data"
    },
    {
     "data": {
      "text/plain": [
       "(200, 2)"
      ]
     },
     "metadata": {},
     "output_type": "display_data"
    },
    {
     "data": {
      "text/html": [
       "<div>\n",
       "<style scoped>\n",
       "    .dataframe tbody tr th:only-of-type {\n",
       "        vertical-align: middle;\n",
       "    }\n",
       "\n",
       "    .dataframe tbody tr th {\n",
       "        vertical-align: top;\n",
       "    }\n",
       "\n",
       "    .dataframe thead th {\n",
       "        text-align: right;\n",
       "    }\n",
       "</style>\n",
       "<table border=\"1\" class=\"dataframe\">\n",
       "  <thead>\n",
       "    <tr style=\"text-align: right;\">\n",
       "      <th></th>\n",
       "      <th>t1_odds</th>\n",
       "      <th>t2_odds</th>\n",
       "      <th>t1_prob</th>\n",
       "      <th>t2_prob</th>\n",
       "      <th>winner</th>\n",
       "    </tr>\n",
       "  </thead>\n",
       "  <tbody>\n",
       "    <tr>\n",
       "      <th>0</th>\n",
       "      <td>-130</td>\n",
       "      <td>110</td>\n",
       "      <td>0.666030</td>\n",
       "      <td>0.333970</td>\n",
       "      <td>0</td>\n",
       "    </tr>\n",
       "    <tr>\n",
       "      <th>1</th>\n",
       "      <td>-137</td>\n",
       "      <td>117</td>\n",
       "      <td>0.590731</td>\n",
       "      <td>0.409269</td>\n",
       "      <td>1</td>\n",
       "    </tr>\n",
       "    <tr>\n",
       "      <th>2</th>\n",
       "      <td>-178</td>\n",
       "      <td>157</td>\n",
       "      <td>0.602828</td>\n",
       "      <td>0.397172</td>\n",
       "      <td>1</td>\n",
       "    </tr>\n",
       "    <tr>\n",
       "      <th>3</th>\n",
       "      <td>-178</td>\n",
       "      <td>157</td>\n",
       "      <td>0.596875</td>\n",
       "      <td>0.403125</td>\n",
       "      <td>1</td>\n",
       "    </tr>\n",
       "    <tr>\n",
       "      <th>4</th>\n",
       "      <td>125</td>\n",
       "      <td>-145</td>\n",
       "      <td>0.507389</td>\n",
       "      <td>0.492611</td>\n",
       "      <td>0</td>\n",
       "    </tr>\n",
       "    <tr>\n",
       "      <th>...</th>\n",
       "      <td>...</td>\n",
       "      <td>...</td>\n",
       "      <td>...</td>\n",
       "      <td>...</td>\n",
       "      <td>...</td>\n",
       "    </tr>\n",
       "    <tr>\n",
       "      <th>195</th>\n",
       "      <td>-230</td>\n",
       "      <td>180</td>\n",
       "      <td>0.679125</td>\n",
       "      <td>0.320875</td>\n",
       "      <td>1</td>\n",
       "    </tr>\n",
       "    <tr>\n",
       "      <th>196</th>\n",
       "      <td>180</td>\n",
       "      <td>-230</td>\n",
       "      <td>0.400940</td>\n",
       "      <td>0.599060</td>\n",
       "      <td>1</td>\n",
       "    </tr>\n",
       "    <tr>\n",
       "      <th>197</th>\n",
       "      <td>-103</td>\n",
       "      <td>-117</td>\n",
       "      <td>0.614133</td>\n",
       "      <td>0.385867</td>\n",
       "      <td>0</td>\n",
       "    </tr>\n",
       "    <tr>\n",
       "      <th>198</th>\n",
       "      <td>-140</td>\n",
       "      <td>120</td>\n",
       "      <td>0.609161</td>\n",
       "      <td>0.390839</td>\n",
       "      <td>0</td>\n",
       "    </tr>\n",
       "    <tr>\n",
       "      <th>199</th>\n",
       "      <td>105</td>\n",
       "      <td>-125</td>\n",
       "      <td>0.585690</td>\n",
       "      <td>0.414310</td>\n",
       "      <td>0</td>\n",
       "    </tr>\n",
       "  </tbody>\n",
       "</table>\n",
       "<p>200 rows × 5 columns</p>\n",
       "</div>"
      ],
      "text/plain": [
       "     t1_odds  t2_odds   t1_prob   t2_prob  winner\n",
       "0       -130      110  0.666030  0.333970       0\n",
       "1       -137      117  0.590731  0.409269       1\n",
       "2       -178      157  0.602828  0.397172       1\n",
       "3       -178      157  0.596875  0.403125       1\n",
       "4        125     -145  0.507389  0.492611       0\n",
       "..       ...      ...       ...       ...     ...\n",
       "195     -230      180  0.679125  0.320875       1\n",
       "196      180     -230  0.400940  0.599060       1\n",
       "197     -103     -117  0.614133  0.385867       0\n",
       "198     -140      120  0.609161  0.390839       0\n",
       "199      105     -125  0.585690  0.414310       0\n",
       "\n",
       "[200 rows x 5 columns]"
      ]
     },
     "metadata": {},
     "output_type": "display_data"
    },
    {
     "name": "stdout",
     "output_type": "stream",
     "text": [
      "\n",
      "          Number of matches: 200\n",
      "          Number of bets: 164\n",
      "          Number of winning bets: 75\n",
      "          Number of losing bets: 89\n",
      "          Number of underdog bets: 117\n",
      "          Number of underdog wins: 49\n",
      "          Number of underdog losses: 68\n",
      "          Number of Favorite bets: 45\n",
      "          Number of favorite wins: 26\n",
      "          Number of favorite losses: 19\n",
      "          Number of even bets: 2\n",
      "          Number of even wins: 0\n",
      "          Number of even losses: 2\n",
      "          Profit: -196.21005751678678\n",
      "          Profit per bet: -1.1964027897365048\n",
      "          Profit per match: -0.9810502875839339\n",
      "          \n",
      "          \n"
     ]
    },
    {
     "data": {
      "text/plain": [
       "(3480, 21)"
      ]
     },
     "metadata": {},
     "output_type": "display_data"
    },
    {
     "data": {
      "text/plain": [
       "(3480,)"
      ]
     },
     "metadata": {},
     "output_type": "display_data"
    },
    {
     "data": {
      "text/plain": [
       "(3480, 2)"
      ]
     },
     "metadata": {},
     "output_type": "display_data"
    },
    {
     "data": {
      "text/plain": [
       "(200, 21)"
      ]
     },
     "metadata": {},
     "output_type": "display_data"
    },
    {
     "data": {
      "text/plain": [
       "(200,)"
      ]
     },
     "metadata": {},
     "output_type": "display_data"
    },
    {
     "data": {
      "text/plain": [
       "(200, 2)"
      ]
     },
     "metadata": {},
     "output_type": "display_data"
    },
    {
     "data": {
      "text/html": [
       "<div>\n",
       "<style scoped>\n",
       "    .dataframe tbody tr th:only-of-type {\n",
       "        vertical-align: middle;\n",
       "    }\n",
       "\n",
       "    .dataframe tbody tr th {\n",
       "        vertical-align: top;\n",
       "    }\n",
       "\n",
       "    .dataframe thead th {\n",
       "        text-align: right;\n",
       "    }\n",
       "</style>\n",
       "<table border=\"1\" class=\"dataframe\">\n",
       "  <thead>\n",
       "    <tr style=\"text-align: right;\">\n",
       "      <th></th>\n",
       "      <th>t1_odds</th>\n",
       "      <th>t2_odds</th>\n",
       "      <th>t1_prob</th>\n",
       "      <th>t2_prob</th>\n",
       "      <th>winner</th>\n",
       "    </tr>\n",
       "  </thead>\n",
       "  <tbody>\n",
       "    <tr>\n",
       "      <th>0</th>\n",
       "      <td>-130</td>\n",
       "      <td>110</td>\n",
       "      <td>0.812500</td>\n",
       "      <td>0.187500</td>\n",
       "      <td>0</td>\n",
       "    </tr>\n",
       "    <tr>\n",
       "      <th>1</th>\n",
       "      <td>-137</td>\n",
       "      <td>117</td>\n",
       "      <td>0.857143</td>\n",
       "      <td>0.142857</td>\n",
       "      <td>1</td>\n",
       "    </tr>\n",
       "    <tr>\n",
       "      <th>2</th>\n",
       "      <td>-178</td>\n",
       "      <td>157</td>\n",
       "      <td>0.692308</td>\n",
       "      <td>0.307692</td>\n",
       "      <td>1</td>\n",
       "    </tr>\n",
       "    <tr>\n",
       "      <th>3</th>\n",
       "      <td>-178</td>\n",
       "      <td>157</td>\n",
       "      <td>0.692308</td>\n",
       "      <td>0.307692</td>\n",
       "      <td>1</td>\n",
       "    </tr>\n",
       "    <tr>\n",
       "      <th>4</th>\n",
       "      <td>125</td>\n",
       "      <td>-145</td>\n",
       "      <td>0.500000</td>\n",
       "      <td>0.500000</td>\n",
       "      <td>0</td>\n",
       "    </tr>\n",
       "    <tr>\n",
       "      <th>...</th>\n",
       "      <td>...</td>\n",
       "      <td>...</td>\n",
       "      <td>...</td>\n",
       "      <td>...</td>\n",
       "      <td>...</td>\n",
       "    </tr>\n",
       "    <tr>\n",
       "      <th>195</th>\n",
       "      <td>-230</td>\n",
       "      <td>180</td>\n",
       "      <td>0.600000</td>\n",
       "      <td>0.400000</td>\n",
       "      <td>1</td>\n",
       "    </tr>\n",
       "    <tr>\n",
       "      <th>196</th>\n",
       "      <td>180</td>\n",
       "      <td>-230</td>\n",
       "      <td>0.500000</td>\n",
       "      <td>0.500000</td>\n",
       "      <td>1</td>\n",
       "    </tr>\n",
       "    <tr>\n",
       "      <th>197</th>\n",
       "      <td>-103</td>\n",
       "      <td>-117</td>\n",
       "      <td>0.000000</td>\n",
       "      <td>1.000000</td>\n",
       "      <td>0</td>\n",
       "    </tr>\n",
       "    <tr>\n",
       "      <th>198</th>\n",
       "      <td>-140</td>\n",
       "      <td>120</td>\n",
       "      <td>0.833333</td>\n",
       "      <td>0.166667</td>\n",
       "      <td>0</td>\n",
       "    </tr>\n",
       "    <tr>\n",
       "      <th>199</th>\n",
       "      <td>105</td>\n",
       "      <td>-125</td>\n",
       "      <td>1.000000</td>\n",
       "      <td>0.000000</td>\n",
       "      <td>0</td>\n",
       "    </tr>\n",
       "  </tbody>\n",
       "</table>\n",
       "<p>200 rows × 5 columns</p>\n",
       "</div>"
      ],
      "text/plain": [
       "     t1_odds  t2_odds   t1_prob   t2_prob  winner\n",
       "0       -130      110  0.812500  0.187500       0\n",
       "1       -137      117  0.857143  0.142857       1\n",
       "2       -178      157  0.692308  0.307692       1\n",
       "3       -178      157  0.692308  0.307692       1\n",
       "4        125     -145  0.500000  0.500000       0\n",
       "..       ...      ...       ...       ...     ...\n",
       "195     -230      180  0.600000  0.400000       1\n",
       "196      180     -230  0.500000  0.500000       1\n",
       "197     -103     -117  0.000000  1.000000       0\n",
       "198     -140      120  0.833333  0.166667       0\n",
       "199      105     -125  1.000000  0.000000       0\n",
       "\n",
       "[200 rows x 5 columns]"
      ]
     },
     "metadata": {},
     "output_type": "display_data"
    },
    {
     "name": "stdout",
     "output_type": "stream",
     "text": [
      "\n",
      "          Number of matches: 200\n",
      "          Number of bets: 191\n",
      "          Number of winning bets: 107\n",
      "          Number of losing bets: 84\n",
      "          Number of underdog bets: 83\n",
      "          Number of underdog wins: 37\n",
      "          Number of underdog losses: 46\n",
      "          Number of Favorite bets: 105\n",
      "          Number of favorite wins: 68\n",
      "          Number of favorite losses: 37\n",
      "          Number of even bets: 3\n",
      "          Number of even wins: 2\n",
      "          Number of even losses: 1\n",
      "          Profit: 402.5012308757292\n",
      "          Profit per bet: 2.107336287307483\n",
      "          Profit per match: 2.012506154378646\n",
      "          \n",
      "          \n"
     ]
    },
    {
     "data": {
      "text/plain": [
       "(3480, 31)"
      ]
     },
     "metadata": {},
     "output_type": "display_data"
    },
    {
     "data": {
      "text/plain": [
       "(3480,)"
      ]
     },
     "metadata": {},
     "output_type": "display_data"
    },
    {
     "data": {
      "text/plain": [
       "(3480, 2)"
      ]
     },
     "metadata": {},
     "output_type": "display_data"
    },
    {
     "data": {
      "text/plain": [
       "(198, 31)"
      ]
     },
     "metadata": {},
     "output_type": "display_data"
    },
    {
     "data": {
      "text/plain": [
       "(198,)"
      ]
     },
     "metadata": {},
     "output_type": "display_data"
    },
    {
     "data": {
      "text/plain": [
       "(198, 2)"
      ]
     },
     "metadata": {},
     "output_type": "display_data"
    },
    {
     "data": {
      "text/html": [
       "<div>\n",
       "<style scoped>\n",
       "    .dataframe tbody tr th:only-of-type {\n",
       "        vertical-align: middle;\n",
       "    }\n",
       "\n",
       "    .dataframe tbody tr th {\n",
       "        vertical-align: top;\n",
       "    }\n",
       "\n",
       "    .dataframe thead th {\n",
       "        text-align: right;\n",
       "    }\n",
       "</style>\n",
       "<table border=\"1\" class=\"dataframe\">\n",
       "  <thead>\n",
       "    <tr style=\"text-align: right;\">\n",
       "      <th></th>\n",
       "      <th>t1_odds</th>\n",
       "      <th>t2_odds</th>\n",
       "      <th>t1_prob</th>\n",
       "      <th>t2_prob</th>\n",
       "      <th>winner</th>\n",
       "    </tr>\n",
       "  </thead>\n",
       "  <tbody>\n",
       "    <tr>\n",
       "      <th>0</th>\n",
       "      <td>-130</td>\n",
       "      <td>110</td>\n",
       "      <td>0.613812</td>\n",
       "      <td>0.386188</td>\n",
       "      <td>0</td>\n",
       "    </tr>\n",
       "    <tr>\n",
       "      <th>1</th>\n",
       "      <td>-137</td>\n",
       "      <td>117</td>\n",
       "      <td>0.439025</td>\n",
       "      <td>0.560975</td>\n",
       "      <td>1</td>\n",
       "    </tr>\n",
       "    <tr>\n",
       "      <th>2</th>\n",
       "      <td>-178</td>\n",
       "      <td>157</td>\n",
       "      <td>0.615613</td>\n",
       "      <td>0.384387</td>\n",
       "      <td>1</td>\n",
       "    </tr>\n",
       "    <tr>\n",
       "      <th>3</th>\n",
       "      <td>-178</td>\n",
       "      <td>157</td>\n",
       "      <td>0.578145</td>\n",
       "      <td>0.421855</td>\n",
       "      <td>1</td>\n",
       "    </tr>\n",
       "    <tr>\n",
       "      <th>4</th>\n",
       "      <td>125</td>\n",
       "      <td>-145</td>\n",
       "      <td>0.473624</td>\n",
       "      <td>0.526376</td>\n",
       "      <td>0</td>\n",
       "    </tr>\n",
       "    <tr>\n",
       "      <th>...</th>\n",
       "      <td>...</td>\n",
       "      <td>...</td>\n",
       "      <td>...</td>\n",
       "      <td>...</td>\n",
       "      <td>...</td>\n",
       "    </tr>\n",
       "    <tr>\n",
       "      <th>193</th>\n",
       "      <td>-230</td>\n",
       "      <td>180</td>\n",
       "      <td>0.649481</td>\n",
       "      <td>0.350519</td>\n",
       "      <td>1</td>\n",
       "    </tr>\n",
       "    <tr>\n",
       "      <th>194</th>\n",
       "      <td>180</td>\n",
       "      <td>-230</td>\n",
       "      <td>0.408538</td>\n",
       "      <td>0.591462</td>\n",
       "      <td>1</td>\n",
       "    </tr>\n",
       "    <tr>\n",
       "      <th>195</th>\n",
       "      <td>-103</td>\n",
       "      <td>-117</td>\n",
       "      <td>0.654888</td>\n",
       "      <td>0.345112</td>\n",
       "      <td>0</td>\n",
       "    </tr>\n",
       "    <tr>\n",
       "      <th>196</th>\n",
       "      <td>-140</td>\n",
       "      <td>120</td>\n",
       "      <td>0.536539</td>\n",
       "      <td>0.463461</td>\n",
       "      <td>0</td>\n",
       "    </tr>\n",
       "    <tr>\n",
       "      <th>197</th>\n",
       "      <td>105</td>\n",
       "      <td>-125</td>\n",
       "      <td>0.542940</td>\n",
       "      <td>0.457060</td>\n",
       "      <td>0</td>\n",
       "    </tr>\n",
       "  </tbody>\n",
       "</table>\n",
       "<p>198 rows × 5 columns</p>\n",
       "</div>"
      ],
      "text/plain": [
       "     t1_odds  t2_odds   t1_prob   t2_prob  winner\n",
       "0       -130      110  0.613812  0.386188       0\n",
       "1       -137      117  0.439025  0.560975       1\n",
       "2       -178      157  0.615613  0.384387       1\n",
       "3       -178      157  0.578145  0.421855       1\n",
       "4        125     -145  0.473624  0.526376       0\n",
       "..       ...      ...       ...       ...     ...\n",
       "193     -230      180  0.649481  0.350519       1\n",
       "194      180     -230  0.408538  0.591462       1\n",
       "195     -103     -117  0.654888  0.345112       0\n",
       "196     -140      120  0.536539  0.463461       0\n",
       "197      105     -125  0.542940  0.457060       0\n",
       "\n",
       "[198 rows x 5 columns]"
      ]
     },
     "metadata": {},
     "output_type": "display_data"
    },
    {
     "name": "stdout",
     "output_type": "stream",
     "text": [
      "\n",
      "          Number of matches: 198\n",
      "          Number of bets: 133\n",
      "          Number of winning bets: 52\n",
      "          Number of losing bets: 81\n",
      "          Number of underdog bets: 106\n",
      "          Number of underdog wins: 40\n",
      "          Number of underdog losses: 66\n",
      "          Number of Favorite bets: 27\n",
      "          Number of favorite wins: 12\n",
      "          Number of favorite losses: 15\n",
      "          Number of even bets: 0\n",
      "          Number of even wins: 0\n",
      "          Number of even losses: 0\n",
      "          Profit: -1212.5587785925702\n",
      "          Profit per bet: -9.116983297688497\n",
      "          Profit per match: -6.124034235316011\n",
      "          \n",
      "          \n"
     ]
    },
    {
     "data": {
      "text/plain": [
       "(3480, 19)"
      ]
     },
     "metadata": {},
     "output_type": "display_data"
    },
    {
     "data": {
      "text/plain": [
       "(3480,)"
      ]
     },
     "metadata": {},
     "output_type": "display_data"
    },
    {
     "data": {
      "text/plain": [
       "(3480, 2)"
      ]
     },
     "metadata": {},
     "output_type": "display_data"
    },
    {
     "data": {
      "text/plain": [
       "(200, 19)"
      ]
     },
     "metadata": {},
     "output_type": "display_data"
    },
    {
     "data": {
      "text/plain": [
       "(200,)"
      ]
     },
     "metadata": {},
     "output_type": "display_data"
    },
    {
     "data": {
      "text/plain": [
       "(200, 2)"
      ]
     },
     "metadata": {},
     "output_type": "display_data"
    },
    {
     "data": {
      "text/html": [
       "<div>\n",
       "<style scoped>\n",
       "    .dataframe tbody tr th:only-of-type {\n",
       "        vertical-align: middle;\n",
       "    }\n",
       "\n",
       "    .dataframe tbody tr th {\n",
       "        vertical-align: top;\n",
       "    }\n",
       "\n",
       "    .dataframe thead th {\n",
       "        text-align: right;\n",
       "    }\n",
       "</style>\n",
       "<table border=\"1\" class=\"dataframe\">\n",
       "  <thead>\n",
       "    <tr style=\"text-align: right;\">\n",
       "      <th></th>\n",
       "      <th>t1_odds</th>\n",
       "      <th>t2_odds</th>\n",
       "      <th>t1_prob</th>\n",
       "      <th>t2_prob</th>\n",
       "      <th>winner</th>\n",
       "    </tr>\n",
       "  </thead>\n",
       "  <tbody>\n",
       "    <tr>\n",
       "      <th>0</th>\n",
       "      <td>-130</td>\n",
       "      <td>110</td>\n",
       "      <td>0.983870</td>\n",
       "      <td>0.016130</td>\n",
       "      <td>0</td>\n",
       "    </tr>\n",
       "    <tr>\n",
       "      <th>1</th>\n",
       "      <td>-137</td>\n",
       "      <td>117</td>\n",
       "      <td>0.979528</td>\n",
       "      <td>0.020472</td>\n",
       "      <td>1</td>\n",
       "    </tr>\n",
       "    <tr>\n",
       "      <th>2</th>\n",
       "      <td>-178</td>\n",
       "      <td>157</td>\n",
       "      <td>0.288337</td>\n",
       "      <td>0.711663</td>\n",
       "      <td>1</td>\n",
       "    </tr>\n",
       "    <tr>\n",
       "      <th>3</th>\n",
       "      <td>-178</td>\n",
       "      <td>157</td>\n",
       "      <td>0.854585</td>\n",
       "      <td>0.145415</td>\n",
       "      <td>1</td>\n",
       "    </tr>\n",
       "    <tr>\n",
       "      <th>4</th>\n",
       "      <td>125</td>\n",
       "      <td>-145</td>\n",
       "      <td>0.820150</td>\n",
       "      <td>0.179850</td>\n",
       "      <td>0</td>\n",
       "    </tr>\n",
       "    <tr>\n",
       "      <th>...</th>\n",
       "      <td>...</td>\n",
       "      <td>...</td>\n",
       "      <td>...</td>\n",
       "      <td>...</td>\n",
       "      <td>...</td>\n",
       "    </tr>\n",
       "    <tr>\n",
       "      <th>195</th>\n",
       "      <td>-230</td>\n",
       "      <td>180</td>\n",
       "      <td>0.933261</td>\n",
       "      <td>0.066739</td>\n",
       "      <td>1</td>\n",
       "    </tr>\n",
       "    <tr>\n",
       "      <th>196</th>\n",
       "      <td>180</td>\n",
       "      <td>-230</td>\n",
       "      <td>0.466177</td>\n",
       "      <td>0.533823</td>\n",
       "      <td>1</td>\n",
       "    </tr>\n",
       "    <tr>\n",
       "      <th>197</th>\n",
       "      <td>-103</td>\n",
       "      <td>-117</td>\n",
       "      <td>0.908782</td>\n",
       "      <td>0.091218</td>\n",
       "      <td>0</td>\n",
       "    </tr>\n",
       "    <tr>\n",
       "      <th>198</th>\n",
       "      <td>-140</td>\n",
       "      <td>120</td>\n",
       "      <td>0.928556</td>\n",
       "      <td>0.071444</td>\n",
       "      <td>0</td>\n",
       "    </tr>\n",
       "    <tr>\n",
       "      <th>199</th>\n",
       "      <td>105</td>\n",
       "      <td>-125</td>\n",
       "      <td>0.906051</td>\n",
       "      <td>0.093949</td>\n",
       "      <td>0</td>\n",
       "    </tr>\n",
       "  </tbody>\n",
       "</table>\n",
       "<p>200 rows × 5 columns</p>\n",
       "</div>"
      ],
      "text/plain": [
       "     t1_odds  t2_odds   t1_prob   t2_prob  winner\n",
       "0       -130      110  0.983870  0.016130       0\n",
       "1       -137      117  0.979528  0.020472       1\n",
       "2       -178      157  0.288337  0.711663       1\n",
       "3       -178      157  0.854585  0.145415       1\n",
       "4        125     -145  0.820150  0.179850       0\n",
       "..       ...      ...       ...       ...     ...\n",
       "195     -230      180  0.933261  0.066739       1\n",
       "196      180     -230  0.466177  0.533823       1\n",
       "197     -103     -117  0.908782  0.091218       0\n",
       "198     -140      120  0.928556  0.071444       0\n",
       "199      105     -125  0.906051  0.093949       0\n",
       "\n",
       "[200 rows x 5 columns]"
      ]
     },
     "metadata": {},
     "output_type": "display_data"
    },
    {
     "name": "stdout",
     "output_type": "stream",
     "text": [
      "\n",
      "          Number of matches: 200\n",
      "          Number of bets: 123\n",
      "          Number of winning bets: 53\n",
      "          Number of losing bets: 70\n",
      "          Number of underdog bets: 89\n",
      "          Number of underdog wins: 35\n",
      "          Number of underdog losses: 54\n",
      "          Number of Favorite bets: 32\n",
      "          Number of favorite wins: 18\n",
      "          Number of favorite losses: 14\n",
      "          Number of even bets: 2\n",
      "          Number of even wins: 0\n",
      "          Number of even losses: 2\n",
      "          Profit: -449.30925740542546\n",
      "          Profit per bet: -3.652920791914028\n",
      "          Profit per match: -2.2465462870271273\n",
      "          \n",
      "          \n"
     ]
    },
    {
     "data": {
      "text/plain": [
       "(3480, 37)"
      ]
     },
     "metadata": {},
     "output_type": "display_data"
    },
    {
     "data": {
      "text/plain": [
       "(3480,)"
      ]
     },
     "metadata": {},
     "output_type": "display_data"
    },
    {
     "data": {
      "text/plain": [
       "(3480, 2)"
      ]
     },
     "metadata": {},
     "output_type": "display_data"
    },
    {
     "data": {
      "text/plain": [
       "(198, 37)"
      ]
     },
     "metadata": {},
     "output_type": "display_data"
    },
    {
     "data": {
      "text/plain": [
       "(198,)"
      ]
     },
     "metadata": {},
     "output_type": "display_data"
    },
    {
     "data": {
      "text/plain": [
       "(198, 2)"
      ]
     },
     "metadata": {},
     "output_type": "display_data"
    },
    {
     "data": {
      "text/html": [
       "<div>\n",
       "<style scoped>\n",
       "    .dataframe tbody tr th:only-of-type {\n",
       "        vertical-align: middle;\n",
       "    }\n",
       "\n",
       "    .dataframe tbody tr th {\n",
       "        vertical-align: top;\n",
       "    }\n",
       "\n",
       "    .dataframe thead th {\n",
       "        text-align: right;\n",
       "    }\n",
       "</style>\n",
       "<table border=\"1\" class=\"dataframe\">\n",
       "  <thead>\n",
       "    <tr style=\"text-align: right;\">\n",
       "      <th></th>\n",
       "      <th>t1_odds</th>\n",
       "      <th>t2_odds</th>\n",
       "      <th>t1_prob</th>\n",
       "      <th>t2_prob</th>\n",
       "      <th>winner</th>\n",
       "    </tr>\n",
       "  </thead>\n",
       "  <tbody>\n",
       "    <tr>\n",
       "      <th>0</th>\n",
       "      <td>-130</td>\n",
       "      <td>110</td>\n",
       "      <td>0.974076</td>\n",
       "      <td>0.025924</td>\n",
       "      <td>0</td>\n",
       "    </tr>\n",
       "    <tr>\n",
       "      <th>1</th>\n",
       "      <td>-137</td>\n",
       "      <td>117</td>\n",
       "      <td>0.976458</td>\n",
       "      <td>0.023542</td>\n",
       "      <td>1</td>\n",
       "    </tr>\n",
       "    <tr>\n",
       "      <th>2</th>\n",
       "      <td>-178</td>\n",
       "      <td>157</td>\n",
       "      <td>0.863522</td>\n",
       "      <td>0.136478</td>\n",
       "      <td>1</td>\n",
       "    </tr>\n",
       "    <tr>\n",
       "      <th>3</th>\n",
       "      <td>-178</td>\n",
       "      <td>157</td>\n",
       "      <td>0.755315</td>\n",
       "      <td>0.244685</td>\n",
       "      <td>1</td>\n",
       "    </tr>\n",
       "    <tr>\n",
       "      <th>4</th>\n",
       "      <td>125</td>\n",
       "      <td>-145</td>\n",
       "      <td>0.316230</td>\n",
       "      <td>0.683770</td>\n",
       "      <td>0</td>\n",
       "    </tr>\n",
       "    <tr>\n",
       "      <th>...</th>\n",
       "      <td>...</td>\n",
       "      <td>...</td>\n",
       "      <td>...</td>\n",
       "      <td>...</td>\n",
       "      <td>...</td>\n",
       "    </tr>\n",
       "    <tr>\n",
       "      <th>193</th>\n",
       "      <td>-230</td>\n",
       "      <td>180</td>\n",
       "      <td>0.893526</td>\n",
       "      <td>0.106474</td>\n",
       "      <td>1</td>\n",
       "    </tr>\n",
       "    <tr>\n",
       "      <th>194</th>\n",
       "      <td>180</td>\n",
       "      <td>-230</td>\n",
       "      <td>0.553672</td>\n",
       "      <td>0.446328</td>\n",
       "      <td>1</td>\n",
       "    </tr>\n",
       "    <tr>\n",
       "      <th>195</th>\n",
       "      <td>-103</td>\n",
       "      <td>-117</td>\n",
       "      <td>0.754366</td>\n",
       "      <td>0.245634</td>\n",
       "      <td>0</td>\n",
       "    </tr>\n",
       "    <tr>\n",
       "      <th>196</th>\n",
       "      <td>-140</td>\n",
       "      <td>120</td>\n",
       "      <td>0.496672</td>\n",
       "      <td>0.503328</td>\n",
       "      <td>0</td>\n",
       "    </tr>\n",
       "    <tr>\n",
       "      <th>197</th>\n",
       "      <td>105</td>\n",
       "      <td>-125</td>\n",
       "      <td>0.813694</td>\n",
       "      <td>0.186306</td>\n",
       "      <td>0</td>\n",
       "    </tr>\n",
       "  </tbody>\n",
       "</table>\n",
       "<p>198 rows × 5 columns</p>\n",
       "</div>"
      ],
      "text/plain": [
       "     t1_odds  t2_odds   t1_prob   t2_prob  winner\n",
       "0       -130      110  0.974076  0.025924       0\n",
       "1       -137      117  0.976458  0.023542       1\n",
       "2       -178      157  0.863522  0.136478       1\n",
       "3       -178      157  0.755315  0.244685       1\n",
       "4        125     -145  0.316230  0.683770       0\n",
       "..       ...      ...       ...       ...     ...\n",
       "193     -230      180  0.893526  0.106474       1\n",
       "194      180     -230  0.553672  0.446328       1\n",
       "195     -103     -117  0.754366  0.245634       0\n",
       "196     -140      120  0.496672  0.503328       0\n",
       "197      105     -125  0.813694  0.186306       0\n",
       "\n",
       "[198 rows x 5 columns]"
      ]
     },
     "metadata": {},
     "output_type": "display_data"
    },
    {
     "name": "stdout",
     "output_type": "stream",
     "text": [
      "\n",
      "          Number of matches: 198\n",
      "          Number of bets: 192\n",
      "          Number of winning bets: 104\n",
      "          Number of losing bets: 88\n",
      "          Number of underdog bets: 77\n",
      "          Number of underdog wins: 35\n",
      "          Number of underdog losses: 42\n",
      "          Number of Favorite bets: 112\n",
      "          Number of favorite wins: 69\n",
      "          Number of favorite losses: 43\n",
      "          Number of even bets: 3\n",
      "          Number of even wins: 0\n",
      "          Number of even losses: 3\n",
      "          Profit: -359.95819873511977\n",
      "          Profit per bet: -1.8747822850787488\n",
      "          Profit per match: -1.817970700682423\n",
      "          \n",
      "          \n"
     ]
    },
    {
     "data": {
      "text/plain": [
       "(4521, 10)"
      ]
     },
     "metadata": {},
     "output_type": "display_data"
    },
    {
     "data": {
      "text/plain": [
       "(4521,)"
      ]
     },
     "metadata": {},
     "output_type": "display_data"
    },
    {
     "data": {
      "text/plain": [
       "(4521, 2)"
      ]
     },
     "metadata": {},
     "output_type": "display_data"
    },
    {
     "data": {
      "text/plain": [
       "(200, 10)"
      ]
     },
     "metadata": {},
     "output_type": "display_data"
    },
    {
     "data": {
      "text/plain": [
       "(200,)"
      ]
     },
     "metadata": {},
     "output_type": "display_data"
    },
    {
     "data": {
      "text/plain": [
       "(200, 2)"
      ]
     },
     "metadata": {},
     "output_type": "display_data"
    },
    {
     "data": {
      "text/html": [
       "<div>\n",
       "<style scoped>\n",
       "    .dataframe tbody tr th:only-of-type {\n",
       "        vertical-align: middle;\n",
       "    }\n",
       "\n",
       "    .dataframe tbody tr th {\n",
       "        vertical-align: top;\n",
       "    }\n",
       "\n",
       "    .dataframe thead th {\n",
       "        text-align: right;\n",
       "    }\n",
       "</style>\n",
       "<table border=\"1\" class=\"dataframe\">\n",
       "  <thead>\n",
       "    <tr style=\"text-align: right;\">\n",
       "      <th></th>\n",
       "      <th>t1_odds</th>\n",
       "      <th>t2_odds</th>\n",
       "      <th>t1_prob</th>\n",
       "      <th>t2_prob</th>\n",
       "      <th>winner</th>\n",
       "    </tr>\n",
       "  </thead>\n",
       "  <tbody>\n",
       "    <tr>\n",
       "      <th>0</th>\n",
       "      <td>-130</td>\n",
       "      <td>110</td>\n",
       "      <td>0.551310</td>\n",
       "      <td>0.448690</td>\n",
       "      <td>0</td>\n",
       "    </tr>\n",
       "    <tr>\n",
       "      <th>1</th>\n",
       "      <td>-137</td>\n",
       "      <td>117</td>\n",
       "      <td>0.590322</td>\n",
       "      <td>0.409678</td>\n",
       "      <td>1</td>\n",
       "    </tr>\n",
       "    <tr>\n",
       "      <th>2</th>\n",
       "      <td>-178</td>\n",
       "      <td>157</td>\n",
       "      <td>0.626362</td>\n",
       "      <td>0.373638</td>\n",
       "      <td>1</td>\n",
       "    </tr>\n",
       "    <tr>\n",
       "      <th>3</th>\n",
       "      <td>-178</td>\n",
       "      <td>157</td>\n",
       "      <td>0.621958</td>\n",
       "      <td>0.378042</td>\n",
       "      <td>1</td>\n",
       "    </tr>\n",
       "    <tr>\n",
       "      <th>4</th>\n",
       "      <td>125</td>\n",
       "      <td>-145</td>\n",
       "      <td>0.479536</td>\n",
       "      <td>0.520464</td>\n",
       "      <td>0</td>\n",
       "    </tr>\n",
       "    <tr>\n",
       "      <th>...</th>\n",
       "      <td>...</td>\n",
       "      <td>...</td>\n",
       "      <td>...</td>\n",
       "      <td>...</td>\n",
       "      <td>...</td>\n",
       "    </tr>\n",
       "    <tr>\n",
       "      <th>195</th>\n",
       "      <td>-230</td>\n",
       "      <td>180</td>\n",
       "      <td>0.653596</td>\n",
       "      <td>0.346404</td>\n",
       "      <td>1</td>\n",
       "    </tr>\n",
       "    <tr>\n",
       "      <th>196</th>\n",
       "      <td>180</td>\n",
       "      <td>-230</td>\n",
       "      <td>0.386368</td>\n",
       "      <td>0.613632</td>\n",
       "      <td>1</td>\n",
       "    </tr>\n",
       "    <tr>\n",
       "      <th>197</th>\n",
       "      <td>-103</td>\n",
       "      <td>-117</td>\n",
       "      <td>0.500630</td>\n",
       "      <td>0.499370</td>\n",
       "      <td>0</td>\n",
       "    </tr>\n",
       "    <tr>\n",
       "      <th>198</th>\n",
       "      <td>-140</td>\n",
       "      <td>120</td>\n",
       "      <td>0.568305</td>\n",
       "      <td>0.431695</td>\n",
       "      <td>0</td>\n",
       "    </tr>\n",
       "    <tr>\n",
       "      <th>199</th>\n",
       "      <td>105</td>\n",
       "      <td>-125</td>\n",
       "      <td>0.520765</td>\n",
       "      <td>0.479235</td>\n",
       "      <td>0</td>\n",
       "    </tr>\n",
       "  </tbody>\n",
       "</table>\n",
       "<p>200 rows × 5 columns</p>\n",
       "</div>"
      ],
      "text/plain": [
       "     t1_odds  t2_odds   t1_prob   t2_prob  winner\n",
       "0       -130      110  0.551310  0.448690       0\n",
       "1       -137      117  0.590322  0.409678       1\n",
       "2       -178      157  0.626362  0.373638       1\n",
       "3       -178      157  0.621958  0.378042       1\n",
       "4        125     -145  0.479536  0.520464       0\n",
       "..       ...      ...       ...       ...     ...\n",
       "195     -230      180  0.653596  0.346404       1\n",
       "196      180     -230  0.386368  0.613632       1\n",
       "197     -103     -117  0.500630  0.499370       0\n",
       "198     -140      120  0.568305  0.431695       0\n",
       "199      105     -125  0.520765  0.479235       0\n",
       "\n",
       "[200 rows x 5 columns]"
      ]
     },
     "metadata": {},
     "output_type": "display_data"
    },
    {
     "name": "stdout",
     "output_type": "stream",
     "text": [
      "\n",
      "          Number of matches: 200\n",
      "          Number of bets: 86\n",
      "          Number of winning bets: 44\n",
      "          Number of losing bets: 42\n",
      "          Number of underdog bets: 76\n",
      "          Number of underdog wins: 36\n",
      "          Number of underdog losses: 40\n",
      "          Number of Favorite bets: 10\n",
      "          Number of favorite wins: 8\n",
      "          Number of favorite losses: 2\n",
      "          Number of even bets: 0\n",
      "          Number of even wins: 0\n",
      "          Number of even losses: 0\n",
      "          Profit: 1205.6523569028263\n",
      "          Profit per bet: 14.019213452358446\n",
      "          Profit per match: 6.0282617845141315\n",
      "          \n",
      "          \n"
     ]
    },
    {
     "data": {
      "text/plain": [
       "(3689, 14)"
      ]
     },
     "metadata": {},
     "output_type": "display_data"
    },
    {
     "data": {
      "text/plain": [
       "(3689,)"
      ]
     },
     "metadata": {},
     "output_type": "display_data"
    },
    {
     "data": {
      "text/plain": [
       "(3689, 2)"
      ]
     },
     "metadata": {},
     "output_type": "display_data"
    },
    {
     "data": {
      "text/plain": [
       "(200, 14)"
      ]
     },
     "metadata": {},
     "output_type": "display_data"
    },
    {
     "data": {
      "text/plain": [
       "(200,)"
      ]
     },
     "metadata": {},
     "output_type": "display_data"
    },
    {
     "data": {
      "text/plain": [
       "(200, 2)"
      ]
     },
     "metadata": {},
     "output_type": "display_data"
    },
    {
     "data": {
      "text/html": [
       "<div>\n",
       "<style scoped>\n",
       "    .dataframe tbody tr th:only-of-type {\n",
       "        vertical-align: middle;\n",
       "    }\n",
       "\n",
       "    .dataframe tbody tr th {\n",
       "        vertical-align: top;\n",
       "    }\n",
       "\n",
       "    .dataframe thead th {\n",
       "        text-align: right;\n",
       "    }\n",
       "</style>\n",
       "<table border=\"1\" class=\"dataframe\">\n",
       "  <thead>\n",
       "    <tr style=\"text-align: right;\">\n",
       "      <th></th>\n",
       "      <th>t1_odds</th>\n",
       "      <th>t2_odds</th>\n",
       "      <th>t1_prob</th>\n",
       "      <th>t2_prob</th>\n",
       "      <th>winner</th>\n",
       "    </tr>\n",
       "  </thead>\n",
       "  <tbody>\n",
       "    <tr>\n",
       "      <th>0</th>\n",
       "      <td>-130</td>\n",
       "      <td>110</td>\n",
       "      <td>0.750466</td>\n",
       "      <td>0.249534</td>\n",
       "      <td>0</td>\n",
       "    </tr>\n",
       "    <tr>\n",
       "      <th>1</th>\n",
       "      <td>-137</td>\n",
       "      <td>117</td>\n",
       "      <td>0.612561</td>\n",
       "      <td>0.387439</td>\n",
       "      <td>1</td>\n",
       "    </tr>\n",
       "    <tr>\n",
       "      <th>2</th>\n",
       "      <td>-178</td>\n",
       "      <td>157</td>\n",
       "      <td>0.726267</td>\n",
       "      <td>0.273733</td>\n",
       "      <td>1</td>\n",
       "    </tr>\n",
       "    <tr>\n",
       "      <th>3</th>\n",
       "      <td>-178</td>\n",
       "      <td>157</td>\n",
       "      <td>0.691534</td>\n",
       "      <td>0.308466</td>\n",
       "      <td>1</td>\n",
       "    </tr>\n",
       "    <tr>\n",
       "      <th>4</th>\n",
       "      <td>125</td>\n",
       "      <td>-145</td>\n",
       "      <td>0.449343</td>\n",
       "      <td>0.550657</td>\n",
       "      <td>0</td>\n",
       "    </tr>\n",
       "    <tr>\n",
       "      <th>...</th>\n",
       "      <td>...</td>\n",
       "      <td>...</td>\n",
       "      <td>...</td>\n",
       "      <td>...</td>\n",
       "      <td>...</td>\n",
       "    </tr>\n",
       "    <tr>\n",
       "      <th>195</th>\n",
       "      <td>-230</td>\n",
       "      <td>180</td>\n",
       "      <td>0.809284</td>\n",
       "      <td>0.190716</td>\n",
       "      <td>1</td>\n",
       "    </tr>\n",
       "    <tr>\n",
       "      <th>196</th>\n",
       "      <td>180</td>\n",
       "      <td>-230</td>\n",
       "      <td>0.474008</td>\n",
       "      <td>0.525992</td>\n",
       "      <td>1</td>\n",
       "    </tr>\n",
       "    <tr>\n",
       "      <th>197</th>\n",
       "      <td>-103</td>\n",
       "      <td>-117</td>\n",
       "      <td>0.736586</td>\n",
       "      <td>0.263414</td>\n",
       "      <td>0</td>\n",
       "    </tr>\n",
       "    <tr>\n",
       "      <th>198</th>\n",
       "      <td>-140</td>\n",
       "      <td>120</td>\n",
       "      <td>0.764744</td>\n",
       "      <td>0.235256</td>\n",
       "      <td>0</td>\n",
       "    </tr>\n",
       "    <tr>\n",
       "      <th>199</th>\n",
       "      <td>105</td>\n",
       "      <td>-125</td>\n",
       "      <td>0.606243</td>\n",
       "      <td>0.393757</td>\n",
       "      <td>0</td>\n",
       "    </tr>\n",
       "  </tbody>\n",
       "</table>\n",
       "<p>200 rows × 5 columns</p>\n",
       "</div>"
      ],
      "text/plain": [
       "     t1_odds  t2_odds   t1_prob   t2_prob  winner\n",
       "0       -130      110  0.750466  0.249534       0\n",
       "1       -137      117  0.612561  0.387439       1\n",
       "2       -178      157  0.726267  0.273733       1\n",
       "3       -178      157  0.691534  0.308466       1\n",
       "4        125     -145  0.449343  0.550657       0\n",
       "..       ...      ...       ...       ...     ...\n",
       "195     -230      180  0.809284  0.190716       1\n",
       "196      180     -230  0.474008  0.525992       1\n",
       "197     -103     -117  0.736586  0.263414       0\n",
       "198     -140      120  0.764744  0.235256       0\n",
       "199      105     -125  0.606243  0.393757       0\n",
       "\n",
       "[200 rows x 5 columns]"
      ]
     },
     "metadata": {},
     "output_type": "display_data"
    },
    {
     "name": "stdout",
     "output_type": "stream",
     "text": [
      "\n",
      "          Number of matches: 200\n",
      "          Number of bets: 188\n",
      "          Number of winning bets: 101\n",
      "          Number of losing bets: 87\n",
      "          Number of underdog bets: 87\n",
      "          Number of underdog wins: 39\n",
      "          Number of underdog losses: 48\n",
      "          Number of Favorite bets: 98\n",
      "          Number of favorite wins: 62\n",
      "          Number of favorite losses: 36\n",
      "          Number of even bets: 3\n",
      "          Number of even wins: 0\n",
      "          Number of even losses: 3\n",
      "          Profit: 385.06251390004115\n",
      "          Profit per bet: 2.0482048611704315\n",
      "          Profit per match: 1.9253125695002058\n",
      "          \n",
      "          \n"
     ]
    },
    {
     "data": {
      "text/plain": [
       "(3689, 18)"
      ]
     },
     "metadata": {},
     "output_type": "display_data"
    },
    {
     "data": {
      "text/plain": [
       "(3689,)"
      ]
     },
     "metadata": {},
     "output_type": "display_data"
    },
    {
     "data": {
      "text/plain": [
       "(3689, 2)"
      ]
     },
     "metadata": {},
     "output_type": "display_data"
    },
    {
     "data": {
      "text/plain": [
       "(200, 18)"
      ]
     },
     "metadata": {},
     "output_type": "display_data"
    },
    {
     "data": {
      "text/plain": [
       "(200,)"
      ]
     },
     "metadata": {},
     "output_type": "display_data"
    },
    {
     "data": {
      "text/plain": [
       "(200, 2)"
      ]
     },
     "metadata": {},
     "output_type": "display_data"
    },
    {
     "data": {
      "text/html": [
       "<div>\n",
       "<style scoped>\n",
       "    .dataframe tbody tr th:only-of-type {\n",
       "        vertical-align: middle;\n",
       "    }\n",
       "\n",
       "    .dataframe tbody tr th {\n",
       "        vertical-align: top;\n",
       "    }\n",
       "\n",
       "    .dataframe thead th {\n",
       "        text-align: right;\n",
       "    }\n",
       "</style>\n",
       "<table border=\"1\" class=\"dataframe\">\n",
       "  <thead>\n",
       "    <tr style=\"text-align: right;\">\n",
       "      <th></th>\n",
       "      <th>t1_odds</th>\n",
       "      <th>t2_odds</th>\n",
       "      <th>t1_prob</th>\n",
       "      <th>t2_prob</th>\n",
       "      <th>winner</th>\n",
       "    </tr>\n",
       "  </thead>\n",
       "  <tbody>\n",
       "    <tr>\n",
       "      <th>0</th>\n",
       "      <td>-130</td>\n",
       "      <td>110</td>\n",
       "      <td>0.859557</td>\n",
       "      <td>0.140443</td>\n",
       "      <td>0</td>\n",
       "    </tr>\n",
       "    <tr>\n",
       "      <th>1</th>\n",
       "      <td>-137</td>\n",
       "      <td>117</td>\n",
       "      <td>0.555741</td>\n",
       "      <td>0.444259</td>\n",
       "      <td>1</td>\n",
       "    </tr>\n",
       "    <tr>\n",
       "      <th>2</th>\n",
       "      <td>-178</td>\n",
       "      <td>157</td>\n",
       "      <td>0.689291</td>\n",
       "      <td>0.310709</td>\n",
       "      <td>1</td>\n",
       "    </tr>\n",
       "    <tr>\n",
       "      <th>3</th>\n",
       "      <td>-178</td>\n",
       "      <td>157</td>\n",
       "      <td>0.567995</td>\n",
       "      <td>0.432005</td>\n",
       "      <td>1</td>\n",
       "    </tr>\n",
       "    <tr>\n",
       "      <th>4</th>\n",
       "      <td>125</td>\n",
       "      <td>-145</td>\n",
       "      <td>0.360016</td>\n",
       "      <td>0.639984</td>\n",
       "      <td>0</td>\n",
       "    </tr>\n",
       "    <tr>\n",
       "      <th>...</th>\n",
       "      <td>...</td>\n",
       "      <td>...</td>\n",
       "      <td>...</td>\n",
       "      <td>...</td>\n",
       "      <td>...</td>\n",
       "    </tr>\n",
       "    <tr>\n",
       "      <th>195</th>\n",
       "      <td>-230</td>\n",
       "      <td>180</td>\n",
       "      <td>0.773221</td>\n",
       "      <td>0.226779</td>\n",
       "      <td>1</td>\n",
       "    </tr>\n",
       "    <tr>\n",
       "      <th>196</th>\n",
       "      <td>180</td>\n",
       "      <td>-230</td>\n",
       "      <td>0.371897</td>\n",
       "      <td>0.628103</td>\n",
       "      <td>1</td>\n",
       "    </tr>\n",
       "    <tr>\n",
       "      <th>197</th>\n",
       "      <td>-103</td>\n",
       "      <td>-117</td>\n",
       "      <td>0.699165</td>\n",
       "      <td>0.300835</td>\n",
       "      <td>0</td>\n",
       "    </tr>\n",
       "    <tr>\n",
       "      <th>198</th>\n",
       "      <td>-140</td>\n",
       "      <td>120</td>\n",
       "      <td>0.997601</td>\n",
       "      <td>0.002399</td>\n",
       "      <td>0</td>\n",
       "    </tr>\n",
       "    <tr>\n",
       "      <th>199</th>\n",
       "      <td>105</td>\n",
       "      <td>-125</td>\n",
       "      <td>0.506390</td>\n",
       "      <td>0.493610</td>\n",
       "      <td>0</td>\n",
       "    </tr>\n",
       "  </tbody>\n",
       "</table>\n",
       "<p>200 rows × 5 columns</p>\n",
       "</div>"
      ],
      "text/plain": [
       "     t1_odds  t2_odds   t1_prob   t2_prob  winner\n",
       "0       -130      110  0.859557  0.140443       0\n",
       "1       -137      117  0.555741  0.444259       1\n",
       "2       -178      157  0.689291  0.310709       1\n",
       "3       -178      157  0.567995  0.432005       1\n",
       "4        125     -145  0.360016  0.639984       0\n",
       "..       ...      ...       ...       ...     ...\n",
       "195     -230      180  0.773221  0.226779       1\n",
       "196      180     -230  0.371897  0.628103       1\n",
       "197     -103     -117  0.699165  0.300835       0\n",
       "198     -140      120  0.997601  0.002399       0\n",
       "199      105     -125  0.506390  0.493610       0\n",
       "\n",
       "[200 rows x 5 columns]"
      ]
     },
     "metadata": {},
     "output_type": "display_data"
    },
    {
     "name": "stdout",
     "output_type": "stream",
     "text": [
      "\n",
      "          Number of matches: 200\n",
      "          Number of bets: 183\n",
      "          Number of winning bets: 98\n",
      "          Number of losing bets: 85\n",
      "          Number of underdog bets: 89\n",
      "          Number of underdog wins: 39\n",
      "          Number of underdog losses: 50\n",
      "          Number of Favorite bets: 91\n",
      "          Number of favorite wins: 59\n",
      "          Number of favorite losses: 32\n",
      "          Number of even bets: 3\n",
      "          Number of even wins: 0\n",
      "          Number of even losses: 3\n",
      "          Profit: 990.0325213103214\n",
      "          Profit per bet: 5.410013777652029\n",
      "          Profit per match: 4.950162606551607\n",
      "          \n",
      "          \n"
     ]
    },
    {
     "data": {
      "text/plain": [
       "(4521, 172)"
      ]
     },
     "metadata": {},
     "output_type": "display_data"
    },
    {
     "data": {
      "text/plain": [
       "(4521,)"
      ]
     },
     "metadata": {},
     "output_type": "display_data"
    },
    {
     "data": {
      "text/plain": [
       "(4521, 2)"
      ]
     },
     "metadata": {},
     "output_type": "display_data"
    },
    {
     "data": {
      "text/plain": [
       "(200, 172)"
      ]
     },
     "metadata": {},
     "output_type": "display_data"
    },
    {
     "data": {
      "text/plain": [
       "(200,)"
      ]
     },
     "metadata": {},
     "output_type": "display_data"
    },
    {
     "data": {
      "text/plain": [
       "(200, 2)"
      ]
     },
     "metadata": {},
     "output_type": "display_data"
    },
    {
     "data": {
      "text/html": [
       "<div>\n",
       "<style scoped>\n",
       "    .dataframe tbody tr th:only-of-type {\n",
       "        vertical-align: middle;\n",
       "    }\n",
       "\n",
       "    .dataframe tbody tr th {\n",
       "        vertical-align: top;\n",
       "    }\n",
       "\n",
       "    .dataframe thead th {\n",
       "        text-align: right;\n",
       "    }\n",
       "</style>\n",
       "<table border=\"1\" class=\"dataframe\">\n",
       "  <thead>\n",
       "    <tr style=\"text-align: right;\">\n",
       "      <th></th>\n",
       "      <th>t1_odds</th>\n",
       "      <th>t2_odds</th>\n",
       "      <th>t1_prob</th>\n",
       "      <th>t2_prob</th>\n",
       "      <th>winner</th>\n",
       "    </tr>\n",
       "  </thead>\n",
       "  <tbody>\n",
       "    <tr>\n",
       "      <th>0</th>\n",
       "      <td>-130</td>\n",
       "      <td>110</td>\n",
       "      <td>0.519126</td>\n",
       "      <td>0.480874</td>\n",
       "      <td>0</td>\n",
       "    </tr>\n",
       "    <tr>\n",
       "      <th>1</th>\n",
       "      <td>-137</td>\n",
       "      <td>117</td>\n",
       "      <td>0.623060</td>\n",
       "      <td>0.376940</td>\n",
       "      <td>1</td>\n",
       "    </tr>\n",
       "    <tr>\n",
       "      <th>2</th>\n",
       "      <td>-178</td>\n",
       "      <td>157</td>\n",
       "      <td>0.625476</td>\n",
       "      <td>0.374524</td>\n",
       "      <td>1</td>\n",
       "    </tr>\n",
       "    <tr>\n",
       "      <th>3</th>\n",
       "      <td>-178</td>\n",
       "      <td>157</td>\n",
       "      <td>0.619219</td>\n",
       "      <td>0.380781</td>\n",
       "      <td>1</td>\n",
       "    </tr>\n",
       "    <tr>\n",
       "      <th>4</th>\n",
       "      <td>125</td>\n",
       "      <td>-145</td>\n",
       "      <td>0.497708</td>\n",
       "      <td>0.502292</td>\n",
       "      <td>0</td>\n",
       "    </tr>\n",
       "    <tr>\n",
       "      <th>...</th>\n",
       "      <td>...</td>\n",
       "      <td>...</td>\n",
       "      <td>...</td>\n",
       "      <td>...</td>\n",
       "      <td>...</td>\n",
       "    </tr>\n",
       "    <tr>\n",
       "      <th>195</th>\n",
       "      <td>-230</td>\n",
       "      <td>180</td>\n",
       "      <td>0.759077</td>\n",
       "      <td>0.240923</td>\n",
       "      <td>1</td>\n",
       "    </tr>\n",
       "    <tr>\n",
       "      <th>196</th>\n",
       "      <td>180</td>\n",
       "      <td>-230</td>\n",
       "      <td>0.358944</td>\n",
       "      <td>0.641056</td>\n",
       "      <td>1</td>\n",
       "    </tr>\n",
       "    <tr>\n",
       "      <th>197</th>\n",
       "      <td>-103</td>\n",
       "      <td>-117</td>\n",
       "      <td>0.564181</td>\n",
       "      <td>0.435819</td>\n",
       "      <td>0</td>\n",
       "    </tr>\n",
       "    <tr>\n",
       "      <th>198</th>\n",
       "      <td>-140</td>\n",
       "      <td>120</td>\n",
       "      <td>0.536870</td>\n",
       "      <td>0.463130</td>\n",
       "      <td>0</td>\n",
       "    </tr>\n",
       "    <tr>\n",
       "      <th>199</th>\n",
       "      <td>105</td>\n",
       "      <td>-125</td>\n",
       "      <td>0.489670</td>\n",
       "      <td>0.510330</td>\n",
       "      <td>0</td>\n",
       "    </tr>\n",
       "  </tbody>\n",
       "</table>\n",
       "<p>200 rows × 5 columns</p>\n",
       "</div>"
      ],
      "text/plain": [
       "     t1_odds  t2_odds   t1_prob   t2_prob  winner\n",
       "0       -130      110  0.519126  0.480874       0\n",
       "1       -137      117  0.623060  0.376940       1\n",
       "2       -178      157  0.625476  0.374524       1\n",
       "3       -178      157  0.619219  0.380781       1\n",
       "4        125     -145  0.497708  0.502292       0\n",
       "..       ...      ...       ...       ...     ...\n",
       "195     -230      180  0.759077  0.240923       1\n",
       "196      180     -230  0.358944  0.641056       1\n",
       "197     -103     -117  0.564181  0.435819       0\n",
       "198     -140      120  0.536870  0.463130       0\n",
       "199      105     -125  0.489670  0.510330       0\n",
       "\n",
       "[200 rows x 5 columns]"
      ]
     },
     "metadata": {},
     "output_type": "display_data"
    },
    {
     "name": "stdout",
     "output_type": "stream",
     "text": [
      "\n",
      "          Number of matches: 200\n",
      "          Number of bets: 156\n",
      "          Number of winning bets: 81\n",
      "          Number of losing bets: 75\n",
      "          Number of underdog bets: 80\n",
      "          Number of underdog wins: 35\n",
      "          Number of underdog losses: 45\n",
      "          Number of Favorite bets: 73\n",
      "          Number of favorite wins: 46\n",
      "          Number of favorite losses: 27\n",
      "          Number of even bets: 3\n",
      "          Number of even wins: 0\n",
      "          Number of even losses: 3\n",
      "          Profit: -469.6786710665882\n",
      "          Profit per bet: -3.010760711965309\n",
      "          Profit per match: -2.348393355332941\n",
      "          \n",
      "          \n"
     ]
    },
    {
     "data": {
      "text/plain": [
       "(3578, 22)"
      ]
     },
     "metadata": {},
     "output_type": "display_data"
    },
    {
     "data": {
      "text/plain": [
       "(3578,)"
      ]
     },
     "metadata": {},
     "output_type": "display_data"
    },
    {
     "data": {
      "text/plain": [
       "(3578, 2)"
      ]
     },
     "metadata": {},
     "output_type": "display_data"
    },
    {
     "data": {
      "text/plain": [
       "(200, 22)"
      ]
     },
     "metadata": {},
     "output_type": "display_data"
    },
    {
     "data": {
      "text/plain": [
       "(200,)"
      ]
     },
     "metadata": {},
     "output_type": "display_data"
    },
    {
     "data": {
      "text/plain": [
       "(200, 2)"
      ]
     },
     "metadata": {},
     "output_type": "display_data"
    },
    {
     "data": {
      "text/html": [
       "<div>\n",
       "<style scoped>\n",
       "    .dataframe tbody tr th:only-of-type {\n",
       "        vertical-align: middle;\n",
       "    }\n",
       "\n",
       "    .dataframe tbody tr th {\n",
       "        vertical-align: top;\n",
       "    }\n",
       "\n",
       "    .dataframe thead th {\n",
       "        text-align: right;\n",
       "    }\n",
       "</style>\n",
       "<table border=\"1\" class=\"dataframe\">\n",
       "  <thead>\n",
       "    <tr style=\"text-align: right;\">\n",
       "      <th></th>\n",
       "      <th>t1_odds</th>\n",
       "      <th>t2_odds</th>\n",
       "      <th>t1_prob</th>\n",
       "      <th>t2_prob</th>\n",
       "      <th>winner</th>\n",
       "    </tr>\n",
       "  </thead>\n",
       "  <tbody>\n",
       "    <tr>\n",
       "      <th>0</th>\n",
       "      <td>-130</td>\n",
       "      <td>110</td>\n",
       "      <td>0.753256</td>\n",
       "      <td>0.246744</td>\n",
       "      <td>0</td>\n",
       "    </tr>\n",
       "    <tr>\n",
       "      <th>1</th>\n",
       "      <td>-137</td>\n",
       "      <td>117</td>\n",
       "      <td>0.718185</td>\n",
       "      <td>0.281815</td>\n",
       "      <td>1</td>\n",
       "    </tr>\n",
       "    <tr>\n",
       "      <th>2</th>\n",
       "      <td>-178</td>\n",
       "      <td>157</td>\n",
       "      <td>0.649098</td>\n",
       "      <td>0.350902</td>\n",
       "      <td>1</td>\n",
       "    </tr>\n",
       "    <tr>\n",
       "      <th>3</th>\n",
       "      <td>-178</td>\n",
       "      <td>157</td>\n",
       "      <td>0.665261</td>\n",
       "      <td>0.334739</td>\n",
       "      <td>1</td>\n",
       "    </tr>\n",
       "    <tr>\n",
       "      <th>4</th>\n",
       "      <td>125</td>\n",
       "      <td>-145</td>\n",
       "      <td>0.440813</td>\n",
       "      <td>0.559187</td>\n",
       "      <td>0</td>\n",
       "    </tr>\n",
       "    <tr>\n",
       "      <th>...</th>\n",
       "      <td>...</td>\n",
       "      <td>...</td>\n",
       "      <td>...</td>\n",
       "      <td>...</td>\n",
       "      <td>...</td>\n",
       "    </tr>\n",
       "    <tr>\n",
       "      <th>195</th>\n",
       "      <td>-230</td>\n",
       "      <td>180</td>\n",
       "      <td>0.745205</td>\n",
       "      <td>0.254795</td>\n",
       "      <td>1</td>\n",
       "    </tr>\n",
       "    <tr>\n",
       "      <th>196</th>\n",
       "      <td>180</td>\n",
       "      <td>-230</td>\n",
       "      <td>0.417141</td>\n",
       "      <td>0.582859</td>\n",
       "      <td>1</td>\n",
       "    </tr>\n",
       "    <tr>\n",
       "      <th>197</th>\n",
       "      <td>-103</td>\n",
       "      <td>-117</td>\n",
       "      <td>0.735385</td>\n",
       "      <td>0.264615</td>\n",
       "      <td>0</td>\n",
       "    </tr>\n",
       "    <tr>\n",
       "      <th>198</th>\n",
       "      <td>-140</td>\n",
       "      <td>120</td>\n",
       "      <td>0.998081</td>\n",
       "      <td>0.001919</td>\n",
       "      <td>0</td>\n",
       "    </tr>\n",
       "    <tr>\n",
       "      <th>199</th>\n",
       "      <td>105</td>\n",
       "      <td>-125</td>\n",
       "      <td>0.497024</td>\n",
       "      <td>0.502976</td>\n",
       "      <td>0</td>\n",
       "    </tr>\n",
       "  </tbody>\n",
       "</table>\n",
       "<p>200 rows × 5 columns</p>\n",
       "</div>"
      ],
      "text/plain": [
       "     t1_odds  t2_odds   t1_prob   t2_prob  winner\n",
       "0       -130      110  0.753256  0.246744       0\n",
       "1       -137      117  0.718185  0.281815       1\n",
       "2       -178      157  0.649098  0.350902       1\n",
       "3       -178      157  0.665261  0.334739       1\n",
       "4        125     -145  0.440813  0.559187       0\n",
       "..       ...      ...       ...       ...     ...\n",
       "195     -230      180  0.745205  0.254795       1\n",
       "196      180     -230  0.417141  0.582859       1\n",
       "197     -103     -117  0.735385  0.264615       0\n",
       "198     -140      120  0.998081  0.001919       0\n",
       "199      105     -125  0.497024  0.502976       0\n",
       "\n",
       "[200 rows x 5 columns]"
      ]
     },
     "metadata": {},
     "output_type": "display_data"
    },
    {
     "name": "stdout",
     "output_type": "stream",
     "text": [
      "\n",
      "          Number of matches: 200\n",
      "          Number of bets: 182\n",
      "          Number of winning bets: 95\n",
      "          Number of losing bets: 87\n",
      "          Number of underdog bets: 85\n",
      "          Number of underdog wins: 37\n",
      "          Number of underdog losses: 48\n",
      "          Number of Favorite bets: 94\n",
      "          Number of favorite wins: 58\n",
      "          Number of favorite losses: 36\n",
      "          Number of even bets: 3\n",
      "          Number of even wins: 0\n",
      "          Number of even losses: 3\n",
      "          Profit: -372.6349433255963\n",
      "          Profit per bet: -2.0474447435472323\n",
      "          Profit per match: -1.8631747166279815\n",
      "          \n",
      "          \n"
     ]
    },
    {
     "data": {
      "text/plain": [
       "(3578, 24)"
      ]
     },
     "metadata": {},
     "output_type": "display_data"
    },
    {
     "data": {
      "text/plain": [
       "(3578,)"
      ]
     },
     "metadata": {},
     "output_type": "display_data"
    },
    {
     "data": {
      "text/plain": [
       "(3578, 2)"
      ]
     },
     "metadata": {},
     "output_type": "display_data"
    },
    {
     "data": {
      "text/plain": [
       "(200, 24)"
      ]
     },
     "metadata": {},
     "output_type": "display_data"
    },
    {
     "data": {
      "text/plain": [
       "(200,)"
      ]
     },
     "metadata": {},
     "output_type": "display_data"
    },
    {
     "data": {
      "text/plain": [
       "(200, 2)"
      ]
     },
     "metadata": {},
     "output_type": "display_data"
    },
    {
     "data": {
      "text/html": [
       "<div>\n",
       "<style scoped>\n",
       "    .dataframe tbody tr th:only-of-type {\n",
       "        vertical-align: middle;\n",
       "    }\n",
       "\n",
       "    .dataframe tbody tr th {\n",
       "        vertical-align: top;\n",
       "    }\n",
       "\n",
       "    .dataframe thead th {\n",
       "        text-align: right;\n",
       "    }\n",
       "</style>\n",
       "<table border=\"1\" class=\"dataframe\">\n",
       "  <thead>\n",
       "    <tr style=\"text-align: right;\">\n",
       "      <th></th>\n",
       "      <th>t1_odds</th>\n",
       "      <th>t2_odds</th>\n",
       "      <th>t1_prob</th>\n",
       "      <th>t2_prob</th>\n",
       "      <th>winner</th>\n",
       "    </tr>\n",
       "  </thead>\n",
       "  <tbody>\n",
       "    <tr>\n",
       "      <th>0</th>\n",
       "      <td>-130</td>\n",
       "      <td>110</td>\n",
       "      <td>0.778353</td>\n",
       "      <td>0.221647</td>\n",
       "      <td>0</td>\n",
       "    </tr>\n",
       "    <tr>\n",
       "      <th>1</th>\n",
       "      <td>-137</td>\n",
       "      <td>117</td>\n",
       "      <td>0.817840</td>\n",
       "      <td>0.182160</td>\n",
       "      <td>1</td>\n",
       "    </tr>\n",
       "    <tr>\n",
       "      <th>2</th>\n",
       "      <td>-178</td>\n",
       "      <td>157</td>\n",
       "      <td>0.608311</td>\n",
       "      <td>0.391689</td>\n",
       "      <td>1</td>\n",
       "    </tr>\n",
       "    <tr>\n",
       "      <th>3</th>\n",
       "      <td>-178</td>\n",
       "      <td>157</td>\n",
       "      <td>0.601592</td>\n",
       "      <td>0.398408</td>\n",
       "      <td>1</td>\n",
       "    </tr>\n",
       "    <tr>\n",
       "      <th>4</th>\n",
       "      <td>125</td>\n",
       "      <td>-145</td>\n",
       "      <td>0.538037</td>\n",
       "      <td>0.461963</td>\n",
       "      <td>0</td>\n",
       "    </tr>\n",
       "    <tr>\n",
       "      <th>...</th>\n",
       "      <td>...</td>\n",
       "      <td>...</td>\n",
       "      <td>...</td>\n",
       "      <td>...</td>\n",
       "      <td>...</td>\n",
       "    </tr>\n",
       "    <tr>\n",
       "      <th>195</th>\n",
       "      <td>-230</td>\n",
       "      <td>180</td>\n",
       "      <td>0.699421</td>\n",
       "      <td>0.300579</td>\n",
       "      <td>1</td>\n",
       "    </tr>\n",
       "    <tr>\n",
       "      <th>196</th>\n",
       "      <td>180</td>\n",
       "      <td>-230</td>\n",
       "      <td>0.382720</td>\n",
       "      <td>0.617280</td>\n",
       "      <td>1</td>\n",
       "    </tr>\n",
       "    <tr>\n",
       "      <th>197</th>\n",
       "      <td>-103</td>\n",
       "      <td>-117</td>\n",
       "      <td>0.747511</td>\n",
       "      <td>0.252489</td>\n",
       "      <td>0</td>\n",
       "    </tr>\n",
       "    <tr>\n",
       "      <th>198</th>\n",
       "      <td>-140</td>\n",
       "      <td>120</td>\n",
       "      <td>0.997945</td>\n",
       "      <td>0.002055</td>\n",
       "      <td>0</td>\n",
       "    </tr>\n",
       "    <tr>\n",
       "      <th>199</th>\n",
       "      <td>105</td>\n",
       "      <td>-125</td>\n",
       "      <td>0.552217</td>\n",
       "      <td>0.447783</td>\n",
       "      <td>0</td>\n",
       "    </tr>\n",
       "  </tbody>\n",
       "</table>\n",
       "<p>200 rows × 5 columns</p>\n",
       "</div>"
      ],
      "text/plain": [
       "     t1_odds  t2_odds   t1_prob   t2_prob  winner\n",
       "0       -130      110  0.778353  0.221647       0\n",
       "1       -137      117  0.817840  0.182160       1\n",
       "2       -178      157  0.608311  0.391689       1\n",
       "3       -178      157  0.601592  0.398408       1\n",
       "4        125     -145  0.538037  0.461963       0\n",
       "..       ...      ...       ...       ...     ...\n",
       "195     -230      180  0.699421  0.300579       1\n",
       "196      180     -230  0.382720  0.617280       1\n",
       "197     -103     -117  0.747511  0.252489       0\n",
       "198     -140      120  0.997945  0.002055       0\n",
       "199      105     -125  0.552217  0.447783       0\n",
       "\n",
       "[200 rows x 5 columns]"
      ]
     },
     "metadata": {},
     "output_type": "display_data"
    },
    {
     "name": "stdout",
     "output_type": "stream",
     "text": [
      "\n",
      "          Number of matches: 200\n",
      "          Number of bets: 171\n",
      "          Number of winning bets: 87\n",
      "          Number of losing bets: 84\n",
      "          Number of underdog bets: 85\n",
      "          Number of underdog wins: 35\n",
      "          Number of underdog losses: 50\n",
      "          Number of Favorite bets: 83\n",
      "          Number of favorite wins: 52\n",
      "          Number of favorite losses: 31\n",
      "          Number of even bets: 3\n",
      "          Number of even wins: 0\n",
      "          Number of even losses: 3\n",
      "          Profit: -583.4522165214593\n",
      "          Profit per bet: -3.412001266207364\n",
      "          Profit per match: -2.9172610826072964\n",
      "          \n",
      "          \n"
     ]
    },
    {
     "data": {
      "text/plain": [
       "(3577, 22)"
      ]
     },
     "metadata": {},
     "output_type": "display_data"
    },
    {
     "data": {
      "text/plain": [
       "(3577,)"
      ]
     },
     "metadata": {},
     "output_type": "display_data"
    },
    {
     "data": {
      "text/plain": [
       "(3577, 2)"
      ]
     },
     "metadata": {},
     "output_type": "display_data"
    },
    {
     "data": {
      "text/plain": [
       "(200, 22)"
      ]
     },
     "metadata": {},
     "output_type": "display_data"
    },
    {
     "data": {
      "text/plain": [
       "(200,)"
      ]
     },
     "metadata": {},
     "output_type": "display_data"
    },
    {
     "data": {
      "text/plain": [
       "(200, 2)"
      ]
     },
     "metadata": {},
     "output_type": "display_data"
    },
    {
     "data": {
      "text/html": [
       "<div>\n",
       "<style scoped>\n",
       "    .dataframe tbody tr th:only-of-type {\n",
       "        vertical-align: middle;\n",
       "    }\n",
       "\n",
       "    .dataframe tbody tr th {\n",
       "        vertical-align: top;\n",
       "    }\n",
       "\n",
       "    .dataframe thead th {\n",
       "        text-align: right;\n",
       "    }\n",
       "</style>\n",
       "<table border=\"1\" class=\"dataframe\">\n",
       "  <thead>\n",
       "    <tr style=\"text-align: right;\">\n",
       "      <th></th>\n",
       "      <th>t1_odds</th>\n",
       "      <th>t2_odds</th>\n",
       "      <th>t1_prob</th>\n",
       "      <th>t2_prob</th>\n",
       "      <th>winner</th>\n",
       "    </tr>\n",
       "  </thead>\n",
       "  <tbody>\n",
       "    <tr>\n",
       "      <th>0</th>\n",
       "      <td>-130</td>\n",
       "      <td>110</td>\n",
       "      <td>0.758046</td>\n",
       "      <td>0.241954</td>\n",
       "      <td>0</td>\n",
       "    </tr>\n",
       "    <tr>\n",
       "      <th>1</th>\n",
       "      <td>-137</td>\n",
       "      <td>117</td>\n",
       "      <td>0.658478</td>\n",
       "      <td>0.341522</td>\n",
       "      <td>1</td>\n",
       "    </tr>\n",
       "    <tr>\n",
       "      <th>2</th>\n",
       "      <td>-178</td>\n",
       "      <td>157</td>\n",
       "      <td>0.648021</td>\n",
       "      <td>0.351979</td>\n",
       "      <td>1</td>\n",
       "    </tr>\n",
       "    <tr>\n",
       "      <th>3</th>\n",
       "      <td>-178</td>\n",
       "      <td>157</td>\n",
       "      <td>0.685767</td>\n",
       "      <td>0.314233</td>\n",
       "      <td>1</td>\n",
       "    </tr>\n",
       "    <tr>\n",
       "      <th>4</th>\n",
       "      <td>125</td>\n",
       "      <td>-145</td>\n",
       "      <td>0.567151</td>\n",
       "      <td>0.432849</td>\n",
       "      <td>0</td>\n",
       "    </tr>\n",
       "    <tr>\n",
       "      <th>...</th>\n",
       "      <td>...</td>\n",
       "      <td>...</td>\n",
       "      <td>...</td>\n",
       "      <td>...</td>\n",
       "      <td>...</td>\n",
       "    </tr>\n",
       "    <tr>\n",
       "      <th>195</th>\n",
       "      <td>-230</td>\n",
       "      <td>180</td>\n",
       "      <td>0.710083</td>\n",
       "      <td>0.289917</td>\n",
       "      <td>1</td>\n",
       "    </tr>\n",
       "    <tr>\n",
       "      <th>196</th>\n",
       "      <td>180</td>\n",
       "      <td>-230</td>\n",
       "      <td>0.468314</td>\n",
       "      <td>0.531686</td>\n",
       "      <td>1</td>\n",
       "    </tr>\n",
       "    <tr>\n",
       "      <th>197</th>\n",
       "      <td>-103</td>\n",
       "      <td>-117</td>\n",
       "      <td>0.745443</td>\n",
       "      <td>0.254557</td>\n",
       "      <td>0</td>\n",
       "    </tr>\n",
       "    <tr>\n",
       "      <th>198</th>\n",
       "      <td>-140</td>\n",
       "      <td>120</td>\n",
       "      <td>0.998138</td>\n",
       "      <td>0.001862</td>\n",
       "      <td>0</td>\n",
       "    </tr>\n",
       "    <tr>\n",
       "      <th>199</th>\n",
       "      <td>105</td>\n",
       "      <td>-125</td>\n",
       "      <td>0.486974</td>\n",
       "      <td>0.513026</td>\n",
       "      <td>0</td>\n",
       "    </tr>\n",
       "  </tbody>\n",
       "</table>\n",
       "<p>200 rows × 5 columns</p>\n",
       "</div>"
      ],
      "text/plain": [
       "     t1_odds  t2_odds   t1_prob   t2_prob  winner\n",
       "0       -130      110  0.758046  0.241954       0\n",
       "1       -137      117  0.658478  0.341522       1\n",
       "2       -178      157  0.648021  0.351979       1\n",
       "3       -178      157  0.685767  0.314233       1\n",
       "4        125     -145  0.567151  0.432849       0\n",
       "..       ...      ...       ...       ...     ...\n",
       "195     -230      180  0.710083  0.289917       1\n",
       "196      180     -230  0.468314  0.531686       1\n",
       "197     -103     -117  0.745443  0.254557       0\n",
       "198     -140      120  0.998138  0.001862       0\n",
       "199      105     -125  0.486974  0.513026       0\n",
       "\n",
       "[200 rows x 5 columns]"
      ]
     },
     "metadata": {},
     "output_type": "display_data"
    },
    {
     "name": "stdout",
     "output_type": "stream",
     "text": [
      "\n",
      "          Number of matches: 200\n",
      "          Number of bets: 181\n",
      "          Number of winning bets: 95\n",
      "          Number of losing bets: 86\n",
      "          Number of underdog bets: 88\n",
      "          Number of underdog wins: 37\n",
      "          Number of underdog losses: 51\n",
      "          Number of Favorite bets: 90\n",
      "          Number of favorite wins: 58\n",
      "          Number of favorite losses: 32\n",
      "          Number of even bets: 3\n",
      "          Number of even wins: 0\n",
      "          Number of even losses: 3\n",
      "          Profit: -11.157844329544261\n",
      "          Profit per bet: -0.06164554878201249\n",
      "          Profit per match: -0.05578922164772131\n",
      "          \n",
      "          \n"
     ]
    },
    {
     "data": {
      "text/plain": [
       "(3480, 56)"
      ]
     },
     "metadata": {},
     "output_type": "display_data"
    },
    {
     "data": {
      "text/plain": [
       "(3480,)"
      ]
     },
     "metadata": {},
     "output_type": "display_data"
    },
    {
     "data": {
      "text/plain": [
       "(3480, 2)"
      ]
     },
     "metadata": {},
     "output_type": "display_data"
    },
    {
     "data": {
      "text/plain": [
       "(198, 56)"
      ]
     },
     "metadata": {},
     "output_type": "display_data"
    },
    {
     "data": {
      "text/plain": [
       "(198,)"
      ]
     },
     "metadata": {},
     "output_type": "display_data"
    },
    {
     "data": {
      "text/plain": [
       "(198, 2)"
      ]
     },
     "metadata": {},
     "output_type": "display_data"
    },
    {
     "data": {
      "text/html": [
       "<div>\n",
       "<style scoped>\n",
       "    .dataframe tbody tr th:only-of-type {\n",
       "        vertical-align: middle;\n",
       "    }\n",
       "\n",
       "    .dataframe tbody tr th {\n",
       "        vertical-align: top;\n",
       "    }\n",
       "\n",
       "    .dataframe thead th {\n",
       "        text-align: right;\n",
       "    }\n",
       "</style>\n",
       "<table border=\"1\" class=\"dataframe\">\n",
       "  <thead>\n",
       "    <tr style=\"text-align: right;\">\n",
       "      <th></th>\n",
       "      <th>t1_odds</th>\n",
       "      <th>t2_odds</th>\n",
       "      <th>t1_prob</th>\n",
       "      <th>t2_prob</th>\n",
       "      <th>winner</th>\n",
       "    </tr>\n",
       "  </thead>\n",
       "  <tbody>\n",
       "    <tr>\n",
       "      <th>0</th>\n",
       "      <td>-130</td>\n",
       "      <td>110</td>\n",
       "      <td>0.346083</td>\n",
       "      <td>0.653917</td>\n",
       "      <td>0</td>\n",
       "    </tr>\n",
       "    <tr>\n",
       "      <th>1</th>\n",
       "      <td>-137</td>\n",
       "      <td>117</td>\n",
       "      <td>0.952549</td>\n",
       "      <td>0.047451</td>\n",
       "      <td>1</td>\n",
       "    </tr>\n",
       "    <tr>\n",
       "      <th>2</th>\n",
       "      <td>-178</td>\n",
       "      <td>157</td>\n",
       "      <td>0.023312</td>\n",
       "      <td>0.976688</td>\n",
       "      <td>1</td>\n",
       "    </tr>\n",
       "    <tr>\n",
       "      <th>3</th>\n",
       "      <td>-178</td>\n",
       "      <td>157</td>\n",
       "      <td>0.450471</td>\n",
       "      <td>0.549529</td>\n",
       "      <td>1</td>\n",
       "    </tr>\n",
       "    <tr>\n",
       "      <th>4</th>\n",
       "      <td>125</td>\n",
       "      <td>-145</td>\n",
       "      <td>0.574254</td>\n",
       "      <td>0.425746</td>\n",
       "      <td>0</td>\n",
       "    </tr>\n",
       "    <tr>\n",
       "      <th>...</th>\n",
       "      <td>...</td>\n",
       "      <td>...</td>\n",
       "      <td>...</td>\n",
       "      <td>...</td>\n",
       "      <td>...</td>\n",
       "    </tr>\n",
       "    <tr>\n",
       "      <th>193</th>\n",
       "      <td>-230</td>\n",
       "      <td>180</td>\n",
       "      <td>0.905095</td>\n",
       "      <td>0.094905</td>\n",
       "      <td>1</td>\n",
       "    </tr>\n",
       "    <tr>\n",
       "      <th>194</th>\n",
       "      <td>180</td>\n",
       "      <td>-230</td>\n",
       "      <td>0.139774</td>\n",
       "      <td>0.860226</td>\n",
       "      <td>1</td>\n",
       "    </tr>\n",
       "    <tr>\n",
       "      <th>195</th>\n",
       "      <td>-103</td>\n",
       "      <td>-117</td>\n",
       "      <td>0.794056</td>\n",
       "      <td>0.205944</td>\n",
       "      <td>0</td>\n",
       "    </tr>\n",
       "    <tr>\n",
       "      <th>196</th>\n",
       "      <td>-140</td>\n",
       "      <td>120</td>\n",
       "      <td>0.004885</td>\n",
       "      <td>0.995115</td>\n",
       "      <td>0</td>\n",
       "    </tr>\n",
       "    <tr>\n",
       "      <th>197</th>\n",
       "      <td>105</td>\n",
       "      <td>-125</td>\n",
       "      <td>0.999089</td>\n",
       "      <td>0.000911</td>\n",
       "      <td>0</td>\n",
       "    </tr>\n",
       "  </tbody>\n",
       "</table>\n",
       "<p>198 rows × 5 columns</p>\n",
       "</div>"
      ],
      "text/plain": [
       "     t1_odds  t2_odds   t1_prob   t2_prob  winner\n",
       "0       -130      110  0.346083  0.653917       0\n",
       "1       -137      117  0.952549  0.047451       1\n",
       "2       -178      157  0.023312  0.976688       1\n",
       "3       -178      157  0.450471  0.549529       1\n",
       "4        125     -145  0.574254  0.425746       0\n",
       "..       ...      ...       ...       ...     ...\n",
       "193     -230      180  0.905095  0.094905       1\n",
       "194      180     -230  0.139774  0.860226       1\n",
       "195     -103     -117  0.794056  0.205944       0\n",
       "196     -140      120  0.004885  0.995115       0\n",
       "197      105     -125  0.999089  0.000911       0\n",
       "\n",
       "[198 rows x 5 columns]"
      ]
     },
     "metadata": {},
     "output_type": "display_data"
    },
    {
     "name": "stdout",
     "output_type": "stream",
     "text": [
      "\n",
      "          Number of matches: 198\n",
      "          Number of bets: 162\n",
      "          Number of winning bets: 79\n",
      "          Number of losing bets: 83\n",
      "          Number of underdog bets: 91\n",
      "          Number of underdog wins: 41\n",
      "          Number of underdog losses: 50\n",
      "          Number of Favorite bets: 69\n",
      "          Number of favorite wins: 38\n",
      "          Number of favorite losses: 31\n",
      "          Number of even bets: 2\n",
      "          Number of even wins: 0\n",
      "          Number of even losses: 2\n",
      "          Profit: 233.62622050510356\n",
      "          Profit per bet: 1.4421371636117504\n",
      "          Profit per match: 1.1799304065914322\n",
      "          \n",
      "          \n"
     ]
    },
    {
     "data": {
      "text/plain": [
       "(3480, 19)"
      ]
     },
     "metadata": {},
     "output_type": "display_data"
    },
    {
     "data": {
      "text/plain": [
       "(3480,)"
      ]
     },
     "metadata": {},
     "output_type": "display_data"
    },
    {
     "data": {
      "text/plain": [
       "(3480, 2)"
      ]
     },
     "metadata": {},
     "output_type": "display_data"
    },
    {
     "data": {
      "text/plain": [
       "(200, 19)"
      ]
     },
     "metadata": {},
     "output_type": "display_data"
    },
    {
     "data": {
      "text/plain": [
       "(200,)"
      ]
     },
     "metadata": {},
     "output_type": "display_data"
    },
    {
     "data": {
      "text/plain": [
       "(200, 2)"
      ]
     },
     "metadata": {},
     "output_type": "display_data"
    },
    {
     "data": {
      "text/html": [
       "<div>\n",
       "<style scoped>\n",
       "    .dataframe tbody tr th:only-of-type {\n",
       "        vertical-align: middle;\n",
       "    }\n",
       "\n",
       "    .dataframe tbody tr th {\n",
       "        vertical-align: top;\n",
       "    }\n",
       "\n",
       "    .dataframe thead th {\n",
       "        text-align: right;\n",
       "    }\n",
       "</style>\n",
       "<table border=\"1\" class=\"dataframe\">\n",
       "  <thead>\n",
       "    <tr style=\"text-align: right;\">\n",
       "      <th></th>\n",
       "      <th>t1_odds</th>\n",
       "      <th>t2_odds</th>\n",
       "      <th>t1_prob</th>\n",
       "      <th>t2_prob</th>\n",
       "      <th>winner</th>\n",
       "    </tr>\n",
       "  </thead>\n",
       "  <tbody>\n",
       "    <tr>\n",
       "      <th>0</th>\n",
       "      <td>-130</td>\n",
       "      <td>110</td>\n",
       "      <td>0.624363</td>\n",
       "      <td>0.375637</td>\n",
       "      <td>0</td>\n",
       "    </tr>\n",
       "    <tr>\n",
       "      <th>1</th>\n",
       "      <td>-137</td>\n",
       "      <td>117</td>\n",
       "      <td>0.568118</td>\n",
       "      <td>0.431882</td>\n",
       "      <td>1</td>\n",
       "    </tr>\n",
       "    <tr>\n",
       "      <th>2</th>\n",
       "      <td>-178</td>\n",
       "      <td>157</td>\n",
       "      <td>0.573170</td>\n",
       "      <td>0.426830</td>\n",
       "      <td>1</td>\n",
       "    </tr>\n",
       "    <tr>\n",
       "      <th>3</th>\n",
       "      <td>-178</td>\n",
       "      <td>157</td>\n",
       "      <td>0.638953</td>\n",
       "      <td>0.361047</td>\n",
       "      <td>1</td>\n",
       "    </tr>\n",
       "    <tr>\n",
       "      <th>4</th>\n",
       "      <td>125</td>\n",
       "      <td>-145</td>\n",
       "      <td>0.478183</td>\n",
       "      <td>0.521817</td>\n",
       "      <td>0</td>\n",
       "    </tr>\n",
       "    <tr>\n",
       "      <th>...</th>\n",
       "      <td>...</td>\n",
       "      <td>...</td>\n",
       "      <td>...</td>\n",
       "      <td>...</td>\n",
       "      <td>...</td>\n",
       "    </tr>\n",
       "    <tr>\n",
       "      <th>195</th>\n",
       "      <td>-230</td>\n",
       "      <td>180</td>\n",
       "      <td>0.738116</td>\n",
       "      <td>0.261884</td>\n",
       "      <td>1</td>\n",
       "    </tr>\n",
       "    <tr>\n",
       "      <th>196</th>\n",
       "      <td>180</td>\n",
       "      <td>-230</td>\n",
       "      <td>0.439702</td>\n",
       "      <td>0.560298</td>\n",
       "      <td>1</td>\n",
       "    </tr>\n",
       "    <tr>\n",
       "      <th>197</th>\n",
       "      <td>-103</td>\n",
       "      <td>-117</td>\n",
       "      <td>0.553138</td>\n",
       "      <td>0.446862</td>\n",
       "      <td>0</td>\n",
       "    </tr>\n",
       "    <tr>\n",
       "      <th>198</th>\n",
       "      <td>-140</td>\n",
       "      <td>120</td>\n",
       "      <td>0.552473</td>\n",
       "      <td>0.447527</td>\n",
       "      <td>0</td>\n",
       "    </tr>\n",
       "    <tr>\n",
       "      <th>199</th>\n",
       "      <td>105</td>\n",
       "      <td>-125</td>\n",
       "      <td>0.583560</td>\n",
       "      <td>0.416440</td>\n",
       "      <td>0</td>\n",
       "    </tr>\n",
       "  </tbody>\n",
       "</table>\n",
       "<p>200 rows × 5 columns</p>\n",
       "</div>"
      ],
      "text/plain": [
       "     t1_odds  t2_odds   t1_prob   t2_prob  winner\n",
       "0       -130      110  0.624363  0.375637       0\n",
       "1       -137      117  0.568118  0.431882       1\n",
       "2       -178      157  0.573170  0.426830       1\n",
       "3       -178      157  0.638953  0.361047       1\n",
       "4        125     -145  0.478183  0.521817       0\n",
       "..       ...      ...       ...       ...     ...\n",
       "195     -230      180  0.738116  0.261884       1\n",
       "196      180     -230  0.439702  0.560298       1\n",
       "197     -103     -117  0.553138  0.446862       0\n",
       "198     -140      120  0.552473  0.447527       0\n",
       "199      105     -125  0.583560  0.416440       0\n",
       "\n",
       "[200 rows x 5 columns]"
      ]
     },
     "metadata": {},
     "output_type": "display_data"
    },
    {
     "name": "stdout",
     "output_type": "stream",
     "text": [
      "\n",
      "          Number of matches: 200\n",
      "          Number of bets: 154\n",
      "          Number of winning bets: 72\n",
      "          Number of losing bets: 82\n",
      "          Number of underdog bets: 103\n",
      "          Number of underdog wins: 40\n",
      "          Number of underdog losses: 63\n",
      "          Number of Favorite bets: 50\n",
      "          Number of favorite wins: 32\n",
      "          Number of favorite losses: 18\n",
      "          Number of even bets: 1\n",
      "          Number of even wins: 0\n",
      "          Number of even losses: 1\n",
      "          Profit: -690.9821023853907\n",
      "          Profit per bet: -4.486896768736303\n",
      "          Profit per match: -3.4549105119269536\n",
      "          \n",
      "          \n"
     ]
    },
    {
     "data": {
      "text/plain": [
       "(3480, 26)"
      ]
     },
     "metadata": {},
     "output_type": "display_data"
    },
    {
     "data": {
      "text/plain": [
       "(3480,)"
      ]
     },
     "metadata": {},
     "output_type": "display_data"
    },
    {
     "data": {
      "text/plain": [
       "(3480, 2)"
      ]
     },
     "metadata": {},
     "output_type": "display_data"
    },
    {
     "data": {
      "text/plain": [
       "(198, 26)"
      ]
     },
     "metadata": {},
     "output_type": "display_data"
    },
    {
     "data": {
      "text/plain": [
       "(198,)"
      ]
     },
     "metadata": {},
     "output_type": "display_data"
    },
    {
     "data": {
      "text/plain": [
       "(198, 2)"
      ]
     },
     "metadata": {},
     "output_type": "display_data"
    },
    {
     "data": {
      "text/html": [
       "<div>\n",
       "<style scoped>\n",
       "    .dataframe tbody tr th:only-of-type {\n",
       "        vertical-align: middle;\n",
       "    }\n",
       "\n",
       "    .dataframe tbody tr th {\n",
       "        vertical-align: top;\n",
       "    }\n",
       "\n",
       "    .dataframe thead th {\n",
       "        text-align: right;\n",
       "    }\n",
       "</style>\n",
       "<table border=\"1\" class=\"dataframe\">\n",
       "  <thead>\n",
       "    <tr style=\"text-align: right;\">\n",
       "      <th></th>\n",
       "      <th>t1_odds</th>\n",
       "      <th>t2_odds</th>\n",
       "      <th>t1_prob</th>\n",
       "      <th>t2_prob</th>\n",
       "      <th>winner</th>\n",
       "    </tr>\n",
       "  </thead>\n",
       "  <tbody>\n",
       "    <tr>\n",
       "      <th>0</th>\n",
       "      <td>-130</td>\n",
       "      <td>110</td>\n",
       "      <td>0.653797</td>\n",
       "      <td>0.346203</td>\n",
       "      <td>0</td>\n",
       "    </tr>\n",
       "    <tr>\n",
       "      <th>1</th>\n",
       "      <td>-137</td>\n",
       "      <td>117</td>\n",
       "      <td>0.663243</td>\n",
       "      <td>0.336757</td>\n",
       "      <td>1</td>\n",
       "    </tr>\n",
       "    <tr>\n",
       "      <th>2</th>\n",
       "      <td>-178</td>\n",
       "      <td>157</td>\n",
       "      <td>0.558588</td>\n",
       "      <td>0.441412</td>\n",
       "      <td>1</td>\n",
       "    </tr>\n",
       "    <tr>\n",
       "      <th>3</th>\n",
       "      <td>-178</td>\n",
       "      <td>157</td>\n",
       "      <td>0.588921</td>\n",
       "      <td>0.411079</td>\n",
       "      <td>1</td>\n",
       "    </tr>\n",
       "    <tr>\n",
       "      <th>4</th>\n",
       "      <td>125</td>\n",
       "      <td>-145</td>\n",
       "      <td>0.435416</td>\n",
       "      <td>0.564584</td>\n",
       "      <td>0</td>\n",
       "    </tr>\n",
       "    <tr>\n",
       "      <th>...</th>\n",
       "      <td>...</td>\n",
       "      <td>...</td>\n",
       "      <td>...</td>\n",
       "      <td>...</td>\n",
       "      <td>...</td>\n",
       "    </tr>\n",
       "    <tr>\n",
       "      <th>193</th>\n",
       "      <td>-230</td>\n",
       "      <td>180</td>\n",
       "      <td>0.648092</td>\n",
       "      <td>0.351908</td>\n",
       "      <td>1</td>\n",
       "    </tr>\n",
       "    <tr>\n",
       "      <th>194</th>\n",
       "      <td>180</td>\n",
       "      <td>-230</td>\n",
       "      <td>0.433746</td>\n",
       "      <td>0.566254</td>\n",
       "      <td>1</td>\n",
       "    </tr>\n",
       "    <tr>\n",
       "      <th>195</th>\n",
       "      <td>-103</td>\n",
       "      <td>-117</td>\n",
       "      <td>0.538621</td>\n",
       "      <td>0.461379</td>\n",
       "      <td>0</td>\n",
       "    </tr>\n",
       "    <tr>\n",
       "      <th>196</th>\n",
       "      <td>-140</td>\n",
       "      <td>120</td>\n",
       "      <td>0.425760</td>\n",
       "      <td>0.574240</td>\n",
       "      <td>0</td>\n",
       "    </tr>\n",
       "    <tr>\n",
       "      <th>197</th>\n",
       "      <td>105</td>\n",
       "      <td>-125</td>\n",
       "      <td>0.513779</td>\n",
       "      <td>0.486221</td>\n",
       "      <td>0</td>\n",
       "    </tr>\n",
       "  </tbody>\n",
       "</table>\n",
       "<p>198 rows × 5 columns</p>\n",
       "</div>"
      ],
      "text/plain": [
       "     t1_odds  t2_odds   t1_prob   t2_prob  winner\n",
       "0       -130      110  0.653797  0.346203       0\n",
       "1       -137      117  0.663243  0.336757       1\n",
       "2       -178      157  0.558588  0.441412       1\n",
       "3       -178      157  0.588921  0.411079       1\n",
       "4        125     -145  0.435416  0.564584       0\n",
       "..       ...      ...       ...       ...     ...\n",
       "193     -230      180  0.648092  0.351908       1\n",
       "194      180     -230  0.433746  0.566254       1\n",
       "195     -103     -117  0.538621  0.461379       0\n",
       "196     -140      120  0.425760  0.574240       0\n",
       "197      105     -125  0.513779  0.486221       0\n",
       "\n",
       "[198 rows x 5 columns]"
      ]
     },
     "metadata": {},
     "output_type": "display_data"
    },
    {
     "name": "stdout",
     "output_type": "stream",
     "text": [
      "\n",
      "          Number of matches: 198\n",
      "          Number of bets: 132\n",
      "          Number of winning bets: 62\n",
      "          Number of losing bets: 70\n",
      "          Number of underdog bets: 94\n",
      "          Number of underdog wins: 39\n",
      "          Number of underdog losses: 55\n",
      "          Number of Favorite bets: 38\n",
      "          Number of favorite wins: 23\n",
      "          Number of favorite losses: 15\n",
      "          Number of even bets: 0\n",
      "          Number of even wins: 0\n",
      "          Number of even losses: 0\n",
      "          Profit: -16.79453539556222\n",
      "          Profit per bet: -0.12723132875425924\n",
      "          Profit per match: -0.08482088583617284\n",
      "          \n",
      "          \n"
     ]
    }
   ],
   "source": [
    "score_list = []\n",
    "for model_num in range(len(models[0])):\n",
    "    test_model_name = models[0][model_num]\n",
    "    test_model = eval(models[1][model_num])\n",
    "    test_model_features = eval(models[2][model_num])\n",
    "    test_model_ev = eval(models[3][model_num])\n",
    "    \n",
    "    score_list.append(evaluate_model(test_model, test_model_features, test_model_ev, df_train, label_train, odds_train, df_test, label_test,\n",
    "                         odds_test, verbose = True))"
   ]
  },
  {
   "cell_type": "code",
   "execution_count": 22,
   "metadata": {},
   "outputs": [
    {
     "name": "stdout",
     "output_type": "stream",
     "text": [
      "['-177.3976305032445', '-517.5586724157288', '51.485661931175315', '-273.34880970516065', '1182.7971751988935', '-708.2060686', '509.4118744', '1122.644041', '-12.87052008', '642.8135906', '203.2974615', '179.6331948', '601.1884794', '1255.868899', '214.6801635']\n"
     ]
    }
   ],
   "source": [
    "print(models[4])"
   ]
  },
  {
   "cell_type": "code",
   "execution_count": 23,
   "metadata": {},
   "outputs": [
    {
     "name": "stdout",
     "output_type": "stream",
     "text": [
      "[-196.21005751678678, 402.5012308757292, -1212.5587785925702, -449.30925740542546, -359.95819873511977, 1205.6523569028263, 385.06251390004115, 990.0325213103214, -469.6786710665882, -372.6349433255963, -583.4522165214593, -11.157844329544261, 233.62622050510356, -690.9821023853907, -16.79453539556222]\n"
     ]
    }
   ],
   "source": [
    "print(score_list)"
   ]
  },
  {
   "cell_type": "code",
   "execution_count": 24,
   "metadata": {},
   "outputs": [],
   "source": [
    "models[4] = score_list"
   ]
  },
  {
   "cell_type": "code",
   "execution_count": 25,
   "metadata": {},
   "outputs": [
    {
     "data": {
      "text/plain": [
       "[['model_0',\n",
       "  'model_1',\n",
       "  'model_2',\n",
       "  'model_3',\n",
       "  'model_4',\n",
       "  'model_06_13_20',\n",
       "  'model_06_20_20',\n",
       "  'model_6_27_20',\n",
       "  'model_7_18_20',\n",
       "  'model_7_25_20',\n",
       "  'model_9_2_20',\n",
       "  'model_9_10_20',\n",
       "  'model_10_23_20',\n",
       "  'model_10_27_20',\n",
       "  'model_10_28_20'],\n",
       " ['LogisticRegression(max_iter=50000, random_state=75)',\n",
       "  \"DecisionTreeClassifier(max_depth=27, max_leaf_nodes=336, min_samples_leaf=3,\\n                       random_state=75, splitter='random')\",\n",
       "  \"RandomForestClassifier(criterion='entropy', max_depth=10, n_estimators=22,\\n                       n_jobs=-1, random_state=75)\",\n",
       "  \"GradientBoostingClassifier(max_depth=17, max_features='sqrt',\\n                           max_leaf_nodes=316, min_samples_leaf=6,\\n                           n_estimators=195, random_state=75)\",\n",
       "  'GaussianNB(var_smoothing=1e-08)',\n",
       "  'LogisticRegression(max_iter=50000, random_state=75, tol=5.993308915320019)',\n",
       "  'GaussianNB()',\n",
       "  'GaussianNB()',\n",
       "  'GradientBoostingClassifier(n_estimators=122, random_state=75)',\n",
       "  'GaussianNB()',\n",
       "  'GaussianNB(var_smoothing=1e-12)',\n",
       "  'GaussianNB(var_smoothing=1e-12)',\n",
       "  'GradientBoostingClassifier(max_depth=95, min_samples_leaf=6, n_estimators=195,\\n                           random_state=75)',\n",
       "  \"RandomForestClassifier(criterion='entropy', max_depth=10, n_estimators=197,\\n                       n_jobs=-1, random_state=75)\",\n",
       "  \"RandomForestClassifier(criterion='entropy', max_depth=10, n_estimators=22,\\n                       n_jobs=-1, random_state=75)\"],\n",
       " ['[\\'R_Welterweight_rank\\', \\'R_Middleweight_rank\\', \\'B_Light Heavyweight_rank\\', \\'R_draw\\', \\'R_win_by_Decision_Majority\\', \\'sig_str_dif\\', \\'B_Featherweight_rank\\', \\'R_Lightweight_rank\\', \\'B_odds\\', \\'R_avg_TD_landed\\', \\'B_ev\\', \\'R_Bantamweight_rank\\', \\'B_current_lose_streak\\', \\'avg_sub_att_dif\\', \\'B_Middleweight_rank\\', \\'R_current_win_streak\\', \\'B_avg_SUB_ATT\\', \\'B_avg_SIG_STR_landed\\', \\'age_dif\\', \\'R_avg_TD_pct\\', \\'R_ev\\', \"B_Women\\'s Strawweight_rank\", \\'B_Bantamweight_rank\\', \\'R_Reach_cms\\', \\'B_win_by_Decision_Unanimous\\']',\n",
       "  '[\\'longest_win_streak_dif\\', \\'avg_td_dif\\', \\'R_Height_cms\\', \\'R_Bantamweight_rank\\', \\'B_current_lose_streak\\', \\'avg_sub_att_dif\\', \\'B_Middleweight_rank\\', \\'R_current_win_streak\\', \\'total_round_dif\\', \\'B_avg_SUB_ATT\\', \\'B_avg_SIG_STR_landed\\', \\'age_dif\\', \\'B_Light Heavyweight_rank\\', \\'R_avg_TD_pct\\', \\'R_ev\\', \"B_Women\\'s Flyweight_rank\", \"B_Women\\'s Strawweight_rank\", \\'B_Bantamweight_rank\\', \\'R_Reach_cms\\', \\'B_win_by_Decision_Unanimous\\', \\'constant_1\\']',\n",
       "  '[\\'R_Stance\\', \\'R_avg_SUB_ATT\\', \\'B_Stance\\', \\'R_current_lose_streak\\', \\'loss_dif\\', \\'B_win_by_Decision_Split\\', \\'R_Height_cms\\', \\'R_Bantamweight_rank\\', \\'B_current_lose_streak\\', \\'avg_sub_att_dif\\', \\'B_Middleweight_rank\\', \\'R_current_win_streak\\', \\'total_round_dif\\', \\'B_avg_SUB_ATT\\', \\'B_avg_SIG_STR_landed\\', \\'age_dif\\', \\'B_Light Heavyweight_rank\\', \\'R_avg_TD_pct\\', \\'R_ev\\', \"B_Women\\'s Flyweight_rank\", \"B_Women\\'s Strawweight_rank\", \\'B_Bantamweight_rank\\', \\'R_Reach_cms\\', \\'B_win_by_Decision_Unanimous\\', \\'constant_1\\']',\n",
       "  '[\"B_Women\\'s Bantamweight_rank\", \"R_Women\\'s Flyweight_rank\", \\'R_Height_cms\\', \\'R_Bantamweight_rank\\', \\'B_current_lose_streak\\', \\'avg_sub_att_dif\\', \\'B_Middleweight_rank\\', \\'R_current_win_streak\\', \\'total_round_dif\\', \\'B_avg_SUB_ATT\\', \\'B_avg_SIG_STR_landed\\', \\'age_dif\\', \\'B_Light Heavyweight_rank\\', \\'R_avg_TD_pct\\', \"B_Women\\'s Flyweight_rank\", \"B_Women\\'s Strawweight_rank\", \\'B_Bantamweight_rank\\', \\'R_Reach_cms\\', \\'B_win_by_Decision_Unanimous\\']',\n",
       "  \"['R_Height_cms', 'reach_dif', 'age_dif', 'lose_streak_dif', 'B_draw', 'B_odds', 'B_avg_TD_pct', 'R_Reach_cms', 'B_win_by_Decision_Unanimous', 'R_win_by_Submission', 'height_dif', 'R_avg_TD_pct', 'R_avg_SIG_STR_pct', 'win_streak_dif', 'B_avg_TD_landed', 'B_current_lose_streak', 'B_age', 'R_win_by_Decision_Split', 'avg_td_dif', 'R_Middleweight_rank', 'better_rank', 'B_Flyweight_rank', 'B_win_by_KO/TKO', 'B_win_by_Decision_Split', 'R_win_by_Decision_Majority', 'R_Lightweight_rank', 'R_Flyweight_rank', 'R_win_by_TKO_Doctor_Stoppage', 'B_Stance', 'R_avg_TD_landed', 'B_avg_SIG_STR_landed', 'empty_arena']\",\n",
       "  \"['B_win_by_Decision_Majority', 'B_win_by_TKO_Doctor_Stoppage', 'R_win_by_Decision_Majority', 'R_odds', 'R_current_lose_streak', 'R_Reach_cms', 'B_draw', 'total_round_dif', 'R_ev', 'B_ev']\",\n",
       "  \"['R_win_by_Decision_Unanimous', 'B_win_by_Submission', 'R_Weight_lbs', 'sig_str_dif', 'B_Height_cms', 'B_avg_SUB_ATT', 'R_win_by_TKO_Doctor_Stoppage', 'height_dif', 'B_draw', 'avg_td_dif', 'R_win_by_Decision_Split', 'age_dif', 'B_current_win_streak', 'R_odds']\",\n",
       "  \"['R_longest_win_streak', 'longest_win_streak_dif', 'reach_dif', 'avg_sub_att_dif', 'R_win_by_Decision_Unanimous', 'B_win_by_Submission', 'R_Weight_lbs', 'sig_str_dif', 'B_Height_cms', 'B_avg_SUB_ATT', 'R_win_by_TKO_Doctor_Stoppage', 'height_dif', 'B_draw', 'avg_td_dif', 'R_win_by_Decision_Split', 'age_dif', 'B_current_win_streak', 'R_odds']\",\n",
       "  \"['B_current_win_streak', 'R_win_by_Submission', 'B_win_by_Decision_Unanimous', 'R_win_by_Decision_Unanimous', 'R_current_lose_streak', 'B_win_by_TKO_Doctor_Stoppage', 'win_dif', 'B_win_by_Decision_Split', 'B_wins', 'R_Stance', 'B_age', 'B_Weight_lbs', 'R_ev', 'B_total_rounds_fought', 'location', 'R_odds', 'R_Reach_cms', 'R_Weight_lbs', 'R_current_win_streak', 'R_age', 'empty_arena', 'R_win_by_Decision_Split', 'R_draw', 'lose_streak_dif', 'B_draw']\",\n",
       "  \"['R_Reach_cms', 'total_round_dif', 'R_Height_cms', 'R_avg_SIG_STR_pct', 'B_age', 'R_longest_win_streak', 'lose_streak_dif', 'ko_dif', 'R_win_by_Decision_Majority', 'longest_win_streak_dif', 'avg_sub_att_dif', 'R_Weight_lbs', 'sig_str_dif', 'B_Height_cms', 'B_avg_SUB_ATT', 'R_win_by_TKO_Doctor_Stoppage', 'B_draw', 'avg_td_dif', 'R_win_by_Decision_Split', 'age_dif', 'B_current_win_streak', 'R_odds']\",\n",
       "  \"['win_streak_dif', 'B_Light Heavyweight_rank', 'B_Lightweight_rank', 'R_avg_TD_landed', 'R_Middleweight_rank', 'total_round_dif', 'R_Height_cms', 'R_avg_SIG_STR_pct', 'B_age', 'R_longest_win_streak', 'lose_streak_dif', 'R_win_by_Decision_Majority', 'longest_win_streak_dif', 'avg_sub_att_dif', 'R_Weight_lbs', 'sig_str_dif', 'B_Height_cms', 'B_avg_SUB_ATT', 'R_win_by_TKO_Doctor_Stoppage', 'B_draw', 'avg_td_dif', 'R_win_by_Decision_Split', 'age_dif', 'R_odds']\",\n",
       "  \"['B_Weight_lbs', 'B_Flyweight_rank', 'B_avg_TD_landed', 'B_Light Heavyweight_rank', 'B_Lightweight_rank', 'R_avg_TD_landed', 'R_Middleweight_rank', 'R_Height_cms', 'R_avg_SIG_STR_pct', 'B_age', 'R_longest_win_streak', 'lose_streak_dif', 'R_win_by_Decision_Majority', 'longest_win_streak_dif', 'avg_sub_att_dif', 'sig_str_dif', 'B_avg_SUB_ATT', 'R_win_by_TKO_Doctor_Stoppage', 'B_draw', 'R_win_by_Decision_Split', 'age_dif', 'R_odds']\",\n",
       "  \"['weight_class', 'B_Reach_cms', 'B_Welterweight_rank', 'B_total_title_bouts', 'R_avg_TD_pct', 'B_Bantamweight_rank', 'R_Featherweight_rank', 'no_of_rounds', 'B_draw', 'B_Stance', 'R_win_by_TKO_Doctor_Stoppage', 'R_current_win_streak', 'B_avg_SIG_STR_landed', 'country']\",\n",
       "  '[\\'R_Height_cms\\', \\'R_Bantamweight_rank\\', \\'B_current_lose_streak\\', \\'avg_sub_att_dif\\', \\'B_Middleweight_rank\\', \\'R_current_win_streak\\', \\'total_round_dif\\', \\'B_avg_SUB_ATT\\', \\'B_avg_SIG_STR_landed\\', \\'age_dif\\', \\'B_Light Heavyweight_rank\\', \\'R_avg_TD_pct\\', \\'R_ev\\', \"B_Women\\'s Flyweight_rank\", \"B_Women\\'s Strawweight_rank\", \\'B_Bantamweight_rank\\', \\'R_Reach_cms\\', \\'B_win_by_Decision_Unanimous\\', \\'constant_1\\']',\n",
       "  '[\\'B_Stance\\', \\'R_current_lose_streak\\', \\'loss_dif\\', \\'B_win_by_Decision_Split\\', \\'R_Height_cms\\', \\'R_Bantamweight_rank\\', \\'B_current_lose_streak\\', \\'avg_sub_att_dif\\', \\'B_Middleweight_rank\\', \\'R_current_win_streak\\', \\'total_round_dif\\', \\'B_avg_SUB_ATT\\', \\'B_avg_SIG_STR_landed\\', \\'age_dif\\', \\'B_Light Heavyweight_rank\\', \\'R_avg_TD_pct\\', \\'R_ev\\', \"B_Women\\'s Flyweight_rank\", \"B_Women\\'s Strawweight_rank\", \\'B_Bantamweight_rank\\', \\'R_Reach_cms\\', \\'B_win_by_Decision_Unanimous\\', \\'constant_1\\']'],\n",
       " ['0', '0', '4', '35', '1', '0', '0', '0', '0', '1', '3', '2', '27', '1', '5'],\n",
       " [-196.21005751678678,\n",
       "  402.5012308757292,\n",
       "  -1212.5587785925702,\n",
       "  -449.30925740542546,\n",
       "  -359.95819873511977,\n",
       "  1205.6523569028263,\n",
       "  385.06251390004115,\n",
       "  990.0325213103214,\n",
       "  -469.6786710665882,\n",
       "  -372.6349433255963,\n",
       "  -583.4522165214593,\n",
       "  -11.157844329544261,\n",
       "  233.62622050510356,\n",
       "  -690.9821023853907,\n",
       "  -16.79453539556222]]"
      ]
     },
     "execution_count": 25,
     "metadata": {},
     "output_type": "execute_result"
    }
   ],
   "source": [
    "models"
   ]
  },
  {
   "cell_type": "code",
   "execution_count": 29,
   "metadata": {},
   "outputs": [
    {
     "name": "stdout",
     "output_type": "stream",
     "text": [
      "HI\n",
      "HI\n",
      "HI\n",
      "HI\n",
      "HI\n"
     ]
    }
   ],
   "source": [
    "with open('models_test.csv', 'w' , newline='') as outfile:\n",
    "    writer = csv.writer(outfile)\n",
    "    for row in models:\n",
    "        print(\"HI\")\n",
    "        writer.writerow(row)\n",
    "    \n",
    "outfile.close()"
   ]
  },
  {
   "cell_type": "code",
   "execution_count": null,
   "metadata": {},
   "outputs": [],
   "source": []
  }
 ],
 "metadata": {
  "kernelspec": {
   "display_name": "Python 3",
   "language": "python",
   "name": "python3"
  },
  "language_info": {
   "codemirror_mode": {
    "name": "ipython",
    "version": 3
   },
   "file_extension": ".py",
   "mimetype": "text/x-python",
   "name": "python",
   "nbconvert_exporter": "python",
   "pygments_lexer": "ipython3",
   "version": "3.8.8"
  }
 },
 "nbformat": 4,
 "nbformat_minor": 4
}
