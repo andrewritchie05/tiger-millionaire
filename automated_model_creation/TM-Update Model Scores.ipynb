{
 "cells": [
  {
   "cell_type": "code",
   "execution_count": 1,
   "metadata": {},
   "outputs": [],
   "source": [
    "import pandas as pd\n",
    "import numpy as np\n",
    "from functions import *\n",
    "import random\n",
    "import csv\n",
    "from sklearn.linear_model import LogisticRegression\n",
    "from sklearn.tree import DecisionTreeClassifier\n",
    "from sklearn.ensemble import GradientBoostingClassifier\n",
    "\n",
    "remove_fight_island = False"
   ]
  },
  {
   "cell_type": "code",
   "execution_count": 2,
   "metadata": {},
   "outputs": [
    {
     "name": "stdout",
     "output_type": "stream",
     "text": [
      "5\n"
     ]
    }
   ],
   "source": [
    "#Load models\n",
    "#REMINDER: We are going to need to use 'eval' to get the models usable\n",
    "with open('../data/production_models.csv', newline='') as f:\n",
    "    reader = csv.reader(f)\n",
    "    models = list(reader)\n",
    "    \n",
    "print(len(models))\n"
   ]
  },
  {
   "cell_type": "code",
   "execution_count": 3,
   "metadata": {},
   "outputs": [
    {
     "data": {
      "text/plain": [
       "[['model_06_13_20',\n",
       "  'model_06_20_20',\n",
       "  'model_6_27_20',\n",
       "  'model_7_18_20',\n",
       "  'model_7_25_20',\n",
       "  'model_9_2_20',\n",
       "  'model_9_10_20',\n",
       "  'model_10_23_20',\n",
       "  'model_10_27_20',\n",
       "  'model_10_28_20',\n",
       "  'model_2021_06_24',\n",
       "  'model_2021_06_30',\n",
       "  'model_2021_07_21'],\n",
       " ['LogisticRegression(max_iter=50000, random_state=75, tol=5.993308915320019)',\n",
       "  'GaussianNB()',\n",
       "  'GaussianNB()',\n",
       "  'GradientBoostingClassifier(n_estimators=122, random_state=75)',\n",
       "  'GaussianNB()',\n",
       "  'GaussianNB(var_smoothing=1e-12)',\n",
       "  'GaussianNB(var_smoothing=1e-12)',\n",
       "  'GradientBoostingClassifier(max_depth=95, min_samples_leaf=6, n_estimators=195,\\n                           random_state=75)',\n",
       "  \"RandomForestClassifier(criterion='entropy', max_depth=10, n_estimators=197,\\n                       n_jobs=-1, random_state=75)\",\n",
       "  \"RandomForestClassifier(criterion='entropy', max_depth=10, n_estimators=22,\\n                       n_jobs=-1, random_state=75)\",\n",
       "  'GradientBoostingClassifier(max_depth=95, min_samples_leaf=0.0015,\\n                           n_estimators=195, random_state=75)',\n",
       "  'GradientBoostingClassifier(max_depth=95, min_samples_leaf=0.0015,\\n                           n_estimators=195, random_state=75)',\n",
       "  \"RadiusNeighborsClassifier(outlier_label='most_frequent')\"],\n",
       " [\"['B_win_by_Decision_Majority', 'B_win_by_TKO_Doctor_Stoppage', 'R_win_by_Decision_Majority', 'R_odds', 'R_current_lose_streak', 'R_Reach_cms', 'B_draw', 'total_round_dif', 'R_ev', 'B_ev']\",\n",
       "  \"['R_win_by_Decision_Unanimous', 'B_win_by_Submission', 'R_Weight_lbs', 'sig_str_dif', 'B_Height_cms', 'B_avg_SUB_ATT', 'R_win_by_TKO_Doctor_Stoppage', 'height_dif', 'B_draw', 'avg_td_dif', 'R_win_by_Decision_Split', 'age_dif', 'B_current_win_streak', 'R_odds']\",\n",
       "  \"['R_longest_win_streak', 'longest_win_streak_dif', 'reach_dif', 'avg_sub_att_dif', 'R_win_by_Decision_Unanimous', 'B_win_by_Submission', 'R_Weight_lbs', 'sig_str_dif', 'B_Height_cms', 'B_avg_SUB_ATT', 'R_win_by_TKO_Doctor_Stoppage', 'height_dif', 'B_draw', 'avg_td_dif', 'R_win_by_Decision_Split', 'age_dif', 'B_current_win_streak', 'R_odds']\",\n",
       "  \"['B_current_win_streak', 'R_win_by_Submission', 'B_win_by_Decision_Unanimous', 'R_win_by_Decision_Unanimous', 'R_current_lose_streak', 'B_win_by_TKO_Doctor_Stoppage', 'win_dif', 'B_win_by_Decision_Split', 'B_wins', 'R_Stance', 'B_age', 'B_Weight_lbs', 'R_ev', 'B_total_rounds_fought', 'location', 'R_odds', 'R_Reach_cms', 'R_Weight_lbs', 'R_current_win_streak', 'R_age', 'empty_arena', 'R_win_by_Decision_Split', 'R_draw', 'lose_streak_dif', 'B_draw']\",\n",
       "  \"['R_Reach_cms', 'total_round_dif', 'R_Height_cms', 'R_avg_SIG_STR_pct', 'B_age', 'R_longest_win_streak', 'lose_streak_dif', 'ko_dif', 'R_win_by_Decision_Majority', 'longest_win_streak_dif', 'avg_sub_att_dif', 'R_Weight_lbs', 'sig_str_dif', 'B_Height_cms', 'B_avg_SUB_ATT', 'R_win_by_TKO_Doctor_Stoppage', 'B_draw', 'avg_td_dif', 'R_win_by_Decision_Split', 'age_dif', 'B_current_win_streak', 'R_odds']\",\n",
       "  \"['win_streak_dif', 'B_Light Heavyweight_rank', 'B_Lightweight_rank', 'R_avg_TD_landed', 'R_Middleweight_rank', 'total_round_dif', 'R_Height_cms', 'R_avg_SIG_STR_pct', 'B_age', 'R_longest_win_streak', 'lose_streak_dif', 'R_win_by_Decision_Majority', 'longest_win_streak_dif', 'avg_sub_att_dif', 'R_Weight_lbs', 'sig_str_dif', 'B_Height_cms', 'B_avg_SUB_ATT', 'R_win_by_TKO_Doctor_Stoppage', 'B_draw', 'avg_td_dif', 'R_win_by_Decision_Split', 'age_dif', 'R_odds']\",\n",
       "  \"['B_Weight_lbs', 'B_Flyweight_rank', 'B_avg_TD_landed', 'B_Light Heavyweight_rank', 'B_Lightweight_rank', 'R_avg_TD_landed', 'R_Middleweight_rank', 'R_Height_cms', 'R_avg_SIG_STR_pct', 'B_age', 'R_longest_win_streak', 'lose_streak_dif', 'R_win_by_Decision_Majority', 'longest_win_streak_dif', 'avg_sub_att_dif', 'sig_str_dif', 'B_avg_SUB_ATT', 'R_win_by_TKO_Doctor_Stoppage', 'B_draw', 'R_win_by_Decision_Split', 'age_dif', 'R_odds']\",\n",
       "  \"['weight_class', 'B_Reach_cms', 'B_Welterweight_rank', 'B_total_title_bouts', 'R_avg_TD_pct', 'B_Bantamweight_rank', 'R_Featherweight_rank', 'no_of_rounds', 'B_draw', 'B_Stance', 'R_win_by_TKO_Doctor_Stoppage', 'R_current_win_streak', 'B_avg_SIG_STR_landed', 'country']\",\n",
       "  '[\\'R_Height_cms\\', \\'R_Bantamweight_rank\\', \\'B_current_lose_streak\\', \\'avg_sub_att_dif\\', \\'B_Middleweight_rank\\', \\'R_current_win_streak\\', \\'total_round_dif\\', \\'B_avg_SUB_ATT\\', \\'B_avg_SIG_STR_landed\\', \\'age_dif\\', \\'B_Light Heavyweight_rank\\', \\'R_avg_TD_pct\\', \\'R_ev\\', \"B_Women\\'s Flyweight_rank\", \"B_Women\\'s Strawweight_rank\", \\'B_Bantamweight_rank\\', \\'R_Reach_cms\\', \\'B_win_by_Decision_Unanimous\\', \\'constant_1\\']',\n",
       "  '[\\'B_Stance\\', \\'R_current_lose_streak\\', \\'loss_dif\\', \\'B_win_by_Decision_Split\\', \\'R_Height_cms\\', \\'R_Bantamweight_rank\\', \\'B_current_lose_streak\\', \\'avg_sub_att_dif\\', \\'B_Middleweight_rank\\', \\'R_current_win_streak\\', \\'total_round_dif\\', \\'B_avg_SUB_ATT\\', \\'B_avg_SIG_STR_landed\\', \\'age_dif\\', \\'B_Light Heavyweight_rank\\', \\'R_avg_TD_pct\\', \\'R_ev\\', \"B_Women\\'s Flyweight_rank\", \"B_Women\\'s Strawweight_rank\", \\'B_Bantamweight_rank\\', \\'R_Reach_cms\\', \\'B_win_by_Decision_Unanimous\\', \\'constant_1\\']',\n",
       "  '[\"R_Women\\'s Featherweight_rank\", \\'B_Featherweight_rank\\', \\'B_win_by_KO/TKO\\', \\'R_Pound-for-Pound_rank\\', \\'reach_dif\\', \"R_Women\\'s Bantamweight_rank\", \\'age_dif\\', \\'weight_class\\', \\'B_Reach_cms\\', \\'B_Welterweight_rank\\', \\'B_total_title_bouts\\', \\'R_avg_TD_pct\\', \\'B_Bantamweight_rank\\', \\'R_Featherweight_rank\\', \\'no_of_rounds\\', \\'B_draw\\', \\'B_Stance\\', \\'R_win_by_TKO_Doctor_Stoppage\\', \\'R_current_win_streak\\', \\'B_avg_SIG_STR_landed\\', \\'country\\']',\n",
       "  '[\"R_Women\\'s Strawweight_rank\", \\'B_Lightweight_rank\\', \\'B_Pound-for-Pound_rank\\', \"R_Women\\'s Featherweight_rank\", \\'B_Featherweight_rank\\', \\'B_win_by_KO/TKO\\', \\'R_Pound-for-Pound_rank\\', \\'reach_dif\\', \"R_Women\\'s Bantamweight_rank\", \\'age_dif\\', \\'weight_class\\', \\'B_Reach_cms\\', \\'B_Welterweight_rank\\', \\'B_total_title_bouts\\', \\'R_avg_TD_pct\\', \\'B_Bantamweight_rank\\', \\'R_Featherweight_rank\\', \\'no_of_rounds\\', \\'B_draw\\', \\'B_Stance\\', \\'R_win_by_TKO_Doctor_Stoppage\\', \\'R_current_win_streak\\', \\'B_avg_SIG_STR_landed\\', \\'country\\']',\n",
       "  '[\"R_Women\\'s Flyweight_rank\", \\'R_draw\\', \"B_Women\\'s Strawweight_rank\", \\'B_Heavyweight_rank\\', \\'R_Light Heavyweight_rank\\', \\'B_win_by_TKO_Doctor_Stoppage\\', \\'R_Pound-for-Pound_rank\\', \\'R_avg_SUB_ATT\\', \\'R_win_by_Decision_Split\\', \\'R_wins\\', \\'empty_arena\\', \\'sub_dif\\', \\'R_Flyweight_rank\\', \\'height_dif\\', \\'B_total_title_bouts\\', \\'B_Bantamweight_rank\\', \\'R_longest_win_streak\\', \\'R_avg_TD_landed\\', \\'B_avg_SIG_STR_landed\\']'],\n",
       " ['0', '0', '0', '0', '1', '3', '2', '27', '1', '5', '33', '0', '5'],\n",
       " ['1127.190678',\n",
       "  '-950.9775482',\n",
       "  '1083.478862',\n",
       "  '407.0778238',\n",
       "  '-676.5402515',\n",
       "  '-528.4063021',\n",
       "  '-230.1792385',\n",
       "  '-1678.177933',\n",
       "  '-120.8077304',\n",
       "  '-1853.184993',\n",
       "  '1360.701045',\n",
       "  '66.33685544',\n",
       "  '2208.30267']]"
      ]
     },
     "execution_count": 3,
     "metadata": {},
     "output_type": "execute_result"
    }
   ],
   "source": [
    "models"
   ]
  },
  {
   "cell_type": "code",
   "execution_count": 4,
   "metadata": {},
   "outputs": [],
   "source": [
    "df = pd.read_csv(\"../data/kaggle_data/ufc-master.csv\")"
   ]
  },
  {
   "cell_type": "code",
   "execution_count": 5,
   "metadata": {},
   "outputs": [
    {
     "name": "stdout",
     "output_type": "stream",
     "text": [
      "250\n",
      "250\n",
      "250\n",
      "4543\n",
      "4543\n",
      "4543\n"
     ]
    },
    {
     "name": "stderr",
     "output_type": "stream",
     "text": [
      "<ipython-input-5-d6c2a1ffdd58>:5: SettingWithCopyWarning: \n",
      "A value is trying to be set on a copy of a slice from a DataFrame\n",
      "\n",
      "See the caveats in the documentation: https://pandas.pydata.org/pandas-docs/stable/user_guide/indexing.html#returning-a-view-versus-a-copy\n",
      "  df['label'][mask] = 0\n",
      "<ipython-input-5-d6c2a1ffdd58>:7: SettingWithCopyWarning: \n",
      "A value is trying to be set on a copy of a slice from a DataFrame\n",
      "\n",
      "See the caveats in the documentation: https://pandas.pydata.org/pandas-docs/stable/user_guide/indexing.html#returning-a-view-versus-a-copy\n",
      "  df['label'][mask] = 1\n"
     ]
    }
   ],
   "source": [
    "#Let's put all the labels in a dataframe\n",
    "df['label'] = ''\n",
    "#If the winner is not Red or Blue we can remove it.\n",
    "mask = df['Winner'] == 'Red'\n",
    "df['label'][mask] = 0\n",
    "mask = df['Winner'] == 'Blue'\n",
    "df['label'][mask] = 1\n",
    "\n",
    "#df[\"Winner\"] = df[\"Winner\"].astype('category')\n",
    "df = df[(df['Winner'] == 'Blue') | (df['Winner'] == 'Red')]\n",
    "\n",
    "\n",
    "#Make sure lable is numeric\n",
    "df['label'] = pd.to_numeric(df['label'], errors='coerce')\n",
    "\n",
    "#Let's fix the date\n",
    "df['date'] = pd.to_datetime(df['date'])\n",
    "\n",
    "#Create a label df:\n",
    "label_df = df['label']\n",
    "\n",
    "#Let's create an odds df too:\n",
    "odds_df = df[['R_odds', 'B_odds']]\n",
    "\n",
    "#Split the test set.  We are always(?) going to use the last 200 matches as the test set, so we don't want those around\n",
    "#as we pick models\n",
    "\n",
    "df_train = df[250:]\n",
    "odds_train = odds_df[250:]\n",
    "label_train = label_df[250:]\n",
    "\n",
    "df_test = df[:250]\n",
    "odds_test = odds_df[:250]\n",
    "label_test = label_df[:250]\n",
    "\n",
    "print(len(df_test))\n",
    "print(len(odds_test))\n",
    "print(len(label_test))\n",
    "\n",
    "print(len(df_train))\n",
    "print(len(odds_train))\n",
    "print(len(label_train))"
   ]
  },
  {
   "cell_type": "code",
   "execution_count": 6,
   "metadata": {},
   "outputs": [
    {
     "name": "stdout",
     "output_type": "stream",
     "text": [
      "250\n",
      "4543\n"
     ]
    }
   ],
   "source": [
    "if remove_fight_island:\n",
    "    ##Let's remove the Fight island contests and see how that affects score\n",
    "    df_test_no_fight_island = df_test[(df_test['location'] != 'Abu Dhabi, Abu Dhabi, United Arab Emirates')]\n",
    "    df_train_no_fight_island = df_train[(df_train['location'] != 'Abu Dhabi, Abu Dhabi, United Arab Emirates')]\n",
    "    df_test = df_test_no_fight_island\n",
    "    df_train = df_train_no_fight_island\n",
    "\n",
    "\n",
    "\n",
    "print(len(df_test))\n",
    "print(len(df_train))\n"
   ]
  },
  {
   "cell_type": "code",
   "execution_count": 7,
   "metadata": {},
   "outputs": [
    {
     "name": "stderr",
     "output_type": "stream",
     "text": [
      "C:\\Users\\matth\\anaconda3\\lib\\site-packages\\pandas\\core\\frame.py:3191: SettingWithCopyWarning: \n",
      "A value is trying to be set on a copy of a slice from a DataFrame.\n",
      "Try using .loc[row_indexer,col_indexer] = value instead\n",
      "\n",
      "See the caveats in the documentation: https://pandas.pydata.org/pandas-docs/stable/user_guide/indexing.html#returning-a-view-versus-a-copy\n",
      "  self[k1] = value[k2]\n"
     ]
    }
   ],
   "source": [
    "#Set a value for the nulls in the ranks\n",
    "\n",
    "weightclass_list = ['B_match_weightclass_rank', 'R_match_weightclass_rank', \"R_Women's Flyweight_rank\", \"R_Women's Featherweight_rank\", \"R_Women's Strawweight_rank\", \"R_Women's Bantamweight_rank\", 'R_Heavyweight_rank', 'R_Light Heavyweight_rank', 'R_Middleweight_rank', 'R_Welterweight_rank', 'R_Lightweight_rank', 'R_Featherweight_rank', 'R_Bantamweight_rank', 'R_Flyweight_rank', 'R_Pound-for-Pound_rank', \"B_Women's Flyweight_rank\", \"B_Women's Featherweight_rank\", \"B_Women's Strawweight_rank\", \"B_Women's Bantamweight_rank\", 'B_Heavyweight_rank', 'B_Light Heavyweight_rank', 'B_Middleweight_rank', 'B_Welterweight_rank', 'B_Lightweight_rank', 'B_Featherweight_rank', 'B_Bantamweight_rank', 'B_Flyweight_rank', 'B_Pound-for-Pound_rank']\n",
    "df_train[weightclass_list] = df_train[weightclass_list].fillna(17)\n",
    "df_test[weightclass_list] = df_test[weightclass_list].fillna(17)"
   ]
  },
  {
   "cell_type": "code",
   "execution_count": 8,
   "metadata": {},
   "outputs": [
    {
     "data": {
      "text/plain": [
       "13"
      ]
     },
     "execution_count": 8,
     "metadata": {},
     "output_type": "execute_result"
    }
   ],
   "source": [
    "len(models[0])"
   ]
  },
  {
   "cell_type": "code",
   "execution_count": null,
   "metadata": {},
   "outputs": [],
   "source": []
  },
  {
   "cell_type": "code",
   "execution_count": 9,
   "metadata": {},
   "outputs": [
    {
     "data": {
      "text/plain": [
       "(4543, 10)"
      ]
     },
     "metadata": {},
     "output_type": "display_data"
    },
    {
     "data": {
      "text/plain": [
       "(4543,)"
      ]
     },
     "metadata": {},
     "output_type": "display_data"
    },
    {
     "data": {
      "text/plain": [
       "(4543, 2)"
      ]
     },
     "metadata": {},
     "output_type": "display_data"
    },
    {
     "data": {
      "text/plain": [
       "(250, 10)"
      ]
     },
     "metadata": {},
     "output_type": "display_data"
    },
    {
     "data": {
      "text/plain": [
       "(250,)"
      ]
     },
     "metadata": {},
     "output_type": "display_data"
    },
    {
     "data": {
      "text/plain": [
       "(250, 2)"
      ]
     },
     "metadata": {},
     "output_type": "display_data"
    },
    {
     "data": {
      "text/html": [
       "<div>\n",
       "<style scoped>\n",
       "    .dataframe tbody tr th:only-of-type {\n",
       "        vertical-align: middle;\n",
       "    }\n",
       "\n",
       "    .dataframe tbody tr th {\n",
       "        vertical-align: top;\n",
       "    }\n",
       "\n",
       "    .dataframe thead th {\n",
       "        text-align: right;\n",
       "    }\n",
       "</style>\n",
       "<table border=\"1\" class=\"dataframe\">\n",
       "  <thead>\n",
       "    <tr style=\"text-align: right;\">\n",
       "      <th></th>\n",
       "      <th>t1_odds</th>\n",
       "      <th>t2_odds</th>\n",
       "      <th>t1_prob</th>\n",
       "      <th>t2_prob</th>\n",
       "      <th>winner</th>\n",
       "    </tr>\n",
       "  </thead>\n",
       "  <tbody>\n",
       "    <tr>\n",
       "      <th>0</th>\n",
       "      <td>-900</td>\n",
       "      <td>600</td>\n",
       "      <td>0.928886</td>\n",
       "      <td>0.071114</td>\n",
       "      <td>0</td>\n",
       "    </tr>\n",
       "    <tr>\n",
       "      <th>1</th>\n",
       "      <td>155</td>\n",
       "      <td>-180</td>\n",
       "      <td>0.460000</td>\n",
       "      <td>0.540000</td>\n",
       "      <td>1</td>\n",
       "    </tr>\n",
       "    <tr>\n",
       "      <th>2</th>\n",
       "      <td>220</td>\n",
       "      <td>-275</td>\n",
       "      <td>0.313335</td>\n",
       "      <td>0.686665</td>\n",
       "      <td>1</td>\n",
       "    </tr>\n",
       "    <tr>\n",
       "      <th>3</th>\n",
       "      <td>-210</td>\n",
       "      <td>175</td>\n",
       "      <td>0.652388</td>\n",
       "      <td>0.347612</td>\n",
       "      <td>0</td>\n",
       "    </tr>\n",
       "    <tr>\n",
       "      <th>4</th>\n",
       "      <td>-150</td>\n",
       "      <td>130</td>\n",
       "      <td>0.584067</td>\n",
       "      <td>0.415933</td>\n",
       "      <td>1</td>\n",
       "    </tr>\n",
       "    <tr>\n",
       "      <th>...</th>\n",
       "      <td>...</td>\n",
       "      <td>...</td>\n",
       "      <td>...</td>\n",
       "      <td>...</td>\n",
       "      <td>...</td>\n",
       "    </tr>\n",
       "    <tr>\n",
       "      <th>245</th>\n",
       "      <td>120</td>\n",
       "      <td>-148</td>\n",
       "      <td>0.496936</td>\n",
       "      <td>0.503064</td>\n",
       "      <td>0</td>\n",
       "    </tr>\n",
       "    <tr>\n",
       "      <th>246</th>\n",
       "      <td>185</td>\n",
       "      <td>-230</td>\n",
       "      <td>0.378376</td>\n",
       "      <td>0.621624</td>\n",
       "      <td>0</td>\n",
       "    </tr>\n",
       "    <tr>\n",
       "      <th>247</th>\n",
       "      <td>-134</td>\n",
       "      <td>110</td>\n",
       "      <td>0.550377</td>\n",
       "      <td>0.449623</td>\n",
       "      <td>0</td>\n",
       "    </tr>\n",
       "    <tr>\n",
       "      <th>248</th>\n",
       "      <td>260</td>\n",
       "      <td>-335</td>\n",
       "      <td>0.293549</td>\n",
       "      <td>0.706451</td>\n",
       "      <td>1</td>\n",
       "    </tr>\n",
       "    <tr>\n",
       "      <th>249</th>\n",
       "      <td>105</td>\n",
       "      <td>-130</td>\n",
       "      <td>0.506263</td>\n",
       "      <td>0.493737</td>\n",
       "      <td>0</td>\n",
       "    </tr>\n",
       "  </tbody>\n",
       "</table>\n",
       "<p>250 rows × 5 columns</p>\n",
       "</div>"
      ],
      "text/plain": [
       "     t1_odds  t2_odds   t1_prob   t2_prob  winner\n",
       "0       -900      600  0.928886  0.071114       0\n",
       "1        155     -180  0.460000  0.540000       1\n",
       "2        220     -275  0.313335  0.686665       1\n",
       "3       -210      175  0.652388  0.347612       0\n",
       "4       -150      130  0.584067  0.415933       1\n",
       "..       ...      ...       ...       ...     ...\n",
       "245      120     -148  0.496936  0.503064       0\n",
       "246      185     -230  0.378376  0.621624       0\n",
       "247     -134      110  0.550377  0.449623       0\n",
       "248      260     -335  0.293549  0.706451       1\n",
       "249      105     -130  0.506263  0.493737       0\n",
       "\n",
       "[250 rows x 5 columns]"
      ]
     },
     "metadata": {},
     "output_type": "display_data"
    },
    {
     "name": "stdout",
     "output_type": "stream",
     "text": [
      "\n",
      "          Number of matches: 250\n",
      "          Number of bets: 117\n",
      "          Number of winning bets: 60\n",
      "          Number of losing bets: 58\n",
      "          Number of underdog bets: 97\n",
      "          Number of underdog wins: 42\n",
      "          Number of underdog losses: 55\n",
      "          Number of Favorite bets: 21\n",
      "          Number of favorite wins: 18\n",
      "          Number of favorite losses: 3\n",
      "          Number of even bets: 0\n",
      "          Number of even wins: 0\n",
      "          Number of even losses: 0\n",
      "          Profit: 1127.19067842605\n",
      "          Profit per bet: 9.634108362615812\n",
      "          Profit per match: 4.5087627137042\n",
      "          \n",
      "          \n"
     ]
    },
    {
     "data": {
      "text/plain": [
       "(3711, 14)"
      ]
     },
     "metadata": {},
     "output_type": "display_data"
    },
    {
     "data": {
      "text/plain": [
       "(3711,)"
      ]
     },
     "metadata": {},
     "output_type": "display_data"
    },
    {
     "data": {
      "text/plain": [
       "(3711, 2)"
      ]
     },
     "metadata": {},
     "output_type": "display_data"
    },
    {
     "data": {
      "text/plain": [
       "(250, 14)"
      ]
     },
     "metadata": {},
     "output_type": "display_data"
    },
    {
     "data": {
      "text/plain": [
       "(250,)"
      ]
     },
     "metadata": {},
     "output_type": "display_data"
    },
    {
     "data": {
      "text/plain": [
       "(250, 2)"
      ]
     },
     "metadata": {},
     "output_type": "display_data"
    },
    {
     "data": {
      "text/html": [
       "<div>\n",
       "<style scoped>\n",
       "    .dataframe tbody tr th:only-of-type {\n",
       "        vertical-align: middle;\n",
       "    }\n",
       "\n",
       "    .dataframe tbody tr th {\n",
       "        vertical-align: top;\n",
       "    }\n",
       "\n",
       "    .dataframe thead th {\n",
       "        text-align: right;\n",
       "    }\n",
       "</style>\n",
       "<table border=\"1\" class=\"dataframe\">\n",
       "  <thead>\n",
       "    <tr style=\"text-align: right;\">\n",
       "      <th></th>\n",
       "      <th>t1_odds</th>\n",
       "      <th>t2_odds</th>\n",
       "      <th>t1_prob</th>\n",
       "      <th>t2_prob</th>\n",
       "      <th>winner</th>\n",
       "    </tr>\n",
       "  </thead>\n",
       "  <tbody>\n",
       "    <tr>\n",
       "      <th>0</th>\n",
       "      <td>-900</td>\n",
       "      <td>600</td>\n",
       "      <td>0.986927</td>\n",
       "      <td>0.013073</td>\n",
       "      <td>0</td>\n",
       "    </tr>\n",
       "    <tr>\n",
       "      <th>1</th>\n",
       "      <td>155</td>\n",
       "      <td>-180</td>\n",
       "      <td>0.679013</td>\n",
       "      <td>0.320987</td>\n",
       "      <td>1</td>\n",
       "    </tr>\n",
       "    <tr>\n",
       "      <th>2</th>\n",
       "      <td>220</td>\n",
       "      <td>-275</td>\n",
       "      <td>0.381765</td>\n",
       "      <td>0.618235</td>\n",
       "      <td>1</td>\n",
       "    </tr>\n",
       "    <tr>\n",
       "      <th>3</th>\n",
       "      <td>-210</td>\n",
       "      <td>175</td>\n",
       "      <td>0.821916</td>\n",
       "      <td>0.178084</td>\n",
       "      <td>0</td>\n",
       "    </tr>\n",
       "    <tr>\n",
       "      <th>4</th>\n",
       "      <td>-150</td>\n",
       "      <td>130</td>\n",
       "      <td>0.719641</td>\n",
       "      <td>0.280359</td>\n",
       "      <td>1</td>\n",
       "    </tr>\n",
       "    <tr>\n",
       "      <th>...</th>\n",
       "      <td>...</td>\n",
       "      <td>...</td>\n",
       "      <td>...</td>\n",
       "      <td>...</td>\n",
       "      <td>...</td>\n",
       "    </tr>\n",
       "    <tr>\n",
       "      <th>245</th>\n",
       "      <td>120</td>\n",
       "      <td>-148</td>\n",
       "      <td>0.458971</td>\n",
       "      <td>0.541029</td>\n",
       "      <td>0</td>\n",
       "    </tr>\n",
       "    <tr>\n",
       "      <th>246</th>\n",
       "      <td>185</td>\n",
       "      <td>-230</td>\n",
       "      <td>0.383467</td>\n",
       "      <td>0.616533</td>\n",
       "      <td>0</td>\n",
       "    </tr>\n",
       "    <tr>\n",
       "      <th>247</th>\n",
       "      <td>-134</td>\n",
       "      <td>110</td>\n",
       "      <td>0.739737</td>\n",
       "      <td>0.260263</td>\n",
       "      <td>0</td>\n",
       "    </tr>\n",
       "    <tr>\n",
       "      <th>248</th>\n",
       "      <td>260</td>\n",
       "      <td>-335</td>\n",
       "      <td>0.595924</td>\n",
       "      <td>0.404076</td>\n",
       "      <td>1</td>\n",
       "    </tr>\n",
       "    <tr>\n",
       "      <th>249</th>\n",
       "      <td>105</td>\n",
       "      <td>-130</td>\n",
       "      <td>0.415938</td>\n",
       "      <td>0.584062</td>\n",
       "      <td>0</td>\n",
       "    </tr>\n",
       "  </tbody>\n",
       "</table>\n",
       "<p>250 rows × 5 columns</p>\n",
       "</div>"
      ],
      "text/plain": [
       "     t1_odds  t2_odds   t1_prob   t2_prob  winner\n",
       "0       -900      600  0.986927  0.013073       0\n",
       "1        155     -180  0.679013  0.320987       1\n",
       "2        220     -275  0.381765  0.618235       1\n",
       "3       -210      175  0.821916  0.178084       0\n",
       "4       -150      130  0.719641  0.280359       1\n",
       "..       ...      ...       ...       ...     ...\n",
       "245      120     -148  0.458971  0.541029       0\n",
       "246      185     -230  0.383467  0.616533       0\n",
       "247     -134      110  0.739737  0.260263       0\n",
       "248      260     -335  0.595924  0.404076       1\n",
       "249      105     -130  0.415938  0.584062       0\n",
       "\n",
       "[250 rows x 5 columns]"
      ]
     },
     "metadata": {},
     "output_type": "display_data"
    },
    {
     "name": "stdout",
     "output_type": "stream",
     "text": [
      "\n",
      "          Number of matches: 250\n",
      "          Number of bets: 232\n",
      "          Number of winning bets: 119\n",
      "          Number of losing bets: 113\n",
      "          Number of underdog bets: 109\n",
      "          Number of underdog wins: 42\n",
      "          Number of underdog losses: 67\n",
      "          Number of Favorite bets: 121\n",
      "          Number of favorite wins: 77\n",
      "          Number of favorite losses: 44\n",
      "          Number of even bets: 2\n",
      "          Number of even wins: 0\n",
      "          Number of even losses: 2\n",
      "          Profit: -950.9775482241005\n",
      "          Profit per bet: -4.099041156138364\n",
      "          Profit per match: -3.803910192896402\n",
      "          \n",
      "          \n"
     ]
    },
    {
     "data": {
      "text/plain": [
       "(3711, 18)"
      ]
     },
     "metadata": {},
     "output_type": "display_data"
    },
    {
     "data": {
      "text/plain": [
       "(3711,)"
      ]
     },
     "metadata": {},
     "output_type": "display_data"
    },
    {
     "data": {
      "text/plain": [
       "(3711, 2)"
      ]
     },
     "metadata": {},
     "output_type": "display_data"
    },
    {
     "data": {
      "text/plain": [
       "(250, 18)"
      ]
     },
     "metadata": {},
     "output_type": "display_data"
    },
    {
     "data": {
      "text/plain": [
       "(250,)"
      ]
     },
     "metadata": {},
     "output_type": "display_data"
    },
    {
     "data": {
      "text/plain": [
       "(250, 2)"
      ]
     },
     "metadata": {},
     "output_type": "display_data"
    },
    {
     "data": {
      "text/html": [
       "<div>\n",
       "<style scoped>\n",
       "    .dataframe tbody tr th:only-of-type {\n",
       "        vertical-align: middle;\n",
       "    }\n",
       "\n",
       "    .dataframe tbody tr th {\n",
       "        vertical-align: top;\n",
       "    }\n",
       "\n",
       "    .dataframe thead th {\n",
       "        text-align: right;\n",
       "    }\n",
       "</style>\n",
       "<table border=\"1\" class=\"dataframe\">\n",
       "  <thead>\n",
       "    <tr style=\"text-align: right;\">\n",
       "      <th></th>\n",
       "      <th>t1_odds</th>\n",
       "      <th>t2_odds</th>\n",
       "      <th>t1_prob</th>\n",
       "      <th>t2_prob</th>\n",
       "      <th>winner</th>\n",
       "    </tr>\n",
       "  </thead>\n",
       "  <tbody>\n",
       "    <tr>\n",
       "      <th>0</th>\n",
       "      <td>-900</td>\n",
       "      <td>600</td>\n",
       "      <td>0.990178</td>\n",
       "      <td>0.009822</td>\n",
       "      <td>0</td>\n",
       "    </tr>\n",
       "    <tr>\n",
       "      <th>1</th>\n",
       "      <td>155</td>\n",
       "      <td>-180</td>\n",
       "      <td>0.679565</td>\n",
       "      <td>0.320435</td>\n",
       "      <td>1</td>\n",
       "    </tr>\n",
       "    <tr>\n",
       "      <th>2</th>\n",
       "      <td>220</td>\n",
       "      <td>-275</td>\n",
       "      <td>0.287444</td>\n",
       "      <td>0.712556</td>\n",
       "      <td>1</td>\n",
       "    </tr>\n",
       "    <tr>\n",
       "      <th>3</th>\n",
       "      <td>-210</td>\n",
       "      <td>175</td>\n",
       "      <td>0.752975</td>\n",
       "      <td>0.247025</td>\n",
       "      <td>0</td>\n",
       "    </tr>\n",
       "    <tr>\n",
       "      <th>4</th>\n",
       "      <td>-150</td>\n",
       "      <td>130</td>\n",
       "      <td>0.626800</td>\n",
       "      <td>0.373200</td>\n",
       "      <td>1</td>\n",
       "    </tr>\n",
       "    <tr>\n",
       "      <th>...</th>\n",
       "      <td>...</td>\n",
       "      <td>...</td>\n",
       "      <td>...</td>\n",
       "      <td>...</td>\n",
       "      <td>...</td>\n",
       "    </tr>\n",
       "    <tr>\n",
       "      <th>245</th>\n",
       "      <td>120</td>\n",
       "      <td>-148</td>\n",
       "      <td>0.535337</td>\n",
       "      <td>0.464663</td>\n",
       "      <td>0</td>\n",
       "    </tr>\n",
       "    <tr>\n",
       "      <th>246</th>\n",
       "      <td>185</td>\n",
       "      <td>-230</td>\n",
       "      <td>0.405415</td>\n",
       "      <td>0.594585</td>\n",
       "      <td>0</td>\n",
       "    </tr>\n",
       "    <tr>\n",
       "      <th>247</th>\n",
       "      <td>-134</td>\n",
       "      <td>110</td>\n",
       "      <td>0.732068</td>\n",
       "      <td>0.267932</td>\n",
       "      <td>0</td>\n",
       "    </tr>\n",
       "    <tr>\n",
       "      <th>248</th>\n",
       "      <td>260</td>\n",
       "      <td>-335</td>\n",
       "      <td>0.465480</td>\n",
       "      <td>0.534520</td>\n",
       "      <td>1</td>\n",
       "    </tr>\n",
       "    <tr>\n",
       "      <th>249</th>\n",
       "      <td>105</td>\n",
       "      <td>-130</td>\n",
       "      <td>0.489539</td>\n",
       "      <td>0.510461</td>\n",
       "      <td>0</td>\n",
       "    </tr>\n",
       "  </tbody>\n",
       "</table>\n",
       "<p>250 rows × 5 columns</p>\n",
       "</div>"
      ],
      "text/plain": [
       "     t1_odds  t2_odds   t1_prob   t2_prob  winner\n",
       "0       -900      600  0.990178  0.009822       0\n",
       "1        155     -180  0.679565  0.320435       1\n",
       "2        220     -275  0.287444  0.712556       1\n",
       "3       -210      175  0.752975  0.247025       0\n",
       "4       -150      130  0.626800  0.373200       1\n",
       "..       ...      ...       ...       ...     ...\n",
       "245      120     -148  0.535337  0.464663       0\n",
       "246      185     -230  0.405415  0.594585       0\n",
       "247     -134      110  0.732068  0.267932       0\n",
       "248      260     -335  0.465480  0.534520       1\n",
       "249      105     -130  0.489539  0.510461       0\n",
       "\n",
       "[250 rows x 5 columns]"
      ]
     },
     "metadata": {},
     "output_type": "display_data"
    },
    {
     "name": "stdout",
     "output_type": "stream",
     "text": [
      "\n",
      "          Number of matches: 250\n",
      "          Number of bets: 228\n",
      "          Number of winning bets: 124\n",
      "          Number of losing bets: 105\n",
      "          Number of underdog bets: 115\n",
      "          Number of underdog wins: 47\n",
      "          Number of underdog losses: 68\n",
      "          Number of Favorite bets: 112\n",
      "          Number of favorite wins: 77\n",
      "          Number of favorite losses: 35\n",
      "          Number of even bets: 2\n",
      "          Number of even wins: 0\n",
      "          Number of even losses: 2\n",
      "          Profit: 1083.4788618676141\n",
      "          Profit per bet: 4.7521002713491844\n",
      "          Profit per match: 4.333915447470456\n",
      "          \n",
      "          \n"
     ]
    },
    {
     "data": {
      "text/plain": [
       "(4543, 172)"
      ]
     },
     "metadata": {},
     "output_type": "display_data"
    },
    {
     "data": {
      "text/plain": [
       "(4543,)"
      ]
     },
     "metadata": {},
     "output_type": "display_data"
    },
    {
     "data": {
      "text/plain": [
       "(4543, 2)"
      ]
     },
     "metadata": {},
     "output_type": "display_data"
    },
    {
     "data": {
      "text/plain": [
       "(250, 172)"
      ]
     },
     "metadata": {},
     "output_type": "display_data"
    },
    {
     "data": {
      "text/plain": [
       "(250,)"
      ]
     },
     "metadata": {},
     "output_type": "display_data"
    },
    {
     "data": {
      "text/plain": [
       "(250, 2)"
      ]
     },
     "metadata": {},
     "output_type": "display_data"
    },
    {
     "data": {
      "text/html": [
       "<div>\n",
       "<style scoped>\n",
       "    .dataframe tbody tr th:only-of-type {\n",
       "        vertical-align: middle;\n",
       "    }\n",
       "\n",
       "    .dataframe tbody tr th {\n",
       "        vertical-align: top;\n",
       "    }\n",
       "\n",
       "    .dataframe thead th {\n",
       "        text-align: right;\n",
       "    }\n",
       "</style>\n",
       "<table border=\"1\" class=\"dataframe\">\n",
       "  <thead>\n",
       "    <tr style=\"text-align: right;\">\n",
       "      <th></th>\n",
       "      <th>t1_odds</th>\n",
       "      <th>t2_odds</th>\n",
       "      <th>t1_prob</th>\n",
       "      <th>t2_prob</th>\n",
       "      <th>winner</th>\n",
       "    </tr>\n",
       "  </thead>\n",
       "  <tbody>\n",
       "    <tr>\n",
       "      <th>0</th>\n",
       "      <td>-900</td>\n",
       "      <td>600</td>\n",
       "      <td>0.874630</td>\n",
       "      <td>0.125370</td>\n",
       "      <td>0</td>\n",
       "    </tr>\n",
       "    <tr>\n",
       "      <th>1</th>\n",
       "      <td>155</td>\n",
       "      <td>-180</td>\n",
       "      <td>0.395987</td>\n",
       "      <td>0.604013</td>\n",
       "      <td>1</td>\n",
       "    </tr>\n",
       "    <tr>\n",
       "      <th>2</th>\n",
       "      <td>220</td>\n",
       "      <td>-275</td>\n",
       "      <td>0.523112</td>\n",
       "      <td>0.476888</td>\n",
       "      <td>1</td>\n",
       "    </tr>\n",
       "    <tr>\n",
       "      <th>3</th>\n",
       "      <td>-210</td>\n",
       "      <td>175</td>\n",
       "      <td>0.682817</td>\n",
       "      <td>0.317183</td>\n",
       "      <td>0</td>\n",
       "    </tr>\n",
       "    <tr>\n",
       "      <th>4</th>\n",
       "      <td>-150</td>\n",
       "      <td>130</td>\n",
       "      <td>0.613462</td>\n",
       "      <td>0.386538</td>\n",
       "      <td>1</td>\n",
       "    </tr>\n",
       "    <tr>\n",
       "      <th>...</th>\n",
       "      <td>...</td>\n",
       "      <td>...</td>\n",
       "      <td>...</td>\n",
       "      <td>...</td>\n",
       "      <td>...</td>\n",
       "    </tr>\n",
       "    <tr>\n",
       "      <th>245</th>\n",
       "      <td>120</td>\n",
       "      <td>-148</td>\n",
       "      <td>0.325788</td>\n",
       "      <td>0.674212</td>\n",
       "      <td>0</td>\n",
       "    </tr>\n",
       "    <tr>\n",
       "      <th>246</th>\n",
       "      <td>185</td>\n",
       "      <td>-230</td>\n",
       "      <td>0.386800</td>\n",
       "      <td>0.613200</td>\n",
       "      <td>0</td>\n",
       "    </tr>\n",
       "    <tr>\n",
       "      <th>247</th>\n",
       "      <td>-134</td>\n",
       "      <td>110</td>\n",
       "      <td>0.546457</td>\n",
       "      <td>0.453543</td>\n",
       "      <td>0</td>\n",
       "    </tr>\n",
       "    <tr>\n",
       "      <th>248</th>\n",
       "      <td>260</td>\n",
       "      <td>-335</td>\n",
       "      <td>0.373292</td>\n",
       "      <td>0.626708</td>\n",
       "      <td>1</td>\n",
       "    </tr>\n",
       "    <tr>\n",
       "      <th>249</th>\n",
       "      <td>105</td>\n",
       "      <td>-130</td>\n",
       "      <td>0.570482</td>\n",
       "      <td>0.429518</td>\n",
       "      <td>0</td>\n",
       "    </tr>\n",
       "  </tbody>\n",
       "</table>\n",
       "<p>250 rows × 5 columns</p>\n",
       "</div>"
      ],
      "text/plain": [
       "     t1_odds  t2_odds   t1_prob   t2_prob  winner\n",
       "0       -900      600  0.874630  0.125370       0\n",
       "1        155     -180  0.395987  0.604013       1\n",
       "2        220     -275  0.523112  0.476888       1\n",
       "3       -210      175  0.682817  0.317183       0\n",
       "4       -150      130  0.613462  0.386538       1\n",
       "..       ...      ...       ...       ...     ...\n",
       "245      120     -148  0.325788  0.674212       0\n",
       "246      185     -230  0.386800  0.613200       0\n",
       "247     -134      110  0.546457  0.453543       0\n",
       "248      260     -335  0.373292  0.626708       1\n",
       "249      105     -130  0.570482  0.429518       0\n",
       "\n",
       "[250 rows x 5 columns]"
      ]
     },
     "metadata": {},
     "output_type": "display_data"
    },
    {
     "name": "stdout",
     "output_type": "stream",
     "text": [
      "\n",
      "          Number of matches: 250\n",
      "          Number of bets: 195\n",
      "          Number of winning bets: 108\n",
      "          Number of losing bets: 88\n",
      "          Number of underdog bets: 91\n",
      "          Number of underdog wins: 41\n",
      "          Number of underdog losses: 50\n",
      "          Number of Favorite bets: 103\n",
      "          Number of favorite wins: 67\n",
      "          Number of favorite losses: 36\n",
      "          Number of even bets: 2\n",
      "          Number of even wins: 0\n",
      "          Number of even losses: 2\n",
      "          Profit: 407.0778237930258\n",
      "          Profit per bet: 2.0875785835539786\n",
      "          Profit per match: 1.6283112951721033\n",
      "          \n",
      "          \n"
     ]
    },
    {
     "data": {
      "text/plain": [
       "(3600, 22)"
      ]
     },
     "metadata": {},
     "output_type": "display_data"
    },
    {
     "data": {
      "text/plain": [
       "(3600,)"
      ]
     },
     "metadata": {},
     "output_type": "display_data"
    },
    {
     "data": {
      "text/plain": [
       "(3600, 2)"
      ]
     },
     "metadata": {},
     "output_type": "display_data"
    },
    {
     "data": {
      "text/plain": [
       "(250, 22)"
      ]
     },
     "metadata": {},
     "output_type": "display_data"
    },
    {
     "data": {
      "text/plain": [
       "(250,)"
      ]
     },
     "metadata": {},
     "output_type": "display_data"
    },
    {
     "data": {
      "text/plain": [
       "(250, 2)"
      ]
     },
     "metadata": {},
     "output_type": "display_data"
    },
    {
     "data": {
      "text/html": [
       "<div>\n",
       "<style scoped>\n",
       "    .dataframe tbody tr th:only-of-type {\n",
       "        vertical-align: middle;\n",
       "    }\n",
       "\n",
       "    .dataframe tbody tr th {\n",
       "        vertical-align: top;\n",
       "    }\n",
       "\n",
       "    .dataframe thead th {\n",
       "        text-align: right;\n",
       "    }\n",
       "</style>\n",
       "<table border=\"1\" class=\"dataframe\">\n",
       "  <thead>\n",
       "    <tr style=\"text-align: right;\">\n",
       "      <th></th>\n",
       "      <th>t1_odds</th>\n",
       "      <th>t2_odds</th>\n",
       "      <th>t1_prob</th>\n",
       "      <th>t2_prob</th>\n",
       "      <th>winner</th>\n",
       "    </tr>\n",
       "  </thead>\n",
       "  <tbody>\n",
       "    <tr>\n",
       "      <th>0</th>\n",
       "      <td>-900</td>\n",
       "      <td>600</td>\n",
       "      <td>0.990874</td>\n",
       "      <td>0.009126</td>\n",
       "      <td>0</td>\n",
       "    </tr>\n",
       "    <tr>\n",
       "      <th>1</th>\n",
       "      <td>155</td>\n",
       "      <td>-180</td>\n",
       "      <td>0.820630</td>\n",
       "      <td>0.179370</td>\n",
       "      <td>1</td>\n",
       "    </tr>\n",
       "    <tr>\n",
       "      <th>2</th>\n",
       "      <td>220</td>\n",
       "      <td>-275</td>\n",
       "      <td>0.861829</td>\n",
       "      <td>0.138171</td>\n",
       "      <td>1</td>\n",
       "    </tr>\n",
       "    <tr>\n",
       "      <th>3</th>\n",
       "      <td>-210</td>\n",
       "      <td>175</td>\n",
       "      <td>0.828542</td>\n",
       "      <td>0.171458</td>\n",
       "      <td>0</td>\n",
       "    </tr>\n",
       "    <tr>\n",
       "      <th>4</th>\n",
       "      <td>-150</td>\n",
       "      <td>130</td>\n",
       "      <td>0.665282</td>\n",
       "      <td>0.334718</td>\n",
       "      <td>1</td>\n",
       "    </tr>\n",
       "    <tr>\n",
       "      <th>...</th>\n",
       "      <td>...</td>\n",
       "      <td>...</td>\n",
       "      <td>...</td>\n",
       "      <td>...</td>\n",
       "      <td>...</td>\n",
       "    </tr>\n",
       "    <tr>\n",
       "      <th>245</th>\n",
       "      <td>120</td>\n",
       "      <td>-148</td>\n",
       "      <td>0.823368</td>\n",
       "      <td>0.176632</td>\n",
       "      <td>0</td>\n",
       "    </tr>\n",
       "    <tr>\n",
       "      <th>246</th>\n",
       "      <td>185</td>\n",
       "      <td>-230</td>\n",
       "      <td>0.519100</td>\n",
       "      <td>0.480900</td>\n",
       "      <td>0</td>\n",
       "    </tr>\n",
       "    <tr>\n",
       "      <th>247</th>\n",
       "      <td>-134</td>\n",
       "      <td>110</td>\n",
       "      <td>0.759627</td>\n",
       "      <td>0.240373</td>\n",
       "      <td>0</td>\n",
       "    </tr>\n",
       "    <tr>\n",
       "      <th>248</th>\n",
       "      <td>260</td>\n",
       "      <td>-335</td>\n",
       "      <td>0.492975</td>\n",
       "      <td>0.507025</td>\n",
       "      <td>1</td>\n",
       "    </tr>\n",
       "    <tr>\n",
       "      <th>249</th>\n",
       "      <td>105</td>\n",
       "      <td>-130</td>\n",
       "      <td>0.661562</td>\n",
       "      <td>0.338438</td>\n",
       "      <td>0</td>\n",
       "    </tr>\n",
       "  </tbody>\n",
       "</table>\n",
       "<p>250 rows × 5 columns</p>\n",
       "</div>"
      ],
      "text/plain": [
       "     t1_odds  t2_odds   t1_prob   t2_prob  winner\n",
       "0       -900      600  0.990874  0.009126       0\n",
       "1        155     -180  0.820630  0.179370       1\n",
       "2        220     -275  0.861829  0.138171       1\n",
       "3       -210      175  0.828542  0.171458       0\n",
       "4       -150      130  0.665282  0.334718       1\n",
       "..       ...      ...       ...       ...     ...\n",
       "245      120     -148  0.823368  0.176632       0\n",
       "246      185     -230  0.519100  0.480900       0\n",
       "247     -134      110  0.759627  0.240373       0\n",
       "248      260     -335  0.492975  0.507025       1\n",
       "249      105     -130  0.661562  0.338438       0\n",
       "\n",
       "[250 rows x 5 columns]"
      ]
     },
     "metadata": {},
     "output_type": "display_data"
    },
    {
     "name": "stdout",
     "output_type": "stream",
     "text": [
      "\n",
      "          Number of matches: 250\n",
      "          Number of bets: 221\n",
      "          Number of winning bets: 117\n",
      "          Number of losing bets: 105\n",
      "          Number of underdog bets: 104\n",
      "          Number of underdog wins: 42\n",
      "          Number of underdog losses: 62\n",
      "          Number of Favorite bets: 116\n",
      "          Number of favorite wins: 75\n",
      "          Number of favorite losses: 41\n",
      "          Number of even bets: 2\n",
      "          Number of even wins: 0\n",
      "          Number of even losses: 2\n",
      "          Profit: -676.5402515344442\n",
      "          Profit per bet: -3.0612681064906977\n",
      "          Profit per match: -2.7061610061377768\n",
      "          \n",
      "          \n"
     ]
    },
    {
     "data": {
      "text/plain": [
       "(3600, 24)"
      ]
     },
     "metadata": {},
     "output_type": "display_data"
    },
    {
     "data": {
      "text/plain": [
       "(3600,)"
      ]
     },
     "metadata": {},
     "output_type": "display_data"
    },
    {
     "data": {
      "text/plain": [
       "(3600, 2)"
      ]
     },
     "metadata": {},
     "output_type": "display_data"
    },
    {
     "data": {
      "text/plain": [
       "(250, 24)"
      ]
     },
     "metadata": {},
     "output_type": "display_data"
    },
    {
     "data": {
      "text/plain": [
       "(250,)"
      ]
     },
     "metadata": {},
     "output_type": "display_data"
    },
    {
     "data": {
      "text/plain": [
       "(250, 2)"
      ]
     },
     "metadata": {},
     "output_type": "display_data"
    },
    {
     "data": {
      "text/html": [
       "<div>\n",
       "<style scoped>\n",
       "    .dataframe tbody tr th:only-of-type {\n",
       "        vertical-align: middle;\n",
       "    }\n",
       "\n",
       "    .dataframe tbody tr th {\n",
       "        vertical-align: top;\n",
       "    }\n",
       "\n",
       "    .dataframe thead th {\n",
       "        text-align: right;\n",
       "    }\n",
       "</style>\n",
       "<table border=\"1\" class=\"dataframe\">\n",
       "  <thead>\n",
       "    <tr style=\"text-align: right;\">\n",
       "      <th></th>\n",
       "      <th>t1_odds</th>\n",
       "      <th>t2_odds</th>\n",
       "      <th>t1_prob</th>\n",
       "      <th>t2_prob</th>\n",
       "      <th>winner</th>\n",
       "    </tr>\n",
       "  </thead>\n",
       "  <tbody>\n",
       "    <tr>\n",
       "      <th>0</th>\n",
       "      <td>-900</td>\n",
       "      <td>600</td>\n",
       "      <td>0.998311</td>\n",
       "      <td>0.001689</td>\n",
       "      <td>0</td>\n",
       "    </tr>\n",
       "    <tr>\n",
       "      <th>1</th>\n",
       "      <td>155</td>\n",
       "      <td>-180</td>\n",
       "      <td>0.793833</td>\n",
       "      <td>0.206167</td>\n",
       "      <td>1</td>\n",
       "    </tr>\n",
       "    <tr>\n",
       "      <th>2</th>\n",
       "      <td>220</td>\n",
       "      <td>-275</td>\n",
       "      <td>0.820244</td>\n",
       "      <td>0.179756</td>\n",
       "      <td>1</td>\n",
       "    </tr>\n",
       "    <tr>\n",
       "      <th>3</th>\n",
       "      <td>-210</td>\n",
       "      <td>175</td>\n",
       "      <td>0.985542</td>\n",
       "      <td>0.014458</td>\n",
       "      <td>0</td>\n",
       "    </tr>\n",
       "    <tr>\n",
       "      <th>4</th>\n",
       "      <td>-150</td>\n",
       "      <td>130</td>\n",
       "      <td>0.658210</td>\n",
       "      <td>0.341790</td>\n",
       "      <td>1</td>\n",
       "    </tr>\n",
       "    <tr>\n",
       "      <th>...</th>\n",
       "      <td>...</td>\n",
       "      <td>...</td>\n",
       "      <td>...</td>\n",
       "      <td>...</td>\n",
       "      <td>...</td>\n",
       "    </tr>\n",
       "    <tr>\n",
       "      <th>245</th>\n",
       "      <td>120</td>\n",
       "      <td>-148</td>\n",
       "      <td>0.914948</td>\n",
       "      <td>0.085052</td>\n",
       "      <td>0</td>\n",
       "    </tr>\n",
       "    <tr>\n",
       "      <th>246</th>\n",
       "      <td>185</td>\n",
       "      <td>-230</td>\n",
       "      <td>0.476493</td>\n",
       "      <td>0.523507</td>\n",
       "      <td>0</td>\n",
       "    </tr>\n",
       "    <tr>\n",
       "      <th>247</th>\n",
       "      <td>-134</td>\n",
       "      <td>110</td>\n",
       "      <td>0.730805</td>\n",
       "      <td>0.269195</td>\n",
       "      <td>0</td>\n",
       "    </tr>\n",
       "    <tr>\n",
       "      <th>248</th>\n",
       "      <td>260</td>\n",
       "      <td>-335</td>\n",
       "      <td>0.462004</td>\n",
       "      <td>0.537996</td>\n",
       "      <td>1</td>\n",
       "    </tr>\n",
       "    <tr>\n",
       "      <th>249</th>\n",
       "      <td>105</td>\n",
       "      <td>-130</td>\n",
       "      <td>0.590729</td>\n",
       "      <td>0.409271</td>\n",
       "      <td>0</td>\n",
       "    </tr>\n",
       "  </tbody>\n",
       "</table>\n",
       "<p>250 rows × 5 columns</p>\n",
       "</div>"
      ],
      "text/plain": [
       "     t1_odds  t2_odds   t1_prob   t2_prob  winner\n",
       "0       -900      600  0.998311  0.001689       0\n",
       "1        155     -180  0.793833  0.206167       1\n",
       "2        220     -275  0.820244  0.179756       1\n",
       "3       -210      175  0.985542  0.014458       0\n",
       "4       -150      130  0.658210  0.341790       1\n",
       "..       ...      ...       ...       ...     ...\n",
       "245      120     -148  0.914948  0.085052       0\n",
       "246      185     -230  0.476493  0.523507       0\n",
       "247     -134      110  0.730805  0.269195       0\n",
       "248      260     -335  0.462004  0.537996       1\n",
       "249      105     -130  0.590729  0.409271       0\n",
       "\n",
       "[250 rows x 5 columns]"
      ]
     },
     "metadata": {},
     "output_type": "display_data"
    },
    {
     "name": "stdout",
     "output_type": "stream",
     "text": [
      "\n",
      "          Number of matches: 250\n",
      "          Number of bets: 210\n",
      "          Number of winning bets: 109\n",
      "          Number of losing bets: 102\n",
      "          Number of underdog bets: 108\n",
      "          Number of underdog wins: 43\n",
      "          Number of underdog losses: 65\n",
      "          Number of Favorite bets: 101\n",
      "          Number of favorite wins: 66\n",
      "          Number of favorite losses: 35\n",
      "          Number of even bets: 2\n",
      "          Number of even wins: 0\n",
      "          Number of even losses: 2\n",
      "          Profit: -528.4063020903642\n",
      "          Profit per bet: -2.5162204861445914\n",
      "          Profit per match: -2.113625208361457\n",
      "          \n",
      "          \n"
     ]
    },
    {
     "data": {
      "text/plain": [
       "(3599, 22)"
      ]
     },
     "metadata": {},
     "output_type": "display_data"
    },
    {
     "data": {
      "text/plain": [
       "(3599,)"
      ]
     },
     "metadata": {},
     "output_type": "display_data"
    },
    {
     "data": {
      "text/plain": [
       "(3599, 2)"
      ]
     },
     "metadata": {},
     "output_type": "display_data"
    },
    {
     "data": {
      "text/plain": [
       "(250, 22)"
      ]
     },
     "metadata": {},
     "output_type": "display_data"
    },
    {
     "data": {
      "text/plain": [
       "(250,)"
      ]
     },
     "metadata": {},
     "output_type": "display_data"
    },
    {
     "data": {
      "text/plain": [
       "(250, 2)"
      ]
     },
     "metadata": {},
     "output_type": "display_data"
    },
    {
     "data": {
      "text/html": [
       "<div>\n",
       "<style scoped>\n",
       "    .dataframe tbody tr th:only-of-type {\n",
       "        vertical-align: middle;\n",
       "    }\n",
       "\n",
       "    .dataframe tbody tr th {\n",
       "        vertical-align: top;\n",
       "    }\n",
       "\n",
       "    .dataframe thead th {\n",
       "        text-align: right;\n",
       "    }\n",
       "</style>\n",
       "<table border=\"1\" class=\"dataframe\">\n",
       "  <thead>\n",
       "    <tr style=\"text-align: right;\">\n",
       "      <th></th>\n",
       "      <th>t1_odds</th>\n",
       "      <th>t2_odds</th>\n",
       "      <th>t1_prob</th>\n",
       "      <th>t2_prob</th>\n",
       "      <th>winner</th>\n",
       "    </tr>\n",
       "  </thead>\n",
       "  <tbody>\n",
       "    <tr>\n",
       "      <th>0</th>\n",
       "      <td>-900</td>\n",
       "      <td>600</td>\n",
       "      <td>0.996298</td>\n",
       "      <td>0.003702</td>\n",
       "      <td>0</td>\n",
       "    </tr>\n",
       "    <tr>\n",
       "      <th>1</th>\n",
       "      <td>155</td>\n",
       "      <td>-180</td>\n",
       "      <td>0.780728</td>\n",
       "      <td>0.219272</td>\n",
       "      <td>1</td>\n",
       "    </tr>\n",
       "    <tr>\n",
       "      <th>2</th>\n",
       "      <td>220</td>\n",
       "      <td>-275</td>\n",
       "      <td>0.250982</td>\n",
       "      <td>0.749018</td>\n",
       "      <td>1</td>\n",
       "    </tr>\n",
       "    <tr>\n",
       "      <th>3</th>\n",
       "      <td>-210</td>\n",
       "      <td>175</td>\n",
       "      <td>0.979294</td>\n",
       "      <td>0.020706</td>\n",
       "      <td>0</td>\n",
       "    </tr>\n",
       "    <tr>\n",
       "      <th>4</th>\n",
       "      <td>-150</td>\n",
       "      <td>130</td>\n",
       "      <td>0.717316</td>\n",
       "      <td>0.282684</td>\n",
       "      <td>1</td>\n",
       "    </tr>\n",
       "    <tr>\n",
       "      <th>...</th>\n",
       "      <td>...</td>\n",
       "      <td>...</td>\n",
       "      <td>...</td>\n",
       "      <td>...</td>\n",
       "      <td>...</td>\n",
       "    </tr>\n",
       "    <tr>\n",
       "      <th>245</th>\n",
       "      <td>120</td>\n",
       "      <td>-148</td>\n",
       "      <td>0.829485</td>\n",
       "      <td>0.170515</td>\n",
       "      <td>0</td>\n",
       "    </tr>\n",
       "    <tr>\n",
       "      <th>246</th>\n",
       "      <td>185</td>\n",
       "      <td>-230</td>\n",
       "      <td>0.471003</td>\n",
       "      <td>0.528997</td>\n",
       "      <td>0</td>\n",
       "    </tr>\n",
       "    <tr>\n",
       "      <th>247</th>\n",
       "      <td>-134</td>\n",
       "      <td>110</td>\n",
       "      <td>0.775743</td>\n",
       "      <td>0.224257</td>\n",
       "      <td>0</td>\n",
       "    </tr>\n",
       "    <tr>\n",
       "      <th>248</th>\n",
       "      <td>260</td>\n",
       "      <td>-335</td>\n",
       "      <td>0.476512</td>\n",
       "      <td>0.523488</td>\n",
       "      <td>1</td>\n",
       "    </tr>\n",
       "    <tr>\n",
       "      <th>249</th>\n",
       "      <td>105</td>\n",
       "      <td>-130</td>\n",
       "      <td>0.787804</td>\n",
       "      <td>0.212196</td>\n",
       "      <td>0</td>\n",
       "    </tr>\n",
       "  </tbody>\n",
       "</table>\n",
       "<p>250 rows × 5 columns</p>\n",
       "</div>"
      ],
      "text/plain": [
       "     t1_odds  t2_odds   t1_prob   t2_prob  winner\n",
       "0       -900      600  0.996298  0.003702       0\n",
       "1        155     -180  0.780728  0.219272       1\n",
       "2        220     -275  0.250982  0.749018       1\n",
       "3       -210      175  0.979294  0.020706       0\n",
       "4       -150      130  0.717316  0.282684       1\n",
       "..       ...      ...       ...       ...     ...\n",
       "245      120     -148  0.829485  0.170515       0\n",
       "246      185     -230  0.471003  0.528997       0\n",
       "247     -134      110  0.775743  0.224257       0\n",
       "248      260     -335  0.476512  0.523488       1\n",
       "249      105     -130  0.787804  0.212196       0\n",
       "\n",
       "[250 rows x 5 columns]"
      ]
     },
     "metadata": {},
     "output_type": "display_data"
    },
    {
     "name": "stdout",
     "output_type": "stream",
     "text": [
      "\n",
      "          Number of matches: 250\n",
      "          Number of bets: 222\n",
      "          Number of winning bets: 119\n",
      "          Number of losing bets: 105\n",
      "          Number of underdog bets: 109\n",
      "          Number of underdog wins: 44\n",
      "          Number of underdog losses: 65\n",
      "          Number of Favorite bets: 113\n",
      "          Number of favorite wins: 75\n",
      "          Number of favorite losses: 38\n",
      "          Number of even bets: 2\n",
      "          Number of even wins: 0\n",
      "          Number of even losses: 2\n",
      "          Profit: -230.17923849846807\n",
      "          Profit per bet: -1.036843416659766\n",
      "          Profit per match: -0.9207169539938722\n",
      "          \n",
      "          \n"
     ]
    },
    {
     "data": {
      "text/plain": [
       "(3502, 56)"
      ]
     },
     "metadata": {},
     "output_type": "display_data"
    },
    {
     "data": {
      "text/plain": [
       "(3502,)"
      ]
     },
     "metadata": {},
     "output_type": "display_data"
    },
    {
     "data": {
      "text/plain": [
       "(3502, 2)"
      ]
     },
     "metadata": {},
     "output_type": "display_data"
    },
    {
     "data": {
      "text/plain": [
       "(248, 56)"
      ]
     },
     "metadata": {},
     "output_type": "display_data"
    },
    {
     "data": {
      "text/plain": [
       "(248,)"
      ]
     },
     "metadata": {},
     "output_type": "display_data"
    },
    {
     "data": {
      "text/plain": [
       "(248, 2)"
      ]
     },
     "metadata": {},
     "output_type": "display_data"
    },
    {
     "data": {
      "text/html": [
       "<div>\n",
       "<style scoped>\n",
       "    .dataframe tbody tr th:only-of-type {\n",
       "        vertical-align: middle;\n",
       "    }\n",
       "\n",
       "    .dataframe tbody tr th {\n",
       "        vertical-align: top;\n",
       "    }\n",
       "\n",
       "    .dataframe thead th {\n",
       "        text-align: right;\n",
       "    }\n",
       "</style>\n",
       "<table border=\"1\" class=\"dataframe\">\n",
       "  <thead>\n",
       "    <tr style=\"text-align: right;\">\n",
       "      <th></th>\n",
       "      <th>t1_odds</th>\n",
       "      <th>t2_odds</th>\n",
       "      <th>t1_prob</th>\n",
       "      <th>t2_prob</th>\n",
       "      <th>winner</th>\n",
       "    </tr>\n",
       "  </thead>\n",
       "  <tbody>\n",
       "    <tr>\n",
       "      <th>0</th>\n",
       "      <td>-900</td>\n",
       "      <td>600</td>\n",
       "      <td>0.784513</td>\n",
       "      <td>0.215487</td>\n",
       "      <td>0</td>\n",
       "    </tr>\n",
       "    <tr>\n",
       "      <th>1</th>\n",
       "      <td>155</td>\n",
       "      <td>-180</td>\n",
       "      <td>0.897614</td>\n",
       "      <td>0.102386</td>\n",
       "      <td>1</td>\n",
       "    </tr>\n",
       "    <tr>\n",
       "      <th>2</th>\n",
       "      <td>220</td>\n",
       "      <td>-275</td>\n",
       "      <td>0.529489</td>\n",
       "      <td>0.470511</td>\n",
       "      <td>1</td>\n",
       "    </tr>\n",
       "    <tr>\n",
       "      <th>3</th>\n",
       "      <td>-210</td>\n",
       "      <td>175</td>\n",
       "      <td>0.999962</td>\n",
       "      <td>0.000038</td>\n",
       "      <td>0</td>\n",
       "    </tr>\n",
       "    <tr>\n",
       "      <th>4</th>\n",
       "      <td>-150</td>\n",
       "      <td>130</td>\n",
       "      <td>0.998748</td>\n",
       "      <td>0.001252</td>\n",
       "      <td>1</td>\n",
       "    </tr>\n",
       "    <tr>\n",
       "      <th>...</th>\n",
       "      <td>...</td>\n",
       "      <td>...</td>\n",
       "      <td>...</td>\n",
       "      <td>...</td>\n",
       "      <td>...</td>\n",
       "    </tr>\n",
       "    <tr>\n",
       "      <th>243</th>\n",
       "      <td>120</td>\n",
       "      <td>-148</td>\n",
       "      <td>0.968514</td>\n",
       "      <td>0.031486</td>\n",
       "      <td>0</td>\n",
       "    </tr>\n",
       "    <tr>\n",
       "      <th>244</th>\n",
       "      <td>185</td>\n",
       "      <td>-230</td>\n",
       "      <td>0.999292</td>\n",
       "      <td>0.000708</td>\n",
       "      <td>0</td>\n",
       "    </tr>\n",
       "    <tr>\n",
       "      <th>245</th>\n",
       "      <td>-134</td>\n",
       "      <td>110</td>\n",
       "      <td>0.066797</td>\n",
       "      <td>0.933203</td>\n",
       "      <td>0</td>\n",
       "    </tr>\n",
       "    <tr>\n",
       "      <th>246</th>\n",
       "      <td>260</td>\n",
       "      <td>-335</td>\n",
       "      <td>0.106341</td>\n",
       "      <td>0.893659</td>\n",
       "      <td>1</td>\n",
       "    </tr>\n",
       "    <tr>\n",
       "      <th>247</th>\n",
       "      <td>105</td>\n",
       "      <td>-130</td>\n",
       "      <td>0.971028</td>\n",
       "      <td>0.028972</td>\n",
       "      <td>0</td>\n",
       "    </tr>\n",
       "  </tbody>\n",
       "</table>\n",
       "<p>248 rows × 5 columns</p>\n",
       "</div>"
      ],
      "text/plain": [
       "     t1_odds  t2_odds   t1_prob   t2_prob  winner\n",
       "0       -900      600  0.784513  0.215487       0\n",
       "1        155     -180  0.897614  0.102386       1\n",
       "2        220     -275  0.529489  0.470511       1\n",
       "3       -210      175  0.999962  0.000038       0\n",
       "4       -150      130  0.998748  0.001252       1\n",
       "..       ...      ...       ...       ...     ...\n",
       "243      120     -148  0.968514  0.031486       0\n",
       "244      185     -230  0.999292  0.000708       0\n",
       "245     -134      110  0.066797  0.933203       0\n",
       "246      260     -335  0.106341  0.893659       1\n",
       "247      105     -130  0.971028  0.028972       0\n",
       "\n",
       "[248 rows x 5 columns]"
      ]
     },
     "metadata": {},
     "output_type": "display_data"
    },
    {
     "name": "stdout",
     "output_type": "stream",
     "text": [
      "\n",
      "          Number of matches: 248\n",
      "          Number of bets: 206\n",
      "          Number of winning bets: 95\n",
      "          Number of losing bets: 111\n",
      "          Number of underdog bets: 113\n",
      "          Number of underdog wins: 41\n",
      "          Number of underdog losses: 72\n",
      "          Number of Favorite bets: 92\n",
      "          Number of favorite wins: 54\n",
      "          Number of favorite losses: 38\n",
      "          Number of even bets: 1\n",
      "          Number of even wins: 0\n",
      "          Number of even losses: 1\n",
      "          Profit: -1678.1779331752696\n",
      "          Profit per bet: -8.146494821239173\n",
      "          Profit per match: -6.76684650473899\n",
      "          \n",
      "          \n"
     ]
    },
    {
     "data": {
      "text/plain": [
       "(3502, 19)"
      ]
     },
     "metadata": {},
     "output_type": "display_data"
    },
    {
     "data": {
      "text/plain": [
       "(3502,)"
      ]
     },
     "metadata": {},
     "output_type": "display_data"
    },
    {
     "data": {
      "text/plain": [
       "(3502, 2)"
      ]
     },
     "metadata": {},
     "output_type": "display_data"
    },
    {
     "data": {
      "text/plain": [
       "(250, 19)"
      ]
     },
     "metadata": {},
     "output_type": "display_data"
    },
    {
     "data": {
      "text/plain": [
       "(250,)"
      ]
     },
     "metadata": {},
     "output_type": "display_data"
    },
    {
     "data": {
      "text/plain": [
       "(250, 2)"
      ]
     },
     "metadata": {},
     "output_type": "display_data"
    },
    {
     "data": {
      "text/html": [
       "<div>\n",
       "<style scoped>\n",
       "    .dataframe tbody tr th:only-of-type {\n",
       "        vertical-align: middle;\n",
       "    }\n",
       "\n",
       "    .dataframe tbody tr th {\n",
       "        vertical-align: top;\n",
       "    }\n",
       "\n",
       "    .dataframe thead th {\n",
       "        text-align: right;\n",
       "    }\n",
       "</style>\n",
       "<table border=\"1\" class=\"dataframe\">\n",
       "  <thead>\n",
       "    <tr style=\"text-align: right;\">\n",
       "      <th></th>\n",
       "      <th>t1_odds</th>\n",
       "      <th>t2_odds</th>\n",
       "      <th>t1_prob</th>\n",
       "      <th>t2_prob</th>\n",
       "      <th>winner</th>\n",
       "    </tr>\n",
       "  </thead>\n",
       "  <tbody>\n",
       "    <tr>\n",
       "      <th>0</th>\n",
       "      <td>-900</td>\n",
       "      <td>600</td>\n",
       "      <td>0.775185</td>\n",
       "      <td>0.224815</td>\n",
       "      <td>0</td>\n",
       "    </tr>\n",
       "    <tr>\n",
       "      <th>1</th>\n",
       "      <td>155</td>\n",
       "      <td>-180</td>\n",
       "      <td>0.465574</td>\n",
       "      <td>0.534426</td>\n",
       "      <td>1</td>\n",
       "    </tr>\n",
       "    <tr>\n",
       "      <th>2</th>\n",
       "      <td>220</td>\n",
       "      <td>-275</td>\n",
       "      <td>0.514065</td>\n",
       "      <td>0.485935</td>\n",
       "      <td>1</td>\n",
       "    </tr>\n",
       "    <tr>\n",
       "      <th>3</th>\n",
       "      <td>-210</td>\n",
       "      <td>175</td>\n",
       "      <td>0.710685</td>\n",
       "      <td>0.289315</td>\n",
       "      <td>0</td>\n",
       "    </tr>\n",
       "    <tr>\n",
       "      <th>4</th>\n",
       "      <td>-150</td>\n",
       "      <td>130</td>\n",
       "      <td>0.540877</td>\n",
       "      <td>0.459123</td>\n",
       "      <td>1</td>\n",
       "    </tr>\n",
       "    <tr>\n",
       "      <th>...</th>\n",
       "      <td>...</td>\n",
       "      <td>...</td>\n",
       "      <td>...</td>\n",
       "      <td>...</td>\n",
       "      <td>...</td>\n",
       "    </tr>\n",
       "    <tr>\n",
       "      <th>245</th>\n",
       "      <td>120</td>\n",
       "      <td>-148</td>\n",
       "      <td>0.532146</td>\n",
       "      <td>0.467854</td>\n",
       "      <td>0</td>\n",
       "    </tr>\n",
       "    <tr>\n",
       "      <th>246</th>\n",
       "      <td>185</td>\n",
       "      <td>-230</td>\n",
       "      <td>0.475963</td>\n",
       "      <td>0.524037</td>\n",
       "      <td>0</td>\n",
       "    </tr>\n",
       "    <tr>\n",
       "      <th>247</th>\n",
       "      <td>-134</td>\n",
       "      <td>110</td>\n",
       "      <td>0.581966</td>\n",
       "      <td>0.418034</td>\n",
       "      <td>0</td>\n",
       "    </tr>\n",
       "    <tr>\n",
       "      <th>248</th>\n",
       "      <td>260</td>\n",
       "      <td>-335</td>\n",
       "      <td>0.520956</td>\n",
       "      <td>0.479044</td>\n",
       "      <td>1</td>\n",
       "    </tr>\n",
       "    <tr>\n",
       "      <th>249</th>\n",
       "      <td>105</td>\n",
       "      <td>-130</td>\n",
       "      <td>0.514700</td>\n",
       "      <td>0.485300</td>\n",
       "      <td>0</td>\n",
       "    </tr>\n",
       "  </tbody>\n",
       "</table>\n",
       "<p>250 rows × 5 columns</p>\n",
       "</div>"
      ],
      "text/plain": [
       "     t1_odds  t2_odds   t1_prob   t2_prob  winner\n",
       "0       -900      600  0.775185  0.224815       0\n",
       "1        155     -180  0.465574  0.534426       1\n",
       "2        220     -275  0.514065  0.485935       1\n",
       "3       -210      175  0.710685  0.289315       0\n",
       "4       -150      130  0.540877  0.459123       1\n",
       "..       ...      ...       ...       ...     ...\n",
       "245      120     -148  0.532146  0.467854       0\n",
       "246      185     -230  0.475963  0.524037       0\n",
       "247     -134      110  0.581966  0.418034       0\n",
       "248      260     -335  0.520956  0.479044       1\n",
       "249      105     -130  0.514700  0.485300       0\n",
       "\n",
       "[250 rows x 5 columns]"
      ]
     },
     "metadata": {},
     "output_type": "display_data"
    },
    {
     "name": "stdout",
     "output_type": "stream",
     "text": [
      "\n",
      "          Number of matches: 250\n",
      "          Number of bets: 202\n",
      "          Number of winning bets: 98\n",
      "          Number of losing bets: 105\n",
      "          Number of underdog bets: 136\n",
      "          Number of underdog wins: 53\n",
      "          Number of underdog losses: 83\n",
      "          Number of Favorite bets: 66\n",
      "          Number of favorite wins: 45\n",
      "          Number of favorite losses: 21\n",
      "          Number of even bets: 1\n",
      "          Number of even wins: 0\n",
      "          Number of even losses: 1\n",
      "          Profit: -120.80773041188252\n",
      "          Profit per bet: -0.598058071345953\n",
      "          Profit per match: -0.48323092164753007\n",
      "          \n",
      "          \n"
     ]
    },
    {
     "data": {
      "text/plain": [
       "(3502, 26)"
      ]
     },
     "metadata": {},
     "output_type": "display_data"
    },
    {
     "data": {
      "text/plain": [
       "(3502,)"
      ]
     },
     "metadata": {},
     "output_type": "display_data"
    },
    {
     "data": {
      "text/plain": [
       "(3502, 2)"
      ]
     },
     "metadata": {},
     "output_type": "display_data"
    },
    {
     "data": {
      "text/plain": [
       "(248, 26)"
      ]
     },
     "metadata": {},
     "output_type": "display_data"
    },
    {
     "data": {
      "text/plain": [
       "(248,)"
      ]
     },
     "metadata": {},
     "output_type": "display_data"
    },
    {
     "data": {
      "text/plain": [
       "(248, 2)"
      ]
     },
     "metadata": {},
     "output_type": "display_data"
    },
    {
     "data": {
      "text/html": [
       "<div>\n",
       "<style scoped>\n",
       "    .dataframe tbody tr th:only-of-type {\n",
       "        vertical-align: middle;\n",
       "    }\n",
       "\n",
       "    .dataframe tbody tr th {\n",
       "        vertical-align: top;\n",
       "    }\n",
       "\n",
       "    .dataframe thead th {\n",
       "        text-align: right;\n",
       "    }\n",
       "</style>\n",
       "<table border=\"1\" class=\"dataframe\">\n",
       "  <thead>\n",
       "    <tr style=\"text-align: right;\">\n",
       "      <th></th>\n",
       "      <th>t1_odds</th>\n",
       "      <th>t2_odds</th>\n",
       "      <th>t1_prob</th>\n",
       "      <th>t2_prob</th>\n",
       "      <th>winner</th>\n",
       "    </tr>\n",
       "  </thead>\n",
       "  <tbody>\n",
       "    <tr>\n",
       "      <th>0</th>\n",
       "      <td>-900</td>\n",
       "      <td>600</td>\n",
       "      <td>0.809470</td>\n",
       "      <td>0.190530</td>\n",
       "      <td>0</td>\n",
       "    </tr>\n",
       "    <tr>\n",
       "      <th>1</th>\n",
       "      <td>155</td>\n",
       "      <td>-180</td>\n",
       "      <td>0.421785</td>\n",
       "      <td>0.578215</td>\n",
       "      <td>1</td>\n",
       "    </tr>\n",
       "    <tr>\n",
       "      <th>2</th>\n",
       "      <td>220</td>\n",
       "      <td>-275</td>\n",
       "      <td>0.479813</td>\n",
       "      <td>0.520187</td>\n",
       "      <td>1</td>\n",
       "    </tr>\n",
       "    <tr>\n",
       "      <th>3</th>\n",
       "      <td>-210</td>\n",
       "      <td>175</td>\n",
       "      <td>0.674823</td>\n",
       "      <td>0.325177</td>\n",
       "      <td>0</td>\n",
       "    </tr>\n",
       "    <tr>\n",
       "      <th>4</th>\n",
       "      <td>-150</td>\n",
       "      <td>130</td>\n",
       "      <td>0.510411</td>\n",
       "      <td>0.489589</td>\n",
       "      <td>1</td>\n",
       "    </tr>\n",
       "    <tr>\n",
       "      <th>...</th>\n",
       "      <td>...</td>\n",
       "      <td>...</td>\n",
       "      <td>...</td>\n",
       "      <td>...</td>\n",
       "      <td>...</td>\n",
       "    </tr>\n",
       "    <tr>\n",
       "      <th>243</th>\n",
       "      <td>120</td>\n",
       "      <td>-148</td>\n",
       "      <td>0.522054</td>\n",
       "      <td>0.477946</td>\n",
       "      <td>0</td>\n",
       "    </tr>\n",
       "    <tr>\n",
       "      <th>244</th>\n",
       "      <td>185</td>\n",
       "      <td>-230</td>\n",
       "      <td>0.360278</td>\n",
       "      <td>0.639722</td>\n",
       "      <td>0</td>\n",
       "    </tr>\n",
       "    <tr>\n",
       "      <th>245</th>\n",
       "      <td>-134</td>\n",
       "      <td>110</td>\n",
       "      <td>0.589473</td>\n",
       "      <td>0.410527</td>\n",
       "      <td>0</td>\n",
       "    </tr>\n",
       "    <tr>\n",
       "      <th>246</th>\n",
       "      <td>260</td>\n",
       "      <td>-335</td>\n",
       "      <td>0.424842</td>\n",
       "      <td>0.575158</td>\n",
       "      <td>1</td>\n",
       "    </tr>\n",
       "    <tr>\n",
       "      <th>247</th>\n",
       "      <td>105</td>\n",
       "      <td>-130</td>\n",
       "      <td>0.547418</td>\n",
       "      <td>0.452582</td>\n",
       "      <td>0</td>\n",
       "    </tr>\n",
       "  </tbody>\n",
       "</table>\n",
       "<p>248 rows × 5 columns</p>\n",
       "</div>"
      ],
      "text/plain": [
       "     t1_odds  t2_odds   t1_prob   t2_prob  winner\n",
       "0       -900      600  0.809470  0.190530       0\n",
       "1        155     -180  0.421785  0.578215       1\n",
       "2        220     -275  0.479813  0.520187       1\n",
       "3       -210      175  0.674823  0.325177       0\n",
       "4       -150      130  0.510411  0.489589       1\n",
       "..       ...      ...       ...       ...     ...\n",
       "243      120     -148  0.522054  0.477946       0\n",
       "244      185     -230  0.360278  0.639722       0\n",
       "245     -134      110  0.589473  0.410527       0\n",
       "246      260     -335  0.424842  0.575158       1\n",
       "247      105     -130  0.547418  0.452582       0\n",
       "\n",
       "[248 rows x 5 columns]"
      ]
     },
     "metadata": {},
     "output_type": "display_data"
    },
    {
     "name": "stdout",
     "output_type": "stream",
     "text": [
      "\n",
      "          Number of matches: 248\n",
      "          Number of bets: 171\n",
      "          Number of winning bets: 74\n",
      "          Number of losing bets: 98\n",
      "          Number of underdog bets: 120\n",
      "          Number of underdog wins: 42\n",
      "          Number of underdog losses: 78\n",
      "          Number of Favorite bets: 51\n",
      "          Number of favorite wins: 32\n",
      "          Number of favorite losses: 19\n",
      "          Number of even bets: 1\n",
      "          Number of even wins: 0\n",
      "          Number of even losses: 1\n",
      "          Profit: -1853.1849933783474\n",
      "          Profit per bet: -10.837339142563435\n",
      "          Profit per match: -7.47252013459011\n",
      "          \n",
      "          \n"
     ]
    },
    {
     "data": {
      "text/plain": [
       "(3502, 63)"
      ]
     },
     "metadata": {},
     "output_type": "display_data"
    },
    {
     "data": {
      "text/plain": [
       "(3502,)"
      ]
     },
     "metadata": {},
     "output_type": "display_data"
    },
    {
     "data": {
      "text/plain": [
       "(3502, 2)"
      ]
     },
     "metadata": {},
     "output_type": "display_data"
    },
    {
     "data": {
      "text/plain": [
       "(248, 63)"
      ]
     },
     "metadata": {},
     "output_type": "display_data"
    },
    {
     "data": {
      "text/plain": [
       "(248,)"
      ]
     },
     "metadata": {},
     "output_type": "display_data"
    },
    {
     "data": {
      "text/plain": [
       "(248, 2)"
      ]
     },
     "metadata": {},
     "output_type": "display_data"
    },
    {
     "data": {
      "text/html": [
       "<div>\n",
       "<style scoped>\n",
       "    .dataframe tbody tr th:only-of-type {\n",
       "        vertical-align: middle;\n",
       "    }\n",
       "\n",
       "    .dataframe tbody tr th {\n",
       "        vertical-align: top;\n",
       "    }\n",
       "\n",
       "    .dataframe thead th {\n",
       "        text-align: right;\n",
       "    }\n",
       "</style>\n",
       "<table border=\"1\" class=\"dataframe\">\n",
       "  <thead>\n",
       "    <tr style=\"text-align: right;\">\n",
       "      <th></th>\n",
       "      <th>t1_odds</th>\n",
       "      <th>t2_odds</th>\n",
       "      <th>t1_prob</th>\n",
       "      <th>t2_prob</th>\n",
       "      <th>winner</th>\n",
       "    </tr>\n",
       "  </thead>\n",
       "  <tbody>\n",
       "    <tr>\n",
       "      <th>0</th>\n",
       "      <td>-900</td>\n",
       "      <td>600</td>\n",
       "      <td>0.952896</td>\n",
       "      <td>0.047104</td>\n",
       "      <td>0</td>\n",
       "    </tr>\n",
       "    <tr>\n",
       "      <th>1</th>\n",
       "      <td>155</td>\n",
       "      <td>-180</td>\n",
       "      <td>0.900843</td>\n",
       "      <td>0.099157</td>\n",
       "      <td>1</td>\n",
       "    </tr>\n",
       "    <tr>\n",
       "      <th>2</th>\n",
       "      <td>220</td>\n",
       "      <td>-275</td>\n",
       "      <td>0.202611</td>\n",
       "      <td>0.797389</td>\n",
       "      <td>1</td>\n",
       "    </tr>\n",
       "    <tr>\n",
       "      <th>3</th>\n",
       "      <td>-210</td>\n",
       "      <td>175</td>\n",
       "      <td>0.997879</td>\n",
       "      <td>0.002121</td>\n",
       "      <td>0</td>\n",
       "    </tr>\n",
       "    <tr>\n",
       "      <th>4</th>\n",
       "      <td>-150</td>\n",
       "      <td>130</td>\n",
       "      <td>0.889093</td>\n",
       "      <td>0.110907</td>\n",
       "      <td>1</td>\n",
       "    </tr>\n",
       "    <tr>\n",
       "      <th>...</th>\n",
       "      <td>...</td>\n",
       "      <td>...</td>\n",
       "      <td>...</td>\n",
       "      <td>...</td>\n",
       "      <td>...</td>\n",
       "    </tr>\n",
       "    <tr>\n",
       "      <th>243</th>\n",
       "      <td>120</td>\n",
       "      <td>-148</td>\n",
       "      <td>0.991746</td>\n",
       "      <td>0.008254</td>\n",
       "      <td>0</td>\n",
       "    </tr>\n",
       "    <tr>\n",
       "      <th>244</th>\n",
       "      <td>185</td>\n",
       "      <td>-230</td>\n",
       "      <td>0.992619</td>\n",
       "      <td>0.007381</td>\n",
       "      <td>0</td>\n",
       "    </tr>\n",
       "    <tr>\n",
       "      <th>245</th>\n",
       "      <td>-134</td>\n",
       "      <td>110</td>\n",
       "      <td>0.880007</td>\n",
       "      <td>0.119993</td>\n",
       "      <td>0</td>\n",
       "    </tr>\n",
       "    <tr>\n",
       "      <th>246</th>\n",
       "      <td>260</td>\n",
       "      <td>-335</td>\n",
       "      <td>0.100166</td>\n",
       "      <td>0.899834</td>\n",
       "      <td>1</td>\n",
       "    </tr>\n",
       "    <tr>\n",
       "      <th>247</th>\n",
       "      <td>105</td>\n",
       "      <td>-130</td>\n",
       "      <td>0.992853</td>\n",
       "      <td>0.007147</td>\n",
       "      <td>0</td>\n",
       "    </tr>\n",
       "  </tbody>\n",
       "</table>\n",
       "<p>248 rows × 5 columns</p>\n",
       "</div>"
      ],
      "text/plain": [
       "     t1_odds  t2_odds   t1_prob   t2_prob  winner\n",
       "0       -900      600  0.952896  0.047104       0\n",
       "1        155     -180  0.900843  0.099157       1\n",
       "2        220     -275  0.202611  0.797389       1\n",
       "3       -210      175  0.997879  0.002121       0\n",
       "4       -150      130  0.889093  0.110907       1\n",
       "..       ...      ...       ...       ...     ...\n",
       "243      120     -148  0.991746  0.008254       0\n",
       "244      185     -230  0.992619  0.007381       0\n",
       "245     -134      110  0.880007  0.119993       0\n",
       "246      260     -335  0.100166  0.899834       1\n",
       "247      105     -130  0.992853  0.007147       0\n",
       "\n",
       "[248 rows x 5 columns]"
      ]
     },
     "metadata": {},
     "output_type": "display_data"
    },
    {
     "name": "stdout",
     "output_type": "stream",
     "text": [
      "\n",
      "          Number of matches: 248\n",
      "          Number of bets: 185\n",
      "          Number of winning bets: 95\n",
      "          Number of losing bets: 90\n",
      "          Number of underdog bets: 111\n",
      "          Number of underdog wins: 49\n",
      "          Number of underdog losses: 62\n",
      "          Number of Favorite bets: 73\n",
      "          Number of favorite wins: 46\n",
      "          Number of favorite losses: 27\n",
      "          Number of even bets: 1\n",
      "          Number of even wins: 0\n",
      "          Number of even losses: 1\n",
      "          Profit: 1360.7010445967346\n",
      "          Profit per bet: 7.355140781603971\n",
      "          Profit per match: 5.486697760470704\n",
      "          \n",
      "          \n"
     ]
    },
    {
     "data": {
      "text/plain": [
       "(3502, 66)"
      ]
     },
     "metadata": {},
     "output_type": "display_data"
    },
    {
     "data": {
      "text/plain": [
       "(3502,)"
      ]
     },
     "metadata": {},
     "output_type": "display_data"
    },
    {
     "data": {
      "text/plain": [
       "(3502, 2)"
      ]
     },
     "metadata": {},
     "output_type": "display_data"
    },
    {
     "data": {
      "text/plain": [
       "(248, 66)"
      ]
     },
     "metadata": {},
     "output_type": "display_data"
    },
    {
     "data": {
      "text/plain": [
       "(248,)"
      ]
     },
     "metadata": {},
     "output_type": "display_data"
    },
    {
     "data": {
      "text/plain": [
       "(248, 2)"
      ]
     },
     "metadata": {},
     "output_type": "display_data"
    },
    {
     "data": {
      "text/html": [
       "<div>\n",
       "<style scoped>\n",
       "    .dataframe tbody tr th:only-of-type {\n",
       "        vertical-align: middle;\n",
       "    }\n",
       "\n",
       "    .dataframe tbody tr th {\n",
       "        vertical-align: top;\n",
       "    }\n",
       "\n",
       "    .dataframe thead th {\n",
       "        text-align: right;\n",
       "    }\n",
       "</style>\n",
       "<table border=\"1\" class=\"dataframe\">\n",
       "  <thead>\n",
       "    <tr style=\"text-align: right;\">\n",
       "      <th></th>\n",
       "      <th>t1_odds</th>\n",
       "      <th>t2_odds</th>\n",
       "      <th>t1_prob</th>\n",
       "      <th>t2_prob</th>\n",
       "      <th>winner</th>\n",
       "    </tr>\n",
       "  </thead>\n",
       "  <tbody>\n",
       "    <tr>\n",
       "      <th>0</th>\n",
       "      <td>-900</td>\n",
       "      <td>600</td>\n",
       "      <td>0.657244</td>\n",
       "      <td>0.342756</td>\n",
       "      <td>0</td>\n",
       "    </tr>\n",
       "    <tr>\n",
       "      <th>1</th>\n",
       "      <td>155</td>\n",
       "      <td>-180</td>\n",
       "      <td>0.812112</td>\n",
       "      <td>0.187888</td>\n",
       "      <td>1</td>\n",
       "    </tr>\n",
       "    <tr>\n",
       "      <th>2</th>\n",
       "      <td>220</td>\n",
       "      <td>-275</td>\n",
       "      <td>0.196249</td>\n",
       "      <td>0.803751</td>\n",
       "      <td>1</td>\n",
       "    </tr>\n",
       "    <tr>\n",
       "      <th>3</th>\n",
       "      <td>-210</td>\n",
       "      <td>175</td>\n",
       "      <td>0.991821</td>\n",
       "      <td>0.008179</td>\n",
       "      <td>0</td>\n",
       "    </tr>\n",
       "    <tr>\n",
       "      <th>4</th>\n",
       "      <td>-150</td>\n",
       "      <td>130</td>\n",
       "      <td>0.980371</td>\n",
       "      <td>0.019629</td>\n",
       "      <td>1</td>\n",
       "    </tr>\n",
       "    <tr>\n",
       "      <th>...</th>\n",
       "      <td>...</td>\n",
       "      <td>...</td>\n",
       "      <td>...</td>\n",
       "      <td>...</td>\n",
       "      <td>...</td>\n",
       "    </tr>\n",
       "    <tr>\n",
       "      <th>243</th>\n",
       "      <td>120</td>\n",
       "      <td>-148</td>\n",
       "      <td>0.997503</td>\n",
       "      <td>0.002497</td>\n",
       "      <td>0</td>\n",
       "    </tr>\n",
       "    <tr>\n",
       "      <th>244</th>\n",
       "      <td>185</td>\n",
       "      <td>-230</td>\n",
       "      <td>0.985458</td>\n",
       "      <td>0.014542</td>\n",
       "      <td>0</td>\n",
       "    </tr>\n",
       "    <tr>\n",
       "      <th>245</th>\n",
       "      <td>-134</td>\n",
       "      <td>110</td>\n",
       "      <td>0.627859</td>\n",
       "      <td>0.372141</td>\n",
       "      <td>0</td>\n",
       "    </tr>\n",
       "    <tr>\n",
       "      <th>246</th>\n",
       "      <td>260</td>\n",
       "      <td>-335</td>\n",
       "      <td>0.518691</td>\n",
       "      <td>0.481309</td>\n",
       "      <td>1</td>\n",
       "    </tr>\n",
       "    <tr>\n",
       "      <th>247</th>\n",
       "      <td>105</td>\n",
       "      <td>-130</td>\n",
       "      <td>0.985033</td>\n",
       "      <td>0.014967</td>\n",
       "      <td>0</td>\n",
       "    </tr>\n",
       "  </tbody>\n",
       "</table>\n",
       "<p>248 rows × 5 columns</p>\n",
       "</div>"
      ],
      "text/plain": [
       "     t1_odds  t2_odds   t1_prob   t2_prob  winner\n",
       "0       -900      600  0.657244  0.342756       0\n",
       "1        155     -180  0.812112  0.187888       1\n",
       "2        220     -275  0.196249  0.803751       1\n",
       "3       -210      175  0.991821  0.008179       0\n",
       "4       -150      130  0.980371  0.019629       1\n",
       "..       ...      ...       ...       ...     ...\n",
       "243      120     -148  0.997503  0.002497       0\n",
       "244      185     -230  0.985458  0.014542       0\n",
       "245     -134      110  0.627859  0.372141       0\n",
       "246      260     -335  0.518691  0.481309       1\n",
       "247      105     -130  0.985033  0.014967       0\n",
       "\n",
       "[248 rows x 5 columns]"
      ]
     },
     "metadata": {},
     "output_type": "display_data"
    },
    {
     "name": "stdout",
     "output_type": "stream",
     "text": [
      "\n",
      "          Number of matches: 248\n",
      "          Number of bets: 242\n",
      "          Number of winning bets: 125\n",
      "          Number of losing bets: 117\n",
      "          Number of underdog bets: 123\n",
      "          Number of underdog wins: 50\n",
      "          Number of underdog losses: 73\n",
      "          Number of Favorite bets: 117\n",
      "          Number of favorite wins: 75\n",
      "          Number of favorite losses: 42\n",
      "          Number of even bets: 2\n",
      "          Number of even wins: 0\n",
      "          Number of even losses: 2\n",
      "          Profit: 66.33685543598621\n",
      "          Profit per bet: 0.27411923733878596\n",
      "          Profit per match: 0.267487320306396\n",
      "          \n",
      "          \n"
     ]
    },
    {
     "data": {
      "text/plain": [
       "(3502, 19)"
      ]
     },
     "metadata": {},
     "output_type": "display_data"
    },
    {
     "data": {
      "text/plain": [
       "(3502,)"
      ]
     },
     "metadata": {},
     "output_type": "display_data"
    },
    {
     "data": {
      "text/plain": [
       "(3502, 2)"
      ]
     },
     "metadata": {},
     "output_type": "display_data"
    },
    {
     "data": {
      "text/plain": [
       "(250, 19)"
      ]
     },
     "metadata": {},
     "output_type": "display_data"
    },
    {
     "data": {
      "text/plain": [
       "(250,)"
      ]
     },
     "metadata": {},
     "output_type": "display_data"
    },
    {
     "data": {
      "text/plain": [
       "(250, 2)"
      ]
     },
     "metadata": {},
     "output_type": "display_data"
    },
    {
     "data": {
      "text/html": [
       "<div>\n",
       "<style scoped>\n",
       "    .dataframe tbody tr th:only-of-type {\n",
       "        vertical-align: middle;\n",
       "    }\n",
       "\n",
       "    .dataframe tbody tr th {\n",
       "        vertical-align: top;\n",
       "    }\n",
       "\n",
       "    .dataframe thead th {\n",
       "        text-align: right;\n",
       "    }\n",
       "</style>\n",
       "<table border=\"1\" class=\"dataframe\">\n",
       "  <thead>\n",
       "    <tr style=\"text-align: right;\">\n",
       "      <th></th>\n",
       "      <th>t1_odds</th>\n",
       "      <th>t2_odds</th>\n",
       "      <th>t1_prob</th>\n",
       "      <th>t2_prob</th>\n",
       "      <th>winner</th>\n",
       "    </tr>\n",
       "  </thead>\n",
       "  <tbody>\n",
       "    <tr>\n",
       "      <th>0</th>\n",
       "      <td>-900</td>\n",
       "      <td>600</td>\n",
       "      <td>1.000000</td>\n",
       "      <td>0.000000</td>\n",
       "      <td>0</td>\n",
       "    </tr>\n",
       "    <tr>\n",
       "      <th>1</th>\n",
       "      <td>155</td>\n",
       "      <td>-180</td>\n",
       "      <td>1.000000</td>\n",
       "      <td>0.000000</td>\n",
       "      <td>1</td>\n",
       "    </tr>\n",
       "    <tr>\n",
       "      <th>2</th>\n",
       "      <td>220</td>\n",
       "      <td>-275</td>\n",
       "      <td>0.000000</td>\n",
       "      <td>1.000000</td>\n",
       "      <td>1</td>\n",
       "    </tr>\n",
       "    <tr>\n",
       "      <th>3</th>\n",
       "      <td>-210</td>\n",
       "      <td>175</td>\n",
       "      <td>1.000000</td>\n",
       "      <td>0.000000</td>\n",
       "      <td>0</td>\n",
       "    </tr>\n",
       "    <tr>\n",
       "      <th>4</th>\n",
       "      <td>-150</td>\n",
       "      <td>130</td>\n",
       "      <td>0.000000</td>\n",
       "      <td>1.000000</td>\n",
       "      <td>1</td>\n",
       "    </tr>\n",
       "    <tr>\n",
       "      <th>...</th>\n",
       "      <td>...</td>\n",
       "      <td>...</td>\n",
       "      <td>...</td>\n",
       "      <td>...</td>\n",
       "      <td>...</td>\n",
       "    </tr>\n",
       "    <tr>\n",
       "      <th>245</th>\n",
       "      <td>120</td>\n",
       "      <td>-148</td>\n",
       "      <td>1.000000</td>\n",
       "      <td>0.000000</td>\n",
       "      <td>0</td>\n",
       "    </tr>\n",
       "    <tr>\n",
       "      <th>246</th>\n",
       "      <td>185</td>\n",
       "      <td>-230</td>\n",
       "      <td>1.000000</td>\n",
       "      <td>0.000000</td>\n",
       "      <td>0</td>\n",
       "    </tr>\n",
       "    <tr>\n",
       "      <th>247</th>\n",
       "      <td>-134</td>\n",
       "      <td>110</td>\n",
       "      <td>0.388889</td>\n",
       "      <td>0.611111</td>\n",
       "      <td>0</td>\n",
       "    </tr>\n",
       "    <tr>\n",
       "      <th>248</th>\n",
       "      <td>260</td>\n",
       "      <td>-335</td>\n",
       "      <td>1.000000</td>\n",
       "      <td>0.000000</td>\n",
       "      <td>1</td>\n",
       "    </tr>\n",
       "    <tr>\n",
       "      <th>249</th>\n",
       "      <td>105</td>\n",
       "      <td>-130</td>\n",
       "      <td>1.000000</td>\n",
       "      <td>0.000000</td>\n",
       "      <td>0</td>\n",
       "    </tr>\n",
       "  </tbody>\n",
       "</table>\n",
       "<p>250 rows × 5 columns</p>\n",
       "</div>"
      ],
      "text/plain": [
       "     t1_odds  t2_odds   t1_prob   t2_prob  winner\n",
       "0       -900      600  1.000000  0.000000       0\n",
       "1        155     -180  1.000000  0.000000       1\n",
       "2        220     -275  0.000000  1.000000       1\n",
       "3       -210      175  1.000000  0.000000       0\n",
       "4       -150      130  0.000000  1.000000       1\n",
       "..       ...      ...       ...       ...     ...\n",
       "245      120     -148  1.000000  0.000000       0\n",
       "246      185     -230  1.000000  0.000000       0\n",
       "247     -134      110  0.388889  0.611111       0\n",
       "248      260     -335  1.000000  0.000000       1\n",
       "249      105     -130  1.000000  0.000000       0\n",
       "\n",
       "[250 rows x 5 columns]"
      ]
     },
     "metadata": {},
     "output_type": "display_data"
    },
    {
     "name": "stdout",
     "output_type": "stream",
     "text": [
      "\n",
      "          Number of matches: 250\n",
      "          Number of bets: 235\n",
      "          Number of winning bets: 129\n",
      "          Number of losing bets: 106\n",
      "          Number of underdog bets: 135\n",
      "          Number of underdog wins: 60\n",
      "          Number of underdog losses: 75\n",
      "          Number of Favorite bets: 98\n",
      "          Number of favorite wins: 69\n",
      "          Number of favorite losses: 29\n",
      "          Number of even bets: 2\n",
      "          Number of even wins: 0\n",
      "          Number of even losses: 2\n",
      "          Profit: 2208.3026702916454\n",
      "          Profit per bet: 9.397032639538917\n",
      "          Profit per match: 8.833210681166582\n",
      "          \n",
      "          \n"
     ]
    }
   ],
   "source": [
    "score_list = []\n",
    "for model_num in range(len(models[0])):\n",
    "    test_model_name = models[0][model_num]\n",
    "    test_model = eval(models[1][model_num])\n",
    "    test_model_features = eval(models[2][model_num])\n",
    "    test_model_ev = eval(models[3][model_num])\n",
    "    \n",
    "    score_list.append(evaluate_model(test_model, test_model_features, test_model_ev, df_train, label_train, odds_train, df_test, label_test,\n",
    "                         odds_test, verbose = True))"
   ]
  },
  {
   "cell_type": "code",
   "execution_count": 10,
   "metadata": {},
   "outputs": [
    {
     "name": "stdout",
     "output_type": "stream",
     "text": [
      "['1127.190678', '-950.9775482', '1083.478862', '407.0778238', '-676.5402515', '-528.4063021', '-230.1792385', '-1678.177933', '-120.8077304', '-1853.184993', '1360.701045', '66.33685544', '2208.30267']\n"
     ]
    }
   ],
   "source": [
    "print(models[4])"
   ]
  },
  {
   "cell_type": "code",
   "execution_count": 11,
   "metadata": {},
   "outputs": [
    {
     "name": "stdout",
     "output_type": "stream",
     "text": [
      "[1127.19067842605, -950.9775482241005, 1083.4788618676141, 407.0778237930258, -676.5402515344442, -528.4063020903642, -230.17923849846807, -1678.1779331752696, -120.80773041188252, -1853.1849933783474, 1360.7010445967346, 66.33685543598621, 2208.3026702916454]\n"
     ]
    }
   ],
   "source": [
    "print(score_list)"
   ]
  },
  {
   "cell_type": "code",
   "execution_count": 12,
   "metadata": {},
   "outputs": [],
   "source": [
    "models[4] = score_list"
   ]
  },
  {
   "cell_type": "code",
   "execution_count": 13,
   "metadata": {},
   "outputs": [
    {
     "data": {
      "text/plain": [
       "[['model_06_13_20',\n",
       "  'model_06_20_20',\n",
       "  'model_6_27_20',\n",
       "  'model_7_18_20',\n",
       "  'model_7_25_20',\n",
       "  'model_9_2_20',\n",
       "  'model_9_10_20',\n",
       "  'model_10_23_20',\n",
       "  'model_10_27_20',\n",
       "  'model_10_28_20',\n",
       "  'model_2021_06_24',\n",
       "  'model_2021_06_30',\n",
       "  'model_2021_07_21'],\n",
       " ['LogisticRegression(max_iter=50000, random_state=75, tol=5.993308915320019)',\n",
       "  'GaussianNB()',\n",
       "  'GaussianNB()',\n",
       "  'GradientBoostingClassifier(n_estimators=122, random_state=75)',\n",
       "  'GaussianNB()',\n",
       "  'GaussianNB(var_smoothing=1e-12)',\n",
       "  'GaussianNB(var_smoothing=1e-12)',\n",
       "  'GradientBoostingClassifier(max_depth=95, min_samples_leaf=6, n_estimators=195,\\n                           random_state=75)',\n",
       "  \"RandomForestClassifier(criterion='entropy', max_depth=10, n_estimators=197,\\n                       n_jobs=-1, random_state=75)\",\n",
       "  \"RandomForestClassifier(criterion='entropy', max_depth=10, n_estimators=22,\\n                       n_jobs=-1, random_state=75)\",\n",
       "  'GradientBoostingClassifier(max_depth=95, min_samples_leaf=0.0015,\\n                           n_estimators=195, random_state=75)',\n",
       "  'GradientBoostingClassifier(max_depth=95, min_samples_leaf=0.0015,\\n                           n_estimators=195, random_state=75)',\n",
       "  \"RadiusNeighborsClassifier(outlier_label='most_frequent')\"],\n",
       " [\"['B_win_by_Decision_Majority', 'B_win_by_TKO_Doctor_Stoppage', 'R_win_by_Decision_Majority', 'R_odds', 'R_current_lose_streak', 'R_Reach_cms', 'B_draw', 'total_round_dif', 'R_ev', 'B_ev']\",\n",
       "  \"['R_win_by_Decision_Unanimous', 'B_win_by_Submission', 'R_Weight_lbs', 'sig_str_dif', 'B_Height_cms', 'B_avg_SUB_ATT', 'R_win_by_TKO_Doctor_Stoppage', 'height_dif', 'B_draw', 'avg_td_dif', 'R_win_by_Decision_Split', 'age_dif', 'B_current_win_streak', 'R_odds']\",\n",
       "  \"['R_longest_win_streak', 'longest_win_streak_dif', 'reach_dif', 'avg_sub_att_dif', 'R_win_by_Decision_Unanimous', 'B_win_by_Submission', 'R_Weight_lbs', 'sig_str_dif', 'B_Height_cms', 'B_avg_SUB_ATT', 'R_win_by_TKO_Doctor_Stoppage', 'height_dif', 'B_draw', 'avg_td_dif', 'R_win_by_Decision_Split', 'age_dif', 'B_current_win_streak', 'R_odds']\",\n",
       "  \"['B_current_win_streak', 'R_win_by_Submission', 'B_win_by_Decision_Unanimous', 'R_win_by_Decision_Unanimous', 'R_current_lose_streak', 'B_win_by_TKO_Doctor_Stoppage', 'win_dif', 'B_win_by_Decision_Split', 'B_wins', 'R_Stance', 'B_age', 'B_Weight_lbs', 'R_ev', 'B_total_rounds_fought', 'location', 'R_odds', 'R_Reach_cms', 'R_Weight_lbs', 'R_current_win_streak', 'R_age', 'empty_arena', 'R_win_by_Decision_Split', 'R_draw', 'lose_streak_dif', 'B_draw']\",\n",
       "  \"['R_Reach_cms', 'total_round_dif', 'R_Height_cms', 'R_avg_SIG_STR_pct', 'B_age', 'R_longest_win_streak', 'lose_streak_dif', 'ko_dif', 'R_win_by_Decision_Majority', 'longest_win_streak_dif', 'avg_sub_att_dif', 'R_Weight_lbs', 'sig_str_dif', 'B_Height_cms', 'B_avg_SUB_ATT', 'R_win_by_TKO_Doctor_Stoppage', 'B_draw', 'avg_td_dif', 'R_win_by_Decision_Split', 'age_dif', 'B_current_win_streak', 'R_odds']\",\n",
       "  \"['win_streak_dif', 'B_Light Heavyweight_rank', 'B_Lightweight_rank', 'R_avg_TD_landed', 'R_Middleweight_rank', 'total_round_dif', 'R_Height_cms', 'R_avg_SIG_STR_pct', 'B_age', 'R_longest_win_streak', 'lose_streak_dif', 'R_win_by_Decision_Majority', 'longest_win_streak_dif', 'avg_sub_att_dif', 'R_Weight_lbs', 'sig_str_dif', 'B_Height_cms', 'B_avg_SUB_ATT', 'R_win_by_TKO_Doctor_Stoppage', 'B_draw', 'avg_td_dif', 'R_win_by_Decision_Split', 'age_dif', 'R_odds']\",\n",
       "  \"['B_Weight_lbs', 'B_Flyweight_rank', 'B_avg_TD_landed', 'B_Light Heavyweight_rank', 'B_Lightweight_rank', 'R_avg_TD_landed', 'R_Middleweight_rank', 'R_Height_cms', 'R_avg_SIG_STR_pct', 'B_age', 'R_longest_win_streak', 'lose_streak_dif', 'R_win_by_Decision_Majority', 'longest_win_streak_dif', 'avg_sub_att_dif', 'sig_str_dif', 'B_avg_SUB_ATT', 'R_win_by_TKO_Doctor_Stoppage', 'B_draw', 'R_win_by_Decision_Split', 'age_dif', 'R_odds']\",\n",
       "  \"['weight_class', 'B_Reach_cms', 'B_Welterweight_rank', 'B_total_title_bouts', 'R_avg_TD_pct', 'B_Bantamweight_rank', 'R_Featherweight_rank', 'no_of_rounds', 'B_draw', 'B_Stance', 'R_win_by_TKO_Doctor_Stoppage', 'R_current_win_streak', 'B_avg_SIG_STR_landed', 'country']\",\n",
       "  '[\\'R_Height_cms\\', \\'R_Bantamweight_rank\\', \\'B_current_lose_streak\\', \\'avg_sub_att_dif\\', \\'B_Middleweight_rank\\', \\'R_current_win_streak\\', \\'total_round_dif\\', \\'B_avg_SUB_ATT\\', \\'B_avg_SIG_STR_landed\\', \\'age_dif\\', \\'B_Light Heavyweight_rank\\', \\'R_avg_TD_pct\\', \\'R_ev\\', \"B_Women\\'s Flyweight_rank\", \"B_Women\\'s Strawweight_rank\", \\'B_Bantamweight_rank\\', \\'R_Reach_cms\\', \\'B_win_by_Decision_Unanimous\\', \\'constant_1\\']',\n",
       "  '[\\'B_Stance\\', \\'R_current_lose_streak\\', \\'loss_dif\\', \\'B_win_by_Decision_Split\\', \\'R_Height_cms\\', \\'R_Bantamweight_rank\\', \\'B_current_lose_streak\\', \\'avg_sub_att_dif\\', \\'B_Middleweight_rank\\', \\'R_current_win_streak\\', \\'total_round_dif\\', \\'B_avg_SUB_ATT\\', \\'B_avg_SIG_STR_landed\\', \\'age_dif\\', \\'B_Light Heavyweight_rank\\', \\'R_avg_TD_pct\\', \\'R_ev\\', \"B_Women\\'s Flyweight_rank\", \"B_Women\\'s Strawweight_rank\", \\'B_Bantamweight_rank\\', \\'R_Reach_cms\\', \\'B_win_by_Decision_Unanimous\\', \\'constant_1\\']',\n",
       "  '[\"R_Women\\'s Featherweight_rank\", \\'B_Featherweight_rank\\', \\'B_win_by_KO/TKO\\', \\'R_Pound-for-Pound_rank\\', \\'reach_dif\\', \"R_Women\\'s Bantamweight_rank\", \\'age_dif\\', \\'weight_class\\', \\'B_Reach_cms\\', \\'B_Welterweight_rank\\', \\'B_total_title_bouts\\', \\'R_avg_TD_pct\\', \\'B_Bantamweight_rank\\', \\'R_Featherweight_rank\\', \\'no_of_rounds\\', \\'B_draw\\', \\'B_Stance\\', \\'R_win_by_TKO_Doctor_Stoppage\\', \\'R_current_win_streak\\', \\'B_avg_SIG_STR_landed\\', \\'country\\']',\n",
       "  '[\"R_Women\\'s Strawweight_rank\", \\'B_Lightweight_rank\\', \\'B_Pound-for-Pound_rank\\', \"R_Women\\'s Featherweight_rank\", \\'B_Featherweight_rank\\', \\'B_win_by_KO/TKO\\', \\'R_Pound-for-Pound_rank\\', \\'reach_dif\\', \"R_Women\\'s Bantamweight_rank\", \\'age_dif\\', \\'weight_class\\', \\'B_Reach_cms\\', \\'B_Welterweight_rank\\', \\'B_total_title_bouts\\', \\'R_avg_TD_pct\\', \\'B_Bantamweight_rank\\', \\'R_Featherweight_rank\\', \\'no_of_rounds\\', \\'B_draw\\', \\'B_Stance\\', \\'R_win_by_TKO_Doctor_Stoppage\\', \\'R_current_win_streak\\', \\'B_avg_SIG_STR_landed\\', \\'country\\']',\n",
       "  '[\"R_Women\\'s Flyweight_rank\", \\'R_draw\\', \"B_Women\\'s Strawweight_rank\", \\'B_Heavyweight_rank\\', \\'R_Light Heavyweight_rank\\', \\'B_win_by_TKO_Doctor_Stoppage\\', \\'R_Pound-for-Pound_rank\\', \\'R_avg_SUB_ATT\\', \\'R_win_by_Decision_Split\\', \\'R_wins\\', \\'empty_arena\\', \\'sub_dif\\', \\'R_Flyweight_rank\\', \\'height_dif\\', \\'B_total_title_bouts\\', \\'B_Bantamweight_rank\\', \\'R_longest_win_streak\\', \\'R_avg_TD_landed\\', \\'B_avg_SIG_STR_landed\\']'],\n",
       " ['0', '0', '0', '0', '1', '3', '2', '27', '1', '5', '33', '0', '5'],\n",
       " [1127.19067842605,\n",
       "  -950.9775482241005,\n",
       "  1083.4788618676141,\n",
       "  407.0778237930258,\n",
       "  -676.5402515344442,\n",
       "  -528.4063020903642,\n",
       "  -230.17923849846807,\n",
       "  -1678.1779331752696,\n",
       "  -120.80773041188252,\n",
       "  -1853.1849933783474,\n",
       "  1360.7010445967346,\n",
       "  66.33685543598621,\n",
       "  2208.3026702916454]]"
      ]
     },
     "execution_count": 13,
     "metadata": {},
     "output_type": "execute_result"
    }
   ],
   "source": [
    "models"
   ]
  },
  {
   "cell_type": "code",
   "execution_count": 14,
   "metadata": {},
   "outputs": [
    {
     "name": "stdout",
     "output_type": "stream",
     "text": [
      "HI\n",
      "HI\n",
      "HI\n",
      "HI\n",
      "HI\n"
     ]
    }
   ],
   "source": [
    "with open('../data/production_models.csv', 'w' , newline='') as outfile:\n",
    "    writer = csv.writer(outfile)\n",
    "    for row in models:\n",
    "        print(\"HI\")\n",
    "        writer.writerow(row)\n",
    "    \n",
    "outfile.close()"
   ]
  },
  {
   "cell_type": "code",
   "execution_count": null,
   "metadata": {},
   "outputs": [],
   "source": []
  }
 ],
 "metadata": {
  "kernelspec": {
   "display_name": "Python 3",
   "language": "python",
   "name": "python3"
  },
  "language_info": {
   "codemirror_mode": {
    "name": "ipython",
    "version": 3
   },
   "file_extension": ".py",
   "mimetype": "text/x-python",
   "name": "python",
   "nbconvert_exporter": "python",
   "pygments_lexer": "ipython3",
   "version": "3.8.8"
  }
 },
 "nbformat": 4,
 "nbformat_minor": 4
}
