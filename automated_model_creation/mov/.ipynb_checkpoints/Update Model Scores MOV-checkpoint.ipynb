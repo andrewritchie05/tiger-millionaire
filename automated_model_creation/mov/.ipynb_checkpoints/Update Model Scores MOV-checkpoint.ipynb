{
 "cells": [
  {
   "cell_type": "markdown",
   "id": "43418ae8",
   "metadata": {},
   "source": [
    "# What we are going to do here is get model scores for Method of Victory models (mov)"
   ]
  },
  {
   "cell_type": "code",
   "execution_count": 1,
   "id": "aae68ef3",
   "metadata": {},
   "outputs": [],
   "source": [
    "import pandas as pd\n",
    "import numpy as np\n",
    "import random\n",
    "import csv\n"
   ]
  },
  {
   "cell_type": "code",
   "execution_count": 2,
   "id": "88214385",
   "metadata": {},
   "outputs": [],
   "source": [
    "import sys\n",
    "sys.path.append('../../automated_model_creation') #We need to access the function file"
   ]
  },
  {
   "cell_type": "code",
   "execution_count": 3,
   "id": "7e2ab56f",
   "metadata": {},
   "outputs": [],
   "source": [
    "from functions import *\n"
   ]
  },
  {
   "cell_type": "code",
   "execution_count": 4,
   "id": "84c04fea",
   "metadata": {},
   "outputs": [],
   "source": [
    "is_prod = True\n",
    "\n",
    "if is_prod:\n",
    "    model_file = '../../data/production_models_mov.csv'\n",
    "else: #If not production then test\n",
    "    model_file = '../../data/models_mov.csv'"
   ]
  },
  {
   "cell_type": "code",
   "execution_count": 5,
   "id": "179dd1ef",
   "metadata": {},
   "outputs": [
    {
     "name": "stdout",
     "output_type": "stream",
     "text": [
      "12\n"
     ]
    }
   ],
   "source": [
    "#Load models\n",
    "with open(model_file, newline='') as f:\n",
    "    reader = csv.reader(f)\n",
    "    models = list(reader)\n",
    "    \n",
    "print(len(models[0]))\n"
   ]
  },
  {
   "cell_type": "code",
   "execution_count": 6,
   "id": "8632715d",
   "metadata": {},
   "outputs": [
    {
     "data": {
      "text/plain": [
       "'../../data/production_models_mov.csv'"
      ]
     },
     "execution_count": 6,
     "metadata": {},
     "output_type": "execute_result"
    }
   ],
   "source": [
    "model_file"
   ]
  },
  {
   "cell_type": "code",
   "execution_count": 7,
   "id": "fe712dfa",
   "metadata": {},
   "outputs": [],
   "source": [
    "df = pd.read_csv(\"../../data/kaggle_data/ufc-master.csv\")"
   ]
  },
  {
   "cell_type": "code",
   "execution_count": 8,
   "id": "894950cc",
   "metadata": {},
   "outputs": [],
   "source": [
    "#Load the matches that have already occurred \n",
    "\n",
    "#df[\"Winner\"] = df[\"Winner\"].astype('category')\n",
    "df = df[(df['Winner'] == 'Blue') | (df['Winner'] == 'Red')]\n",
    "\n",
    "#Let's fix the date\n",
    "df['date'] = pd.to_datetime(df['date'])"
   ]
  },
  {
   "cell_type": "code",
   "execution_count": null,
   "id": "e93e174f",
   "metadata": {},
   "outputs": [],
   "source": []
  },
  {
   "cell_type": "code",
   "execution_count": 9,
   "id": "da2ec235",
   "metadata": {},
   "outputs": [],
   "source": [
    "def return_finish_type(winner, finish):\n",
    "    #print(winner, finish)\n",
    "    #Why overcomplicate things?  We can just use a few if statements\n",
    "    if winner == 'Red':\n",
    "        #print(\"HI\")\n",
    "        if finish in ['U-DEC', 'S-DEC', 'M-DEC']:\n",
    "            return ('Red - DEC')\n",
    "        if finish in ['SUB']:\n",
    "            return('Red - SUB')\n",
    "        if finish in ['KO/TKO', 'DQ']:\n",
    "            return('Red - KO/TKO')\n",
    "    if winner == 'Blue':\n",
    "        if finish in ['U-DEC', 'S-DEC', 'M-DEC']:\n",
    "            return ('Blue - DEC')\n",
    "        if finish in ['SUB']:\n",
    "            return('Blue - SUB')\n",
    "        if finish in ['KO/TKO', 'DQ']:\n",
    "            return('Blue - KO/TKO')\n",
    "        \n",
    "    #Test for NaN\n",
    "    if finish != finish:\n",
    "        return('')\n",
    "    \n",
    "    if finish == 'Overturned':\n",
    "        return('')\n",
    "    \n",
    "    \n",
    "    return ('error')"
   ]
  },
  {
   "cell_type": "code",
   "execution_count": 10,
   "id": "cac081f4",
   "metadata": {},
   "outputs": [
    {
     "data": {
      "text/plain": [
       "4771"
      ]
     },
     "execution_count": 10,
     "metadata": {},
     "output_type": "execute_result"
    }
   ],
   "source": [
    "len(df)"
   ]
  },
  {
   "cell_type": "code",
   "execution_count": 11,
   "id": "7ca27d70",
   "metadata": {},
   "outputs": [],
   "source": [
    "#This calls for the power of lambda!\n",
    "df['finish_type'] = df.apply(lambda x: return_finish_type(x['Winner'], x['finish']), axis=1)"
   ]
  },
  {
   "cell_type": "code",
   "execution_count": 12,
   "id": "2353fa0e",
   "metadata": {},
   "outputs": [
    {
     "data": {
      "text/html": [
       "<div>\n",
       "<style scoped>\n",
       "    .dataframe tbody tr th:only-of-type {\n",
       "        vertical-align: middle;\n",
       "    }\n",
       "\n",
       "    .dataframe tbody tr th {\n",
       "        vertical-align: top;\n",
       "    }\n",
       "\n",
       "    .dataframe thead th {\n",
       "        text-align: right;\n",
       "    }\n",
       "</style>\n",
       "<table border=\"1\" class=\"dataframe\">\n",
       "  <thead>\n",
       "    <tr style=\"text-align: right;\">\n",
       "      <th></th>\n",
       "      <th>Winner</th>\n",
       "      <th>finish</th>\n",
       "      <th>finish_type</th>\n",
       "    </tr>\n",
       "  </thead>\n",
       "  <tbody>\n",
       "  </tbody>\n",
       "</table>\n",
       "</div>"
      ],
      "text/plain": [
       "Empty DataFrame\n",
       "Columns: [Winner, finish, finish_type]\n",
       "Index: []"
      ]
     },
     "metadata": {},
     "output_type": "display_data"
    }
   ],
   "source": [
    "mask = df['finish_type'] == 'error'\n",
    "\n",
    "display(df[['Winner', 'finish', 'finish_type']][mask])"
   ]
  },
  {
   "cell_type": "code",
   "execution_count": null,
   "id": "1bd974d6",
   "metadata": {},
   "outputs": [],
   "source": []
  },
  {
   "cell_type": "code",
   "execution_count": 13,
   "id": "544e83ba",
   "metadata": {},
   "outputs": [
    {
     "data": {
      "text/plain": [
       "array(['', 'Blue - DEC', 'Blue - KO/TKO', 'Blue - SUB', 'Red - DEC',\n",
       "       'Red - KO/TKO', 'Red - SUB'], dtype=object)"
      ]
     },
     "metadata": {},
     "output_type": "display_data"
    },
    {
     "data": {
      "text/html": [
       "<div>\n",
       "<style scoped>\n",
       "    .dataframe tbody tr th:only-of-type {\n",
       "        vertical-align: middle;\n",
       "    }\n",
       "\n",
       "    .dataframe tbody tr th {\n",
       "        vertical-align: top;\n",
       "    }\n",
       "\n",
       "    .dataframe thead th {\n",
       "        text-align: right;\n",
       "    }\n",
       "</style>\n",
       "<table border=\"1\" class=\"dataframe\">\n",
       "  <thead>\n",
       "    <tr style=\"text-align: right;\">\n",
       "      <th></th>\n",
       "      <th>R_fighter</th>\n",
       "      <th>B_fighter</th>\n",
       "      <th>R_odds</th>\n",
       "      <th>B_odds</th>\n",
       "      <th>R_ev</th>\n",
       "      <th>B_ev</th>\n",
       "      <th>date</th>\n",
       "      <th>location</th>\n",
       "      <th>country</th>\n",
       "      <th>Winner</th>\n",
       "      <th>...</th>\n",
       "      <th>R_rev_bout</th>\n",
       "      <th>B_rev_bout</th>\n",
       "      <th>r_dec_odds</th>\n",
       "      <th>b_dec_odds</th>\n",
       "      <th>r_sub_odds</th>\n",
       "      <th>b_sub_odds</th>\n",
       "      <th>r_ko_odds</th>\n",
       "      <th>b_ko_odds</th>\n",
       "      <th>finish_type</th>\n",
       "      <th>label</th>\n",
       "    </tr>\n",
       "  </thead>\n",
       "  <tbody>\n",
       "    <tr>\n",
       "      <th>0</th>\n",
       "      <td>Ciryl Gane</td>\n",
       "      <td>Alexander Volkov</td>\n",
       "      <td>-155</td>\n",
       "      <td>125</td>\n",
       "      <td>64.516129</td>\n",
       "      <td>125.0</td>\n",
       "      <td>2021-06-26</td>\n",
       "      <td>Las Vegas, Nevada, USA</td>\n",
       "      <td>USA</td>\n",
       "      <td>Red</td>\n",
       "      <td>...</td>\n",
       "      <td>NaN</td>\n",
       "      <td>NaN</td>\n",
       "      <td>188.0</td>\n",
       "      <td>300.0</td>\n",
       "      <td>700.0</td>\n",
       "      <td>375.0</td>\n",
       "      <td>275.0</td>\n",
       "      <td>1600.0</td>\n",
       "      <td>Red - DEC</td>\n",
       "      <td>4</td>\n",
       "    </tr>\n",
       "    <tr>\n",
       "      <th>1</th>\n",
       "      <td>Tanner Boser</td>\n",
       "      <td>Ovince Saint Preux</td>\n",
       "      <td>-195</td>\n",
       "      <td>153</td>\n",
       "      <td>51.282051</td>\n",
       "      <td>153.0</td>\n",
       "      <td>2021-06-26</td>\n",
       "      <td>Las Vegas, Nevada, USA</td>\n",
       "      <td>USA</td>\n",
       "      <td>Red</td>\n",
       "      <td>...</td>\n",
       "      <td>NaN</td>\n",
       "      <td>NaN</td>\n",
       "      <td>175.0</td>\n",
       "      <td>250.0</td>\n",
       "      <td>1800.0</td>\n",
       "      <td>350.0</td>\n",
       "      <td>700.0</td>\n",
       "      <td>500.0</td>\n",
       "      <td>Red - KO/TKO</td>\n",
       "      <td>5</td>\n",
       "    </tr>\n",
       "    <tr>\n",
       "      <th>2</th>\n",
       "      <td>Raoni Barcelos</td>\n",
       "      <td>Timur Valiev</td>\n",
       "      <td>-230</td>\n",
       "      <td>180</td>\n",
       "      <td>43.478261</td>\n",
       "      <td>180.0</td>\n",
       "      <td>2021-06-26</td>\n",
       "      <td>Las Vegas, Nevada, USA</td>\n",
       "      <td>USA</td>\n",
       "      <td>Blue</td>\n",
       "      <td>...</td>\n",
       "      <td>NaN</td>\n",
       "      <td>NaN</td>\n",
       "      <td>125.0</td>\n",
       "      <td>375.0</td>\n",
       "      <td>600.0</td>\n",
       "      <td>325.0</td>\n",
       "      <td>800.0</td>\n",
       "      <td>1250.0</td>\n",
       "      <td>Blue - DEC</td>\n",
       "      <td>1</td>\n",
       "    </tr>\n",
       "    <tr>\n",
       "      <th>3</th>\n",
       "      <td>Tim Means</td>\n",
       "      <td>Nicolas Dalby</td>\n",
       "      <td>-143</td>\n",
       "      <td>113</td>\n",
       "      <td>69.930070</td>\n",
       "      <td>113.0</td>\n",
       "      <td>2021-06-26</td>\n",
       "      <td>Las Vegas, Nevada, USA</td>\n",
       "      <td>USA</td>\n",
       "      <td>Red</td>\n",
       "      <td>...</td>\n",
       "      <td>NaN</td>\n",
       "      <td>NaN</td>\n",
       "      <td>165.0</td>\n",
       "      <td>400.0</td>\n",
       "      <td>800.0</td>\n",
       "      <td>225.0</td>\n",
       "      <td>600.0</td>\n",
       "      <td>1000.0</td>\n",
       "      <td>Red - DEC</td>\n",
       "      <td>4</td>\n",
       "    </tr>\n",
       "    <tr>\n",
       "      <th>4</th>\n",
       "      <td>Renato Moicano</td>\n",
       "      <td>Jai Herbert</td>\n",
       "      <td>-250</td>\n",
       "      <td>195</td>\n",
       "      <td>40.000000</td>\n",
       "      <td>195.0</td>\n",
       "      <td>2021-06-26</td>\n",
       "      <td>Las Vegas, Nevada, USA</td>\n",
       "      <td>USA</td>\n",
       "      <td>Red</td>\n",
       "      <td>...</td>\n",
       "      <td>NaN</td>\n",
       "      <td>NaN</td>\n",
       "      <td>240.0</td>\n",
       "      <td>550.0</td>\n",
       "      <td>175.0</td>\n",
       "      <td>550.0</td>\n",
       "      <td>325.0</td>\n",
       "      <td>1500.0</td>\n",
       "      <td>Red - SUB</td>\n",
       "      <td>6</td>\n",
       "    </tr>\n",
       "    <tr>\n",
       "      <th>...</th>\n",
       "      <td>...</td>\n",
       "      <td>...</td>\n",
       "      <td>...</td>\n",
       "      <td>...</td>\n",
       "      <td>...</td>\n",
       "      <td>...</td>\n",
       "      <td>...</td>\n",
       "      <td>...</td>\n",
       "      <td>...</td>\n",
       "      <td>...</td>\n",
       "      <td>...</td>\n",
       "      <td>...</td>\n",
       "      <td>...</td>\n",
       "      <td>...</td>\n",
       "      <td>...</td>\n",
       "      <td>...</td>\n",
       "      <td>...</td>\n",
       "      <td>...</td>\n",
       "      <td>...</td>\n",
       "      <td>...</td>\n",
       "      <td>...</td>\n",
       "    </tr>\n",
       "    <tr>\n",
       "      <th>4766</th>\n",
       "      <td>Duane Ludwig</td>\n",
       "      <td>Darren Elkins</td>\n",
       "      <td>-155</td>\n",
       "      <td>135</td>\n",
       "      <td>64.516129</td>\n",
       "      <td>135.0</td>\n",
       "      <td>2010-03-21</td>\n",
       "      <td>Broomfield, Colorado, USA</td>\n",
       "      <td>USA</td>\n",
       "      <td>Blue</td>\n",
       "      <td>...</td>\n",
       "      <td>0.0</td>\n",
       "      <td>0.0</td>\n",
       "      <td>NaN</td>\n",
       "      <td>NaN</td>\n",
       "      <td>NaN</td>\n",
       "      <td>NaN</td>\n",
       "      <td>NaN</td>\n",
       "      <td>NaN</td>\n",
       "      <td>Blue - KO/TKO</td>\n",
       "      <td>2</td>\n",
       "    </tr>\n",
       "    <tr>\n",
       "      <th>4767</th>\n",
       "      <td>John Howard</td>\n",
       "      <td>Daniel Roberts</td>\n",
       "      <td>-210</td>\n",
       "      <td>175</td>\n",
       "      <td>47.619048</td>\n",
       "      <td>175.0</td>\n",
       "      <td>2010-03-21</td>\n",
       "      <td>Broomfield, Colorado, USA</td>\n",
       "      <td>USA</td>\n",
       "      <td>Red</td>\n",
       "      <td>...</td>\n",
       "      <td>0.0</td>\n",
       "      <td>1.0</td>\n",
       "      <td>NaN</td>\n",
       "      <td>NaN</td>\n",
       "      <td>NaN</td>\n",
       "      <td>NaN</td>\n",
       "      <td>NaN</td>\n",
       "      <td>NaN</td>\n",
       "      <td>Red - KO/TKO</td>\n",
       "      <td>5</td>\n",
       "    </tr>\n",
       "    <tr>\n",
       "      <th>4768</th>\n",
       "      <td>Brendan Schaub</td>\n",
       "      <td>Chase Gormley</td>\n",
       "      <td>-260</td>\n",
       "      <td>220</td>\n",
       "      <td>38.461538</td>\n",
       "      <td>220.0</td>\n",
       "      <td>2010-03-21</td>\n",
       "      <td>Broomfield, Colorado, USA</td>\n",
       "      <td>USA</td>\n",
       "      <td>Red</td>\n",
       "      <td>...</td>\n",
       "      <td>0.0</td>\n",
       "      <td>0.0</td>\n",
       "      <td>NaN</td>\n",
       "      <td>NaN</td>\n",
       "      <td>NaN</td>\n",
       "      <td>NaN</td>\n",
       "      <td>NaN</td>\n",
       "      <td>NaN</td>\n",
       "      <td>Red - KO/TKO</td>\n",
       "      <td>5</td>\n",
       "    </tr>\n",
       "    <tr>\n",
       "      <th>4769</th>\n",
       "      <td>Mike Pierce</td>\n",
       "      <td>Julio Paulino</td>\n",
       "      <td>-420</td>\n",
       "      <td>335</td>\n",
       "      <td>23.809524</td>\n",
       "      <td>335.0</td>\n",
       "      <td>2010-03-21</td>\n",
       "      <td>Broomfield, Colorado, USA</td>\n",
       "      <td>USA</td>\n",
       "      <td>Red</td>\n",
       "      <td>...</td>\n",
       "      <td>0.0</td>\n",
       "      <td>0.0</td>\n",
       "      <td>NaN</td>\n",
       "      <td>NaN</td>\n",
       "      <td>NaN</td>\n",
       "      <td>NaN</td>\n",
       "      <td>NaN</td>\n",
       "      <td>NaN</td>\n",
       "      <td>Red - DEC</td>\n",
       "      <td>4</td>\n",
       "    </tr>\n",
       "    <tr>\n",
       "      <th>4770</th>\n",
       "      <td>Eric Schafer</td>\n",
       "      <td>Jason Brilz</td>\n",
       "      <td>140</td>\n",
       "      <td>-160</td>\n",
       "      <td>140.000000</td>\n",
       "      <td>62.5</td>\n",
       "      <td>2010-03-21</td>\n",
       "      <td>Broomfield, Colorado, USA</td>\n",
       "      <td>USA</td>\n",
       "      <td>Blue</td>\n",
       "      <td>...</td>\n",
       "      <td>1.0</td>\n",
       "      <td>1.0</td>\n",
       "      <td>NaN</td>\n",
       "      <td>NaN</td>\n",
       "      <td>NaN</td>\n",
       "      <td>NaN</td>\n",
       "      <td>NaN</td>\n",
       "      <td>NaN</td>\n",
       "      <td>Blue - DEC</td>\n",
       "      <td>1</td>\n",
       "    </tr>\n",
       "  </tbody>\n",
       "</table>\n",
       "<p>4771 rows × 145 columns</p>\n",
       "</div>"
      ],
      "text/plain": [
       "           R_fighter           B_fighter  R_odds  B_odds        R_ev   B_ev  \\\n",
       "0         Ciryl Gane    Alexander Volkov    -155     125   64.516129  125.0   \n",
       "1       Tanner Boser  Ovince Saint Preux    -195     153   51.282051  153.0   \n",
       "2     Raoni Barcelos        Timur Valiev    -230     180   43.478261  180.0   \n",
       "3          Tim Means       Nicolas Dalby    -143     113   69.930070  113.0   \n",
       "4     Renato Moicano         Jai Herbert    -250     195   40.000000  195.0   \n",
       "...              ...                 ...     ...     ...         ...    ...   \n",
       "4766    Duane Ludwig       Darren Elkins    -155     135   64.516129  135.0   \n",
       "4767     John Howard      Daniel Roberts    -210     175   47.619048  175.0   \n",
       "4768  Brendan Schaub       Chase Gormley    -260     220   38.461538  220.0   \n",
       "4769     Mike Pierce       Julio Paulino    -420     335   23.809524  335.0   \n",
       "4770    Eric Schafer         Jason Brilz     140    -160  140.000000   62.5   \n",
       "\n",
       "           date                   location country Winner  ...  R_rev_bout  \\\n",
       "0    2021-06-26     Las Vegas, Nevada, USA     USA    Red  ...         NaN   \n",
       "1    2021-06-26     Las Vegas, Nevada, USA     USA    Red  ...         NaN   \n",
       "2    2021-06-26     Las Vegas, Nevada, USA     USA   Blue  ...         NaN   \n",
       "3    2021-06-26     Las Vegas, Nevada, USA     USA    Red  ...         NaN   \n",
       "4    2021-06-26     Las Vegas, Nevada, USA     USA    Red  ...         NaN   \n",
       "...         ...                        ...     ...    ...  ...         ...   \n",
       "4766 2010-03-21  Broomfield, Colorado, USA     USA   Blue  ...         0.0   \n",
       "4767 2010-03-21  Broomfield, Colorado, USA     USA    Red  ...         0.0   \n",
       "4768 2010-03-21  Broomfield, Colorado, USA     USA    Red  ...         0.0   \n",
       "4769 2010-03-21  Broomfield, Colorado, USA     USA    Red  ...         0.0   \n",
       "4770 2010-03-21  Broomfield, Colorado, USA     USA   Blue  ...         1.0   \n",
       "\n",
       "     B_rev_bout r_dec_odds  b_dec_odds  r_sub_odds  b_sub_odds  r_ko_odds  \\\n",
       "0           NaN      188.0       300.0       700.0       375.0      275.0   \n",
       "1           NaN      175.0       250.0      1800.0       350.0      700.0   \n",
       "2           NaN      125.0       375.0       600.0       325.0      800.0   \n",
       "3           NaN      165.0       400.0       800.0       225.0      600.0   \n",
       "4           NaN      240.0       550.0       175.0       550.0      325.0   \n",
       "...         ...        ...         ...         ...         ...        ...   \n",
       "4766        0.0        NaN         NaN         NaN         NaN        NaN   \n",
       "4767        1.0        NaN         NaN         NaN         NaN        NaN   \n",
       "4768        0.0        NaN         NaN         NaN         NaN        NaN   \n",
       "4769        0.0        NaN         NaN         NaN         NaN        NaN   \n",
       "4770        1.0        NaN         NaN         NaN         NaN        NaN   \n",
       "\n",
       "      b_ko_odds    finish_type  label  \n",
       "0        1600.0      Red - DEC      4  \n",
       "1         500.0   Red - KO/TKO      5  \n",
       "2        1250.0     Blue - DEC      1  \n",
       "3        1000.0      Red - DEC      4  \n",
       "4        1500.0      Red - SUB      6  \n",
       "...         ...            ...    ...  \n",
       "4766        NaN  Blue - KO/TKO      2  \n",
       "4767        NaN   Red - KO/TKO      5  \n",
       "4768        NaN   Red - KO/TKO      5  \n",
       "4769        NaN      Red - DEC      4  \n",
       "4770        NaN     Blue - DEC      1  \n",
       "\n",
       "[4771 rows x 145 columns]"
      ]
     },
     "metadata": {},
     "output_type": "display_data"
    }
   ],
   "source": [
    "from sklearn import preprocessing #Used for LabelEncoder\n",
    "\n",
    "le = preprocessing.LabelEncoder()\n",
    "\n",
    "le.fit(df['finish_type'])\n",
    "\n",
    "display(le.classes_)\n",
    "\n",
    "df['label'] = le.transform(df['finish_type'])\n",
    "\n",
    "display(df)\n"
   ]
  },
  {
   "cell_type": "code",
   "execution_count": 14,
   "id": "8e7ba3c6",
   "metadata": {},
   "outputs": [
    {
     "name": "stdout",
     "output_type": "stream",
     "text": [
      "250\n",
      "250\n",
      "250\n"
     ]
    }
   ],
   "source": [
    "label_df = df['label']\n",
    "df_odds = df[['r_dec_odds', 'r_sub_odds', 'r_ko_odds', 'b_dec_odds', 'b_sub_odds', 'b_ko_odds']]\n",
    "\n",
    "\n",
    "df_train = df[250:]\n",
    "label_train = label_df[250:]\n",
    "odds_train = df_odds[250:]\n",
    "\n",
    "df_test = df[:250]\n",
    "label_test = label_df[:250]\n",
    "odds_test = df_odds[:250]\n",
    "\n",
    "print(len(df_test))\n",
    "print(len(label_test))\n",
    "print(len(odds_test))\n"
   ]
  },
  {
   "cell_type": "code",
   "execution_count": 15,
   "id": "bfc76cc9",
   "metadata": {},
   "outputs": [
    {
     "name": "stderr",
     "output_type": "stream",
     "text": [
      "C:\\Users\\matth\\anaconda3\\lib\\site-packages\\pandas\\core\\frame.py:3191: SettingWithCopyWarning: \n",
      "A value is trying to be set on a copy of a slice from a DataFrame.\n",
      "Try using .loc[row_indexer,col_indexer] = value instead\n",
      "\n",
      "See the caveats in the documentation: https://pandas.pydata.org/pandas-docs/stable/user_guide/indexing.html#returning-a-view-versus-a-copy\n",
      "  self[k1] = value[k2]\n"
     ]
    }
   ],
   "source": [
    "weightclass_list = ['B_match_weightclass_rank', 'R_match_weightclass_rank', \"R_Women's Flyweight_rank\", \"R_Women's Featherweight_rank\", \"R_Women's Strawweight_rank\", \"R_Women's Bantamweight_rank\", 'R_Heavyweight_rank', 'R_Light Heavyweight_rank', 'R_Middleweight_rank', 'R_Welterweight_rank', 'R_Lightweight_rank', 'R_Featherweight_rank', 'R_Bantamweight_rank', 'R_Flyweight_rank', 'R_Pound-for-Pound_rank', \"B_Women's Flyweight_rank\", \"B_Women's Featherweight_rank\", \"B_Women's Strawweight_rank\", \"B_Women's Bantamweight_rank\", 'B_Heavyweight_rank', 'B_Light Heavyweight_rank', 'B_Middleweight_rank', 'B_Welterweight_rank', 'B_Lightweight_rank', 'B_Featherweight_rank', 'B_Bantamweight_rank', 'B_Flyweight_rank', 'B_Pound-for-Pound_rank']\n",
    "df_train[weightclass_list] = df_train[weightclass_list].fillna(17)\n",
    "df_test[weightclass_list] = df_test[weightclass_list].fillna(17)"
   ]
  },
  {
   "cell_type": "code",
   "execution_count": 16,
   "id": "2653c7ee",
   "metadata": {},
   "outputs": [
    {
     "name": "stdout",
     "output_type": "stream",
     "text": [
      "4116\n",
      "4116\n",
      "4116\n",
      "50\n",
      "50\n",
      "50\n"
     ]
    }
   ],
   "source": [
    "#We need to split then mask.  The models can never see the first 250 rows.\n",
    "\n",
    "mask = df_train['finish_type'] != ''\n",
    "df_train = df_train[mask]\n",
    "#print(len(df_train))\n",
    "\n",
    "mask = df_test['finish_type'] != ''\n",
    "df_test = df_test[mask]\n",
    "#print(len(df_test))\n",
    "\n",
    "label_train = label_train[label_train.index.isin(df_train.index)]\n",
    "label_test = label_test[label_test.index.isin(df_test.index)]\n",
    "\n",
    "odds_train = odds_train[odds_train.index.isin(df_train.index)]\n",
    "odds_test = odds_test[odds_test.index.isin(df_test.index)]\n",
    "\n",
    "\n",
    "print(len(df_train))\n",
    "print(len(label_train))\n",
    "print(len(odds_train))\n",
    "print(len(df_test))\n",
    "print(len(label_test))\n",
    "print(len(odds_test))"
   ]
  },
  {
   "cell_type": "code",
   "execution_count": 17,
   "id": "31fed098",
   "metadata": {},
   "outputs": [
    {
     "name": "stdout",
     "output_type": "stream",
     "text": [
      "3082\n",
      "3082\n",
      "3082\n",
      "49\n",
      "49\n",
      "49\n"
     ]
    }
   ],
   "source": [
    "odds_train = odds_train.dropna()\n",
    "odds_test = odds_test.dropna()\n",
    "\n",
    "df_train = df_train[df_train.index.isin(odds_train.index)]\n",
    "df_test = df_test[df_test.index.isin(odds_test.index)]\n",
    "\n",
    "label_train = label_train[label_train.index.isin(odds_train.index)]\n",
    "label_test = label_test[label_test.index.isin(odds_test.index)]\n",
    "\n",
    "print(len(df_train))\n",
    "print(len(label_train))\n",
    "print(len(odds_train))\n",
    "print(len(df_test))\n",
    "print(len(label_test))\n",
    "print(len(odds_test))"
   ]
  },
  {
   "cell_type": "code",
   "execution_count": 18,
   "id": "13e5b2fc",
   "metadata": {},
   "outputs": [],
   "source": [
    "model_num = 0"
   ]
  },
  {
   "cell_type": "code",
   "execution_count": 19,
   "id": "ae3d92fa",
   "metadata": {},
   "outputs": [
    {
     "name": "stdout",
     "output_type": "stream",
     "text": [
      "Index(['r_dec_odds', 'r_sub_odds', 'r_ko_odds', 'b_dec_odds', 'b_sub_odds',\n",
      "       'b_ko_odds'],\n",
      "      dtype='object')\n",
      "['' 'Blue - DEC' 'Blue - KO/TKO' 'Blue - SUB' 'Red - DEC' 'Red - KO/TKO'\n",
      " 'Red - SUB']\n"
     ]
    }
   ],
   "source": [
    "print(odds_test.columns)\n",
    "print(le.classes_)"
   ]
  },
  {
   "cell_type": "code",
   "execution_count": 20,
   "id": "91bc6190",
   "metadata": {},
   "outputs": [],
   "source": [
    "odds_test.rename(columns={'r_dec_odds': 'Red - DEC', 'r_sub_odds': 'Red - SUB', 'r_ko_odds': 'Red - KO/TKO',\n",
    "                'b_dec_odds': 'Blue - DEC', 'b_sub_odds': 'Blue - SUB', 'b_ko_odds': 'Blue - KO/TKO'}, inplace=True)\n",
    "odds_train.rename(columns={'r_dec_odds': 'Red - DEC', 'r_sub_odds': 'Red - SUB', 'r_ko_odds': 'Red - KO/TKO',\n",
    "                'b_dec_odds': 'Blue - DEC', 'b_sub_odds': 'Blue - SUB', 'b_ko_odds': 'Blue - KO/TKO'}, inplace=True)\n"
   ]
  },
  {
   "cell_type": "code",
   "execution_count": null,
   "id": "0d4b1cd4",
   "metadata": {},
   "outputs": [],
   "source": []
  },
  {
   "cell_type": "code",
   "execution_count": 21,
   "id": "a394b20e",
   "metadata": {},
   "outputs": [
    {
     "data": {
      "text/plain": [
       "(3082, 10)"
      ]
     },
     "metadata": {},
     "output_type": "display_data"
    },
    {
     "data": {
      "text/plain": [
       "(3082,)"
      ]
     },
     "metadata": {},
     "output_type": "display_data"
    },
    {
     "data": {
      "text/plain": [
       "(3082, 6)"
      ]
     },
     "metadata": {},
     "output_type": "display_data"
    },
    {
     "data": {
      "text/plain": [
       "(49, 10)"
      ]
     },
     "metadata": {},
     "output_type": "display_data"
    },
    {
     "data": {
      "text/plain": [
       "(49,)"
      ]
     },
     "metadata": {},
     "output_type": "display_data"
    },
    {
     "data": {
      "text/plain": [
       "(49, 6)"
      ]
     },
     "metadata": {},
     "output_type": "display_data"
    },
    {
     "name": "stdout",
     "output_type": "stream",
     "text": [
      "   Red - DEC  Red - SUB  Red - KO/TKO  Blue - DEC  Blue - SUB  Blue - KO/TKO\n",
      "0      188.0      700.0         275.0       300.0       375.0         1600.0\n",
      "Blue - DEC: 0.12114787051968483\n",
      "300.0\n",
      "-51.54085179212608\n",
      "\n",
      "Blue - KO/TKO: 0.17732996263795983\n",
      "1600.0\n",
      "201.46093648453171\n",
      "Losing Bet.  New Score: -100\n",
      "\n",
      "Blue - SUB: 0.046785493703657456\n",
      "375.0\n",
      "-77.77689049076271\n",
      "\n",
      "Red - DEC: 0.20823048104090786\n",
      "188.0\n",
      "-40.029621460218536\n",
      "\n",
      "Red - KO/TKO: 0.35227392454188744\n",
      "275.0\n",
      "32.10272170320779\n",
      "Losing Bet.  New Score: -200\n",
      "\n",
      "Red - SUB: 0.09423226755590257\n",
      "700.0\n",
      "-24.614185955277947\n",
      "\n",
      "Result: Red - DEC (4)\n",
      "-200\n"
     ]
    }
   ],
   "source": [
    "test_model_name = models[0][model_num]\n",
    "test_model = eval(models[1][model_num])\n",
    "test_model_features = eval(models[2][model_num])\n",
    "test_model_ev = eval(models[3][model_num])\n",
    "score = (evaluate_model_mov(test_model, test_model_features, test_model_ev, df_train, label_train, odds_train, df_test, label_test,\n",
    "                         odds_test, le.classes_, verbose = True))\n",
    "\n",
    "#print(score)"
   ]
  },
  {
   "cell_type": "code",
   "execution_count": 22,
   "id": "89716479",
   "metadata": {},
   "outputs": [],
   "source": [
    "np.set_printoptions(suppress=True)"
   ]
  },
  {
   "cell_type": "code",
   "execution_count": 23,
   "id": "aad82a8a",
   "metadata": {},
   "outputs": [],
   "source": [
    "#print(score)"
   ]
  },
  {
   "cell_type": "code",
   "execution_count": null,
   "id": "10cb0efc",
   "metadata": {},
   "outputs": [],
   "source": []
  }
 ],
 "metadata": {
  "kernelspec": {
   "display_name": "Python 3",
   "language": "python",
   "name": "python3"
  },
  "language_info": {
   "codemirror_mode": {
    "name": "ipython",
    "version": 3
   },
   "file_extension": ".py",
   "mimetype": "text/x-python",
   "name": "python",
   "nbconvert_exporter": "python",
   "pygments_lexer": "ipython3",
   "version": "3.8.8"
  }
 },
 "nbformat": 4,
 "nbformat_minor": 5
}
