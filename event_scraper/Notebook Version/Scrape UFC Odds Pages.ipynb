{
 "cells": [
  {
   "cell_type": "markdown",
   "id": "7e13f6a4",
   "metadata": {},
   "source": [
    "# OK we need to scrape the UFC odds pages going back to the 2/27/21 event."
   ]
  },
  {
   "cell_type": "code",
   "execution_count": 2,
   "id": "f87db3f3",
   "metadata": {},
   "outputs": [],
   "source": [
    "#When we go to an event that doesn't exist it's going to take us to the landing page."
   ]
  },
  {
   "cell_type": "code",
   "execution_count": 13,
   "id": "cb424663",
   "metadata": {},
   "outputs": [],
   "source": [
    "import pandas as pd\n",
    "from urllib.request import urlopen\n",
    "from bs4 import BeautifulSoup\n",
    "from datetime import datetime\n",
    "from dateutil.parser import parse"
   ]
  },
  {
   "cell_type": "code",
   "execution_count": 15,
   "id": "63b71a08",
   "metadata": {},
   "outputs": [],
   "source": [
    "#OK this isn't going to work like I wanted it to.  We need to just make a list of the pages\n",
    "year = 2021\n",
    "scrape_list = [\n",
    "    'https://www.bestfightodds.com/events/ufc-fight-night-186-rozenstruik-vs-gane-2039',\n",
    "    'https://www.bestfightodds.com/events/ufc-259-blachowicz-vs-adesanya-2038',\n",
    "    'https://www.bestfightodds.com/events/ufc-fight-night-187-edwards-vs-muhammad-2048',\n",
    "    'https://www.bestfightodds.com/events/ufc-on-espn-21-brunson-vs-holland-2053',\n",
    "    'https://www.bestfightodds.com/events/ufc-260-miocic-vs-ngannou-2-2055',\n",
    "    'https://www.bestfightodds.com/events/ufc-on-abc-2-vettori-vs-holland-2061',\n",
    "    'https://www.bestfightodds.com/events/ufc-on-espn-22-whittaker-vs-gastelum-2062',\n",
    "    'https://www.bestfightodds.com/events/ufc-261-usman-vs-masvidal-2-2087',\n",
    "    'https://www.bestfightodds.com/events/ufc-on-espn-23-reyes-vs-prochazka-2074',\n",
    "    'https://www.bestfightodds.com/events/ufc-on-espn-24-rodriguez-vs-waterson-2075',\n",
    "    'https://www.bestfightodds.com/events/ufc-262-oliveira-vs-chandler-2086'\n",
    "]\n",
    "#Even if we only have one item in the list it shouldn't break the code below\n"
   ]
  },
  {
   "cell_type": "code",
   "execution_count": 7,
   "id": "17061da1",
   "metadata": {},
   "outputs": [
    {
     "data": {
      "text/plain": [
       "'https://www.bestfightodds.com/events/ufc-fight-night-186-rozenstruik-vs-gane-2039'"
      ]
     },
     "execution_count": 7,
     "metadata": {},
     "output_type": "execute_result"
    }
   ],
   "source": [
    "scrape_list[0]"
   ]
  },
  {
   "cell_type": "code",
   "execution_count": 20,
   "id": "2357e228",
   "metadata": {},
   "outputs": [],
   "source": [
    "f = scrape_list[0]\n",
    "\n",
    "html = urlopen(f)\n",
    "bs = BeautifulSoup(html.read(), 'html.parser')\n",
    "raw_date = bs.find('span', {'class':'table-header-date'})\n",
    "raw_date = raw_date.get_text().strip()\n",
    "#print(raw_date)\n",
    "combined_date = raw_date + \" \" + str(year)\n",
    "#print(combined_date)\n",
    "\n",
    "#Smart enought to give us a date\n",
    "parsed_date = str(parse(combined_date)).split(' ')[0]\n",
    "\n",
    "\n",
    "with open(f'odds_pages/{parsed_date}.html', 'w', encoding='utf-8') as file:\n",
    "    file.write(str(bs))\n"
   ]
  },
  {
   "cell_type": "code",
   "execution_count": 17,
   "id": "83cac09f",
   "metadata": {},
   "outputs": [],
   "source": []
  },
  {
   "cell_type": "code",
   "execution_count": 18,
   "id": "a3f72947",
   "metadata": {},
   "outputs": [
    {
     "name": "stdout",
     "output_type": "stream",
     "text": [
      "2021-02-27 00:00:00 <class 'datetime.datetime'>\n"
     ]
    }
   ],
   "source": [
    "print(d, type(d))"
   ]
  },
  {
   "cell_type": "code",
   "execution_count": null,
   "id": "c55f04ca",
   "metadata": {},
   "outputs": [],
   "source": []
  }
 ],
 "metadata": {
  "kernelspec": {
   "display_name": "Python 3",
   "language": "python",
   "name": "python3"
  },
  "language_info": {
   "codemirror_mode": {
    "name": "ipython",
    "version": 3
   },
   "file_extension": ".py",
   "mimetype": "text/x-python",
   "name": "python",
   "nbconvert_exporter": "python",
   "pygments_lexer": "ipython3",
   "version": "3.8.8"
  }
 },
 "nbformat": 4,
 "nbformat_minor": 5
}
