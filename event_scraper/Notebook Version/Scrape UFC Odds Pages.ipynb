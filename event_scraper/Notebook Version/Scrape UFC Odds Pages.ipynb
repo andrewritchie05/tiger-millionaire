{
 "cells": [
  {
   "cell_type": "markdown",
   "id": "1b98fdb6",
   "metadata": {},
   "source": [
    "# OK we need to scrape the UFC odds pages going back to the 2/27/21 event."
   ]
  },
  {
   "cell_type": "code",
   "execution_count": 1,
   "id": "04a257f6",
   "metadata": {},
   "outputs": [],
   "source": [
    "#When we go to an event that doesn't exist it's going to take us to the landing page."
   ]
  },
  {
   "cell_type": "code",
   "execution_count": 2,
   "id": "a33e53c9",
   "metadata": {},
   "outputs": [],
   "source": [
    "import pandas as pd\n",
    "from urllib.request import urlopen\n",
    "from bs4 import BeautifulSoup\n",
    "from datetime import datetime\n",
    "from dateutil.parser import parse"
   ]
  },
  {
   "cell_type": "code",
   "execution_count": 3,
   "id": "b3530714",
   "metadata": {},
   "outputs": [],
   "source": [
    "#OK this isn't going to work like I wanted it to.  We need to just make a list of the pages\n",
    "year = 2021\n",
    "scrape_list = [\n",
    "    'https://www.bestfightodds.com/events/ufc-fight-night-189-rozenstruik-vs-sakai-2108',\n",
    "\n",
    "]\n",
    "#Even if we only have one item in the list it shouldn't break the code below\n"
   ]
  },
  {
   "cell_type": "code",
   "execution_count": 4,
   "id": "539e38eb",
   "metadata": {},
   "outputs": [
    {
     "data": {
      "text/plain": [
       "'https://www.bestfightodds.com/events/ufc-fight-night-189-rozenstruik-vs-sakai-2108'"
      ]
     },
     "execution_count": 4,
     "metadata": {},
     "output_type": "execute_result"
    }
   ],
   "source": [
    "scrape_list[0]"
   ]
  },
  {
   "cell_type": "code",
   "execution_count": 5,
   "id": "811a274b",
   "metadata": {},
   "outputs": [
    {
     "name": "stdout",
     "output_type": "stream",
     "text": [
      "Writing 2021-06-05\n"
     ]
    }
   ],
   "source": [
    "\n",
    "for f in scrape_list:\n",
    "\n",
    "    html = urlopen(f)\n",
    "    bs = BeautifulSoup(html.read(), 'html.parser')\n",
    "    raw_date = bs.find('span', {'class':'table-header-date'})\n",
    "    raw_date = raw_date.get_text().strip()\n",
    "    #print(raw_date)\n",
    "    combined_date = raw_date + \" \" + str(year)\n",
    "    #print(combined_date)\n",
    "\n",
    "    #Smart enought to give us a date\n",
    "    parsed_date = str(parse(combined_date)).split(' ')[0]\n",
    "\n",
    "    print(f\"Writing {parsed_date}\")\n",
    "    with open(f'odds_pages/{parsed_date}.html', 'w', encoding='utf-8') as file:\n",
    "        file.write(str(bs))\n"
   ]
  },
  {
   "cell_type": "code",
   "execution_count": null,
   "id": "2417b3ce",
   "metadata": {},
   "outputs": [],
   "source": []
  },
  {
   "cell_type": "code",
   "execution_count": null,
   "id": "046f5ea3",
   "metadata": {},
   "outputs": [],
   "source": []
  }
 ],
 "metadata": {
  "kernelspec": {
   "display_name": "Python 3",
   "language": "python",
   "name": "python3"
  },
  "language_info": {
   "codemirror_mode": {
    "name": "ipython",
    "version": 3
   },
   "file_extension": ".py",
   "mimetype": "text/x-python",
   "name": "python",
   "nbconvert_exporter": "python",
   "pygments_lexer": "ipython3",
   "version": "3.7.9"
  }
 },
 "nbformat": 4,
 "nbformat_minor": 5
}
