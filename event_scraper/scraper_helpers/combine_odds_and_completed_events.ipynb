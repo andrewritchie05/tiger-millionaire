{
 "cells": [
  {
   "cell_type": "code",
   "execution_count": null,
   "id": "21df3a8d",
   "metadata": {},
   "outputs": [],
   "source": [
    "#OK we are going to combine odds and fights"
   ]
  },
  {
   "cell_type": "code",
   "execution_count": 1,
   "id": "4c9359e5",
   "metadata": {},
   "outputs": [],
   "source": [
    "import pandas as pd\n",
    "from urllib.request import urlopen\n",
    "from bs4 import BeautifulSoup\n",
    "from datetime import datetime"
   ]
  },
  {
   "cell_type": "code",
   "execution_count": 2,
   "id": "78b72b82",
   "metadata": {},
   "outputs": [],
   "source": [
    "event_file = 'scraper_helpers/scraped_event_with_ranks.csv'"
   ]
  },
  {
   "cell_type": "code",
   "execution_count": 3,
   "id": "muslim-class",
   "metadata": {},
   "outputs": [
    {
     "name": "stdout",
     "output_type": "stream",
     "text": [
      "IS UPCOMING?\n"
     ]
    },
    {
     "ename": "NameError",
     "evalue": "name 'is_upcoming' is not defined",
     "output_type": "error",
     "traceback": [
      "\u001b[1;31m---------------------------------------------------------------------------\u001b[0m",
      "\u001b[1;31mNameError\u001b[0m                                 Traceback (most recent call last)",
      "\u001b[1;32m<ipython-input-3-263b581a61c9>\u001b[0m in \u001b[0;36m<module>\u001b[1;34m\u001b[0m\n\u001b[0;32m      1\u001b[0m \u001b[0mprint\u001b[0m\u001b[1;33m(\u001b[0m\u001b[1;34m\"IS UPCOMING?\"\u001b[0m\u001b[1;33m)\u001b[0m\u001b[1;33m\u001b[0m\u001b[1;33m\u001b[0m\u001b[0m\n\u001b[1;32m----> 2\u001b[1;33m \u001b[0mprint\u001b[0m\u001b[1;33m(\u001b[0m\u001b[0mis_upcoming\u001b[0m\u001b[1;33m)\u001b[0m\u001b[1;33m\u001b[0m\u001b[1;33m\u001b[0m\u001b[0m\n\u001b[0m",
      "\u001b[1;31mNameError\u001b[0m: name 'is_upcoming' is not defined"
     ]
    }
   ],
   "source": [
    "print(\"IS UPCOMING?\")\n",
    "print(is_upcoming)"
   ]
  },
  {
   "cell_type": "code",
   "execution_count": null,
   "id": "232be833",
   "metadata": {},
   "outputs": [],
   "source": [
    "df = pd.read_csv(event_file)"
   ]
  },
  {
   "cell_type": "code",
   "execution_count": null,
   "id": "7cee56ab",
   "metadata": {},
   "outputs": [],
   "source": [
    "d = df['date'].iloc[0]"
   ]
  },
  {
   "cell_type": "code",
   "execution_count": null,
   "id": "dd42d934",
   "metadata": {},
   "outputs": [],
   "source": [
    "d"
   ]
  },
  {
   "cell_type": "code",
   "execution_count": null,
   "id": "d9b55cdd",
   "metadata": {},
   "outputs": [],
   "source": [
    "odds_file = 'odds_pages/'+str(d)+'.html'"
   ]
  },
  {
   "cell_type": "code",
   "execution_count": null,
   "id": "a95d5846",
   "metadata": {},
   "outputs": [],
   "source": [
    "odds_file"
   ]
  },
  {
   "cell_type": "code",
   "execution_count": null,
   "id": "greenhouse-gathering",
   "metadata": {},
   "outputs": [],
   "source": [
    "#is_most_recent = True\n",
    "#is_upcoming = False\n",
    "#upcoming_odds_page = \"https://www.bestfightodds.com/events/ufc-on-espn-25-korean-zombie-vs-ige-2130\"\n"
   ]
  },
  {
   "cell_type": "code",
   "execution_count": null,
   "id": "68694647",
   "metadata": {},
   "outputs": [],
   "source": [
    "if is_upcoming or is_most_recent:\n",
    "    html = urlopen(upcoming_odds_page)\n",
    "else:\n",
    "    html = open(odds_file, encoding='utf-8')"
   ]
  },
  {
   "cell_type": "code",
   "execution_count": null,
   "id": "5bd0300a",
   "metadata": {},
   "outputs": [],
   "source": [
    "bs = BeautifulSoup(html.read(), 'html.parser')"
   ]
  },
  {
   "cell_type": "code",
   "execution_count": null,
   "id": "11b1fba0",
   "metadata": {},
   "outputs": [],
   "source": [
    "#Let's grab the odds table?\n",
    "odds_table = bs.find_all('table', {'class':'odds-table'})"
   ]
  },
  {
   "cell_type": "code",
   "execution_count": null,
   "id": "141d0f05",
   "metadata": {},
   "outputs": [],
   "source": [
    "len(odds_table)"
   ]
  },
  {
   "cell_type": "code",
   "execution_count": null,
   "id": "ff47842d",
   "metadata": {},
   "outputs": [],
   "source": [
    "odds_table[1]"
   ]
  },
  {
   "cell_type": "code",
   "execution_count": null,
   "id": "ef622908",
   "metadata": {},
   "outputs": [],
   "source": [
    "all_rows = odds_table[1].find_all('tr')"
   ]
  },
  {
   "cell_type": "code",
   "execution_count": null,
   "id": "00dfcdc7",
   "metadata": {},
   "outputs": [],
   "source": [
    "#OK..... Let's get 2 lists.  Red fighters, and blue fighters\n",
    "red_fighter_list = df['R_fighter'].values\n",
    "blue_fighter_list = df['B_fighter'].values"
   ]
  },
  {
   "cell_type": "code",
   "execution_count": null,
   "id": "thermal-sullivan",
   "metadata": {},
   "outputs": [],
   "source": [
    "red_odds_list = [None] * len(red_fighter_list)\n",
    "blue_odds_list = [None] * len(red_fighter_list)"
   ]
  },
  {
   "cell_type": "code",
   "execution_count": null,
   "id": "applicable-coalition",
   "metadata": {},
   "outputs": [],
   "source": [
    "#all_rows[1]"
   ]
  },
  {
   "cell_type": "code",
   "execution_count": null,
   "id": "growing-generic",
   "metadata": {
    "scrolled": true
   },
   "outputs": [],
   "source": [
    "for n in range(len(red_fighter_list)):\n",
    "    #print(red_fighter_list[n])\n",
    "    for r in all_rows:\n",
    "        if str(r).find(str(red_fighter_list[n])) > -1:\n",
    "            print(r)\n",
    "            #OK.... It looks like it's going to be the 2nd span....\n",
    "            temp_odds = r.find_all('td')[2].find('span')\n",
    "            if temp_odds is not None:\n",
    "                temp_odds = temp_odds.get_text().strip()\n",
    "            red_odds_list[n] = (temp_odds)\n",
    "            break\n",
    "            \n",
    "for n in range(len(blue_fighter_list)):\n",
    "    #print(red_fighter_list[n])\n",
    "    for r in all_rows:\n",
    "        if str(r).find(str(blue_fighter_list[n])) > -1:\n",
    "            #OK.... It looks like it's going to be the 2nd span....\n",
    "            temp_odds = r.find_all('td')[2].find('span')\n",
    "            if temp_odds is not None:\n",
    "                temp_odds = temp_odds.get_text().strip()\n",
    "            blue_odds_list[n] = (temp_odds)\n",
    "            break\n"
   ]
  },
  {
   "cell_type": "code",
   "execution_count": null,
   "id": "supreme-american",
   "metadata": {},
   "outputs": [],
   "source": [
    "r_ev_list = []\n",
    "b_ev_list = []\n",
    "for r in red_odds_list:\n",
    "    if r is not None:\n",
    "        if int(r) > 0:\n",
    "            r_ev_list.append(r)\n",
    "        else:\n",
    "            r_ev_list.append(-(100/int(r)) * 100)\n",
    "    else:\n",
    "        r_ev_list.append(None)\n",
    "        \n",
    "for b in blue_odds_list:\n",
    "    if b is not None: \n",
    "        if int(b) > 0:\n",
    "            b_ev_list.append(b)\n",
    "        else:\n",
    "            b_ev_list.append(-(100/int(b)) * 100)       \n",
    "    else:\n",
    "        b_ev_list.append(None)"
   ]
  },
  {
   "cell_type": "code",
   "execution_count": null,
   "id": "desperate-romania",
   "metadata": {},
   "outputs": [],
   "source": [
    "print(b_ev_list)"
   ]
  },
  {
   "cell_type": "code",
   "execution_count": null,
   "id": "designed-chest",
   "metadata": {},
   "outputs": [],
   "source": [
    "total_odds_list = zip(red_fighter_list, blue_fighter_list, red_odds_list, blue_odds_list, r_ev_list, b_ev_list)"
   ]
  },
  {
   "cell_type": "code",
   "execution_count": null,
   "id": "musical-enterprise",
   "metadata": {},
   "outputs": [],
   "source": [
    "for r_fighter, b_fighter, r_odds, b_odds, r_ev, b_ev in total_odds_list:\n",
    "    print(r_odds)\n",
    "    df.loc[df.R_fighter == r_fighter, ['R_odds', 'B_odds', 'R_ev', 'B_ev']] = (r_odds), (b_odds), (r_ev), (b_ev)\n",
    "    \n"
   ]
  },
  {
   "cell_type": "code",
   "execution_count": null,
   "id": "sixth-subsection",
   "metadata": {},
   "outputs": [],
   "source": [
    "df"
   ]
  },
  {
   "cell_type": "code",
   "execution_count": null,
   "id": "known-imagination",
   "metadata": {},
   "outputs": [],
   "source": [
    "master_df = pd.read_csv('../data/kaggle_data/ufc-master.csv')"
   ]
  },
  {
   "cell_type": "code",
   "execution_count": null,
   "id": "marked-million",
   "metadata": {},
   "outputs": [],
   "source": [
    "master_df"
   ]
  },
  {
   "cell_type": "code",
   "execution_count": null,
   "id": "future-restriction",
   "metadata": {},
   "outputs": [],
   "source": [
    "df"
   ]
  },
  {
   "cell_type": "code",
   "execution_count": null,
   "id": "twelve-investment",
   "metadata": {},
   "outputs": [],
   "source": [
    "if is_upcoming:\n",
    "    df['Winner'] = ''\n",
    "    #df.to_csv('upcoming-event.csv' , index=False)\n",
    "    df.to_csv('../data/kaggle_data/upcoming-event.csv', index=False)\n",
    "    print(\"saved upcoming event\")\n",
    "elif is_most_recent:\n",
    "    df.to_csv('../data/kaggle_data/most-recent-event.csv' , index=False)   \n",
    "    temp_df = df.append(master_df)\n",
    "    #temp_df.to_csv('ufc-master.csv', index=False)\n",
    "    temp_df.to_csv('../data/kaggle_data/ufc-master.csv', index=False)    \n",
    "else:\n",
    "    temp_df = df.append(master_df)\n",
    "    #temp_df.to_csv('ufc-master.csv', index=False)\n",
    "    temp_df.to_csv('../data/kaggle_data/ufc-master.csv', index=False)"
   ]
  },
  {
   "cell_type": "code",
   "execution_count": null,
   "id": "delayed-robin",
   "metadata": {
    "scrolled": false
   },
   "outputs": [],
   "source": [
    "temp_df"
   ]
  },
  {
   "cell_type": "code",
   "execution_count": null,
   "id": "delayed-brick",
   "metadata": {},
   "outputs": [],
   "source": [
    "\n",
    "\n"
   ]
  },
  {
   "cell_type": "code",
   "execution_count": null,
   "id": "ceramic-argument",
   "metadata": {},
   "outputs": [],
   "source": []
  }
 ],
 "metadata": {
  "kernelspec": {
   "display_name": "Python 3",
   "language": "python",
   "name": "python3"
  },
  "language_info": {
   "codemirror_mode": {
    "name": "ipython",
    "version": 3
   },
   "file_extension": ".py",
   "mimetype": "text/x-python",
   "name": "python",
   "nbconvert_exporter": "python",
   "pygments_lexer": "ipython3",
   "version": "3.8.8"
  }
 },
 "nbformat": 4,
 "nbformat_minor": 5
}
